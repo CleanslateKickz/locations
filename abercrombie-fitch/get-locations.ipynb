{
 "cells": [
  {
   "cell_type": "markdown",
   "id": "383b75b3-5d51-4f71-a50a-e422b712dad4",
   "metadata": {},
   "source": [
    "# Get Abercrombie & Fitch locations"
   ]
  },
  {
   "cell_type": "markdown",
   "id": "9770abcd-7800-4ebd-bd56-bb6fe599e77a",
   "metadata": {},
   "source": [
    "#### Load Python tools and Jupyter config"
   ]
  },
  {
   "cell_type": "code",
   "execution_count": 1,
   "id": "8e1dc6c1-5813-4ebd-b495-1acbf1d09356",
   "metadata": {},
   "outputs": [],
   "source": [
    "import re\n",
    "import us\n",
    "import json\n",
    "import requests\n",
    "import numpy as np\n",
    "import pandas as pd\n",
    "import jupyter_black\n",
    "import altair as alt\n",
    "import geopandas as gpd\n",
    "from vega_datasets import data\n",
    "from tqdm.notebook import tqdm, trange"
   ]
  },
  {
   "cell_type": "code",
   "execution_count": 2,
   "id": "64608f29-5f5d-48bd-8e4f-78f933110475",
   "metadata": {},
   "outputs": [],
   "source": [
    "pd.options.display.max_rows = 1000\n",
    "pd.options.display.max_columns = 1000\n",
    "pd.options.display.max_colwidth = None"
   ]
  },
  {
   "cell_type": "code",
   "execution_count": 3,
   "id": "1e9f08a8-5ff6-4e15-ae00-a809a0bd7bea",
   "metadata": {},
   "outputs": [],
   "source": [
    "place_formal = 'Abercrombie & Fitch'\n",
    "place = 'abercrombie fitch'\n",
    "color = '#6e3d47'"
   ]
  },
  {
   "cell_type": "markdown",
   "id": "b3f197d1-edae-4178-9ec5-45bac3ec7795",
   "metadata": {},
   "source": [
    "## Read data"
   ]
  },
  {
   "cell_type": "markdown",
   "id": "06b25a10-2ca1-441c-a136-b4784d6ab5f4",
   "metadata": {},
   "source": [
    "#### Snag a list of ZIP Codes"
   ]
  },
  {
   "cell_type": "code",
   "execution_count": 4,
   "id": "21243750-2b75-4df4-b887-a78bf5899af5",
   "metadata": {},
   "outputs": [],
   "source": [
    "zips = gpd.read_file(\"../_reference/data/zips_centroids.geojson\")"
   ]
  },
  {
   "cell_type": "code",
   "execution_count": 5,
   "id": "acc28011-2300-4a22-b9b9-474b028ec001",
   "metadata": {},
   "outputs": [],
   "source": [
    "zips['latitude'] = zips.geometry.y\n",
    "zips['longitude'] = zips.geometry.x"
   ]
  },
  {
   "cell_type": "code",
   "execution_count": 6,
   "id": "a06b5355-552b-4726-9155-6610cdfba916",
   "metadata": {},
   "outputs": [],
   "source": [
    "zips.columns = zips.columns.str.lower()"
   ]
  },
  {
   "cell_type": "code",
   "execution_count": 7,
   "id": "a501b949-45ec-47a8-8bd2-e442991b62f3",
   "metadata": {},
   "outputs": [],
   "source": [
    "zips_slim = (\n",
    "    (\n",
    "        zips[[\"id\", \"longitude\", \"latitude\", \"name\", \"state_name\", \"totpop_cy\"]]\n",
    "        .drop_duplicates()\n",
    "        .copy()\n",
    "    )\n",
    "    .sort_values(\"totpop_cy\", ascending=False)\n",
    "    .reset_index(drop=True).rename(columns={'totpop_cy': 'population'})\n",
    ")"
   ]
  },
  {
   "cell_type": "markdown",
   "id": "33d3c732-0e80-4de1-9a5c-eb90f4ec5b88",
   "metadata": {},
   "source": [
    "#### Loop through the list to set a search radius in each state (takes ~20 mins)"
   ]
  },
  {
   "cell_type": "code",
   "execution_count": 8,
   "id": "4d36e295-7808-44e2-ab51-43af7f9f7019",
   "metadata": {},
   "outputs": [],
   "source": [
    "headers = {\n",
    "    \"authority\": \"www.abercrombie.com\",\n",
    "    \"accept\": \"application/json, text/javascript, */*; q=0.01\",\n",
    "    \"user-agent\": \"Mozilla/5.0 (Macintosh; Intel Mac OS X 10_15_7) AppleWebKit/537.36 (KHTML, like Gecko) Chrome/120.0.0.0 Safari/537.36\",\n",
    "}"
   ]
  },
  {
   "cell_type": "code",
   "execution_count": 9,
   "id": "22dad62e-8a24-4d68-80bf-9e285ca29f8f",
   "metadata": {},
   "outputs": [],
   "source": [
    "data_list = []\n",
    "\n",
    "for index, row in zips_slim.head(500).iterrows():\n",
    "    lat_value = round(row[\"latitude\"], 5)\n",
    "    long_value = round(row[\"longitude\"], 5)\n",
    "\n",
    "    params = {\n",
    "        \"country\": \"US\",\n",
    "        \"latitude\": f\"{lat_value}\",\n",
    "        \"longitude\": f\"{long_value}\",\n",
    "        \"radius\": \"100\",\n",
    "        \"radiusUOM\": \"SMI\",\n",
    "    }\n",
    "\n",
    "    response = requests.get(\n",
    "        \"https://www.abercrombie.com/api/ecomm/a-us/storelocator/search\",\n",
    "        params=params,\n",
    "        headers=headers,\n",
    "    )\n",
    "\n",
    "    responses = response.json()[\"physicalStores\"]\n",
    "    for r in responses:\n",
    "        responses_dict = {\n",
    "            \"storeNumber\": r[\"storeNumber\"],\n",
    "            \"name\": r[\"name\"],\n",
    "            \"address\": r[\"addressLine\"][0],\n",
    "            \"city\": r[\"city\"],\n",
    "            \"state\": r[\"stateOrProvinceName\"],\n",
    "            \"zip\": r[\"postalCode\"],\n",
    "            \"phone\": r[\"telephone\"],\n",
    "            \"latitude\": r[\"latitude\"],\n",
    "            \"longitude\": r[\"longitude\"],\n",
    "            \"etc\": r[\"physicalStoreAttribute\"],\n",
    "        }\n",
    "        data_list.append(responses_dict)"
   ]
  },
  {
   "cell_type": "code",
   "execution_count": 10,
   "id": "b8c2ae3b-1cfe-4ca1-9a13-109f0ec63311",
   "metadata": {},
   "outputs": [],
   "source": [
    "src = pd.DataFrame(data_list)"
   ]
  },
  {
   "cell_type": "markdown",
   "id": "f2aedebb-8046-48bd-9755-6f43ed23781b",
   "metadata": {},
   "source": [
    "#### Explode the nested list in the `etc` attribute column"
   ]
  },
  {
   "cell_type": "code",
   "execution_count": 11,
   "id": "0ca7dba7-d18d-48ba-a22b-2dfdca3f5792",
   "metadata": {},
   "outputs": [],
   "source": [
    "data_ = src[\"etc\"].apply(lambda x: [x])\n",
    "flat_df = pd.json_normalize(data_.explode(), sep=\"_\")\n",
    "result_df = pd.concat([src, flat_df], axis=1).drop(columns=\"etc\")"
   ]
  },
  {
   "cell_type": "markdown",
   "id": "363861b0-8a98-4431-bda3-1e6509aa3949",
   "metadata": {},
   "source": [
    "#### Extract a couple values from it"
   ]
  },
  {
   "cell_type": "code",
   "execution_count": 12,
   "id": "ac161863-833d-4fb5-a6e0-21482a07d8a7",
   "metadata": {},
   "outputs": [],
   "source": [
    "result_df[\"brand\"] = pd.json_normalize(result_df[7])[\"value\"]\n",
    "result_df[\"open_date\"] = pd.to_datetime(pd.json_normalize(result_df[10])[\"value\"])"
   ]
  },
  {
   "cell_type": "markdown",
   "id": "06896861-06d7-4752-876d-c685fcd857ed",
   "metadata": {},
   "source": [
    "#### Clean dataframe"
   ]
  },
  {
   "cell_type": "code",
   "execution_count": 13,
   "id": "9dc040c8-41c0-4bf0-9d0f-07e2a4221536",
   "metadata": {},
   "outputs": [],
   "source": [
    "df = result_df[\n",
    "    [\n",
    "        \"storeNumber\",\n",
    "        \"name\",\n",
    "        \"address\",\n",
    "        \"city\",\n",
    "        \"state\",\n",
    "        \"zip\",\n",
    "        \"phone\",\n",
    "        \"latitude\",\n",
    "        \"longitude\",\n",
    "        \"brand\",\n",
    "        \"open_date\",\n",
    "    ]\n",
    "].copy()"
   ]
  },
  {
   "cell_type": "code",
   "execution_count": 14,
   "id": "fc15da0c-1340-4e4f-be15-23e0c7bd3c1b",
   "metadata": {},
   "outputs": [
    {
     "data": {
      "text/html": [
       "<div>\n",
       "<style scoped>\n",
       "    .dataframe tbody tr th:only-of-type {\n",
       "        vertical-align: middle;\n",
       "    }\n",
       "\n",
       "    .dataframe tbody tr th {\n",
       "        vertical-align: top;\n",
       "    }\n",
       "\n",
       "    .dataframe thead th {\n",
       "        text-align: right;\n",
       "    }\n",
       "</style>\n",
       "<table border=\"1\" class=\"dataframe\">\n",
       "  <thead>\n",
       "    <tr style=\"text-align: right;\">\n",
       "      <th></th>\n",
       "      <th>storeNumber</th>\n",
       "      <th>name</th>\n",
       "      <th>address</th>\n",
       "      <th>city</th>\n",
       "      <th>state</th>\n",
       "      <th>zip</th>\n",
       "      <th>phone</th>\n",
       "      <th>latitude</th>\n",
       "      <th>longitude</th>\n",
       "      <th>brand</th>\n",
       "      <th>open_date</th>\n",
       "    </tr>\n",
       "  </thead>\n",
       "  <tbody>\n",
       "    <tr>\n",
       "      <th>0</th>\n",
       "      <td>11284</td>\n",
       "      <td>Katy Mills Mega Outlet</td>\n",
       "      <td>5000 Katy Mills Circle</td>\n",
       "      <td>Katy</td>\n",
       "      <td>TX</td>\n",
       "      <td>77494</td>\n",
       "      <td>281-644-4778</td>\n",
       "      <td>29.77574</td>\n",
       "      <td>-95.80937</td>\n",
       "      <td>ACF</td>\n",
       "      <td>2012-11-08</td>\n",
       "    </tr>\n",
       "    <tr>\n",
       "      <th>1</th>\n",
       "      <td>21284</td>\n",
       "      <td>Katy Mills Mega Outlet</td>\n",
       "      <td>5000 Katy Mills Circle</td>\n",
       "      <td>Katy</td>\n",
       "      <td>TX</td>\n",
       "      <td>77494</td>\n",
       "      <td>281-644-4778</td>\n",
       "      <td>29.77574</td>\n",
       "      <td>-95.80937</td>\n",
       "      <td>KID</td>\n",
       "      <td>2012-11-08</td>\n",
       "    </tr>\n",
       "    <tr>\n",
       "      <th>2</th>\n",
       "      <td>10450</td>\n",
       "      <td>Memorial City</td>\n",
       "      <td>303 Memorial City Mall, Suite 774</td>\n",
       "      <td>Houston</td>\n",
       "      <td>TX</td>\n",
       "      <td>77024</td>\n",
       "      <td>713-827-1770</td>\n",
       "      <td>29.78214</td>\n",
       "      <td>-95.53878</td>\n",
       "      <td>ACF</td>\n",
       "      <td>2001-11-15</td>\n",
       "    </tr>\n",
       "    <tr>\n",
       "      <th>3</th>\n",
       "      <td>21114</td>\n",
       "      <td>Memorial City</td>\n",
       "      <td>303 Memorial City Mall, Ste 204</td>\n",
       "      <td>Houston</td>\n",
       "      <td>TX</td>\n",
       "      <td>77024</td>\n",
       "      <td>281-605-1022</td>\n",
       "      <td>29.78214</td>\n",
       "      <td>-95.53878</td>\n",
       "      <td>KID</td>\n",
       "      <td>2020-05-27</td>\n",
       "    </tr>\n",
       "    <tr>\n",
       "      <th>4</th>\n",
       "      <td>10401</td>\n",
       "      <td>Willowbrook</td>\n",
       "      <td>1480 Willowbrook Mall</td>\n",
       "      <td>Houston</td>\n",
       "      <td>TX</td>\n",
       "      <td>77070</td>\n",
       "      <td>832-237-9700</td>\n",
       "      <td>29.96079</td>\n",
       "      <td>-95.54732</td>\n",
       "      <td>ACF</td>\n",
       "      <td>2001-09-06</td>\n",
       "    </tr>\n",
       "  </tbody>\n",
       "</table>\n",
       "</div>"
      ],
      "text/plain": [
       "  storeNumber                    name                            address  \\\n",
       "0       11284  Katy Mills Mega Outlet             5000 Katy Mills Circle   \n",
       "1       21284  Katy Mills Mega Outlet             5000 Katy Mills Circle   \n",
       "2       10450           Memorial City  303 Memorial City Mall, Suite 774   \n",
       "3       21114           Memorial City    303 Memorial City Mall, Ste 204   \n",
       "4       10401             Willowbrook              1480 Willowbrook Mall   \n",
       "\n",
       "      city state    zip         phone  latitude  longitude brand  open_date  \n",
       "0     Katy    TX  77494  281-644-4778  29.77574  -95.80937   ACF 2012-11-08  \n",
       "1     Katy    TX  77494  281-644-4778  29.77574  -95.80937   KID 2012-11-08  \n",
       "2  Houston    TX  77024  713-827-1770  29.78214  -95.53878   ACF 2001-11-15  \n",
       "3  Houston    TX  77024  281-605-1022  29.78214  -95.53878   KID 2020-05-27  \n",
       "4  Houston    TX  77070  832-237-9700  29.96079  -95.54732   ACF 2001-09-06  "
      ]
     },
     "execution_count": 14,
     "metadata": {},
     "output_type": "execute_result"
    }
   ],
   "source": [
    "df.head()"
   ]
  },
  {
   "cell_type": "markdown",
   "id": "1e51dc88-b72d-40ca-947e-7e2a5de13ad8",
   "metadata": {},
   "source": [
    "#### There are many dupes"
   ]
  },
  {
   "cell_type": "code",
   "execution_count": 15,
   "id": "b3054464-6112-42e1-91bf-5d155b8d6328",
   "metadata": {},
   "outputs": [],
   "source": [
    "df = df.drop_duplicates(subset=\"storeNumber\")"
   ]
  },
  {
   "cell_type": "code",
   "execution_count": 16,
   "id": "edcefc39-96b7-4019-9e4e-6f6ad865840e",
   "metadata": {},
   "outputs": [
    {
     "data": {
      "text/plain": [
       "221"
      ]
     },
     "execution_count": 16,
     "metadata": {},
     "output_type": "execute_result"
    }
   ],
   "source": [
    "len(df)"
   ]
  },
  {
   "cell_type": "markdown",
   "id": "96c905b1-8f19-4c6e-89e8-933155553c2b",
   "metadata": {},
   "source": [
    "#### Get full state names from abbreviations"
   ]
  },
  {
   "cell_type": "code",
   "execution_count": 17,
   "id": "73584c6b-fe98-4cdf-ae46-69cf260aeac9",
   "metadata": {},
   "outputs": [],
   "source": [
    "state_mapping = {state.abbr: state.name for state in us.states.STATES}\n",
    "df['state_name'] = df['state'].map(state_mapping)"
   ]
  },
  {
   "cell_type": "markdown",
   "id": "c3e9f2d0-5785-49b8-a1f7-11fc8e788df3",
   "metadata": {},
   "source": [
    "#### Sometimes there are differently branded stores at same location (KID vs. ACF), [like these two](https://www.abercrombie.com/shop/StoreLocator?storeId=10051&catalogId=10901&langId=-1), not dupes"
   ]
  },
  {
   "cell_type": "code",
   "execution_count": 18,
   "id": "2e321bb9-3d1b-4ae2-9824-79ce2f2de7f6",
   "metadata": {},
   "outputs": [
    {
     "data": {
      "text/html": [
       "<div>\n",
       "<style scoped>\n",
       "    .dataframe tbody tr th:only-of-type {\n",
       "        vertical-align: middle;\n",
       "    }\n",
       "\n",
       "    .dataframe tbody tr th {\n",
       "        vertical-align: top;\n",
       "    }\n",
       "\n",
       "    .dataframe thead th {\n",
       "        text-align: right;\n",
       "    }\n",
       "</style>\n",
       "<table border=\"1\" class=\"dataframe\">\n",
       "  <thead>\n",
       "    <tr style=\"text-align: right;\">\n",
       "      <th></th>\n",
       "      <th>storeNumber</th>\n",
       "      <th>name</th>\n",
       "      <th>address</th>\n",
       "      <th>city</th>\n",
       "      <th>state</th>\n",
       "      <th>zip</th>\n",
       "      <th>phone</th>\n",
       "      <th>latitude</th>\n",
       "      <th>longitude</th>\n",
       "      <th>brand</th>\n",
       "      <th>open_date</th>\n",
       "      <th>state_name</th>\n",
       "    </tr>\n",
       "  </thead>\n",
       "  <tbody>\n",
       "    <tr>\n",
       "      <th>30</th>\n",
       "      <td>11278</td>\n",
       "      <td>Gurnee Mills Outlet</td>\n",
       "      <td>6170 W. Grand Avenue</td>\n",
       "      <td>Gurnee</td>\n",
       "      <td>IL</td>\n",
       "      <td>60031</td>\n",
       "      <td>847-855-2819</td>\n",
       "      <td>42.38481</td>\n",
       "      <td>-87.95502</td>\n",
       "      <td>ACF</td>\n",
       "      <td>2012-11-08</td>\n",
       "      <td>Illinois</td>\n",
       "    </tr>\n",
       "    <tr>\n",
       "      <th>31</th>\n",
       "      <td>21278</td>\n",
       "      <td>Gurnee Mills Outlet</td>\n",
       "      <td>6170 W. Grand Avenue</td>\n",
       "      <td>Gurnee</td>\n",
       "      <td>IL</td>\n",
       "      <td>60031</td>\n",
       "      <td>847-855-2819</td>\n",
       "      <td>42.38481</td>\n",
       "      <td>-87.95502</td>\n",
       "      <td>KID</td>\n",
       "      <td>2012-11-08</td>\n",
       "      <td>Illinois</td>\n",
       "    </tr>\n",
       "  </tbody>\n",
       "</table>\n",
       "</div>"
      ],
      "text/plain": [
       "   storeNumber                 name               address    city state  \\\n",
       "30       11278  Gurnee Mills Outlet  6170 W. Grand Avenue  Gurnee    IL   \n",
       "31       21278  Gurnee Mills Outlet  6170 W. Grand Avenue  Gurnee    IL   \n",
       "\n",
       "      zip         phone  latitude  longitude brand  open_date state_name  \n",
       "30  60031  847-855-2819  42.38481  -87.95502   ACF 2012-11-08   Illinois  \n",
       "31  60031  847-855-2819  42.38481  -87.95502   KID 2012-11-08   Illinois  "
      ]
     },
     "execution_count": 18,
     "metadata": {},
     "output_type": "execute_result"
    }
   ],
   "source": [
    "df[df[\"address\"] == \"6170 W. Grand Avenue\"]"
   ]
  },
  {
   "cell_type": "markdown",
   "id": "bc0d86cc-6a85-45a2-9814-bbb224276abd",
   "metadata": {},
   "source": [
    "---"
   ]
  },
  {
   "cell_type": "markdown",
   "id": "b7882729-d675-4043-954c-879afff4aba9",
   "metadata": {},
   "source": [
    "## Aggregate"
   ]
  },
  {
   "cell_type": "markdown",
   "id": "4242f3e3-d127-428b-96bc-1ab1da43c666",
   "metadata": {},
   "source": [
    "#### Counts by city"
   ]
  },
  {
   "cell_type": "code",
   "execution_count": 19,
   "id": "f3b6f067-d159-4ce3-9839-e6b805ed2798",
   "metadata": {},
   "outputs": [],
   "source": [
    "df_grouped = (\n",
    "    df.groupby([\"city\", \"state\"])\n",
    "    .agg({\"storeNumber\": \"count\"})\n",
    "    .reset_index()\n",
    "    .rename(columns={\"storeNumber\": \"count\"})\n",
    "    .sort_values(\"count\", ascending=False)\n",
    ").reset_index(drop=True)"
   ]
  },
  {
   "cell_type": "code",
   "execution_count": 20,
   "id": "fa23e490-460b-4725-8ea0-c53ad10fb46c",
   "metadata": {},
   "outputs": [
    {
     "data": {
      "text/html": [
       "<div>\n",
       "<style scoped>\n",
       "    .dataframe tbody tr th:only-of-type {\n",
       "        vertical-align: middle;\n",
       "    }\n",
       "\n",
       "    .dataframe tbody tr th {\n",
       "        vertical-align: top;\n",
       "    }\n",
       "\n",
       "    .dataframe thead th {\n",
       "        text-align: right;\n",
       "    }\n",
       "</style>\n",
       "<table border=\"1\" class=\"dataframe\">\n",
       "  <thead>\n",
       "    <tr style=\"text-align: right;\">\n",
       "      <th></th>\n",
       "      <th>city</th>\n",
       "      <th>state</th>\n",
       "      <th>count</th>\n",
       "    </tr>\n",
       "  </thead>\n",
       "  <tbody>\n",
       "    <tr>\n",
       "      <th>0</th>\n",
       "      <td>Miami</td>\n",
       "      <td>FL</td>\n",
       "      <td>5</td>\n",
       "    </tr>\n",
       "    <tr>\n",
       "      <th>1</th>\n",
       "      <td>New York</td>\n",
       "      <td>NY</td>\n",
       "      <td>4</td>\n",
       "    </tr>\n",
       "    <tr>\n",
       "      <th>2</th>\n",
       "      <td>Columbus</td>\n",
       "      <td>OH</td>\n",
       "      <td>4</td>\n",
       "    </tr>\n",
       "    <tr>\n",
       "      <th>3</th>\n",
       "      <td>Houston</td>\n",
       "      <td>TX</td>\n",
       "      <td>4</td>\n",
       "    </tr>\n",
       "    <tr>\n",
       "      <th>4</th>\n",
       "      <td>San Antonio</td>\n",
       "      <td>TX</td>\n",
       "      <td>4</td>\n",
       "    </tr>\n",
       "  </tbody>\n",
       "</table>\n",
       "</div>"
      ],
      "text/plain": [
       "          city state  count\n",
       "0        Miami    FL      5\n",
       "1     New York    NY      4\n",
       "2     Columbus    OH      4\n",
       "3      Houston    TX      4\n",
       "4  San Antonio    TX      4"
      ]
     },
     "execution_count": 20,
     "metadata": {},
     "output_type": "execute_result"
    }
   ],
   "source": [
    "df_grouped.head()"
   ]
  },
  {
   "cell_type": "markdown",
   "id": "e2db602b-0ee2-42a9-9e68-f8bd49a5a36e",
   "metadata": {},
   "source": [
    "---"
   ]
  },
  {
   "cell_type": "markdown",
   "id": "7c798c5e-e399-4717-b65b-a43fbac15e83",
   "metadata": {},
   "source": [
    "## Geography"
   ]
  },
  {
   "cell_type": "markdown",
   "id": "a1ceed99-d568-4cf1-8d2c-01f3df638a0e",
   "metadata": {},
   "source": [
    "#### Make a geodataframe from lon/lat"
   ]
  },
  {
   "cell_type": "code",
   "execution_count": 21,
   "id": "1044db04-ca70-4afa-bfdb-d7c5b29d2b12",
   "metadata": {},
   "outputs": [],
   "source": [
    "df_geo = df.copy()"
   ]
  },
  {
   "cell_type": "code",
   "execution_count": 22,
   "id": "2a540e1b-17ad-4c62-a4f7-1fc525e4f263",
   "metadata": {},
   "outputs": [],
   "source": [
    "gdf = gpd.GeoDataFrame(\n",
    "    df_geo, geometry=gpd.points_from_xy(df_geo.longitude, df_geo.latitude)\n",
    ").set_crs(\"epsg:4326\")"
   ]
  },
  {
   "cell_type": "markdown",
   "id": "fc3c80e2-6eaa-4a24-b8e1-de3e92695946",
   "metadata": {},
   "source": [
    "---"
   ]
  },
  {
   "cell_type": "markdown",
   "id": "f2f05707-12dc-4513-a630-3c671856c2d4",
   "metadata": {},
   "source": [
    "## Maps"
   ]
  },
  {
   "cell_type": "markdown",
   "id": "77e84f6e-6def-4ba9-942c-fe2dcf171824",
   "metadata": {},
   "source": [
    "#### US states background"
   ]
  },
  {
   "cell_type": "code",
   "execution_count": 23,
   "id": "8b827272-ae1c-4143-bd66-acdacf7678e3",
   "metadata": {},
   "outputs": [],
   "source": [
    "background = (\n",
    "    alt.Chart(alt.topo_feature(data.us_10m.url, feature=\"states\"))\n",
    "    .mark_geoshape(fill=\"#e9e9e9\", stroke=\"white\")\n",
    "    .properties(width=800, height=500, title=f\"{place_formal} locations\")\n",
    "    .project(\"albersUsa\")\n",
    ")"
   ]
  },
  {
   "cell_type": "markdown",
   "id": "6ab7ff02-9e46-4b36-a905-b4f7348c97fc",
   "metadata": {},
   "source": [
    "#### Location points map"
   ]
  },
  {
   "cell_type": "code",
   "execution_count": 24,
   "id": "5240c22e-f376-4e74-b258-067f0dd29f02",
   "metadata": {},
   "outputs": [
    {
     "data": {
      "text/html": [
       "\n",
       "<style>\n",
       "  #altair-viz-eb5410fae42c46b4bd1a6fb1b87a6dca.vega-embed {\n",
       "    width: 100%;\n",
       "    display: flex;\n",
       "  }\n",
       "\n",
       "  #altair-viz-eb5410fae42c46b4bd1a6fb1b87a6dca.vega-embed details,\n",
       "  #altair-viz-eb5410fae42c46b4bd1a6fb1b87a6dca.vega-embed details summary {\n",
       "    position: relative;\n",
       "  }\n",
       "</style>\n",
       "<div id=\"altair-viz-eb5410fae42c46b4bd1a6fb1b87a6dca\"></div>\n",
       "<script type=\"text/javascript\">\n",
       "  var VEGA_DEBUG = (typeof VEGA_DEBUG == \"undefined\") ? {} : VEGA_DEBUG;\n",
       "  (function(spec, embedOpt){\n",
       "    let outputDiv = document.currentScript.previousElementSibling;\n",
       "    if (outputDiv.id !== \"altair-viz-eb5410fae42c46b4bd1a6fb1b87a6dca\") {\n",
       "      outputDiv = document.getElementById(\"altair-viz-eb5410fae42c46b4bd1a6fb1b87a6dca\");\n",
       "    }\n",
       "    const paths = {\n",
       "      \"vega\": \"https://cdn.jsdelivr.net/npm/vega@5?noext\",\n",
       "      \"vega-lib\": \"https://cdn.jsdelivr.net/npm/vega-lib?noext\",\n",
       "      \"vega-lite\": \"https://cdn.jsdelivr.net/npm/vega-lite@5.16.3?noext\",\n",
       "      \"vega-embed\": \"https://cdn.jsdelivr.net/npm/vega-embed@6?noext\",\n",
       "    };\n",
       "\n",
       "    function maybeLoadScript(lib, version) {\n",
       "      var key = `${lib.replace(\"-\", \"\")}_version`;\n",
       "      return (VEGA_DEBUG[key] == version) ?\n",
       "        Promise.resolve(paths[lib]) :\n",
       "        new Promise(function(resolve, reject) {\n",
       "          var s = document.createElement('script');\n",
       "          document.getElementsByTagName(\"head\")[0].appendChild(s);\n",
       "          s.async = true;\n",
       "          s.onload = () => {\n",
       "            VEGA_DEBUG[key] = version;\n",
       "            return resolve(paths[lib]);\n",
       "          };\n",
       "          s.onerror = () => reject(`Error loading script: ${paths[lib]}`);\n",
       "          s.src = paths[lib];\n",
       "        });\n",
       "    }\n",
       "\n",
       "    function showError(err) {\n",
       "      outputDiv.innerHTML = `<div class=\"error\" style=\"color:red;\">${err}</div>`;\n",
       "      throw err;\n",
       "    }\n",
       "\n",
       "    function displayChart(vegaEmbed) {\n",
       "      vegaEmbed(outputDiv, spec, embedOpt)\n",
       "        .catch(err => showError(`Javascript Error: ${err.message}<br>This usually means there's a typo in your chart specification. See the javascript console for the full traceback.`));\n",
       "    }\n",
       "\n",
       "    if(typeof define === \"function\" && define.amd) {\n",
       "      requirejs.config({paths});\n",
       "      require([\"vega-embed\"], displayChart, err => showError(`Error loading script: ${err.message}`));\n",
       "    } else {\n",
       "      maybeLoadScript(\"vega\", \"5\")\n",
       "        .then(() => maybeLoadScript(\"vega-lite\", \"5.16.3\"))\n",
       "        .then(() => maybeLoadScript(\"vega-embed\", \"6\"))\n",
       "        .catch(showError)\n",
       "        .then(() => displayChart(vegaEmbed));\n",
       "    }\n",
       "  })({\"config\": {\"view\": {\"continuousWidth\": 300, \"continuousHeight\": 300, \"stroke\": null}}, \"layer\": [{\"data\": {\"url\": \"https://cdn.jsdelivr.net/npm/vega-datasets@v1.29.0/data/us-10m.json\", \"format\": {\"feature\": \"states\", \"type\": \"topojson\"}}, \"mark\": {\"type\": \"geoshape\", \"fill\": \"#e9e9e9\", \"stroke\": \"white\"}, \"projection\": {\"type\": \"albersUsa\"}, \"title\": \"Abercrombie & Fitch locations\"}, {\"data\": {\"name\": \"data-d3c9f4e75f056bc9512bcbf372df6978\"}, \"mark\": {\"type\": \"circle\", \"color\": \"#6e3d47\", \"size\": 10}, \"encoding\": {\"latitude\": {\"field\": \"latitude\", \"type\": \"quantitative\"}, \"longitude\": {\"field\": \"longitude\", \"type\": \"quantitative\"}}}], \"height\": 500, \"width\": 800, \"$schema\": \"https://vega.github.io/schema/vega-lite/v5.16.3.json\", \"datasets\": {\"data-d3c9f4e75f056bc9512bcbf372df6978\": [{\"storeNumber\": \"11284\", \"name\": \"Katy Mills Mega Outlet\", \"address\": \"5000 Katy Mills Circle\", \"city\": \"Katy\", \"state\": \"TX\", \"zip\": \"77494\", \"phone\": \"281-644-4778\", \"latitude\": 29.77574, \"longitude\": -95.80937, \"brand\": \"ACF\", \"open_date\": \"2012-11-08T00:00:00\", \"state_name\": \"Texas\"}, {\"storeNumber\": \"21284\", \"name\": \"Katy Mills Mega Outlet\", \"address\": \"5000 Katy Mills Circle\", \"city\": \"Katy\", \"state\": \"TX\", \"zip\": \"77494\", \"phone\": \"281-644-4778\", \"latitude\": 29.77574, \"longitude\": -95.80937, \"brand\": \"KID\", \"open_date\": \"2012-11-08T00:00:00\", \"state_name\": \"Texas\"}, {\"storeNumber\": \"10450\", \"name\": \"Memorial City\", \"address\": \"303 Memorial City Mall, Suite 774\", \"city\": \"Houston\", \"state\": \"TX\", \"zip\": \"77024\", \"phone\": \"713-827-1770\", \"latitude\": 29.78214, \"longitude\": -95.53878, \"brand\": \"ACF\", \"open_date\": \"2001-11-15T00:00:00\", \"state_name\": \"Texas\"}, {\"storeNumber\": \"21114\", \"name\": \"Memorial City\", \"address\": \"303 Memorial City Mall, Ste 204\", \"city\": \"Houston\", \"state\": \"TX\", \"zip\": \"77024\", \"phone\": \"281-605-1022\", \"latitude\": 29.78214, \"longitude\": -95.53878, \"brand\": \"KID\", \"open_date\": \"2020-05-27T00:00:00\", \"state_name\": \"Texas\"}, {\"storeNumber\": \"10401\", \"name\": \"Willowbrook\", \"address\": \"1480 Willowbrook Mall\", \"city\": \"Houston\", \"state\": \"TX\", \"zip\": \"77070\", \"phone\": \"832-237-9700\", \"latitude\": 29.96079, \"longitude\": -95.54732, \"brand\": \"ACF\", \"open_date\": \"2001-09-06T00:00:00\", \"state_name\": \"Texas\"}, {\"storeNumber\": \"21401\", \"name\": \"Willowbrook\", \"address\": \"1480 Willowbrook Mall\", \"city\": \"Houston\", \"state\": \"TX\", \"zip\": \"77070\", \"phone\": \"832-237-9700\", \"latitude\": 29.96079, \"longitude\": -95.54732, \"brand\": \"KID\", \"open_date\": \"2019-01-25T00:00:00\", \"state_name\": \"Texas\"}, {\"storeNumber\": \"11920\", \"name\": \"Woodlands\", \"address\": \"1201 Lake Woodlands Dr\", \"city\": \"The Woodlands\", \"state\": \"TX\", \"zip\": \"77380\", \"phone\": \"346-372-3964\", \"latitude\": 30.16253, \"longitude\": -95.45602, \"brand\": \"ACF\", \"open_date\": \"2022-11-04T00:00:00\", \"state_name\": \"Texas\"}, {\"storeNumber\": \"21638\", \"name\": \"Woodlands\", \"address\": \"1201 Lake Woodlands Drive\", \"city\": \"The Woodlands\", \"state\": \"TX\", \"zip\": \"77380\", \"phone\": \"346-786-3946\", \"latitude\": 30.16253, \"longitude\": -95.45602, \"brand\": \"KID\", \"open_date\": \"2022-08-05T00:00:00\", \"state_name\": \"Texas\"}, {\"storeNumber\": \"20185\", \"name\": \"Deerbrook\", \"address\": \"20131 Highway 59 North\", \"city\": \"Humble\", \"state\": \"TX\", \"zip\": \"77338\", \"phone\": \"281-446-1400\", \"latitude\": 30.01152, \"longitude\": -95.26857, \"brand\": \"KID\", \"open_date\": \"2008-05-08T00:00:00\", \"state_name\": \"Texas\"}, {\"storeNumber\": \"21144\", \"name\": \"Baybrook\", \"address\": \"1300 Baybrook Mall Drive\", \"city\": \"Friendswood\", \"state\": \"TX\", \"zip\": \"77546\", \"phone\": \"281-709-9312\", \"latitude\": 29.53955, \"longitude\": -95.1484, \"brand\": \"KID\", \"open_date\": \"2017-11-17T00:00:00\", \"state_name\": \"Texas\"}, {\"storeNumber\": \"11384\", \"name\": \"Baybrook\", \"address\": \"500 Baybrook Mall Dr\", \"city\": \"Friendswood\", \"state\": \"TX\", \"zip\": \"77546\", \"phone\": \"281-709-9506\", \"latitude\": 29.53955, \"longitude\": -95.14592, \"brand\": \"ACF\", \"open_date\": \"2022-10-21T00:00:00\", \"state_name\": \"Texas\"}, {\"storeNumber\": \"11822\", \"name\": \"State Street\", \"address\": \"1139 N State St\", \"city\": \"Chicago\", \"state\": \"IL\", \"zip\": \"60610\", \"phone\": \"312-260-1932\", \"latitude\": 41.90259, \"longitude\": -87.62669, \"brand\": \"ACF\", \"open_date\": \"2022-03-25T00:00:00\", \"state_name\": \"Illinois\"}, {\"storeNumber\": \"12520\", \"name\": \"Southport\", \"address\": \"3551 N Southport Ave\", \"city\": \"Chicago\", \"state\": \"IL\", \"zip\": \"60657\", \"phone\": \"773-289-1092\", \"latitude\": 41.94687, \"longitude\": -87.66372, \"brand\": \"ACF\", \"open_date\": \"2021-12-17T00:00:00\", \"state_name\": \"Illinois\"}, {\"storeNumber\": \"11716\", \"name\": \"Oakbrook\", \"address\": \"1810 Oakbrook Ctr\", \"city\": \"Oakbrook\", \"state\": \"IL\", \"zip\": \"60523\", \"phone\": \"630-230-3079\", \"latitude\": 41.85416, \"longitude\": -87.96537, \"brand\": \"ACF\", \"open_date\": \"2020-03-13T00:00:00\", \"state_name\": \"Illinois\"}, {\"storeNumber\": \"21716\", \"name\": \"Oakbrook\", \"address\": \"501 Oakbrook Center\", \"city\": \"Oak Brook\", \"state\": \"IL\", \"zip\": \"60523\", \"phone\": \"630-230-3077\", \"latitude\": 41.85416, \"longitude\": -87.96537, \"brand\": \"KID\", \"open_date\": \"2019-08-09T00:00:00\", \"state_name\": \"Illinois\"}, {\"storeNumber\": \"21867\", \"name\": \"Fashion Outlets Of Chicago\", \"address\": \"5220 Fashion Outlets Way, Ste 1069\", \"city\": \"Rosemont\", \"state\": \"IL\", \"zip\": \"60018\", \"phone\": \"847-261-0022\", \"latitude\": 41.97441, \"longitude\": -87.86598, \"brand\": \"KID\", \"open_date\": \"2019-10-31T00:00:00\", \"state_name\": \"Illinois\"}, {\"storeNumber\": \"11494\", \"name\": \"Woodfield\", \"address\": \"E132 Woodfield Mall\", \"city\": \"Schaumburg\", \"state\": \"IL\", \"zip\": \"60173\", \"phone\": \"847-598-4787\", \"latitude\": 42.04556, \"longitude\": -88.03723, \"brand\": \"ACF\", \"open_date\": \"2022-11-20T00:00:00\", \"state_name\": \"Illinois\"}, {\"storeNumber\": \"11595\", \"name\": \"Chicago Po\", \"address\": \"1650 Premium Outlets\", \"city\": \"Aurora\", \"state\": \"IL\", \"zip\": \"60502\", \"phone\": \"630-692-1053\", \"latitude\": 41.80028, \"longitude\": -88.27391, \"brand\": \"ACF\", \"open_date\": \"2015-08-27T00:00:00\", \"state_name\": \"Illinois\"}, {\"storeNumber\": \"21595\", \"name\": \"Chicago Po\", \"address\": \"1650 Premium Outlets\", \"city\": \"Aurora\", \"state\": \"IL\", \"zip\": \"60502\", \"phone\": \"630-692-1053\", \"latitude\": 41.80028, \"longitude\": -88.27391, \"brand\": \"KID\", \"open_date\": \"2015-08-27T00:00:00\", \"state_name\": \"Illinois\"}, {\"storeNumber\": \"11278\", \"name\": \"Gurnee Mills Outlet\", \"address\": \"6170 W. Grand Avenue\", \"city\": \"Gurnee\", \"state\": \"IL\", \"zip\": \"60031\", \"phone\": \"847-855-2819\", \"latitude\": 42.38481, \"longitude\": -87.95502, \"brand\": \"ACF\", \"open_date\": \"2012-11-08T00:00:00\", \"state_name\": \"Illinois\"}, {\"storeNumber\": \"21278\", \"name\": \"Gurnee Mills Outlet\", \"address\": \"6170 W. Grand Avenue\", \"city\": \"Gurnee\", \"state\": \"IL\", \"zip\": \"60031\", \"phone\": \"847-855-2819\", \"latitude\": 42.38481, \"longitude\": -87.95502, \"brand\": \"KID\", \"open_date\": \"2012-11-08T00:00:00\", \"state_name\": \"Illinois\"}, {\"storeNumber\": \"21505\", \"name\": \"Queens Center\", \"address\": \"90-15 Queens Boulevard, Space 3007\", \"city\": \"Elmhurst\", \"state\": \"NY\", \"zip\": \"11373\", \"phone\": \"347-396-3395\", \"latitude\": 40.7348, \"longitude\": -73.8694, \"brand\": \"KID\", \"open_date\": \"2020-09-21T00:00:00\", \"state_name\": \"New York\"}, {\"storeNumber\": \"11482\", \"name\": \"Fifth Avenue\", \"address\": \"668 5th Ave\", \"city\": \"New York\", \"state\": \"NY\", \"zip\": \"10103\", \"phone\": \"212-381-0110\", \"latitude\": 40.76021, \"longitude\": -73.97604, \"brand\": \"ACF\", \"open_date\": \"2023-07-21T00:00:00\", \"state_name\": \"New York\"}, {\"storeNumber\": \"21488\", \"name\": \"Fifth Avenue\", \"address\": \"668 5th Ave\", \"city\": \"New York\", \"state\": \"NY\", \"zip\": \"10019\", \"phone\": null, \"latitude\": 40.76021, \"longitude\": -73.97604, \"brand\": \"KID\", \"open_date\": \"2023-07-21T00:00:00\", \"state_name\": \"New York\"}, {\"storeNumber\": \"11113\", \"name\": \"Flatiron\", \"address\": \"139 5th Ave\", \"city\": \"New York\", \"state\": \"NY\", \"zip\": \"10010\", \"phone\": \"332-910-9744\", \"latitude\": 40.74, \"longitude\": -73.99069, \"brand\": \"ACF\", \"open_date\": \"2023-11-03T00:00:00\", \"state_name\": \"New York\"}, {\"storeNumber\": \"11925\", \"name\": \"547 Broadway\", \"address\": \"547 Broadway\", \"city\": \"New York\", \"state\": \"NY\", \"zip\": \"10012\", \"phone\": \"212-381-1387\", \"latitude\": 40.72305, \"longitude\": -73.99696, \"brand\": \"ACF\", \"open_date\": \"2023-09-01T00:00:00\", \"state_name\": \"New York\"}, {\"storeNumber\": \"21875\", \"name\": \"Kings Plaza\", \"address\": \"5100 Kings Plaza,  Ste 150\", \"city\": \"Brooklyn\", \"state\": \"NY\", \"zip\": \"11234\", \"phone\": \"347-549-4099\", \"latitude\": 40.6097, \"longitude\": -73.9194, \"brand\": \"KID\", \"open_date\": \"2019-10-25T00:00:00\", \"state_name\": \"New York\"}, {\"storeNumber\": \"11492\", \"name\": \"Roosevelt Field\", \"address\": \"630 Old Country Rd\", \"city\": \"Garden City\", \"state\": \"NY\", \"zip\": \"11530\", \"phone\": \"516 329 9816\", \"latitude\": 40.73997, \"longitude\": -73.61357, \"brand\": \"ACF\", \"open_date\": \"2022-11-11T00:00:00\", \"state_name\": \"New York\"}, {\"storeNumber\": \"21828\", \"name\": \"Roosevelt Field\", \"address\": \"630 Old Country Rd\", \"city\": \"Garden City\", \"state\": \"NY\", \"zip\": \"11530\", \"phone\": \"516-240-2248\", \"latitude\": 40.73997, \"longitude\": -73.61357, \"brand\": \"KID\", \"open_date\": \"2022-11-23T00:00:00\", \"state_name\": \"New York\"}, {\"storeNumber\": \"21215\", \"name\": \"American Dream\", \"address\": \"1 American Dream Way\", \"city\": \"East Rutherford\", \"state\": \"NJ\", \"zip\": \"07073\", \"phone\": \"201-549-5008\", \"latitude\": 40.8097, \"longitude\": -74.11805, \"brand\": \"KID\", \"open_date\": \"2020-10-01T00:00:00\", \"state_name\": \"New Jersey\"}, {\"storeNumber\": \"11674\", \"name\": \"Garden State\", \"address\": \"1 Garden State Plaza\", \"city\": \"Paramus\", \"state\": \"NJ\", \"zip\": \"07652\", \"phone\": \"201-561-0058\", \"latitude\": 40.91811, \"longitude\": -74.07636, \"brand\": \"ACF\", \"open_date\": \"2019-10-04T00:00:00\", \"state_name\": \"New Jersey\"}, {\"storeNumber\": \"21253\", \"name\": \"Garden State\", \"address\": \"1 Garden State Plaza\", \"city\": \"Paramus\", \"state\": \"NJ\", \"zip\": \"07652\", \"phone\": \"201-561-0057\", \"latitude\": 40.91811, \"longitude\": -74.07636, \"brand\": \"KID\", \"open_date\": \"2019-08-30T00:00:00\", \"state_name\": \"New Jersey\"}, {\"storeNumber\": \"10436\", \"name\": \"Jersey Gardens Outlet\", \"address\": \"651 Kapkowski Road\", \"city\": \"Elizabeth\", \"state\": \"NJ\", \"zip\": \"07201\", \"phone\": \"908-352-4649\", \"latitude\": 40.66553, \"longitude\": -74.17184, \"brand\": \"ACF\", \"open_date\": \"2006-09-21T00:00:00\", \"state_name\": \"New Jersey\"}, {\"storeNumber\": \"21153\", \"name\": \"Jersey Gardens Outlet\", \"address\": \"651 Kapkowski Rd, Ste 1098\", \"city\": \"Elizabeth\", \"state\": \"NJ\", \"zip\": \"07201-4913\", \"phone\": \"908-345-8002\", \"latitude\": 40.66553, \"longitude\": -74.17184, \"brand\": \"KID\", \"open_date\": \"2020-07-24T00:00:00\", \"state_name\": \"New Jersey\"}, {\"storeNumber\": \"11518\", \"name\": \"Greenwich Ave\", \"address\": \"107 Greenwich Ave\", \"city\": \"Greenwich\", \"state\": \"CT\", \"zip\": \"06830\", \"phone\": \"203-742-5807\", \"latitude\": 41.02924, \"longitude\": -73.62599, \"brand\": \"ACF\", \"open_date\": \"2023-07-14T00:00:00\", \"state_name\": \"Connecticut\"}, {\"storeNumber\": \"11663\", \"name\": \"Willowbrook\", \"address\": \"1400 Willowbrook Mall\", \"city\": \"Wayne\", \"state\": \"NJ\", \"zip\": \"07470-6905\", \"phone\": \"973-256-4165\", \"latitude\": 40.89027, \"longitude\": -74.26077, \"brand\": \"ACF\", \"open_date\": \"2018-05-11T00:00:00\", \"state_name\": \"New Jersey\"}, {\"storeNumber\": \"21663\", \"name\": \"Willowbrook\", \"address\": \"1400 Willowbrook Mall, Space 1740\", \"city\": \"Wayne\", \"state\": \"NJ\", \"zip\": \"07470\", \"phone\": \"973-200-8449\", \"latitude\": 40.89027, \"longitude\": -74.26077, \"brand\": \"KID\", \"open_date\": \"2018-10-05T00:00:00\", \"state_name\": \"New Jersey\"}, {\"storeNumber\": \"10673\", \"name\": \"Palisades\", \"address\": \"2550 Palisades Center Drive\", \"city\": \"West Nyack\", \"state\": \"NY\", \"zip\": \"10994\", \"phone\": \"845-348-9108\", \"latitude\": 41.09878, \"longitude\": -73.95455, \"brand\": \"ACF\", \"open_date\": \"1998-03-27T00:00:00\", \"state_name\": \"New York\"}, {\"storeNumber\": \"21635\", \"name\": \"Palisades\", \"address\": \"2550 Palisades Center Dr\", \"city\": \"West Nyack\", \"state\": \"NY\", \"zip\": \"10994\", \"phone\": \"845-348-9108\", \"latitude\": 41.09878, \"longitude\": -73.95455, \"brand\": \"KID\", \"open_date\": \"2022-01-13T00:00:00\", \"state_name\": \"New York\"}, {\"storeNumber\": \"11626\", \"name\": \"Menlo Park\", \"address\": \"55 Parsonage Rd, 1011b\", \"city\": \"Edison\", \"state\": \"NJ\", \"zip\": \"08837\", \"phone\": \"732-476-1315\", \"latitude\": 40.54804, \"longitude\": -74.33585, \"brand\": \"ACF\", \"open_date\": \"2023-11-03T00:00:00\", \"state_name\": \"New Jersey\"}, {\"storeNumber\": \"11479\", \"name\": \"Deer Park Outlet\", \"address\": \"152 The Arches Circle\", \"city\": \"Deer Park\", \"state\": \"NY\", \"zip\": \"11729\", \"phone\": \"631-586-1701\", \"latitude\": 40.76498, \"longitude\": -73.30382, \"brand\": \"ACF\", \"open_date\": \"2016-05-14T00:00:00\", \"state_name\": \"New York\"}, {\"storeNumber\": \"21479\", \"name\": \"Deer Park Outlet\", \"address\": \"152 The Arches Circle\", \"city\": \"Deer Park\", \"state\": \"NY\", \"zip\": \"11729\", \"phone\": \"631-586-1701\", \"latitude\": 40.76498, \"longitude\": -73.30382, \"brand\": \"KID\", \"open_date\": \"2016-05-14T00:00:00\", \"state_name\": \"New York\"}, {\"storeNumber\": \"11505\", \"name\": \"Sono Collection\", \"address\": \"105 West Avenue, Space 1600\", \"city\": \"Norwalk\", \"state\": \"CT\", \"zip\": \"06854\", \"phone\": \"203-642-7002\", \"latitude\": 41.10509, \"longitude\": -73.41909, \"brand\": \"ACF\", \"open_date\": \"2019-10-11T00:00:00\", \"state_name\": \"Connecticut\"}, {\"storeNumber\": \"21500\", \"name\": \"Sono Collection\", \"address\": \"105 West Avenue, Space 3750\", \"city\": \"Norwalk\", \"state\": \"CT\", \"zip\": \"06854\", \"phone\": \"203-642-7013\", \"latitude\": 41.10509, \"longitude\": -73.41909, \"brand\": \"KID\", \"open_date\": \"2019-11-22T00:00:00\", \"state_name\": \"Connecticut\"}, {\"storeNumber\": \"10924\", \"name\": \"Freehold Raceway\", \"address\": \"3710 Us Highway 9, Ste 1404\", \"city\": \"Freehold\", \"state\": \"NJ\", \"zip\": \"07728\", \"phone\": \"732-294-0060\", \"latitude\": 40.25454, \"longitude\": -74.29736, \"brand\": \"ACF\", \"open_date\": \"2004-05-27T00:00:00\", \"state_name\": \"New Jersey\"}, {\"storeNumber\": \"21924\", \"name\": \"Freehold Raceway\", \"address\": \"3710us Highway 9, Ste 1404\", \"city\": \"Freehold\", \"state\": \"NJ\", \"zip\": \"07728\", \"phone\": \"732-294-0060\", \"latitude\": 40.25454, \"longitude\": -74.29736, \"brand\": \"KID\", \"open_date\": \"2018-08-17T00:00:00\", \"state_name\": \"New Jersey\"}, {\"storeNumber\": \"11422\", \"name\": \"Bridgewater Commons\", \"address\": \"400 Commons Way\", \"city\": \"Bridgewater\", \"state\": \"NJ\", \"zip\": \"08807\", \"phone\": \"908-333-6040\", \"latitude\": 40.58645, \"longitude\": -74.61821, \"brand\": \"ACF\", \"open_date\": \"2019-09-27T00:00:00\", \"state_name\": \"New Jersey\"}, {\"storeNumber\": \"20179\", \"name\": \"Bridgewater Commons\", \"address\": \"400 Commons Way, Suite 253\", \"city\": \"Bridgewater\", \"state\": \"NJ\", \"zip\": \"08807\", \"phone\": \"908-725-0203\", \"latitude\": 40.58645, \"longitude\": -74.61821, \"brand\": \"KID\", \"open_date\": \"2007-09-06T00:00:00\", \"state_name\": \"New Jersey\"}, {\"storeNumber\": \"11555\", \"name\": \"Woodbury Commons\", \"address\": \"629 Race Track Ln\", \"city\": \"Central Valley\", \"state\": \"NY\", \"zip\": \"10917\", \"phone\": \"845-827-3267\", \"latitude\": 41.3169, \"longitude\": -74.125, \"brand\": \"ACF\", \"open_date\": \"2020-07-01T00:00:00\", \"state_name\": \"New York\"}, {\"storeNumber\": \"11669\", \"name\": \"Danbury Fair\", \"address\": \"7 Backus Avenue, Ste 193\", \"city\": \"Danbury\", \"state\": \"CT\", \"zip\": \"06810\", \"phone\": \"203-798-8758\", \"latitude\": 41.37972, \"longitude\": -73.4807, \"brand\": \"ACF\", \"open_date\": \"2016-02-03T00:00:00\", \"state_name\": \"Connecticut\"}, {\"storeNumber\": \"11558\", \"name\": \"Riverhead Outlet\", \"address\": \"200 Tanger Mall Drive\", \"city\": \"Riverhead\", \"state\": \"NY\", \"zip\": \"11901\", \"phone\": \"631-369-2640\", \"latitude\": 40.92109, \"longitude\": -72.71293, \"brand\": \"ACF\", \"open_date\": \"2015-12-19T00:00:00\", \"state_name\": \"New York\"}, {\"storeNumber\": \"11910\", \"name\": \"Cielo Vista\", \"address\": \"8401 Gateway Blvd W\", \"city\": \"El Paso\", \"state\": \"TX\", \"zip\": \"79925\", \"phone\": \"915-261-1058\", \"latitude\": 31.77552, \"longitude\": -106.37915, \"brand\": \"ACF\", \"open_date\": \"2021-07-09T00:00:00\", \"state_name\": \"Texas\"}, {\"storeNumber\": \"20191\", \"name\": \"Cielo Vista\", \"address\": \"8401 Gateway Blvd W\", \"city\": \"El Paso\", \"state\": \"TX\", \"zip\": \"79925\", \"phone\": \"915-772-7900\", \"latitude\": 31.77636, \"longitude\": -106.37923, \"brand\": \"KID\", \"open_date\": \"2008-05-29T00:00:00\", \"state_name\": \"Texas\"}, {\"storeNumber\": \"11690\", \"name\": \"Glendale Galleria\", \"address\": \"2151 Glendale Galleria\", \"city\": \"Glendale\", \"state\": \"CA\", \"zip\": \"91210\", \"phone\": \"818-550-7492\", \"latitude\": 34.14518, \"longitude\": -118.25855, \"brand\": \"ACF\", \"open_date\": \"2018-11-22T00:00:00\", \"state_name\": \"California\"}, {\"storeNumber\": \"20142\", \"name\": \"Glendale Galleria\", \"address\": \"2229 Glendale Galleria\", \"city\": \"Glendale\", \"state\": \"CA\", \"zip\": \"91210\", \"phone\": \"818-502-0728\", \"latitude\": 34.14518, \"longitude\": -118.25855, \"brand\": \"KID\", \"open_date\": \"2007-02-01T00:00:00\", \"state_name\": \"California\"}, {\"storeNumber\": \"11682\", \"name\": \"Westfield Century City\", \"address\": \"10250 Santa Monica Blvd Ste 1707\", \"city\": \"Los Angeles\", \"state\": \"CA\", \"zip\": \"90067\", \"phone\": \"310-277-0823\", \"latitude\": 34.05968, \"longitude\": -118.41949, \"brand\": \"ACF\", \"open_date\": \"2017-08-25T00:00:00\", \"state_name\": \"California\"}, {\"storeNumber\": \"10917\", \"name\": \"Universal Citywalk\", \"address\": \"100 Universal City Plaza\", \"city\": \"Universal City\", \"state\": \"CA\", \"zip\": \"91608\", \"phone\": \"818-752-7530\", \"latitude\": 34.13596, \"longitude\": -118.35343, \"brand\": \"ACF\", \"open_date\": \"2004-03-04T00:00:00\", \"state_name\": \"California\"}, {\"storeNumber\": \"21917\", \"name\": \"Universal Citywalk\", \"address\": \"100 Universal City Plaza\", \"city\": \"Universal City\", \"state\": \"CA\", \"zip\": \"91608\", \"phone\": \"818-752-7530\", \"latitude\": 34.13596, \"longitude\": -118.35343, \"brand\": \"KID\", \"open_date\": \"2019-12-13T00:00:00\", \"state_name\": \"California\"}, {\"storeNumber\": \"11217\", \"name\": \"Del Amo Fashion\", \"address\": \"3525 W Carson St\", \"city\": \"Torrance\", \"state\": \"CA\", \"zip\": \"90503\", \"phone\": \"424-409-2220\", \"latitude\": 33.83123, \"longitude\": -118.35214, \"brand\": \"ACF\", \"open_date\": \"2022-08-05T00:00:00\", \"state_name\": \"California\"}, {\"storeNumber\": \"11697\", \"name\": \"Third Street Promenade\", \"address\": \"1325 3rd St. Promenade\", \"city\": \"Santa Monica\", \"state\": \"CA\", \"zip\": \"90401\", \"phone\": \"310-899-2966\", \"latitude\": 34.01612, \"longitude\": -118.49643, \"brand\": \"ACF\", \"open_date\": \"2018-09-10T00:00:00\", \"state_name\": \"California\"}, {\"storeNumber\": \"10491\", \"name\": \"Los Cerritos\", \"address\": \"143 Los Cerritos Center\", \"city\": \"Cerritos\", \"state\": \"CA\", \"zip\": \"90703\", \"phone\": \"562-860-0184\", \"latitude\": 33.86344, \"longitude\": -118.09366, \"brand\": \"ACF\", \"open_date\": \"2003-11-14T00:00:00\", \"state_name\": \"California\"}, {\"storeNumber\": \"21491\", \"name\": \"Los Cerritos\", \"address\": \"143 Los Cerritos Center\", \"city\": \"Cerritos\", \"state\": \"CA\", \"zip\": \"90703\", \"phone\": \"562-860-0184\", \"latitude\": 33.86344, \"longitude\": -118.09366, \"brand\": \"KID\", \"open_date\": \"2017-01-27T00:00:00\", \"state_name\": \"California\"}, {\"storeNumber\": \"11423\", \"name\": \"Santa Anita\", \"address\": \"400 S Baldwin Ave, Suite A8\", \"city\": \"Arcadia\", \"state\": \"CA\", \"zip\": \"91007\", \"phone\": \"626-701-5105\", \"latitude\": 34.1328, \"longitude\": -118.05157, \"brand\": \"ACF\", \"open_date\": \"2019-11-15T00:00:00\", \"state_name\": \"California\"}, {\"storeNumber\": \"21423\", \"name\": \"Santa Anita\", \"address\": \"400 S. Baldwin Avenue, Suite 231\", \"city\": \"Arcadia\", \"state\": \"CA\", \"zip\": \"91007\", \"phone\": \"626-701-5100\", \"latitude\": 34.1328, \"longitude\": -118.05157, \"brand\": \"KID\", \"open_date\": \"2019-07-12T00:00:00\", \"state_name\": \"California\"}, {\"storeNumber\": \"10762\", \"name\": \"Brea\", \"address\": \"2118 Brea Mall\", \"city\": \"Brea\", \"state\": \"CA\", \"zip\": \"92821\", \"phone\": \"714-671-3005\", \"latitude\": 33.9172, \"longitude\": -117.88626, \"brand\": \"ACF\", \"open_date\": \"2000-09-01T00:00:00\", \"state_name\": \"California\"}, {\"storeNumber\": \"21762\", \"name\": \"Brea\", \"address\": \"2118 Brea Mall\", \"city\": \"Brea\", \"state\": \"CA\", \"zip\": \"92821\", \"phone\": \"714-671-3005\", \"latitude\": 33.9172, \"longitude\": -117.88626, \"brand\": \"KID\", \"open_date\": \"2021-01-22T00:00:00\", \"state_name\": \"California\"}, {\"storeNumber\": \"10904\", \"name\": \"Northridge Fashion\", \"address\": \"9301 Tampa Ave Unit 160\", \"city\": \"Northridge\", \"state\": \"CA\", \"zip\": \"91324\", \"phone\": \"818-709-5678\", \"latitude\": 34.23895, \"longitude\": -118.55707, \"brand\": \"ACF\", \"open_date\": \"2003-05-15T00:00:00\", \"state_name\": \"California\"}, {\"storeNumber\": \"11740\", \"name\": \"Topanga\", \"address\": \"6600 Topanga Canyon Blvd\", \"city\": \"Canoga Park\", \"state\": \"CA\", \"zip\": \"91303\", \"phone\": \"818-887-5290\", \"latitude\": 34.19046, \"longitude\": -118.60494, \"brand\": \"ACF\", \"open_date\": \"2023-10-29T00:00:00\", \"state_name\": \"California\"}, {\"storeNumber\": \"20135\", \"name\": \"Topanga\", \"address\": \"6600 Topanga Canyon Blvd Unit 83\", \"city\": \"Canoga Park\", \"state\": \"CA\", \"zip\": \"91303\", \"phone\": \"818-887-7966\", \"latitude\": 34.19046, \"longitude\": -118.60494, \"brand\": \"KID\", \"open_date\": \"2006-10-27T00:00:00\", \"state_name\": \"California\"}, {\"storeNumber\": \"10913\", \"name\": \"Main Place\", \"address\": \"2800 North Main Street, Spc 240\", \"city\": \"Santa Ana\", \"state\": \"CA\", \"zip\": \"92705\", \"phone\": \"714-835-8464\", \"latitude\": 33.77632, \"longitude\": -117.86926, \"brand\": \"ACF\", \"open_date\": \"2003-08-08T00:00:00\", \"state_name\": \"California\"}, {\"storeNumber\": \"11796\", \"name\": \"South Coast\", \"address\": \"3333 Bristol Avenue, Space 1821\", \"city\": \"Costa Mesa\", \"state\": \"CA\", \"zip\": \"92626\", \"phone\": \"714-656-0010\", \"latitude\": 33.69353, \"longitude\": -117.88714, \"brand\": \"ACF\", \"open_date\": \"2019-06-25T00:00:00\", \"state_name\": \"California\"}, {\"storeNumber\": \"21373\", \"name\": \"South Coast\", \"address\": \"3333 Bristol Avenue, Space 1024\", \"city\": \"Costa Mesa\", \"state\": \"CA\", \"zip\": \"92626\", \"phone\": \"714-656-0011\", \"latitude\": 33.69353, \"longitude\": -117.88714, \"brand\": \"KID\", \"open_date\": \"2019-05-24T00:00:00\", \"state_name\": \"California\"}, {\"storeNumber\": \"11493\", \"name\": \"Ontario Mills Outlet\", \"address\": \"1 Mills Cir\", \"city\": \"Ontario\", \"state\": \"CA\", \"zip\": \"91764\", \"phone\": \"909-987-3125\", \"latitude\": 34.07296, \"longitude\": -117.55109, \"brand\": \"ACF\", \"open_date\": \"2022-05-06T00:00:00\", \"state_name\": \"California\"}, {\"storeNumber\": \"10916\", \"name\": \"Victoria Gardens\", \"address\": \"12577 North Main Street\", \"city\": \"Rancho Cucamonga\", \"state\": \"CA\", \"zip\": \"91739\", \"phone\": \"909-646-8878\", \"latitude\": 34.11207, \"longitude\": -117.53219, \"brand\": \"ACF\", \"open_date\": \"2004-10-28T00:00:00\", \"state_name\": \"California\"}, {\"storeNumber\": \"21916\", \"name\": \"Victoria Gardens\", \"address\": \"12577 North Main Street\", \"city\": \"Rancho Cucamonga\", \"state\": \"CA\", \"zip\": \"91739\", \"phone\": \"909-646-8878\", \"latitude\": 34.11207, \"longitude\": -117.53219, \"brand\": \"KID\", \"open_date\": \"2023-10-06T00:00:00\", \"state_name\": \"California\"}, {\"storeNumber\": \"10738\", \"name\": \"Mission Viejo\", \"address\": \"916 The Shops At Mission Viejo\", \"city\": \"Mission Viejo\", \"state\": \"CA\", \"zip\": \"92691\", \"phone\": \"949-365-0511\", \"latitude\": 33.55945, \"longitude\": -117.6681, \"brand\": \"ACF\", \"open_date\": \"1999-11-06T00:00:00\", \"state_name\": \"California\"}, {\"storeNumber\": \"21738\", \"name\": \"Mission Viejo\", \"address\": \"916 The Shops At Mission Viejo\", \"city\": \"Mission Viejo\", \"state\": \"CA\", \"zip\": \"92691\", \"phone\": \"949-365-0511\", \"latitude\": 33.55945, \"longitude\": -117.6681, \"brand\": \"KID\", \"open_date\": \"2018-08-17T00:00:00\", \"state_name\": \"California\"}, {\"storeNumber\": \"10945\", \"name\": \"Cherry Hill\", \"address\": \"2000 Route 38, Ste 1665\", \"city\": \"Cherry Hill\", \"state\": \"NJ\", \"zip\": \"08002\", \"phone\": \"856-661-1823\", \"latitude\": 39.94103, \"longitude\": -75.02501, \"brand\": \"ACF\", \"open_date\": \"2005-07-28T00:00:00\", \"state_name\": \"New Jersey\"}, {\"storeNumber\": \"21945\", \"name\": \"Cherry Hill\", \"address\": \"2000 Route 38, Suite 1665\", \"city\": \"Cherry Hill\", \"state\": \"NJ\", \"zip\": \"08002\", \"phone\": \"856-661-1823\", \"latitude\": 39.94103, \"longitude\": -75.02501, \"brand\": \"KID\", \"open_date\": \"2017-01-27T00:00:00\", \"state_name\": \"New Jersey\"}, {\"storeNumber\": \"11560\", \"name\": \"Atlantic City Outlets\", \"address\": \"33 N. Arkansas Avenue\", \"city\": \"Atlantic City\", \"state\": \"NJ\", \"zip\": \"08401\", \"phone\": \"609-343-1481\", \"latitude\": 39.35945, \"longitude\": -74.43771, \"brand\": \"ACF\", \"open_date\": \"2014-10-25T00:00:00\", \"state_name\": \"New Jersey\"}, {\"storeNumber\": \"20242\", \"name\": \"Stonebriar\", \"address\": \"2601 Preston Rd, Space # 2232\", \"city\": \"Frisco\", \"state\": \"TX\", \"zip\": \"75034\", \"phone\": \"972-712-8935\", \"latitude\": 33.0992, \"longitude\": -96.8115, \"brand\": \"KID\", \"open_date\": \"2000-08-04T00:00:00\", \"state_name\": \"Texas\"}, {\"storeNumber\": \"10948\", \"name\": \"Galleria\", \"address\": \"13350 Dallas Pkwy Ste 2640\", \"city\": \"Dallas\", \"state\": \"TX\", \"zip\": \"75240\", \"phone\": \"972-233-1832\", \"latitude\": 32.92995, \"longitude\": -96.81959, \"brand\": \"ACF\", \"open_date\": \"2005-07-30T00:00:00\", \"state_name\": \"Texas\"}, {\"storeNumber\": \"11958\", \"name\": \"Northpark\", \"address\": \"8687 N Central Expy\", \"city\": \"Dallas\", \"state\": \"TX\", \"zip\": \"75225\", \"phone\": \"214-210-5828\", \"latitude\": 32.87032, \"longitude\": -96.77412, \"brand\": \"ACF\", \"open_date\": \"2022-12-23T00:00:00\", \"state_name\": \"Texas\"}, {\"storeNumber\": \"11489\", \"name\": \"Grapevine Mills Outlet\", \"address\": \"3000 Grapevine Mills Pkwy\", \"city\": \"Grapevine\", \"state\": \"TX\", \"zip\": \"76051\", \"phone\": \"469-451-3900\", \"latitude\": 32.96653, \"longitude\": -97.04269, \"brand\": \"ACF\", \"open_date\": \"2022-08-05T00:00:00\", \"state_name\": \"Texas\"}, {\"storeNumber\": \"11583\", \"name\": \"Pocono Po\", \"address\": \"1000 Premium Outlets Drive\", \"city\": \"Tannersville\", \"state\": \"PA\", \"zip\": \"18372\", \"phone\": \"570-629-1358\", \"latitude\": 41.04893, \"longitude\": -75.31245, \"brand\": \"ACF\", \"open_date\": \"2015-08-08T00:00:00\", \"state_name\": \"Pennsylvania\"}, {\"storeNumber\": \"10606\", \"name\": \"Barton Creek\", \"address\": \"2901 S Capital Of Texas Hwy Ste D3\", \"city\": \"Austin\", \"state\": \"TX\", \"zip\": \"78746\", \"phone\": \"512-329-8323\", \"latitude\": 30.25621, \"longitude\": -97.81001, \"brand\": \"ACF\", \"open_date\": \"1995-08-10T00:00:00\", \"state_name\": \"Texas\"}, {\"storeNumber\": \"21606\", \"name\": \"Barton Creek\", \"address\": \"2901 S Capital Of Texas Hwy Ste D3\", \"city\": \"Austin\", \"state\": \"TX\", \"zip\": \"78746\", \"phone\": \"512-329-8323\", \"latitude\": 30.25621, \"longitude\": -97.81001, \"brand\": \"KID\", \"open_date\": \"2018-02-16T00:00:00\", \"state_name\": \"Texas\"}, {\"storeNumber\": \"11003\", \"name\": \"San Marcos Outlet\", \"address\": \"3939 Ih South 35\", \"city\": \"San Marcos\", \"state\": \"TX\", \"zip\": \"78666\", \"phone\": \"512-215-3618\", \"latitude\": 29.82883, \"longitude\": -97.98402, \"brand\": \"ACF\", \"open_date\": \"2010-02-18T00:00:00\", \"state_name\": \"Texas\"}, {\"storeNumber\": \"20408\", \"name\": \"San Marcos Outlet\", \"address\": \"4015 I-35 South\", \"city\": \"San Marcos\", \"state\": \"TX\", \"zip\": \"78666\", \"phone\": \"614-765-2574\", \"latitude\": 29.82883, \"longitude\": -97.98402, \"brand\": \"KID\", \"open_date\": \"2010-09-23T00:00:00\", \"state_name\": \"Texas\"}, {\"storeNumber\": \"21149\", \"name\": \"La Plaza\", \"address\": \"2200 S. 10th Street, Space R06\", \"city\": \"Mcallen\", \"state\": \"TX\", \"zip\": \"78503\", \"phone\": \"956-217-5986\", \"latitude\": 26.18505, \"longitude\": -98.2366, \"brand\": \"KID\", \"open_date\": \"2019-05-24T00:00:00\", \"state_name\": \"Texas\"}, {\"storeNumber\": \"11218\", \"name\": \"La Plaza\", \"address\": \"2200 S 10th St Ste Q12f\", \"city\": \"Mcallen\", \"state\": \"TX\", \"zip\": \"78503\", \"phone\": \"956-278-8354\", \"latitude\": 26.18754, \"longitude\": -98.23582, \"brand\": \"ACF\", \"open_date\": \"2023-11-17T00:00:00\", \"state_name\": \"Texas\"}, {\"storeNumber\": \"10487\", \"name\": \"Sunvalley\", \"address\": \"428 Sunvalley Mall\", \"city\": \"Concord\", \"state\": \"CA\", \"zip\": \"94520\", \"phone\": \"925-674-1234\", \"latitude\": 37.96774, \"longitude\": -122.0604, \"brand\": \"ACF\", \"open_date\": \"2002-11-22T00:00:00\", \"state_name\": \"California\"}, {\"storeNumber\": \"11286\", \"name\": \"San Francisco Outlets\", \"address\": \"2788 Livermore Outlets Drive\", \"city\": \"Livermore\", \"state\": \"CA\", \"zip\": \"94551\", \"phone\": \"925-447-0589\", \"latitude\": 37.69641, \"longitude\": -121.84259, \"brand\": \"ACF\", \"open_date\": \"2012-11-08T00:00:00\", \"state_name\": \"California\"}, {\"storeNumber\": \"21286\", \"name\": \"San Francisco Outlets\", \"address\": \"2788 Livermore Outlets Drive\", \"city\": \"Livermore\", \"state\": \"CA\", \"zip\": \"94551\", \"phone\": \"925-447-0589\", \"latitude\": 37.69641, \"longitude\": -121.84259, \"brand\": \"KID\", \"open_date\": \"2012-11-08T00:00:00\", \"state_name\": \"California\"}, {\"storeNumber\": \"11574\", \"name\": \"Vacaville Premium Outlets\", \"address\": \"321 Nut Tree Road, Unit 0304\", \"city\": \"Vacaville\", \"state\": \"CA\", \"zip\": \"95687\", \"phone\": \"707-451-7409\", \"latitude\": 38.3679, \"longitude\": -121.95268, \"brand\": \"ACF\", \"open_date\": \"2015-08-08T00:00:00\", \"state_name\": \"California\"}, {\"storeNumber\": \"10402\", \"name\": \"Valley Fair\", \"address\": \"2855 Stevens Creek Blvd\", \"city\": \"Santa Clara\", \"state\": \"CA\", \"zip\": \"95050\", \"phone\": \"408-551-0252\", \"latitude\": 37.32565, \"longitude\": -121.949, \"brand\": \"ACF\", \"open_date\": \"2002-03-22T00:00:00\", \"state_name\": \"California\"}, {\"storeNumber\": \"21404\", \"name\": \"Valley Fair\", \"address\": \"2855 Stevens Creek Blvd\", \"city\": \"Santa Clara\", \"state\": \"CA\", \"zip\": \"95050\", \"phone\": \"408-551-0252\", \"latitude\": 37.32565, \"longitude\": -121.949, \"brand\": \"KID\", \"open_date\": \"2021-01-22T00:00:00\", \"state_name\": \"California\"}, {\"storeNumber\": \"11549\", \"name\": \"Arden Fair\", \"address\": \"1689 Arden Way, Ste 1214\", \"city\": \"Sacramento\", \"state\": \"CA\", \"zip\": \"95815\", \"phone\": \"916-570-0287\", \"latitude\": 38.6014, \"longitude\": -121.42776, \"brand\": \"ACF\", \"open_date\": \"2015-10-06T00:00:00\", \"state_name\": \"California\"}, {\"storeNumber\": \"20173\", \"name\": \"Arden Fair\", \"address\": \"1689 Arden Way Ste 2086\", \"city\": \"Sacramento\", \"state\": \"CA\", \"zip\": \"95815\", \"phone\": \"916-924-1540\", \"latitude\": 38.6014, \"longitude\": -121.42776, \"brand\": \"KID\", \"open_date\": \"2007-09-06T00:00:00\", \"state_name\": \"California\"}, {\"storeNumber\": \"21995\", \"name\": \"Vintage Faire\", \"address\": \"3401 Dale Road, Suite 147\", \"city\": \"Modesto\", \"state\": \"CA\", \"zip\": \"95356\", \"phone\": \"209-661-2028\", \"latitude\": 37.68987, \"longitude\": -121.05035, \"brand\": \"KID\", \"open_date\": \"2019-11-01T00:00:00\", \"state_name\": \"California\"}, {\"storeNumber\": \"11002\", \"name\": \"Galleria At Roseville\", \"address\": \"1151 Galleria Blvd, Ste 2235\", \"city\": \"Roseville\", \"state\": \"CA\", \"zip\": \"95678\", \"phone\": \"916-788-0844\", \"latitude\": 38.75683, \"longitude\": -121.26688, \"brand\": \"ACF\", \"open_date\": \"2010-07-16T00:00:00\", \"state_name\": \"California\"}, {\"storeNumber\": \"21102\", \"name\": \"Galleria At Roseville\", \"address\": \"1151 Galleria Blvd., Space 2235\", \"city\": \"Roseville\", \"state\": \"CA\", \"zip\": \"95678\", \"phone\": \"916-788-0844\", \"latitude\": 38.75683, \"longitude\": -121.26688, \"brand\": \"KID\", \"open_date\": \"2015-11-07T00:00:00\", \"state_name\": \"California\"}, {\"storeNumber\": \"11592\", \"name\": \"Gilroy Outlet\", \"address\": \"681 Leavesley Road\", \"city\": \"Gilroy\", \"state\": \"CA\", \"zip\": \"95020\", \"phone\": \"408-848-3085\", \"latitude\": 37.02484, \"longitude\": -121.56532, \"brand\": \"ACF\", \"open_date\": \"2014-09-18T00:00:00\", \"state_name\": \"California\"}, {\"storeNumber\": \"11357\", \"name\": \"University Towne Center\", \"address\": \"4353 La Jolla Village Dr Suite 183\", \"city\": \"San Diego\", \"state\": \"CA\", \"zip\": \"92122\", \"phone\": \"858-320-0546\", \"latitude\": 32.87081, \"longitude\": -117.21094, \"brand\": \"ACF\", \"open_date\": \"2015-08-22T00:00:00\", \"state_name\": \"California\"}, {\"storeNumber\": \"20226\", \"name\": \"Mall Of Georgia\", \"address\": \"3333 Buford Drive, Suite 2024\", \"city\": \"Buford\", \"state\": \"GA\", \"zip\": \"30519\", \"phone\": \"678-482-7051\", \"latitude\": 34.06422, \"longitude\": -83.98414, \"brand\": \"KID\", \"open_date\": \"1999-08-06T00:00:00\", \"state_name\": \"Georgia\"}, {\"storeNumber\": \"10683\", \"name\": \"Perimeter\", \"address\": \"4400 Ashford Dunwoody Rd Ne\", \"city\": \"Atlanta\", \"state\": \"GA\", \"zip\": \"30346\", \"phone\": \"770-390-3004\", \"latitude\": 33.92473, \"longitude\": -84.34309, \"brand\": \"ACF\", \"open_date\": \"1997-07-17T00:00:00\", \"state_name\": \"Georgia\"}, {\"storeNumber\": \"21683\", \"name\": \"Perimeter\", \"address\": \"4400 Ashford Dunwoody Rd\", \"city\": \"Atlanta\", \"state\": \"GA\", \"zip\": \"30346\", \"phone\": \"770-390-3004\", \"latitude\": 33.92473, \"longitude\": -84.34309, \"brand\": \"KID\", \"open_date\": \"2015-11-07T00:00:00\", \"state_name\": \"Georgia\"}, {\"storeNumber\": \"11938\", \"name\": \"Lenox Square\", \"address\": \"3393 Peachtree Rd Ne Ste 4042b\", \"city\": \"Atlanta\", \"state\": \"GA\", \"zip\": \"30326\", \"phone\": \"404-816-2143\", \"latitude\": 33.847, \"longitude\": -84.36339, \"brand\": \"ACF\", \"open_date\": \"2017-07-21T00:00:00\", \"state_name\": \"Georgia\"}, {\"storeNumber\": \"10583\", \"name\": \"Town Center At Cobb\", \"address\": \"400 Barrett Parkway, Suite # 133\", \"city\": \"Kennesaw\", \"state\": \"GA\", \"zip\": \"30144\", \"phone\": \"770-426-0043\", \"latitude\": 34.01814, \"longitude\": -84.56189, \"brand\": \"ACF\", \"open_date\": \"1995-11-09T00:00:00\", \"state_name\": \"Georgia\"}, {\"storeNumber\": \"11192\", \"name\": \"Green Hills\", \"address\": \"2126 Abbott Martin Road\", \"city\": \"Nashville\", \"state\": \"TN\", \"zip\": \"37215\", \"phone\": \"615-522-0044\", \"latitude\": 36.10672, \"longitude\": -86.81615, \"brand\": \"ACF\", \"open_date\": \"2019-10-25T00:00:00\", \"state_name\": \"Tennessee\"}, {\"storeNumber\": \"21192\", \"name\": \"Green Hills\", \"address\": \"2126 Abbott Martin Road\", \"city\": \"Nashville\", \"state\": \"TN\", \"zip\": \"37215\", \"phone\": \"615-522-0039\", \"latitude\": 36.10672, \"longitude\": -86.81615, \"brand\": \"KID\", \"open_date\": \"2019-10-25T00:00:00\", \"state_name\": \"Tennessee\"}, {\"storeNumber\": \"11130\", \"name\": \"Opry Mills\", \"address\": \"311 Opry Mills Drive\", \"city\": \"Nashville\", \"state\": \"TN\", \"zip\": \"37214\", \"phone\": \"615-932-5185\", \"latitude\": 36.204, \"longitude\": -86.6924, \"brand\": \"ACF\", \"open_date\": \"2016-09-30T00:00:00\", \"state_name\": \"Tennessee\"}, {\"storeNumber\": \"21130\", \"name\": \"Opry Mills\", \"address\": \"433 Opry Mills Drive\", \"city\": \"Nashville\", \"state\": \"TN\", \"zip\": \"37214\", \"phone\": \"615-932-5185\", \"latitude\": 36.204, \"longitude\": -86.6924, \"brand\": \"KID\", \"open_date\": \"2016-09-30T00:00:00\", \"state_name\": \"Tennessee\"}, {\"storeNumber\": \"21532\", \"name\": \"Las Americas Po\", \"address\": \"4211 Camino De La Plaza\", \"city\": \"San Diego\", \"state\": \"CA\", \"zip\": \"92173\", \"phone\": \"619-761-5003\", \"latitude\": 32.5437, \"longitude\": -117.041, \"brand\": \"KID\", \"open_date\": \"2019-10-25T00:00:00\", \"state_name\": \"California\"}, {\"storeNumber\": \"11646\", \"name\": \"Fashion Valley\", \"address\": \"7007 Friars Road, Ste 940\", \"city\": \"San Diego\", \"state\": \"CA\", \"zip\": \"92108\", \"phone\": \"619-298-8778\", \"latitude\": 32.76877, \"longitude\": -117.16757, \"brand\": \"ACF\", \"open_date\": \"2018-08-25T00:00:00\", \"state_name\": \"California\"}, {\"storeNumber\": \"10424\", \"name\": \"Valley Plaza\", \"address\": \"2701 Ming Ave Ste 160\", \"city\": \"Bakersfield\", \"state\": \"CA\", \"zip\": \"93304\", \"phone\": \"661-832-1549\", \"latitude\": 35.33823, \"longitude\": -119.03442, \"brand\": \"ACF\", \"open_date\": \"2001-06-07T00:00:00\", \"state_name\": \"California\"}, {\"storeNumber\": \"21424\", \"name\": \"Valley Plaza\", \"address\": \"2701 Ming Ave Ste 160\", \"city\": \"Bakersfield\", \"state\": \"CA\", \"zip\": \"93304\", \"phone\": \"661-832-1549\", \"latitude\": 35.33823, \"longitude\": -119.03442, \"brand\": \"KID\", \"open_date\": \"2017-01-27T00:00:00\", \"state_name\": \"California\"}, {\"storeNumber\": \"10943\", \"name\": \"North Star\", \"address\": \"7400 San Pedro Avenue, Ste 732\", \"city\": \"San Antonio\", \"state\": \"TX\", \"zip\": \"78216\", \"phone\": \"210-377-1537\", \"latitude\": 29.51802, \"longitude\": -98.49892, \"brand\": \"ACF\", \"open_date\": \"2005-05-06T00:00:00\", \"state_name\": \"Texas\"}, {\"storeNumber\": \"21943\", \"name\": \"North Star\", \"address\": \"7400 San Pedro Avenue Ste 732\", \"city\": \"San Antonio\", \"state\": \"TX\", \"zip\": \"78216\", \"phone\": \"210-377-1537\", \"latitude\": 29.51802, \"longitude\": -98.49892, \"brand\": \"KID\", \"open_date\": \"2018-02-16T00:00:00\", \"state_name\": \"Texas\"}, {\"storeNumber\": \"11631\", \"name\": \"Shops At Lacantera\", \"address\": \"15900 La Cantera Pkwy\", \"city\": \"San Antonio\", \"state\": \"TX\", \"zip\": \"78256\", \"phone\": \"210-339-2910\", \"latitude\": 29.59321, \"longitude\": -98.61164, \"brand\": \"ACF\", \"open_date\": \"2023-08-11T00:00:00\", \"state_name\": \"Texas\"}, {\"storeNumber\": \"20164\", \"name\": \"Shops At Lacantera\", \"address\": \"15900 La Cantera Pkwy Ste 10030\", \"city\": \"San Antonio\", \"state\": \"TX\", \"zip\": \"78256\", \"phone\": \"210-877-6281\", \"latitude\": 29.5929, \"longitude\": -98.61806, \"brand\": \"KID\", \"open_date\": \"2007-03-29T00:00:00\", \"state_name\": \"Texas\"}, {\"storeNumber\": \"10430\", \"name\": \"Fashion Fair\", \"address\": \"595 East Shaw Avenue\", \"city\": \"Fresno\", \"state\": \"CA\", \"zip\": \"93710\", \"phone\": \"559-226-4853\", \"latitude\": 36.80844, \"longitude\": -119.77695, \"brand\": \"ACF\", \"open_date\": \"2002-09-05T00:00:00\", \"state_name\": \"California\"}, {\"storeNumber\": \"20146\", \"name\": \"Fashion Fair\", \"address\": \"691 East Shaw Avenue\", \"city\": \"Fresno\", \"state\": \"CA\", \"zip\": \"93710\", \"phone\": \"559-221-1343\", \"latitude\": 36.80844, \"longitude\": -119.77695, \"brand\": \"KID\", \"open_date\": \"2006-10-26T00:00:00\", \"state_name\": \"California\"}, {\"storeNumber\": \"11640\", \"name\": \"Southpark\", \"address\": \"4400 Sharon Road Ste 142\", \"city\": \"Charlotte\", \"state\": \"NC\", \"zip\": \"28211\", \"phone\": \"704-364-4605\", \"latitude\": 35.15231, \"longitude\": -80.83296, \"brand\": \"ACF\", \"open_date\": \"2015-10-13T00:00:00\", \"state_name\": \"North Carolina\"}, {\"storeNumber\": \"21640\", \"name\": \"Southpark\", \"address\": \"4400 Sharon Road\", \"city\": \"Charlotte\", \"state\": \"NC\", \"zip\": \"28211\", \"phone\": \"704-364-4605\", \"latitude\": 35.15231, \"longitude\": -80.83296, \"brand\": \"KID\", \"open_date\": \"2015-10-13T00:00:00\", \"state_name\": \"North Carolina\"}, {\"storeNumber\": \"10516\", \"name\": \"Hanes\", \"address\": \"3320 Silas Creek Parkway Suite 430\", \"city\": \"Winston Salem\", \"state\": \"NC\", \"zip\": \"27103\", \"phone\": \"336-768-9379\", \"latitude\": 36.07184, \"longitude\": -80.29936, \"brand\": \"ACF\", \"open_date\": \"1991-06-12T00:00:00\", \"state_name\": \"North Carolina\"}, {\"storeNumber\": \"21201\", \"name\": \"Hanes\", \"address\": \"3320 Silas Creek Parkway, Suite 430\", \"city\": \"Winston Salem\", \"state\": \"NC\", \"zip\": \"27103\", \"phone\": \"336-768-9379\", \"latitude\": 36.07184, \"longitude\": -80.29936, \"brand\": \"KID\", \"open_date\": \"2017-01-27T00:00:00\", \"state_name\": \"North Carolina\"}, {\"storeNumber\": \"11497\", \"name\": \"Fashion Show\", \"address\": \"3200 Las Vegas Blvd S Ste 2190\", \"city\": \"Las Vegas\", \"state\": \"NV\", \"zip\": \"89109\", \"phone\": \"702-650-6509\", \"latitude\": 36.12742, \"longitude\": -115.17081, \"brand\": \"ACF\", \"open_date\": \"2018-09-18T00:00:00\", \"state_name\": \"Nevada\"}, {\"storeNumber\": \"21497\", \"name\": \"Fashion Show\", \"address\": \"3200 Las Vegas Blvd S, Ste 2190\", \"city\": \"Las Vegas\", \"state\": \"NV\", \"zip\": \"89109\", \"phone\": \"702-650-6509\", \"latitude\": 36.12742, \"longitude\": -115.17081, \"brand\": \"KID\", \"open_date\": \"2018-09-18T00:00:00\", \"state_name\": \"Nevada\"}, {\"storeNumber\": \"11755\", \"name\": \"Downtown Summerlin\", \"address\": \"1875 Festival Plaza Dr, Suite 170\", \"city\": \"Las Vegas\", \"state\": \"NV\", \"zip\": \"89135\", \"phone\": \"702-266-8312\", \"latitude\": 36.15, \"longitude\": -115.33302, \"brand\": \"ACF\", \"open_date\": \"2023-08-11T00:00:00\", \"state_name\": \"Nevada\"}, {\"storeNumber\": \"10971\", \"name\": \"Town Square\", \"address\": \"6623 Las Vegas Blvd S Unit 135\", \"city\": \"Las Vegas\", \"state\": \"NV\", \"zip\": \"89119\", \"phone\": \"702-270-2889\", \"latitude\": 36.06692, \"longitude\": -115.17221, \"brand\": \"ACF\", \"open_date\": \"2007-12-06T00:00:00\", \"state_name\": \"Nevada\"}, {\"storeNumber\": \"10546\", \"name\": \"Oak Park\", \"address\": \"11741 W. 95th St.\", \"city\": \"Overland Park\", \"state\": \"KS\", \"zip\": \"66214\", \"phone\": \"913-888-6250\", \"latitude\": 38.95641, \"longitude\": -94.71762, \"brand\": \"ACF\", \"open_date\": \"1993-10-14T00:00:00\", \"state_name\": \"Kansas\"}, {\"storeNumber\": \"21546\", \"name\": \"Oak Park\", \"address\": \"11741 W. 95th St.\", \"city\": \"Overland Park\", \"state\": \"KS\", \"zip\": \"66214\", \"phone\": \"913-888-6250\", \"latitude\": 38.95641, \"longitude\": -94.71762, \"brand\": \"KID\", \"open_date\": \"2020-01-01T00:00:00\", \"state_name\": \"Kansas\"}, {\"storeNumber\": \"10425\", \"name\": \"Chandler Fashion\", \"address\": \"3111 W Chandler Blvd Ste 2036\", \"city\": \"Chandler\", \"state\": \"AZ\", \"zip\": \"85226\", \"phone\": \"480-792-9275\", \"latitude\": 33.30224, \"longitude\": -111.89796, \"brand\": \"ACF\", \"open_date\": \"2001-11-03T00:00:00\", \"state_name\": \"Arizona\"}, {\"storeNumber\": \"21425\", \"name\": \"Chandler Fashion\", \"address\": \"3111 W Chandler Blvd Ste 2036\", \"city\": \"Chandler\", \"state\": \"AZ\", \"zip\": \"85226\", \"phone\": \"480-792-9275\", \"latitude\": 33.30224, \"longitude\": -111.89796, \"brand\": \"KID\", \"open_date\": \"2014-07-26T00:00:00\", \"state_name\": \"Arizona\"}, {\"storeNumber\": \"11599\", \"name\": \"Fashion Square\", \"address\": \"7014 E Camelback Rd Ste 1001\", \"city\": \"Scottsdale\", \"state\": \"AZ\", \"zip\": \"85251\", \"phone\": \"480-970-7616\", \"latitude\": 33.50109, \"longitude\": -111.92894, \"brand\": \"ACF\", \"open_date\": \"2017-08-04T00:00:00\", \"state_name\": \"Arizona\"}, {\"storeNumber\": \"20203\", \"name\": \"Fashion Square\", \"address\": \"7014 E. Camelback Rd. Space 2224\", \"city\": \"Scottsdale\", \"state\": \"AZ\", \"zip\": \"85251\", \"phone\": \"480-874-2680\", \"latitude\": 33.50109, \"longitude\": -111.92894, \"brand\": \"KID\", \"open_date\": \"1998-09-17T00:00:00\", \"state_name\": \"Arizona\"}, {\"storeNumber\": \"11568\", \"name\": \"Tanger Outlets Phoenix\", \"address\": \"6800 N 95th Avenue\", \"city\": \"Glendale\", \"state\": \"AZ\", \"zip\": \"85305\", \"phone\": \"623-872-6157\", \"latitude\": 33.53508, \"longitude\": -112.26625, \"brand\": \"ACF\", \"open_date\": \"2014-11-26T00:00:00\", \"state_name\": \"Arizona\"}, {\"storeNumber\": \"21598\", \"name\": \"Springfield Town Center\", \"address\": \"6500 Springfield Mall, Ste 22008\", \"city\": \"Springfield\", \"state\": \"VA\", \"zip\": \"22150\", \"phone\": \"571-255-6022\", \"latitude\": 38.7893, \"longitude\": -77.1872, \"brand\": \"KID\", \"open_date\": \"2019-11-15T00:00:00\", \"state_name\": \"Virginia\"}, {\"storeNumber\": \"11861\", \"name\": \"Tysons Corner\", \"address\": \"7865 Tysons Corner Ctr Spc N13u\", \"city\": \"Mclean\", \"state\": \"VA\", \"zip\": \"22102\", \"phone\": \"703-852-1054\", \"latitude\": 38.91977, \"longitude\": -77.22608, \"brand\": \"ACF\", \"open_date\": \"2017-08-05T00:00:00\", \"state_name\": \"Virginia\"}, {\"storeNumber\": \"21860\", \"name\": \"Tysons Corner\", \"address\": \"1961 Chain Bridge Road, Space 161\", \"city\": \"Mclean\", \"state\": \"VA\", \"zip\": \"22102\", \"phone\": \"571-326-1110\", \"latitude\": 38.91977, \"longitude\": -77.22608, \"brand\": \"KID\", \"open_date\": \"2019-11-08T00:00:00\", \"state_name\": \"Virginia\"}, {\"storeNumber\": \"10561\", \"name\": \"Wisconsin Avenue\", \"address\": \"1208 Wisconsin Ave Nw Lowr\", \"city\": \"Washington\", \"state\": \"DC\", \"zip\": \"20007\", \"phone\": \"202-333-1566\", \"latitude\": 38.90567, \"longitude\": -77.06303, \"brand\": \"ACF\", \"open_date\": \"1982-10-08T00:00:00\", \"state_name\": null}, {\"storeNumber\": \"11570\", \"name\": \"Leesburg Po\", \"address\": \"241 Fort Evans Road Ne\", \"city\": \"Leesburg\", \"state\": \"VA\", \"zip\": \"20176\", \"phone\": \"703-777-6491\", \"latitude\": 39.10672, \"longitude\": -77.53845, \"brand\": \"ACF\", \"open_date\": \"2016-04-23T00:00:00\", \"state_name\": \"Virginia\"}, {\"storeNumber\": \"11519\", \"name\": \"Harbor East\", \"address\": \"810 Aliceanna St\", \"city\": \"Baltimore\", \"state\": \"MD\", \"zip\": \"21202\", \"phone\": \"410-469-2805\", \"latitude\": 39.28354, \"longitude\": -76.60104, \"brand\": \"ACF\", \"open_date\": \"2023-10-03T00:00:00\", \"state_name\": \"Maryland\"}, {\"storeNumber\": \"12506\", \"name\": \"Ala Moana\", \"address\": \"1450 Ala Moana Blvd, Unit 3110\", \"city\": \"Honolulu\", \"state\": \"HI\", \"zip\": \"96814\", \"phone\": \"808-946-5655\", \"latitude\": 21.2915, \"longitude\": -157.84339, \"brand\": \"ACF\", \"open_date\": \"2021-05-14T00:00:00\", \"state_name\": \"Hawaii\"}, {\"storeNumber\": \"11311\", \"name\": \"Int'L Market Place\", \"address\": \"2330 Kalakaua Avenue\", \"city\": \"Honolulu\", \"state\": \"HI\", \"zip\": \"96815\", \"phone\": \"808-377-6523\", \"latitude\": 21.28111, \"longitude\": -157.82888, \"brand\": \"ACF\", \"open_date\": \"2016-12-16T00:00:00\", \"state_name\": \"Hawaii\"}, {\"storeNumber\": \"12536\", \"name\": \"Crabtree Valley\", \"address\": \"4325 Glenwood Ave\", \"city\": \"Raleigh\", \"state\": \"NC\", \"zip\": \"27612\", \"phone\": \"919-325-0407\", \"latitude\": 35.83851, \"longitude\": -78.6786, \"brand\": \"ACF\", \"open_date\": \"2021-09-24T00:00:00\", \"state_name\": \"North Carolina\"}, {\"storeNumber\": \"11691\", \"name\": \"Kenwood Towne Centre\", \"address\": \"7875 Montgomery Road, Space 2227\", \"city\": \"Cincinnati\", \"state\": \"OH\", \"zip\": \"45236\", \"phone\": \"513-984-4211\", \"latitude\": 39.20093, \"longitude\": -84.376, \"brand\": \"ACF\", \"open_date\": \"2023-07-21T00:00:00\", \"state_name\": \"Ohio\"}, {\"storeNumber\": \"11516\", \"name\": \"Outlet Shoppes At Laredo\", \"address\": \"1600 Water Street\", \"city\": \"Laredo\", \"state\": \"TX\", \"zip\": \"78040\", \"phone\": \"956-898-3890\", \"latitude\": 27.5017, \"longitude\": -99.511, \"brand\": \"ACF\", \"open_date\": \"2016-10-27T00:00:00\", \"state_name\": \"Texas\"}, {\"storeNumber\": \"21516\", \"name\": \"Outlet Shoppes At Laredo\", \"address\": \"1600 Water Street\", \"city\": \"Laredo\", \"state\": \"TX\", \"zip\": \"78040\", \"phone\": \"956-898-3890\", \"latitude\": 27.5017, \"longitude\": -99.511, \"brand\": \"KID\", \"open_date\": \"2016-10-27T00:00:00\", \"state_name\": \"Texas\"}, {\"storeNumber\": \"12518\", \"name\": \"Park Meadows\", \"address\": \"8401 Park Meadow Center Dr\", \"city\": \"Lone Tree\", \"state\": \"CO\", \"zip\": \"80124\", \"phone\": \"303-302-0440\", \"latitude\": 39.56326, \"longitude\": -104.87705, \"brand\": \"ACF\", \"open_date\": \"2021-06-11T00:00:00\", \"state_name\": \"Colorado\"}, {\"storeNumber\": \"11973\", \"name\": \"Cherry Creek\", \"address\": \"3000 East 1st Avenue, Space 2224\", \"city\": \"Denver\", \"state\": \"CO\", \"zip\": \"80206\", \"phone\": \"303-302-0443\", \"latitude\": 39.71748, \"longitude\": -104.9529, \"brand\": \"ACF\", \"open_date\": \"2022-11-23T00:00:00\", \"state_name\": \"Colorado\"}, {\"storeNumber\": \"11924\", \"name\": \"Dolphin Mall\", \"address\": \"11401 Nw 12th St., Suite 188\", \"city\": \"Miami\", \"state\": \"FL\", \"zip\": \"33172\", \"phone\": \"305-714-4324\", \"latitude\": 25.78758, \"longitude\": -80.38024, \"brand\": \"ACF\", \"open_date\": \"2022-11-23T00:00:00\", \"state_name\": \"Florida\"}, {\"storeNumber\": \"21113\", \"name\": \"Dolphin Mall\", \"address\": \"11401 Nw 12th St,  Suite 220\", \"city\": \"Miami\", \"state\": \"FL\", \"zip\": \"33172\", \"phone\": \"305-397-0000\", \"latitude\": 25.78758, \"longitude\": -80.38024, \"brand\": \"KID\", \"open_date\": \"2019-07-19T00:00:00\", \"state_name\": \"Florida\"}, {\"storeNumber\": \"11212\", \"name\": \"Brickell City Centre\", \"address\": \"701 S Miami Ave\", \"city\": \"Miami\", \"state\": \"FL\", \"zip\": \"33130\", \"phone\": \"305-200-0082\", \"latitude\": 25.76707, \"longitude\": -80.1914, \"brand\": \"ACF\", \"open_date\": \"2023-09-29T00:00:00\", \"state_name\": \"Florida\"}, {\"storeNumber\": \"11650\", \"name\": \"Aventura\", \"address\": \"19575 Biscayne Blvd\", \"city\": \"Aventura\", \"state\": \"FL\", \"zip\": \"33180\", \"phone\": \"305-466-0110\", \"latitude\": 25.95796, \"longitude\": -80.14192, \"brand\": \"ACF\", \"open_date\": \"2023-09-09T00:00:00\", \"state_name\": \"Florida\"}, {\"storeNumber\": \"21396\", \"name\": \"Aventura\", \"address\": \"19575 Biscayne Blvd\", \"city\": \"Aventura\", \"state\": \"FL\", \"zip\": \"33180\", \"phone\": null, \"latitude\": 25.95796, \"longitude\": -80.14192, \"brand\": \"KID\", \"open_date\": \"2023-09-09T00:00:00\", \"state_name\": \"Florida\"}, {\"storeNumber\": \"11695\", \"name\": \"Dadeland\", \"address\": \"7535 N Kendall Dr\", \"city\": \"Miami\", \"state\": \"FL\", \"zip\": \"33156\", \"phone\": \"305-423-7465\", \"latitude\": 25.69019, \"longitude\": -80.31226, \"brand\": \"ACF\", \"open_date\": \"2022-12-05T00:00:00\", \"state_name\": \"Florida\"}, {\"storeNumber\": \"10455\", \"name\": \"Falls\", \"address\": \"8888 Sw 136th Street\", \"city\": \"Miami\", \"state\": \"FL\", \"zip\": \"33176\", \"phone\": \"305-256-3765\", \"latitude\": 25.6454, \"longitude\": -80.33888, \"brand\": \"ACF\", \"open_date\": \"2001-11-23T00:00:00\", \"state_name\": \"Florida\"}, {\"storeNumber\": \"21999\", \"name\": \"Sawgrass Mills\", \"address\": \"12801 W Sunrise Blvd, Ste 527\", \"city\": \"Sunrise\", \"state\": \"FL\", \"zip\": \"33323\", \"phone\": \"954-200-6206\", \"latitude\": 26.1517, \"longitude\": -80.3208, \"brand\": \"KID\", \"open_date\": \"2019-09-20T00:00:00\", \"state_name\": \"Florida\"}, {\"storeNumber\": \"11928\", \"name\": \"Galleria Ft Lauderdale\", \"address\": \"2496 East Sunrise Blvd\", \"city\": \"Fort Lauderdale\", \"state\": \"FL\", \"zip\": \"33304\", \"phone\": \"954-561-4712\", \"latitude\": 26.13704, \"longitude\": -80.113, \"brand\": \"ACF\", \"open_date\": \"2015-04-09T00:00:00\", \"state_name\": \"Florida\"}, {\"storeNumber\": \"10798\", \"name\": \"Tc At Boca Raton\", \"address\": \"6000 Glades Rd., Space #1211a\", \"city\": \"Boca Raton\", \"state\": \"FL\", \"zip\": \"33431\", \"phone\": \"561-368-2247\", \"latitude\": 26.36812, \"longitude\": -80.13471, \"brand\": \"ACF\", \"open_date\": \"2000-11-17T00:00:00\", \"state_name\": \"Florida\"}, {\"storeNumber\": \"21798\", \"name\": \"Tc At Boca Raton\", \"address\": \" 6000 Glades Road Ste 1211a\", \"city\": \"Boca Raton\", \"state\": \"FL\", \"zip\": \"33431\", \"phone\": \"561-368-2247\", \"latitude\": 26.36812, \"longitude\": -80.13471, \"brand\": \"KID\", \"open_date\": \"2018-02-16T00:00:00\", \"state_name\": \"Florida\"}, {\"storeNumber\": \"10410\", \"name\": \"Wellington Green\", \"address\": \"10300 West Forest Hill Blvd\", \"city\": \"Wellington\", \"state\": \"FL\", \"zip\": \"33414\", \"phone\": \"561-333-4031\", \"latitude\": 26.64623, \"longitude\": -80.20834, \"brand\": \"ACF\", \"open_date\": \"2001-11-03T00:00:00\", \"state_name\": \"Florida\"}, {\"storeNumber\": \"21410\", \"name\": \"Wellington Green\", \"address\": \"10300 West Forest Hill Blvd\", \"city\": \"Wellington\", \"state\": \"FL\", \"zip\": \"33414\", \"phone\": \"561-333-4031\", \"latitude\": 26.64623, \"longitude\": -80.20834, \"brand\": \"KID\", \"open_date\": \"2015-11-07T00:00:00\", \"state_name\": \"Florida\"}, {\"storeNumber\": \"11499\", \"name\": \"Gardens\", \"address\": \"3101 Pga Boulevard, Space B113\", \"city\": \"Palm Beach Gardens\", \"state\": \"FL\", \"zip\": \"33410\", \"phone\": \"561-775-9410\", \"latitude\": 26.84881, \"longitude\": -80.08565, \"brand\": \"ACF\", \"open_date\": \"2014-08-29T00:00:00\", \"state_name\": \"Florida\"}, {\"storeNumber\": \"10648\", \"name\": \"Mayfair\", \"address\": \"2500 North Mayfair Road, Ste M132\", \"city\": \"Wauwatosa\", \"state\": \"WI\", \"zip\": \"53226\", \"phone\": \"414-479-1779\", \"latitude\": 43.06395, \"longitude\": -88.04436, \"brand\": \"ACF\", \"open_date\": \"1996-11-15T00:00:00\", \"state_name\": \"Wisconsin\"}, {\"storeNumber\": \"21648\", \"name\": \"Mayfair\", \"address\": \"2500 North Mayfair Road, Suite M132\", \"city\": \"Wauwatosa\", \"state\": \"WI\", \"zip\": \"53226\", \"phone\": \"414-479-1779\", \"latitude\": 43.06395, \"longitude\": -88.04436, \"brand\": \"KID\", \"open_date\": \"2017-01-27T00:00:00\", \"state_name\": \"Wisconsin\"}, {\"storeNumber\": \"11575\", \"name\": \"Clinton Crossing Premium Outlet\", \"address\": \"20 Killingworth Turnpike\", \"city\": \"Clinton\", \"state\": \"CT\", \"zip\": \"06413\", \"phone\": \"860-664-0879\", \"latitude\": 41.2901, \"longitude\": -72.53315, \"brand\": \"ACF\", \"open_date\": \"2016-11-19T00:00:00\", \"state_name\": \"Connecticut\"}, {\"storeNumber\": \"11548\", \"name\": \"Keystone\", \"address\": \"8701 Keystone Crossing\", \"city\": \"Indianapolis\", \"state\": \"IN\", \"zip\": \"46240\", \"phone\": \"317-564-3085\", \"latitude\": 39.91411, \"longitude\": -86.11098, \"brand\": \"ACF\", \"open_date\": \"2018-11-09T00:00:00\", \"state_name\": \"Indiana\"}, {\"storeNumber\": \"10974\", \"name\": \"Brandon Town Center\", \"address\": \"421 Brandon Town Center\", \"city\": \"Brandon\", \"state\": \"FL\", \"zip\": \"33511\", \"phone\": \"813-681-8895\", \"latitude\": 27.93316, \"longitude\": -82.32515, \"brand\": \"ACF\", \"open_date\": \"2005-11-17T00:00:00\", \"state_name\": \"Florida\"}, {\"storeNumber\": \"21974\", \"name\": \"Brandon Town Center\", \"address\": \"421 Brandon Town Center\", \"city\": \"Brandon\", \"state\": \"FL\", \"zip\": \"33511\", \"phone\": \"813-681-8895\", \"latitude\": 27.93316, \"longitude\": -82.32515, \"brand\": \"KID\", \"open_date\": \"2021-01-08T00:00:00\", \"state_name\": \"Florida\"}, {\"storeNumber\": \"11409\", \"name\": \"International Plaza\", \"address\": \"2223 N. Westshore Blvd\", \"city\": \"Tampa\", \"state\": \"FL\", \"zip\": \"33607\", \"phone\": \"813-402-3332\", \"latitude\": 27.96266, \"longitude\": -82.52048, \"brand\": \"ACF\", \"open_date\": \"2022-10-21T00:00:00\", \"state_name\": \"Florida\"}, {\"storeNumber\": \"11419\", \"name\": \"Mall At Millenia\", \"address\": \"4200 Conroy Road, Suite 196\", \"city\": \"Orlando\", \"state\": \"FL\", \"zip\": \"32839\", \"phone\": \"407-226-3483\", \"latitude\": 28.48556, \"longitude\": -81.43154, \"brand\": \"ACF\", \"open_date\": \"2018-06-15T00:00:00\", \"state_name\": \"Florida\"}, {\"storeNumber\": \"21419\", \"name\": \"Mall At Millenia\", \"address\": \"4200 Conroy Road, Suite 190\", \"city\": \"Orlando\", \"state\": \"FL\", \"zip\": \"32839\", \"phone\": \"321-445-0105\", \"latitude\": 28.48556, \"longitude\": -81.43154, \"brand\": \"KID\", \"open_date\": \"2018-06-08T00:00:00\", \"state_name\": \"Florida\"}, {\"storeNumber\": \"20233\", \"name\": \"The Florida Mall\", \"address\": \"8001 S Orange Blossom Trail\", \"city\": \"Orlando\", \"state\": \"FL\", \"zip\": \"32809\", \"phone\": \"407-850-2023\", \"latitude\": 28.44549, \"longitude\": -81.39278, \"brand\": \"KID\", \"open_date\": \"1999-11-05T00:00:00\", \"state_name\": \"Florida\"}, {\"storeNumber\": \"11918\", \"name\": \"Westfarms\", \"address\": \"1500 New Britain Ave\", \"city\": \"Farmington\", \"state\": \"CT\", \"zip\": \"06032\", \"phone\": \"860-256-0081\", \"latitude\": 41.72389, \"longitude\": -72.7614, \"brand\": \"ACF\", \"open_date\": \"2022-11-18T00:00:00\", \"state_name\": \"Connecticut\"}, {\"storeNumber\": \"11972\", \"name\": \"Washington Square\", \"address\": \"9573 Sw Washington Square Rd\", \"city\": \"Tigard\", \"state\": \"OR\", \"zip\": \"97223\", \"phone\": \"503-207-5210\", \"latitude\": 45.45218, \"longitude\": -122.783, \"brand\": \"ACF\", \"open_date\": \"2019-07-19T00:00:00\", \"state_name\": \"Oregon\"}, {\"storeNumber\": \"21972\", \"name\": \"Washington Square\", \"address\": \"9561 Sw Washington Square Rd\", \"city\": \"Tigard\", \"state\": \"OR\", \"zip\": \"97223\", \"phone\": \"503-207-5221\", \"latitude\": 45.45218, \"longitude\": -122.783, \"brand\": \"KID\", \"open_date\": \"2019-10-25T00:00:00\", \"state_name\": \"Oregon\"}, {\"storeNumber\": \"11670\", \"name\": \"Bellevue\", \"address\": \"240 Bellevue Square\", \"city\": \"Bellevue\", \"state\": \"WA\", \"zip\": \"98004\", \"phone\": \"425-201-2219\", \"latitude\": 47.61511, \"longitude\": -122.20308, \"brand\": \"ACF\", \"open_date\": \"2022-10-14T00:00:00\", \"state_name\": \"Washington\"}, {\"storeNumber\": \"10620\", \"name\": \"Southcenter\", \"address\": \"661 Southcenter Mall\", \"city\": \"Tukwila\", \"state\": \"WA\", \"zip\": \"98188\", \"phone\": \"206-439-2355\", \"latitude\": 47.45982, \"longitude\": -122.26131, \"brand\": \"ACF\", \"open_date\": \"1995-11-22T00:00:00\", \"state_name\": \"Washington\"}, {\"storeNumber\": \"21620\", \"name\": \"Southcenter\", \"address\": \"661 Southcenter Mall\", \"city\": \"Tukwila\", \"state\": \"WA\", \"zip\": \"98188\", \"phone\": \"206-439-2355\", \"latitude\": 47.45982, \"longitude\": -122.26131, \"brand\": \"KID\", \"open_date\": \"2015-11-07T00:00:00\", \"state_name\": \"Washington\"}, {\"storeNumber\": \"11391\", \"name\": \"Seattle Outlets\", \"address\": \"10600 Quil Ceda Blvd\", \"city\": \"Quil Ceda Village\", \"state\": \"WA\", \"zip\": \"98271-8090\", \"phone\": \"360-657-5613\", \"latitude\": 48.09679, \"longitude\": -122.19137, \"brand\": \"ACF\", \"open_date\": \"2013-12-12T00:00:00\", \"state_name\": \"Washington\"}, {\"storeNumber\": \"11005\", \"name\": \"Park City Outlet\", \"address\": \"6699 North Landmark Drive\", \"city\": \"Park City\", \"state\": \"UT\", \"zip\": \"84098\", \"phone\": \"435-649-7063\", \"latitude\": 40.73581, \"longitude\": -111.54905, \"brand\": \"ACF\", \"open_date\": \"2010-08-26T00:00:00\", \"state_name\": \"Utah\"}, {\"storeNumber\": \"10404\", \"name\": \"Twelve Oaks\", \"address\": \"27500 Novi Road, Space B-135\", \"city\": \"Novi\", \"state\": \"MI\", \"zip\": \"48377\", \"phone\": \"248-596-0801\", \"latitude\": 42.49189, \"longitude\": -83.47137, \"brand\": \"ACF\", \"open_date\": \"1994-05-12T00:00:00\", \"state_name\": \"Michigan\"}, {\"storeNumber\": \"22404\", \"name\": \"Twelve Oaks\", \"address\": \"27500 Novi Road\", \"city\": \"Novi\", \"state\": \"MI\", \"zip\": \"48377\", \"phone\": \"248-596-0801\", \"latitude\": 42.49189, \"longitude\": -83.47137, \"brand\": \"KID\", \"open_date\": \"2022-01-14T00:00:00\", \"state_name\": \"Michigan\"}, {\"storeNumber\": \"11668\", \"name\": \"Somerset North\", \"address\": \"2800 W Big Beaver Road, Space P-151\", \"city\": \"Troy\", \"state\": \"MI\", \"zip\": \"48084\", \"phone\": \"248-816-9668\", \"latitude\": 42.56252, \"longitude\": -83.18403, \"brand\": \"ACF\", \"open_date\": \"2017-07-21T00:00:00\", \"state_name\": \"Michigan\"}, {\"storeNumber\": \"21103\", \"name\": \"Somerset North\", \"address\": \"2800 W Big Beaver Road, Ste V-368\", \"city\": \"Troy\", \"state\": \"MI\", \"zip\": \"48084\", \"phone\": \"248-282-6696\", \"latitude\": 42.56252, \"longitude\": -83.18403, \"brand\": \"KID\", \"open_date\": \"2018-08-03T00:00:00\", \"state_name\": \"Michigan\"}, {\"storeNumber\": \"10671\", \"name\": \"Franklin Park\", \"address\": \"5001 Monroe Street, Ste 1460\", \"city\": \"Toledo\", \"state\": \"OH\", \"zip\": \"43623\", \"phone\": \"419-475-1491\", \"latitude\": 41.69847, \"longitude\": -83.64302, \"brand\": \"ACF\", \"open_date\": \"1997-05-22T00:00:00\", \"state_name\": \"Ohio\"}, {\"storeNumber\": \"10640\", \"name\": \"Southpark\", \"address\": \"232 Southpark Center\", \"city\": \"Strongsville\", \"state\": \"OH\", \"zip\": \"44136\", \"phone\": \"440-846-0669\", \"latitude\": 41.31085, \"longitude\": -81.82267, \"brand\": \"ACF\", \"open_date\": \"1996-10-16T00:00:00\", \"state_name\": \"Ohio\"}, {\"storeNumber\": \"10684\", \"name\": \"Faneuil Hall\", \"address\": \"1 Faneuil Hall Square, Stop 100\", \"city\": \"Boston\", \"state\": \"MA\", \"zip\": \"02109\", \"phone\": \"617-722-0021\", \"latitude\": 42.36005, \"longitude\": -71.05623, \"brand\": \"ACF\", \"open_date\": \"2008-03-14T00:00:00\", \"state_name\": \"Massachusetts\"}, {\"storeNumber\": \"21685\", \"name\": \"Faneuil Hall\", \"address\": \"1 Faneuil Hall Square, Stop 100\", \"city\": \"Boston\", \"state\": \"MA\", \"zip\": \"02109\", \"phone\": \"617-722-0021\", \"latitude\": 42.36005, \"longitude\": -71.05623, \"brand\": \"KID\", \"open_date\": \"2019-01-25T00:00:00\", \"state_name\": \"Massachusetts\"}, {\"storeNumber\": \"11336\", \"name\": \"Newbury Street\", \"address\": \"321 Newbury Street\", \"city\": \"Boston\", \"state\": \"MA\", \"zip\": \"02115\", \"phone\": \"617-535-6168\", \"latitude\": 42.34901, \"longitude\": -71.08614, \"brand\": \"ACF\", \"open_date\": \"2023-03-17T00:00:00\", \"state_name\": \"Massachusetts\"}, {\"storeNumber\": \"12524\", \"name\": \"Marketstreet Lynnfield\", \"address\": \"1100 Market St\", \"city\": \"Lynnfield\", \"state\": \"MA\", \"zip\": \"01940\", \"phone\": \"781-716-5420\", \"latitude\": 42.51647, \"longitude\": -71.03493, \"brand\": \"ACF\", \"open_date\": \"2021-10-08T00:00:00\", \"state_name\": \"Massachusetts\"}, {\"storeNumber\": \"21166\", \"name\": \"Burlington\", \"address\": \"75 Middlesex Turnpike\", \"city\": \"Burlington\", \"state\": \"MA\", \"zip\": \"01803\", \"phone\": \"781-203-7930\", \"latitude\": 42.48244, \"longitude\": -71.21348, \"brand\": \"KID\", \"open_date\": \"2021-07-09T00:00:00\", \"state_name\": \"Massachusetts\"}, {\"storeNumber\": \"10968\", \"name\": \"Burlington\", \"address\": \"75 Middlesex Turnpike Ste 2200\", \"city\": \"Burlington\", \"state\": \"MA\", \"zip\": \"01803\", \"phone\": \"781-272-3509\", \"latitude\": 42.48112, \"longitude\": -71.21675, \"brand\": \"ACF\", \"open_date\": \"2010-03-26T00:00:00\", \"state_name\": \"Massachusetts\"}, {\"storeNumber\": \"20198\", \"name\": \"Northshore\", \"address\": \"210 Andover St Space X115\", \"city\": \"Peabody\", \"state\": \"MA\", \"zip\": \"01960\", \"phone\": \"978-531-2559\", \"latitude\": 42.54286, \"longitude\": -70.94198, \"brand\": \"KID\", \"open_date\": \"2008-11-04T00:00:00\", \"state_name\": \"Massachusetts\"}, {\"storeNumber\": \"21333\", \"name\": \"South Shore\", \"address\": \"250 Granite Street\", \"city\": \"Braintree\", \"state\": \"MA\", \"zip\": \"02184\", \"phone\": \"781-917-0499\", \"latitude\": 42.2223, \"longitude\": -71.02421, \"brand\": \"KID\", \"open_date\": \"2021-07-30T00:00:00\", \"state_name\": \"Massachusetts\"}, {\"storeNumber\": \"10637\", \"name\": \"South Shore\", \"address\": \"250 Granite Street, Ste 154\", \"city\": \"Braintree\", \"state\": \"MA\", \"zip\": \"02184\", \"phone\": \"781-380-3754\", \"latitude\": 42.21997, \"longitude\": -71.02276, \"brand\": \"ACF\", \"open_date\": \"1997-02-13T00:00:00\", \"state_name\": \"Massachusetts\"}, {\"storeNumber\": \"12504\", \"name\": \"Natick\", \"address\": \"1245 Worcester Street\", \"city\": \"Natick\", \"state\": \"MA\", \"zip\": \"01760\", \"phone\": \"508-651-3085\", \"latitude\": 42.30443, \"longitude\": -71.32653, \"brand\": \"ACF\", \"open_date\": \"2021-05-07T00:00:00\", \"state_name\": \"Massachusetts\"}, {\"storeNumber\": \"21178\", \"name\": \"Natick\", \"address\": \"1245 Worcester Street, Suite 2132\", \"city\": \"Natick\", \"state\": \"MA\", \"zip\": \"01760\", \"phone\": \"508-433-1054\", \"latitude\": 42.29945, \"longitude\": -71.38493, \"brand\": \"KID\", \"open_date\": \"2018-08-10T00:00:00\", \"state_name\": \"Massachusetts\"}, {\"storeNumber\": \"10524\", \"name\": \"Rockingham Park\", \"address\": \"99 Rockingham Park Blvd  Ste 3\", \"city\": \"Salem\", \"state\": \"NH\", \"zip\": \"03079\", \"phone\": \"603-893-1924\", \"latitude\": 42.76815, \"longitude\": -71.23136, \"brand\": \"ACF\", \"open_date\": \"1991-10-31T00:00:00\", \"state_name\": \"New Hampshire\"}, {\"storeNumber\": \"10653\", \"name\": \"Pheasant Lane\", \"address\": \"310 Daniel Webster Hwy. Suite #116\", \"city\": \"Nashua\", \"state\": \"NH\", \"zip\": \"03060\", \"phone\": \"603-888-9953\", \"latitude\": 42.70185, \"longitude\": -71.44052, \"brand\": \"ACF\", \"open_date\": \"1996-08-29T00:00:00\", \"state_name\": \"New Hampshire\"}, {\"storeNumber\": \"12521\", \"name\": \"Providence Place\", \"address\": \"1 Providence Place, Unit 3250\", \"city\": \"Providence\", \"state\": \"RI\", \"zip\": \"02903\", \"phone\": \"401-473-0024\", \"latitude\": 41.82807, \"longitude\": -71.41588, \"brand\": \"ACF\", \"open_date\": \"2021-05-21T00:00:00\", \"state_name\": \"Rhode Island\"}, {\"storeNumber\": \"10558\", \"name\": \"Eastview\", \"address\": \"437 Eastview Mall\", \"city\": \"Victor\", \"state\": \"NY\", \"zip\": \"14564\", \"phone\": \"585-223-4520\", \"latitude\": 43.02999, \"longitude\": -77.44391, \"brand\": \"ACF\", \"open_date\": \"1995-11-22T00:00:00\", \"state_name\": \"New York\"}, {\"storeNumber\": \"21558\", \"name\": \"Eastview\", \"address\": \"437 Eastview Mall\", \"city\": \"Victor\", \"state\": \"NY\", \"zip\": \"14564\", \"phone\": \"585-223-4520\", \"latitude\": 43.02999, \"longitude\": -77.44391, \"brand\": \"KID\", \"open_date\": \"2018-08-17T00:00:00\", \"state_name\": \"New York\"}, {\"storeNumber\": \"11680\", \"name\": \"Polaris Fashion Place\", \"address\": \"1500 Polaris Parkway, Ste 1190\", \"city\": \"Columbus\", \"state\": \"OH\", \"zip\": \"43240\", \"phone\": \"614-781-0510\", \"latitude\": 40.1456, \"longitude\": -82.9814, \"brand\": \"ACF\", \"open_date\": \"2017-02-17T00:00:00\", \"state_name\": \"Ohio\"}, {\"storeNumber\": \"21121\", \"name\": \"Polaris Fashion Place\", \"address\": \"1500 Polaris Pkwy\", \"city\": \"Columbus\", \"state\": \"OH\", \"zip\": \"43240-2126\", \"phone\": \"614-807-3010\", \"latitude\": 40.1456, \"longitude\": -82.9814, \"brand\": \"KID\", \"open_date\": \"2019-05-17T00:00:00\", \"state_name\": \"Ohio\"}, {\"storeNumber\": \"11681\", \"name\": \"Easton Town Center\", \"address\": \"3964 Easton Station\", \"city\": \"Columbus\", \"state\": \"OH\", \"zip\": \"43219\", \"phone\": \"614-418-7648\", \"latitude\": 40.04987, \"longitude\": -82.91549, \"brand\": \"ACF\", \"open_date\": \"2019-07-03T00:00:00\", \"state_name\": \"Ohio\"}, {\"storeNumber\": \"21210\", \"name\": \"Easton Town Center\", \"address\": \"215 Easton Town Center\", \"city\": \"Columbus\", \"state\": \"OH\", \"zip\": \"43219\", \"phone\": \"614-418-7662\", \"latitude\": 40.04987, \"longitude\": -82.91549, \"brand\": \"KID\", \"open_date\": \"2018-11-16T00:00:00\", \"state_name\": \"Ohio\"}, {\"storeNumber\": \"11773\", \"name\": \"St Johns Town Center\", \"address\": \"4790 River City Drive Suite 125\", \"city\": \"Jacksonville\", \"state\": \"FL\", \"zip\": \"32246\", \"phone\": \"904-596-9964\", \"latitude\": 30.25778, \"longitude\": -81.52632, \"brand\": \"ACF\", \"open_date\": \"2023-11-17T00:00:00\", \"state_name\": \"Florida\"}, {\"storeNumber\": \"10435\", \"name\": \"Rehoboth Beach Outlet\", \"address\": \"36470 Seaside Drive\", \"city\": \"Rehoboth Beach\", \"state\": \"DE\", \"zip\": \"19971\", \"phone\": \"302-227-8480\", \"latitude\": 38.72194, \"longitude\": -75.11303, \"brand\": \"ACF\", \"open_date\": \"2006-10-12T00:00:00\", \"state_name\": \"Delaware\"}, {\"storeNumber\": \"10545\", \"name\": \"Fayette\", \"address\": \"3615 Nicholasville Road, Ste 808\", \"city\": \"Lexington\", \"state\": \"KY\", \"zip\": \"40503\", \"phone\": \"859-272-2498\", \"latitude\": 37.98711, \"longitude\": -84.52573, \"brand\": \"ACF\", \"open_date\": \"1993-09-23T00:00:00\", \"state_name\": \"Kentucky\"}, {\"storeNumber\": \"21579\", \"name\": \"Fayette\", \"address\": \"3615 Nicholasville Road\", \"city\": \"Lexington\", \"state\": \"KY\", \"zip\": \"40503\", \"phone\": \"859-272-2498\", \"latitude\": 37.98711, \"longitude\": -84.52573, \"brand\": \"KID\", \"open_date\": \"2021-01-08T00:00:00\", \"state_name\": \"Kentucky\"}, {\"storeNumber\": \"11593\", \"name\": \"Outlet Shoppes Of The Bluegrass\", \"address\": \"1155 Buck Creek Road\", \"city\": \"Simpsonville\", \"state\": \"KY\", \"zip\": \"40067\", \"phone\": \"502-722-8311\", \"latitude\": 38.20566, \"longitude\": -85.35175, \"brand\": \"ACF\", \"open_date\": \"2015-10-24T00:00:00\", \"state_name\": \"Kentucky\"}, {\"storeNumber\": \"21593\", \"name\": \"Outlet Shoppes Of The Bluegrass\", \"address\": \"1155 Buck Creek Road\", \"city\": \"Simpsonville\", \"state\": \"KY\", \"zip\": \"40067\", \"phone\": \"502-722-8311\", \"latitude\": 38.20566, \"longitude\": -85.35175, \"brand\": \"KID\", \"open_date\": \"2015-10-24T00:00:00\", \"state_name\": \"Kentucky\"}, {\"storeNumber\": \"11190\", \"name\": \"Southaven\", \"address\": \"5205 Airways Boulevard\", \"city\": \"Southaven\", \"state\": \"MS\", \"zip\": \"38671\", \"phone\": \"662-349-0575\", \"latitude\": 35.00711, \"longitude\": -89.98954, \"brand\": \"ACF\", \"open_date\": \"2015-11-19T00:00:00\", \"state_name\": \"Mississippi\"}, {\"storeNumber\": \"11576\", \"name\": \"Indiana Po\", \"address\": \"11925 Ne Executive Drive\", \"city\": \"Edinburgh\", \"state\": \"IN\", \"zip\": \"46124\", \"phone\": \"812-526-2151\", \"latitude\": 39.31063, \"longitude\": -85.95954, \"brand\": \"ACF\", \"open_date\": \"2015-04-18T00:00:00\", \"state_name\": \"Indiana\"}, {\"storeNumber\": \"11521\", \"name\": \"King Street\", \"address\": \"235 King St\", \"city\": \"Charleston\", \"state\": \"SC\", \"zip\": \"29401\", \"phone\": \"843-614-3040\", \"latitude\": 32.78115, \"longitude\": -79.93357, \"brand\": \"ACF\", \"open_date\": \"2023-09-29T00:00:00\", \"state_name\": \"South Carolina\"}, {\"storeNumber\": \"11126\", \"name\": \"Woodland\", \"address\": \"3195 28th St Se Ste H106\", \"city\": \"Grand Rapids\", \"state\": \"MI\", \"zip\": \"49512\", \"phone\": \"616-320-3530\", \"latitude\": 42.91607, \"longitude\": -85.58831, \"brand\": \"ACF\", \"open_date\": \"2023-10-27T00:00:00\", \"state_name\": \"Michigan\"}, {\"storeNumber\": \"11508\", \"name\": \"Mall At Robinson\", \"address\": \"2230 Robinson Center Drive\", \"city\": \"Pittsburgh\", \"state\": \"PA\", \"zip\": \"15205\", \"phone\": \"412-859-1014\", \"latitude\": 40.4542, \"longitude\": -80.1565, \"brand\": \"ACF\", \"open_date\": \"2016-02-03T00:00:00\", \"state_name\": \"Pennsylvania\"}]}}, {\"mode\": \"vega-lite\"});\n",
       "</script>"
      ],
      "text/plain": [
       "alt.LayerChart(...)"
      ]
     },
     "execution_count": 24,
     "metadata": {},
     "output_type": "execute_result"
    }
   ],
   "source": [
    "points = (\n",
    "    alt.Chart(df_geo)\n",
    "    .mark_circle(size=10, color=f\"{color}\")\n",
    "    .encode(\n",
    "        longitude=\"longitude:Q\",\n",
    "        latitude=\"latitude:Q\",\n",
    "    )\n",
    ")\n",
    "\n",
    "point_map = background + points\n",
    "point_map.configure_view(stroke=None)"
   ]
  },
  {
   "cell_type": "markdown",
   "id": "c2e39930-ea8a-4bee-a74d-b7ffe341b871",
   "metadata": {},
   "source": [
    "#### Location proportional symbols map"
   ]
  },
  {
   "cell_type": "code",
   "execution_count": 25,
   "id": "fd08e9fe-299d-4bf1-b548-8ef439bf039a",
   "metadata": {},
   "outputs": [
    {
     "data": {
      "text/html": [
       "\n",
       "<style>\n",
       "  #altair-viz-1afa9ca1566944768d223c9b4c49874e.vega-embed {\n",
       "    width: 100%;\n",
       "    display: flex;\n",
       "  }\n",
       "\n",
       "  #altair-viz-1afa9ca1566944768d223c9b4c49874e.vega-embed details,\n",
       "  #altair-viz-1afa9ca1566944768d223c9b4c49874e.vega-embed details summary {\n",
       "    position: relative;\n",
       "  }\n",
       "</style>\n",
       "<div id=\"altair-viz-1afa9ca1566944768d223c9b4c49874e\"></div>\n",
       "<script type=\"text/javascript\">\n",
       "  var VEGA_DEBUG = (typeof VEGA_DEBUG == \"undefined\") ? {} : VEGA_DEBUG;\n",
       "  (function(spec, embedOpt){\n",
       "    let outputDiv = document.currentScript.previousElementSibling;\n",
       "    if (outputDiv.id !== \"altair-viz-1afa9ca1566944768d223c9b4c49874e\") {\n",
       "      outputDiv = document.getElementById(\"altair-viz-1afa9ca1566944768d223c9b4c49874e\");\n",
       "    }\n",
       "    const paths = {\n",
       "      \"vega\": \"https://cdn.jsdelivr.net/npm/vega@5?noext\",\n",
       "      \"vega-lib\": \"https://cdn.jsdelivr.net/npm/vega-lib?noext\",\n",
       "      \"vega-lite\": \"https://cdn.jsdelivr.net/npm/vega-lite@5.16.3?noext\",\n",
       "      \"vega-embed\": \"https://cdn.jsdelivr.net/npm/vega-embed@6?noext\",\n",
       "    };\n",
       "\n",
       "    function maybeLoadScript(lib, version) {\n",
       "      var key = `${lib.replace(\"-\", \"\")}_version`;\n",
       "      return (VEGA_DEBUG[key] == version) ?\n",
       "        Promise.resolve(paths[lib]) :\n",
       "        new Promise(function(resolve, reject) {\n",
       "          var s = document.createElement('script');\n",
       "          document.getElementsByTagName(\"head\")[0].appendChild(s);\n",
       "          s.async = true;\n",
       "          s.onload = () => {\n",
       "            VEGA_DEBUG[key] = version;\n",
       "            return resolve(paths[lib]);\n",
       "          };\n",
       "          s.onerror = () => reject(`Error loading script: ${paths[lib]}`);\n",
       "          s.src = paths[lib];\n",
       "        });\n",
       "    }\n",
       "\n",
       "    function showError(err) {\n",
       "      outputDiv.innerHTML = `<div class=\"error\" style=\"color:red;\">${err}</div>`;\n",
       "      throw err;\n",
       "    }\n",
       "\n",
       "    function displayChart(vegaEmbed) {\n",
       "      vegaEmbed(outputDiv, spec, embedOpt)\n",
       "        .catch(err => showError(`Javascript Error: ${err.message}<br>This usually means there's a typo in your chart specification. See the javascript console for the full traceback.`));\n",
       "    }\n",
       "\n",
       "    if(typeof define === \"function\" && define.amd) {\n",
       "      requirejs.config({paths});\n",
       "      require([\"vega-embed\"], displayChart, err => showError(`Error loading script: ${err.message}`));\n",
       "    } else {\n",
       "      maybeLoadScript(\"vega\", \"5\")\n",
       "        .then(() => maybeLoadScript(\"vega-lite\", \"5.16.3\"))\n",
       "        .then(() => maybeLoadScript(\"vega-embed\", \"6\"))\n",
       "        .catch(showError)\n",
       "        .then(() => displayChart(vegaEmbed));\n",
       "    }\n",
       "  })({\"config\": {\"view\": {\"continuousWidth\": 300, \"continuousHeight\": 300, \"stroke\": null}}, \"layer\": [{\"data\": {\"url\": \"https://cdn.jsdelivr.net/npm/vega-datasets@v1.29.0/data/us-10m.json\", \"format\": {\"feature\": \"states\", \"type\": \"topojson\"}}, \"mark\": {\"type\": \"geoshape\", \"fill\": \"#e9e9e9\", \"stroke\": \"white\"}, \"projection\": {\"type\": \"albersUsa\"}, \"title\": \"Abercrombie & Fitch locations\"}, {\"data\": {\"name\": \"data-a0c2ed2a440d992eadbd891ecd555036\"}, \"mark\": {\"type\": \"circle\"}, \"encoding\": {\"color\": {\"value\": \"red\"}, \"latitude\": {\"field\": \"latitude\", \"type\": \"quantitative\"}, \"longitude\": {\"field\": \"longitude\", \"type\": \"quantitative\"}, \"size\": {\"field\": \"count\", \"title\": \"Count by state\", \"type\": \"quantitative\"}, \"tooltip\": [{\"field\": \"state_name\", \"type\": \"nominal\"}, {\"field\": \"count\", \"type\": \"quantitative\"}]}, \"title\": \"Number of Abercrombie & Fitch in US, by average lon/lat of locations\", \"transform\": [{\"aggregate\": [{\"op\": \"mean\", \"field\": \"latitude\", \"as\": \"latitude\"}, {\"op\": \"mean\", \"field\": \"longitude\", \"as\": \"longitude\"}, {\"op\": \"count\", \"as\": \"count\"}], \"groupby\": [\"state_abbr\"]}]}], \"height\": 500, \"width\": 800, \"$schema\": \"https://vega.github.io/schema/vega-lite/v5.16.3.json\", \"datasets\": {\"data-a0c2ed2a440d992eadbd891ecd555036\": [{\"storeNumber\": \"11284\", \"name\": \"Katy Mills Mega Outlet\", \"address\": \"5000 Katy Mills Circle\", \"city\": \"Katy\", \"state\": \"TX\", \"zip\": \"77494\", \"phone\": \"281-644-4778\", \"latitude\": 29.77574, \"longitude\": -95.80937, \"brand\": \"ACF\", \"open_date\": \"2012-11-08T00:00:00\", \"state_name\": \"Texas\", \"type\": \"Feature\", \"geometry\": {\"type\": \"Point\", \"coordinates\": [-95.80937, 29.77574]}}, {\"storeNumber\": \"21284\", \"name\": \"Katy Mills Mega Outlet\", \"address\": \"5000 Katy Mills Circle\", \"city\": \"Katy\", \"state\": \"TX\", \"zip\": \"77494\", \"phone\": \"281-644-4778\", \"latitude\": 29.77574, \"longitude\": -95.80937, \"brand\": \"KID\", \"open_date\": \"2012-11-08T00:00:00\", \"state_name\": \"Texas\", \"type\": \"Feature\", \"geometry\": {\"type\": \"Point\", \"coordinates\": [-95.80937, 29.77574]}}, {\"storeNumber\": \"10450\", \"name\": \"Memorial City\", \"address\": \"303 Memorial City Mall, Suite 774\", \"city\": \"Houston\", \"state\": \"TX\", \"zip\": \"77024\", \"phone\": \"713-827-1770\", \"latitude\": 29.78214, \"longitude\": -95.53878, \"brand\": \"ACF\", \"open_date\": \"2001-11-15T00:00:00\", \"state_name\": \"Texas\", \"type\": \"Feature\", \"geometry\": {\"type\": \"Point\", \"coordinates\": [-95.53878, 29.78214]}}, {\"storeNumber\": \"21114\", \"name\": \"Memorial City\", \"address\": \"303 Memorial City Mall, Ste 204\", \"city\": \"Houston\", \"state\": \"TX\", \"zip\": \"77024\", \"phone\": \"281-605-1022\", \"latitude\": 29.78214, \"longitude\": -95.53878, \"brand\": \"KID\", \"open_date\": \"2020-05-27T00:00:00\", \"state_name\": \"Texas\", \"type\": \"Feature\", \"geometry\": {\"type\": \"Point\", \"coordinates\": [-95.53878, 29.78214]}}, {\"storeNumber\": \"10401\", \"name\": \"Willowbrook\", \"address\": \"1480 Willowbrook Mall\", \"city\": \"Houston\", \"state\": \"TX\", \"zip\": \"77070\", \"phone\": \"832-237-9700\", \"latitude\": 29.96079, \"longitude\": -95.54732, \"brand\": \"ACF\", \"open_date\": \"2001-09-06T00:00:00\", \"state_name\": \"Texas\", \"type\": \"Feature\", \"geometry\": {\"type\": \"Point\", \"coordinates\": [-95.54732, 29.96079]}}, {\"storeNumber\": \"21401\", \"name\": \"Willowbrook\", \"address\": \"1480 Willowbrook Mall\", \"city\": \"Houston\", \"state\": \"TX\", \"zip\": \"77070\", \"phone\": \"832-237-9700\", \"latitude\": 29.96079, \"longitude\": -95.54732, \"brand\": \"KID\", \"open_date\": \"2019-01-25T00:00:00\", \"state_name\": \"Texas\", \"type\": \"Feature\", \"geometry\": {\"type\": \"Point\", \"coordinates\": [-95.54732, 29.96079]}}, {\"storeNumber\": \"11920\", \"name\": \"Woodlands\", \"address\": \"1201 Lake Woodlands Dr\", \"city\": \"The Woodlands\", \"state\": \"TX\", \"zip\": \"77380\", \"phone\": \"346-372-3964\", \"latitude\": 30.16253, \"longitude\": -95.45602, \"brand\": \"ACF\", \"open_date\": \"2022-11-04T00:00:00\", \"state_name\": \"Texas\", \"type\": \"Feature\", \"geometry\": {\"type\": \"Point\", \"coordinates\": [-95.45602, 30.16253]}}, {\"storeNumber\": \"21638\", \"name\": \"Woodlands\", \"address\": \"1201 Lake Woodlands Drive\", \"city\": \"The Woodlands\", \"state\": \"TX\", \"zip\": \"77380\", \"phone\": \"346-786-3946\", \"latitude\": 30.16253, \"longitude\": -95.45602, \"brand\": \"KID\", \"open_date\": \"2022-08-05T00:00:00\", \"state_name\": \"Texas\", \"type\": \"Feature\", \"geometry\": {\"type\": \"Point\", \"coordinates\": [-95.45602, 30.16253]}}, {\"storeNumber\": \"20185\", \"name\": \"Deerbrook\", \"address\": \"20131 Highway 59 North\", \"city\": \"Humble\", \"state\": \"TX\", \"zip\": \"77338\", \"phone\": \"281-446-1400\", \"latitude\": 30.01152, \"longitude\": -95.26857, \"brand\": \"KID\", \"open_date\": \"2008-05-08T00:00:00\", \"state_name\": \"Texas\", \"type\": \"Feature\", \"geometry\": {\"type\": \"Point\", \"coordinates\": [-95.26857, 30.01152]}}, {\"storeNumber\": \"21144\", \"name\": \"Baybrook\", \"address\": \"1300 Baybrook Mall Drive\", \"city\": \"Friendswood\", \"state\": \"TX\", \"zip\": \"77546\", \"phone\": \"281-709-9312\", \"latitude\": 29.53955, \"longitude\": -95.1484, \"brand\": \"KID\", \"open_date\": \"2017-11-17T00:00:00\", \"state_name\": \"Texas\", \"type\": \"Feature\", \"geometry\": {\"type\": \"Point\", \"coordinates\": [-95.1484, 29.53955]}}, {\"storeNumber\": \"11384\", \"name\": \"Baybrook\", \"address\": \"500 Baybrook Mall Dr\", \"city\": \"Friendswood\", \"state\": \"TX\", \"zip\": \"77546\", \"phone\": \"281-709-9506\", \"latitude\": 29.53955, \"longitude\": -95.14592, \"brand\": \"ACF\", \"open_date\": \"2022-10-21T00:00:00\", \"state_name\": \"Texas\", \"type\": \"Feature\", \"geometry\": {\"type\": \"Point\", \"coordinates\": [-95.14592, 29.53955]}}, {\"storeNumber\": \"11822\", \"name\": \"State Street\", \"address\": \"1139 N State St\", \"city\": \"Chicago\", \"state\": \"IL\", \"zip\": \"60610\", \"phone\": \"312-260-1932\", \"latitude\": 41.90259, \"longitude\": -87.62669, \"brand\": \"ACF\", \"open_date\": \"2022-03-25T00:00:00\", \"state_name\": \"Illinois\", \"type\": \"Feature\", \"geometry\": {\"type\": \"Point\", \"coordinates\": [-87.62669, 41.90259]}}, {\"storeNumber\": \"12520\", \"name\": \"Southport\", \"address\": \"3551 N Southport Ave\", \"city\": \"Chicago\", \"state\": \"IL\", \"zip\": \"60657\", \"phone\": \"773-289-1092\", \"latitude\": 41.94687, \"longitude\": -87.66372, \"brand\": \"ACF\", \"open_date\": \"2021-12-17T00:00:00\", \"state_name\": \"Illinois\", \"type\": \"Feature\", \"geometry\": {\"type\": \"Point\", \"coordinates\": [-87.66372, 41.94687]}}, {\"storeNumber\": \"11716\", \"name\": \"Oakbrook\", \"address\": \"1810 Oakbrook Ctr\", \"city\": \"Oakbrook\", \"state\": \"IL\", \"zip\": \"60523\", \"phone\": \"630-230-3079\", \"latitude\": 41.85416, \"longitude\": -87.96537, \"brand\": \"ACF\", \"open_date\": \"2020-03-13T00:00:00\", \"state_name\": \"Illinois\", \"type\": \"Feature\", \"geometry\": {\"type\": \"Point\", \"coordinates\": [-87.96537, 41.85416]}}, {\"storeNumber\": \"21716\", \"name\": \"Oakbrook\", \"address\": \"501 Oakbrook Center\", \"city\": \"Oak Brook\", \"state\": \"IL\", \"zip\": \"60523\", \"phone\": \"630-230-3077\", \"latitude\": 41.85416, \"longitude\": -87.96537, \"brand\": \"KID\", \"open_date\": \"2019-08-09T00:00:00\", \"state_name\": \"Illinois\", \"type\": \"Feature\", \"geometry\": {\"type\": \"Point\", \"coordinates\": [-87.96537, 41.85416]}}, {\"storeNumber\": \"21867\", \"name\": \"Fashion Outlets Of Chicago\", \"address\": \"5220 Fashion Outlets Way, Ste 1069\", \"city\": \"Rosemont\", \"state\": \"IL\", \"zip\": \"60018\", \"phone\": \"847-261-0022\", \"latitude\": 41.97441, \"longitude\": -87.86598, \"brand\": \"KID\", \"open_date\": \"2019-10-31T00:00:00\", \"state_name\": \"Illinois\", \"type\": \"Feature\", \"geometry\": {\"type\": \"Point\", \"coordinates\": [-87.86598, 41.97441]}}, {\"storeNumber\": \"11494\", \"name\": \"Woodfield\", \"address\": \"E132 Woodfield Mall\", \"city\": \"Schaumburg\", \"state\": \"IL\", \"zip\": \"60173\", \"phone\": \"847-598-4787\", \"latitude\": 42.04556, \"longitude\": -88.03723, \"brand\": \"ACF\", \"open_date\": \"2022-11-20T00:00:00\", \"state_name\": \"Illinois\", \"type\": \"Feature\", \"geometry\": {\"type\": \"Point\", \"coordinates\": [-88.03723, 42.04556]}}, {\"storeNumber\": \"11595\", \"name\": \"Chicago Po\", \"address\": \"1650 Premium Outlets\", \"city\": \"Aurora\", \"state\": \"IL\", \"zip\": \"60502\", \"phone\": \"630-692-1053\", \"latitude\": 41.80028, \"longitude\": -88.27391, \"brand\": \"ACF\", \"open_date\": \"2015-08-27T00:00:00\", \"state_name\": \"Illinois\", \"type\": \"Feature\", \"geometry\": {\"type\": \"Point\", \"coordinates\": [-88.27391, 41.80028]}}, {\"storeNumber\": \"21595\", \"name\": \"Chicago Po\", \"address\": \"1650 Premium Outlets\", \"city\": \"Aurora\", \"state\": \"IL\", \"zip\": \"60502\", \"phone\": \"630-692-1053\", \"latitude\": 41.80028, \"longitude\": -88.27391, \"brand\": \"KID\", \"open_date\": \"2015-08-27T00:00:00\", \"state_name\": \"Illinois\", \"type\": \"Feature\", \"geometry\": {\"type\": \"Point\", \"coordinates\": [-88.27391, 41.80028]}}, {\"storeNumber\": \"11278\", \"name\": \"Gurnee Mills Outlet\", \"address\": \"6170 W. Grand Avenue\", \"city\": \"Gurnee\", \"state\": \"IL\", \"zip\": \"60031\", \"phone\": \"847-855-2819\", \"latitude\": 42.38481, \"longitude\": -87.95502, \"brand\": \"ACF\", \"open_date\": \"2012-11-08T00:00:00\", \"state_name\": \"Illinois\", \"type\": \"Feature\", \"geometry\": {\"type\": \"Point\", \"coordinates\": [-87.95502, 42.38481]}}, {\"storeNumber\": \"21278\", \"name\": \"Gurnee Mills Outlet\", \"address\": \"6170 W. Grand Avenue\", \"city\": \"Gurnee\", \"state\": \"IL\", \"zip\": \"60031\", \"phone\": \"847-855-2819\", \"latitude\": 42.38481, \"longitude\": -87.95502, \"brand\": \"KID\", \"open_date\": \"2012-11-08T00:00:00\", \"state_name\": \"Illinois\", \"type\": \"Feature\", \"geometry\": {\"type\": \"Point\", \"coordinates\": [-87.95502, 42.38481]}}, {\"storeNumber\": \"21505\", \"name\": \"Queens Center\", \"address\": \"90-15 Queens Boulevard, Space 3007\", \"city\": \"Elmhurst\", \"state\": \"NY\", \"zip\": \"11373\", \"phone\": \"347-396-3395\", \"latitude\": 40.7348, \"longitude\": -73.8694, \"brand\": \"KID\", \"open_date\": \"2020-09-21T00:00:00\", \"state_name\": \"New York\", \"type\": \"Feature\", \"geometry\": {\"type\": \"Point\", \"coordinates\": [-73.8694, 40.7348]}}, {\"storeNumber\": \"11482\", \"name\": \"Fifth Avenue\", \"address\": \"668 5th Ave\", \"city\": \"New York\", \"state\": \"NY\", \"zip\": \"10103\", \"phone\": \"212-381-0110\", \"latitude\": 40.76021, \"longitude\": -73.97604, \"brand\": \"ACF\", \"open_date\": \"2023-07-21T00:00:00\", \"state_name\": \"New York\", \"type\": \"Feature\", \"geometry\": {\"type\": \"Point\", \"coordinates\": [-73.97604, 40.76021]}}, {\"storeNumber\": \"21488\", \"name\": \"Fifth Avenue\", \"address\": \"668 5th Ave\", \"city\": \"New York\", \"state\": \"NY\", \"zip\": \"10019\", \"phone\": null, \"latitude\": 40.76021, \"longitude\": -73.97604, \"brand\": \"KID\", \"open_date\": \"2023-07-21T00:00:00\", \"state_name\": \"New York\", \"type\": \"Feature\", \"geometry\": {\"type\": \"Point\", \"coordinates\": [-73.97604, 40.76021]}}, {\"storeNumber\": \"11113\", \"name\": \"Flatiron\", \"address\": \"139 5th Ave\", \"city\": \"New York\", \"state\": \"NY\", \"zip\": \"10010\", \"phone\": \"332-910-9744\", \"latitude\": 40.74, \"longitude\": -73.99069, \"brand\": \"ACF\", \"open_date\": \"2023-11-03T00:00:00\", \"state_name\": \"New York\", \"type\": \"Feature\", \"geometry\": {\"type\": \"Point\", \"coordinates\": [-73.99069, 40.74]}}, {\"storeNumber\": \"11925\", \"name\": \"547 Broadway\", \"address\": \"547 Broadway\", \"city\": \"New York\", \"state\": \"NY\", \"zip\": \"10012\", \"phone\": \"212-381-1387\", \"latitude\": 40.72305, \"longitude\": -73.99696, \"brand\": \"ACF\", \"open_date\": \"2023-09-01T00:00:00\", \"state_name\": \"New York\", \"type\": \"Feature\", \"geometry\": {\"type\": \"Point\", \"coordinates\": [-73.99696, 40.72305]}}, {\"storeNumber\": \"21875\", \"name\": \"Kings Plaza\", \"address\": \"5100 Kings Plaza,  Ste 150\", \"city\": \"Brooklyn\", \"state\": \"NY\", \"zip\": \"11234\", \"phone\": \"347-549-4099\", \"latitude\": 40.6097, \"longitude\": -73.9194, \"brand\": \"KID\", \"open_date\": \"2019-10-25T00:00:00\", \"state_name\": \"New York\", \"type\": \"Feature\", \"geometry\": {\"type\": \"Point\", \"coordinates\": [-73.9194, 40.6097]}}, {\"storeNumber\": \"11492\", \"name\": \"Roosevelt Field\", \"address\": \"630 Old Country Rd\", \"city\": \"Garden City\", \"state\": \"NY\", \"zip\": \"11530\", \"phone\": \"516 329 9816\", \"latitude\": 40.73997, \"longitude\": -73.61357, \"brand\": \"ACF\", \"open_date\": \"2022-11-11T00:00:00\", \"state_name\": \"New York\", \"type\": \"Feature\", \"geometry\": {\"type\": \"Point\", \"coordinates\": [-73.61357, 40.73997]}}, {\"storeNumber\": \"21828\", \"name\": \"Roosevelt Field\", \"address\": \"630 Old Country Rd\", \"city\": \"Garden City\", \"state\": \"NY\", \"zip\": \"11530\", \"phone\": \"516-240-2248\", \"latitude\": 40.73997, \"longitude\": -73.61357, \"brand\": \"KID\", \"open_date\": \"2022-11-23T00:00:00\", \"state_name\": \"New York\", \"type\": \"Feature\", \"geometry\": {\"type\": \"Point\", \"coordinates\": [-73.61357, 40.73997]}}, {\"storeNumber\": \"21215\", \"name\": \"American Dream\", \"address\": \"1 American Dream Way\", \"city\": \"East Rutherford\", \"state\": \"NJ\", \"zip\": \"07073\", \"phone\": \"201-549-5008\", \"latitude\": 40.8097, \"longitude\": -74.11805, \"brand\": \"KID\", \"open_date\": \"2020-10-01T00:00:00\", \"state_name\": \"New Jersey\", \"type\": \"Feature\", \"geometry\": {\"type\": \"Point\", \"coordinates\": [-74.11805, 40.8097]}}, {\"storeNumber\": \"11674\", \"name\": \"Garden State\", \"address\": \"1 Garden State Plaza\", \"city\": \"Paramus\", \"state\": \"NJ\", \"zip\": \"07652\", \"phone\": \"201-561-0058\", \"latitude\": 40.91811, \"longitude\": -74.07636, \"brand\": \"ACF\", \"open_date\": \"2019-10-04T00:00:00\", \"state_name\": \"New Jersey\", \"type\": \"Feature\", \"geometry\": {\"type\": \"Point\", \"coordinates\": [-74.07636, 40.91811]}}, {\"storeNumber\": \"21253\", \"name\": \"Garden State\", \"address\": \"1 Garden State Plaza\", \"city\": \"Paramus\", \"state\": \"NJ\", \"zip\": \"07652\", \"phone\": \"201-561-0057\", \"latitude\": 40.91811, \"longitude\": -74.07636, \"brand\": \"KID\", \"open_date\": \"2019-08-30T00:00:00\", \"state_name\": \"New Jersey\", \"type\": \"Feature\", \"geometry\": {\"type\": \"Point\", \"coordinates\": [-74.07636, 40.91811]}}, {\"storeNumber\": \"10436\", \"name\": \"Jersey Gardens Outlet\", \"address\": \"651 Kapkowski Road\", \"city\": \"Elizabeth\", \"state\": \"NJ\", \"zip\": \"07201\", \"phone\": \"908-352-4649\", \"latitude\": 40.66553, \"longitude\": -74.17184, \"brand\": \"ACF\", \"open_date\": \"2006-09-21T00:00:00\", \"state_name\": \"New Jersey\", \"type\": \"Feature\", \"geometry\": {\"type\": \"Point\", \"coordinates\": [-74.17184, 40.66553]}}, {\"storeNumber\": \"21153\", \"name\": \"Jersey Gardens Outlet\", \"address\": \"651 Kapkowski Rd, Ste 1098\", \"city\": \"Elizabeth\", \"state\": \"NJ\", \"zip\": \"07201-4913\", \"phone\": \"908-345-8002\", \"latitude\": 40.66553, \"longitude\": -74.17184, \"brand\": \"KID\", \"open_date\": \"2020-07-24T00:00:00\", \"state_name\": \"New Jersey\", \"type\": \"Feature\", \"geometry\": {\"type\": \"Point\", \"coordinates\": [-74.17184, 40.66553]}}, {\"storeNumber\": \"11518\", \"name\": \"Greenwich Ave\", \"address\": \"107 Greenwich Ave\", \"city\": \"Greenwich\", \"state\": \"CT\", \"zip\": \"06830\", \"phone\": \"203-742-5807\", \"latitude\": 41.02924, \"longitude\": -73.62599, \"brand\": \"ACF\", \"open_date\": \"2023-07-14T00:00:00\", \"state_name\": \"Connecticut\", \"type\": \"Feature\", \"geometry\": {\"type\": \"Point\", \"coordinates\": [-73.62599, 41.02924]}}, {\"storeNumber\": \"11663\", \"name\": \"Willowbrook\", \"address\": \"1400 Willowbrook Mall\", \"city\": \"Wayne\", \"state\": \"NJ\", \"zip\": \"07470-6905\", \"phone\": \"973-256-4165\", \"latitude\": 40.89027, \"longitude\": -74.26077, \"brand\": \"ACF\", \"open_date\": \"2018-05-11T00:00:00\", \"state_name\": \"New Jersey\", \"type\": \"Feature\", \"geometry\": {\"type\": \"Point\", \"coordinates\": [-74.26077, 40.89027]}}, {\"storeNumber\": \"21663\", \"name\": \"Willowbrook\", \"address\": \"1400 Willowbrook Mall, Space 1740\", \"city\": \"Wayne\", \"state\": \"NJ\", \"zip\": \"07470\", \"phone\": \"973-200-8449\", \"latitude\": 40.89027, \"longitude\": -74.26077, \"brand\": \"KID\", \"open_date\": \"2018-10-05T00:00:00\", \"state_name\": \"New Jersey\", \"type\": \"Feature\", \"geometry\": {\"type\": \"Point\", \"coordinates\": [-74.26077, 40.89027]}}, {\"storeNumber\": \"10673\", \"name\": \"Palisades\", \"address\": \"2550 Palisades Center Drive\", \"city\": \"West Nyack\", \"state\": \"NY\", \"zip\": \"10994\", \"phone\": \"845-348-9108\", \"latitude\": 41.09878, \"longitude\": -73.95455, \"brand\": \"ACF\", \"open_date\": \"1998-03-27T00:00:00\", \"state_name\": \"New York\", \"type\": \"Feature\", \"geometry\": {\"type\": \"Point\", \"coordinates\": [-73.95455, 41.09878]}}, {\"storeNumber\": \"21635\", \"name\": \"Palisades\", \"address\": \"2550 Palisades Center Dr\", \"city\": \"West Nyack\", \"state\": \"NY\", \"zip\": \"10994\", \"phone\": \"845-348-9108\", \"latitude\": 41.09878, \"longitude\": -73.95455, \"brand\": \"KID\", \"open_date\": \"2022-01-13T00:00:00\", \"state_name\": \"New York\", \"type\": \"Feature\", \"geometry\": {\"type\": \"Point\", \"coordinates\": [-73.95455, 41.09878]}}, {\"storeNumber\": \"11626\", \"name\": \"Menlo Park\", \"address\": \"55 Parsonage Rd, 1011b\", \"city\": \"Edison\", \"state\": \"NJ\", \"zip\": \"08837\", \"phone\": \"732-476-1315\", \"latitude\": 40.54804, \"longitude\": -74.33585, \"brand\": \"ACF\", \"open_date\": \"2023-11-03T00:00:00\", \"state_name\": \"New Jersey\", \"type\": \"Feature\", \"geometry\": {\"type\": \"Point\", \"coordinates\": [-74.33585, 40.54804]}}, {\"storeNumber\": \"11479\", \"name\": \"Deer Park Outlet\", \"address\": \"152 The Arches Circle\", \"city\": \"Deer Park\", \"state\": \"NY\", \"zip\": \"11729\", \"phone\": \"631-586-1701\", \"latitude\": 40.76498, \"longitude\": -73.30382, \"brand\": \"ACF\", \"open_date\": \"2016-05-14T00:00:00\", \"state_name\": \"New York\", \"type\": \"Feature\", \"geometry\": {\"type\": \"Point\", \"coordinates\": [-73.30382, 40.76498]}}, {\"storeNumber\": \"21479\", \"name\": \"Deer Park Outlet\", \"address\": \"152 The Arches Circle\", \"city\": \"Deer Park\", \"state\": \"NY\", \"zip\": \"11729\", \"phone\": \"631-586-1701\", \"latitude\": 40.76498, \"longitude\": -73.30382, \"brand\": \"KID\", \"open_date\": \"2016-05-14T00:00:00\", \"state_name\": \"New York\", \"type\": \"Feature\", \"geometry\": {\"type\": \"Point\", \"coordinates\": [-73.30382, 40.76498]}}, {\"storeNumber\": \"11505\", \"name\": \"Sono Collection\", \"address\": \"105 West Avenue, Space 1600\", \"city\": \"Norwalk\", \"state\": \"CT\", \"zip\": \"06854\", \"phone\": \"203-642-7002\", \"latitude\": 41.10509, \"longitude\": -73.41909, \"brand\": \"ACF\", \"open_date\": \"2019-10-11T00:00:00\", \"state_name\": \"Connecticut\", \"type\": \"Feature\", \"geometry\": {\"type\": \"Point\", \"coordinates\": [-73.41909, 41.10509]}}, {\"storeNumber\": \"21500\", \"name\": \"Sono Collection\", \"address\": \"105 West Avenue, Space 3750\", \"city\": \"Norwalk\", \"state\": \"CT\", \"zip\": \"06854\", \"phone\": \"203-642-7013\", \"latitude\": 41.10509, \"longitude\": -73.41909, \"brand\": \"KID\", \"open_date\": \"2019-11-22T00:00:00\", \"state_name\": \"Connecticut\", \"type\": \"Feature\", \"geometry\": {\"type\": \"Point\", \"coordinates\": [-73.41909, 41.10509]}}, {\"storeNumber\": \"10924\", \"name\": \"Freehold Raceway\", \"address\": \"3710 Us Highway 9, Ste 1404\", \"city\": \"Freehold\", \"state\": \"NJ\", \"zip\": \"07728\", \"phone\": \"732-294-0060\", \"latitude\": 40.25454, \"longitude\": -74.29736, \"brand\": \"ACF\", \"open_date\": \"2004-05-27T00:00:00\", \"state_name\": \"New Jersey\", \"type\": \"Feature\", \"geometry\": {\"type\": \"Point\", \"coordinates\": [-74.29736, 40.25454]}}, {\"storeNumber\": \"21924\", \"name\": \"Freehold Raceway\", \"address\": \"3710us Highway 9, Ste 1404\", \"city\": \"Freehold\", \"state\": \"NJ\", \"zip\": \"07728\", \"phone\": \"732-294-0060\", \"latitude\": 40.25454, \"longitude\": -74.29736, \"brand\": \"KID\", \"open_date\": \"2018-08-17T00:00:00\", \"state_name\": \"New Jersey\", \"type\": \"Feature\", \"geometry\": {\"type\": \"Point\", \"coordinates\": [-74.29736, 40.25454]}}, {\"storeNumber\": \"11422\", \"name\": \"Bridgewater Commons\", \"address\": \"400 Commons Way\", \"city\": \"Bridgewater\", \"state\": \"NJ\", \"zip\": \"08807\", \"phone\": \"908-333-6040\", \"latitude\": 40.58645, \"longitude\": -74.61821, \"brand\": \"ACF\", \"open_date\": \"2019-09-27T00:00:00\", \"state_name\": \"New Jersey\", \"type\": \"Feature\", \"geometry\": {\"type\": \"Point\", \"coordinates\": [-74.61821, 40.58645]}}, {\"storeNumber\": \"20179\", \"name\": \"Bridgewater Commons\", \"address\": \"400 Commons Way, Suite 253\", \"city\": \"Bridgewater\", \"state\": \"NJ\", \"zip\": \"08807\", \"phone\": \"908-725-0203\", \"latitude\": 40.58645, \"longitude\": -74.61821, \"brand\": \"KID\", \"open_date\": \"2007-09-06T00:00:00\", \"state_name\": \"New Jersey\", \"type\": \"Feature\", \"geometry\": {\"type\": \"Point\", \"coordinates\": [-74.61821, 40.58645]}}, {\"storeNumber\": \"11555\", \"name\": \"Woodbury Commons\", \"address\": \"629 Race Track Ln\", \"city\": \"Central Valley\", \"state\": \"NY\", \"zip\": \"10917\", \"phone\": \"845-827-3267\", \"latitude\": 41.3169, \"longitude\": -74.125, \"brand\": \"ACF\", \"open_date\": \"2020-07-01T00:00:00\", \"state_name\": \"New York\", \"type\": \"Feature\", \"geometry\": {\"type\": \"Point\", \"coordinates\": [-74.125, 41.3169]}}, {\"storeNumber\": \"11669\", \"name\": \"Danbury Fair\", \"address\": \"7 Backus Avenue, Ste 193\", \"city\": \"Danbury\", \"state\": \"CT\", \"zip\": \"06810\", \"phone\": \"203-798-8758\", \"latitude\": 41.37972, \"longitude\": -73.4807, \"brand\": \"ACF\", \"open_date\": \"2016-02-03T00:00:00\", \"state_name\": \"Connecticut\", \"type\": \"Feature\", \"geometry\": {\"type\": \"Point\", \"coordinates\": [-73.4807, 41.37972]}}, {\"storeNumber\": \"11558\", \"name\": \"Riverhead Outlet\", \"address\": \"200 Tanger Mall Drive\", \"city\": \"Riverhead\", \"state\": \"NY\", \"zip\": \"11901\", \"phone\": \"631-369-2640\", \"latitude\": 40.92109, \"longitude\": -72.71293, \"brand\": \"ACF\", \"open_date\": \"2015-12-19T00:00:00\", \"state_name\": \"New York\", \"type\": \"Feature\", \"geometry\": {\"type\": \"Point\", \"coordinates\": [-72.71293, 40.92109]}}, {\"storeNumber\": \"11910\", \"name\": \"Cielo Vista\", \"address\": \"8401 Gateway Blvd W\", \"city\": \"El Paso\", \"state\": \"TX\", \"zip\": \"79925\", \"phone\": \"915-261-1058\", \"latitude\": 31.77552, \"longitude\": -106.37915, \"brand\": \"ACF\", \"open_date\": \"2021-07-09T00:00:00\", \"state_name\": \"Texas\", \"type\": \"Feature\", \"geometry\": {\"type\": \"Point\", \"coordinates\": [-106.37915, 31.77552]}}, {\"storeNumber\": \"20191\", \"name\": \"Cielo Vista\", \"address\": \"8401 Gateway Blvd W\", \"city\": \"El Paso\", \"state\": \"TX\", \"zip\": \"79925\", \"phone\": \"915-772-7900\", \"latitude\": 31.77636, \"longitude\": -106.37923, \"brand\": \"KID\", \"open_date\": \"2008-05-29T00:00:00\", \"state_name\": \"Texas\", \"type\": \"Feature\", \"geometry\": {\"type\": \"Point\", \"coordinates\": [-106.37923, 31.77636]}}, {\"storeNumber\": \"11690\", \"name\": \"Glendale Galleria\", \"address\": \"2151 Glendale Galleria\", \"city\": \"Glendale\", \"state\": \"CA\", \"zip\": \"91210\", \"phone\": \"818-550-7492\", \"latitude\": 34.14518, \"longitude\": -118.25855, \"brand\": \"ACF\", \"open_date\": \"2018-11-22T00:00:00\", \"state_name\": \"California\", \"type\": \"Feature\", \"geometry\": {\"type\": \"Point\", \"coordinates\": [-118.25855, 34.14518]}}, {\"storeNumber\": \"20142\", \"name\": \"Glendale Galleria\", \"address\": \"2229 Glendale Galleria\", \"city\": \"Glendale\", \"state\": \"CA\", \"zip\": \"91210\", \"phone\": \"818-502-0728\", \"latitude\": 34.14518, \"longitude\": -118.25855, \"brand\": \"KID\", \"open_date\": \"2007-02-01T00:00:00\", \"state_name\": \"California\", \"type\": \"Feature\", \"geometry\": {\"type\": \"Point\", \"coordinates\": [-118.25855, 34.14518]}}, {\"storeNumber\": \"11682\", \"name\": \"Westfield Century City\", \"address\": \"10250 Santa Monica Blvd Ste 1707\", \"city\": \"Los Angeles\", \"state\": \"CA\", \"zip\": \"90067\", \"phone\": \"310-277-0823\", \"latitude\": 34.05968, \"longitude\": -118.41949, \"brand\": \"ACF\", \"open_date\": \"2017-08-25T00:00:00\", \"state_name\": \"California\", \"type\": \"Feature\", \"geometry\": {\"type\": \"Point\", \"coordinates\": [-118.41949, 34.05968]}}, {\"storeNumber\": \"10917\", \"name\": \"Universal Citywalk\", \"address\": \"100 Universal City Plaza\", \"city\": \"Universal City\", \"state\": \"CA\", \"zip\": \"91608\", \"phone\": \"818-752-7530\", \"latitude\": 34.13596, \"longitude\": -118.35343, \"brand\": \"ACF\", \"open_date\": \"2004-03-04T00:00:00\", \"state_name\": \"California\", \"type\": \"Feature\", \"geometry\": {\"type\": \"Point\", \"coordinates\": [-118.35343, 34.13596]}}, {\"storeNumber\": \"21917\", \"name\": \"Universal Citywalk\", \"address\": \"100 Universal City Plaza\", \"city\": \"Universal City\", \"state\": \"CA\", \"zip\": \"91608\", \"phone\": \"818-752-7530\", \"latitude\": 34.13596, \"longitude\": -118.35343, \"brand\": \"KID\", \"open_date\": \"2019-12-13T00:00:00\", \"state_name\": \"California\", \"type\": \"Feature\", \"geometry\": {\"type\": \"Point\", \"coordinates\": [-118.35343, 34.13596]}}, {\"storeNumber\": \"11217\", \"name\": \"Del Amo Fashion\", \"address\": \"3525 W Carson St\", \"city\": \"Torrance\", \"state\": \"CA\", \"zip\": \"90503\", \"phone\": \"424-409-2220\", \"latitude\": 33.83123, \"longitude\": -118.35214, \"brand\": \"ACF\", \"open_date\": \"2022-08-05T00:00:00\", \"state_name\": \"California\", \"type\": \"Feature\", \"geometry\": {\"type\": \"Point\", \"coordinates\": [-118.35214, 33.83123]}}, {\"storeNumber\": \"11697\", \"name\": \"Third Street Promenade\", \"address\": \"1325 3rd St. Promenade\", \"city\": \"Santa Monica\", \"state\": \"CA\", \"zip\": \"90401\", \"phone\": \"310-899-2966\", \"latitude\": 34.01612, \"longitude\": -118.49643, \"brand\": \"ACF\", \"open_date\": \"2018-09-10T00:00:00\", \"state_name\": \"California\", \"type\": \"Feature\", \"geometry\": {\"type\": \"Point\", \"coordinates\": [-118.49643, 34.01612]}}, {\"storeNumber\": \"10491\", \"name\": \"Los Cerritos\", \"address\": \"143 Los Cerritos Center\", \"city\": \"Cerritos\", \"state\": \"CA\", \"zip\": \"90703\", \"phone\": \"562-860-0184\", \"latitude\": 33.86344, \"longitude\": -118.09366, \"brand\": \"ACF\", \"open_date\": \"2003-11-14T00:00:00\", \"state_name\": \"California\", \"type\": \"Feature\", \"geometry\": {\"type\": \"Point\", \"coordinates\": [-118.09366, 33.86344]}}, {\"storeNumber\": \"21491\", \"name\": \"Los Cerritos\", \"address\": \"143 Los Cerritos Center\", \"city\": \"Cerritos\", \"state\": \"CA\", \"zip\": \"90703\", \"phone\": \"562-860-0184\", \"latitude\": 33.86344, \"longitude\": -118.09366, \"brand\": \"KID\", \"open_date\": \"2017-01-27T00:00:00\", \"state_name\": \"California\", \"type\": \"Feature\", \"geometry\": {\"type\": \"Point\", \"coordinates\": [-118.09366, 33.86344]}}, {\"storeNumber\": \"11423\", \"name\": \"Santa Anita\", \"address\": \"400 S Baldwin Ave, Suite A8\", \"city\": \"Arcadia\", \"state\": \"CA\", \"zip\": \"91007\", \"phone\": \"626-701-5105\", \"latitude\": 34.1328, \"longitude\": -118.05157, \"brand\": \"ACF\", \"open_date\": \"2019-11-15T00:00:00\", \"state_name\": \"California\", \"type\": \"Feature\", \"geometry\": {\"type\": \"Point\", \"coordinates\": [-118.05157, 34.1328]}}, {\"storeNumber\": \"21423\", \"name\": \"Santa Anita\", \"address\": \"400 S. Baldwin Avenue, Suite 231\", \"city\": \"Arcadia\", \"state\": \"CA\", \"zip\": \"91007\", \"phone\": \"626-701-5100\", \"latitude\": 34.1328, \"longitude\": -118.05157, \"brand\": \"KID\", \"open_date\": \"2019-07-12T00:00:00\", \"state_name\": \"California\", \"type\": \"Feature\", \"geometry\": {\"type\": \"Point\", \"coordinates\": [-118.05157, 34.1328]}}, {\"storeNumber\": \"10762\", \"name\": \"Brea\", \"address\": \"2118 Brea Mall\", \"city\": \"Brea\", \"state\": \"CA\", \"zip\": \"92821\", \"phone\": \"714-671-3005\", \"latitude\": 33.9172, \"longitude\": -117.88626, \"brand\": \"ACF\", \"open_date\": \"2000-09-01T00:00:00\", \"state_name\": \"California\", \"type\": \"Feature\", \"geometry\": {\"type\": \"Point\", \"coordinates\": [-117.88626, 33.9172]}}, {\"storeNumber\": \"21762\", \"name\": \"Brea\", \"address\": \"2118 Brea Mall\", \"city\": \"Brea\", \"state\": \"CA\", \"zip\": \"92821\", \"phone\": \"714-671-3005\", \"latitude\": 33.9172, \"longitude\": -117.88626, \"brand\": \"KID\", \"open_date\": \"2021-01-22T00:00:00\", \"state_name\": \"California\", \"type\": \"Feature\", \"geometry\": {\"type\": \"Point\", \"coordinates\": [-117.88626, 33.9172]}}, {\"storeNumber\": \"10904\", \"name\": \"Northridge Fashion\", \"address\": \"9301 Tampa Ave Unit 160\", \"city\": \"Northridge\", \"state\": \"CA\", \"zip\": \"91324\", \"phone\": \"818-709-5678\", \"latitude\": 34.23895, \"longitude\": -118.55707, \"brand\": \"ACF\", \"open_date\": \"2003-05-15T00:00:00\", \"state_name\": \"California\", \"type\": \"Feature\", \"geometry\": {\"type\": \"Point\", \"coordinates\": [-118.55707, 34.23895]}}, {\"storeNumber\": \"11740\", \"name\": \"Topanga\", \"address\": \"6600 Topanga Canyon Blvd\", \"city\": \"Canoga Park\", \"state\": \"CA\", \"zip\": \"91303\", \"phone\": \"818-887-5290\", \"latitude\": 34.19046, \"longitude\": -118.60494, \"brand\": \"ACF\", \"open_date\": \"2023-10-29T00:00:00\", \"state_name\": \"California\", \"type\": \"Feature\", \"geometry\": {\"type\": \"Point\", \"coordinates\": [-118.60494, 34.19046]}}, {\"storeNumber\": \"20135\", \"name\": \"Topanga\", \"address\": \"6600 Topanga Canyon Blvd Unit 83\", \"city\": \"Canoga Park\", \"state\": \"CA\", \"zip\": \"91303\", \"phone\": \"818-887-7966\", \"latitude\": 34.19046, \"longitude\": -118.60494, \"brand\": \"KID\", \"open_date\": \"2006-10-27T00:00:00\", \"state_name\": \"California\", \"type\": \"Feature\", \"geometry\": {\"type\": \"Point\", \"coordinates\": [-118.60494, 34.19046]}}, {\"storeNumber\": \"10913\", \"name\": \"Main Place\", \"address\": \"2800 North Main Street, Spc 240\", \"city\": \"Santa Ana\", \"state\": \"CA\", \"zip\": \"92705\", \"phone\": \"714-835-8464\", \"latitude\": 33.77632, \"longitude\": -117.86926, \"brand\": \"ACF\", \"open_date\": \"2003-08-08T00:00:00\", \"state_name\": \"California\", \"type\": \"Feature\", \"geometry\": {\"type\": \"Point\", \"coordinates\": [-117.86926, 33.77632]}}, {\"storeNumber\": \"11796\", \"name\": \"South Coast\", \"address\": \"3333 Bristol Avenue, Space 1821\", \"city\": \"Costa Mesa\", \"state\": \"CA\", \"zip\": \"92626\", \"phone\": \"714-656-0010\", \"latitude\": 33.69353, \"longitude\": -117.88714, \"brand\": \"ACF\", \"open_date\": \"2019-06-25T00:00:00\", \"state_name\": \"California\", \"type\": \"Feature\", \"geometry\": {\"type\": \"Point\", \"coordinates\": [-117.88714, 33.69353]}}, {\"storeNumber\": \"21373\", \"name\": \"South Coast\", \"address\": \"3333 Bristol Avenue, Space 1024\", \"city\": \"Costa Mesa\", \"state\": \"CA\", \"zip\": \"92626\", \"phone\": \"714-656-0011\", \"latitude\": 33.69353, \"longitude\": -117.88714, \"brand\": \"KID\", \"open_date\": \"2019-05-24T00:00:00\", \"state_name\": \"California\", \"type\": \"Feature\", \"geometry\": {\"type\": \"Point\", \"coordinates\": [-117.88714, 33.69353]}}, {\"storeNumber\": \"11493\", \"name\": \"Ontario Mills Outlet\", \"address\": \"1 Mills Cir\", \"city\": \"Ontario\", \"state\": \"CA\", \"zip\": \"91764\", \"phone\": \"909-987-3125\", \"latitude\": 34.07296, \"longitude\": -117.55109, \"brand\": \"ACF\", \"open_date\": \"2022-05-06T00:00:00\", \"state_name\": \"California\", \"type\": \"Feature\", \"geometry\": {\"type\": \"Point\", \"coordinates\": [-117.55109, 34.07296]}}, {\"storeNumber\": \"10916\", \"name\": \"Victoria Gardens\", \"address\": \"12577 North Main Street\", \"city\": \"Rancho Cucamonga\", \"state\": \"CA\", \"zip\": \"91739\", \"phone\": \"909-646-8878\", \"latitude\": 34.11207, \"longitude\": -117.53219, \"brand\": \"ACF\", \"open_date\": \"2004-10-28T00:00:00\", \"state_name\": \"California\", \"type\": \"Feature\", \"geometry\": {\"type\": \"Point\", \"coordinates\": [-117.53219, 34.11207]}}, {\"storeNumber\": \"21916\", \"name\": \"Victoria Gardens\", \"address\": \"12577 North Main Street\", \"city\": \"Rancho Cucamonga\", \"state\": \"CA\", \"zip\": \"91739\", \"phone\": \"909-646-8878\", \"latitude\": 34.11207, \"longitude\": -117.53219, \"brand\": \"KID\", \"open_date\": \"2023-10-06T00:00:00\", \"state_name\": \"California\", \"type\": \"Feature\", \"geometry\": {\"type\": \"Point\", \"coordinates\": [-117.53219, 34.11207]}}, {\"storeNumber\": \"10738\", \"name\": \"Mission Viejo\", \"address\": \"916 The Shops At Mission Viejo\", \"city\": \"Mission Viejo\", \"state\": \"CA\", \"zip\": \"92691\", \"phone\": \"949-365-0511\", \"latitude\": 33.55945, \"longitude\": -117.6681, \"brand\": \"ACF\", \"open_date\": \"1999-11-06T00:00:00\", \"state_name\": \"California\", \"type\": \"Feature\", \"geometry\": {\"type\": \"Point\", \"coordinates\": [-117.6681, 33.55945]}}, {\"storeNumber\": \"21738\", \"name\": \"Mission Viejo\", \"address\": \"916 The Shops At Mission Viejo\", \"city\": \"Mission Viejo\", \"state\": \"CA\", \"zip\": \"92691\", \"phone\": \"949-365-0511\", \"latitude\": 33.55945, \"longitude\": -117.6681, \"brand\": \"KID\", \"open_date\": \"2018-08-17T00:00:00\", \"state_name\": \"California\", \"type\": \"Feature\", \"geometry\": {\"type\": \"Point\", \"coordinates\": [-117.6681, 33.55945]}}, {\"storeNumber\": \"10945\", \"name\": \"Cherry Hill\", \"address\": \"2000 Route 38, Ste 1665\", \"city\": \"Cherry Hill\", \"state\": \"NJ\", \"zip\": \"08002\", \"phone\": \"856-661-1823\", \"latitude\": 39.94103, \"longitude\": -75.02501, \"brand\": \"ACF\", \"open_date\": \"2005-07-28T00:00:00\", \"state_name\": \"New Jersey\", \"type\": \"Feature\", \"geometry\": {\"type\": \"Point\", \"coordinates\": [-75.02501, 39.94103]}}, {\"storeNumber\": \"21945\", \"name\": \"Cherry Hill\", \"address\": \"2000 Route 38, Suite 1665\", \"city\": \"Cherry Hill\", \"state\": \"NJ\", \"zip\": \"08002\", \"phone\": \"856-661-1823\", \"latitude\": 39.94103, \"longitude\": -75.02501, \"brand\": \"KID\", \"open_date\": \"2017-01-27T00:00:00\", \"state_name\": \"New Jersey\", \"type\": \"Feature\", \"geometry\": {\"type\": \"Point\", \"coordinates\": [-75.02501, 39.94103]}}, {\"storeNumber\": \"11560\", \"name\": \"Atlantic City Outlets\", \"address\": \"33 N. Arkansas Avenue\", \"city\": \"Atlantic City\", \"state\": \"NJ\", \"zip\": \"08401\", \"phone\": \"609-343-1481\", \"latitude\": 39.35945, \"longitude\": -74.43771, \"brand\": \"ACF\", \"open_date\": \"2014-10-25T00:00:00\", \"state_name\": \"New Jersey\", \"type\": \"Feature\", \"geometry\": {\"type\": \"Point\", \"coordinates\": [-74.43771, 39.35945]}}, {\"storeNumber\": \"20242\", \"name\": \"Stonebriar\", \"address\": \"2601 Preston Rd, Space # 2232\", \"city\": \"Frisco\", \"state\": \"TX\", \"zip\": \"75034\", \"phone\": \"972-712-8935\", \"latitude\": 33.0992, \"longitude\": -96.8115, \"brand\": \"KID\", \"open_date\": \"2000-08-04T00:00:00\", \"state_name\": \"Texas\", \"type\": \"Feature\", \"geometry\": {\"type\": \"Point\", \"coordinates\": [-96.8115, 33.0992]}}, {\"storeNumber\": \"10948\", \"name\": \"Galleria\", \"address\": \"13350 Dallas Pkwy Ste 2640\", \"city\": \"Dallas\", \"state\": \"TX\", \"zip\": \"75240\", \"phone\": \"972-233-1832\", \"latitude\": 32.92995, \"longitude\": -96.81959, \"brand\": \"ACF\", \"open_date\": \"2005-07-30T00:00:00\", \"state_name\": \"Texas\", \"type\": \"Feature\", \"geometry\": {\"type\": \"Point\", \"coordinates\": [-96.81959, 32.92995]}}, {\"storeNumber\": \"11958\", \"name\": \"Northpark\", \"address\": \"8687 N Central Expy\", \"city\": \"Dallas\", \"state\": \"TX\", \"zip\": \"75225\", \"phone\": \"214-210-5828\", \"latitude\": 32.87032, \"longitude\": -96.77412, \"brand\": \"ACF\", \"open_date\": \"2022-12-23T00:00:00\", \"state_name\": \"Texas\", \"type\": \"Feature\", \"geometry\": {\"type\": \"Point\", \"coordinates\": [-96.77412, 32.87032]}}, {\"storeNumber\": \"11489\", \"name\": \"Grapevine Mills Outlet\", \"address\": \"3000 Grapevine Mills Pkwy\", \"city\": \"Grapevine\", \"state\": \"TX\", \"zip\": \"76051\", \"phone\": \"469-451-3900\", \"latitude\": 32.96653, \"longitude\": -97.04269, \"brand\": \"ACF\", \"open_date\": \"2022-08-05T00:00:00\", \"state_name\": \"Texas\", \"type\": \"Feature\", \"geometry\": {\"type\": \"Point\", \"coordinates\": [-97.04269, 32.96653]}}, {\"storeNumber\": \"11583\", \"name\": \"Pocono Po\", \"address\": \"1000 Premium Outlets Drive\", \"city\": \"Tannersville\", \"state\": \"PA\", \"zip\": \"18372\", \"phone\": \"570-629-1358\", \"latitude\": 41.04893, \"longitude\": -75.31245, \"brand\": \"ACF\", \"open_date\": \"2015-08-08T00:00:00\", \"state_name\": \"Pennsylvania\", \"type\": \"Feature\", \"geometry\": {\"type\": \"Point\", \"coordinates\": [-75.31245, 41.04893]}}, {\"storeNumber\": \"10606\", \"name\": \"Barton Creek\", \"address\": \"2901 S Capital Of Texas Hwy Ste D3\", \"city\": \"Austin\", \"state\": \"TX\", \"zip\": \"78746\", \"phone\": \"512-329-8323\", \"latitude\": 30.25621, \"longitude\": -97.81001, \"brand\": \"ACF\", \"open_date\": \"1995-08-10T00:00:00\", \"state_name\": \"Texas\", \"type\": \"Feature\", \"geometry\": {\"type\": \"Point\", \"coordinates\": [-97.81001, 30.25621]}}, {\"storeNumber\": \"21606\", \"name\": \"Barton Creek\", \"address\": \"2901 S Capital Of Texas Hwy Ste D3\", \"city\": \"Austin\", \"state\": \"TX\", \"zip\": \"78746\", \"phone\": \"512-329-8323\", \"latitude\": 30.25621, \"longitude\": -97.81001, \"brand\": \"KID\", \"open_date\": \"2018-02-16T00:00:00\", \"state_name\": \"Texas\", \"type\": \"Feature\", \"geometry\": {\"type\": \"Point\", \"coordinates\": [-97.81001, 30.25621]}}, {\"storeNumber\": \"11003\", \"name\": \"San Marcos Outlet\", \"address\": \"3939 Ih South 35\", \"city\": \"San Marcos\", \"state\": \"TX\", \"zip\": \"78666\", \"phone\": \"512-215-3618\", \"latitude\": 29.82883, \"longitude\": -97.98402, \"brand\": \"ACF\", \"open_date\": \"2010-02-18T00:00:00\", \"state_name\": \"Texas\", \"type\": \"Feature\", \"geometry\": {\"type\": \"Point\", \"coordinates\": [-97.98402, 29.82883]}}, {\"storeNumber\": \"20408\", \"name\": \"San Marcos Outlet\", \"address\": \"4015 I-35 South\", \"city\": \"San Marcos\", \"state\": \"TX\", \"zip\": \"78666\", \"phone\": \"614-765-2574\", \"latitude\": 29.82883, \"longitude\": -97.98402, \"brand\": \"KID\", \"open_date\": \"2010-09-23T00:00:00\", \"state_name\": \"Texas\", \"type\": \"Feature\", \"geometry\": {\"type\": \"Point\", \"coordinates\": [-97.98402, 29.82883]}}, {\"storeNumber\": \"21149\", \"name\": \"La Plaza\", \"address\": \"2200 S. 10th Street, Space R06\", \"city\": \"Mcallen\", \"state\": \"TX\", \"zip\": \"78503\", \"phone\": \"956-217-5986\", \"latitude\": 26.18505, \"longitude\": -98.2366, \"brand\": \"KID\", \"open_date\": \"2019-05-24T00:00:00\", \"state_name\": \"Texas\", \"type\": \"Feature\", \"geometry\": {\"type\": \"Point\", \"coordinates\": [-98.2366, 26.18505]}}, {\"storeNumber\": \"11218\", \"name\": \"La Plaza\", \"address\": \"2200 S 10th St Ste Q12f\", \"city\": \"Mcallen\", \"state\": \"TX\", \"zip\": \"78503\", \"phone\": \"956-278-8354\", \"latitude\": 26.18754, \"longitude\": -98.23582, \"brand\": \"ACF\", \"open_date\": \"2023-11-17T00:00:00\", \"state_name\": \"Texas\", \"type\": \"Feature\", \"geometry\": {\"type\": \"Point\", \"coordinates\": [-98.23582, 26.18754]}}, {\"storeNumber\": \"10487\", \"name\": \"Sunvalley\", \"address\": \"428 Sunvalley Mall\", \"city\": \"Concord\", \"state\": \"CA\", \"zip\": \"94520\", \"phone\": \"925-674-1234\", \"latitude\": 37.96774, \"longitude\": -122.0604, \"brand\": \"ACF\", \"open_date\": \"2002-11-22T00:00:00\", \"state_name\": \"California\", \"type\": \"Feature\", \"geometry\": {\"type\": \"Point\", \"coordinates\": [-122.0604, 37.96774]}}, {\"storeNumber\": \"11286\", \"name\": \"San Francisco Outlets\", \"address\": \"2788 Livermore Outlets Drive\", \"city\": \"Livermore\", \"state\": \"CA\", \"zip\": \"94551\", \"phone\": \"925-447-0589\", \"latitude\": 37.69641, \"longitude\": -121.84259, \"brand\": \"ACF\", \"open_date\": \"2012-11-08T00:00:00\", \"state_name\": \"California\", \"type\": \"Feature\", \"geometry\": {\"type\": \"Point\", \"coordinates\": [-121.84259, 37.69641]}}, {\"storeNumber\": \"21286\", \"name\": \"San Francisco Outlets\", \"address\": \"2788 Livermore Outlets Drive\", \"city\": \"Livermore\", \"state\": \"CA\", \"zip\": \"94551\", \"phone\": \"925-447-0589\", \"latitude\": 37.69641, \"longitude\": -121.84259, \"brand\": \"KID\", \"open_date\": \"2012-11-08T00:00:00\", \"state_name\": \"California\", \"type\": \"Feature\", \"geometry\": {\"type\": \"Point\", \"coordinates\": [-121.84259, 37.69641]}}, {\"storeNumber\": \"11574\", \"name\": \"Vacaville Premium Outlets\", \"address\": \"321 Nut Tree Road, Unit 0304\", \"city\": \"Vacaville\", \"state\": \"CA\", \"zip\": \"95687\", \"phone\": \"707-451-7409\", \"latitude\": 38.3679, \"longitude\": -121.95268, \"brand\": \"ACF\", \"open_date\": \"2015-08-08T00:00:00\", \"state_name\": \"California\", \"type\": \"Feature\", \"geometry\": {\"type\": \"Point\", \"coordinates\": [-121.95268, 38.3679]}}, {\"storeNumber\": \"10402\", \"name\": \"Valley Fair\", \"address\": \"2855 Stevens Creek Blvd\", \"city\": \"Santa Clara\", \"state\": \"CA\", \"zip\": \"95050\", \"phone\": \"408-551-0252\", \"latitude\": 37.32565, \"longitude\": -121.949, \"brand\": \"ACF\", \"open_date\": \"2002-03-22T00:00:00\", \"state_name\": \"California\", \"type\": \"Feature\", \"geometry\": {\"type\": \"Point\", \"coordinates\": [-121.949, 37.32565]}}, {\"storeNumber\": \"21404\", \"name\": \"Valley Fair\", \"address\": \"2855 Stevens Creek Blvd\", \"city\": \"Santa Clara\", \"state\": \"CA\", \"zip\": \"95050\", \"phone\": \"408-551-0252\", \"latitude\": 37.32565, \"longitude\": -121.949, \"brand\": \"KID\", \"open_date\": \"2021-01-22T00:00:00\", \"state_name\": \"California\", \"type\": \"Feature\", \"geometry\": {\"type\": \"Point\", \"coordinates\": [-121.949, 37.32565]}}, {\"storeNumber\": \"11549\", \"name\": \"Arden Fair\", \"address\": \"1689 Arden Way, Ste 1214\", \"city\": \"Sacramento\", \"state\": \"CA\", \"zip\": \"95815\", \"phone\": \"916-570-0287\", \"latitude\": 38.6014, \"longitude\": -121.42776, \"brand\": \"ACF\", \"open_date\": \"2015-10-06T00:00:00\", \"state_name\": \"California\", \"type\": \"Feature\", \"geometry\": {\"type\": \"Point\", \"coordinates\": [-121.42776, 38.6014]}}, {\"storeNumber\": \"20173\", \"name\": \"Arden Fair\", \"address\": \"1689 Arden Way Ste 2086\", \"city\": \"Sacramento\", \"state\": \"CA\", \"zip\": \"95815\", \"phone\": \"916-924-1540\", \"latitude\": 38.6014, \"longitude\": -121.42776, \"brand\": \"KID\", \"open_date\": \"2007-09-06T00:00:00\", \"state_name\": \"California\", \"type\": \"Feature\", \"geometry\": {\"type\": \"Point\", \"coordinates\": [-121.42776, 38.6014]}}, {\"storeNumber\": \"21995\", \"name\": \"Vintage Faire\", \"address\": \"3401 Dale Road, Suite 147\", \"city\": \"Modesto\", \"state\": \"CA\", \"zip\": \"95356\", \"phone\": \"209-661-2028\", \"latitude\": 37.68987, \"longitude\": -121.05035, \"brand\": \"KID\", \"open_date\": \"2019-11-01T00:00:00\", \"state_name\": \"California\", \"type\": \"Feature\", \"geometry\": {\"type\": \"Point\", \"coordinates\": [-121.05035, 37.68987]}}, {\"storeNumber\": \"11002\", \"name\": \"Galleria At Roseville\", \"address\": \"1151 Galleria Blvd, Ste 2235\", \"city\": \"Roseville\", \"state\": \"CA\", \"zip\": \"95678\", \"phone\": \"916-788-0844\", \"latitude\": 38.75683, \"longitude\": -121.26688, \"brand\": \"ACF\", \"open_date\": \"2010-07-16T00:00:00\", \"state_name\": \"California\", \"type\": \"Feature\", \"geometry\": {\"type\": \"Point\", \"coordinates\": [-121.26688, 38.75683]}}, {\"storeNumber\": \"21102\", \"name\": \"Galleria At Roseville\", \"address\": \"1151 Galleria Blvd., Space 2235\", \"city\": \"Roseville\", \"state\": \"CA\", \"zip\": \"95678\", \"phone\": \"916-788-0844\", \"latitude\": 38.75683, \"longitude\": -121.26688, \"brand\": \"KID\", \"open_date\": \"2015-11-07T00:00:00\", \"state_name\": \"California\", \"type\": \"Feature\", \"geometry\": {\"type\": \"Point\", \"coordinates\": [-121.26688, 38.75683]}}, {\"storeNumber\": \"11592\", \"name\": \"Gilroy Outlet\", \"address\": \"681 Leavesley Road\", \"city\": \"Gilroy\", \"state\": \"CA\", \"zip\": \"95020\", \"phone\": \"408-848-3085\", \"latitude\": 37.02484, \"longitude\": -121.56532, \"brand\": \"ACF\", \"open_date\": \"2014-09-18T00:00:00\", \"state_name\": \"California\", \"type\": \"Feature\", \"geometry\": {\"type\": \"Point\", \"coordinates\": [-121.56532, 37.02484]}}, {\"storeNumber\": \"11357\", \"name\": \"University Towne Center\", \"address\": \"4353 La Jolla Village Dr Suite 183\", \"city\": \"San Diego\", \"state\": \"CA\", \"zip\": \"92122\", \"phone\": \"858-320-0546\", \"latitude\": 32.87081, \"longitude\": -117.21094, \"brand\": \"ACF\", \"open_date\": \"2015-08-22T00:00:00\", \"state_name\": \"California\", \"type\": \"Feature\", \"geometry\": {\"type\": \"Point\", \"coordinates\": [-117.21094, 32.87081]}}, {\"storeNumber\": \"20226\", \"name\": \"Mall Of Georgia\", \"address\": \"3333 Buford Drive, Suite 2024\", \"city\": \"Buford\", \"state\": \"GA\", \"zip\": \"30519\", \"phone\": \"678-482-7051\", \"latitude\": 34.06422, \"longitude\": -83.98414, \"brand\": \"KID\", \"open_date\": \"1999-08-06T00:00:00\", \"state_name\": \"Georgia\", \"type\": \"Feature\", \"geometry\": {\"type\": \"Point\", \"coordinates\": [-83.98414, 34.06422]}}, {\"storeNumber\": \"10683\", \"name\": \"Perimeter\", \"address\": \"4400 Ashford Dunwoody Rd Ne\", \"city\": \"Atlanta\", \"state\": \"GA\", \"zip\": \"30346\", \"phone\": \"770-390-3004\", \"latitude\": 33.92473, \"longitude\": -84.34309, \"brand\": \"ACF\", \"open_date\": \"1997-07-17T00:00:00\", \"state_name\": \"Georgia\", \"type\": \"Feature\", \"geometry\": {\"type\": \"Point\", \"coordinates\": [-84.34309, 33.92473]}}, {\"storeNumber\": \"21683\", \"name\": \"Perimeter\", \"address\": \"4400 Ashford Dunwoody Rd\", \"city\": \"Atlanta\", \"state\": \"GA\", \"zip\": \"30346\", \"phone\": \"770-390-3004\", \"latitude\": 33.92473, \"longitude\": -84.34309, \"brand\": \"KID\", \"open_date\": \"2015-11-07T00:00:00\", \"state_name\": \"Georgia\", \"type\": \"Feature\", \"geometry\": {\"type\": \"Point\", \"coordinates\": [-84.34309, 33.92473]}}, {\"storeNumber\": \"11938\", \"name\": \"Lenox Square\", \"address\": \"3393 Peachtree Rd Ne Ste 4042b\", \"city\": \"Atlanta\", \"state\": \"GA\", \"zip\": \"30326\", \"phone\": \"404-816-2143\", \"latitude\": 33.847, \"longitude\": -84.36339, \"brand\": \"ACF\", \"open_date\": \"2017-07-21T00:00:00\", \"state_name\": \"Georgia\", \"type\": \"Feature\", \"geometry\": {\"type\": \"Point\", \"coordinates\": [-84.36339, 33.847]}}, {\"storeNumber\": \"10583\", \"name\": \"Town Center At Cobb\", \"address\": \"400 Barrett Parkway, Suite # 133\", \"city\": \"Kennesaw\", \"state\": \"GA\", \"zip\": \"30144\", \"phone\": \"770-426-0043\", \"latitude\": 34.01814, \"longitude\": -84.56189, \"brand\": \"ACF\", \"open_date\": \"1995-11-09T00:00:00\", \"state_name\": \"Georgia\", \"type\": \"Feature\", \"geometry\": {\"type\": \"Point\", \"coordinates\": [-84.56189, 34.01814]}}, {\"storeNumber\": \"11192\", \"name\": \"Green Hills\", \"address\": \"2126 Abbott Martin Road\", \"city\": \"Nashville\", \"state\": \"TN\", \"zip\": \"37215\", \"phone\": \"615-522-0044\", \"latitude\": 36.10672, \"longitude\": -86.81615, \"brand\": \"ACF\", \"open_date\": \"2019-10-25T00:00:00\", \"state_name\": \"Tennessee\", \"type\": \"Feature\", \"geometry\": {\"type\": \"Point\", \"coordinates\": [-86.81615, 36.10672]}}, {\"storeNumber\": \"21192\", \"name\": \"Green Hills\", \"address\": \"2126 Abbott Martin Road\", \"city\": \"Nashville\", \"state\": \"TN\", \"zip\": \"37215\", \"phone\": \"615-522-0039\", \"latitude\": 36.10672, \"longitude\": -86.81615, \"brand\": \"KID\", \"open_date\": \"2019-10-25T00:00:00\", \"state_name\": \"Tennessee\", \"type\": \"Feature\", \"geometry\": {\"type\": \"Point\", \"coordinates\": [-86.81615, 36.10672]}}, {\"storeNumber\": \"11130\", \"name\": \"Opry Mills\", \"address\": \"311 Opry Mills Drive\", \"city\": \"Nashville\", \"state\": \"TN\", \"zip\": \"37214\", \"phone\": \"615-932-5185\", \"latitude\": 36.204, \"longitude\": -86.6924, \"brand\": \"ACF\", \"open_date\": \"2016-09-30T00:00:00\", \"state_name\": \"Tennessee\", \"type\": \"Feature\", \"geometry\": {\"type\": \"Point\", \"coordinates\": [-86.6924, 36.204]}}, {\"storeNumber\": \"21130\", \"name\": \"Opry Mills\", \"address\": \"433 Opry Mills Drive\", \"city\": \"Nashville\", \"state\": \"TN\", \"zip\": \"37214\", \"phone\": \"615-932-5185\", \"latitude\": 36.204, \"longitude\": -86.6924, \"brand\": \"KID\", \"open_date\": \"2016-09-30T00:00:00\", \"state_name\": \"Tennessee\", \"type\": \"Feature\", \"geometry\": {\"type\": \"Point\", \"coordinates\": [-86.6924, 36.204]}}, {\"storeNumber\": \"21532\", \"name\": \"Las Americas Po\", \"address\": \"4211 Camino De La Plaza\", \"city\": \"San Diego\", \"state\": \"CA\", \"zip\": \"92173\", \"phone\": \"619-761-5003\", \"latitude\": 32.5437, \"longitude\": -117.041, \"brand\": \"KID\", \"open_date\": \"2019-10-25T00:00:00\", \"state_name\": \"California\", \"type\": \"Feature\", \"geometry\": {\"type\": \"Point\", \"coordinates\": [-117.041, 32.5437]}}, {\"storeNumber\": \"11646\", \"name\": \"Fashion Valley\", \"address\": \"7007 Friars Road, Ste 940\", \"city\": \"San Diego\", \"state\": \"CA\", \"zip\": \"92108\", \"phone\": \"619-298-8778\", \"latitude\": 32.76877, \"longitude\": -117.16757, \"brand\": \"ACF\", \"open_date\": \"2018-08-25T00:00:00\", \"state_name\": \"California\", \"type\": \"Feature\", \"geometry\": {\"type\": \"Point\", \"coordinates\": [-117.16757, 32.76877]}}, {\"storeNumber\": \"10424\", \"name\": \"Valley Plaza\", \"address\": \"2701 Ming Ave Ste 160\", \"city\": \"Bakersfield\", \"state\": \"CA\", \"zip\": \"93304\", \"phone\": \"661-832-1549\", \"latitude\": 35.33823, \"longitude\": -119.03442, \"brand\": \"ACF\", \"open_date\": \"2001-06-07T00:00:00\", \"state_name\": \"California\", \"type\": \"Feature\", \"geometry\": {\"type\": \"Point\", \"coordinates\": [-119.03442, 35.33823]}}, {\"storeNumber\": \"21424\", \"name\": \"Valley Plaza\", \"address\": \"2701 Ming Ave Ste 160\", \"city\": \"Bakersfield\", \"state\": \"CA\", \"zip\": \"93304\", \"phone\": \"661-832-1549\", \"latitude\": 35.33823, \"longitude\": -119.03442, \"brand\": \"KID\", \"open_date\": \"2017-01-27T00:00:00\", \"state_name\": \"California\", \"type\": \"Feature\", \"geometry\": {\"type\": \"Point\", \"coordinates\": [-119.03442, 35.33823]}}, {\"storeNumber\": \"10943\", \"name\": \"North Star\", \"address\": \"7400 San Pedro Avenue, Ste 732\", \"city\": \"San Antonio\", \"state\": \"TX\", \"zip\": \"78216\", \"phone\": \"210-377-1537\", \"latitude\": 29.51802, \"longitude\": -98.49892, \"brand\": \"ACF\", \"open_date\": \"2005-05-06T00:00:00\", \"state_name\": \"Texas\", \"type\": \"Feature\", \"geometry\": {\"type\": \"Point\", \"coordinates\": [-98.49892, 29.51802]}}, {\"storeNumber\": \"21943\", \"name\": \"North Star\", \"address\": \"7400 San Pedro Avenue Ste 732\", \"city\": \"San Antonio\", \"state\": \"TX\", \"zip\": \"78216\", \"phone\": \"210-377-1537\", \"latitude\": 29.51802, \"longitude\": -98.49892, \"brand\": \"KID\", \"open_date\": \"2018-02-16T00:00:00\", \"state_name\": \"Texas\", \"type\": \"Feature\", \"geometry\": {\"type\": \"Point\", \"coordinates\": [-98.49892, 29.51802]}}, {\"storeNumber\": \"11631\", \"name\": \"Shops At Lacantera\", \"address\": \"15900 La Cantera Pkwy\", \"city\": \"San Antonio\", \"state\": \"TX\", \"zip\": \"78256\", \"phone\": \"210-339-2910\", \"latitude\": 29.59321, \"longitude\": -98.61164, \"brand\": \"ACF\", \"open_date\": \"2023-08-11T00:00:00\", \"state_name\": \"Texas\", \"type\": \"Feature\", \"geometry\": {\"type\": \"Point\", \"coordinates\": [-98.61164, 29.59321]}}, {\"storeNumber\": \"20164\", \"name\": \"Shops At Lacantera\", \"address\": \"15900 La Cantera Pkwy Ste 10030\", \"city\": \"San Antonio\", \"state\": \"TX\", \"zip\": \"78256\", \"phone\": \"210-877-6281\", \"latitude\": 29.5929, \"longitude\": -98.61806, \"brand\": \"KID\", \"open_date\": \"2007-03-29T00:00:00\", \"state_name\": \"Texas\", \"type\": \"Feature\", \"geometry\": {\"type\": \"Point\", \"coordinates\": [-98.61806, 29.5929]}}, {\"storeNumber\": \"10430\", \"name\": \"Fashion Fair\", \"address\": \"595 East Shaw Avenue\", \"city\": \"Fresno\", \"state\": \"CA\", \"zip\": \"93710\", \"phone\": \"559-226-4853\", \"latitude\": 36.80844, \"longitude\": -119.77695, \"brand\": \"ACF\", \"open_date\": \"2002-09-05T00:00:00\", \"state_name\": \"California\", \"type\": \"Feature\", \"geometry\": {\"type\": \"Point\", \"coordinates\": [-119.77695, 36.80844]}}, {\"storeNumber\": \"20146\", \"name\": \"Fashion Fair\", \"address\": \"691 East Shaw Avenue\", \"city\": \"Fresno\", \"state\": \"CA\", \"zip\": \"93710\", \"phone\": \"559-221-1343\", \"latitude\": 36.80844, \"longitude\": -119.77695, \"brand\": \"KID\", \"open_date\": \"2006-10-26T00:00:00\", \"state_name\": \"California\", \"type\": \"Feature\", \"geometry\": {\"type\": \"Point\", \"coordinates\": [-119.77695, 36.80844]}}, {\"storeNumber\": \"11640\", \"name\": \"Southpark\", \"address\": \"4400 Sharon Road Ste 142\", \"city\": \"Charlotte\", \"state\": \"NC\", \"zip\": \"28211\", \"phone\": \"704-364-4605\", \"latitude\": 35.15231, \"longitude\": -80.83296, \"brand\": \"ACF\", \"open_date\": \"2015-10-13T00:00:00\", \"state_name\": \"North Carolina\", \"type\": \"Feature\", \"geometry\": {\"type\": \"Point\", \"coordinates\": [-80.83296, 35.15231]}}, {\"storeNumber\": \"21640\", \"name\": \"Southpark\", \"address\": \"4400 Sharon Road\", \"city\": \"Charlotte\", \"state\": \"NC\", \"zip\": \"28211\", \"phone\": \"704-364-4605\", \"latitude\": 35.15231, \"longitude\": -80.83296, \"brand\": \"KID\", \"open_date\": \"2015-10-13T00:00:00\", \"state_name\": \"North Carolina\", \"type\": \"Feature\", \"geometry\": {\"type\": \"Point\", \"coordinates\": [-80.83296, 35.15231]}}, {\"storeNumber\": \"10516\", \"name\": \"Hanes\", \"address\": \"3320 Silas Creek Parkway Suite 430\", \"city\": \"Winston Salem\", \"state\": \"NC\", \"zip\": \"27103\", \"phone\": \"336-768-9379\", \"latitude\": 36.07184, \"longitude\": -80.29936, \"brand\": \"ACF\", \"open_date\": \"1991-06-12T00:00:00\", \"state_name\": \"North Carolina\", \"type\": \"Feature\", \"geometry\": {\"type\": \"Point\", \"coordinates\": [-80.29936, 36.07184]}}, {\"storeNumber\": \"21201\", \"name\": \"Hanes\", \"address\": \"3320 Silas Creek Parkway, Suite 430\", \"city\": \"Winston Salem\", \"state\": \"NC\", \"zip\": \"27103\", \"phone\": \"336-768-9379\", \"latitude\": 36.07184, \"longitude\": -80.29936, \"brand\": \"KID\", \"open_date\": \"2017-01-27T00:00:00\", \"state_name\": \"North Carolina\", \"type\": \"Feature\", \"geometry\": {\"type\": \"Point\", \"coordinates\": [-80.29936, 36.07184]}}, {\"storeNumber\": \"11497\", \"name\": \"Fashion Show\", \"address\": \"3200 Las Vegas Blvd S Ste 2190\", \"city\": \"Las Vegas\", \"state\": \"NV\", \"zip\": \"89109\", \"phone\": \"702-650-6509\", \"latitude\": 36.12742, \"longitude\": -115.17081, \"brand\": \"ACF\", \"open_date\": \"2018-09-18T00:00:00\", \"state_name\": \"Nevada\", \"type\": \"Feature\", \"geometry\": {\"type\": \"Point\", \"coordinates\": [-115.17081, 36.12742]}}, {\"storeNumber\": \"21497\", \"name\": \"Fashion Show\", \"address\": \"3200 Las Vegas Blvd S, Ste 2190\", \"city\": \"Las Vegas\", \"state\": \"NV\", \"zip\": \"89109\", \"phone\": \"702-650-6509\", \"latitude\": 36.12742, \"longitude\": -115.17081, \"brand\": \"KID\", \"open_date\": \"2018-09-18T00:00:00\", \"state_name\": \"Nevada\", \"type\": \"Feature\", \"geometry\": {\"type\": \"Point\", \"coordinates\": [-115.17081, 36.12742]}}, {\"storeNumber\": \"11755\", \"name\": \"Downtown Summerlin\", \"address\": \"1875 Festival Plaza Dr, Suite 170\", \"city\": \"Las Vegas\", \"state\": \"NV\", \"zip\": \"89135\", \"phone\": \"702-266-8312\", \"latitude\": 36.15, \"longitude\": -115.33302, \"brand\": \"ACF\", \"open_date\": \"2023-08-11T00:00:00\", \"state_name\": \"Nevada\", \"type\": \"Feature\", \"geometry\": {\"type\": \"Point\", \"coordinates\": [-115.33302, 36.15]}}, {\"storeNumber\": \"10971\", \"name\": \"Town Square\", \"address\": \"6623 Las Vegas Blvd S Unit 135\", \"city\": \"Las Vegas\", \"state\": \"NV\", \"zip\": \"89119\", \"phone\": \"702-270-2889\", \"latitude\": 36.06692, \"longitude\": -115.17221, \"brand\": \"ACF\", \"open_date\": \"2007-12-06T00:00:00\", \"state_name\": \"Nevada\", \"type\": \"Feature\", \"geometry\": {\"type\": \"Point\", \"coordinates\": [-115.17221, 36.06692]}}, {\"storeNumber\": \"10546\", \"name\": \"Oak Park\", \"address\": \"11741 W. 95th St.\", \"city\": \"Overland Park\", \"state\": \"KS\", \"zip\": \"66214\", \"phone\": \"913-888-6250\", \"latitude\": 38.95641, \"longitude\": -94.71762, \"brand\": \"ACF\", \"open_date\": \"1993-10-14T00:00:00\", \"state_name\": \"Kansas\", \"type\": \"Feature\", \"geometry\": {\"type\": \"Point\", \"coordinates\": [-94.71762, 38.95641]}}, {\"storeNumber\": \"21546\", \"name\": \"Oak Park\", \"address\": \"11741 W. 95th St.\", \"city\": \"Overland Park\", \"state\": \"KS\", \"zip\": \"66214\", \"phone\": \"913-888-6250\", \"latitude\": 38.95641, \"longitude\": -94.71762, \"brand\": \"KID\", \"open_date\": \"2020-01-01T00:00:00\", \"state_name\": \"Kansas\", \"type\": \"Feature\", \"geometry\": {\"type\": \"Point\", \"coordinates\": [-94.71762, 38.95641]}}, {\"storeNumber\": \"10425\", \"name\": \"Chandler Fashion\", \"address\": \"3111 W Chandler Blvd Ste 2036\", \"city\": \"Chandler\", \"state\": \"AZ\", \"zip\": \"85226\", \"phone\": \"480-792-9275\", \"latitude\": 33.30224, \"longitude\": -111.89796, \"brand\": \"ACF\", \"open_date\": \"2001-11-03T00:00:00\", \"state_name\": \"Arizona\", \"type\": \"Feature\", \"geometry\": {\"type\": \"Point\", \"coordinates\": [-111.89796, 33.30224]}}, {\"storeNumber\": \"21425\", \"name\": \"Chandler Fashion\", \"address\": \"3111 W Chandler Blvd Ste 2036\", \"city\": \"Chandler\", \"state\": \"AZ\", \"zip\": \"85226\", \"phone\": \"480-792-9275\", \"latitude\": 33.30224, \"longitude\": -111.89796, \"brand\": \"KID\", \"open_date\": \"2014-07-26T00:00:00\", \"state_name\": \"Arizona\", \"type\": \"Feature\", \"geometry\": {\"type\": \"Point\", \"coordinates\": [-111.89796, 33.30224]}}, {\"storeNumber\": \"11599\", \"name\": \"Fashion Square\", \"address\": \"7014 E Camelback Rd Ste 1001\", \"city\": \"Scottsdale\", \"state\": \"AZ\", \"zip\": \"85251\", \"phone\": \"480-970-7616\", \"latitude\": 33.50109, \"longitude\": -111.92894, \"brand\": \"ACF\", \"open_date\": \"2017-08-04T00:00:00\", \"state_name\": \"Arizona\", \"type\": \"Feature\", \"geometry\": {\"type\": \"Point\", \"coordinates\": [-111.92894, 33.50109]}}, {\"storeNumber\": \"20203\", \"name\": \"Fashion Square\", \"address\": \"7014 E. Camelback Rd. Space 2224\", \"city\": \"Scottsdale\", \"state\": \"AZ\", \"zip\": \"85251\", \"phone\": \"480-874-2680\", \"latitude\": 33.50109, \"longitude\": -111.92894, \"brand\": \"KID\", \"open_date\": \"1998-09-17T00:00:00\", \"state_name\": \"Arizona\", \"type\": \"Feature\", \"geometry\": {\"type\": \"Point\", \"coordinates\": [-111.92894, 33.50109]}}, {\"storeNumber\": \"11568\", \"name\": \"Tanger Outlets Phoenix\", \"address\": \"6800 N 95th Avenue\", \"city\": \"Glendale\", \"state\": \"AZ\", \"zip\": \"85305\", \"phone\": \"623-872-6157\", \"latitude\": 33.53508, \"longitude\": -112.26625, \"brand\": \"ACF\", \"open_date\": \"2014-11-26T00:00:00\", \"state_name\": \"Arizona\", \"type\": \"Feature\", \"geometry\": {\"type\": \"Point\", \"coordinates\": [-112.26625, 33.53508]}}, {\"storeNumber\": \"21598\", \"name\": \"Springfield Town Center\", \"address\": \"6500 Springfield Mall, Ste 22008\", \"city\": \"Springfield\", \"state\": \"VA\", \"zip\": \"22150\", \"phone\": \"571-255-6022\", \"latitude\": 38.7893, \"longitude\": -77.1872, \"brand\": \"KID\", \"open_date\": \"2019-11-15T00:00:00\", \"state_name\": \"Virginia\", \"type\": \"Feature\", \"geometry\": {\"type\": \"Point\", \"coordinates\": [-77.1872, 38.7893]}}, {\"storeNumber\": \"11861\", \"name\": \"Tysons Corner\", \"address\": \"7865 Tysons Corner Ctr Spc N13u\", \"city\": \"Mclean\", \"state\": \"VA\", \"zip\": \"22102\", \"phone\": \"703-852-1054\", \"latitude\": 38.91977, \"longitude\": -77.22608, \"brand\": \"ACF\", \"open_date\": \"2017-08-05T00:00:00\", \"state_name\": \"Virginia\", \"type\": \"Feature\", \"geometry\": {\"type\": \"Point\", \"coordinates\": [-77.22608, 38.91977]}}, {\"storeNumber\": \"21860\", \"name\": \"Tysons Corner\", \"address\": \"1961 Chain Bridge Road, Space 161\", \"city\": \"Mclean\", \"state\": \"VA\", \"zip\": \"22102\", \"phone\": \"571-326-1110\", \"latitude\": 38.91977, \"longitude\": -77.22608, \"brand\": \"KID\", \"open_date\": \"2019-11-08T00:00:00\", \"state_name\": \"Virginia\", \"type\": \"Feature\", \"geometry\": {\"type\": \"Point\", \"coordinates\": [-77.22608, 38.91977]}}, {\"storeNumber\": \"10561\", \"name\": \"Wisconsin Avenue\", \"address\": \"1208 Wisconsin Ave Nw Lowr\", \"city\": \"Washington\", \"state\": \"DC\", \"zip\": \"20007\", \"phone\": \"202-333-1566\", \"latitude\": 38.90567, \"longitude\": -77.06303, \"brand\": \"ACF\", \"open_date\": \"1982-10-08T00:00:00\", \"state_name\": null, \"type\": \"Feature\", \"geometry\": {\"type\": \"Point\", \"coordinates\": [-77.06303, 38.90567]}}, {\"storeNumber\": \"11570\", \"name\": \"Leesburg Po\", \"address\": \"241 Fort Evans Road Ne\", \"city\": \"Leesburg\", \"state\": \"VA\", \"zip\": \"20176\", \"phone\": \"703-777-6491\", \"latitude\": 39.10672, \"longitude\": -77.53845, \"brand\": \"ACF\", \"open_date\": \"2016-04-23T00:00:00\", \"state_name\": \"Virginia\", \"type\": \"Feature\", \"geometry\": {\"type\": \"Point\", \"coordinates\": [-77.53845, 39.10672]}}, {\"storeNumber\": \"11519\", \"name\": \"Harbor East\", \"address\": \"810 Aliceanna St\", \"city\": \"Baltimore\", \"state\": \"MD\", \"zip\": \"21202\", \"phone\": \"410-469-2805\", \"latitude\": 39.28354, \"longitude\": -76.60104, \"brand\": \"ACF\", \"open_date\": \"2023-10-03T00:00:00\", \"state_name\": \"Maryland\", \"type\": \"Feature\", \"geometry\": {\"type\": \"Point\", \"coordinates\": [-76.60104, 39.28354]}}, {\"storeNumber\": \"12506\", \"name\": \"Ala Moana\", \"address\": \"1450 Ala Moana Blvd, Unit 3110\", \"city\": \"Honolulu\", \"state\": \"HI\", \"zip\": \"96814\", \"phone\": \"808-946-5655\", \"latitude\": 21.2915, \"longitude\": -157.84339, \"brand\": \"ACF\", \"open_date\": \"2021-05-14T00:00:00\", \"state_name\": \"Hawaii\", \"type\": \"Feature\", \"geometry\": {\"type\": \"Point\", \"coordinates\": [-157.84339, 21.2915]}}, {\"storeNumber\": \"11311\", \"name\": \"Int'L Market Place\", \"address\": \"2330 Kalakaua Avenue\", \"city\": \"Honolulu\", \"state\": \"HI\", \"zip\": \"96815\", \"phone\": \"808-377-6523\", \"latitude\": 21.28111, \"longitude\": -157.82888, \"brand\": \"ACF\", \"open_date\": \"2016-12-16T00:00:00\", \"state_name\": \"Hawaii\", \"type\": \"Feature\", \"geometry\": {\"type\": \"Point\", \"coordinates\": [-157.82888, 21.28111]}}, {\"storeNumber\": \"12536\", \"name\": \"Crabtree Valley\", \"address\": \"4325 Glenwood Ave\", \"city\": \"Raleigh\", \"state\": \"NC\", \"zip\": \"27612\", \"phone\": \"919-325-0407\", \"latitude\": 35.83851, \"longitude\": -78.6786, \"brand\": \"ACF\", \"open_date\": \"2021-09-24T00:00:00\", \"state_name\": \"North Carolina\", \"type\": \"Feature\", \"geometry\": {\"type\": \"Point\", \"coordinates\": [-78.6786, 35.83851]}}, {\"storeNumber\": \"11691\", \"name\": \"Kenwood Towne Centre\", \"address\": \"7875 Montgomery Road, Space 2227\", \"city\": \"Cincinnati\", \"state\": \"OH\", \"zip\": \"45236\", \"phone\": \"513-984-4211\", \"latitude\": 39.20093, \"longitude\": -84.376, \"brand\": \"ACF\", \"open_date\": \"2023-07-21T00:00:00\", \"state_name\": \"Ohio\", \"type\": \"Feature\", \"geometry\": {\"type\": \"Point\", \"coordinates\": [-84.376, 39.20093]}}, {\"storeNumber\": \"11516\", \"name\": \"Outlet Shoppes At Laredo\", \"address\": \"1600 Water Street\", \"city\": \"Laredo\", \"state\": \"TX\", \"zip\": \"78040\", \"phone\": \"956-898-3890\", \"latitude\": 27.5017, \"longitude\": -99.511, \"brand\": \"ACF\", \"open_date\": \"2016-10-27T00:00:00\", \"state_name\": \"Texas\", \"type\": \"Feature\", \"geometry\": {\"type\": \"Point\", \"coordinates\": [-99.511, 27.5017]}}, {\"storeNumber\": \"21516\", \"name\": \"Outlet Shoppes At Laredo\", \"address\": \"1600 Water Street\", \"city\": \"Laredo\", \"state\": \"TX\", \"zip\": \"78040\", \"phone\": \"956-898-3890\", \"latitude\": 27.5017, \"longitude\": -99.511, \"brand\": \"KID\", \"open_date\": \"2016-10-27T00:00:00\", \"state_name\": \"Texas\", \"type\": \"Feature\", \"geometry\": {\"type\": \"Point\", \"coordinates\": [-99.511, 27.5017]}}, {\"storeNumber\": \"12518\", \"name\": \"Park Meadows\", \"address\": \"8401 Park Meadow Center Dr\", \"city\": \"Lone Tree\", \"state\": \"CO\", \"zip\": \"80124\", \"phone\": \"303-302-0440\", \"latitude\": 39.56326, \"longitude\": -104.87705, \"brand\": \"ACF\", \"open_date\": \"2021-06-11T00:00:00\", \"state_name\": \"Colorado\", \"type\": \"Feature\", \"geometry\": {\"type\": \"Point\", \"coordinates\": [-104.87705, 39.56326]}}, {\"storeNumber\": \"11973\", \"name\": \"Cherry Creek\", \"address\": \"3000 East 1st Avenue, Space 2224\", \"city\": \"Denver\", \"state\": \"CO\", \"zip\": \"80206\", \"phone\": \"303-302-0443\", \"latitude\": 39.71748, \"longitude\": -104.9529, \"brand\": \"ACF\", \"open_date\": \"2022-11-23T00:00:00\", \"state_name\": \"Colorado\", \"type\": \"Feature\", \"geometry\": {\"type\": \"Point\", \"coordinates\": [-104.9529, 39.71748]}}, {\"storeNumber\": \"11924\", \"name\": \"Dolphin Mall\", \"address\": \"11401 Nw 12th St., Suite 188\", \"city\": \"Miami\", \"state\": \"FL\", \"zip\": \"33172\", \"phone\": \"305-714-4324\", \"latitude\": 25.78758, \"longitude\": -80.38024, \"brand\": \"ACF\", \"open_date\": \"2022-11-23T00:00:00\", \"state_name\": \"Florida\", \"type\": \"Feature\", \"geometry\": {\"type\": \"Point\", \"coordinates\": [-80.38024, 25.78758]}}, {\"storeNumber\": \"21113\", \"name\": \"Dolphin Mall\", \"address\": \"11401 Nw 12th St,  Suite 220\", \"city\": \"Miami\", \"state\": \"FL\", \"zip\": \"33172\", \"phone\": \"305-397-0000\", \"latitude\": 25.78758, \"longitude\": -80.38024, \"brand\": \"KID\", \"open_date\": \"2019-07-19T00:00:00\", \"state_name\": \"Florida\", \"type\": \"Feature\", \"geometry\": {\"type\": \"Point\", \"coordinates\": [-80.38024, 25.78758]}}, {\"storeNumber\": \"11212\", \"name\": \"Brickell City Centre\", \"address\": \"701 S Miami Ave\", \"city\": \"Miami\", \"state\": \"FL\", \"zip\": \"33130\", \"phone\": \"305-200-0082\", \"latitude\": 25.76707, \"longitude\": -80.1914, \"brand\": \"ACF\", \"open_date\": \"2023-09-29T00:00:00\", \"state_name\": \"Florida\", \"type\": \"Feature\", \"geometry\": {\"type\": \"Point\", \"coordinates\": [-80.1914, 25.76707]}}, {\"storeNumber\": \"11650\", \"name\": \"Aventura\", \"address\": \"19575 Biscayne Blvd\", \"city\": \"Aventura\", \"state\": \"FL\", \"zip\": \"33180\", \"phone\": \"305-466-0110\", \"latitude\": 25.95796, \"longitude\": -80.14192, \"brand\": \"ACF\", \"open_date\": \"2023-09-09T00:00:00\", \"state_name\": \"Florida\", \"type\": \"Feature\", \"geometry\": {\"type\": \"Point\", \"coordinates\": [-80.14192, 25.95796]}}, {\"storeNumber\": \"21396\", \"name\": \"Aventura\", \"address\": \"19575 Biscayne Blvd\", \"city\": \"Aventura\", \"state\": \"FL\", \"zip\": \"33180\", \"phone\": null, \"latitude\": 25.95796, \"longitude\": -80.14192, \"brand\": \"KID\", \"open_date\": \"2023-09-09T00:00:00\", \"state_name\": \"Florida\", \"type\": \"Feature\", \"geometry\": {\"type\": \"Point\", \"coordinates\": [-80.14192, 25.95796]}}, {\"storeNumber\": \"11695\", \"name\": \"Dadeland\", \"address\": \"7535 N Kendall Dr\", \"city\": \"Miami\", \"state\": \"FL\", \"zip\": \"33156\", \"phone\": \"305-423-7465\", \"latitude\": 25.69019, \"longitude\": -80.31226, \"brand\": \"ACF\", \"open_date\": \"2022-12-05T00:00:00\", \"state_name\": \"Florida\", \"type\": \"Feature\", \"geometry\": {\"type\": \"Point\", \"coordinates\": [-80.31226, 25.69019]}}, {\"storeNumber\": \"10455\", \"name\": \"Falls\", \"address\": \"8888 Sw 136th Street\", \"city\": \"Miami\", \"state\": \"FL\", \"zip\": \"33176\", \"phone\": \"305-256-3765\", \"latitude\": 25.6454, \"longitude\": -80.33888, \"brand\": \"ACF\", \"open_date\": \"2001-11-23T00:00:00\", \"state_name\": \"Florida\", \"type\": \"Feature\", \"geometry\": {\"type\": \"Point\", \"coordinates\": [-80.33888, 25.6454]}}, {\"storeNumber\": \"21999\", \"name\": \"Sawgrass Mills\", \"address\": \"12801 W Sunrise Blvd, Ste 527\", \"city\": \"Sunrise\", \"state\": \"FL\", \"zip\": \"33323\", \"phone\": \"954-200-6206\", \"latitude\": 26.1517, \"longitude\": -80.3208, \"brand\": \"KID\", \"open_date\": \"2019-09-20T00:00:00\", \"state_name\": \"Florida\", \"type\": \"Feature\", \"geometry\": {\"type\": \"Point\", \"coordinates\": [-80.3208, 26.1517]}}, {\"storeNumber\": \"11928\", \"name\": \"Galleria Ft Lauderdale\", \"address\": \"2496 East Sunrise Blvd\", \"city\": \"Fort Lauderdale\", \"state\": \"FL\", \"zip\": \"33304\", \"phone\": \"954-561-4712\", \"latitude\": 26.13704, \"longitude\": -80.113, \"brand\": \"ACF\", \"open_date\": \"2015-04-09T00:00:00\", \"state_name\": \"Florida\", \"type\": \"Feature\", \"geometry\": {\"type\": \"Point\", \"coordinates\": [-80.113, 26.13704]}}, {\"storeNumber\": \"10798\", \"name\": \"Tc At Boca Raton\", \"address\": \"6000 Glades Rd., Space #1211a\", \"city\": \"Boca Raton\", \"state\": \"FL\", \"zip\": \"33431\", \"phone\": \"561-368-2247\", \"latitude\": 26.36812, \"longitude\": -80.13471, \"brand\": \"ACF\", \"open_date\": \"2000-11-17T00:00:00\", \"state_name\": \"Florida\", \"type\": \"Feature\", \"geometry\": {\"type\": \"Point\", \"coordinates\": [-80.13471, 26.36812]}}, {\"storeNumber\": \"21798\", \"name\": \"Tc At Boca Raton\", \"address\": \" 6000 Glades Road Ste 1211a\", \"city\": \"Boca Raton\", \"state\": \"FL\", \"zip\": \"33431\", \"phone\": \"561-368-2247\", \"latitude\": 26.36812, \"longitude\": -80.13471, \"brand\": \"KID\", \"open_date\": \"2018-02-16T00:00:00\", \"state_name\": \"Florida\", \"type\": \"Feature\", \"geometry\": {\"type\": \"Point\", \"coordinates\": [-80.13471, 26.36812]}}, {\"storeNumber\": \"10410\", \"name\": \"Wellington Green\", \"address\": \"10300 West Forest Hill Blvd\", \"city\": \"Wellington\", \"state\": \"FL\", \"zip\": \"33414\", \"phone\": \"561-333-4031\", \"latitude\": 26.64623, \"longitude\": -80.20834, \"brand\": \"ACF\", \"open_date\": \"2001-11-03T00:00:00\", \"state_name\": \"Florida\", \"type\": \"Feature\", \"geometry\": {\"type\": \"Point\", \"coordinates\": [-80.20834, 26.64623]}}, {\"storeNumber\": \"21410\", \"name\": \"Wellington Green\", \"address\": \"10300 West Forest Hill Blvd\", \"city\": \"Wellington\", \"state\": \"FL\", \"zip\": \"33414\", \"phone\": \"561-333-4031\", \"latitude\": 26.64623, \"longitude\": -80.20834, \"brand\": \"KID\", \"open_date\": \"2015-11-07T00:00:00\", \"state_name\": \"Florida\", \"type\": \"Feature\", \"geometry\": {\"type\": \"Point\", \"coordinates\": [-80.20834, 26.64623]}}, {\"storeNumber\": \"11499\", \"name\": \"Gardens\", \"address\": \"3101 Pga Boulevard, Space B113\", \"city\": \"Palm Beach Gardens\", \"state\": \"FL\", \"zip\": \"33410\", \"phone\": \"561-775-9410\", \"latitude\": 26.84881, \"longitude\": -80.08565, \"brand\": \"ACF\", \"open_date\": \"2014-08-29T00:00:00\", \"state_name\": \"Florida\", \"type\": \"Feature\", \"geometry\": {\"type\": \"Point\", \"coordinates\": [-80.08565, 26.84881]}}, {\"storeNumber\": \"10648\", \"name\": \"Mayfair\", \"address\": \"2500 North Mayfair Road, Ste M132\", \"city\": \"Wauwatosa\", \"state\": \"WI\", \"zip\": \"53226\", \"phone\": \"414-479-1779\", \"latitude\": 43.06395, \"longitude\": -88.04436, \"brand\": \"ACF\", \"open_date\": \"1996-11-15T00:00:00\", \"state_name\": \"Wisconsin\", \"type\": \"Feature\", \"geometry\": {\"type\": \"Point\", \"coordinates\": [-88.04436, 43.06395]}}, {\"storeNumber\": \"21648\", \"name\": \"Mayfair\", \"address\": \"2500 North Mayfair Road, Suite M132\", \"city\": \"Wauwatosa\", \"state\": \"WI\", \"zip\": \"53226\", \"phone\": \"414-479-1779\", \"latitude\": 43.06395, \"longitude\": -88.04436, \"brand\": \"KID\", \"open_date\": \"2017-01-27T00:00:00\", \"state_name\": \"Wisconsin\", \"type\": \"Feature\", \"geometry\": {\"type\": \"Point\", \"coordinates\": [-88.04436, 43.06395]}}, {\"storeNumber\": \"11575\", \"name\": \"Clinton Crossing Premium Outlet\", \"address\": \"20 Killingworth Turnpike\", \"city\": \"Clinton\", \"state\": \"CT\", \"zip\": \"06413\", \"phone\": \"860-664-0879\", \"latitude\": 41.2901, \"longitude\": -72.53315, \"brand\": \"ACF\", \"open_date\": \"2016-11-19T00:00:00\", \"state_name\": \"Connecticut\", \"type\": \"Feature\", \"geometry\": {\"type\": \"Point\", \"coordinates\": [-72.53315, 41.2901]}}, {\"storeNumber\": \"11548\", \"name\": \"Keystone\", \"address\": \"8701 Keystone Crossing\", \"city\": \"Indianapolis\", \"state\": \"IN\", \"zip\": \"46240\", \"phone\": \"317-564-3085\", \"latitude\": 39.91411, \"longitude\": -86.11098, \"brand\": \"ACF\", \"open_date\": \"2018-11-09T00:00:00\", \"state_name\": \"Indiana\", \"type\": \"Feature\", \"geometry\": {\"type\": \"Point\", \"coordinates\": [-86.11098, 39.91411]}}, {\"storeNumber\": \"10974\", \"name\": \"Brandon Town Center\", \"address\": \"421 Brandon Town Center\", \"city\": \"Brandon\", \"state\": \"FL\", \"zip\": \"33511\", \"phone\": \"813-681-8895\", \"latitude\": 27.93316, \"longitude\": -82.32515, \"brand\": \"ACF\", \"open_date\": \"2005-11-17T00:00:00\", \"state_name\": \"Florida\", \"type\": \"Feature\", \"geometry\": {\"type\": \"Point\", \"coordinates\": [-82.32515, 27.93316]}}, {\"storeNumber\": \"21974\", \"name\": \"Brandon Town Center\", \"address\": \"421 Brandon Town Center\", \"city\": \"Brandon\", \"state\": \"FL\", \"zip\": \"33511\", \"phone\": \"813-681-8895\", \"latitude\": 27.93316, \"longitude\": -82.32515, \"brand\": \"KID\", \"open_date\": \"2021-01-08T00:00:00\", \"state_name\": \"Florida\", \"type\": \"Feature\", \"geometry\": {\"type\": \"Point\", \"coordinates\": [-82.32515, 27.93316]}}, {\"storeNumber\": \"11409\", \"name\": \"International Plaza\", \"address\": \"2223 N. Westshore Blvd\", \"city\": \"Tampa\", \"state\": \"FL\", \"zip\": \"33607\", \"phone\": \"813-402-3332\", \"latitude\": 27.96266, \"longitude\": -82.52048, \"brand\": \"ACF\", \"open_date\": \"2022-10-21T00:00:00\", \"state_name\": \"Florida\", \"type\": \"Feature\", \"geometry\": {\"type\": \"Point\", \"coordinates\": [-82.52048, 27.96266]}}, {\"storeNumber\": \"11419\", \"name\": \"Mall At Millenia\", \"address\": \"4200 Conroy Road, Suite 196\", \"city\": \"Orlando\", \"state\": \"FL\", \"zip\": \"32839\", \"phone\": \"407-226-3483\", \"latitude\": 28.48556, \"longitude\": -81.43154, \"brand\": \"ACF\", \"open_date\": \"2018-06-15T00:00:00\", \"state_name\": \"Florida\", \"type\": \"Feature\", \"geometry\": {\"type\": \"Point\", \"coordinates\": [-81.43154, 28.48556]}}, {\"storeNumber\": \"21419\", \"name\": \"Mall At Millenia\", \"address\": \"4200 Conroy Road, Suite 190\", \"city\": \"Orlando\", \"state\": \"FL\", \"zip\": \"32839\", \"phone\": \"321-445-0105\", \"latitude\": 28.48556, \"longitude\": -81.43154, \"brand\": \"KID\", \"open_date\": \"2018-06-08T00:00:00\", \"state_name\": \"Florida\", \"type\": \"Feature\", \"geometry\": {\"type\": \"Point\", \"coordinates\": [-81.43154, 28.48556]}}, {\"storeNumber\": \"20233\", \"name\": \"The Florida Mall\", \"address\": \"8001 S Orange Blossom Trail\", \"city\": \"Orlando\", \"state\": \"FL\", \"zip\": \"32809\", \"phone\": \"407-850-2023\", \"latitude\": 28.44549, \"longitude\": -81.39278, \"brand\": \"KID\", \"open_date\": \"1999-11-05T00:00:00\", \"state_name\": \"Florida\", \"type\": \"Feature\", \"geometry\": {\"type\": \"Point\", \"coordinates\": [-81.39278, 28.44549]}}, {\"storeNumber\": \"11918\", \"name\": \"Westfarms\", \"address\": \"1500 New Britain Ave\", \"city\": \"Farmington\", \"state\": \"CT\", \"zip\": \"06032\", \"phone\": \"860-256-0081\", \"latitude\": 41.72389, \"longitude\": -72.7614, \"brand\": \"ACF\", \"open_date\": \"2022-11-18T00:00:00\", \"state_name\": \"Connecticut\", \"type\": \"Feature\", \"geometry\": {\"type\": \"Point\", \"coordinates\": [-72.7614, 41.72389]}}, {\"storeNumber\": \"11972\", \"name\": \"Washington Square\", \"address\": \"9573 Sw Washington Square Rd\", \"city\": \"Tigard\", \"state\": \"OR\", \"zip\": \"97223\", \"phone\": \"503-207-5210\", \"latitude\": 45.45218, \"longitude\": -122.783, \"brand\": \"ACF\", \"open_date\": \"2019-07-19T00:00:00\", \"state_name\": \"Oregon\", \"type\": \"Feature\", \"geometry\": {\"type\": \"Point\", \"coordinates\": [-122.783, 45.45218]}}, {\"storeNumber\": \"21972\", \"name\": \"Washington Square\", \"address\": \"9561 Sw Washington Square Rd\", \"city\": \"Tigard\", \"state\": \"OR\", \"zip\": \"97223\", \"phone\": \"503-207-5221\", \"latitude\": 45.45218, \"longitude\": -122.783, \"brand\": \"KID\", \"open_date\": \"2019-10-25T00:00:00\", \"state_name\": \"Oregon\", \"type\": \"Feature\", \"geometry\": {\"type\": \"Point\", \"coordinates\": [-122.783, 45.45218]}}, {\"storeNumber\": \"11670\", \"name\": \"Bellevue\", \"address\": \"240 Bellevue Square\", \"city\": \"Bellevue\", \"state\": \"WA\", \"zip\": \"98004\", \"phone\": \"425-201-2219\", \"latitude\": 47.61511, \"longitude\": -122.20308, \"brand\": \"ACF\", \"open_date\": \"2022-10-14T00:00:00\", \"state_name\": \"Washington\", \"type\": \"Feature\", \"geometry\": {\"type\": \"Point\", \"coordinates\": [-122.20308, 47.61511]}}, {\"storeNumber\": \"10620\", \"name\": \"Southcenter\", \"address\": \"661 Southcenter Mall\", \"city\": \"Tukwila\", \"state\": \"WA\", \"zip\": \"98188\", \"phone\": \"206-439-2355\", \"latitude\": 47.45982, \"longitude\": -122.26131, \"brand\": \"ACF\", \"open_date\": \"1995-11-22T00:00:00\", \"state_name\": \"Washington\", \"type\": \"Feature\", \"geometry\": {\"type\": \"Point\", \"coordinates\": [-122.26131, 47.45982]}}, {\"storeNumber\": \"21620\", \"name\": \"Southcenter\", \"address\": \"661 Southcenter Mall\", \"city\": \"Tukwila\", \"state\": \"WA\", \"zip\": \"98188\", \"phone\": \"206-439-2355\", \"latitude\": 47.45982, \"longitude\": -122.26131, \"brand\": \"KID\", \"open_date\": \"2015-11-07T00:00:00\", \"state_name\": \"Washington\", \"type\": \"Feature\", \"geometry\": {\"type\": \"Point\", \"coordinates\": [-122.26131, 47.45982]}}, {\"storeNumber\": \"11391\", \"name\": \"Seattle Outlets\", \"address\": \"10600 Quil Ceda Blvd\", \"city\": \"Quil Ceda Village\", \"state\": \"WA\", \"zip\": \"98271-8090\", \"phone\": \"360-657-5613\", \"latitude\": 48.09679, \"longitude\": -122.19137, \"brand\": \"ACF\", \"open_date\": \"2013-12-12T00:00:00\", \"state_name\": \"Washington\", \"type\": \"Feature\", \"geometry\": {\"type\": \"Point\", \"coordinates\": [-122.19137, 48.09679]}}, {\"storeNumber\": \"11005\", \"name\": \"Park City Outlet\", \"address\": \"6699 North Landmark Drive\", \"city\": \"Park City\", \"state\": \"UT\", \"zip\": \"84098\", \"phone\": \"435-649-7063\", \"latitude\": 40.73581, \"longitude\": -111.54905, \"brand\": \"ACF\", \"open_date\": \"2010-08-26T00:00:00\", \"state_name\": \"Utah\", \"type\": \"Feature\", \"geometry\": {\"type\": \"Point\", \"coordinates\": [-111.54905, 40.73581]}}, {\"storeNumber\": \"10404\", \"name\": \"Twelve Oaks\", \"address\": \"27500 Novi Road, Space B-135\", \"city\": \"Novi\", \"state\": \"MI\", \"zip\": \"48377\", \"phone\": \"248-596-0801\", \"latitude\": 42.49189, \"longitude\": -83.47137, \"brand\": \"ACF\", \"open_date\": \"1994-05-12T00:00:00\", \"state_name\": \"Michigan\", \"type\": \"Feature\", \"geometry\": {\"type\": \"Point\", \"coordinates\": [-83.47137, 42.49189]}}, {\"storeNumber\": \"22404\", \"name\": \"Twelve Oaks\", \"address\": \"27500 Novi Road\", \"city\": \"Novi\", \"state\": \"MI\", \"zip\": \"48377\", \"phone\": \"248-596-0801\", \"latitude\": 42.49189, \"longitude\": -83.47137, \"brand\": \"KID\", \"open_date\": \"2022-01-14T00:00:00\", \"state_name\": \"Michigan\", \"type\": \"Feature\", \"geometry\": {\"type\": \"Point\", \"coordinates\": [-83.47137, 42.49189]}}, {\"storeNumber\": \"11668\", \"name\": \"Somerset North\", \"address\": \"2800 W Big Beaver Road, Space P-151\", \"city\": \"Troy\", \"state\": \"MI\", \"zip\": \"48084\", \"phone\": \"248-816-9668\", \"latitude\": 42.56252, \"longitude\": -83.18403, \"brand\": \"ACF\", \"open_date\": \"2017-07-21T00:00:00\", \"state_name\": \"Michigan\", \"type\": \"Feature\", \"geometry\": {\"type\": \"Point\", \"coordinates\": [-83.18403, 42.56252]}}, {\"storeNumber\": \"21103\", \"name\": \"Somerset North\", \"address\": \"2800 W Big Beaver Road, Ste V-368\", \"city\": \"Troy\", \"state\": \"MI\", \"zip\": \"48084\", \"phone\": \"248-282-6696\", \"latitude\": 42.56252, \"longitude\": -83.18403, \"brand\": \"KID\", \"open_date\": \"2018-08-03T00:00:00\", \"state_name\": \"Michigan\", \"type\": \"Feature\", \"geometry\": {\"type\": \"Point\", \"coordinates\": [-83.18403, 42.56252]}}, {\"storeNumber\": \"10671\", \"name\": \"Franklin Park\", \"address\": \"5001 Monroe Street, Ste 1460\", \"city\": \"Toledo\", \"state\": \"OH\", \"zip\": \"43623\", \"phone\": \"419-475-1491\", \"latitude\": 41.69847, \"longitude\": -83.64302, \"brand\": \"ACF\", \"open_date\": \"1997-05-22T00:00:00\", \"state_name\": \"Ohio\", \"type\": \"Feature\", \"geometry\": {\"type\": \"Point\", \"coordinates\": [-83.64302, 41.69847]}}, {\"storeNumber\": \"10640\", \"name\": \"Southpark\", \"address\": \"232 Southpark Center\", \"city\": \"Strongsville\", \"state\": \"OH\", \"zip\": \"44136\", \"phone\": \"440-846-0669\", \"latitude\": 41.31085, \"longitude\": -81.82267, \"brand\": \"ACF\", \"open_date\": \"1996-10-16T00:00:00\", \"state_name\": \"Ohio\", \"type\": \"Feature\", \"geometry\": {\"type\": \"Point\", \"coordinates\": [-81.82267, 41.31085]}}, {\"storeNumber\": \"10684\", \"name\": \"Faneuil Hall\", \"address\": \"1 Faneuil Hall Square, Stop 100\", \"city\": \"Boston\", \"state\": \"MA\", \"zip\": \"02109\", \"phone\": \"617-722-0021\", \"latitude\": 42.36005, \"longitude\": -71.05623, \"brand\": \"ACF\", \"open_date\": \"2008-03-14T00:00:00\", \"state_name\": \"Massachusetts\", \"type\": \"Feature\", \"geometry\": {\"type\": \"Point\", \"coordinates\": [-71.05623, 42.36005]}}, {\"storeNumber\": \"21685\", \"name\": \"Faneuil Hall\", \"address\": \"1 Faneuil Hall Square, Stop 100\", \"city\": \"Boston\", \"state\": \"MA\", \"zip\": \"02109\", \"phone\": \"617-722-0021\", \"latitude\": 42.36005, \"longitude\": -71.05623, \"brand\": \"KID\", \"open_date\": \"2019-01-25T00:00:00\", \"state_name\": \"Massachusetts\", \"type\": \"Feature\", \"geometry\": {\"type\": \"Point\", \"coordinates\": [-71.05623, 42.36005]}}, {\"storeNumber\": \"11336\", \"name\": \"Newbury Street\", \"address\": \"321 Newbury Street\", \"city\": \"Boston\", \"state\": \"MA\", \"zip\": \"02115\", \"phone\": \"617-535-6168\", \"latitude\": 42.34901, \"longitude\": -71.08614, \"brand\": \"ACF\", \"open_date\": \"2023-03-17T00:00:00\", \"state_name\": \"Massachusetts\", \"type\": \"Feature\", \"geometry\": {\"type\": \"Point\", \"coordinates\": [-71.08614, 42.34901]}}, {\"storeNumber\": \"12524\", \"name\": \"Marketstreet Lynnfield\", \"address\": \"1100 Market St\", \"city\": \"Lynnfield\", \"state\": \"MA\", \"zip\": \"01940\", \"phone\": \"781-716-5420\", \"latitude\": 42.51647, \"longitude\": -71.03493, \"brand\": \"ACF\", \"open_date\": \"2021-10-08T00:00:00\", \"state_name\": \"Massachusetts\", \"type\": \"Feature\", \"geometry\": {\"type\": \"Point\", \"coordinates\": [-71.03493, 42.51647]}}, {\"storeNumber\": \"21166\", \"name\": \"Burlington\", \"address\": \"75 Middlesex Turnpike\", \"city\": \"Burlington\", \"state\": \"MA\", \"zip\": \"01803\", \"phone\": \"781-203-7930\", \"latitude\": 42.48244, \"longitude\": -71.21348, \"brand\": \"KID\", \"open_date\": \"2021-07-09T00:00:00\", \"state_name\": \"Massachusetts\", \"type\": \"Feature\", \"geometry\": {\"type\": \"Point\", \"coordinates\": [-71.21348, 42.48244]}}, {\"storeNumber\": \"10968\", \"name\": \"Burlington\", \"address\": \"75 Middlesex Turnpike Ste 2200\", \"city\": \"Burlington\", \"state\": \"MA\", \"zip\": \"01803\", \"phone\": \"781-272-3509\", \"latitude\": 42.48112, \"longitude\": -71.21675, \"brand\": \"ACF\", \"open_date\": \"2010-03-26T00:00:00\", \"state_name\": \"Massachusetts\", \"type\": \"Feature\", \"geometry\": {\"type\": \"Point\", \"coordinates\": [-71.21675, 42.48112]}}, {\"storeNumber\": \"20198\", \"name\": \"Northshore\", \"address\": \"210 Andover St Space X115\", \"city\": \"Peabody\", \"state\": \"MA\", \"zip\": \"01960\", \"phone\": \"978-531-2559\", \"latitude\": 42.54286, \"longitude\": -70.94198, \"brand\": \"KID\", \"open_date\": \"2008-11-04T00:00:00\", \"state_name\": \"Massachusetts\", \"type\": \"Feature\", \"geometry\": {\"type\": \"Point\", \"coordinates\": [-70.94198, 42.54286]}}, {\"storeNumber\": \"21333\", \"name\": \"South Shore\", \"address\": \"250 Granite Street\", \"city\": \"Braintree\", \"state\": \"MA\", \"zip\": \"02184\", \"phone\": \"781-917-0499\", \"latitude\": 42.2223, \"longitude\": -71.02421, \"brand\": \"KID\", \"open_date\": \"2021-07-30T00:00:00\", \"state_name\": \"Massachusetts\", \"type\": \"Feature\", \"geometry\": {\"type\": \"Point\", \"coordinates\": [-71.02421, 42.2223]}}, {\"storeNumber\": \"10637\", \"name\": \"South Shore\", \"address\": \"250 Granite Street, Ste 154\", \"city\": \"Braintree\", \"state\": \"MA\", \"zip\": \"02184\", \"phone\": \"781-380-3754\", \"latitude\": 42.21997, \"longitude\": -71.02276, \"brand\": \"ACF\", \"open_date\": \"1997-02-13T00:00:00\", \"state_name\": \"Massachusetts\", \"type\": \"Feature\", \"geometry\": {\"type\": \"Point\", \"coordinates\": [-71.02276, 42.21997]}}, {\"storeNumber\": \"12504\", \"name\": \"Natick\", \"address\": \"1245 Worcester Street\", \"city\": \"Natick\", \"state\": \"MA\", \"zip\": \"01760\", \"phone\": \"508-651-3085\", \"latitude\": 42.30443, \"longitude\": -71.32653, \"brand\": \"ACF\", \"open_date\": \"2021-05-07T00:00:00\", \"state_name\": \"Massachusetts\", \"type\": \"Feature\", \"geometry\": {\"type\": \"Point\", \"coordinates\": [-71.32653, 42.30443]}}, {\"storeNumber\": \"21178\", \"name\": \"Natick\", \"address\": \"1245 Worcester Street, Suite 2132\", \"city\": \"Natick\", \"state\": \"MA\", \"zip\": \"01760\", \"phone\": \"508-433-1054\", \"latitude\": 42.29945, \"longitude\": -71.38493, \"brand\": \"KID\", \"open_date\": \"2018-08-10T00:00:00\", \"state_name\": \"Massachusetts\", \"type\": \"Feature\", \"geometry\": {\"type\": \"Point\", \"coordinates\": [-71.38493, 42.29945]}}, {\"storeNumber\": \"10524\", \"name\": \"Rockingham Park\", \"address\": \"99 Rockingham Park Blvd  Ste 3\", \"city\": \"Salem\", \"state\": \"NH\", \"zip\": \"03079\", \"phone\": \"603-893-1924\", \"latitude\": 42.76815, \"longitude\": -71.23136, \"brand\": \"ACF\", \"open_date\": \"1991-10-31T00:00:00\", \"state_name\": \"New Hampshire\", \"type\": \"Feature\", \"geometry\": {\"type\": \"Point\", \"coordinates\": [-71.23136, 42.76815]}}, {\"storeNumber\": \"10653\", \"name\": \"Pheasant Lane\", \"address\": \"310 Daniel Webster Hwy. Suite #116\", \"city\": \"Nashua\", \"state\": \"NH\", \"zip\": \"03060\", \"phone\": \"603-888-9953\", \"latitude\": 42.70185, \"longitude\": -71.44052, \"brand\": \"ACF\", \"open_date\": \"1996-08-29T00:00:00\", \"state_name\": \"New Hampshire\", \"type\": \"Feature\", \"geometry\": {\"type\": \"Point\", \"coordinates\": [-71.44052, 42.70185]}}, {\"storeNumber\": \"12521\", \"name\": \"Providence Place\", \"address\": \"1 Providence Place, Unit 3250\", \"city\": \"Providence\", \"state\": \"RI\", \"zip\": \"02903\", \"phone\": \"401-473-0024\", \"latitude\": 41.82807, \"longitude\": -71.41588, \"brand\": \"ACF\", \"open_date\": \"2021-05-21T00:00:00\", \"state_name\": \"Rhode Island\", \"type\": \"Feature\", \"geometry\": {\"type\": \"Point\", \"coordinates\": [-71.41588, 41.82807]}}, {\"storeNumber\": \"10558\", \"name\": \"Eastview\", \"address\": \"437 Eastview Mall\", \"city\": \"Victor\", \"state\": \"NY\", \"zip\": \"14564\", \"phone\": \"585-223-4520\", \"latitude\": 43.02999, \"longitude\": -77.44391, \"brand\": \"ACF\", \"open_date\": \"1995-11-22T00:00:00\", \"state_name\": \"New York\", \"type\": \"Feature\", \"geometry\": {\"type\": \"Point\", \"coordinates\": [-77.44391, 43.02999]}}, {\"storeNumber\": \"21558\", \"name\": \"Eastview\", \"address\": \"437 Eastview Mall\", \"city\": \"Victor\", \"state\": \"NY\", \"zip\": \"14564\", \"phone\": \"585-223-4520\", \"latitude\": 43.02999, \"longitude\": -77.44391, \"brand\": \"KID\", \"open_date\": \"2018-08-17T00:00:00\", \"state_name\": \"New York\", \"type\": \"Feature\", \"geometry\": {\"type\": \"Point\", \"coordinates\": [-77.44391, 43.02999]}}, {\"storeNumber\": \"11680\", \"name\": \"Polaris Fashion Place\", \"address\": \"1500 Polaris Parkway, Ste 1190\", \"city\": \"Columbus\", \"state\": \"OH\", \"zip\": \"43240\", \"phone\": \"614-781-0510\", \"latitude\": 40.1456, \"longitude\": -82.9814, \"brand\": \"ACF\", \"open_date\": \"2017-02-17T00:00:00\", \"state_name\": \"Ohio\", \"type\": \"Feature\", \"geometry\": {\"type\": \"Point\", \"coordinates\": [-82.9814, 40.1456]}}, {\"storeNumber\": \"21121\", \"name\": \"Polaris Fashion Place\", \"address\": \"1500 Polaris Pkwy\", \"city\": \"Columbus\", \"state\": \"OH\", \"zip\": \"43240-2126\", \"phone\": \"614-807-3010\", \"latitude\": 40.1456, \"longitude\": -82.9814, \"brand\": \"KID\", \"open_date\": \"2019-05-17T00:00:00\", \"state_name\": \"Ohio\", \"type\": \"Feature\", \"geometry\": {\"type\": \"Point\", \"coordinates\": [-82.9814, 40.1456]}}, {\"storeNumber\": \"11681\", \"name\": \"Easton Town Center\", \"address\": \"3964 Easton Station\", \"city\": \"Columbus\", \"state\": \"OH\", \"zip\": \"43219\", \"phone\": \"614-418-7648\", \"latitude\": 40.04987, \"longitude\": -82.91549, \"brand\": \"ACF\", \"open_date\": \"2019-07-03T00:00:00\", \"state_name\": \"Ohio\", \"type\": \"Feature\", \"geometry\": {\"type\": \"Point\", \"coordinates\": [-82.91549, 40.04987]}}, {\"storeNumber\": \"21210\", \"name\": \"Easton Town Center\", \"address\": \"215 Easton Town Center\", \"city\": \"Columbus\", \"state\": \"OH\", \"zip\": \"43219\", \"phone\": \"614-418-7662\", \"latitude\": 40.04987, \"longitude\": -82.91549, \"brand\": \"KID\", \"open_date\": \"2018-11-16T00:00:00\", \"state_name\": \"Ohio\", \"type\": \"Feature\", \"geometry\": {\"type\": \"Point\", \"coordinates\": [-82.91549, 40.04987]}}, {\"storeNumber\": \"11773\", \"name\": \"St Johns Town Center\", \"address\": \"4790 River City Drive Suite 125\", \"city\": \"Jacksonville\", \"state\": \"FL\", \"zip\": \"32246\", \"phone\": \"904-596-9964\", \"latitude\": 30.25778, \"longitude\": -81.52632, \"brand\": \"ACF\", \"open_date\": \"2023-11-17T00:00:00\", \"state_name\": \"Florida\", \"type\": \"Feature\", \"geometry\": {\"type\": \"Point\", \"coordinates\": [-81.52632, 30.25778]}}, {\"storeNumber\": \"10435\", \"name\": \"Rehoboth Beach Outlet\", \"address\": \"36470 Seaside Drive\", \"city\": \"Rehoboth Beach\", \"state\": \"DE\", \"zip\": \"19971\", \"phone\": \"302-227-8480\", \"latitude\": 38.72194, \"longitude\": -75.11303, \"brand\": \"ACF\", \"open_date\": \"2006-10-12T00:00:00\", \"state_name\": \"Delaware\", \"type\": \"Feature\", \"geometry\": {\"type\": \"Point\", \"coordinates\": [-75.11303, 38.72194]}}, {\"storeNumber\": \"10545\", \"name\": \"Fayette\", \"address\": \"3615 Nicholasville Road, Ste 808\", \"city\": \"Lexington\", \"state\": \"KY\", \"zip\": \"40503\", \"phone\": \"859-272-2498\", \"latitude\": 37.98711, \"longitude\": -84.52573, \"brand\": \"ACF\", \"open_date\": \"1993-09-23T00:00:00\", \"state_name\": \"Kentucky\", \"type\": \"Feature\", \"geometry\": {\"type\": \"Point\", \"coordinates\": [-84.52573, 37.98711]}}, {\"storeNumber\": \"21579\", \"name\": \"Fayette\", \"address\": \"3615 Nicholasville Road\", \"city\": \"Lexington\", \"state\": \"KY\", \"zip\": \"40503\", \"phone\": \"859-272-2498\", \"latitude\": 37.98711, \"longitude\": -84.52573, \"brand\": \"KID\", \"open_date\": \"2021-01-08T00:00:00\", \"state_name\": \"Kentucky\", \"type\": \"Feature\", \"geometry\": {\"type\": \"Point\", \"coordinates\": [-84.52573, 37.98711]}}, {\"storeNumber\": \"11593\", \"name\": \"Outlet Shoppes Of The Bluegrass\", \"address\": \"1155 Buck Creek Road\", \"city\": \"Simpsonville\", \"state\": \"KY\", \"zip\": \"40067\", \"phone\": \"502-722-8311\", \"latitude\": 38.20566, \"longitude\": -85.35175, \"brand\": \"ACF\", \"open_date\": \"2015-10-24T00:00:00\", \"state_name\": \"Kentucky\", \"type\": \"Feature\", \"geometry\": {\"type\": \"Point\", \"coordinates\": [-85.35175, 38.20566]}}, {\"storeNumber\": \"21593\", \"name\": \"Outlet Shoppes Of The Bluegrass\", \"address\": \"1155 Buck Creek Road\", \"city\": \"Simpsonville\", \"state\": \"KY\", \"zip\": \"40067\", \"phone\": \"502-722-8311\", \"latitude\": 38.20566, \"longitude\": -85.35175, \"brand\": \"KID\", \"open_date\": \"2015-10-24T00:00:00\", \"state_name\": \"Kentucky\", \"type\": \"Feature\", \"geometry\": {\"type\": \"Point\", \"coordinates\": [-85.35175, 38.20566]}}, {\"storeNumber\": \"11190\", \"name\": \"Southaven\", \"address\": \"5205 Airways Boulevard\", \"city\": \"Southaven\", \"state\": \"MS\", \"zip\": \"38671\", \"phone\": \"662-349-0575\", \"latitude\": 35.00711, \"longitude\": -89.98954, \"brand\": \"ACF\", \"open_date\": \"2015-11-19T00:00:00\", \"state_name\": \"Mississippi\", \"type\": \"Feature\", \"geometry\": {\"type\": \"Point\", \"coordinates\": [-89.98954, 35.00711]}}, {\"storeNumber\": \"11576\", \"name\": \"Indiana Po\", \"address\": \"11925 Ne Executive Drive\", \"city\": \"Edinburgh\", \"state\": \"IN\", \"zip\": \"46124\", \"phone\": \"812-526-2151\", \"latitude\": 39.31063, \"longitude\": -85.95954, \"brand\": \"ACF\", \"open_date\": \"2015-04-18T00:00:00\", \"state_name\": \"Indiana\", \"type\": \"Feature\", \"geometry\": {\"type\": \"Point\", \"coordinates\": [-85.95954, 39.31063]}}, {\"storeNumber\": \"11521\", \"name\": \"King Street\", \"address\": \"235 King St\", \"city\": \"Charleston\", \"state\": \"SC\", \"zip\": \"29401\", \"phone\": \"843-614-3040\", \"latitude\": 32.78115, \"longitude\": -79.93357, \"brand\": \"ACF\", \"open_date\": \"2023-09-29T00:00:00\", \"state_name\": \"South Carolina\", \"type\": \"Feature\", \"geometry\": {\"type\": \"Point\", \"coordinates\": [-79.93357, 32.78115]}}, {\"storeNumber\": \"11126\", \"name\": \"Woodland\", \"address\": \"3195 28th St Se Ste H106\", \"city\": \"Grand Rapids\", \"state\": \"MI\", \"zip\": \"49512\", \"phone\": \"616-320-3530\", \"latitude\": 42.91607, \"longitude\": -85.58831, \"brand\": \"ACF\", \"open_date\": \"2023-10-27T00:00:00\", \"state_name\": \"Michigan\", \"type\": \"Feature\", \"geometry\": {\"type\": \"Point\", \"coordinates\": [-85.58831, 42.91607]}}, {\"storeNumber\": \"11508\", \"name\": \"Mall At Robinson\", \"address\": \"2230 Robinson Center Drive\", \"city\": \"Pittsburgh\", \"state\": \"PA\", \"zip\": \"15205\", \"phone\": \"412-859-1014\", \"latitude\": 40.4542, \"longitude\": -80.1565, \"brand\": \"ACF\", \"open_date\": \"2016-02-03T00:00:00\", \"state_name\": \"Pennsylvania\", \"type\": \"Feature\", \"geometry\": {\"type\": \"Point\", \"coordinates\": [-80.1565, 40.4542]}}]}}, {\"mode\": \"vega-lite\"});\n",
       "</script>"
      ],
      "text/plain": [
       "alt.LayerChart(...)"
      ]
     },
     "execution_count": 25,
     "metadata": {},
     "output_type": "execute_result"
    }
   ],
   "source": [
    "symbols = (\n",
    "    alt.Chart(gdf)\n",
    "    .transform_aggregate(\n",
    "        latitude=\"mean(latitude)\",\n",
    "        longitude=\"mean(longitude)\",\n",
    "        count=\"count()\",\n",
    "        groupby=[\"state_abbr\"],\n",
    "    )\n",
    "    .mark_circle()\n",
    "    .encode(\n",
    "        longitude=\"longitude:Q\",\n",
    "        latitude=\"latitude:Q\",\n",
    "        size=alt.Size(\"count:Q\", title=\"Count by state\"),\n",
    "        color=alt.value(\"red\"),\n",
    "        tooltip=[\"state_name:N\", \"count:Q\"],\n",
    "    )\n",
    "    .properties(title=f\"Number of {place_formal} in US, by average lon/lat of locations\")\n",
    ")\n",
    "\n",
    "symbol_map = background + symbols\n",
    "symbol_map.configure_view(stroke=None)"
   ]
  },
  {
   "cell_type": "markdown",
   "id": "517547e0-da43-4d44-8a1c-6e0e5f2b06a4",
   "metadata": {},
   "source": [
    "---"
   ]
  },
  {
   "cell_type": "markdown",
   "id": "bbae19c7-27d1-4488-a0bf-c856eefc8e98",
   "metadata": {},
   "source": [
    "## Exports"
   ]
  },
  {
   "cell_type": "markdown",
   "id": "fd72aa01-ef35-4c4b-8bb4-ac40f5849cbb",
   "metadata": {},
   "source": [
    "#### CSV"
   ]
  },
  {
   "cell_type": "code",
   "execution_count": 26,
   "id": "951eb2a4-db3a-4cd6-935f-466c14addb89",
   "metadata": {},
   "outputs": [],
   "source": [
    "df.to_csv(\"data/processed/abercrombie_fitch_locations.csv\", index=False)"
   ]
  },
  {
   "cell_type": "markdown",
   "id": "64a764bb-50d7-45cb-93f4-5f230072eb2a",
   "metadata": {},
   "source": [
    "#### JSON"
   ]
  },
  {
   "cell_type": "code",
   "execution_count": 27,
   "id": "b1c76009-9346-4400-b7b9-7358646c1321",
   "metadata": {},
   "outputs": [],
   "source": [
    "df.to_json(\n",
    "    \"data/processed/abercrombie_fitch_locations.json\", indent=4, orient=\"records\"\n",
    ")"
   ]
  },
  {
   "cell_type": "markdown",
   "id": "e281fffc-8466-4357-9a50-5fdeb55f7668",
   "metadata": {},
   "source": [
    "#### GeoJSON"
   ]
  },
  {
   "cell_type": "code",
   "execution_count": 28,
   "id": "e17b5314-d097-4d2f-93b8-0e135455a675",
   "metadata": {},
   "outputs": [],
   "source": [
    "gdf.to_file(\"data/processed/abercrombie_fitch_locations.geojson\", driver=\"GeoJSON\")"
   ]
  }
 ],
 "metadata": {
  "kernelspec": {
   "display_name": "Python 3 (ipykernel)",
   "language": "python",
   "name": "python3"
  },
  "language_info": {
   "codemirror_mode": {
    "name": "ipython",
    "version": 3
   },
   "file_extension": ".py",
   "mimetype": "text/x-python",
   "name": "python",
   "nbconvert_exporter": "python",
   "pygments_lexer": "ipython3",
   "version": "3.9.15"
  }
 },
 "nbformat": 4,
 "nbformat_minor": 5
}
