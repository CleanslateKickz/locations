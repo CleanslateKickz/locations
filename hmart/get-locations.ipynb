{
 "cells": [
  {
   "cell_type": "markdown",
   "id": "0fdd4e16-e062-4146-9c40-05a340ecc972",
   "metadata": {},
   "source": [
    "# Get Hmart locations"
   ]
  },
  {
   "cell_type": "markdown",
   "id": "2cd6a4cf-3892-4cc9-97de-84f87dc86d7d",
   "metadata": {},
   "source": [
    "#### Load Python tools and Jupyter config"
   ]
  },
  {
   "cell_type": "code",
   "execution_count": 1,
   "id": "875165b1-1ed6-4d53-b33a-9a8afd6ea2bb",
   "metadata": {},
   "outputs": [],
   "source": [
    "import re\n",
    "import us\n",
    "import json\n",
    "import black\n",
    "import codecs\n",
    "import requests\n",
    "import usaddress\n",
    "import pandas as pd\n",
    "import jupyter_black\n",
    "import altair as alt\n",
    "import geopandas as gpd\n",
    "from bs4 import BeautifulSoup\n",
    "from vega_datasets import data\n",
    "from tqdm.notebook import tqdm, trange"
   ]
  },
  {
   "cell_type": "code",
   "execution_count": 2,
   "id": "3ef9eefb-2887-4a07-995d-eb12d1dd251d",
   "metadata": {},
   "outputs": [
    {
     "data": {
      "text/html": [
       "\n",
       "                <script type=\"application/javascript\" id=\"jupyter_black\">\n",
       "                (function() {\n",
       "                    if (window.IPython === undefined) {\n",
       "                        return\n",
       "                    }\n",
       "                    var msg = \"WARNING: it looks like you might have loaded \" +\n",
       "                        \"jupyter_black in a non-lab notebook with \" +\n",
       "                        \"`is_lab=True`. Please double check, and if \" +\n",
       "                        \"loading with `%load_ext` please review the README!\"\n",
       "                    console.log(msg)\n",
       "                    alert(msg)\n",
       "                })()\n",
       "                </script>\n",
       "                "
      ],
      "text/plain": [
       "<IPython.core.display.HTML object>"
      ]
     },
     "metadata": {},
     "output_type": "display_data"
    }
   ],
   "source": [
    "jupyter_black.load()\n",
    "pd.options.display.max_columns = 100\n",
    "pd.options.display.max_rows = 1000\n",
    "pd.options.display.max_colwidth = None"
   ]
  },
  {
   "cell_type": "code",
   "execution_count": 3,
   "id": "ac5ec9e2-d2b4-48ea-ad76-2d0b3049c7a0",
   "metadata": {},
   "outputs": [],
   "source": [
    "place = \"hmart\"\n",
    "place_formal = \"Hmart\"\n",
    "color = \"#ea1a1e\""
   ]
  },
  {
   "cell_type": "markdown",
   "id": "3bbfd20b-7936-4f21-a091-697fca808ab1",
   "metadata": {},
   "source": [
    "## Read data"
   ]
  },
  {
   "cell_type": "markdown",
   "id": "70c799af-d3be-4577-96fa-ba056f433607",
   "metadata": {},
   "source": [
    "#### All the locations"
   ]
  },
  {
   "cell_type": "code",
   "execution_count": 4,
   "id": "bd4d1c20-0ab5-4456-81b7-661e440e8c20",
   "metadata": {},
   "outputs": [],
   "source": [
    "headers = {\n",
    "    \"user-agent\": \"Mozilla/5.0 (Macintosh; Intel Mac OS X 10_15_7) AppleWebKit/537.36 (KHTML, like Gecko) Chrome/120.0.0.0 Safari/537.36\",\n",
    "}"
   ]
  },
  {
   "cell_type": "code",
   "execution_count": 5,
   "id": "d8cada9a-c1b9-4712-974a-f07f9a322104",
   "metadata": {},
   "outputs": [],
   "source": [
    "response = requests.get(\"https://www.hmart.com/ourstores\")"
   ]
  },
  {
   "cell_type": "code",
   "execution_count": 6,
   "id": "7276481b-8db7-4a59-9264-7597e72470a6",
   "metadata": {},
   "outputs": [],
   "source": [
    "soup = BeautifulSoup(response.text, \"html.parser\")"
   ]
  },
  {
   "cell_type": "code",
   "execution_count": 7,
   "id": "2fd8560f-159e-4001-b215-6f2be57eacd3",
   "metadata": {},
   "outputs": [],
   "source": [
    "store_urls = []\n",
    "\n",
    "for l in soup.find_all(\"a\", class_=\"store-name\"):\n",
    "    store_urls.append(l[\"href\"])"
   ]
  },
  {
   "cell_type": "markdown",
   "id": "9f140434-11e3-4a03-b019-265f24830677",
   "metadata": {},
   "source": [
    "#### Send a GET request to the main store locator URL"
   ]
  },
  {
   "cell_type": "code",
   "execution_count": 8,
   "id": "e9eef2a6-17f0-43a6-8d41-8770e6a6b15e",
   "metadata": {},
   "outputs": [],
   "source": [
    "url = \"https://www.hmart.com/ourstores\"\n",
    "response = requests.get(url)"
   ]
  },
  {
   "cell_type": "markdown",
   "id": "e3f39691-ddd2-44b0-97f9-d89309038eb9",
   "metadata": {},
   "source": [
    "#### Parse the HTML content of the page"
   ]
  },
  {
   "cell_type": "code",
   "execution_count": 9,
   "id": "5d77549e-1c44-4f33-b396-1599cf2bb8d5",
   "metadata": {},
   "outputs": [],
   "source": [
    "soup = BeautifulSoup(response.content, \"html.parser\")"
   ]
  },
  {
   "cell_type": "markdown",
   "id": "c3e744b7-2427-4758-bd89-c726d755b9bf",
   "metadata": {},
   "source": [
    "#### Find all scripts containing the store information"
   ]
  },
  {
   "cell_type": "code",
   "execution_count": 10,
   "id": "9a72d176-3680-4298-a68c-1f5ab59d0e18",
   "metadata": {},
   "outputs": [],
   "source": [
    "scripts = soup.find_all(\"script\", attrs={\"xml\": \"space\"})"
   ]
  },
  {
   "cell_type": "markdown",
   "id": "105c94f7-480a-44e8-9166-08fb28e708ae",
   "metadata": {},
   "source": [
    "#### Extract JSON data from the second script (index 1)"
   ]
  },
  {
   "cell_type": "code",
   "execution_count": 11,
   "id": "b2ef1728-8f5b-4674-9bed-99dd012f1134",
   "metadata": {},
   "outputs": [],
   "source": [
    "json_data = None\n",
    "if len(scripts) > 1:\n",
    "    script_text = scripts[1].text.strip()\n",
    "    # Use regular expressions to extract the JSON data\n",
    "    match = re.search(r\"jsonLocations:\\s*(\\{.*\\})\", script_text)\n",
    "    if match:\n",
    "        json_data = match.group(1)\n",
    "\n",
    "# Process the JSON data if available\n",
    "if json_data:\n",
    "    try:\n",
    "        # Parse the JSON data\n",
    "        store_info = json.loads(json_data.replace(\"}        }\", \"}\"))\n",
    "        # Extract store information from the 'items' key\n",
    "        store_items = store_info.get(\"items\", [])\n",
    "\n",
    "        # Define a list to store dictionaries of store information\n",
    "        stores_data = []\n",
    "\n",
    "        # Iterate over store items and extract required elements\n",
    "        for store in store_items:\n",
    "            store_dict = {\n",
    "                \"store_id\": store[\"id\"],\n",
    "                \"store_name\": store[\"name\"],\n",
    "                \"address\": store[\"address\"],\n",
    "                \"latitude\": store[\"lat\"],\n",
    "                \"longitude\": store[\"lng\"],\n",
    "                \"phone\": store[\"phone\"],\n",
    "            }\n",
    "            stores_data.append(store_dict)\n",
    "\n",
    "        # Convert the list of dictionaries to a dataframe\n",
    "        df = pd.DataFrame(stores_data)\n",
    "    except json.JSONDecodeError as e:\n",
    "        print(f\"Error decoding JSON data: {e}\")\n",
    "else:\n",
    "    print(\"No JSON data found in the script.\")"
   ]
  },
  {
   "cell_type": "markdown",
   "id": "77d28726-2049-4ec4-99bd-f454736f8d34",
   "metadata": {},
   "source": [
    "---"
   ]
  },
  {
   "cell_type": "markdown",
   "id": "369196de-61bc-4c32-a588-15863cb266ac",
   "metadata": {},
   "source": [
    "## Addresses"
   ]
  },
  {
   "cell_type": "markdown",
   "id": "4a661eba-2023-465d-a526-df85f65f3e51",
   "metadata": {},
   "source": [
    "#### Clean up punctuation quirk in a couple addresses"
   ]
  },
  {
   "cell_type": "code",
   "execution_count": 12,
   "id": "b240b11c-7ca5-44d0-a7ef-cfacafec10cf",
   "metadata": {},
   "outputs": [],
   "source": [
    "df[\"address\"] = df[\"address\"].str.replace(\".\", \". \")\n",
    "\n",
    "addresses = df[\"address\"]"
   ]
  },
  {
   "cell_type": "markdown",
   "id": "476bcc59-3fa9-48ed-93eb-e78587c3283f",
   "metadata": {},
   "source": [
    "#### Define lists to store parsed address components"
   ]
  },
  {
   "cell_type": "code",
   "execution_count": 13,
   "id": "cd404f15-cb69-43b0-9626-0301e2d1a1fe",
   "metadata": {},
   "outputs": [],
   "source": [
    "streets = []\n",
    "cities = []\n",
    "states = []\n",
    "zips = []"
   ]
  },
  {
   "cell_type": "markdown",
   "id": "27eb902a-cfbc-44fa-b1a1-3be19a48a451",
   "metadata": {},
   "source": [
    "#### Parse each address and extract components"
   ]
  },
  {
   "cell_type": "code",
   "execution_count": 14,
   "id": "5695a8aa-0f8c-4026-9e3d-4fdcbc138e65",
   "metadata": {},
   "outputs": [],
   "source": [
    "for address in addresses:\n",
    "    parsed_address = usaddress.tag(address)\n",
    "    parsed_dict = dict(parsed_address[0])\n",
    "    streets.append(\n",
    "        parsed_dict.get(\"AddressNumber\", \"\") + \" \" + parsed_dict.get(\"StreetName\", \"\")\n",
    "    )\n",
    "    cities.append(parsed_dict.get(\"PlaceName\", \"\"))\n",
    "    states.append(parsed_dict.get(\"StateName\", \"\"))\n",
    "    zips.append(parsed_dict.get(\"ZipCode\", \"\"))"
   ]
  },
  {
   "cell_type": "markdown",
   "id": "96d88204-75d2-4538-8cd0-1108676d3675",
   "metadata": {},
   "source": [
    "#### Add parsed components to DataFrame"
   ]
  },
  {
   "cell_type": "code",
   "execution_count": 15,
   "id": "db7f8269-9a2d-4856-abf0-a14aad910374",
   "metadata": {},
   "outputs": [],
   "source": [
    "df[\"street\"] = streets\n",
    "df[\"city\"] = cities\n",
    "df[\"state\"] = states\n",
    "df[\"zip\"] = zips"
   ]
  },
  {
   "cell_type": "markdown",
   "id": "d5cb3f5e-9d00-475f-92d6-a381126c253b",
   "metadata": {},
   "source": [
    "#### Drop the original 'address' column if needed"
   ]
  },
  {
   "cell_type": "code",
   "execution_count": 16,
   "id": "9b4238d4-4cd9-4ac5-8093-d1f241c5a329",
   "metadata": {},
   "outputs": [],
   "source": [
    "df = df.drop(columns=[\"address\"])"
   ]
  },
  {
   "cell_type": "markdown",
   "id": "1b0134b9-0b53-41ae-a498-891b729ac265",
   "metadata": {},
   "source": [
    "#### Create a mapping of state abbreviations to full state names using the us library"
   ]
  },
  {
   "cell_type": "code",
   "execution_count": 17,
   "id": "18485bc1-ac20-4715-b117-2ffc36a4de10",
   "metadata": {},
   "outputs": [],
   "source": [
    "state_mapping = {state.abbr: state.name for state in us.states.STATES}"
   ]
  },
  {
   "cell_type": "markdown",
   "id": "02a07567-2cda-40d0-a1db-9f51fdb03a67",
   "metadata": {},
   "source": [
    "#### New column of full state names based on abbreviations"
   ]
  },
  {
   "cell_type": "code",
   "execution_count": 18,
   "id": "5d7c356a-a44b-4b86-aaf9-4db2a05cb3e9",
   "metadata": {},
   "outputs": [],
   "source": [
    "df[\"state_name\"] = df[\"state\"].map(state_mapping)"
   ]
  },
  {
   "cell_type": "markdown",
   "id": "ef406bd4-65b5-4f26-8404-051b13a83585",
   "metadata": {},
   "source": [
    "#### Make sure our brand name gets in the dataframe"
   ]
  },
  {
   "cell_type": "code",
   "execution_count": 19,
   "id": "d447d483-318e-45a8-962d-221b8ec1982f",
   "metadata": {},
   "outputs": [],
   "source": [
    "df[\"brand\"] = place_formal"
   ]
  },
  {
   "cell_type": "markdown",
   "id": "e836582d-ef21-4876-bfc3-f8298a077b3c",
   "metadata": {},
   "source": [
    "---"
   ]
  },
  {
   "cell_type": "markdown",
   "id": "e9398ab6-73bc-421d-ab31-2e0b625fe541",
   "metadata": {},
   "source": [
    "## Geography"
   ]
  },
  {
   "cell_type": "markdown",
   "id": "2aa8f487-ab80-4d32-84df-651304cd9523",
   "metadata": {},
   "source": [
    "#### Make it a geodataframe"
   ]
  },
  {
   "cell_type": "code",
   "execution_count": 20,
   "id": "920e5fe7-a6fd-4a10-97f0-c1dd0b7bef72",
   "metadata": {},
   "outputs": [],
   "source": [
    "df_geo = df.copy()"
   ]
  },
  {
   "cell_type": "code",
   "execution_count": 21,
   "id": "4072e19f-2567-427d-82d5-2c8a925278da",
   "metadata": {},
   "outputs": [],
   "source": [
    "gdf = gpd.GeoDataFrame(\n",
    "    df_geo, geometry=gpd.points_from_xy(df_geo.longitude, df_geo.latitude)\n",
    ")"
   ]
  },
  {
   "cell_type": "markdown",
   "id": "67db45d5-afdf-4347-a2a0-da8aa3728779",
   "metadata": {},
   "source": [
    "---"
   ]
  },
  {
   "cell_type": "markdown",
   "id": "b3c311f9-dd29-4524-8932-67858cd3cec0",
   "metadata": {},
   "source": [
    "## Maps"
   ]
  },
  {
   "cell_type": "markdown",
   "id": "93b0579e-620d-4a08-afd8-ad489be0557e",
   "metadata": {},
   "source": [
    "#### US states background"
   ]
  },
  {
   "cell_type": "code",
   "execution_count": 22,
   "id": "95c369d7-8a64-4f49-a05f-79c444cf4e28",
   "metadata": {},
   "outputs": [],
   "source": [
    "background = (\n",
    "    alt.Chart(alt.topo_feature(data.us_10m.url, feature=\"states\"))\n",
    "    .mark_geoshape(fill=\"#e9e9e9\", stroke=\"white\")\n",
    "    .properties(width=800, height=500, title=f\"{place_formal} locations\")\n",
    "    .project(\"albersUsa\")\n",
    ")"
   ]
  },
  {
   "cell_type": "markdown",
   "id": "a914fc11-a8c6-49d1-96d2-8b5f83b01cc7",
   "metadata": {},
   "source": [
    "#### Location points map"
   ]
  },
  {
   "cell_type": "code",
   "execution_count": 23,
   "id": "b624cc2f-c724-4849-9a4b-761258a3f8ad",
   "metadata": {},
   "outputs": [
    {
     "data": {
      "text/html": [
       "\n",
       "<style>\n",
       "  #altair-viz-7bc545b9a8904ec28ca3a6b57830a73d.vega-embed {\n",
       "    width: 100%;\n",
       "    display: flex;\n",
       "  }\n",
       "\n",
       "  #altair-viz-7bc545b9a8904ec28ca3a6b57830a73d.vega-embed details,\n",
       "  #altair-viz-7bc545b9a8904ec28ca3a6b57830a73d.vega-embed details summary {\n",
       "    position: relative;\n",
       "  }\n",
       "</style>\n",
       "<div id=\"altair-viz-7bc545b9a8904ec28ca3a6b57830a73d\"></div>\n",
       "<script type=\"text/javascript\">\n",
       "  var VEGA_DEBUG = (typeof VEGA_DEBUG == \"undefined\") ? {} : VEGA_DEBUG;\n",
       "  (function(spec, embedOpt){\n",
       "    let outputDiv = document.currentScript.previousElementSibling;\n",
       "    if (outputDiv.id !== \"altair-viz-7bc545b9a8904ec28ca3a6b57830a73d\") {\n",
       "      outputDiv = document.getElementById(\"altair-viz-7bc545b9a8904ec28ca3a6b57830a73d\");\n",
       "    }\n",
       "    const paths = {\n",
       "      \"vega\": \"https://cdn.jsdelivr.net/npm/vega@5?noext\",\n",
       "      \"vega-lib\": \"https://cdn.jsdelivr.net/npm/vega-lib?noext\",\n",
       "      \"vega-lite\": \"https://cdn.jsdelivr.net/npm/vega-lite@5.16.3?noext\",\n",
       "      \"vega-embed\": \"https://cdn.jsdelivr.net/npm/vega-embed@6?noext\",\n",
       "    };\n",
       "\n",
       "    function maybeLoadScript(lib, version) {\n",
       "      var key = `${lib.replace(\"-\", \"\")}_version`;\n",
       "      return (VEGA_DEBUG[key] == version) ?\n",
       "        Promise.resolve(paths[lib]) :\n",
       "        new Promise(function(resolve, reject) {\n",
       "          var s = document.createElement('script');\n",
       "          document.getElementsByTagName(\"head\")[0].appendChild(s);\n",
       "          s.async = true;\n",
       "          s.onload = () => {\n",
       "            VEGA_DEBUG[key] = version;\n",
       "            return resolve(paths[lib]);\n",
       "          };\n",
       "          s.onerror = () => reject(`Error loading script: ${paths[lib]}`);\n",
       "          s.src = paths[lib];\n",
       "        });\n",
       "    }\n",
       "\n",
       "    function showError(err) {\n",
       "      outputDiv.innerHTML = `<div class=\"error\" style=\"color:red;\">${err}</div>`;\n",
       "      throw err;\n",
       "    }\n",
       "\n",
       "    function displayChart(vegaEmbed) {\n",
       "      vegaEmbed(outputDiv, spec, embedOpt)\n",
       "        .catch(err => showError(`Javascript Error: ${err.message}<br>This usually means there's a typo in your chart specification. See the javascript console for the full traceback.`));\n",
       "    }\n",
       "\n",
       "    if(typeof define === \"function\" && define.amd) {\n",
       "      requirejs.config({paths});\n",
       "      require([\"vega-embed\"], displayChart, err => showError(`Error loading script: ${err.message}`));\n",
       "    } else {\n",
       "      maybeLoadScript(\"vega\", \"5\")\n",
       "        .then(() => maybeLoadScript(\"vega-lite\", \"5.16.3\"))\n",
       "        .then(() => maybeLoadScript(\"vega-embed\", \"6\"))\n",
       "        .catch(showError)\n",
       "        .then(() => displayChart(vegaEmbed));\n",
       "    }\n",
       "  })({\"config\": {\"view\": {\"continuousWidth\": 300, \"continuousHeight\": 300, \"stroke\": null}}, \"layer\": [{\"data\": {\"url\": \"https://cdn.jsdelivr.net/npm/vega-datasets@v1.29.0/data/us-10m.json\", \"format\": {\"feature\": \"states\", \"type\": \"topojson\"}}, \"mark\": {\"type\": \"geoshape\", \"fill\": \"#e9e9e9\", \"stroke\": \"white\"}, \"projection\": {\"type\": \"albersUsa\"}, \"title\": \"Hmart locations\"}, {\"data\": {\"name\": \"data-7bc412dfd7307baf4c24e284721426b8\"}, \"mark\": {\"type\": \"circle\", \"color\": \"#ea1a1e\", \"size\": 10}, \"encoding\": {\"latitude\": {\"field\": \"latitude\", \"type\": \"quantitative\"}, \"longitude\": {\"field\": \"longitude\", \"type\": \"quantitative\"}}}], \"height\": 500, \"width\": 800, \"$schema\": \"https://vega.github.io/schema/vega-lite/v5.16.3.json\", \"datasets\": {\"data-7bc412dfd7307baf4c24e284721426b8\": [{\"store_id\": \"59\", \"store_name\": \"Arcadia\", \"latitude\": \"34.13165100\", \"longitude\": \"-118.06573800\", \"phone\": \"626-241-9300\", \"street\": \"1101 Huntington\", \"city\": \"Arcadia\", \"state\": \"CA\", \"zip\": \"91007\", \"state_name\": \"California\", \"brand\": \"Hmart\", \"type\": \"Feature\", \"geometry\": {\"type\": \"Point\", \"coordinates\": [-118.065738, 34.131651]}}, {\"store_id\": \"66\", \"store_name\": \"Katy\", \"latitude\": \"29.79384000\", \"longitude\": \"-95.77806000\", \"phone\": \"832-234-0340 \", \"street\": \"23119 Colonial\", \"city\": \"Katy\", \"state\": \"TX\", \"zip\": \"77449\", \"state_name\": \"Texas\", \"brand\": \"Hmart\", \"type\": \"Feature\", \"geometry\": {\"type\": \"Point\", \"coordinates\": [-95.77806, 29.79384]}}, {\"store_id\": \"79\", \"store_name\": \"Mesa\", \"latitude\": \"33.41363600\", \"longitude\": \"-111.87249600\", \"phone\": \"480\\u2013207\\u20134560\", \"street\": \"1919 Main\", \"city\": \"Mesa\", \"state\": \"AZ\", \"zip\": \"85201\", \"state_name\": \"Arizona\", \"brand\": \"Hmart\", \"type\": \"Feature\", \"geometry\": {\"type\": \"Point\", \"coordinates\": [-111.872496, 33.413636]}}, {\"store_id\": \"85\", \"store_name\": \"Flushing - Northern 144\", \"latitude\": \"40.76474210\", \"longitude\": \"-73.82054010\", \"phone\": \"718-412-5100\", \"street\": \"144-74 Northern\", \"city\": \"Flushing\", \"state\": \"NY\", \"zip\": \"11354\", \"state_name\": \"New York\", \"brand\": \"Hmart\", \"type\": \"Feature\", \"geometry\": {\"type\": \"Point\", \"coordinates\": [-73.8205401, 40.7647421]}}, {\"store_id\": \"88\", \"store_name\": \"Philadelphia\", \"latitude\": \"40.04500770\", \"longitude\": \"-75.11750370\", \"phone\": \"267-338-1700\", \"street\": \"6201 Front\", \"city\": \"Philadelphia\", \"state\": \"PA\", \"zip\": \"19120\", \"state_name\": \"Pennsylvania\", \"brand\": \"Hmart\", \"type\": \"Feature\", \"geometry\": {\"type\": \"Point\", \"coordinates\": [-75.1175037, 40.0450077]}}, {\"store_id\": \"89\", \"store_name\": \"Little Ferry\", \"latitude\": \"40.85588720\", \"longitude\": \"-74.03350080\", \"phone\": \"201-426-2060\", \"street\": \"260 Bergen\", \"city\": \"Little Ferry\", \"state\": \"NJ\", \"zip\": \"07643\", \"state_name\": \"New Jersey\", \"brand\": \"Hmart\", \"type\": \"Feature\", \"geometry\": {\"type\": \"Point\", \"coordinates\": [-74.0335008, 40.8558872]}}, {\"store_id\": \"97\", \"store_name\": \"San Francisco\", \"latitude\": \"37.71038490\", \"longitude\": \"-122.46762820\", \"phone\": \"650-993-7450\", \"street\": \"3995 Alemany\", \"city\": \"San Francisco\", \"state\": \"CA\", \"zip\": \"94132\", \"state_name\": \"California\", \"brand\": \"Hmart\", \"type\": \"Feature\", \"geometry\": {\"type\": \"Point\", \"coordinates\": [-122.4676282, 37.7103849]}}, {\"store_id\": \"101\", \"store_name\": \"Flushing - Roosevelt\", \"latitude\": \"40.76118000\", \"longitude\": \"-73.82492000\", \"phone\": \"917-563-3270\", \"street\": \"142-41 Roosevelt\", \"city\": \"Flushing\", \"state\": \"NY\", \"zip\": \"11354\", \"state_name\": \"New York\", \"brand\": \"Hmart\", \"type\": \"Feature\", \"geometry\": {\"type\": \"Point\", \"coordinates\": [-73.82492, 40.76118]}}, {\"store_id\": \"104\", \"store_name\": \"Pearl City\", \"latitude\": \"21.39432000\", \"longitude\": \"-157.96887200\", \"phone\": \"(808) 800-3420\", \"street\": \"850 Kamehameha\", \"city\": \"Pearl City\", \"state\": \"HI\", \"zip\": \"96782\", \"state_name\": \"Hawaii\", \"brand\": \"Hmart\", \"type\": \"Feature\", \"geometry\": {\"type\": \"Point\", \"coordinates\": [-157.968872, 21.39432]}}, {\"store_id\": \"107\", \"store_name\": \"Quincy\", \"latitude\": \"42.23806000\", \"longitude\": \"-70.98406000\", \"phone\": \"857-392-5029\", \"street\": \"101 Falls\", \"city\": \"Quincy\", \"state\": \"MA\", \"zip\": \"02169\", \"state_name\": \"Massachusetts\", \"brand\": \"Hmart\", \"type\": \"Feature\", \"geometry\": {\"type\": \"Point\", \"coordinates\": [-70.98406, 42.23806]}}, {\"store_id\": \"110\", \"store_name\": \"Irvine (WestPark)\", \"latitude\": \"33.68328000\", \"longitude\": \"-117.81319000\", \"phone\": \"949 - 265-8585\", \"street\": \"3825 Alton\", \"city\": \"Irvine\", \"state\": \"CA\", \"zip\": \"92606\", \"state_name\": \"California\", \"brand\": \"Hmart\", \"type\": \"Feature\", \"geometry\": {\"type\": \"Point\", \"coordinates\": [-117.81319, 33.68328]}}, {\"store_id\": \"122\", \"store_name\": \"Long Island City \", \"latitude\": \"40.75222000\", \"longitude\": \"-73.91497000\", \"phone\": \"718-489-8580\", \"street\": \"48-18 Northern\", \"city\": \"Queens\", \"state\": \"NY\", \"zip\": \"11101\", \"state_name\": \"New York\", \"brand\": \"Hmart\", \"type\": \"Feature\", \"geometry\": {\"type\": \"Point\", \"coordinates\": [-73.91497, 40.75222]}}, {\"store_id\": \"128\", \"store_name\": \"Irvine (NorthPark)\", \"latitude\": \"33.72317000\", \"longitude\": \"-117.77176000\", \"phone\": \"949-739-7474\", \"street\": \"3931 Irvine\", \"city\": \"\", \"state\": \"CA\", \"zip\": \"92602\", \"state_name\": \"California\", \"brand\": \"Hmart\", \"type\": \"Feature\", \"geometry\": {\"type\": \"Point\", \"coordinates\": [-117.77176, 33.72317]}}, {\"store_id\": \"131\", \"store_name\": \"American Dream\", \"latitude\": \"40.80961000\", \"longitude\": \"-74.06782000\", \"phone\": \"201-559-3888\", \"street\": \"1 American Dream\", \"city\": \"East Rutherford\", \"state\": \"NJ\", \"zip\": \"07073\", \"state_name\": \"New Jersey\", \"brand\": \"Hmart\", \"type\": \"Feature\", \"geometry\": {\"type\": \"Point\", \"coordinates\": [-74.06782, 40.80961]}}, {\"store_id\": \"132\", \"store_name\": \"Brookline\", \"latitude\": \"42.34618610\", \"longitude\": \"-71.10822630\", \"phone\": \"617-991-2949\", \"street\": \"1028 Beacon\", \"city\": \"Brookline\", \"state\": \"MA\", \"zip\": \"02446\", \"state_name\": \"Massachusetts\", \"brand\": \"Hmart\", \"type\": \"Feature\", \"geometry\": {\"type\": \"Point\", \"coordinates\": [-71.1082263, 42.3461861]}}, {\"store_id\": \"135\", \"store_name\": \"Woodside\", \"latitude\": \"40.74528100\", \"longitude\": \"-73.90528100\", \"phone\": \"718-280-9995\", \"street\": \"59-18 Woodside\", \"city\": \"Queens\", \"state\": \"NY\", \"zip\": \"11377\", \"state_name\": \"New York\", \"brand\": \"Hmart\", \"type\": \"Feature\", \"geometry\": {\"type\": \"Point\", \"coordinates\": [-73.905281, 40.745281]}}, {\"store_id\": \"10\", \"store_name\": \"Buena Park\", \"latitude\": \"33.88672900\", \"longitude\": \"-117.99533700\", \"phone\": \"714-249-7070\", \"street\": \"5111 Beach\", \"city\": \"Buena Park\", \"state\": \"CA\", \"zip\": \"90621\", \"state_name\": \"California\", \"brand\": \"Hmart\", \"type\": \"Feature\", \"geometry\": {\"type\": \"Point\", \"coordinates\": [-117.995337, 33.886729]}}, {\"store_id\": \"52\", \"store_name\": \"Lakewood\", \"latitude\": \"33.84707500\", \"longitude\": \"-118.08269600\", \"phone\": \"562-303-9810\", \"street\": \"20137 Pioneer\", \"city\": \"Lakewood\", \"state\": \"CA\", \"zip\": \"90715\", \"state_name\": \"California\", \"brand\": \"Hmart\", \"type\": \"Feature\", \"geometry\": {\"type\": \"Point\", \"coordinates\": [-118.082696, 33.847075]}}, {\"store_id\": \"5\", \"store_name\": \"Diamond Bar\", \"latitude\": \"33.97421400\", \"longitude\": \"-117.83963700\", \"phone\": \"909-839-0300\", \"street\": \"2825 Diamond Bar\", \"city\": \"Diamond Bar\", \"state\": \"CA\", \"zip\": \"91765\", \"state_name\": \"California\", \"brand\": \"Hmart\", \"type\": \"Feature\", \"geometry\": {\"type\": \"Point\", \"coordinates\": [-117.839637, 33.974214]}}, {\"store_id\": \"12\", \"store_name\": \"Garden Grove\", \"latitude\": \"33.77483400\", \"longitude\": \"-117.97643500\", \"phone\": \"714-534-4113\", \"street\": \"8911 Garden Grove\", \"city\": \"Garden Grove\", \"state\": \"CA\", \"zip\": \"92844\", \"state_name\": \"California\", \"brand\": \"Hmart\", \"type\": \"Feature\", \"geometry\": {\"type\": \"Point\", \"coordinates\": [-117.976435, 33.774834]}}, {\"store_id\": \"13\", \"store_name\": \"Irvine\", \"latitude\": \"33.68921400\", \"longitude\": \"-117.83445100\", \"phone\": \"949-833-0111\", \"street\": \"2600 Alton\", \"city\": \"Irvine\", \"state\": \"CA\", \"zip\": \"92606\", \"state_name\": \"California\", \"brand\": \"Hmart\", \"type\": \"Feature\", \"geometry\": {\"type\": \"Point\", \"coordinates\": [-117.834451, 33.689214]}}, {\"store_id\": \"4\", \"store_name\": \"LA Madang\", \"latitude\": \"34.06270100\", \"longitude\": \"-118.30947200\", \"phone\": \"213-235-9560\", \"street\": \"621 Western\", \"city\": \"Los Angeles\", \"state\": \"CA\", \"zip\": \"90005\", \"state_name\": \"California\", \"brand\": \"Hmart\", \"type\": \"Feature\", \"geometry\": {\"type\": \"Point\", \"coordinates\": [-118.309472, 34.062701]}}, {\"store_id\": \"82\", \"store_name\": \"LA City Center\", \"latitude\": \"34.06327500\", \"longitude\": \"-118.29861300\", \"phone\": \"213-235-1917\", \"street\": \"3500 6th\", \"city\": \"Los Angeles\", \"state\": \"CA\", \"zip\": \"90020\", \"state_name\": \"California\", \"brand\": \"Hmart\", \"type\": \"Feature\", \"geometry\": {\"type\": \"Point\", \"coordinates\": [-118.298613, 34.063275]}}, {\"store_id\": \"6\", \"store_name\": \"San Diego\", \"latitude\": \"32.91100500\", \"longitude\": \"-117.14803100\", \"phone\": \"858-577-0060\", \"street\": \"9440 Mira Mesa\", \"city\": \"San Diego\", \"state\": \"CA\", \"zip\": \"92126\", \"state_name\": \"California\", \"brand\": \"Hmart\", \"type\": \"Feature\", \"geometry\": {\"type\": \"Point\", \"coordinates\": [-117.148031, 32.911005]}}, {\"store_id\": \"76\", \"store_name\": \"San Diego Balboa\", \"latitude\": \"32.82190000\", \"longitude\": \"-117.15726900\", \"phone\": \"(858) 836-9230\", \"street\": \"7725 Balboa\", \"city\": \"San Diego\", \"state\": \"CA\", \"zip\": \"92111\", \"state_name\": \"California\", \"brand\": \"Hmart\", \"type\": \"Feature\", \"geometry\": {\"type\": \"Point\", \"coordinates\": [-117.157269, 32.8219]}}, {\"store_id\": \"56\", \"store_name\": \"San Jose - De Anza\", \"latitude\": \"37.30417900\", \"longitude\": \"-122.03365300\", \"phone\": \"408-418-1601\", \"street\": \"1179 De Anza\", \"city\": \"San Jose\", \"state\": \"CA\", \"zip\": \"95129\", \"state_name\": \"California\", \"brand\": \"Hmart\", \"type\": \"Feature\", \"geometry\": {\"type\": \"Point\", \"coordinates\": [-122.033653, 37.304179]}}, {\"store_id\": \"63\", \"store_name\": \"San Jose - Oakland\", \"latitude\": \"37.38375700\", \"longitude\": \"-121.89459700\", \"phone\": \"408-599-5440 \", \"street\": \"1710 Oakland\", \"city\": \"San Jose\", \"state\": \"CA\", \"zip\": \"95131\", \"state_name\": \"California\", \"brand\": \"Hmart\", \"type\": \"Feature\", \"geometry\": {\"type\": \"Point\", \"coordinates\": [-121.894597, 37.383757]}}, {\"store_id\": \"51\", \"store_name\": \"Torrance\", \"latitude\": \"33.80782900\", \"longitude\": \"-118.36053400\", \"phone\": \"310-974-6880\", \"street\": \"4340 PACIFIC\", \"city\": \"COAST HWYTORRANCE\", \"state\": \"CA\", \"zip\": \"90505\", \"state_name\": \"California\", \"brand\": \"Hmart\", \"type\": \"Feature\", \"geometry\": {\"type\": \"Point\", \"coordinates\": [-118.360534, 33.807829]}}, {\"store_id\": \"9\", \"store_name\": \"Doraville\", \"latitude\": \"33.90789700\", \"longitude\": \"-84.28816000\", \"phone\": \"770-986-2300\", \"street\": \"6035 Peachtree\", \"city\": \"Bldg BDoraville\", \"state\": \"GA\", \"zip\": \"30360\", \"state_name\": \"Georgia\", \"brand\": \"Hmart\", \"type\": \"Feature\", \"geometry\": {\"type\": \"Point\", \"coordinates\": [-84.28816, 33.907897]}}, {\"store_id\": \"72\", \"store_name\": \"LA K-Town\", \"latitude\": \"34.05540000\", \"longitude\": \"-118.30839700\", \"phone\": \"213-235-1666\", \"street\": \"928 Western\", \"city\": \"Los Angeles\", \"state\": \"CA\", \"zip\": \"90006\", \"state_name\": \"California\", \"brand\": \"Hmart\", \"type\": \"Feature\", \"geometry\": {\"type\": \"Point\", \"coordinates\": [-118.308397, 34.0554]}}, {\"store_id\": \"14\", \"store_name\": \"Duluth\", \"latitude\": \"33.96993000\", \"longitude\": \"-84.14323000\", \"phone\": \"678-543-4000\", \"street\": \"2550 Pleasant Hill\", \"city\": \"Duluth\", \"state\": \"GA\", \"zip\": \"30096\", \"state_name\": \"Georgia\", \"brand\": \"Hmart\", \"type\": \"Feature\", \"geometry\": {\"type\": \"Point\", \"coordinates\": [-84.14323, 33.96993]}}, {\"store_id\": \"15\", \"store_name\": \"Johns Creek\", \"latitude\": \"34.04534400\", \"longitude\": \"-84.17777600\", \"phone\": \"678-317-0240\", \"street\": \"10820 Abbotts Bridge\", \"city\": \"Johns Creek\", \"state\": \"GA\", \"zip\": \"30097\", \"state_name\": \"Georgia\", \"brand\": \"Hmart\", \"type\": \"Feature\", \"geometry\": {\"type\": \"Point\", \"coordinates\": [-84.177776, 34.045344]}}, {\"store_id\": \"16\", \"store_name\": \"Riverdale\", \"latitude\": \"33.58276200\", \"longitude\": \"-84.41292600\", \"phone\": \"678-435-0909\", \"street\": \"6335 85\", \"city\": \"Riverdale\", \"state\": \"GA\", \"zip\": \"30274\", \"state_name\": \"Georgia\", \"brand\": \"Hmart\", \"type\": \"Feature\", \"geometry\": {\"type\": \"Point\", \"coordinates\": [-84.412926, 33.582762]}}, {\"store_id\": \"17\", \"store_name\": \"Suwanee\", \"latitude\": \"34.02200000\", \"longitude\": \"-84.04486900\", \"phone\": \"770-932-9511\", \"street\": \"2700 Lawrenceville Suwanee\", \"city\": \"Suwanee\", \"state\": \"GA\", \"zip\": \"30024\", \"state_name\": \"Georgia\", \"brand\": \"Hmart\", \"type\": \"Feature\", \"geometry\": {\"type\": \"Point\", \"coordinates\": [-84.044869, 34.022]}}, {\"store_id\": \"60\", \"store_name\": \"Chicago\", \"latitude\": \"41.87760300\", \"longitude\": \"-87.64469600\", \"phone\": \"312-966-4666\", \"street\": \"711 Jackson\", \"city\": \"Chicago\", \"state\": \"IL\", \"zip\": \"60661\", \"state_name\": \"Illinois\", \"brand\": \"Hmart\", \"type\": \"Feature\", \"geometry\": {\"type\": \"Point\", \"coordinates\": [-87.644696, 41.877603]}}, {\"store_id\": \"18\", \"store_name\": \"Glenview\", \"latitude\": \"42.09152200\", \"longitude\": \"-87.87414900\", \"phone\": \"847-510-6222\", \"street\": \"3385 Milwaukee\", \"city\": \"Northbrook\", \"state\": \"IL\", \"zip\": \"60062\", \"state_name\": \"Illinois\", \"brand\": \"Hmart\", \"type\": \"Feature\", \"geometry\": {\"type\": \"Point\", \"coordinates\": [-87.874149, 42.091522]}}, {\"store_id\": \"19\", \"store_name\": \"Niles\", \"latitude\": \"42.02303700\", \"longitude\": \"-87.80133400\", \"phone\": \"847-581-1212\", \"street\": \"801 Civic Center\", \"city\": \"Niles\", \"state\": \"IL\", \"zip\": \"\", \"state_name\": \"Illinois\", \"brand\": \"Hmart\", \"type\": \"Feature\", \"geometry\": {\"type\": \"Point\", \"coordinates\": [-87.801334, 42.023037]}}, {\"store_id\": \"20\", \"store_name\": \"Naperville\", \"latitude\": \"41.79756000\", \"longitude\": \"-88.12254200\", \"phone\": \"630-778-9800\", \"street\": \"1295 Ogden\", \"city\": \"Naperville\", \"state\": \"IL\", \"zip\": \"\", \"state_name\": \"Illinois\", \"brand\": \"Hmart\", \"type\": \"Feature\", \"geometry\": {\"type\": \"Point\", \"coordinates\": [-88.122542, 41.79756]}}, {\"store_id\": \"21\", \"store_name\": \"Schaumburg\", \"latitude\": \"42.05099400\", \"longitude\": \"-88.07771100\", \"phone\": \"847-781-0289\", \"street\": \"34 Golf\", \"city\": \"Schaumburg\", \"state\": \"IL\", \"zip\": \"60173\", \"state_name\": \"Illinois\", \"brand\": \"Hmart\", \"type\": \"Feature\", \"geometry\": {\"type\": \"Point\", \"coordinates\": [-88.077711, 42.050994]}}, {\"store_id\": \"26\", \"store_name\": \"Burlington\", \"latitude\": \"42.47320200\", \"longitude\": \"-71.20861900\", \"phone\": \"781-221-4570\", \"street\": \"3 Old Concord\", \"city\": \"Burlington\", \"state\": \"MA\", \"zip\": \"01803\", \"state_name\": \"Massachusetts\", \"brand\": \"Hmart\", \"type\": \"Feature\", \"geometry\": {\"type\": \"Point\", \"coordinates\": [-71.208619, 42.473202]}}, {\"store_id\": \"27\", \"store_name\": \"Cambridge\", \"latitude\": \"42.36501400\", \"longitude\": \"-71.10266000\", \"phone\": \"857-209-2747\", \"street\": \"581 Massachusetts\", \"city\": \"Cambridge\", \"state\": \"MA\", \"zip\": \"02139\", \"state_name\": \"Massachusetts\", \"brand\": \"Hmart\", \"type\": \"Feature\", \"geometry\": {\"type\": \"Point\", \"coordinates\": [-71.10266, 42.365014]}}, {\"store_id\": \"22\", \"store_name\": \"Catonsville\", \"latitude\": \"39.28243200\", \"longitude\": \"-76.75535000\", \"phone\": \"443-612-9020\", \"street\": \"800 Rolling\", \"city\": \"Catonsville\", \"state\": \"MD\", \"zip\": \"21228\", \"state_name\": \"Maryland\", \"brand\": \"Hmart\", \"type\": \"Feature\", \"geometry\": {\"type\": \"Point\", \"coordinates\": [-76.75535, 39.282432]}}, {\"store_id\": \"23\", \"store_name\": \"Ellicott City\", \"latitude\": \"39.28085300\", \"longitude\": \"-76.81644500\", \"phone\": \"443-574-3456\", \"street\": \"3301 Ridge\", \"city\": \"Ellicott City\", \"state\": \"MD\", \"zip\": \"21043\", \"state_name\": \"Maryland\", \"brand\": \"Hmart\", \"type\": \"Feature\", \"geometry\": {\"type\": \"Point\", \"coordinates\": [-76.816445, 39.280853]}}, {\"store_id\": \"58\", \"store_name\": \"Frederick\", \"latitude\": \"39.41874000\", \"longitude\": \"-77.44659300\", \"phone\": \"240-566-1405\", \"street\": \"1063 Patrick\", \"city\": \"Frederick\", \"state\": \"MD\", \"zip\": \"21702\", \"state_name\": \"Maryland\", \"brand\": \"Hmart\", \"type\": \"Feature\", \"geometry\": {\"type\": \"Point\", \"coordinates\": [-77.446593, 39.41874]}}, {\"store_id\": \"24\", \"store_name\": \"Gaithersburg\", \"latitude\": \"39.15402900\", \"longitude\": \"-77.19808700\", \"phone\": \"301-355-7499\", \"street\": \"9639 Lost Knife\", \"city\": \"Gaithersburg\", \"state\": \"MD\", \"zip\": \"20877\", \"state_name\": \"Maryland\", \"brand\": \"Hmart\", \"type\": \"Feature\", \"geometry\": {\"type\": \"Point\", \"coordinates\": [-77.198087, 39.154029]}}, {\"store_id\": \"25\", \"store_name\": \"Wheaton\", \"latitude\": \"39.05236700\", \"longitude\": \"-77.04958900\", \"phone\": \"301-942-5071\", \"street\": \"12015 Georgia\", \"city\": \"Wheaton\", \"state\": \"MD\", \"zip\": \"20902\", \"state_name\": \"Maryland\", \"brand\": \"Hmart\", \"type\": \"Feature\", \"geometry\": {\"type\": \"Point\", \"coordinates\": [-77.049589, 39.052367]}}, {\"store_id\": \"28\", \"store_name\": \"Troy\", \"latitude\": \"42.56565700\", \"longitude\": \"-83.09021600\", \"phone\": \"248-689-2222\", \"street\": \"2963 Big Beaver\", \"city\": \"Troy\", \"state\": \"MI\", \"zip\": \"\", \"state_name\": \"Michigan\", \"brand\": \"Hmart\", \"type\": \"Feature\", \"geometry\": {\"type\": \"Point\", \"coordinates\": [-83.090216, 42.565657]}}, {\"store_id\": \"55\", \"store_name\": \"Cary\", \"latitude\": \"35.78921600\", \"longitude\": \"-78.84865400\", \"phone\": \"919-535-5900\", \"street\": \"1961 High House\", \"city\": \"Cary\", \"state\": \"NC\", \"zip\": \"27519\", \"state_name\": \"North Carolina\", \"brand\": \"Hmart\", \"type\": \"Feature\", \"geometry\": {\"type\": \"Point\", \"coordinates\": [-78.848654, 35.789216]}}, {\"store_id\": \"62\", \"store_name\": \"Paramus\", \"latitude\": \"40.91578800\", \"longitude\": \"-74.07149100\", \"phone\": \"201-708-2820\", \"street\": \"60 17\", \"city\": \"Paramus\", \"state\": \"NJ\", \"zip\": \"07652\", \"state_name\": \"New Jersey\", \"brand\": \"Hmart\", \"type\": \"Feature\", \"geometry\": {\"type\": \"Point\", \"coordinates\": [-74.071491, 40.915788]}}, {\"store_id\": \"34\", \"store_name\": \"Cherry Hill\", \"latitude\": \"39.90775500\", \"longitude\": \"-74.97696400\", \"phone\": \"856-489-4611\", \"street\": \"1720 70\", \"city\": \"Cherry Hill\", \"state\": \"NJ\", \"zip\": \"08003\", \"state_name\": \"New Jersey\", \"brand\": \"Hmart\", \"type\": \"Feature\", \"geometry\": {\"type\": \"Point\", \"coordinates\": [-74.976964, 39.907755]}}, {\"store_id\": \"35\", \"store_name\": \"Edison\", \"latitude\": \"40.51365700\", \"longitude\": \"-74.40786600\", \"phone\": \"732-339-1530\", \"street\": \"1761 27 (Lincoln\", \"city\": \"Edison\", \"state\": \"NJ\", \"zip\": \"08817\", \"state_name\": \"New Jersey\", \"brand\": \"Hmart\", \"type\": \"Feature\", \"geometry\": {\"type\": \"Point\", \"coordinates\": [-74.407866, 40.513657]}}, {\"store_id\": \"7\", \"store_name\": \"Fort Lee\", \"latitude\": \"40.86108900\", \"longitude\": \"-73.97098400\", \"phone\": \"201-947-7800\", \"street\": \"112 Linwood\", \"city\": \"Fort Lee\", \"state\": \"NJ\", \"zip\": \"07024\", \"state_name\": \"New Jersey\", \"brand\": \"Hmart\", \"type\": \"Feature\", \"geometry\": {\"type\": \"Point\", \"coordinates\": [-73.970984, 40.861089]}}, {\"store_id\": \"36\", \"store_name\": \"Fort Lee - H Mart Fresh\", \"latitude\": \"40.84566800\", \"longitude\": \"-73.97966900\", \"phone\": \"201-944-9009\", \"street\": \"1379 16th\", \"city\": \"St. Fort Lee\", \"state\": \"NJ\", \"zip\": \"07024\", \"state_name\": \"New Jersey\", \"brand\": \"Hmart\", \"type\": \"Feature\", \"geometry\": {\"type\": \"Point\", \"coordinates\": [-73.979669, 40.845668]}}, {\"store_id\": \"37\", \"store_name\": \"Leonia\", \"latitude\": \"40.86144000\", \"longitude\": \"-73.98774600\", \"phone\": \"201-720-7005\", \"street\": \"315 Broad\", \"city\": \"Leonia\", \"state\": \"NJ\", \"zip\": \"07605\", \"state_name\": \"New Jersey\", \"brand\": \"Hmart\", \"type\": \"Feature\", \"geometry\": {\"type\": \"Point\", \"coordinates\": [-73.987746, 40.86144]}}, {\"store_id\": \"3\", \"store_name\": \"Ridgefield\", \"latitude\": \"40.82460500\", \"longitude\": \"-74.01065400\", \"phone\": \"201-943-9600\", \"street\": \"321 Broad\", \"city\": \"Ridgefield\", \"state\": \"NJ\", \"zip\": \"07657\", \"state_name\": \"New Jersey\", \"brand\": \"Hmart\", \"type\": \"Feature\", \"geometry\": {\"type\": \"Point\", \"coordinates\": [-74.010654, 40.824605]}}, {\"store_id\": \"1\", \"store_name\": \"Bayside\", \"latitude\": \"40.75387700\", \"longitude\": \"-73.78105200\", \"phone\": \"718-229-7400\", \"street\": \"46-40 Francis Lewis\", \"city\": \"Bayside\", \"state\": \"NY\", \"zip\": \"11361\", \"state_name\": \"New York\", \"brand\": \"Hmart\", \"type\": \"Feature\", \"geometry\": {\"type\": \"Point\", \"coordinates\": [-73.781052, 40.753877]}}, {\"store_id\": \"2\", \"store_name\": \"Flushing - Goowha\", \"latitude\": \"40.75916600\", \"longitude\": \"-73.82562400\", \"phone\": \"718-961-0999\", \"street\": \"142-06 41st\", \"city\": \"Flushing\", \"state\": \"NY\", \"zip\": \"11355\", \"state_name\": \"New York\", \"brand\": \"Hmart\", \"type\": \"Feature\", \"geometry\": {\"type\": \"Point\", \"coordinates\": [-73.825624, 40.759166]}}, {\"store_id\": \"29\", \"store_name\": \"Flushing - Northern 156\", \"latitude\": \"40.76399600\", \"longitude\": \"-73.80897900\", \"phone\": \"718-888-0005\", \"street\": \"156-40 Northern\", \"city\": \"Flushing\", \"state\": \"NY\", \"zip\": \"11354\", \"state_name\": \"New York\", \"brand\": \"Hmart\", \"type\": \"Feature\", \"geometry\": {\"type\": \"Point\", \"coordinates\": [-73.808979, 40.763996]}}, {\"store_id\": \"30\", \"store_name\": \"Flushing - Union\", \"latitude\": \"40.77196900\", \"longitude\": \"-73.82659500\", \"phone\": \"718-445-5656\", \"street\": \"29-02 Union\", \"city\": \"Flushing\", \"state\": \"NY\", \"zip\": \"11354\", \"state_name\": \"New York\", \"brand\": \"Hmart\", \"type\": \"Feature\", \"geometry\": {\"type\": \"Point\", \"coordinates\": [-73.826595, 40.771969]}}, {\"store_id\": \"31\", \"store_name\": \"Great Neck\", \"latitude\": \"40.77492900\", \"longitude\": \"-73.73270600\", \"phone\": \"516-482-3113\", \"street\": \"495 Great Neck\", \"city\": \"Great Neck\", \"state\": \"NY\", \"zip\": \"11021\", \"state_name\": \"New York\", \"brand\": \"Hmart\", \"type\": \"Feature\", \"geometry\": {\"type\": \"Point\", \"coordinates\": [-73.732706, 40.774929]}}, {\"store_id\": \"32\", \"store_name\": \"Hartsdale\", \"latitude\": \"41.02987100\", \"longitude\": \"-73.79042300\", \"phone\": \"914-448-8888\", \"street\": \"371 Central\", \"city\": \"Hartsdale\", \"state\": \"NY\", \"zip\": \"10530\", \"state_name\": \"New York\", \"brand\": \"Hmart\", \"type\": \"Feature\", \"geometry\": {\"type\": \"Point\", \"coordinates\": [-73.790423, 41.029871]}}, {\"store_id\": \"53\", \"store_name\": \"Jericho\", \"latitude\": \"40.78084400\", \"longitude\": \"-73.53277400\", \"phone\": \"516-513-5050  \", \"street\": \"336 Broadway\", \"city\": \"Jericho\", \"state\": \"NY\", \"zip\": \"11753\", \"state_name\": \"New York\", \"brand\": \"Hmart\", \"type\": \"Feature\", \"geometry\": {\"type\": \"Point\", \"coordinates\": [-73.532774, 40.780844]}}, {\"store_id\": \"33\", \"store_name\": \"Williston Park\", \"latitude\": \"40.75436100\", \"longitude\": \"-73.65633300\", \"phone\": \"516-699-0270\", \"street\": \"400 Hillside\", \"city\": \"Williston Park\", \"state\": \"NY\", \"zip\": \"11596\", \"state_name\": \"New York\", \"brand\": \"Hmart\", \"type\": \"Feature\", \"geometry\": {\"type\": \"Point\", \"coordinates\": [-73.656333, 40.754361]}}, {\"store_id\": \"57\", \"store_name\": \"Yonkers\", \"latitude\": \"40.96159900\", \"longitude\": \"-73.84118400\", \"phone\": \"914-500-6550\", \"street\": \"1789 Central Park\", \"city\": \"Yonkers\", \"state\": \"NY\", \"zip\": \"10710-2839\", \"state_name\": \"New York\", \"brand\": \"Hmart\", \"type\": \"Feature\", \"geometry\": {\"type\": \"Point\", \"coordinates\": [-73.841184, 40.961599]}}, {\"store_id\": \"39\", \"store_name\": \"Elkins Park\", \"latitude\": \"40.06289000\", \"longitude\": \"-75.13695900\", \"phone\": \"215-782-1801\", \"street\": \"7320 Old York\", \"city\": \"Elkins Park\", \"state\": \"PA\", \"zip\": \"19027\", \"state_name\": \"Pennsylvania\", \"brand\": \"Hmart\", \"type\": \"Feature\", \"geometry\": {\"type\": \"Point\", \"coordinates\": [-75.136959, 40.06289]}}, {\"store_id\": \"40\", \"store_name\": \"Levittown\", \"latitude\": \"40.16569300\", \"longitude\": \"-74.87605200\", \"phone\": \"215-949-1003\", \"street\": \"1138 Bristol Oxford Valley\", \"city\": \"Levittown\", \"state\": \"PA\", \"zip\": \"\", \"state_name\": \"Pennsylvania\", \"brand\": \"Hmart\", \"type\": \"Feature\", \"geometry\": {\"type\": \"Point\", \"coordinates\": [-74.876052, 40.165693]}}, {\"store_id\": \"41\", \"store_name\": \"Upper Darby\", \"latitude\": \"39.96127400\", \"longitude\": \"-75.26284900\", \"phone\": \"610-734-1001\", \"street\": \"7050 Terminal\", \"city\": \"Upper Darby\", \"state\": \"PA\", \"zip\": \"19082\", \"state_name\": \"Pennsylvania\", \"brand\": \"Hmart\", \"type\": \"Feature\", \"geometry\": {\"type\": \"Point\", \"coordinates\": [-75.262849, 39.961274]}}, {\"store_id\": \"61\", \"store_name\": \"Austin\", \"latitude\": \"30.47945700\", \"longitude\": \"-97.79913500\", \"phone\": \"737-717-6900\", \"street\": \"11301 Lakeline\", \"city\": \"Austin\", \"state\": \"Tx\", \"zip\": \"78717\", \"state_name\": null, \"brand\": \"Hmart\", \"type\": \"Feature\", \"geometry\": {\"type\": \"Point\", \"coordinates\": [-97.799135, 30.479457]}}, {\"store_id\": \"73\", \"store_name\": \"Kaka\\u2019ako\", \"latitude\": \"21.30002760\", \"longitude\": \"-157.86037840\", \"phone\": \"808-219-0924\", \"street\": \"458 Keawe\", \"city\": \"Honolulu\", \"state\": \"HI\", \"zip\": \"96813\", \"state_name\": \"Hawaii\", \"brand\": \"Hmart\", \"type\": \"Feature\", \"geometry\": {\"type\": \"Point\", \"coordinates\": [-157.8603784, 21.3000276]}}, {\"store_id\": \"42\", \"store_name\": \"Carrollton\", \"latitude\": \"32.98562000\", \"longitude\": \"-96.91151000\", \"phone\": \"972-323-9700\", \"street\": \"2625 Old Denton\", \"city\": \"Carrollton\", \"state\": \"TX\", \"zip\": \"75007\", \"state_name\": \"Texas\", \"brand\": \"Hmart\", \"type\": \"Feature\", \"geometry\": {\"type\": \"Point\", \"coordinates\": [-96.91151, 32.98562]}}, {\"store_id\": \"43\", \"store_name\": \"Houston Blalock\", \"latitude\": \"29.79278300\", \"longitude\": \"-95.52078700\", \"phone\": \"713-468-0606\", \"street\": \"1302 Blalock\", \"city\": \"Houston\", \"state\": \"TX\", \"zip\": \"77055\", \"state_name\": \"Texas\", \"brand\": \"Hmart\", \"type\": \"Feature\", \"geometry\": {\"type\": \"Point\", \"coordinates\": [-95.520787, 29.792783]}}, {\"store_id\": \"44\", \"store_name\": \"Houston Bellaire\", \"latitude\": \"29.70616200\", \"longitude\": \"-95.55407000\", \"phone\": \"713-270-1110\", \"street\": \"9896 Bellaire\", \"city\": \"Houston\", \"state\": \"TX\", \"zip\": \"77036\", \"state_name\": \"Texas\", \"brand\": \"Hmart\", \"type\": \"Feature\", \"geometry\": {\"type\": \"Point\", \"coordinates\": [-95.55407, 29.706162]}}, {\"store_id\": \"45\", \"store_name\": \"Plano\", \"latitude\": \"33.03978300\", \"longitude\": \"-96.69704100\", \"phone\": \"972-881-0300\", \"street\": \"3320 K\", \"city\": \"Plano\", \"state\": \"TX\", \"zip\": \"75074\", \"state_name\": \"Texas\", \"brand\": \"Hmart\", \"type\": \"Feature\", \"geometry\": {\"type\": \"Point\", \"coordinates\": [-96.697041, 33.039783]}}, {\"store_id\": \"46\", \"store_name\": \"Annandale\", \"latitude\": \"38.82614300\", \"longitude\": \"-77.21394300\", \"phone\": \"703-914-4222\", \"street\": \"7885 Heritage\", \"city\": \"Annandale\", \"state\": \"VA\", \"zip\": \"22003\", \"state_name\": \"Virginia\", \"brand\": \"Hmart\", \"type\": \"Feature\", \"geometry\": {\"type\": \"Point\", \"coordinates\": [-77.213943, 38.826143]}}, {\"store_id\": \"54\", \"store_name\": \"Burke\", \"latitude\": \"38.79567100\", \"longitude\": \"-77.27212100\", \"phone\": \"703-621-2345\", \"street\": \"9550 Burke\", \"city\": \"Burke\", \"state\": \"VA\", \"zip\": \"22015\", \"state_name\": \"Virginia\", \"brand\": \"Hmart\", \"type\": \"Feature\", \"geometry\": {\"type\": \"Point\", \"coordinates\": [-77.272121, 38.795671]}}, {\"store_id\": \"47\", \"store_name\": \"Centreville\", \"latitude\": \"38.83772500\", \"longitude\": \"-77.42711800\", \"phone\": \"703-830-6180\", \"street\": \"13818 Braddock\", \"city\": \"Centreville\", \"state\": \"VA\", \"zip\": \"20121\", \"state_name\": \"Virginia\", \"brand\": \"Hmart\", \"type\": \"Feature\", \"geometry\": {\"type\": \"Point\", \"coordinates\": [-77.427118, 38.837725]}}, {\"store_id\": \"48\", \"store_name\": \"Falls Church\", \"latitude\": \"38.87445300\", \"longitude\": \"-77.22497300\", \"phone\": \"703-573-6300\", \"street\": \"8103 Lee\", \"city\": \"HighwayFalls Church\", \"state\": \"VA\", \"zip\": \"22042\", \"state_name\": \"Virginia\", \"brand\": \"Hmart\", \"type\": \"Feature\", \"geometry\": {\"type\": \"Point\", \"coordinates\": [-77.224973, 38.874453]}}, {\"store_id\": \"49\", \"store_name\": \"Fairfax\", \"latitude\": \"38.85270800\", \"longitude\": \"-77.32364400\", \"phone\": \"703-896-4640\", \"street\": \"11200 Fairfax\", \"city\": \"Fairfax\", \"state\": \"VA\", \"zip\": \"22030\", \"state_name\": \"Virginia\", \"brand\": \"Hmart\", \"type\": \"Feature\", \"geometry\": {\"type\": \"Point\", \"coordinates\": [-77.323644, 38.852708]}}, {\"store_id\": \"50\", \"store_name\": \"Manassas\", \"latitude\": \"38.76302200\", \"longitude\": \"-77.45765600\", \"phone\": \"571-358-3400\", \"street\": \"8819 Centreville\", \"city\": \"Manassas\", \"state\": \"VA\", \"zip\": \"20110\", \"state_name\": \"Virginia\", \"brand\": \"Hmart\", \"type\": \"Feature\", \"geometry\": {\"type\": \"Point\", \"coordinates\": [-77.457656, 38.763022]}}, {\"store_id\": \"69\", \"store_name\": \"Herndon\", \"latitude\": \"38.96296100\", \"longitude\": \"-77.40042800\", \"phone\": \"571-346-7330\", \"street\": \"1228 Elden\", \"city\": \"Herndon\", \"state\": \"VA\", \"zip\": \"20170\", \"state_name\": \"Virginia\", \"brand\": \"Hmart\", \"type\": \"Feature\", \"geometry\": {\"type\": \"Point\", \"coordinates\": [-77.400428, 38.962961]}}]}}, {\"mode\": \"vega-lite\"});\n",
       "</script>"
      ],
      "text/plain": [
       "alt.LayerChart(...)"
      ]
     },
     "execution_count": 23,
     "metadata": {},
     "output_type": "execute_result"
    }
   ],
   "source": [
    "points = (\n",
    "    alt.Chart(gdf)\n",
    "    .mark_circle(size=10, color=color)\n",
    "    .encode(\n",
    "        longitude=\"longitude:Q\",\n",
    "        latitude=\"latitude:Q\",\n",
    "    )\n",
    ")\n",
    "\n",
    "point_map = background + points\n",
    "point_map.configure_view(stroke=None)"
   ]
  },
  {
   "cell_type": "markdown",
   "id": "0a1fbe27-c0ed-4536-822f-ff6d64d9a78a",
   "metadata": {},
   "source": [
    "#### Location proportional symbols map"
   ]
  },
  {
   "cell_type": "code",
   "execution_count": 24,
   "id": "6cdad978-98db-4088-9286-662c92824fd5",
   "metadata": {},
   "outputs": [
    {
     "data": {
      "text/html": [
       "\n",
       "<style>\n",
       "  #altair-viz-8458e5cb82164750b8338c13cbefa651.vega-embed {\n",
       "    width: 100%;\n",
       "    display: flex;\n",
       "  }\n",
       "\n",
       "  #altair-viz-8458e5cb82164750b8338c13cbefa651.vega-embed details,\n",
       "  #altair-viz-8458e5cb82164750b8338c13cbefa651.vega-embed details summary {\n",
       "    position: relative;\n",
       "  }\n",
       "</style>\n",
       "<div id=\"altair-viz-8458e5cb82164750b8338c13cbefa651\"></div>\n",
       "<script type=\"text/javascript\">\n",
       "  var VEGA_DEBUG = (typeof VEGA_DEBUG == \"undefined\") ? {} : VEGA_DEBUG;\n",
       "  (function(spec, embedOpt){\n",
       "    let outputDiv = document.currentScript.previousElementSibling;\n",
       "    if (outputDiv.id !== \"altair-viz-8458e5cb82164750b8338c13cbefa651\") {\n",
       "      outputDiv = document.getElementById(\"altair-viz-8458e5cb82164750b8338c13cbefa651\");\n",
       "    }\n",
       "    const paths = {\n",
       "      \"vega\": \"https://cdn.jsdelivr.net/npm/vega@5?noext\",\n",
       "      \"vega-lib\": \"https://cdn.jsdelivr.net/npm/vega-lib?noext\",\n",
       "      \"vega-lite\": \"https://cdn.jsdelivr.net/npm/vega-lite@5.16.3?noext\",\n",
       "      \"vega-embed\": \"https://cdn.jsdelivr.net/npm/vega-embed@6?noext\",\n",
       "    };\n",
       "\n",
       "    function maybeLoadScript(lib, version) {\n",
       "      var key = `${lib.replace(\"-\", \"\")}_version`;\n",
       "      return (VEGA_DEBUG[key] == version) ?\n",
       "        Promise.resolve(paths[lib]) :\n",
       "        new Promise(function(resolve, reject) {\n",
       "          var s = document.createElement('script');\n",
       "          document.getElementsByTagName(\"head\")[0].appendChild(s);\n",
       "          s.async = true;\n",
       "          s.onload = () => {\n",
       "            VEGA_DEBUG[key] = version;\n",
       "            return resolve(paths[lib]);\n",
       "          };\n",
       "          s.onerror = () => reject(`Error loading script: ${paths[lib]}`);\n",
       "          s.src = paths[lib];\n",
       "        });\n",
       "    }\n",
       "\n",
       "    function showError(err) {\n",
       "      outputDiv.innerHTML = `<div class=\"error\" style=\"color:red;\">${err}</div>`;\n",
       "      throw err;\n",
       "    }\n",
       "\n",
       "    function displayChart(vegaEmbed) {\n",
       "      vegaEmbed(outputDiv, spec, embedOpt)\n",
       "        .catch(err => showError(`Javascript Error: ${err.message}<br>This usually means there's a typo in your chart specification. See the javascript console for the full traceback.`));\n",
       "    }\n",
       "\n",
       "    if(typeof define === \"function\" && define.amd) {\n",
       "      requirejs.config({paths});\n",
       "      require([\"vega-embed\"], displayChart, err => showError(`Error loading script: ${err.message}`));\n",
       "    } else {\n",
       "      maybeLoadScript(\"vega\", \"5\")\n",
       "        .then(() => maybeLoadScript(\"vega-lite\", \"5.16.3\"))\n",
       "        .then(() => maybeLoadScript(\"vega-embed\", \"6\"))\n",
       "        .catch(showError)\n",
       "        .then(() => displayChart(vegaEmbed));\n",
       "    }\n",
       "  })({\"config\": {\"view\": {\"continuousWidth\": 300, \"continuousHeight\": 300, \"stroke\": null}}, \"layer\": [{\"data\": {\"url\": \"https://cdn.jsdelivr.net/npm/vega-datasets@v1.29.0/data/us-10m.json\", \"format\": {\"feature\": \"states\", \"type\": \"topojson\"}}, \"mark\": {\"type\": \"geoshape\", \"fill\": \"#e9e9e9\", \"stroke\": \"white\"}, \"projection\": {\"type\": \"albersUsa\"}, \"title\": \"Hmart locations\"}, {\"data\": {\"name\": \"data-7bc412dfd7307baf4c24e284721426b8\"}, \"mark\": {\"type\": \"circle\"}, \"encoding\": {\"color\": {\"value\": \"#ea1a1e\"}, \"latitude\": {\"field\": \"latitude\", \"type\": \"quantitative\"}, \"longitude\": {\"field\": \"longitude\", \"type\": \"quantitative\"}, \"size\": {\"field\": \"count\", \"title\": \"Count by state\", \"type\": \"quantitative\"}, \"tooltip\": [{\"field\": \"state\", \"type\": \"nominal\"}, {\"field\": \"count\", \"type\": \"quantitative\"}]}, \"title\": \"Number of Hmart in US, by average lon/lat of locations\", \"transform\": [{\"aggregate\": [{\"op\": \"mean\", \"field\": \"latitude\", \"as\": \"latitude\"}, {\"op\": \"mean\", \"field\": \"longitude\", \"as\": \"longitude\"}, {\"op\": \"count\", \"as\": \"count\"}], \"groupby\": [\"state\"]}]}], \"height\": 500, \"width\": 800, \"$schema\": \"https://vega.github.io/schema/vega-lite/v5.16.3.json\", \"datasets\": {\"data-7bc412dfd7307baf4c24e284721426b8\": [{\"store_id\": \"59\", \"store_name\": \"Arcadia\", \"latitude\": \"34.13165100\", \"longitude\": \"-118.06573800\", \"phone\": \"626-241-9300\", \"street\": \"1101 Huntington\", \"city\": \"Arcadia\", \"state\": \"CA\", \"zip\": \"91007\", \"state_name\": \"California\", \"brand\": \"Hmart\", \"type\": \"Feature\", \"geometry\": {\"type\": \"Point\", \"coordinates\": [-118.065738, 34.131651]}}, {\"store_id\": \"66\", \"store_name\": \"Katy\", \"latitude\": \"29.79384000\", \"longitude\": \"-95.77806000\", \"phone\": \"832-234-0340 \", \"street\": \"23119 Colonial\", \"city\": \"Katy\", \"state\": \"TX\", \"zip\": \"77449\", \"state_name\": \"Texas\", \"brand\": \"Hmart\", \"type\": \"Feature\", \"geometry\": {\"type\": \"Point\", \"coordinates\": [-95.77806, 29.79384]}}, {\"store_id\": \"79\", \"store_name\": \"Mesa\", \"latitude\": \"33.41363600\", \"longitude\": \"-111.87249600\", \"phone\": \"480\\u2013207\\u20134560\", \"street\": \"1919 Main\", \"city\": \"Mesa\", \"state\": \"AZ\", \"zip\": \"85201\", \"state_name\": \"Arizona\", \"brand\": \"Hmart\", \"type\": \"Feature\", \"geometry\": {\"type\": \"Point\", \"coordinates\": [-111.872496, 33.413636]}}, {\"store_id\": \"85\", \"store_name\": \"Flushing - Northern 144\", \"latitude\": \"40.76474210\", \"longitude\": \"-73.82054010\", \"phone\": \"718-412-5100\", \"street\": \"144-74 Northern\", \"city\": \"Flushing\", \"state\": \"NY\", \"zip\": \"11354\", \"state_name\": \"New York\", \"brand\": \"Hmart\", \"type\": \"Feature\", \"geometry\": {\"type\": \"Point\", \"coordinates\": [-73.8205401, 40.7647421]}}, {\"store_id\": \"88\", \"store_name\": \"Philadelphia\", \"latitude\": \"40.04500770\", \"longitude\": \"-75.11750370\", \"phone\": \"267-338-1700\", \"street\": \"6201 Front\", \"city\": \"Philadelphia\", \"state\": \"PA\", \"zip\": \"19120\", \"state_name\": \"Pennsylvania\", \"brand\": \"Hmart\", \"type\": \"Feature\", \"geometry\": {\"type\": \"Point\", \"coordinates\": [-75.1175037, 40.0450077]}}, {\"store_id\": \"89\", \"store_name\": \"Little Ferry\", \"latitude\": \"40.85588720\", \"longitude\": \"-74.03350080\", \"phone\": \"201-426-2060\", \"street\": \"260 Bergen\", \"city\": \"Little Ferry\", \"state\": \"NJ\", \"zip\": \"07643\", \"state_name\": \"New Jersey\", \"brand\": \"Hmart\", \"type\": \"Feature\", \"geometry\": {\"type\": \"Point\", \"coordinates\": [-74.0335008, 40.8558872]}}, {\"store_id\": \"97\", \"store_name\": \"San Francisco\", \"latitude\": \"37.71038490\", \"longitude\": \"-122.46762820\", \"phone\": \"650-993-7450\", \"street\": \"3995 Alemany\", \"city\": \"San Francisco\", \"state\": \"CA\", \"zip\": \"94132\", \"state_name\": \"California\", \"brand\": \"Hmart\", \"type\": \"Feature\", \"geometry\": {\"type\": \"Point\", \"coordinates\": [-122.4676282, 37.7103849]}}, {\"store_id\": \"101\", \"store_name\": \"Flushing - Roosevelt\", \"latitude\": \"40.76118000\", \"longitude\": \"-73.82492000\", \"phone\": \"917-563-3270\", \"street\": \"142-41 Roosevelt\", \"city\": \"Flushing\", \"state\": \"NY\", \"zip\": \"11354\", \"state_name\": \"New York\", \"brand\": \"Hmart\", \"type\": \"Feature\", \"geometry\": {\"type\": \"Point\", \"coordinates\": [-73.82492, 40.76118]}}, {\"store_id\": \"104\", \"store_name\": \"Pearl City\", \"latitude\": \"21.39432000\", \"longitude\": \"-157.96887200\", \"phone\": \"(808) 800-3420\", \"street\": \"850 Kamehameha\", \"city\": \"Pearl City\", \"state\": \"HI\", \"zip\": \"96782\", \"state_name\": \"Hawaii\", \"brand\": \"Hmart\", \"type\": \"Feature\", \"geometry\": {\"type\": \"Point\", \"coordinates\": [-157.968872, 21.39432]}}, {\"store_id\": \"107\", \"store_name\": \"Quincy\", \"latitude\": \"42.23806000\", \"longitude\": \"-70.98406000\", \"phone\": \"857-392-5029\", \"street\": \"101 Falls\", \"city\": \"Quincy\", \"state\": \"MA\", \"zip\": \"02169\", \"state_name\": \"Massachusetts\", \"brand\": \"Hmart\", \"type\": \"Feature\", \"geometry\": {\"type\": \"Point\", \"coordinates\": [-70.98406, 42.23806]}}, {\"store_id\": \"110\", \"store_name\": \"Irvine (WestPark)\", \"latitude\": \"33.68328000\", \"longitude\": \"-117.81319000\", \"phone\": \"949 - 265-8585\", \"street\": \"3825 Alton\", \"city\": \"Irvine\", \"state\": \"CA\", \"zip\": \"92606\", \"state_name\": \"California\", \"brand\": \"Hmart\", \"type\": \"Feature\", \"geometry\": {\"type\": \"Point\", \"coordinates\": [-117.81319, 33.68328]}}, {\"store_id\": \"122\", \"store_name\": \"Long Island City \", \"latitude\": \"40.75222000\", \"longitude\": \"-73.91497000\", \"phone\": \"718-489-8580\", \"street\": \"48-18 Northern\", \"city\": \"Queens\", \"state\": \"NY\", \"zip\": \"11101\", \"state_name\": \"New York\", \"brand\": \"Hmart\", \"type\": \"Feature\", \"geometry\": {\"type\": \"Point\", \"coordinates\": [-73.91497, 40.75222]}}, {\"store_id\": \"128\", \"store_name\": \"Irvine (NorthPark)\", \"latitude\": \"33.72317000\", \"longitude\": \"-117.77176000\", \"phone\": \"949-739-7474\", \"street\": \"3931 Irvine\", \"city\": \"\", \"state\": \"CA\", \"zip\": \"92602\", \"state_name\": \"California\", \"brand\": \"Hmart\", \"type\": \"Feature\", \"geometry\": {\"type\": \"Point\", \"coordinates\": [-117.77176, 33.72317]}}, {\"store_id\": \"131\", \"store_name\": \"American Dream\", \"latitude\": \"40.80961000\", \"longitude\": \"-74.06782000\", \"phone\": \"201-559-3888\", \"street\": \"1 American Dream\", \"city\": \"East Rutherford\", \"state\": \"NJ\", \"zip\": \"07073\", \"state_name\": \"New Jersey\", \"brand\": \"Hmart\", \"type\": \"Feature\", \"geometry\": {\"type\": \"Point\", \"coordinates\": [-74.06782, 40.80961]}}, {\"store_id\": \"132\", \"store_name\": \"Brookline\", \"latitude\": \"42.34618610\", \"longitude\": \"-71.10822630\", \"phone\": \"617-991-2949\", \"street\": \"1028 Beacon\", \"city\": \"Brookline\", \"state\": \"MA\", \"zip\": \"02446\", \"state_name\": \"Massachusetts\", \"brand\": \"Hmart\", \"type\": \"Feature\", \"geometry\": {\"type\": \"Point\", \"coordinates\": [-71.1082263, 42.3461861]}}, {\"store_id\": \"135\", \"store_name\": \"Woodside\", \"latitude\": \"40.74528100\", \"longitude\": \"-73.90528100\", \"phone\": \"718-280-9995\", \"street\": \"59-18 Woodside\", \"city\": \"Queens\", \"state\": \"NY\", \"zip\": \"11377\", \"state_name\": \"New York\", \"brand\": \"Hmart\", \"type\": \"Feature\", \"geometry\": {\"type\": \"Point\", \"coordinates\": [-73.905281, 40.745281]}}, {\"store_id\": \"10\", \"store_name\": \"Buena Park\", \"latitude\": \"33.88672900\", \"longitude\": \"-117.99533700\", \"phone\": \"714-249-7070\", \"street\": \"5111 Beach\", \"city\": \"Buena Park\", \"state\": \"CA\", \"zip\": \"90621\", \"state_name\": \"California\", \"brand\": \"Hmart\", \"type\": \"Feature\", \"geometry\": {\"type\": \"Point\", \"coordinates\": [-117.995337, 33.886729]}}, {\"store_id\": \"52\", \"store_name\": \"Lakewood\", \"latitude\": \"33.84707500\", \"longitude\": \"-118.08269600\", \"phone\": \"562-303-9810\", \"street\": \"20137 Pioneer\", \"city\": \"Lakewood\", \"state\": \"CA\", \"zip\": \"90715\", \"state_name\": \"California\", \"brand\": \"Hmart\", \"type\": \"Feature\", \"geometry\": {\"type\": \"Point\", \"coordinates\": [-118.082696, 33.847075]}}, {\"store_id\": \"5\", \"store_name\": \"Diamond Bar\", \"latitude\": \"33.97421400\", \"longitude\": \"-117.83963700\", \"phone\": \"909-839-0300\", \"street\": \"2825 Diamond Bar\", \"city\": \"Diamond Bar\", \"state\": \"CA\", \"zip\": \"91765\", \"state_name\": \"California\", \"brand\": \"Hmart\", \"type\": \"Feature\", \"geometry\": {\"type\": \"Point\", \"coordinates\": [-117.839637, 33.974214]}}, {\"store_id\": \"12\", \"store_name\": \"Garden Grove\", \"latitude\": \"33.77483400\", \"longitude\": \"-117.97643500\", \"phone\": \"714-534-4113\", \"street\": \"8911 Garden Grove\", \"city\": \"Garden Grove\", \"state\": \"CA\", \"zip\": \"92844\", \"state_name\": \"California\", \"brand\": \"Hmart\", \"type\": \"Feature\", \"geometry\": {\"type\": \"Point\", \"coordinates\": [-117.976435, 33.774834]}}, {\"store_id\": \"13\", \"store_name\": \"Irvine\", \"latitude\": \"33.68921400\", \"longitude\": \"-117.83445100\", \"phone\": \"949-833-0111\", \"street\": \"2600 Alton\", \"city\": \"Irvine\", \"state\": \"CA\", \"zip\": \"92606\", \"state_name\": \"California\", \"brand\": \"Hmart\", \"type\": \"Feature\", \"geometry\": {\"type\": \"Point\", \"coordinates\": [-117.834451, 33.689214]}}, {\"store_id\": \"4\", \"store_name\": \"LA Madang\", \"latitude\": \"34.06270100\", \"longitude\": \"-118.30947200\", \"phone\": \"213-235-9560\", \"street\": \"621 Western\", \"city\": \"Los Angeles\", \"state\": \"CA\", \"zip\": \"90005\", \"state_name\": \"California\", \"brand\": \"Hmart\", \"type\": \"Feature\", \"geometry\": {\"type\": \"Point\", \"coordinates\": [-118.309472, 34.062701]}}, {\"store_id\": \"82\", \"store_name\": \"LA City Center\", \"latitude\": \"34.06327500\", \"longitude\": \"-118.29861300\", \"phone\": \"213-235-1917\", \"street\": \"3500 6th\", \"city\": \"Los Angeles\", \"state\": \"CA\", \"zip\": \"90020\", \"state_name\": \"California\", \"brand\": \"Hmart\", \"type\": \"Feature\", \"geometry\": {\"type\": \"Point\", \"coordinates\": [-118.298613, 34.063275]}}, {\"store_id\": \"6\", \"store_name\": \"San Diego\", \"latitude\": \"32.91100500\", \"longitude\": \"-117.14803100\", \"phone\": \"858-577-0060\", \"street\": \"9440 Mira Mesa\", \"city\": \"San Diego\", \"state\": \"CA\", \"zip\": \"92126\", \"state_name\": \"California\", \"brand\": \"Hmart\", \"type\": \"Feature\", \"geometry\": {\"type\": \"Point\", \"coordinates\": [-117.148031, 32.911005]}}, {\"store_id\": \"76\", \"store_name\": \"San Diego Balboa\", \"latitude\": \"32.82190000\", \"longitude\": \"-117.15726900\", \"phone\": \"(858) 836-9230\", \"street\": \"7725 Balboa\", \"city\": \"San Diego\", \"state\": \"CA\", \"zip\": \"92111\", \"state_name\": \"California\", \"brand\": \"Hmart\", \"type\": \"Feature\", \"geometry\": {\"type\": \"Point\", \"coordinates\": [-117.157269, 32.8219]}}, {\"store_id\": \"56\", \"store_name\": \"San Jose - De Anza\", \"latitude\": \"37.30417900\", \"longitude\": \"-122.03365300\", \"phone\": \"408-418-1601\", \"street\": \"1179 De Anza\", \"city\": \"San Jose\", \"state\": \"CA\", \"zip\": \"95129\", \"state_name\": \"California\", \"brand\": \"Hmart\", \"type\": \"Feature\", \"geometry\": {\"type\": \"Point\", \"coordinates\": [-122.033653, 37.304179]}}, {\"store_id\": \"63\", \"store_name\": \"San Jose - Oakland\", \"latitude\": \"37.38375700\", \"longitude\": \"-121.89459700\", \"phone\": \"408-599-5440 \", \"street\": \"1710 Oakland\", \"city\": \"San Jose\", \"state\": \"CA\", \"zip\": \"95131\", \"state_name\": \"California\", \"brand\": \"Hmart\", \"type\": \"Feature\", \"geometry\": {\"type\": \"Point\", \"coordinates\": [-121.894597, 37.383757]}}, {\"store_id\": \"51\", \"store_name\": \"Torrance\", \"latitude\": \"33.80782900\", \"longitude\": \"-118.36053400\", \"phone\": \"310-974-6880\", \"street\": \"4340 PACIFIC\", \"city\": \"COAST HWYTORRANCE\", \"state\": \"CA\", \"zip\": \"90505\", \"state_name\": \"California\", \"brand\": \"Hmart\", \"type\": \"Feature\", \"geometry\": {\"type\": \"Point\", \"coordinates\": [-118.360534, 33.807829]}}, {\"store_id\": \"9\", \"store_name\": \"Doraville\", \"latitude\": \"33.90789700\", \"longitude\": \"-84.28816000\", \"phone\": \"770-986-2300\", \"street\": \"6035 Peachtree\", \"city\": \"Bldg BDoraville\", \"state\": \"GA\", \"zip\": \"30360\", \"state_name\": \"Georgia\", \"brand\": \"Hmart\", \"type\": \"Feature\", \"geometry\": {\"type\": \"Point\", \"coordinates\": [-84.28816, 33.907897]}}, {\"store_id\": \"72\", \"store_name\": \"LA K-Town\", \"latitude\": \"34.05540000\", \"longitude\": \"-118.30839700\", \"phone\": \"213-235-1666\", \"street\": \"928 Western\", \"city\": \"Los Angeles\", \"state\": \"CA\", \"zip\": \"90006\", \"state_name\": \"California\", \"brand\": \"Hmart\", \"type\": \"Feature\", \"geometry\": {\"type\": \"Point\", \"coordinates\": [-118.308397, 34.0554]}}, {\"store_id\": \"14\", \"store_name\": \"Duluth\", \"latitude\": \"33.96993000\", \"longitude\": \"-84.14323000\", \"phone\": \"678-543-4000\", \"street\": \"2550 Pleasant Hill\", \"city\": \"Duluth\", \"state\": \"GA\", \"zip\": \"30096\", \"state_name\": \"Georgia\", \"brand\": \"Hmart\", \"type\": \"Feature\", \"geometry\": {\"type\": \"Point\", \"coordinates\": [-84.14323, 33.96993]}}, {\"store_id\": \"15\", \"store_name\": \"Johns Creek\", \"latitude\": \"34.04534400\", \"longitude\": \"-84.17777600\", \"phone\": \"678-317-0240\", \"street\": \"10820 Abbotts Bridge\", \"city\": \"Johns Creek\", \"state\": \"GA\", \"zip\": \"30097\", \"state_name\": \"Georgia\", \"brand\": \"Hmart\", \"type\": \"Feature\", \"geometry\": {\"type\": \"Point\", \"coordinates\": [-84.177776, 34.045344]}}, {\"store_id\": \"16\", \"store_name\": \"Riverdale\", \"latitude\": \"33.58276200\", \"longitude\": \"-84.41292600\", \"phone\": \"678-435-0909\", \"street\": \"6335 85\", \"city\": \"Riverdale\", \"state\": \"GA\", \"zip\": \"30274\", \"state_name\": \"Georgia\", \"brand\": \"Hmart\", \"type\": \"Feature\", \"geometry\": {\"type\": \"Point\", \"coordinates\": [-84.412926, 33.582762]}}, {\"store_id\": \"17\", \"store_name\": \"Suwanee\", \"latitude\": \"34.02200000\", \"longitude\": \"-84.04486900\", \"phone\": \"770-932-9511\", \"street\": \"2700 Lawrenceville Suwanee\", \"city\": \"Suwanee\", \"state\": \"GA\", \"zip\": \"30024\", \"state_name\": \"Georgia\", \"brand\": \"Hmart\", \"type\": \"Feature\", \"geometry\": {\"type\": \"Point\", \"coordinates\": [-84.044869, 34.022]}}, {\"store_id\": \"60\", \"store_name\": \"Chicago\", \"latitude\": \"41.87760300\", \"longitude\": \"-87.64469600\", \"phone\": \"312-966-4666\", \"street\": \"711 Jackson\", \"city\": \"Chicago\", \"state\": \"IL\", \"zip\": \"60661\", \"state_name\": \"Illinois\", \"brand\": \"Hmart\", \"type\": \"Feature\", \"geometry\": {\"type\": \"Point\", \"coordinates\": [-87.644696, 41.877603]}}, {\"store_id\": \"18\", \"store_name\": \"Glenview\", \"latitude\": \"42.09152200\", \"longitude\": \"-87.87414900\", \"phone\": \"847-510-6222\", \"street\": \"3385 Milwaukee\", \"city\": \"Northbrook\", \"state\": \"IL\", \"zip\": \"60062\", \"state_name\": \"Illinois\", \"brand\": \"Hmart\", \"type\": \"Feature\", \"geometry\": {\"type\": \"Point\", \"coordinates\": [-87.874149, 42.091522]}}, {\"store_id\": \"19\", \"store_name\": \"Niles\", \"latitude\": \"42.02303700\", \"longitude\": \"-87.80133400\", \"phone\": \"847-581-1212\", \"street\": \"801 Civic Center\", \"city\": \"Niles\", \"state\": \"IL\", \"zip\": \"\", \"state_name\": \"Illinois\", \"brand\": \"Hmart\", \"type\": \"Feature\", \"geometry\": {\"type\": \"Point\", \"coordinates\": [-87.801334, 42.023037]}}, {\"store_id\": \"20\", \"store_name\": \"Naperville\", \"latitude\": \"41.79756000\", \"longitude\": \"-88.12254200\", \"phone\": \"630-778-9800\", \"street\": \"1295 Ogden\", \"city\": \"Naperville\", \"state\": \"IL\", \"zip\": \"\", \"state_name\": \"Illinois\", \"brand\": \"Hmart\", \"type\": \"Feature\", \"geometry\": {\"type\": \"Point\", \"coordinates\": [-88.122542, 41.79756]}}, {\"store_id\": \"21\", \"store_name\": \"Schaumburg\", \"latitude\": \"42.05099400\", \"longitude\": \"-88.07771100\", \"phone\": \"847-781-0289\", \"street\": \"34 Golf\", \"city\": \"Schaumburg\", \"state\": \"IL\", \"zip\": \"60173\", \"state_name\": \"Illinois\", \"brand\": \"Hmart\", \"type\": \"Feature\", \"geometry\": {\"type\": \"Point\", \"coordinates\": [-88.077711, 42.050994]}}, {\"store_id\": \"26\", \"store_name\": \"Burlington\", \"latitude\": \"42.47320200\", \"longitude\": \"-71.20861900\", \"phone\": \"781-221-4570\", \"street\": \"3 Old Concord\", \"city\": \"Burlington\", \"state\": \"MA\", \"zip\": \"01803\", \"state_name\": \"Massachusetts\", \"brand\": \"Hmart\", \"type\": \"Feature\", \"geometry\": {\"type\": \"Point\", \"coordinates\": [-71.208619, 42.473202]}}, {\"store_id\": \"27\", \"store_name\": \"Cambridge\", \"latitude\": \"42.36501400\", \"longitude\": \"-71.10266000\", \"phone\": \"857-209-2747\", \"street\": \"581 Massachusetts\", \"city\": \"Cambridge\", \"state\": \"MA\", \"zip\": \"02139\", \"state_name\": \"Massachusetts\", \"brand\": \"Hmart\", \"type\": \"Feature\", \"geometry\": {\"type\": \"Point\", \"coordinates\": [-71.10266, 42.365014]}}, {\"store_id\": \"22\", \"store_name\": \"Catonsville\", \"latitude\": \"39.28243200\", \"longitude\": \"-76.75535000\", \"phone\": \"443-612-9020\", \"street\": \"800 Rolling\", \"city\": \"Catonsville\", \"state\": \"MD\", \"zip\": \"21228\", \"state_name\": \"Maryland\", \"brand\": \"Hmart\", \"type\": \"Feature\", \"geometry\": {\"type\": \"Point\", \"coordinates\": [-76.75535, 39.282432]}}, {\"store_id\": \"23\", \"store_name\": \"Ellicott City\", \"latitude\": \"39.28085300\", \"longitude\": \"-76.81644500\", \"phone\": \"443-574-3456\", \"street\": \"3301 Ridge\", \"city\": \"Ellicott City\", \"state\": \"MD\", \"zip\": \"21043\", \"state_name\": \"Maryland\", \"brand\": \"Hmart\", \"type\": \"Feature\", \"geometry\": {\"type\": \"Point\", \"coordinates\": [-76.816445, 39.280853]}}, {\"store_id\": \"58\", \"store_name\": \"Frederick\", \"latitude\": \"39.41874000\", \"longitude\": \"-77.44659300\", \"phone\": \"240-566-1405\", \"street\": \"1063 Patrick\", \"city\": \"Frederick\", \"state\": \"MD\", \"zip\": \"21702\", \"state_name\": \"Maryland\", \"brand\": \"Hmart\", \"type\": \"Feature\", \"geometry\": {\"type\": \"Point\", \"coordinates\": [-77.446593, 39.41874]}}, {\"store_id\": \"24\", \"store_name\": \"Gaithersburg\", \"latitude\": \"39.15402900\", \"longitude\": \"-77.19808700\", \"phone\": \"301-355-7499\", \"street\": \"9639 Lost Knife\", \"city\": \"Gaithersburg\", \"state\": \"MD\", \"zip\": \"20877\", \"state_name\": \"Maryland\", \"brand\": \"Hmart\", \"type\": \"Feature\", \"geometry\": {\"type\": \"Point\", \"coordinates\": [-77.198087, 39.154029]}}, {\"store_id\": \"25\", \"store_name\": \"Wheaton\", \"latitude\": \"39.05236700\", \"longitude\": \"-77.04958900\", \"phone\": \"301-942-5071\", \"street\": \"12015 Georgia\", \"city\": \"Wheaton\", \"state\": \"MD\", \"zip\": \"20902\", \"state_name\": \"Maryland\", \"brand\": \"Hmart\", \"type\": \"Feature\", \"geometry\": {\"type\": \"Point\", \"coordinates\": [-77.049589, 39.052367]}}, {\"store_id\": \"28\", \"store_name\": \"Troy\", \"latitude\": \"42.56565700\", \"longitude\": \"-83.09021600\", \"phone\": \"248-689-2222\", \"street\": \"2963 Big Beaver\", \"city\": \"Troy\", \"state\": \"MI\", \"zip\": \"\", \"state_name\": \"Michigan\", \"brand\": \"Hmart\", \"type\": \"Feature\", \"geometry\": {\"type\": \"Point\", \"coordinates\": [-83.090216, 42.565657]}}, {\"store_id\": \"55\", \"store_name\": \"Cary\", \"latitude\": \"35.78921600\", \"longitude\": \"-78.84865400\", \"phone\": \"919-535-5900\", \"street\": \"1961 High House\", \"city\": \"Cary\", \"state\": \"NC\", \"zip\": \"27519\", \"state_name\": \"North Carolina\", \"brand\": \"Hmart\", \"type\": \"Feature\", \"geometry\": {\"type\": \"Point\", \"coordinates\": [-78.848654, 35.789216]}}, {\"store_id\": \"62\", \"store_name\": \"Paramus\", \"latitude\": \"40.91578800\", \"longitude\": \"-74.07149100\", \"phone\": \"201-708-2820\", \"street\": \"60 17\", \"city\": \"Paramus\", \"state\": \"NJ\", \"zip\": \"07652\", \"state_name\": \"New Jersey\", \"brand\": \"Hmart\", \"type\": \"Feature\", \"geometry\": {\"type\": \"Point\", \"coordinates\": [-74.071491, 40.915788]}}, {\"store_id\": \"34\", \"store_name\": \"Cherry Hill\", \"latitude\": \"39.90775500\", \"longitude\": \"-74.97696400\", \"phone\": \"856-489-4611\", \"street\": \"1720 70\", \"city\": \"Cherry Hill\", \"state\": \"NJ\", \"zip\": \"08003\", \"state_name\": \"New Jersey\", \"brand\": \"Hmart\", \"type\": \"Feature\", \"geometry\": {\"type\": \"Point\", \"coordinates\": [-74.976964, 39.907755]}}, {\"store_id\": \"35\", \"store_name\": \"Edison\", \"latitude\": \"40.51365700\", \"longitude\": \"-74.40786600\", \"phone\": \"732-339-1530\", \"street\": \"1761 27 (Lincoln\", \"city\": \"Edison\", \"state\": \"NJ\", \"zip\": \"08817\", \"state_name\": \"New Jersey\", \"brand\": \"Hmart\", \"type\": \"Feature\", \"geometry\": {\"type\": \"Point\", \"coordinates\": [-74.407866, 40.513657]}}, {\"store_id\": \"7\", \"store_name\": \"Fort Lee\", \"latitude\": \"40.86108900\", \"longitude\": \"-73.97098400\", \"phone\": \"201-947-7800\", \"street\": \"112 Linwood\", \"city\": \"Fort Lee\", \"state\": \"NJ\", \"zip\": \"07024\", \"state_name\": \"New Jersey\", \"brand\": \"Hmart\", \"type\": \"Feature\", \"geometry\": {\"type\": \"Point\", \"coordinates\": [-73.970984, 40.861089]}}, {\"store_id\": \"36\", \"store_name\": \"Fort Lee - H Mart Fresh\", \"latitude\": \"40.84566800\", \"longitude\": \"-73.97966900\", \"phone\": \"201-944-9009\", \"street\": \"1379 16th\", \"city\": \"St. Fort Lee\", \"state\": \"NJ\", \"zip\": \"07024\", \"state_name\": \"New Jersey\", \"brand\": \"Hmart\", \"type\": \"Feature\", \"geometry\": {\"type\": \"Point\", \"coordinates\": [-73.979669, 40.845668]}}, {\"store_id\": \"37\", \"store_name\": \"Leonia\", \"latitude\": \"40.86144000\", \"longitude\": \"-73.98774600\", \"phone\": \"201-720-7005\", \"street\": \"315 Broad\", \"city\": \"Leonia\", \"state\": \"NJ\", \"zip\": \"07605\", \"state_name\": \"New Jersey\", \"brand\": \"Hmart\", \"type\": \"Feature\", \"geometry\": {\"type\": \"Point\", \"coordinates\": [-73.987746, 40.86144]}}, {\"store_id\": \"3\", \"store_name\": \"Ridgefield\", \"latitude\": \"40.82460500\", \"longitude\": \"-74.01065400\", \"phone\": \"201-943-9600\", \"street\": \"321 Broad\", \"city\": \"Ridgefield\", \"state\": \"NJ\", \"zip\": \"07657\", \"state_name\": \"New Jersey\", \"brand\": \"Hmart\", \"type\": \"Feature\", \"geometry\": {\"type\": \"Point\", \"coordinates\": [-74.010654, 40.824605]}}, {\"store_id\": \"1\", \"store_name\": \"Bayside\", \"latitude\": \"40.75387700\", \"longitude\": \"-73.78105200\", \"phone\": \"718-229-7400\", \"street\": \"46-40 Francis Lewis\", \"city\": \"Bayside\", \"state\": \"NY\", \"zip\": \"11361\", \"state_name\": \"New York\", \"brand\": \"Hmart\", \"type\": \"Feature\", \"geometry\": {\"type\": \"Point\", \"coordinates\": [-73.781052, 40.753877]}}, {\"store_id\": \"2\", \"store_name\": \"Flushing - Goowha\", \"latitude\": \"40.75916600\", \"longitude\": \"-73.82562400\", \"phone\": \"718-961-0999\", \"street\": \"142-06 41st\", \"city\": \"Flushing\", \"state\": \"NY\", \"zip\": \"11355\", \"state_name\": \"New York\", \"brand\": \"Hmart\", \"type\": \"Feature\", \"geometry\": {\"type\": \"Point\", \"coordinates\": [-73.825624, 40.759166]}}, {\"store_id\": \"29\", \"store_name\": \"Flushing - Northern 156\", \"latitude\": \"40.76399600\", \"longitude\": \"-73.80897900\", \"phone\": \"718-888-0005\", \"street\": \"156-40 Northern\", \"city\": \"Flushing\", \"state\": \"NY\", \"zip\": \"11354\", \"state_name\": \"New York\", \"brand\": \"Hmart\", \"type\": \"Feature\", \"geometry\": {\"type\": \"Point\", \"coordinates\": [-73.808979, 40.763996]}}, {\"store_id\": \"30\", \"store_name\": \"Flushing - Union\", \"latitude\": \"40.77196900\", \"longitude\": \"-73.82659500\", \"phone\": \"718-445-5656\", \"street\": \"29-02 Union\", \"city\": \"Flushing\", \"state\": \"NY\", \"zip\": \"11354\", \"state_name\": \"New York\", \"brand\": \"Hmart\", \"type\": \"Feature\", \"geometry\": {\"type\": \"Point\", \"coordinates\": [-73.826595, 40.771969]}}, {\"store_id\": \"31\", \"store_name\": \"Great Neck\", \"latitude\": \"40.77492900\", \"longitude\": \"-73.73270600\", \"phone\": \"516-482-3113\", \"street\": \"495 Great Neck\", \"city\": \"Great Neck\", \"state\": \"NY\", \"zip\": \"11021\", \"state_name\": \"New York\", \"brand\": \"Hmart\", \"type\": \"Feature\", \"geometry\": {\"type\": \"Point\", \"coordinates\": [-73.732706, 40.774929]}}, {\"store_id\": \"32\", \"store_name\": \"Hartsdale\", \"latitude\": \"41.02987100\", \"longitude\": \"-73.79042300\", \"phone\": \"914-448-8888\", \"street\": \"371 Central\", \"city\": \"Hartsdale\", \"state\": \"NY\", \"zip\": \"10530\", \"state_name\": \"New York\", \"brand\": \"Hmart\", \"type\": \"Feature\", \"geometry\": {\"type\": \"Point\", \"coordinates\": [-73.790423, 41.029871]}}, {\"store_id\": \"53\", \"store_name\": \"Jericho\", \"latitude\": \"40.78084400\", \"longitude\": \"-73.53277400\", \"phone\": \"516-513-5050  \", \"street\": \"336 Broadway\", \"city\": \"Jericho\", \"state\": \"NY\", \"zip\": \"11753\", \"state_name\": \"New York\", \"brand\": \"Hmart\", \"type\": \"Feature\", \"geometry\": {\"type\": \"Point\", \"coordinates\": [-73.532774, 40.780844]}}, {\"store_id\": \"33\", \"store_name\": \"Williston Park\", \"latitude\": \"40.75436100\", \"longitude\": \"-73.65633300\", \"phone\": \"516-699-0270\", \"street\": \"400 Hillside\", \"city\": \"Williston Park\", \"state\": \"NY\", \"zip\": \"11596\", \"state_name\": \"New York\", \"brand\": \"Hmart\", \"type\": \"Feature\", \"geometry\": {\"type\": \"Point\", \"coordinates\": [-73.656333, 40.754361]}}, {\"store_id\": \"57\", \"store_name\": \"Yonkers\", \"latitude\": \"40.96159900\", \"longitude\": \"-73.84118400\", \"phone\": \"914-500-6550\", \"street\": \"1789 Central Park\", \"city\": \"Yonkers\", \"state\": \"NY\", \"zip\": \"10710-2839\", \"state_name\": \"New York\", \"brand\": \"Hmart\", \"type\": \"Feature\", \"geometry\": {\"type\": \"Point\", \"coordinates\": [-73.841184, 40.961599]}}, {\"store_id\": \"39\", \"store_name\": \"Elkins Park\", \"latitude\": \"40.06289000\", \"longitude\": \"-75.13695900\", \"phone\": \"215-782-1801\", \"street\": \"7320 Old York\", \"city\": \"Elkins Park\", \"state\": \"PA\", \"zip\": \"19027\", \"state_name\": \"Pennsylvania\", \"brand\": \"Hmart\", \"type\": \"Feature\", \"geometry\": {\"type\": \"Point\", \"coordinates\": [-75.136959, 40.06289]}}, {\"store_id\": \"40\", \"store_name\": \"Levittown\", \"latitude\": \"40.16569300\", \"longitude\": \"-74.87605200\", \"phone\": \"215-949-1003\", \"street\": \"1138 Bristol Oxford Valley\", \"city\": \"Levittown\", \"state\": \"PA\", \"zip\": \"\", \"state_name\": \"Pennsylvania\", \"brand\": \"Hmart\", \"type\": \"Feature\", \"geometry\": {\"type\": \"Point\", \"coordinates\": [-74.876052, 40.165693]}}, {\"store_id\": \"41\", \"store_name\": \"Upper Darby\", \"latitude\": \"39.96127400\", \"longitude\": \"-75.26284900\", \"phone\": \"610-734-1001\", \"street\": \"7050 Terminal\", \"city\": \"Upper Darby\", \"state\": \"PA\", \"zip\": \"19082\", \"state_name\": \"Pennsylvania\", \"brand\": \"Hmart\", \"type\": \"Feature\", \"geometry\": {\"type\": \"Point\", \"coordinates\": [-75.262849, 39.961274]}}, {\"store_id\": \"61\", \"store_name\": \"Austin\", \"latitude\": \"30.47945700\", \"longitude\": \"-97.79913500\", \"phone\": \"737-717-6900\", \"street\": \"11301 Lakeline\", \"city\": \"Austin\", \"state\": \"Tx\", \"zip\": \"78717\", \"state_name\": null, \"brand\": \"Hmart\", \"type\": \"Feature\", \"geometry\": {\"type\": \"Point\", \"coordinates\": [-97.799135, 30.479457]}}, {\"store_id\": \"73\", \"store_name\": \"Kaka\\u2019ako\", \"latitude\": \"21.30002760\", \"longitude\": \"-157.86037840\", \"phone\": \"808-219-0924\", \"street\": \"458 Keawe\", \"city\": \"Honolulu\", \"state\": \"HI\", \"zip\": \"96813\", \"state_name\": \"Hawaii\", \"brand\": \"Hmart\", \"type\": \"Feature\", \"geometry\": {\"type\": \"Point\", \"coordinates\": [-157.8603784, 21.3000276]}}, {\"store_id\": \"42\", \"store_name\": \"Carrollton\", \"latitude\": \"32.98562000\", \"longitude\": \"-96.91151000\", \"phone\": \"972-323-9700\", \"street\": \"2625 Old Denton\", \"city\": \"Carrollton\", \"state\": \"TX\", \"zip\": \"75007\", \"state_name\": \"Texas\", \"brand\": \"Hmart\", \"type\": \"Feature\", \"geometry\": {\"type\": \"Point\", \"coordinates\": [-96.91151, 32.98562]}}, {\"store_id\": \"43\", \"store_name\": \"Houston Blalock\", \"latitude\": \"29.79278300\", \"longitude\": \"-95.52078700\", \"phone\": \"713-468-0606\", \"street\": \"1302 Blalock\", \"city\": \"Houston\", \"state\": \"TX\", \"zip\": \"77055\", \"state_name\": \"Texas\", \"brand\": \"Hmart\", \"type\": \"Feature\", \"geometry\": {\"type\": \"Point\", \"coordinates\": [-95.520787, 29.792783]}}, {\"store_id\": \"44\", \"store_name\": \"Houston Bellaire\", \"latitude\": \"29.70616200\", \"longitude\": \"-95.55407000\", \"phone\": \"713-270-1110\", \"street\": \"9896 Bellaire\", \"city\": \"Houston\", \"state\": \"TX\", \"zip\": \"77036\", \"state_name\": \"Texas\", \"brand\": \"Hmart\", \"type\": \"Feature\", \"geometry\": {\"type\": \"Point\", \"coordinates\": [-95.55407, 29.706162]}}, {\"store_id\": \"45\", \"store_name\": \"Plano\", \"latitude\": \"33.03978300\", \"longitude\": \"-96.69704100\", \"phone\": \"972-881-0300\", \"street\": \"3320 K\", \"city\": \"Plano\", \"state\": \"TX\", \"zip\": \"75074\", \"state_name\": \"Texas\", \"brand\": \"Hmart\", \"type\": \"Feature\", \"geometry\": {\"type\": \"Point\", \"coordinates\": [-96.697041, 33.039783]}}, {\"store_id\": \"46\", \"store_name\": \"Annandale\", \"latitude\": \"38.82614300\", \"longitude\": \"-77.21394300\", \"phone\": \"703-914-4222\", \"street\": \"7885 Heritage\", \"city\": \"Annandale\", \"state\": \"VA\", \"zip\": \"22003\", \"state_name\": \"Virginia\", \"brand\": \"Hmart\", \"type\": \"Feature\", \"geometry\": {\"type\": \"Point\", \"coordinates\": [-77.213943, 38.826143]}}, {\"store_id\": \"54\", \"store_name\": \"Burke\", \"latitude\": \"38.79567100\", \"longitude\": \"-77.27212100\", \"phone\": \"703-621-2345\", \"street\": \"9550 Burke\", \"city\": \"Burke\", \"state\": \"VA\", \"zip\": \"22015\", \"state_name\": \"Virginia\", \"brand\": \"Hmart\", \"type\": \"Feature\", \"geometry\": {\"type\": \"Point\", \"coordinates\": [-77.272121, 38.795671]}}, {\"store_id\": \"47\", \"store_name\": \"Centreville\", \"latitude\": \"38.83772500\", \"longitude\": \"-77.42711800\", \"phone\": \"703-830-6180\", \"street\": \"13818 Braddock\", \"city\": \"Centreville\", \"state\": \"VA\", \"zip\": \"20121\", \"state_name\": \"Virginia\", \"brand\": \"Hmart\", \"type\": \"Feature\", \"geometry\": {\"type\": \"Point\", \"coordinates\": [-77.427118, 38.837725]}}, {\"store_id\": \"48\", \"store_name\": \"Falls Church\", \"latitude\": \"38.87445300\", \"longitude\": \"-77.22497300\", \"phone\": \"703-573-6300\", \"street\": \"8103 Lee\", \"city\": \"HighwayFalls Church\", \"state\": \"VA\", \"zip\": \"22042\", \"state_name\": \"Virginia\", \"brand\": \"Hmart\", \"type\": \"Feature\", \"geometry\": {\"type\": \"Point\", \"coordinates\": [-77.224973, 38.874453]}}, {\"store_id\": \"49\", \"store_name\": \"Fairfax\", \"latitude\": \"38.85270800\", \"longitude\": \"-77.32364400\", \"phone\": \"703-896-4640\", \"street\": \"11200 Fairfax\", \"city\": \"Fairfax\", \"state\": \"VA\", \"zip\": \"22030\", \"state_name\": \"Virginia\", \"brand\": \"Hmart\", \"type\": \"Feature\", \"geometry\": {\"type\": \"Point\", \"coordinates\": [-77.323644, 38.852708]}}, {\"store_id\": \"50\", \"store_name\": \"Manassas\", \"latitude\": \"38.76302200\", \"longitude\": \"-77.45765600\", \"phone\": \"571-358-3400\", \"street\": \"8819 Centreville\", \"city\": \"Manassas\", \"state\": \"VA\", \"zip\": \"20110\", \"state_name\": \"Virginia\", \"brand\": \"Hmart\", \"type\": \"Feature\", \"geometry\": {\"type\": \"Point\", \"coordinates\": [-77.457656, 38.763022]}}, {\"store_id\": \"69\", \"store_name\": \"Herndon\", \"latitude\": \"38.96296100\", \"longitude\": \"-77.40042800\", \"phone\": \"571-346-7330\", \"street\": \"1228 Elden\", \"city\": \"Herndon\", \"state\": \"VA\", \"zip\": \"20170\", \"state_name\": \"Virginia\", \"brand\": \"Hmart\", \"type\": \"Feature\", \"geometry\": {\"type\": \"Point\", \"coordinates\": [-77.400428, 38.962961]}}]}}, {\"mode\": \"vega-lite\"});\n",
       "</script>"
      ],
      "text/plain": [
       "alt.LayerChart(...)"
      ]
     },
     "execution_count": 24,
     "metadata": {},
     "output_type": "execute_result"
    }
   ],
   "source": [
    "symbols = (\n",
    "    alt.Chart(gdf)\n",
    "    .transform_aggregate(\n",
    "        latitude=\"mean(latitude)\",\n",
    "        longitude=\"mean(longitude)\",\n",
    "        count=\"count()\",\n",
    "        groupby=[\"state\"],\n",
    "    )\n",
    "    .mark_circle()\n",
    "    .encode(\n",
    "        longitude=\"longitude:Q\",\n",
    "        latitude=\"latitude:Q\",\n",
    "        size=alt.Size(\"count:Q\", title=\"Count by state\"),\n",
    "        color=alt.value(color),\n",
    "        tooltip=[\"state:N\", \"count:Q\"],\n",
    "    )\n",
    "    .properties(\n",
    "        title=f\"Number of {place_formal} in US, by average lon/lat of locations\"\n",
    "    )\n",
    ")\n",
    "\n",
    "symbol_map = background + symbols\n",
    "symbol_map.configure_view(stroke=None)"
   ]
  },
  {
   "cell_type": "markdown",
   "id": "15b9c879-2480-49f4-99e7-6adc1a4c10aa",
   "metadata": {},
   "source": [
    "---"
   ]
  },
  {
   "cell_type": "markdown",
   "id": "41af18db-4aeb-4259-a7c1-b52471eb8693",
   "metadata": {},
   "source": [
    "## Exports"
   ]
  },
  {
   "cell_type": "markdown",
   "id": "e3831fb4-1062-4cab-9730-933ff07e01f0",
   "metadata": {},
   "source": [
    "#### JSON"
   ]
  },
  {
   "cell_type": "code",
   "execution_count": 25,
   "id": "e1e78a42-ba8a-49aa-a699-58e33fa204d0",
   "metadata": {},
   "outputs": [],
   "source": [
    "df.to_json(\n",
    "    f\"data/processed/{place.lower().replace(' ', '_')}_locations.json\",\n",
    "    indent=4,\n",
    "    orient=\"records\",\n",
    ")"
   ]
  },
  {
   "cell_type": "markdown",
   "id": "d737f808-9d71-4f25-8cd1-3fcedc45ab63",
   "metadata": {},
   "source": [
    "#### CSV"
   ]
  },
  {
   "cell_type": "code",
   "execution_count": 26,
   "id": "0504831b-4df4-4ff2-bd26-f08ef7ca9198",
   "metadata": {},
   "outputs": [],
   "source": [
    "df.to_csv(\n",
    "    f\"data/processed/{place.lower().replace(' ', '_')}_locations.csv\", index=False\n",
    ")"
   ]
  },
  {
   "cell_type": "markdown",
   "id": "eb8769bc-1de1-40d0-9b7b-4892893606ee",
   "metadata": {},
   "source": [
    "#### GeoJSON"
   ]
  },
  {
   "cell_type": "code",
   "execution_count": 27,
   "id": "3aaff910-d7a8-4b73-acdf-6b49e09bbe2f",
   "metadata": {},
   "outputs": [],
   "source": [
    "gdf.to_file(\n",
    "    f\"data/processed/{place.lower().replace(' ', '_')}_locations.geojson\",\n",
    "    driver=\"GeoJSON\",\n",
    ")"
   ]
  }
 ],
 "metadata": {
  "kernelspec": {
   "display_name": "Python 3 (ipykernel)",
   "language": "python",
   "name": "python3"
  },
  "language_info": {
   "codemirror_mode": {
    "name": "ipython",
    "version": 3
   },
   "file_extension": ".py",
   "mimetype": "text/x-python",
   "name": "python",
   "nbconvert_exporter": "python",
   "pygments_lexer": "ipython3",
   "version": "3.9.15"
  }
 },
 "nbformat": 4,
 "nbformat_minor": 5
}
