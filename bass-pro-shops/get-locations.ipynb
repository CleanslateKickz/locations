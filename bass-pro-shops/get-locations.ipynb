{
 "cells": [
  {
   "cell_type": "markdown",
   "id": "0fdd4e16-e062-4146-9c40-05a340ecc972",
   "metadata": {},
   "source": [
    "# Get Bass Pro Shops locations"
   ]
  },
  {
   "cell_type": "markdown",
   "id": "2cd6a4cf-3892-4cc9-97de-84f87dc86d7d",
   "metadata": {},
   "source": [
    "#### Load Python tools and Jupyter config"
   ]
  },
  {
   "cell_type": "code",
   "execution_count": 1,
   "id": "c3b1c77c-b670-495b-aca3-e14b06448d51",
   "metadata": {},
   "outputs": [],
   "source": [
    "import us \n",
    "import json\n",
    "import requests\n",
    "import pandas as pd\n",
    "import jupyter_black\n",
    "import altair as alt\n",
    "import geopandas as gpd\n",
    "from bs4 import BeautifulSoup\n",
    "from vega_datasets import data\n",
    "from tqdm.notebook import tqdm, trange"
   ]
  },
  {
   "cell_type": "code",
   "execution_count": 2,
   "id": "3ef9eefb-2887-4a07-995d-eb12d1dd251d",
   "metadata": {},
   "outputs": [
    {
     "data": {
      "text/html": [
       "\n",
       "                <script type=\"application/javascript\" id=\"jupyter_black\">\n",
       "                (function() {\n",
       "                    if (window.IPython === undefined) {\n",
       "                        return\n",
       "                    }\n",
       "                    var msg = \"WARNING: it looks like you might have loaded \" +\n",
       "                        \"jupyter_black in a non-lab notebook with \" +\n",
       "                        \"`is_lab=True`. Please double check, and if \" +\n",
       "                        \"loading with `%load_ext` please review the README!\"\n",
       "                    console.log(msg)\n",
       "                    alert(msg)\n",
       "                })()\n",
       "                </script>\n",
       "                "
      ],
      "text/plain": [
       "<IPython.core.display.HTML object>"
      ]
     },
     "metadata": {},
     "output_type": "display_data"
    }
   ],
   "source": [
    "jupyter_black.load()\n",
    "pd.options.display.max_columns = 100\n",
    "pd.options.display.max_rows = 1000\n",
    "pd.options.display.max_colwidth = None"
   ]
  },
  {
   "cell_type": "code",
   "execution_count": 3,
   "id": "ac5ec9e2-d2b4-48ea-ad76-2d0b3049c7a0",
   "metadata": {},
   "outputs": [],
   "source": [
    "place = \"bass-pro-shops\"\n",
    "place_formal = \"Bass Pro Shops/Cabela's\"\n",
    "bass_color = \"#1F8500\"\n",
    "cabelas_color = \"#0058a0\""
   ]
  },
  {
   "cell_type": "markdown",
   "id": "3bbfd20b-7936-4f21-a091-697fca808ab1",
   "metadata": {},
   "source": [
    "## Scrape"
   ]
  },
  {
   "cell_type": "markdown",
   "id": "70c799af-d3be-4577-96fa-ba056f433607",
   "metadata": {},
   "source": [
    "#### Headers for requests"
   ]
  },
  {
   "cell_type": "code",
   "execution_count": 4,
   "id": "bd4d1c20-0ab5-4456-81b7-661e440e8c20",
   "metadata": {},
   "outputs": [],
   "source": [
    "headers = {\n",
    "    \"user-agent\": \"Mozilla/5.0 (Macintosh; Intel Mac OS X 10_15_7) AppleWebKit/537.36 (KHTML, like Gecko) Chrome/120.0.0.0 Safari/537.36\",\n",
    "}"
   ]
  },
  {
   "cell_type": "markdown",
   "id": "b3cdfb85-c70c-4ad3-b9eb-058555626e63",
   "metadata": {},
   "source": [
    "#### Get inline script with location content and read it as json"
   ]
  },
  {
   "cell_type": "code",
   "execution_count": 5,
   "id": "57ce5ad1-b3ef-460f-bdda-6a40ba71e59a",
   "metadata": {},
   "outputs": [],
   "source": [
    "response = requests.get(\"https://stores.basspro.com\", headers=headers)\n",
    "soup = BeautifulSoup(response.text, \"html.parser\")"
   ]
  },
  {
   "cell_type": "code",
   "execution_count": 6,
   "id": "d30069e2-8673-48da-81e3-7081ab96acaa",
   "metadata": {},
   "outputs": [],
   "source": [
    "json_data = json.loads(soup.find(\"script\", class_=\"js-map-config\").string)"
   ]
  },
  {
   "cell_type": "markdown",
   "id": "5ac39ee0-42bc-4ab5-9de8-45c1b8f12af4",
   "metadata": {},
   "source": [
    "#### Read the json (and just stores in the US) as a dataframe."
   ]
  },
  {
   "cell_type": "code",
   "execution_count": 7,
   "id": "981aa3c2-b7f9-4a66-94de-aacbcf9b1dc4",
   "metadata": {},
   "outputs": [],
   "source": [
    "src = (\n",
    "    pd.DataFrame(json_data[\"locs\"])[\n",
    "        [\n",
    "            \"id\",\n",
    "            \"altTagText\",\n",
    "            \"latitude\",\n",
    "            \"longitude\",\n",
    "            \"website\",\n",
    "        ]\n",
    "    ]\n",
    "    .query('website.str.contains(\".com\")')\n",
    "    .rename(columns={\"altTagText\": \"street\", \"id\": \"store_id\"})\n",
    ").reset_index(drop=True)"
   ]
  },
  {
   "cell_type": "markdown",
   "id": "99735a44-bba4-4ac0-93a4-9fb62a4ba73f",
   "metadata": {},
   "source": [
    "#### Hmmmn. The addresses are *fine* but I'd rather not parse them"
   ]
  },
  {
   "cell_type": "code",
   "execution_count": 8,
   "id": "1384b329-88cf-4d87-a9e8-2f5af0b0bee7",
   "metadata": {},
   "outputs": [
    {
     "data": {
      "text/plain": [
       "store_id                                                               3011546\n",
       "street                             Location at 1000 Bass Pro Dr NW Altoona, IA\n",
       "latitude                                                             41.659134\n",
       "longitude                                                           -93.514686\n",
       "website      https://stores.basspro.com/us/ia/altoona/1000-bass-pro-dr-nw.html\n",
       "Name: 10, dtype: object"
      ]
     },
     "execution_count": 8,
     "metadata": {},
     "output_type": "execute_result"
    }
   ],
   "source": [
    "src.iloc[10]"
   ]
  },
  {
   "cell_type": "markdown",
   "id": "f3002e01-b476-4287-9a68-c6b7a6d8e9de",
   "metadata": {},
   "source": [
    "#### Get better features from each location page"
   ]
  },
  {
   "cell_type": "code",
   "execution_count": 9,
   "id": "3417c58a-cd65-460d-b5e0-49007c214350",
   "metadata": {},
   "outputs": [
    {
     "data": {
      "application/vnd.jupyter.widget-view+json": {
       "model_id": "1a6c94db353f4267a6d37dea8e35d4c3",
       "version_major": 2,
       "version_minor": 0
      },
      "text/plain": [
       "  0%|          | 0/155 [00:00<?, ?it/s]"
      ]
     },
     "metadata": {},
     "output_type": "display_data"
    }
   ],
   "source": [
    "locations_list = []\n",
    "\n",
    "for page in tqdm(src[\"website\"].to_list()):\n",
    "    page_response = requests.get(page)\n",
    "    page_soup = BeautifulSoup(page_response.text, \"html.parser\")\n",
    "\n",
    "    latitude = page_soup.find(\"meta\", itemprop=\"latitude\")[\"content\"]\n",
    "    longitude = page_soup.find(\"meta\", itemprop=\"longitude\")[\"content\"]\n",
    "    street = page_soup.find(\"span\", class_=\"c-address-street-1\").text.strip()\n",
    "    city = page_soup.find(\"span\", class_=\"c-address-city\").text.strip().replace(\",\", \"\")\n",
    "    state = page_soup.find(\"abbr\", class_=\"c-address-state\").text.strip()\n",
    "    zip = page_soup.find(\"span\", class_=\"c-address-postal-code\").text.strip()\n",
    "    phone = page_soup.find(\"a\", class_=\"c-phone-number-link\").text.strip()\n",
    "\n",
    "    locations_dict = {\n",
    "        \"latitude\": latitude,\n",
    "        \"longitude\": longitude,\n",
    "        \"street\": street,\n",
    "        \"city\": city,\n",
    "        \"state\": state,\n",
    "        \"zip\": zip,\n",
    "        \"phone\": phone,\n",
    "    }\n",
    "\n",
    "    locations_list.append(locations_dict)"
   ]
  },
  {
   "cell_type": "markdown",
   "id": "ae681412-3b3e-4f03-83d7-9f2f5669c82b",
   "metadata": {},
   "source": [
    "#### Read list of dictionaries as a dataframe"
   ]
  },
  {
   "cell_type": "code",
   "execution_count": 10,
   "id": "1f954cf7-af71-4862-ba29-9a703ee851e1",
   "metadata": {},
   "outputs": [],
   "source": [
    "locations_src = pd.DataFrame(locations_list)"
   ]
  },
  {
   "cell_type": "markdown",
   "id": "58b8fd30-f387-4a3b-ae40-632c10505e39",
   "metadata": {},
   "source": [
    "#### The result? "
   ]
  },
  {
   "cell_type": "code",
   "execution_count": 11,
   "id": "2f9871de-69ec-4960-8351-e101ff75a8e1",
   "metadata": {},
   "outputs": [
    {
     "data": {
      "text/html": [
       "<div>\n",
       "<style scoped>\n",
       "    .dataframe tbody tr th:only-of-type {\n",
       "        vertical-align: middle;\n",
       "    }\n",
       "\n",
       "    .dataframe tbody tr th {\n",
       "        vertical-align: top;\n",
       "    }\n",
       "\n",
       "    .dataframe thead th {\n",
       "        text-align: right;\n",
       "    }\n",
       "</style>\n",
       "<table border=\"1\" class=\"dataframe\">\n",
       "  <thead>\n",
       "    <tr style=\"text-align: right;\">\n",
       "      <th></th>\n",
       "      <th>latitude</th>\n",
       "      <th>longitude</th>\n",
       "      <th>street</th>\n",
       "      <th>city</th>\n",
       "      <th>state</th>\n",
       "      <th>zip</th>\n",
       "      <th>phone</th>\n",
       "    </tr>\n",
       "  </thead>\n",
       "  <tbody>\n",
       "    <tr>\n",
       "      <th>0</th>\n",
       "      <td>37.1793826</td>\n",
       "      <td>-93.2971804</td>\n",
       "      <td>1 Bass Pro Dr</td>\n",
       "      <td>Springfield</td>\n",
       "      <td>MO</td>\n",
       "      <td>65807</td>\n",
       "      <td>(417) 887-7334</td>\n",
       "    </tr>\n",
       "    <tr>\n",
       "      <th>1</th>\n",
       "      <td>36.6414441</td>\n",
       "      <td>-93.2135224</td>\n",
       "      <td>1 Bass Pro Dr</td>\n",
       "      <td>Branson</td>\n",
       "      <td>MO</td>\n",
       "      <td>65616</td>\n",
       "      <td>(417) 243-5200</td>\n",
       "    </tr>\n",
       "    <tr>\n",
       "      <th>2</th>\n",
       "      <td>42.0847195</td>\n",
       "      <td>-71.2727308</td>\n",
       "      <td>1 Bass Pro Dr</td>\n",
       "      <td>Foxborough</td>\n",
       "      <td>MA</td>\n",
       "      <td>02035</td>\n",
       "      <td>(508) 216-2000</td>\n",
       "    </tr>\n",
       "    <tr>\n",
       "      <th>3</th>\n",
       "      <td>34.658703</td>\n",
       "      <td>-92.4092138</td>\n",
       "      <td>1 Bass Pro Dr</td>\n",
       "      <td>Little Rock</td>\n",
       "      <td>AR</td>\n",
       "      <td>72210</td>\n",
       "      <td>(501) 954-4500</td>\n",
       "    </tr>\n",
       "    <tr>\n",
       "      <th>4</th>\n",
       "      <td>41.1775335</td>\n",
       "      <td>-73.1781721</td>\n",
       "      <td>1 Bass Pro Dr</td>\n",
       "      <td>Bridgeport</td>\n",
       "      <td>CT</td>\n",
       "      <td>06608</td>\n",
       "      <td>(203) 362-4200</td>\n",
       "    </tr>\n",
       "  </tbody>\n",
       "</table>\n",
       "</div>"
      ],
      "text/plain": [
       "     latitude    longitude         street         city state    zip  \\\n",
       "0  37.1793826  -93.2971804  1 Bass Pro Dr  Springfield    MO  65807   \n",
       "1  36.6414441  -93.2135224  1 Bass Pro Dr      Branson    MO  65616   \n",
       "2  42.0847195  -71.2727308  1 Bass Pro Dr   Foxborough    MA  02035   \n",
       "3   34.658703  -92.4092138  1 Bass Pro Dr  Little Rock    AR  72210   \n",
       "4  41.1775335  -73.1781721  1 Bass Pro Dr   Bridgeport    CT  06608   \n",
       "\n",
       "            phone  \n",
       "0  (417) 887-7334  \n",
       "1  (417) 243-5200  \n",
       "2  (508) 216-2000  \n",
       "3  (501) 954-4500  \n",
       "4  (203) 362-4200  "
      ]
     },
     "execution_count": 11,
     "metadata": {},
     "output_type": "execute_result"
    }
   ],
   "source": [
    "locations_src.head()"
   ]
  },
  {
   "cell_type": "markdown",
   "id": "764b3f05-f0de-44bc-931b-94ff1ed3942e",
   "metadata": {},
   "source": [
    "#### How many locations?"
   ]
  },
  {
   "cell_type": "code",
   "execution_count": 12,
   "id": "5d54a606-6c0b-4aca-865c-f3aa3a1b8814",
   "metadata": {},
   "outputs": [
    {
     "data": {
      "text/plain": [
       "155"
      ]
     },
     "execution_count": 12,
     "metadata": {},
     "output_type": "execute_result"
    }
   ],
   "source": [
    "len(locations_src)"
   ]
  },
  {
   "cell_type": "code",
   "execution_count": 13,
   "id": "a49a3080-13f5-49d8-9cf3-6c14e55bf3a6",
   "metadata": {},
   "outputs": [
    {
     "data": {
      "text/plain": [
       "latitude              41.6591344\n",
       "longitude            -93.5146862\n",
       "street       1000 Bass Pro Dr NW\n",
       "city                     Altoona\n",
       "state                         IA\n",
       "zip                        50009\n",
       "phone             (515) 957-5500\n",
       "Name: 10, dtype: object"
      ]
     },
     "execution_count": 13,
     "metadata": {},
     "output_type": "execute_result"
    }
   ],
   "source": [
    "locations_src.iloc[10]"
   ]
  },
  {
   "cell_type": "markdown",
   "id": "48a0268e-8192-4454-8b3a-36ca44009443",
   "metadata": {},
   "source": [
    "#### Merge store IDs, websites with clean addresses on the shared index"
   ]
  },
  {
   "cell_type": "code",
   "execution_count": 14,
   "id": "0af28f5a-a377-4d36-81cb-e9c210fa1d62",
   "metadata": {},
   "outputs": [],
   "source": [
    "df = pd.merge(\n",
    "    locations_src, src[[\"store_id\", \"website\"]], left_index=True, right_index=True\n",
    ")[\n",
    "    [\n",
    "        \"store_id\",\n",
    "        \"street\",\n",
    "        \"city\",\n",
    "        \"state\",\n",
    "        \"zip\",\n",
    "        \"phone\",\n",
    "        \"latitude\",\n",
    "        \"longitude\",\n",
    "        \"website\",\n",
    "    ]\n",
    "].copy()"
   ]
  },
  {
   "cell_type": "markdown",
   "id": "f8c8d857-f618-4539-b8b3-20843b76031f",
   "metadata": {},
   "source": [
    "#### Add brands using strings in URLs"
   ]
  },
  {
   "cell_type": "code",
   "execution_count": 15,
   "id": "9094bf06-e0a9-4e60-bd40-ce6de06527af",
   "metadata": {},
   "outputs": [],
   "source": [
    "df.loc[df[\"website\"].str.contains(\"bass\"), \"brand\"] = \"Bass Pro Shops\"\n",
    "df.loc[df[\"website\"].str.contains(\"cabelas\"), \"brand\"] = \"Cabela's\"\n",
    "df.loc[df[\"brand\"] == \"Bass Pro Shops\", \"color\"] = bass_color\n",
    "df.loc[df[\"brand\"] == \"Cabela's\", \"color\"] = cabelas_color"
   ]
  },
  {
   "cell_type": "markdown",
   "id": "41f6bb01-e54a-46ff-8a8a-cdeebb9422a3",
   "metadata": {},
   "source": [
    "#### How many of each brand?"
   ]
  },
  {
   "cell_type": "code",
   "execution_count": 16,
   "id": "6345adfa-d2bd-45e5-82d7-ee737d978e84",
   "metadata": {},
   "outputs": [
    {
     "data": {
      "text/plain": [
       "brand\n",
       "Bass Pro Shops    90\n",
       "Cabela's          65\n",
       "Name: count, dtype: int64"
      ]
     },
     "execution_count": 16,
     "metadata": {},
     "output_type": "execute_result"
    }
   ],
   "source": [
    "df.brand.value_counts()"
   ]
  },
  {
   "cell_type": "markdown",
   "id": "1b0134b9-0b53-41ae-a498-891b729ac265",
   "metadata": {},
   "source": [
    "#### Create a mapping of state abbreviations to full state names using the us library"
   ]
  },
  {
   "cell_type": "code",
   "execution_count": 17,
   "id": "18485bc1-ac20-4715-b117-2ffc36a4de10",
   "metadata": {},
   "outputs": [],
   "source": [
    "state_mapping = {state.abbr: state.name for state in us.states.STATES}"
   ]
  },
  {
   "cell_type": "markdown",
   "id": "02a07567-2cda-40d0-a1db-9f51fdb03a67",
   "metadata": {},
   "source": [
    "#### New column of full state names based on abbreviations"
   ]
  },
  {
   "cell_type": "code",
   "execution_count": 18,
   "id": "5d7c356a-a44b-4b86-aaf9-4db2a05cb3e9",
   "metadata": {},
   "outputs": [],
   "source": [
    "df[\"state_name\"] = df[\"state\"].map(state_mapping)"
   ]
  },
  {
   "cell_type": "markdown",
   "id": "e836582d-ef21-4876-bfc3-f8298a077b3c",
   "metadata": {},
   "source": [
    "---"
   ]
  },
  {
   "cell_type": "markdown",
   "id": "e9398ab6-73bc-421d-ab31-2e0b625fe541",
   "metadata": {},
   "source": [
    "## Geography"
   ]
  },
  {
   "cell_type": "markdown",
   "id": "2aa8f487-ab80-4d32-84df-651304cd9523",
   "metadata": {},
   "source": [
    "#### Make it a geodataframe"
   ]
  },
  {
   "cell_type": "code",
   "execution_count": 19,
   "id": "920e5fe7-a6fd-4a10-97f0-c1dd0b7bef72",
   "metadata": {},
   "outputs": [],
   "source": [
    "df_geo = df.copy()"
   ]
  },
  {
   "cell_type": "code",
   "execution_count": 20,
   "id": "4072e19f-2567-427d-82d5-2c8a925278da",
   "metadata": {},
   "outputs": [],
   "source": [
    "gdf = gpd.GeoDataFrame(\n",
    "    df_geo, geometry=gpd.points_from_xy(df_geo.longitude, df_geo.latitude)\n",
    ")"
   ]
  },
  {
   "cell_type": "markdown",
   "id": "67db45d5-afdf-4347-a2a0-da8aa3728779",
   "metadata": {},
   "source": [
    "---"
   ]
  },
  {
   "cell_type": "markdown",
   "id": "b3c311f9-dd29-4524-8932-67858cd3cec0",
   "metadata": {},
   "source": [
    "## Maps"
   ]
  },
  {
   "cell_type": "markdown",
   "id": "93b0579e-620d-4a08-afd8-ad489be0557e",
   "metadata": {},
   "source": [
    "#### US states background"
   ]
  },
  {
   "cell_type": "code",
   "execution_count": 21,
   "id": "95c369d7-8a64-4f49-a05f-79c444cf4e28",
   "metadata": {},
   "outputs": [],
   "source": [
    "background = (\n",
    "    alt.Chart(alt.topo_feature(data.us_10m.url, feature=\"states\"))\n",
    "    .mark_geoshape(fill=\"#e9e9e9\", stroke=\"white\")\n",
    "    .properties(width=800, height=500, title=f\"{place_formal} locations\")\n",
    "    .project(\"albersUsa\")\n",
    ")"
   ]
  },
  {
   "cell_type": "markdown",
   "id": "a914fc11-a8c6-49d1-96d2-8b5f83b01cc7",
   "metadata": {},
   "source": [
    "#### Location points map"
   ]
  },
  {
   "cell_type": "code",
   "execution_count": 22,
   "id": "07fc10b2-4a58-4b4e-9ffe-901593b1d42a",
   "metadata": {},
   "outputs": [],
   "source": [
    "points = (\n",
    "    alt.Chart(gdf)\n",
    "    .mark_circle(size=60)\n",
    "    .encode(\n",
    "        longitude=\"longitude:Q\",\n",
    "        latitude=\"latitude:Q\",\n",
    "        color=alt.Color(\"brand:N\", legend=alt.Legend(title=\"Brand\", orient=\"top\")),\n",
    "    )\n",
    ")\n",
    "\n",
    "point_map = background + points\n",
    "point_map = point_map.configure_view(stroke=None).configure_legend(\n",
    "    orient=\"top\", direction=\"horizontal\", titleAnchor=\"start\"\n",
    ")"
   ]
  },
  {
   "cell_type": "code",
   "execution_count": 23,
   "id": "9b293221-ac16-4895-b9c0-2ae360187027",
   "metadata": {},
   "outputs": [
    {
     "data": {
      "text/html": [
       "\n",
       "<style>\n",
       "  #altair-viz-91945248f9ea409a94be69d69cc2a0da.vega-embed {\n",
       "    width: 100%;\n",
       "    display: flex;\n",
       "  }\n",
       "\n",
       "  #altair-viz-91945248f9ea409a94be69d69cc2a0da.vega-embed details,\n",
       "  #altair-viz-91945248f9ea409a94be69d69cc2a0da.vega-embed details summary {\n",
       "    position: relative;\n",
       "  }\n",
       "</style>\n",
       "<div id=\"altair-viz-91945248f9ea409a94be69d69cc2a0da\"></div>\n",
       "<script type=\"text/javascript\">\n",
       "  var VEGA_DEBUG = (typeof VEGA_DEBUG == \"undefined\") ? {} : VEGA_DEBUG;\n",
       "  (function(spec, embedOpt){\n",
       "    let outputDiv = document.currentScript.previousElementSibling;\n",
       "    if (outputDiv.id !== \"altair-viz-91945248f9ea409a94be69d69cc2a0da\") {\n",
       "      outputDiv = document.getElementById(\"altair-viz-91945248f9ea409a94be69d69cc2a0da\");\n",
       "    }\n",
       "    const paths = {\n",
       "      \"vega\": \"https://cdn.jsdelivr.net/npm/vega@5?noext\",\n",
       "      \"vega-lib\": \"https://cdn.jsdelivr.net/npm/vega-lib?noext\",\n",
       "      \"vega-lite\": \"https://cdn.jsdelivr.net/npm/vega-lite@5.16.3?noext\",\n",
       "      \"vega-embed\": \"https://cdn.jsdelivr.net/npm/vega-embed@6?noext\",\n",
       "    };\n",
       "\n",
       "    function maybeLoadScript(lib, version) {\n",
       "      var key = `${lib.replace(\"-\", \"\")}_version`;\n",
       "      return (VEGA_DEBUG[key] == version) ?\n",
       "        Promise.resolve(paths[lib]) :\n",
       "        new Promise(function(resolve, reject) {\n",
       "          var s = document.createElement('script');\n",
       "          document.getElementsByTagName(\"head\")[0].appendChild(s);\n",
       "          s.async = true;\n",
       "          s.onload = () => {\n",
       "            VEGA_DEBUG[key] = version;\n",
       "            return resolve(paths[lib]);\n",
       "          };\n",
       "          s.onerror = () => reject(`Error loading script: ${paths[lib]}`);\n",
       "          s.src = paths[lib];\n",
       "        });\n",
       "    }\n",
       "\n",
       "    function showError(err) {\n",
       "      outputDiv.innerHTML = `<div class=\"error\" style=\"color:red;\">${err}</div>`;\n",
       "      throw err;\n",
       "    }\n",
       "\n",
       "    function displayChart(vegaEmbed) {\n",
       "      vegaEmbed(outputDiv, spec, embedOpt)\n",
       "        .catch(err => showError(`Javascript Error: ${err.message}<br>This usually means there's a typo in your chart specification. See the javascript console for the full traceback.`));\n",
       "    }\n",
       "\n",
       "    if(typeof define === \"function\" && define.amd) {\n",
       "      requirejs.config({paths});\n",
       "      require([\"vega-embed\"], displayChart, err => showError(`Error loading script: ${err.message}`));\n",
       "    } else {\n",
       "      maybeLoadScript(\"vega\", \"5\")\n",
       "        .then(() => maybeLoadScript(\"vega-lite\", \"5.16.3\"))\n",
       "        .then(() => maybeLoadScript(\"vega-embed\", \"6\"))\n",
       "        .catch(showError)\n",
       "        .then(() => displayChart(vegaEmbed));\n",
       "    }\n",
       "  })({\"config\": {\"view\": {\"continuousWidth\": 300, \"continuousHeight\": 300, \"stroke\": null}, \"legend\": {\"direction\": \"horizontal\", \"orient\": \"top\", \"titleAnchor\": \"start\"}}, \"layer\": [{\"data\": {\"url\": \"https://cdn.jsdelivr.net/npm/vega-datasets@v1.29.0/data/us-10m.json\", \"format\": {\"feature\": \"states\", \"type\": \"topojson\"}}, \"mark\": {\"type\": \"geoshape\", \"fill\": \"#e9e9e9\", \"stroke\": \"white\"}, \"projection\": {\"type\": \"albersUsa\"}, \"title\": \"Bass Pro Shops/Cabela's locations\"}, {\"data\": {\"name\": \"data-1385db5b33a7675384c47d8d5bea8d48\"}, \"mark\": {\"type\": \"circle\", \"size\": 60}, \"encoding\": {\"color\": {\"field\": \"brand\", \"legend\": {\"orient\": \"top\", \"title\": \"Brand\"}, \"type\": \"nominal\"}, \"latitude\": {\"field\": \"latitude\", \"type\": \"quantitative\"}, \"longitude\": {\"field\": \"longitude\", \"type\": \"quantitative\"}}}], \"height\": 500, \"width\": 800, \"$schema\": \"https://vega.github.io/schema/vega-lite/v5.16.3.json\", \"datasets\": {\"data-1385db5b33a7675384c47d8d5bea8d48\": [{\"store_id\": 3011506, \"street\": \"1 Bass Pro Dr\", \"city\": \"Springfield\", \"state\": \"MO\", \"zip\": \"65807\", \"phone\": \"(417) 887-7334\", \"latitude\": \"37.1793826\", \"longitude\": \"-93.2971804\", \"website\": \"https://stores.basspro.com/us/mo/springfield/1935-s-campbell-ave.html\", \"brand\": \"Bass Pro Shops\", \"color\": \"#1F8500\", \"state_name\": \"Missouri\", \"type\": \"Feature\", \"geometry\": {\"type\": \"Point\", \"coordinates\": [-93.2971804, 37.1793826]}}, {\"store_id\": 3011523, \"street\": \"1 Bass Pro Dr\", \"city\": \"Branson\", \"state\": \"MO\", \"zip\": \"65616\", \"phone\": \"(417) 243-5200\", \"latitude\": \"36.6414441\", \"longitude\": \"-93.2135224\", \"website\": \"https://stores.basspro.com/us/mo/branson/1-bass-pro-dr.html\", \"brand\": \"Bass Pro Shops\", \"color\": \"#1F8500\", \"state_name\": \"Missouri\", \"type\": \"Feature\", \"geometry\": {\"type\": \"Point\", \"coordinates\": [-93.2135224, 36.6414441]}}, {\"store_id\": 3011540, \"street\": \"1 Bass Pro Dr\", \"city\": \"Foxborough\", \"state\": \"MA\", \"zip\": \"02035\", \"phone\": \"(508) 216-2000\", \"latitude\": \"42.0847195\", \"longitude\": \"-71.2727308\", \"website\": \"https://stores.basspro.com/us/ma/foxborough/1-bass-pro-dr.html\", \"brand\": \"Bass Pro Shops\", \"color\": \"#1F8500\", \"state_name\": \"Massachusetts\", \"type\": \"Feature\", \"geometry\": {\"type\": \"Point\", \"coordinates\": [-71.2727308, 42.0847195]}}, {\"store_id\": 3011551, \"street\": \"1 Bass Pro Dr\", \"city\": \"Little Rock\", \"state\": \"AR\", \"zip\": \"72210\", \"phone\": \"(501) 954-4500\", \"latitude\": \"34.658703\", \"longitude\": \"-92.4092138\", \"website\": \"https://stores.basspro.com/us/ar/little-rock/1-bass-pro-dr.html\", \"brand\": \"Bass Pro Shops\", \"color\": \"#1F8500\", \"state_name\": \"Arkansas\", \"type\": \"Feature\", \"geometry\": {\"type\": \"Point\", \"coordinates\": [-92.4092138, 34.658703]}}, {\"store_id\": 3011552, \"street\": \"1 Bass Pro Dr\", \"city\": \"Bridgeport\", \"state\": \"CT\", \"zip\": \"06608\", \"phone\": \"(203) 362-4200\", \"latitude\": \"41.1775335\", \"longitude\": \"-73.1781721\", \"website\": \"https://stores.basspro.com/us/ct/bridgeport/1-bass-pro-dr.html\", \"brand\": \"Bass Pro Shops\", \"color\": \"#1F8500\", \"state_name\": \"Connecticut\", \"type\": \"Feature\", \"geometry\": {\"type\": \"Point\", \"coordinates\": [-73.1781721, 41.1775335]}}, {\"store_id\": 3011553, \"street\": \"1 Bass Pro Dr\", \"city\": \"Bristol\", \"state\": \"TN\", \"zip\": \"37620\", \"phone\": \"(423) 990-5200\", \"latitude\": \"36.594381\", \"longitude\": \"-82.251313\", \"website\": \"https://stores.basspro.com/us/tn/bristol/1-bass-pro-dr.html\", \"brand\": \"Bass Pro Shops\", \"color\": \"#1F8500\", \"state_name\": \"Tennessee\", \"type\": \"Feature\", \"geometry\": {\"type\": \"Point\", \"coordinates\": [-82.251313, 36.594381]}}, {\"store_id\": 3011496, \"street\": \"100 Bass Pro Dr\", \"city\": \"Bossier City\", \"state\": \"LA\", \"zip\": \"71111\", \"phone\": \"(318) 549-8800\", \"latitude\": \"32.5204147\", \"longitude\": \"-93.7421831\", \"website\": \"https://stores.basspro.com/us/la/bossier-city/100-bass-pro-dr.html\", \"brand\": \"Bass Pro Shops\", \"color\": \"#1F8500\", \"state_name\": \"Louisiana\", \"type\": \"Feature\", \"geometry\": {\"type\": \"Point\", \"coordinates\": [-93.7421831, 32.5204147]}}, {\"store_id\": 3011530, \"street\": \"100 Bass Pro Dr\", \"city\": \"Pearl\", \"state\": \"MS\", \"zip\": \"39208\", \"phone\": \"(601) 933-3700\", \"latitude\": \"32.2713586\", \"longitude\": \"-90.1504612\", \"website\": \"https://stores.basspro.com/us/ms/pearl/100-bass-pro-dr.html\", \"brand\": \"Bass Pro Shops\", \"color\": \"#1F8500\", \"state_name\": \"Mississippi\", \"type\": \"Feature\", \"geometry\": {\"type\": \"Point\", \"coordinates\": [-90.1504612, 32.2713586]}}, {\"store_id\": 3011534, \"street\": \"1000 Bass Pro Dr\", \"city\": \"Pearland\", \"state\": \"TX\", \"zip\": \"77047\", \"phone\": \"(713) 770-5100\", \"latitude\": \"29.5951842\", \"longitude\": \"-95.3899479\", \"website\": \"https://stores.basspro.com/us/tx/pearland/1000-bass-pro-dr.html\", \"brand\": \"Bass Pro Shops\", \"color\": \"#1F8500\", \"state_name\": \"Texas\", \"type\": \"Feature\", \"geometry\": {\"type\": \"Point\", \"coordinates\": [-95.3899479, 29.5951842]}}, {\"store_id\": 3258086, \"street\": \"1000 Bass Pro Dr\", \"city\": \"Chattanooga\", \"state\": \"TN\", \"zip\": \"37412\", \"phone\": \"(423) 242-4000\", \"latitude\": \"34.9928568\", \"longitude\": \"-85.2026117\", \"website\": \"https://stores.basspro.com/us/tn/chattanooga/1000-bass-pro-dr.html\", \"brand\": \"Bass Pro Shops\", \"color\": \"#1F8500\", \"state_name\": \"Tennessee\", \"type\": \"Feature\", \"geometry\": {\"type\": \"Point\", \"coordinates\": [-85.2026117, 34.9928568]}}, {\"store_id\": 3011546, \"street\": \"1000 Bass Pro Dr NW\", \"city\": \"Altoona\", \"state\": \"IA\", \"zip\": \"50009\", \"phone\": \"(515) 957-5500\", \"latitude\": \"41.6591344\", \"longitude\": \"-93.5146862\", \"website\": \"https://stores.basspro.com/us/ia/altoona/1000-bass-pro-dr-nw.html\", \"brand\": \"Bass Pro Shops\", \"color\": \"#1F8500\", \"state_name\": \"Iowa\", \"type\": \"Feature\", \"geometry\": {\"type\": \"Point\", \"coordinates\": [-93.5146862, 41.6591344]}}, {\"store_id\": 3011549, \"street\": \"1000 Bass Pro Shops Dr\", \"city\": \"East Peoria\", \"state\": \"IL\", \"zip\": \"61611\", \"phone\": \"(309) 427-3400\", \"latitude\": \"40.68482\", \"longitude\": \"-89.578898\", \"website\": \"https://stores.basspro.com/us/il/east-peoria/1000-bass-pro-shops-dr.html\", \"brand\": \"Bass Pro Shops\", \"color\": \"#1F8500\", \"state_name\": \"Illinois\", \"type\": \"Feature\", \"geometry\": {\"type\": \"Point\", \"coordinates\": [-89.578898, 40.68482]}}, {\"store_id\": 3011544, \"street\": \"10000 Bass Pro Blvd\", \"city\": \"Rossford\", \"state\": \"OH\", \"zip\": \"43460\", \"phone\": \"(419) 891-3900\", \"latitude\": \"41.5600429\", \"longitude\": \"-83.5886696\", \"website\": \"https://stores.basspro.com/us/oh/rossford/10000-bass-pro-blvd.html\", \"brand\": \"Bass Pro Shops\", \"color\": \"#1F8500\", \"state_name\": \"Ohio\", \"type\": \"Feature\", \"geometry\": {\"type\": \"Point\", \"coordinates\": [-83.5886696, 41.5600429]}}, {\"store_id\": 3011520, \"street\": \"10040 Gulf Center Dr\", \"city\": \"Ft. Myers\", \"state\": \"FL\", \"zip\": \"33913\", \"phone\": \"(239) 461-7800\", \"latitude\": \"26.4879239\", \"longitude\": \"-81.7917618\", \"website\": \"https://stores.basspro.com/us/fl/ft--myers/10040-gulf-center-dr.html\", \"brand\": \"Bass Pro Shops\", \"color\": \"#1F8500\", \"state_name\": \"Florida\", \"type\": \"Feature\", \"geometry\": {\"type\": \"Point\", \"coordinates\": [-81.7917618, 26.4879239]}}, {\"store_id\": 3011524, \"street\": \"101 Bass Pro Dr\", \"city\": \"Broken Arrow\", \"state\": \"OK\", \"zip\": \"74012\", \"phone\": \"(918) 355-7600\", \"latitude\": \"36.070547835622826\", \"longitude\": \"-95.7923349738121\", \"website\": \"https://stores.basspro.com/us/ok/broken-arrow/101-bass-pro-dr.html\", \"brand\": \"Bass Pro Shops\", \"color\": \"#1F8500\", \"state_name\": \"Oklahoma\", \"type\": \"Feature\", \"geometry\": {\"type\": \"Point\", \"coordinates\": [-95.7923349738121, 36.070547835622826]}}, {\"store_id\": 3011548, \"street\": \"101 Bass Pro Dr\", \"city\": \"Harlingen\", \"state\": \"TX\", \"zip\": \"78552\", \"phone\": \"(956) 291-5200\", \"latitude\": \"26.1920171\", \"longitude\": \"-97.7219406\", \"website\": \"https://stores.basspro.com/us/tx/harlingen/101-bass-pro-dr.html\", \"brand\": \"Bass Pro Shops\", \"color\": \"#1F8500\", \"state_name\": \"Texas\", \"type\": \"Feature\", \"geometry\": {\"type\": \"Point\", \"coordinates\": [-97.7219406, 26.1920171]}}, {\"store_id\": 3011501, \"street\": \"10177 North Kings Hwy\", \"city\": \"Myrtle Beach\", \"state\": \"SC\", \"zip\": \"29572\", \"phone\": \"(843) 361-4800\", \"latitude\": \"33.7915977\", \"longitude\": \"-78.768585\", \"website\": \"https://stores.basspro.com/us/sc/myrtle-beach/10177-north-kings-hwy.html\", \"brand\": \"Bass Pro Shops\", \"color\": \"#1F8500\", \"state_name\": \"South Carolina\", \"type\": \"Feature\", \"geometry\": {\"type\": \"Point\", \"coordinates\": [-78.768585, 33.7915977]}}, {\"store_id\": 3986751, \"street\": \"1025 Woodruff Road\", \"city\": \"Greenville\", \"state\": \"SC\", \"zip\": \"29607\", \"phone\": \"(864) 516-8100\", \"latitude\": \"34.8347559\", \"longitude\": \"-82.3066267\", \"website\": \"https://stores.basspro.com/us/sc/greenville/1025-woodruff-road.html\", \"brand\": \"Bass Pro Shops\", \"color\": \"#1F8500\", \"state_name\": \"South Carolina\", \"type\": \"Feature\", \"geometry\": {\"type\": \"Point\", \"coordinates\": [-82.3066267, 34.8347559]}}, {\"store_id\": 3986711, \"street\": \"10300 Cabela Drive\", \"city\": \"Kansas City\", \"state\": \"KS\", \"zip\": \"66111\", \"phone\": \"(913) 328-0322\", \"latitude\": \"39.1211055\", \"longitude\": \"-94.8153725\", \"website\": \"https://stores.basspro.com/us/ks/kansas-city/10300-cabela-drive.html\", \"brand\": \"Bass Pro Shops\", \"color\": \"#1F8500\", \"state_name\": \"Kansas\", \"type\": \"Feature\", \"geometry\": {\"type\": \"Point\", \"coordinates\": [-94.8153725, 39.1211055]}}, {\"store_id\": 3011556, \"street\": \"10501 Palm River Rd\", \"city\": \"Tampa\", \"state\": \"FL\", \"zip\": \"33619\", \"phone\": \"(813) 655-2400\", \"latitude\": \"27.9344175\", \"longitude\": \"-82.3337424\", \"website\": \"https://stores.basspro.com/us/fl/tampa/10501-palm-river-rd.html\", \"brand\": \"Bass Pro Shops\", \"color\": \"#1F8500\", \"state_name\": \"Florida\", \"type\": \"Feature\", \"geometry\": {\"type\": \"Point\", \"coordinates\": [-82.3337424, 27.9344175]}}, {\"store_id\": 3011539, \"street\": \"1133 North Dobson\", \"city\": \"Mesa\", \"state\": \"AZ\", \"zip\": \"85201\", \"phone\": \"(602) 606-5600\", \"latitude\": \"33.4365468\", \"longitude\": \"-111.8665419\", \"website\": \"https://stores.basspro.com/us/az/mesa/1133-north-dobson.html\", \"brand\": \"Bass Pro Shops\", \"color\": \"#1F8500\", \"state_name\": \"Arizona\", \"type\": \"Feature\", \"geometry\": {\"type\": \"Point\", \"coordinates\": [-111.8665419, 33.4365468]}}, {\"store_id\": 3011545, \"street\": \"11550 Lakeridge Parkway\", \"city\": \"Ashland\", \"state\": \"VA\", \"zip\": \"23005\", \"phone\": \"(804) 496-4700\", \"latitude\": \"37.7110473\", \"longitude\": \"-77.4492922\", \"website\": \"https://stores.basspro.com/us/va/ashland/11550-lakeridge-parkway.html\", \"brand\": \"Bass Pro Shops\", \"color\": \"#1F8500\", \"state_name\": \"Virginia\", \"type\": \"Feature\", \"geometry\": {\"type\": \"Point\", \"coordinates\": [-77.4492922, 37.7110473]}}, {\"store_id\": 3011542, \"street\": \"11551 Northwest 12th St\", \"city\": \"Miami\", \"state\": \"FL\", \"zip\": \"33172\", \"phone\": \"(305) 341-4200\", \"latitude\": \"25.7888307\", \"longitude\": \"-80.3831756\", \"website\": \"https://stores.basspro.com/us/fl/miami/11551-northwest-12th-st.html\", \"brand\": \"Bass Pro Shops\", \"color\": \"#1F8500\", \"state_name\": \"Florida\", \"type\": \"Feature\", \"geometry\": {\"type\": \"Point\", \"coordinates\": [-80.3831756, 25.7888307]}}, {\"store_id\": 3011533, \"street\": \"12051 Bass Pro Dr\", \"city\": \"Olathe\", \"state\": \"KS\", \"zip\": \"66061\", \"phone\": \"(913) 254-5200\", \"latitude\": \"38.9095905\", \"longitude\": \"-94.7774654\", \"website\": \"https://stores.basspro.com/us/ks/olathe/12051-bass-pro-dr.html\", \"brand\": \"Bass Pro Shops\", \"color\": \"#1F8500\", \"state_name\": \"Kansas\", \"type\": \"Feature\", \"geometry\": {\"type\": \"Point\", \"coordinates\": [-94.7774654, 38.9095905]}}, {\"store_id\": 3011550, \"street\": \"13012 Bass Pro Dr\", \"city\": \"Colorado Springs\", \"state\": \"CO\", \"zip\": \"80921\", \"phone\": \"(719) 488-7300\", \"latitude\": \"39.0237098\", \"longitude\": \"-104.826538\", \"website\": \"https://stores.basspro.com/us/co/colorado-springs/13012-bass-pro-dr.html\", \"brand\": \"Bass Pro Shops\", \"color\": \"#1F8500\", \"state_name\": \"Colorado\", \"type\": \"Feature\", \"geometry\": {\"type\": \"Point\", \"coordinates\": [-104.826538, 39.0237098]}}, {\"store_id\": 3986765, \"street\": \"1350 Cabela Drive\", \"city\": \"Sun Prairie\", \"state\": \"WI\", \"zip\": \"53590\", \"phone\": \"(608) 478-4100\", \"latitude\": \"43.1641924\", \"longitude\": \"-89.2730906\", \"website\": \"https://stores.basspro.com/us/wi/sun-prairie/1350-cabela-drive.html\", \"brand\": \"Bass Pro Shops\", \"color\": \"#1F8500\", \"state_name\": \"Wisconsin\", \"type\": \"Feature\", \"geometry\": {\"type\": \"Point\", \"coordinates\": [-89.2730906, 43.1641924]}}, {\"store_id\": 3011535, \"street\": \"1356 Bass Pro Dr\", \"city\": \"Manteca\", \"state\": \"CA\", \"zip\": \"95337\", \"phone\": \"(209) 825-8400\", \"latitude\": \"37.7822138\", \"longitude\": \"-121.2261057\", \"website\": \"https://stores.basspro.com/us/ca/manteca/1356-bass-pro-dr.html\", \"brand\": \"Bass Pro Shops\", \"color\": \"#1F8500\", \"state_name\": \"California\", \"type\": \"Feature\", \"geometry\": {\"type\": \"Point\", \"coordinates\": [-121.2261057, 37.7822138]}}, {\"store_id\": 3011516, \"street\": \"1365 South 5th St\", \"city\": \"St. Charles\", \"state\": \"MO\", \"zip\": \"63301\", \"phone\": \"(636) 688-2500\", \"latitude\": \"38.7709058\", \"longitude\": \"-90.4973354\", \"website\": \"https://stores.basspro.com/us/mo/st--charles/1365-south-5th-st.html\", \"brand\": \"Bass Pro Shops\", \"color\": \"#1F8500\", \"state_name\": \"Missouri\", \"type\": \"Feature\", \"geometry\": {\"type\": \"Point\", \"coordinates\": [-90.4973354, 38.7709058]}}, {\"store_id\": 3011519, \"street\": \"14045 Abercorn St\", \"city\": \"Savannah\", \"state\": \"GA\", \"zip\": \"31419\", \"phone\": \"(912) 961-4200\", \"latitude\": \"31.9834837\", \"longitude\": \"-81.1725417\", \"website\": \"https://stores.basspro.com/us/ga/savannah/14045-abercorn-st.html\", \"brand\": \"Bass Pro Shops\", \"color\": \"#1F8500\", \"state_name\": \"Georgia\", \"type\": \"Feature\", \"geometry\": {\"type\": \"Point\", \"coordinates\": [-81.1725417, 31.9834837]}}, {\"store_id\": 3986757, \"street\": \"152 Northpoint Parkway\", \"city\": \"Acworth\", \"state\": \"GA\", \"zip\": \"30102\", \"phone\": \"(470) 315-7500\", \"latitude\": \"34.0816869\", \"longitude\": \"-84.6507277\", \"website\": \"https://stores.basspro.com/us/ga/acworth/152-northpoint-parkway.html\", \"brand\": \"Bass Pro Shops\", \"color\": \"#1F8500\", \"state_name\": \"Georgia\", \"type\": \"Feature\", \"geometry\": {\"type\": \"Point\", \"coordinates\": [-84.6507277, 34.0816869]}}, {\"store_id\": 3011505, \"street\": \"1579 Clark St Rd\", \"city\": \"Auburn\", \"state\": \"NY\", \"zip\": \"13021\", \"phone\": \"(315) 258-2700\", \"latitude\": \"42.9299532\", \"longitude\": \"-76.6112106\", \"website\": \"https://stores.basspro.com/us/ny/auburn/1579-clark-st-rd.html\", \"brand\": \"Bass Pro Shops\", \"color\": \"#1F8500\", \"state_name\": \"New York\", \"type\": \"Feature\", \"geometry\": {\"type\": \"Point\", \"coordinates\": [-76.6112106, 42.9299532]}}, {\"store_id\": 3011504, \"street\": \"175 Bass Pro Blvd\", \"city\": \"Denham Springs\", \"state\": \"LA\", \"zip\": \"70726\", \"phone\": \"(225) 271-3100\", \"latitude\": \"30.4522647\", \"longitude\": \"-90.9613266\", \"website\": \"https://stores.basspro.com/us/la/denham-springs/175-bass-pro-blvd.html\", \"brand\": \"Bass Pro Shops\", \"color\": \"#1F8500\", \"state_name\": \"Louisiana\", \"type\": \"Feature\", \"geometry\": {\"type\": \"Point\", \"coordinates\": [-90.9613266, 30.4522647]}}, {\"store_id\": 3011531, \"street\": \"17907 IH-10 West\", \"city\": \"San Antonio\", \"state\": \"TX\", \"zip\": \"78257\", \"phone\": \"(210) 253-8800\", \"latitude\": \"29.611098\", \"longitude\": \"-98.600218\", \"website\": \"https://stores.basspro.com/us/tx/san-antonio/17907-ih-10-west.html\", \"brand\": \"Bass Pro Shops\", \"color\": \"#1F8500\", \"state_name\": \"Texas\", \"type\": \"Feature\", \"geometry\": {\"type\": \"Point\", \"coordinates\": [-98.600218, 29.611098]}}, {\"store_id\": 3011528, \"street\": \"18001 Bass Pro Dr\", \"city\": \"Independence\", \"state\": \"MO\", \"zip\": \"64055\", \"phone\": \"(816) 795-4300\", \"latitude\": \"39.0400967\", \"longitude\": \"-94.370386\", \"website\": \"https://stores.basspro.com/us/mo/independence/18001-bass-pro-dr.html\", \"brand\": \"Bass Pro Shops\", \"color\": \"#1F8500\", \"state_name\": \"Missouri\", \"type\": \"Feature\", \"geometry\": {\"type\": \"Point\", \"coordinates\": [-94.370386, 39.0400967]}}, {\"store_id\": 4078866, \"street\": \"1880 W Checkered Flag Blvd\", \"city\": \"Daytona Beach\", \"state\": \"FL\", \"zip\": \"32114\", \"phone\": \"(386) 281-4300\", \"latitude\": \"29.1920035\", \"longitude\": \"-81.0725181\", \"website\": \"https://stores.basspro.com/us/fl/daytona-beach/1880-w-checkered-flag-blvd.html\", \"brand\": \"Bass Pro Shops\", \"color\": \"#1F8500\", \"state_name\": \"Florida\", \"type\": \"Feature\", \"geometry\": {\"type\": \"Point\", \"coordinates\": [-81.0725181, 29.1920035]}}, {\"store_id\": 3011511, \"street\": \"1972 Power Plant Parkway\", \"city\": \"Hampton\", \"state\": \"VA\", \"zip\": \"23666\", \"phone\": \"(757) 262-5200\", \"latitude\": \"37.035747\", \"longitude\": \"-76.3907182\", \"website\": \"https://stores.basspro.com/us/va/hampton/1972-power-plant-parkway.html\", \"brand\": \"Bass Pro Shops\", \"color\": \"#1F8500\", \"state_name\": \"Virginia\", \"type\": \"Feature\", \"geometry\": {\"type\": \"Point\", \"coordinates\": [-76.3907182, 37.035747]}}, {\"store_id\": 3011560, \"street\": \"2 Commerce Dr\", \"city\": \"Hooksett\", \"state\": \"NH\", \"zip\": \"03106\", \"phone\": \"(603) 541-5200\", \"latitude\": \"43.0389402\", \"longitude\": \"-71.4762461\", \"website\": \"https://stores.basspro.com/us/nh/hooksett/2-commerce-dr.html\", \"brand\": \"Bass Pro Shops\", \"color\": \"#1F8500\", \"state_name\": \"New Hampshire\", \"type\": \"Feature\", \"geometry\": {\"type\": \"Point\", \"coordinates\": [-71.4762461, 43.0389402]}}, {\"store_id\": 3011518, \"street\": \"200 Bass Pro Dr\", \"city\": \"Oklahoma City\", \"state\": \"OK\", \"zip\": \"73104\", \"phone\": \"(405) 218-5200\", \"latitude\": \"35.4633571\", \"longitude\": \"-97.5029057\", \"website\": \"https://stores.basspro.com/us/ok/oklahoma-city/200-bass-pro-dr.html\", \"brand\": \"Bass Pro Shops\", \"color\": \"#1F8500\", \"state_name\": \"Oklahoma\", \"type\": \"Feature\", \"geometry\": {\"type\": \"Point\", \"coordinates\": [-97.5029057, 35.4633571]}}, {\"store_id\": 3011564, \"street\": \"200 Bass Pro Dr\", \"city\": \"Round Rock\", \"state\": \"TX\", \"zip\": \"78665\", \"phone\": \"(512) 876-2700\", \"latitude\": \"30.5709917\", \"longitude\": \"-97.6894861\", \"website\": \"https://stores.basspro.com/us/tx/round-rock/200-bass-pro-dr.html\", \"brand\": \"Bass Pro Shops\", \"color\": \"#1F8500\", \"state_name\": \"Texas\", \"type\": \"Feature\", \"geometry\": {\"type\": \"Point\", \"coordinates\": [-97.6894861, 30.5709917]}}, {\"store_id\": 25016644, \"street\": \"200 Bass Pro Drive\", \"city\": \"Morgantown\", \"state\": \"WV\", \"zip\": \"26501\", \"phone\": \"(681) 285-6400\", \"latitude\": \"39.6363889\", \"longitude\": \"-79.9991667\", \"website\": \"https://stores.basspro.com/us/wv/morgantown/200-bass-pro-drive.html\", \"brand\": \"Bass Pro Shops\", \"color\": \"#1F8500\", \"state_name\": \"West Virginia\", \"type\": \"Feature\", \"geometry\": {\"type\": \"Point\", \"coordinates\": [-79.9991667, 39.6363889]}}, {\"store_id\": 3011507, \"street\": \"200 Gulf Stream Way\", \"city\": \"Dania Beach\", \"state\": \"FL\", \"zip\": \"33004\", \"phone\": \"(954) 929-7710\", \"latitude\": \"26.0578236\", \"longitude\": \"-80.1637599\", \"website\": \"https://stores.basspro.com/us/fl/dania-beach/200-gulf-stream-way.html\", \"brand\": \"Bass Pro Shops\", \"color\": \"#1F8500\", \"state_name\": \"Florida\", \"type\": \"Feature\", \"geometry\": {\"type\": \"Point\", \"coordinates\": [-80.1637599, 26.0578236]}}, {\"store_id\": 3011522, \"street\": \"20000 Bass Pro Dr\", \"city\": \"Spanish Fort\", \"state\": \"AL\", \"zip\": \"36527\", \"phone\": \"(251) 607-5900\", \"latitude\": \"30.6579346\", \"longitude\": \"-87.9055569\", \"website\": \"https://stores.basspro.com/us/al/spanish-fort/20000-bass-pro-dr.html\", \"brand\": \"Bass Pro Shops\", \"color\": \"#1F8500\", \"state_name\": \"Alabama\", \"type\": \"Feature\", \"geometry\": {\"type\": \"Point\", \"coordinates\": [-87.9055569, 30.6579346]}}, {\"store_id\": 3986764, \"street\": \"201 Cabela Drive\", \"city\": \"Garner\", \"state\": \"NC\", \"zip\": \"27529\", \"phone\": \"(984) 204-2200\", \"latitude\": \"35.6982229\", \"longitude\": \"-78.5812552\", \"website\": \"https://stores.basspro.com/us/nc/garner/201-cabela-drive.html\", \"brand\": \"Bass Pro Shops\", \"color\": \"#1F8500\", \"state_name\": \"North Carolina\", \"type\": \"Feature\", \"geometry\": {\"type\": \"Point\", \"coordinates\": [-78.5812552, 35.6982229]}}, {\"store_id\": 3011561, \"street\": \"2250 Gatlin Blvd\", \"city\": \"Port St. Lucie\", \"state\": \"FL\", \"zip\": \"34953\", \"phone\": \"(772) 785-7600\", \"latitude\": \"27.2615983\", \"longitude\": \"-80.4191319\", \"website\": \"https://stores.basspro.com/us/fl/port-st--lucie/2250-gatlin-blvd.html\", \"brand\": \"Bass Pro Shops\", \"color\": \"#1F8500\", \"state_name\": \"Florida\", \"type\": \"Feature\", \"geometry\": {\"type\": \"Point\", \"coordinates\": [-80.4191319, 27.2615983]}}, {\"store_id\": 3986738, \"street\": \"2300 S Promenade Blvd\", \"city\": \"Rogers\", \"state\": \"AR\", \"zip\": \"72758\", \"phone\": \"(479) 616-1925\", \"latitude\": \"36.3011043\", \"longitude\": \"-94.1757555\", \"website\": \"https://stores.basspro.com/us/ar/rogers/2300-s-promenade-blvd.html\", \"brand\": \"Bass Pro Shops\", \"color\": \"#1F8500\", \"state_name\": \"Arkansas\", \"type\": \"Feature\", \"geometry\": {\"type\": \"Point\", \"coordinates\": [-94.1757555, 36.3011043]}}, {\"store_id\": 1017421690, \"street\": \"2390 Niles Cortland Road SE\", \"city\": \"Niles\", \"state\": \"OH\", \"zip\": \"44484\", \"phone\": \"(330) 989-7600\", \"latitude\": \"41.2113935\", \"longitude\": \"-80.7414895\", \"website\": \"https://stores.basspro.com/us/oh/warren/2390-niles-cortland-road-se.html\", \"brand\": \"Bass Pro Shops\", \"color\": \"#1F8500\", \"state_name\": \"Ohio\", \"type\": \"Feature\", \"geometry\": {\"type\": \"Point\", \"coordinates\": [-80.7414895, 41.2113935]}}, {\"store_id\": 3986772, \"street\": \"2421 Gulf Fwy S\", \"city\": \"League City\", \"state\": \"TX\", \"zip\": \"77573\", \"phone\": \"(346) 231-0200\", \"latitude\": \"29.4748562\", \"longitude\": \"-95.0999004\", \"website\": \"https://stores.basspro.com/us/tx/league-city/2421-gulf-fwy-s.html\", \"brand\": \"Bass Pro Shops\", \"color\": \"#1F8500\", \"state_name\": \"Texas\", \"type\": \"Feature\", \"geometry\": {\"type\": \"Point\", \"coordinates\": [-95.0999004, 29.4748562]}}, {\"store_id\": 3011509, \"street\": \"2501 Bass Pro Dr\", \"city\": \"Grapevine\", \"state\": \"TX\", \"zip\": \"76051\", \"phone\": \"(972) 724-2018\", \"latitude\": \"32.957495\", \"longitude\": \"-97.0435058\", \"website\": \"https://stores.basspro.com/us/tx/grapevine/2501-bass-pro-dr.html\", \"brand\": \"Bass Pro Shops\", \"color\": \"#1F8500\", \"state_name\": \"Texas\", \"type\": \"Feature\", \"geometry\": {\"type\": \"Point\", \"coordinates\": [-97.0435058, 32.957495]}}, {\"store_id\": 3011543, \"street\": \"2553 Rocky Mount Rd\", \"city\": \"Prattville\", \"state\": \"AL\", \"zip\": \"36066\", \"phone\": \"(334) 290-6400\", \"latitude\": \"32.4626699\", \"longitude\": \"-86.3910016\", \"website\": \"https://stores.basspro.com/us/al/prattville/2553-rocky-mount-rd.html\", \"brand\": \"Bass Pro Shops\", \"color\": \"#1F8500\", \"state_name\": \"Alabama\", \"type\": \"Feature\", \"geometry\": {\"type\": \"Point\", \"coordinates\": [-86.3910016, 32.4626699]}}, {\"store_id\": 3771851, \"street\": \"2650 Bass Pro Shops Blvd\", \"city\": \"Gainesville\", \"state\": \"FL\", \"zip\": \"32608\", \"phone\": \"(352) 204-4100\", \"latitude\": \"29.628529\", \"longitude\": \"-82.3958314\", \"website\": \"https://stores.basspro.com/us/fl/gainesville/2650-bass-pro-shops-blvd.html\", \"brand\": \"Bass Pro Shops\", \"color\": \"#1F8500\", \"state_name\": \"Florida\", \"type\": \"Feature\", \"geometry\": {\"type\": \"Point\", \"coordinates\": [-82.3958314, 29.628529]}}, {\"store_id\": 3011529, \"street\": \"2901 Bass Pro Dr\", \"city\": \"Council Bluffs\", \"state\": \"IA\", \"zip\": \"51501\", \"phone\": \"(712) 325-6000\", \"latitude\": \"41.2342844\", \"longitude\": \"-95.8912978\", \"website\": \"https://stores.basspro.com/us/ia/council-bluffs/2901-bass-pro-dr.html\", \"brand\": \"Bass Pro Shops\", \"color\": \"#1F8500\", \"state_name\": \"Iowa\", \"type\": \"Feature\", \"geometry\": {\"type\": \"Point\", \"coordinates\": [-95.8912978, 41.2342844]}}, {\"store_id\": 3011554, \"street\": \"30 N Christopher Columbus Blvd\", \"city\": \"Atlantic City\", \"state\": \"NJ\", \"zip\": \"08401\", \"phone\": \"(609) 449-4500\", \"latitude\": \"39.3585327\", \"longitude\": \"-74.4394997\", \"website\": \"https://stores.basspro.com/us/nj/atlantic-city/30-n-christopher-columbus-blvd.html\", \"brand\": \"Bass Pro Shops\", \"color\": \"#1F8500\", \"state_name\": \"New Jersey\", \"type\": \"Feature\", \"geometry\": {\"type\": \"Point\", \"coordinates\": [-74.4394997, 39.3585327]}}, {\"store_id\": 3011555, \"street\": \"3046 Mountain View Dr\", \"city\": \"Anchorage\", \"state\": \"AK\", \"zip\": \"99501\", \"phone\": \"(907) 330-5200\", \"latitude\": \"61.2191963\", \"longitude\": \"-149.8209661\", \"website\": \"https://stores.basspro.com/us/ak/anchorage/3046-mountain-view-dr.html\", \"brand\": \"Bass Pro Shops\", \"color\": \"#1F8500\", \"state_name\": \"Alaska\", \"type\": \"Feature\", \"geometry\": {\"type\": \"Point\", \"coordinates\": [-149.8209661, 61.2191963]}}, {\"store_id\": 3011499, \"street\": \"3101 Bass Pro Dr\", \"city\": \"Columbia\", \"state\": \"MO\", \"zip\": \"65202\", \"phone\": \"(573) 886-7100\", \"latitude\": \"38.9714608\", \"longitude\": \"-92.2920227\", \"website\": \"https://stores.basspro.com/us/mo/columbia/3101-bass-pro-dr.html\", \"brand\": \"Bass Pro Shops\", \"color\": \"#1F8500\", \"state_name\": \"Missouri\", \"type\": \"Feature\", \"geometry\": {\"type\": \"Point\", \"coordinates\": [-92.2920227, 38.9714608]}}, {\"store_id\": 3011514, \"street\": \"323 Opry Mills Dr\", \"city\": \"Nashville\", \"state\": \"TN\", \"zip\": \"37214\", \"phone\": \"(615) 514-5200\", \"latitude\": \"36.2014948\", \"longitude\": \"-86.690606\", \"website\": \"https://stores.basspro.com/us/tn/nashville/323-opry-mills-dr.html\", \"brand\": \"Bass Pro Shops\", \"color\": \"#1F8500\", \"state_name\": \"Tennessee\", \"type\": \"Feature\", \"geometry\": {\"type\": \"Point\", \"coordinates\": [-86.690606, 36.2014948]}}, {\"store_id\": 3011503, \"street\": \"3501 Paxton St\", \"city\": \"Harrisburg\", \"state\": \"PA\", \"zip\": \"17111\", \"phone\": \"(717) 565-5200\", \"latitude\": \"40.2525465\", \"longitude\": \"-76.8281972\", \"website\": \"https://stores.basspro.com/us/pa/harrisburg/3501-paxton-st.html\", \"brand\": \"Bass Pro Shops\", \"color\": \"#1F8500\", \"state_name\": \"Pennsylvania\", \"type\": \"Feature\", \"geometry\": {\"type\": \"Point\", \"coordinates\": [-76.8281972, 40.2525465]}}, {\"store_id\": 79326323, \"street\": \"3600 South Lindbergh Blvd\", \"city\": \"Sunset Hills\", \"state\": \"MO\", \"zip\": \"63127\", \"phone\": \"(314) 946-2000\", \"latitude\": \"38.554253\", \"longitude\": \"-90.4054291\", \"website\": \"https://stores.basspro.com/us/mo/sunset-hills/3600-south-lindbergh-blvd.html\", \"brand\": \"Bass Pro Shops\", \"color\": \"#1F8500\", \"state_name\": \"Missouri\", \"type\": \"Feature\", \"geometry\": {\"type\": \"Point\", \"coordinates\": [-90.4054291, 38.554253]}}, {\"store_id\": 3011525, \"street\": \"3629 Outdoor Sportsmans Place\", \"city\": \"Kodak\", \"state\": \"TN\", \"zip\": \"37764\", \"phone\": \"(865) 932-5600\", \"latitude\": \"35.9848674\", \"longitude\": \"-83.612054\", \"website\": \"https://stores.basspro.com/us/tn/kodak/3629-outdoor-sportsmans-place.html\", \"brand\": \"Bass Pro Shops\", \"color\": \"#1F8500\", \"state_name\": \"Tennessee\", \"type\": \"Feature\", \"geometry\": {\"type\": \"Point\", \"coordinates\": [-83.612054, 35.9848674]}}, {\"store_id\": 3011567, \"street\": \"4059 Lagniappe Way\", \"city\": \"Tallahassee\", \"state\": \"FL\", \"zip\": \"32317\", \"phone\": \"(850) 402-6900\", \"latitude\": \"30.4605828\", \"longitude\": \"-84.2140612\", \"website\": \"https://stores.basspro.com/us/fl/tallahassee/4059-lagniappe-way.html\", \"brand\": \"Bass Pro Shops\", \"color\": \"#1F8500\", \"state_name\": \"Florida\", \"type\": \"Feature\", \"geometry\": {\"type\": \"Point\", \"coordinates\": [-84.2140612, 30.4605828]}}, {\"store_id\": 3011508, \"street\": \"4301 Legendary Dr\", \"city\": \"Destin\", \"state\": \"FL\", \"zip\": \"32541\", \"phone\": \"(850) 269-6200\", \"latitude\": \"30.3902534\", \"longitude\": \"-86.4225053\", \"website\": \"https://stores.basspro.com/us/fl/destin/4301-legendary-dr.html\", \"brand\": \"Bass Pro Shops\", \"color\": \"#1F8500\", \"state_name\": \"Florida\", \"type\": \"Feature\", \"geometry\": {\"type\": \"Point\", \"coordinates\": [-86.4225053, 30.3902534]}}, {\"store_id\": 3011493, \"street\": \"4500 Baldwin Rd\", \"city\": \"Auburn Hills\", \"state\": \"MI\", \"zip\": \"48326\", \"phone\": \"(248) 209-4200\", \"latitude\": \"42.7036178\", \"longitude\": \"-83.2984143\", \"website\": \"https://stores.basspro.com/us/mi/auburn-hills/4500-baldwin-rd.html\", \"brand\": \"Bass Pro Shops\", \"color\": \"#1F8500\", \"state_name\": \"Michigan\", \"type\": \"Feature\", \"geometry\": {\"type\": \"Point\", \"coordinates\": [-83.2984143, 42.7036178]}}, {\"store_id\": 7309131, \"street\": \"45959 Towne Center Blvd.\", \"city\": \"Chesterfield\", \"state\": \"MI\", \"zip\": \"48047\", \"phone\": \"(586) 273-5100\", \"latitude\": \"42.639852\", \"longitude\": \"-82.838113\", \"website\": \"https://stores.basspro.com/us/mi/chesterfield/45959-towne-center-blvd.html\", \"brand\": \"Bass Pro Shops\", \"color\": \"#1F8500\", \"state_name\": \"Michigan\", \"type\": \"Feature\", \"geometry\": {\"type\": \"Point\", \"coordinates\": [-82.838113, 42.639852]}}, {\"store_id\": 3011521, \"street\": \"5000 Bass Pro Blvd\", \"city\": \"Leeds\", \"state\": \"AL\", \"zip\": \"35094\", \"phone\": \"(205) 702-7500\", \"latitude\": \"33.5431898\", \"longitude\": \"-86.5918565\", \"website\": \"https://stores.basspro.com/us/al/leeds/5000-bass-pro-blvd.html\", \"brand\": \"Bass Pro Shops\", \"color\": \"#1F8500\", \"state_name\": \"Alabama\", \"type\": \"Feature\", \"geometry\": {\"type\": \"Point\", \"coordinates\": [-86.5918565, 33.5431898]}}, {\"store_id\": 3011532, \"street\": \"5000 Bass Pro Blvd\", \"city\": \"Macon\", \"state\": \"GA\", \"zip\": \"31210\", \"phone\": \"(478) 757-7600\", \"latitude\": \"32.9342803\", \"longitude\": \"-83.7385923\", \"website\": \"https://stores.basspro.com/us/ga/macon/5000-bass-pro-blvd.html\", \"brand\": \"Bass Pro Shops\", \"color\": \"#1F8500\", \"state_name\": \"Georgia\", \"type\": \"Feature\", \"geometry\": {\"type\": \"Point\", \"coordinates\": [-83.7385923, 32.9342803]}}, {\"store_id\": 3011513, \"street\": \"5000 Katy Mills Circle\", \"city\": \"Katy\", \"state\": \"TX\", \"zip\": \"77494\", \"phone\": \"(281) 644-2200\", \"latitude\": \"29.7780113\", \"longitude\": \"-95.8109039\", \"website\": \"https://stores.basspro.com/us/tx/katy/5000-katy-mills-circle.html\", \"brand\": \"Bass Pro Shops\", \"color\": \"#1F8500\", \"state_name\": \"Texas\", \"type\": \"Feature\", \"geometry\": {\"type\": \"Point\", \"coordinates\": [-95.8109039, 29.7780113]}}, {\"store_id\": 3011526, \"street\": \"5001 Bass Pro Dr\", \"city\": \"Garland\", \"state\": \"TX\", \"zip\": \"75043\", \"phone\": \"(469) 221-2600\", \"latitude\": \"32.8660978\", \"longitude\": \"-96.5377718\", \"website\": \"https://stores.basspro.com/us/tx/garland/5001-bass-pro-dr.html\", \"brand\": \"Bass Pro Shops\", \"color\": \"#1F8500\", \"state_name\": \"Texas\", \"type\": \"Feature\", \"geometry\": {\"type\": \"Point\", \"coordinates\": [-96.5377718, 32.8660978]}}, {\"store_id\": 3011515, \"street\": \"5156 International Dr\", \"city\": \"Orlando\", \"state\": \"FL\", \"zip\": \"32819\", \"phone\": \"(407) 563-5200\", \"latitude\": \"28.469827\", \"longitude\": \"-81.4483594\", \"website\": \"https://stores.basspro.com/us/fl/orlando/5156-international-dr.html\", \"brand\": \"Bass Pro Shops\", \"color\": \"#1F8500\", \"state_name\": \"Florida\", \"type\": \"Feature\", \"geometry\": {\"type\": \"Point\", \"coordinates\": [-81.4483594, 28.469827]}}, {\"store_id\": 3011566, \"street\": \"5160 Cherry Ave\", \"city\": \"San Jose\", \"state\": \"CA\", \"zip\": \"95118\", \"phone\": \"(669) 234-5700\", \"latitude\": \"37.257151\", \"longitude\": \"-121.8728667\", \"website\": \"https://stores.basspro.com/us/ca/san-jose/5160-cherry-ave.html\", \"brand\": \"Bass Pro Shops\", \"color\": \"#1F8500\", \"state_name\": \"California\", \"type\": \"Feature\", \"geometry\": {\"type\": \"Point\", \"coordinates\": [-121.8728667, 37.257151]}}, {\"store_id\": 3536459, \"street\": \"5472 Crossings Dr\", \"city\": \"Rocklin\", \"state\": \"CA\", \"zip\": \"95677\", \"phone\": \"(916) 251-3800\", \"latitude\": \"38.8044457\", \"longitude\": \"-121.2011834\", \"website\": \"https://stores.basspro.com/us/ca/rocklin/5472-crossings-dr.html\", \"brand\": \"Bass Pro Shops\", \"color\": \"#1F8500\", \"state_name\": \"California\", \"type\": \"Feature\", \"geometry\": {\"type\": \"Point\", \"coordinates\": [-121.2011834, 38.8044457]}}, {\"store_id\": 3011495, \"street\": \"5900 Sugarloaf Pkwy\", \"city\": \"Lawrenceville\", \"state\": \"GA\", \"zip\": \"30043\", \"phone\": \"(678) 847-5500\", \"latitude\": \"33.9807771\", \"longitude\": \"-84.080635\", \"website\": \"https://stores.basspro.com/us/ga/lawrenceville/5900-sugarloaf-pkwy.html\", \"brand\": \"Bass Pro Shops\", \"color\": \"#1F8500\", \"state_name\": \"Georgia\", \"type\": \"Feature\", \"geometry\": {\"type\": \"Point\", \"coordinates\": [-84.080635, 33.9807771]}}, {\"store_id\": 1029968681, \"street\": \"5951 Bass Pro Drive\", \"city\": \"West Chester\", \"state\": \"OH\", \"zip\": \"45069\", \"phone\": \"(513) 712-5600\", \"latitude\": \"39.31559116647875\", \"longitude\": \"-84.42912464260559\", \"website\": \"https://stores.basspro.com/us/oh/west-chester/5961-bass-pro-drive.html\", \"brand\": \"Bass Pro Shops\", \"color\": \"#1F8500\", \"state_name\": \"Ohio\", \"type\": \"Feature\", \"geometry\": {\"type\": \"Point\", \"coordinates\": [-84.42912464260559, 39.31559116647875]}}, {\"store_id\": 3011510, \"street\": \"6112 West Grand Ave\", \"city\": \"Gurnee\", \"state\": \"IL\", \"zip\": \"60031\", \"phone\": \"(847) 856-1229\", \"latitude\": \"42.389008\", \"longitude\": \"-87.954132\", \"website\": \"https://stores.basspro.com/us/il/gurnee/6112-west-grand-ave.html\", \"brand\": \"Bass Pro Shops\", \"color\": \"#1F8500\", \"state_name\": \"Illinois\", \"type\": \"Feature\", \"geometry\": {\"type\": \"Point\", \"coordinates\": [-87.954132, 42.389008]}}, {\"store_id\": 3011517, \"street\": \"6140 Macon Rd\", \"city\": \"Memphis\", \"state\": \"TN\", \"zip\": \"38134\", \"phone\": \"(901) 213-5800\", \"latitude\": \"35.1656563\", \"longitude\": \"-89.8570195\", \"website\": \"https://stores.basspro.com/us/tn/memphis/6140-macon-rd.html\", \"brand\": \"Bass Pro Shops\", \"color\": \"#1F8500\", \"state_name\": \"Tennessee\", \"type\": \"Feature\", \"geometry\": {\"type\": \"Point\", \"coordinates\": [-89.8570195, 35.1656563]}}, {\"store_id\": 3011538, \"street\": \"6425 Daniel Burnham Dr\", \"city\": \"Portage\", \"state\": \"IN\", \"zip\": \"46368\", \"phone\": \"(219) 787-6800\", \"latitude\": \"41.6030606\", \"longitude\": \"-87.1680593\", \"website\": \"https://stores.basspro.com/us/in/portage/6425-daniel-burnham-dr.html\", \"brand\": \"Bass Pro Shops\", \"color\": \"#1F8500\", \"state_name\": \"Indiana\", \"type\": \"Feature\", \"geometry\": {\"type\": \"Point\", \"coordinates\": [-87.1680593, 41.6030606]}}, {\"store_id\": 3011494, \"street\": \"7000 Arundel Mills Circle\", \"city\": \"Hanover\", \"state\": \"MD\", \"zip\": \"21076\", \"phone\": \"(410) 689-2500\", \"latitude\": \"39.1564823\", \"longitude\": \"-76.7249884\", \"website\": \"https://stores.basspro.com/us/md/hanover/7000-arundel-mills-circle.html\", \"brand\": \"Bass Pro Shops\", \"color\": \"#1F8500\", \"state_name\": \"Maryland\", \"type\": \"Feature\", \"geometry\": {\"type\": \"Point\", \"coordinates\": [-76.7249884, 39.1564823]}}, {\"store_id\": 3011537, \"street\": \"709 Janes Ave\", \"city\": \"Bolingbrook\", \"state\": \"IL\", \"zip\": \"60440\", \"phone\": \"(630) 296-2700\", \"latitude\": \"41.7171699\", \"longitude\": \"-88.0393625\", \"website\": \"https://stores.basspro.com/us/il/bolingbrook/709-janes-ave.html\", \"brand\": \"Bass Pro Shops\", \"color\": \"#1F8500\", \"state_name\": \"Illinois\", \"type\": \"Feature\", \"geometry\": {\"type\": \"Point\", \"coordinates\": [-88.0393625, 41.7171699]}}, {\"store_id\": 3011559, \"street\": \"710 Horatio St\", \"city\": \"Utica\", \"state\": \"NY\", \"zip\": \"13502\", \"phone\": \"(315) 266-4900\", \"latitude\": \"43.1250667\", \"longitude\": \"-75.2258348\", \"website\": \"https://stores.basspro.com/us/ny/utica/710-horatio-st.html\", \"brand\": \"Bass Pro Shops\", \"color\": \"#1F8500\", \"state_name\": \"New York\", \"type\": \"Feature\", \"geometry\": {\"type\": \"Point\", \"coordinates\": [-75.2258348, 43.1250667]}}, {\"store_id\": 3011557, \"street\": \"750 Bass Pro Dr NE\", \"city\": \"Palm Bay\", \"state\": \"FL\", \"zip\": \"32905\", \"phone\": \"(321) 674-3700\", \"latitude\": \"28.0338655\", \"longitude\": \"-80.6527698\", \"website\": \"https://stores.basspro.com/us/fl/palm-bay/750-bass-pro-dr-ne.html\", \"brand\": \"Bass Pro Shops\", \"color\": \"#1F8500\", \"state_name\": \"Florida\", \"type\": \"Feature\", \"geometry\": {\"type\": \"Point\", \"coordinates\": [-80.6527698, 28.0338655]}}, {\"store_id\": 3011536, \"street\": \"7777 Victoria Gardens Lane\", \"city\": \"Rancho Cucamonga\", \"state\": \"CA\", \"zip\": \"91739\", \"phone\": \"(909) 922-5500\", \"latitude\": \"34.1128128\", \"longitude\": \"-117.5270042\", \"website\": \"https://stores.basspro.com/us/ca/rancho-cucamonga/7777-victoria-gardens-lane.html\", \"brand\": \"Bass Pro Shops\", \"color\": \"#1F8500\", \"state_name\": \"California\", \"type\": \"Feature\", \"geometry\": {\"type\": \"Point\", \"coordinates\": [-117.5270042, 34.1128128]}}, {\"store_id\": 3011562, \"street\": \"7905 S Hosmer St\", \"city\": \"Tacoma\", \"state\": \"WA\", \"zip\": \"98408\", \"phone\": \"(253) 671-5700\", \"latitude\": \"47.1854799\", \"longitude\": \"-122.4603188\", \"website\": \"https://stores.basspro.com/us/wa/tacoma/7905-s-hosmer-st.html\", \"brand\": \"Bass Pro Shops\", \"color\": \"#1F8500\", \"state_name\": \"Washington\", \"type\": \"Feature\", \"geometry\": {\"type\": \"Point\", \"coordinates\": [-122.4603188, 47.1854799]}}, {\"store_id\": 3011568, \"street\": \"7970 Northfield Blvd\", \"city\": \"Denver\", \"state\": \"CO\", \"zip\": \"80238\", \"phone\": \"(720) 385-3600\", \"latitude\": \"39.7810036\", \"longitude\": \"-104.8956766\", \"website\": \"https://stores.basspro.com/us/co/denver/7970-northfield-blvd.html\", \"brand\": \"Bass Pro Shops\", \"color\": \"#1F8500\", \"state_name\": \"Colorado\", \"type\": \"Feature\", \"geometry\": {\"type\": \"Point\", \"coordinates\": [-104.8956766, 39.7810036]}}, {\"store_id\": 3011558, \"street\": \"801 Bass Pro Lane\", \"city\": \"Cary\", \"state\": \"NC\", \"zip\": \"27513\", \"phone\": \"(919) 677-5100\", \"latitude\": \"35.8302672\", \"longitude\": \"-78.771261\", \"website\": \"https://stores.basspro.com/us/nc/cary/801-bass-pro-lane.html\", \"brand\": \"Bass Pro Shops\", \"color\": \"#1F8500\", \"state_name\": \"North Carolina\", \"type\": \"Feature\", \"geometry\": {\"type\": \"Point\", \"coordinates\": [-78.771261, 35.8302672]}}, {\"store_id\": 3011498, \"street\": \"8181 Concord Mills Blvd\", \"city\": \"Concord\", \"state\": \"NC\", \"zip\": \"28027\", \"phone\": \"(704) 979-2200\", \"latitude\": \"35.3672812\", \"longitude\": \"-80.7191974\", \"website\": \"https://stores.basspro.com/us/nc/concord/8181-concord-mills-blvd.html\", \"brand\": \"Bass Pro Shops\", \"color\": \"#1F8500\", \"state_name\": \"North Carolina\", \"type\": \"Feature\", \"geometry\": {\"type\": \"Point\", \"coordinates\": [-80.7191974, 35.3672812]}}, {\"store_id\": 3011500, \"street\": \"8200 Dean Martin Dr\", \"city\": \"Las Vegas\", \"state\": \"NV\", \"zip\": \"89139\", \"phone\": \"(702) 730-5200\", \"latitude\": \"36.0407624\", \"longitude\": \"-115.1824129\", \"website\": \"https://stores.basspro.com/us/nv/las-vegas/8200-dean-martin-dr.html\", \"brand\": \"Bass Pro Shops\", \"color\": \"#1F8500\", \"state_name\": \"Nevada\", \"type\": \"Feature\", \"geometry\": {\"type\": \"Point\", \"coordinates\": [-115.1824129, 36.0407624]}}, {\"store_id\": 3986750, \"street\": \"833 Cabela Drive\", \"city\": \"Augusta\", \"state\": \"GA\", \"zip\": \"30909\", \"phone\": \"(762) 444-6500\", \"latitude\": \"33.5262203\", \"longitude\": \"-82.0181222\", \"website\": \"https://stores.basspro.com/us/ga/augusta/833-cabela-drive.html\", \"brand\": \"Bass Pro Shops\", \"color\": \"#1F8500\", \"state_name\": \"Georgia\", \"type\": \"Feature\", \"geometry\": {\"type\": \"Point\", \"coordinates\": [-82.0181222, 33.5262203]}}, {\"store_id\": 3986718, \"street\": \"9380 W Glendale Ave\", \"city\": \"Glendale\", \"state\": \"AZ\", \"zip\": \"85305\", \"phone\": \"(623) 872-6700\", \"latitude\": \"33.5394496\", \"longitude\": \"-112.2610803\", \"website\": \"https://stores.basspro.com/us/az/glendale/9380-w-glendale-ave.html\", \"brand\": \"Bass Pro Shops\", \"color\": \"#1F8500\", \"state_name\": \"Arizona\", \"type\": \"Feature\", \"geometry\": {\"type\": \"Point\", \"coordinates\": [-112.2610803, 33.5394496]}}, {\"store_id\": 3011527, \"street\": \"951 E Lewis & Clark Pkwy\", \"city\": \"Clarksville\", \"state\": \"IN\", \"zip\": \"47129\", \"phone\": \"(812) 218-5500\", \"latitude\": \"38.32064957466295\", \"longitude\": \"-85.76232432090148\", \"website\": \"https://stores.basspro.com/us/in/clarksville/951-e-lewis---clark-pkwy.html\", \"brand\": \"Bass Pro Shops\", \"color\": \"#1F8500\", \"state_name\": \"Indiana\", \"type\": \"Feature\", \"geometry\": {\"type\": \"Point\", \"coordinates\": [-85.76232432090148, 38.32064957466295]}}, {\"store_id\": 3011512, \"street\": \"81576 Overseas Highway\", \"city\": \"Islamorada\", \"state\": \"FL\", \"zip\": \"33036\", \"phone\": \"(305) 664-4615\", \"latitude\": \"24.914815\", \"longitude\": \"-80.639719\", \"website\": \"https://stores.basspro.com/us/fl/islamorada/81576-overseas-highway.html\", \"brand\": \"Bass Pro Shops\", \"color\": \"#1F8500\", \"state_name\": \"Florida\", \"type\": \"Feature\", \"geometry\": {\"type\": \"Point\", \"coordinates\": [-80.639719, 24.914815]}}, {\"store_id\": 3011541, \"street\": \"1 Bass Pro Dr\", \"city\": \"Memphis\", \"state\": \"TN\", \"zip\": \"38105\", \"phone\": \"(901) 291-8200\", \"latitude\": \"35.155113\", \"longitude\": \"-90.052262\", \"website\": \"https://stores.basspro.com/us/tn/memphis/1-bass-pro-dr.html\", \"brand\": \"Bass Pro Shops\", \"color\": \"#1F8500\", \"state_name\": \"Tennessee\", \"type\": \"Feature\", \"geometry\": {\"type\": \"Point\", \"coordinates\": [-90.052262, 35.155113]}}, {\"store_id\": 5942891, \"street\": \"2011 S Campbell Avenue\", \"city\": \"Springfield\", \"state\": \"MO\", \"zip\": \"65807\", \"phone\": \"(417) 891-5375\", \"latitude\": \"37.1782392\", \"longitude\": \"-93.2963919\", \"website\": \"https://stores.basspro.com/us/mo/springfield/2011-s-campbell-avenue.html\", \"brand\": \"Bass Pro Shops\", \"color\": \"#1F8500\", \"state_name\": \"Missouri\", \"type\": \"Feature\", \"geometry\": {\"type\": \"Point\", \"coordinates\": [-93.2963919, 37.1782392]}}, {\"store_id\": 3986713, \"street\": \"1 Cabela Drive\", \"city\": \"Triadelphia\", \"state\": \"WV\", \"zip\": \"26059\", \"phone\": \"(304) 238-0120\", \"latitude\": \"40.0595853\", \"longitude\": \"-80.5963698\", \"website\": \"https://stores.cabelas.com/us/wv/triadelphia/1-cabela-drive.html\", \"brand\": \"Cabela's\", \"color\": \"#0058a0\", \"state_name\": \"West Virginia\", \"type\": \"Feature\", \"geometry\": {\"type\": \"Point\", \"coordinates\": [-80.5963698, 40.0595853]}}, {\"store_id\": 3986735, \"street\": \"1 Cabela Drive\", \"city\": \"Allen\", \"state\": \"TX\", \"zip\": \"75002\", \"phone\": \"(214) 383-0502\", \"latitude\": \"33.12146\", \"longitude\": \"-96.6638665\", \"website\": \"https://stores.cabelas.com/us/tx/allen/1-cabela-drive.html\", \"brand\": \"Cabela's\", \"color\": \"#0058a0\", \"state_name\": \"Texas\", \"type\": \"Feature\", \"geometry\": {\"type\": \"Point\", \"coordinates\": [-96.6638665, 33.12146]}}, {\"store_id\": 3986721, \"street\": \"1 Cabela Way\", \"city\": \"Richfield\", \"state\": \"WI\", \"zip\": \"53076\", \"phone\": \"(262) 628-5700\", \"latitude\": \"43.2781581\", \"longitude\": \"-88.1877938\", \"website\": \"https://stores.cabelas.com/us/wi/richfield/1-cabela-way.html\", \"brand\": \"Cabela's\", \"color\": \"#0058a0\", \"state_name\": \"Wisconsin\", \"type\": \"Feature\", \"geometry\": {\"type\": \"Point\", \"coordinates\": [-88.1877938, 43.2781581]}}, {\"store_id\": 3986712, \"street\": \"100 Cabela Drive\", \"city\": \"Hamburg\", \"state\": \"PA\", \"zip\": \"19526\", \"phone\": \"(610) 929-7000\", \"latitude\": \"40.5576261\", \"longitude\": \"-76.0019511\", \"website\": \"https://stores.cabelas.com/us/pa/hamburg/100-cabela-drive.html\", \"brand\": \"Cabela's\", \"color\": \"#0058a0\", \"state_name\": \"Pennsylvania\", \"type\": \"Feature\", \"geometry\": {\"type\": \"Point\", \"coordinates\": [-76.0019511, 40.5576261]}}, {\"store_id\": 3986731, \"street\": \"100 Cabela's Blvd\", \"city\": \"Scarborough\", \"state\": \"ME\", \"zip\": \"04074\", \"phone\": \"(207) 883-7400\", \"latitude\": \"43.6030497\", \"longitude\": \"-70.3716764\", \"website\": \"https://stores.cabelas.com/us/me/scarborough/100-cabela-s-blvd.html\", \"brand\": \"Cabela's\", \"color\": \"#0058a0\", \"state_name\": \"Maine\", \"type\": \"Feature\", \"geometry\": {\"type\": \"Point\", \"coordinates\": [-70.3716764, 43.6030497]}}, {\"store_id\": 3986762, \"street\": \"1000 Cabelas Drive\", \"city\": \"Fort Mill\", \"state\": \"SC\", \"zip\": \"29708\", \"phone\": \"(980) 337-2600\", \"latitude\": \"35.0992639\", \"longitude\": \"-80.9330432\", \"website\": \"https://stores.cabelas.com/us/sc/fort-mill/1000-cabelas-drive.html\", \"brand\": \"Cabela's\", \"color\": \"#0058a0\", \"state_name\": \"South Carolina\", \"type\": \"Feature\", \"geometry\": {\"type\": \"Point\", \"coordinates\": [-80.9330432, 35.0992639]}}, {\"store_id\": 3986728, \"street\": \"101 N Cabela Way\", \"city\": \"Post Falls\", \"state\": \"ID\", \"zip\": \"83854\", \"phone\": \"(208) 777-6300\", \"latitude\": \"47.6993138\", \"longitude\": \"-117.0395559\", \"website\": \"https://stores.cabelas.com/us/id/post-falls/101-n-cabela-way.html\", \"brand\": \"Cabela's\", \"color\": \"#0058a0\", \"state_name\": \"Idaho\", \"type\": \"Feature\", \"geometry\": {\"type\": \"Point\", \"coordinates\": [-117.0395559, 47.6993138]}}, {\"store_id\": 3986747, \"street\": \"10670 Cabela Dr\", \"city\": \"Lone Tree\", \"state\": \"CO\", \"zip\": \"80124\", \"phone\": \"(303) 625-9920\", \"latitude\": \"39.5211209\", \"longitude\": \"-104.8693604\", \"website\": \"https://stores.cabelas.com/us/co/lone-tree/10670-cabela-dr.html\", \"brand\": \"Cabela's\", \"color\": \"#0058a0\", \"state_name\": \"Colorado\", \"type\": \"Feature\", \"geometry\": {\"type\": \"Point\", \"coordinates\": [-104.8693604, 39.5211209]}}, {\"store_id\": 3986710, \"street\": \"110 Cabela Blvd East\", \"city\": \"Dundee\", \"state\": \"MI\", \"zip\": \"48131\", \"phone\": \"(734) 529-4700\", \"latitude\": \"41.9644132\", \"longitude\": \"-83.6762443\", \"website\": \"https://stores.cabelas.com/us/mi/dundee/110-cabela-blvd-east.html\", \"brand\": \"Cabela's\", \"color\": \"#0058a0\", \"state_name\": \"Michigan\", \"type\": \"Feature\", \"geometry\": {\"type\": \"Point\", \"coordinates\": [-83.6762443, 41.9644132]}}, {\"store_id\": 3986753, \"street\": \"1100 Christiana Mall\", \"city\": \"Newark\", \"state\": \"DE\", \"zip\": \"19702\", \"phone\": \"(302) 266-2300\", \"latitude\": \"39.683219290127916\", \"longitude\": \"-75.65263932337984\", \"website\": \"https://stores.cabelas.com/us/de/newark/1100-christiana-mall.html\", \"brand\": \"Cabela's\", \"color\": \"#0058a0\", \"state_name\": \"Delaware\", \"type\": \"Feature\", \"geometry\": {\"type\": \"Point\", \"coordinates\": [-75.65263932337984, 39.683219290127916]}}, {\"store_id\": 3986704, \"street\": \"115 Cabela Drive\", \"city\": \"Sidney\", \"state\": \"NE\", \"zip\": \"69162\", \"phone\": \"(308) 255-7889\", \"latitude\": \"41.1146496\", \"longitude\": \"-102.9563223\", \"website\": \"https://stores.cabelas.com/us/ne/sidney/115-cabela-drive.html\", \"brand\": \"Cabela's\", \"color\": \"#0058a0\", \"state_name\": \"Nebraska\", \"type\": \"Feature\", \"geometry\": {\"type\": \"Point\", \"coordinates\": [-102.9563223, 41.1146496]}}, {\"store_id\": 3986771, \"street\": \"1200 W Memorial Rd\", \"city\": \"Oklahoma City\", \"state\": \"OK\", \"zip\": \"73114\", \"phone\": \"(405) 546-3500\", \"latitude\": \"35.605703\", \"longitude\": \"-97.5343856\", \"website\": \"https://stores.cabelas.com/us/ok/oklahoma-city/1200-w-memorial-rd.html\", \"brand\": \"Cabela's\", \"color\": \"#0058a0\", \"state_name\": \"Oklahoma\", \"type\": \"Feature\", \"geometry\": {\"type\": \"Point\", \"coordinates\": [-97.5343856, 35.605703]}}, {\"store_id\": 3986749, \"street\": \"125 Treeline Road\", \"city\": \"Kalispell\", \"state\": \"MT\", \"zip\": \"59901\", \"phone\": \"(406) 203-5200\", \"latitude\": \"48.2390837\", \"longitude\": \"-114.3332806\", \"website\": \"https://stores.cabelas.com/us/mt/kalispell/125-treeline-road.html\", \"brand\": \"Cabela's\", \"color\": \"#0058a0\", \"state_name\": \"Montana\", \"type\": \"Feature\", \"geometry\": {\"type\": \"Point\", \"coordinates\": [-114.3332806, 48.2390837]}}, {\"store_id\": 3986720, \"street\": \"12703 Westport Parkway\", \"city\": \"La Vista\", \"state\": \"NE\", \"zip\": \"68138\", \"phone\": \"(402) 861-4800\", \"latitude\": \"41.1793079\", \"longitude\": \"-96.1114093\", \"website\": \"https://stores.cabelas.com/us/ne/la-vista/12703-westport-parkway.html\", \"brand\": \"Cabela's\", \"color\": \"#0058a0\", \"state_name\": \"Nebraska\", \"type\": \"Feature\", \"geometry\": {\"type\": \"Point\", \"coordinates\": [-96.1114093, 41.1793079]}}, {\"store_id\": 3986714, \"street\": \"12901 Cabelas Drive\", \"city\": \"Fort Worth\", \"state\": \"TX\", \"zip\": \"76177\", \"phone\": \"(817) 337-2400\", \"latitude\": \"32.9610694\", \"longitude\": \"-97.3081788\", \"website\": \"https://stores.cabelas.com/us/tx/fort-worth/12901-cabelas-drive.html\", \"brand\": \"Cabela's\", \"color\": \"#0058a0\", \"state_name\": \"Texas\", \"type\": \"Feature\", \"geometry\": {\"type\": \"Point\", \"coordinates\": [-97.3081788, 32.9610694]}}, {\"store_id\": 3986768, \"street\": \"13725 Cabela Parkway\", \"city\": \"Noblesville\", \"state\": \"IN\", \"zip\": \"46060\", \"phone\": \"(317) 565-6400\", \"latitude\": \"39.9888888\", \"longitude\": \"-85.9368389\", \"website\": \"https://stores.cabelas.com/us/in/noblesville/13725-cabela-parkway.html\", \"brand\": \"Cabela's\", \"color\": \"#0058a0\", \"state_name\": \"Indiana\", \"type\": \"Feature\", \"geometry\": {\"type\": \"Point\", \"coordinates\": [-85.9368389, 39.9888888]}}, {\"store_id\": 3986740, \"street\": \"1400 E Washington Ave\", \"city\": \"Union Gap\", \"state\": \"WA\", \"zip\": \"98903\", \"phone\": \"(509) 941-2100\", \"latitude\": \"46.5689479\", \"longitude\": \"-120.4821743\", \"website\": \"https://stores.cabelas.com/us/wa/union-gap/1400-e-washington-ave.html\", \"brand\": \"Cabela's\", \"color\": \"#0058a0\", \"state_name\": \"Washington\", \"type\": \"Feature\", \"geometry\": {\"type\": \"Point\", \"coordinates\": [-120.4821743, 46.5689479]}}, {\"store_id\": 3986746, \"street\": \"14050 Lincoln Street\", \"city\": \"Thornton\", \"state\": \"CO\", \"zip\": \"80023\", \"phone\": \"(303) 625-6100\", \"latitude\": \"39.951649\", \"longitude\": \"-104.9856052\", \"website\": \"https://stores.cabelas.com/us/co/thornton/14050-lincoln-street.html\", \"brand\": \"Cabela's\", \"color\": \"#0058a0\", \"state_name\": \"Colorado\", \"type\": \"Feature\", \"geometry\": {\"type\": \"Point\", \"coordinates\": [-104.9856052, 39.951649]}}, {\"store_id\": 3986745, \"street\": \"1499 Lombardi Avenue\", \"city\": \"Ashwaubenon\", \"state\": \"WI\", \"zip\": \"54304\", \"phone\": \"(920) 264-0140\", \"latitude\": \"44.5071607\", \"longitude\": \"-88.080441\", \"website\": \"https://stores.cabelas.com/us/wi/ashwaubenon/1499-lombardi-avenue.html\", \"brand\": \"Cabela's\", \"color\": \"#0058a0\", \"state_name\": \"Wisconsin\", \"type\": \"Feature\", \"geometry\": {\"type\": \"Point\", \"coordinates\": [-88.080441, 44.5071607]}}, {\"store_id\": 3986773, \"street\": \"1510 Conservation Way\", \"city\": \"Lexington\", \"state\": \"KY\", \"zip\": \"40509\", \"phone\": \"(859) 286-5300\", \"latitude\": \"38.0257871\", \"longitude\": \"-84.4116534\", \"website\": \"https://stores.cabelas.com/us/ky/lexington/1510-conservation-way.html\", \"brand\": \"Cabela's\", \"color\": \"#0058a0\", \"state_name\": \"Kentucky\", \"type\": \"Feature\", \"geometry\": {\"type\": \"Point\", \"coordinates\": [-84.4116534, 38.0257871]}}, {\"store_id\": 3986752, \"street\": \"155 W 104th Avenue\", \"city\": \"Anchorage\", \"state\": \"AK\", \"zip\": \"99515\", \"phone\": \"(907) 341-3400\", \"latitude\": \"61.1274353\", \"longitude\": \"-149.880339\", \"website\": \"https://stores.cabelas.com/us/ak/anchorage/155-w-104th-avenue.html\", \"brand\": \"Cabela's\", \"color\": \"#0058a0\", \"state_name\": \"Alaska\", \"type\": \"Feature\", \"geometry\": {\"type\": \"Point\", \"coordinates\": [-149.880339, 61.1274353]}}, {\"store_id\": 3986715, \"street\": \"15570 South Interstate 35 Frontage Road\", \"city\": \"Buda\", \"state\": \"TX\", \"zip\": \"78610\", \"phone\": \"(512) 295-1100\", \"latitude\": \"30.082528\", \"longitude\": \"-97.8262597\", \"website\": \"https://stores.cabelas.com/us/tx/buda/15570-south-interstate-35-frontage-road.html\", \"brand\": \"Cabela's\", \"color\": \"#0058a0\", \"state_name\": \"Texas\", \"type\": \"Feature\", \"geometry\": {\"type\": \"Point\", \"coordinates\": [-97.8262597, 30.082528]}}, {\"store_id\": 3986729, \"street\": \"1600 Gateway Boulevard Northeast\", \"city\": \"Lacey\", \"state\": \"WA\", \"zip\": \"98516\", \"phone\": \"(360) 252-3500\", \"latitude\": \"47.0620618\", \"longitude\": \"-122.7847883\", \"website\": \"https://stores.cabelas.com/us/wa/lacey/1600-gateway-boulevard-northeast.html\", \"brand\": \"Cabela's\", \"color\": \"#0058a0\", \"state_name\": \"Washington\", \"type\": \"Feature\", \"geometry\": {\"type\": \"Point\", \"coordinates\": [-122.7847883, 47.0620618]}}, {\"store_id\": 3986742, \"street\": \"1650 Gemini Pl\", \"city\": \"Columbus\", \"state\": \"OH\", \"zip\": \"43240\", \"phone\": \"(614) 702-2300\", \"latitude\": \"40.1493035\", \"longitude\": \"-82.9730806\", \"website\": \"https://stores.cabelas.com/us/oh/columbus/1650-gemini-pl.html\", \"brand\": \"Cabela's\", \"color\": \"#0058a0\", \"state_name\": \"Ohio\", \"type\": \"Feature\", \"geometry\": {\"type\": \"Point\", \"coordinates\": [-82.9730806, 40.1493035]}}, {\"store_id\": 3986739, \"street\": \"200 Cross Terrace Blvd\", \"city\": \"Charleston\", \"state\": \"WV\", \"zip\": \"25309\", \"phone\": \"(304) 400-6000\", \"latitude\": \"38.3145617\", \"longitude\": \"-81.7167089\", \"website\": \"https://stores.cabelas.com/us/wv/charleston/200-cross-terrace-blvd.html\", \"brand\": \"Cabela's\", \"color\": \"#0058a0\", \"state_name\": \"West Virginia\", \"type\": \"Feature\", \"geometry\": {\"type\": \"Point\", \"coordinates\": [-81.7167089, 38.3145617]}}, {\"store_id\": 3986758, \"street\": \"2003 Walden Ave\", \"city\": \"Cheektowaga\", \"state\": \"NY\", \"zip\": \"14225\", \"phone\": \"(716) 608-4770\", \"latitude\": \"42.9054488\", \"longitude\": \"-78.7630389\", \"website\": \"https://stores.cabelas.com/us/ny/cheektowaga/2003-walden-ave.html\", \"brand\": \"Cabela's\", \"color\": \"#0058a0\", \"state_name\": \"New York\", \"type\": \"Feature\", \"geometry\": {\"type\": \"Point\", \"coordinates\": [-78.7630389, 42.9054488]}}, {\"store_id\": 3986717, \"street\": \"20200 Rogers Drive\", \"city\": \"Rogers\", \"state\": \"MN\", \"zip\": \"55374\", \"phone\": \"(763) 493-8600\", \"latitude\": \"45.187655\", \"longitude\": \"-93.5365599\", \"website\": \"https://stores.cabelas.com/us/mn/rogers/20200-rogers-drive.html\", \"brand\": \"Cabela's\", \"color\": \"#0058a0\", \"state_name\": \"Minnesota\", \"type\": \"Feature\", \"geometry\": {\"type\": \"Point\", \"coordinates\": [-93.5365599, 45.187655]}}, {\"store_id\": 3986708, \"street\": \"210 Demers Ave NW\", \"city\": \"East Grand Forks\", \"state\": \"MN\", \"zip\": \"56721\", \"phone\": \"(218) 773-0282\", \"latitude\": \"47.9282158\", \"longitude\": \"-97.0255384\", \"website\": \"https://stores.cabelas.com/us/mn/east-grand-forks/210-demers-ave-nw.html\", \"brand\": \"Cabela's\", \"color\": \"#0058a0\", \"state_name\": \"Minnesota\", \"type\": \"Feature\", \"geometry\": {\"type\": \"Point\", \"coordinates\": [-97.0255384, 47.9282158]}}, {\"store_id\": 3986719, \"street\": \"2200 W Cabela's Parkway\", \"city\": \"Gonzales\", \"state\": \"LA\", \"zip\": \"70737\", \"phone\": \"(225) 743-3400\", \"latitude\": \"30.2055072\", \"longitude\": \"-90.9462143\", \"website\": \"https://stores.cabelas.com/us/la/gonzales/2200-w-cabela-s-parkway.html\", \"brand\": \"Cabela's\", \"color\": \"#0058a0\", \"state_name\": \"Louisiana\", \"type\": \"Feature\", \"geometry\": {\"type\": \"Point\", \"coordinates\": [-90.9462143, 30.2055072]}}, {\"store_id\": 3986733, \"street\": \"2424 US Hwy 6\", \"city\": \"Grand Junction\", \"state\": \"CO\", \"zip\": \"81505\", \"phone\": \"(970) 683-5000\", \"latitude\": \"39.0909214\", \"longitude\": \"-108.602419\", \"website\": \"https://stores.cabelas.com/us/co/grand-junction/2424-us-hwy-6.html\", \"brand\": \"Cabela's\", \"color\": \"#0058a0\", \"state_name\": \"Colorado\", \"type\": \"Feature\", \"geometry\": {\"type\": \"Point\", \"coordinates\": [-108.602419, 39.0909214]}}, {\"store_id\": 3986736, \"street\": \"2427 N Greenwich Rd\", \"city\": \"Wichita\", \"state\": \"KS\", \"zip\": \"67226\", \"phone\": \"(316) 854-3130\", \"latitude\": \"37.7272897\", \"longitude\": \"-97.2120552\", \"website\": \"https://stores.cabelas.com/us/ks/wichita/2427-n-greenwich-rd.html\", \"brand\": \"Cabela's\", \"color\": \"#0058a0\", \"state_name\": \"Kansas\", \"type\": \"Feature\", \"geometry\": {\"type\": \"Point\", \"coordinates\": [-97.2120552, 37.7272897]}}, {\"store_id\": 3986716, \"street\": \"2502 West Cabela's Boulevard\", \"city\": \"Lehi\", \"state\": \"UT\", \"zip\": \"84043\", \"phone\": \"(801) 766-2500\", \"latitude\": \"40.4376889\", \"longitude\": \"-111.8888703\", \"website\": \"https://stores.cabelas.com/us/ut/lehi/2502-west-cabela-s-boulevard.html\", \"brand\": \"Cabela's\", \"color\": \"#0058a0\", \"state_name\": \"Utah\", \"type\": \"Feature\", \"geometry\": {\"type\": \"Point\", \"coordinates\": [-111.8888703, 40.4376889]}}, {\"store_id\": 3986748, \"street\": \"2700 Marketplace Drive\", \"city\": \"Waco\", \"state\": \"TX\", \"zip\": \"76711\", \"phone\": \"(254) 870-4300\", \"latitude\": \"31.499156\", \"longitude\": \"-97.1522678\", \"website\": \"https://stores.cabelas.com/us/tx/waco/2700-marketplace-drive.html\", \"brand\": \"Cabela's\", \"color\": \"#0058a0\", \"state_name\": \"Texas\", \"type\": \"Feature\", \"geometry\": {\"type\": \"Point\", \"coordinates\": [-97.1522678, 31.499156]}}, {\"store_id\": 3986734, \"street\": \"2800 Gateway Street\", \"city\": \"Springfield\", \"state\": \"OR\", \"zip\": \"97477\", \"phone\": \"(541) 349-5760\", \"latitude\": \"44.0731093\", \"longitude\": \"-123.0463667\", \"website\": \"https://stores.cabelas.com/us/or/springfield/2800-gateway-street.html\", \"brand\": \"Cabela's\", \"color\": \"#0058a0\", \"state_name\": \"Oregon\", \"type\": \"Feature\", \"geometry\": {\"type\": \"Point\", \"coordinates\": [-123.0463667, 44.0731093]}}, {\"store_id\": 3986743, \"street\": \"3000 44th Street Southwest\", \"city\": \"Grandville\", \"state\": \"MI\", \"zip\": \"49418\", \"phone\": \"(616) 682-6700\", \"latitude\": \"42.8826177\", \"longitude\": \"-85.7383977\", \"website\": \"https://stores.cabelas.com/us/mi/grandville/3000-44th-street-southwest.html\", \"brand\": \"Cabela's\", \"color\": \"#0058a0\", \"state_name\": \"Michigan\", \"type\": \"Feature\", \"geometry\": {\"type\": \"Point\", \"coordinates\": [-85.7383977, 42.8826177]}}, {\"store_id\": 3986756, \"street\": \"3030 W Loop 289\", \"city\": \"Lubbock\", \"state\": \"TX\", \"zip\": \"79407\", \"phone\": \"(806) 472-4300\", \"latitude\": \"33.5660004\", \"longitude\": \"-101.9474236\", \"website\": \"https://stores.cabelas.com/us/tx/lubbock/3030-w-loop-289.html\", \"brand\": \"Cabela's\", \"color\": \"#0058a0\", \"state_name\": \"Texas\", \"type\": \"Feature\", \"geometry\": {\"type\": \"Point\", \"coordinates\": [-101.9474236, 33.5660004]}}, {\"store_id\": 3986730, \"street\": \"3231 E Mall Dr\", \"city\": \"Rapid City\", \"state\": \"SD\", \"zip\": \"57701\", \"phone\": \"(605) 388-5600\", \"latitude\": \"44.10066479964673\", \"longitude\": \"-103.16286711031353\", \"website\": \"https://stores.cabelas.com/us/sd/rapid-city/3231-e-mall-dr.html\", \"brand\": \"Cabela's\", \"color\": \"#0058a0\", \"state_name\": \"South Dakota\", \"type\": \"Feature\", \"geometry\": {\"type\": \"Point\", \"coordinates\": [-103.16286711031353, 44.10066479964673]}}, {\"store_id\": 3986707, \"street\": \"33901 St Hwy 35\", \"city\": \"Prairie du Chien\", \"state\": \"WI\", \"zip\": \"53821\", \"phone\": \"(608) 326-5600\", \"latitude\": \"43.0725833\", \"longitude\": \"-91.1376876\", \"website\": \"https://stores.cabelas.com/us/wi/prairie-du-chien/33901-st-hwy-35.html\", \"brand\": \"Cabela's\", \"color\": \"#0058a0\", \"state_name\": \"Wisconsin\", \"type\": \"Feature\", \"geometry\": {\"type\": \"Point\", \"coordinates\": [-91.1376876, 43.0725833]}}, {\"store_id\": 3986761, \"street\": \"3395 Nell O'Bryan Court\", \"city\": \"Bowling Green\", \"state\": \"KY\", \"zip\": \"42103\", \"phone\": \"(270) 936-8300\", \"latitude\": \"36.9381324\", \"longitude\": \"-86.4174512\", \"website\": \"https://stores.cabelas.com/us/ky/bowling-green/3395-nell-o-bryan-court.html\", \"brand\": \"Cabela's\", \"color\": \"#0058a0\", \"state_name\": \"Kentucky\", \"type\": \"Feature\", \"geometry\": {\"type\": \"Point\", \"coordinates\": [-86.4174512, 36.9381324]}}, {\"store_id\": 3986777, \"street\": \"35685 Chester Road\", \"city\": \"Avon\", \"state\": \"OH\", \"zip\": \"44011\", \"phone\": \"(440) 723-5600\", \"latitude\": \"41.465467\", \"longitude\": \"-82.0129968\", \"website\": \"https://stores.cabelas.com/us/oh/avon/35685-chester-road.html\", \"brand\": \"Cabela's\", \"color\": \"#0058a0\", \"state_name\": \"Ohio\", \"type\": \"Feature\", \"geometry\": {\"type\": \"Point\", \"coordinates\": [-82.0129968, 41.465467]}}, {\"store_id\": 3986705, \"street\": \"3600 US 30\", \"city\": \"Kearney\", \"state\": \"NE\", \"zip\": \"68847\", \"phone\": \"(308) 234-3933\", \"latitude\": \"40.7076493\", \"longitude\": \"-99.0334422\", \"website\": \"https://stores.cabelas.com/us/ne/kearney/3600-us-30.html\", \"brand\": \"Cabela's\", \"color\": \"#0058a0\", \"state_name\": \"Nebraska\", \"type\": \"Feature\", \"geometry\": {\"type\": \"Point\", \"coordinates\": [-99.0334422, 40.7076493]}}, {\"store_id\": 3986755, \"street\": \"3650 Brooks Street\", \"city\": \"Missoula\", \"state\": \"MT\", \"zip\": \"59801\", \"phone\": \"(406) 203-5400\", \"latitude\": \"46.8357105\", \"longitude\": \"-114.0373068\", \"website\": \"https://stores.cabelas.com/us/mt/missoula/3650-brooks-street.html\", \"brand\": \"Cabela's\", \"color\": \"#0058a0\", \"state_name\": \"Montana\", \"type\": \"Feature\", \"geometry\": {\"type\": \"Point\", \"coordinates\": [-114.0373068, 46.8357105]}}, {\"store_id\": 3986766, \"street\": \"3693 South 25th East\", \"city\": \"Ammon\", \"state\": \"ID\", \"zip\": \"83406\", \"phone\": \"(208) 932-2900\", \"latitude\": \"43.464545\", \"longitude\": \"-111.981152\", \"website\": \"https://stores.cabelas.com/us/id/ammon/3693-south-25th-east.html\", \"brand\": \"Cabela's\", \"color\": \"#0058a0\", \"state_name\": \"Idaho\", \"type\": \"Feature\", \"geometry\": {\"type\": \"Point\", \"coordinates\": [-111.981152, 43.464545]}}, {\"store_id\": 3986706, \"street\": \"3900 Cabela Drive\", \"city\": \"Owatonna\", \"state\": \"MN\", \"zip\": \"55060\", \"phone\": \"(507) 451-4545\", \"latitude\": \"44.1346596\", \"longitude\": \"-93.2505138\", \"website\": \"https://stores.cabelas.com/us/mn/owatonna/3900-cabela-drive.html\", \"brand\": \"Cabela's\", \"color\": \"#0058a0\", \"state_name\": \"Minnesota\", \"type\": \"Feature\", \"geometry\": {\"type\": \"Point\", \"coordinates\": [-93.2505138, 44.1346596]}}, {\"store_id\": 3986776, \"street\": \"391 N Cabela Dr\", \"city\": \"Farmington\", \"state\": \"UT\", \"zip\": \"84025\", \"phone\": \"(801) 939-3700\", \"latitude\": \"40.9864584\", \"longitude\": \"-111.9120169\", \"website\": \"https://stores.cabelas.com/us/ut/farmington/391-n-cabela-dr.html\", \"brand\": \"Cabela's\", \"color\": \"#0058a0\", \"state_name\": \"Utah\", \"type\": \"Feature\", \"geometry\": {\"type\": \"Point\", \"coordinates\": [-111.9120169, 40.9864584]}}, {\"store_id\": 3986763, \"street\": \"44 Highland Common\", \"city\": \"Hudson\", \"state\": \"MA\", \"zip\": \"01749\", \"phone\": \"(978) 212-6200\", \"latitude\": \"42.3917989\", \"longitude\": \"-71.5969904\", \"website\": \"https://stores.cabelas.com/us/ma/hudson/44-highland-common.html\", \"brand\": \"Cabela's\", \"color\": \"#0058a0\", \"state_name\": \"Massachusetts\", \"type\": \"Feature\", \"geometry\": {\"type\": \"Point\", \"coordinates\": [-71.5969904, 42.3917989]}}, {\"store_id\": 3986732, \"street\": \"4550 King Avenue East\", \"city\": \"Billings\", \"state\": \"MT\", \"zip\": \"59101\", \"phone\": \"(406) 373-7300\", \"latitude\": \"45.7530621\", \"longitude\": \"-108.5291599\", \"website\": \"https://stores.cabelas.com/us/mt/billings/4550-king-avenue-east.html\", \"brand\": \"Cabela's\", \"color\": \"#0058a0\", \"state_name\": \"Montana\", \"type\": \"Feature\", \"geometry\": {\"type\": \"Point\", \"coordinates\": [-108.5291599, 45.7530621]}}, {\"store_id\": 3986726, \"street\": \"475 E Hartford Blvd\", \"city\": \"East Hartford\", \"state\": \"CT\", \"zip\": \"06118\", \"phone\": \"(860) 290-6200\", \"latitude\": \"41.7555743\", \"longitude\": \"-72.6222214\", \"website\": \"https://stores.cabelas.com/us/ct/east-hartford/475-e-hartford-blvd.html\", \"brand\": \"Cabela's\", \"color\": \"#0058a0\", \"state_name\": \"Connecticut\", \"type\": \"Feature\", \"geometry\": {\"type\": \"Point\", \"coordinates\": [-72.6222214, 41.7555743]}}, {\"store_id\": 3986774, \"street\": \"5000 Cabela Drive\", \"city\": \"Henrico\", \"state\": \"VA\", \"zip\": \"23233\", \"phone\": \"(804) 340-7300\", \"latitude\": \"37.6643021\", \"longitude\": \"-77.6376755\", \"website\": \"https://stores.cabelas.com/us/va/henrico/5000-cabela-drive.html\", \"brand\": \"Cabela's\", \"color\": \"#0058a0\", \"state_name\": \"Virginia\", \"type\": \"Feature\", \"geometry\": {\"type\": \"Point\", \"coordinates\": [-77.6376755, 37.6643021]}}, {\"store_id\": 3986744, \"street\": \"5100 Norton Healthcare Blvd\", \"city\": \"Louisville\", \"state\": \"KY\", \"zip\": \"40241\", \"phone\": \"(502) 365-9020\", \"latitude\": \"38.3134101\", \"longitude\": \"-85.5704889\", \"website\": \"https://stores.cabelas.com/us/ky/louisville/5100-norton-healthcare-blvd.html\", \"brand\": \"Cabela's\", \"color\": \"#0058a0\", \"state_name\": \"Kentucky\", \"type\": \"Feature\", \"geometry\": {\"type\": \"Point\", \"coordinates\": [-85.5704889, 38.3134101]}}, {\"store_id\": 8278852, \"street\": \"5151 Lang Ave NE\", \"city\": \"Albuquerque\", \"state\": \"NM\", \"zip\": \"87109\", \"phone\": \"(505) 336-2700\", \"latitude\": \"35.1732671\", \"longitude\": \"-106.5863937\", \"website\": \"https://stores.cabelas.com/us/nm/albuquerque/5151-lang-ave-ne.html\", \"brand\": \"Cabela's\", \"color\": \"#0058a0\", \"state_name\": \"New Mexico\", \"type\": \"Feature\", \"geometry\": {\"type\": \"Point\", \"coordinates\": [-106.5863937, 35.1732671]}}, {\"store_id\": 3986741, \"street\": \"5202 Bay Road\", \"city\": \"Saginaw\", \"state\": \"MI\", \"zip\": \"48604\", \"phone\": \"(989) 321-5700\", \"latitude\": \"43.481432\", \"longitude\": \"-83.9742307\", \"website\": \"https://stores.cabelas.com/us/mi/saginaw/5202-bay-road.html\", \"brand\": \"Cabela's\", \"color\": \"#0058a0\", \"state_name\": \"Michigan\", \"type\": \"Feature\", \"geometry\": {\"type\": \"Point\", \"coordinates\": [-83.9742307, 43.481432]}}, {\"store_id\": 3986724, \"street\": \"5225 Prairie Stone Pkwy\", \"city\": \"Hoffman Estates\", \"state\": \"IL\", \"zip\": \"60192\", \"phone\": \"(847) 645-0400\", \"latitude\": \"42.0725794\", \"longitude\": \"-88.2051852\", \"website\": \"https://stores.cabelas.com/us/il/hoffman-estates/5225-prairie-stone-pkwy.html\", \"brand\": \"Cabela's\", \"color\": \"#0058a0\", \"state_name\": \"Illinois\", \"type\": \"Feature\", \"geometry\": {\"type\": \"Point\", \"coordinates\": [-88.2051852, 42.0725794]}}, {\"store_id\": 4489732, \"street\": \"5291 Wellington Branch Dr.\", \"city\": \"Gainesville\", \"state\": \"VA\", \"zip\": \"20155\", \"phone\": \"(571) 222-9000\", \"latitude\": \"38.7970129\", \"longitude\": \"-77.5993031\", \"website\": \"https://stores.cabelas.com/us/va/gainesville/5291-wellington-branch-dr.html\", \"brand\": \"Cabela's\", \"color\": \"#0058a0\", \"state_name\": \"Virginia\", \"type\": \"Feature\", \"geometry\": {\"type\": \"Point\", \"coordinates\": [-77.5993031, 38.7970129]}}, {\"store_id\": 3986775, \"street\": \"5500 Cornerstone North Blvd\", \"city\": \"Centerville\", \"state\": \"OH\", \"zip\": \"45440\", \"phone\": \"(937) 949-2000\", \"latitude\": \"39.6618953\", \"longitude\": \"-84.1011233\", \"website\": \"https://stores.cabelas.com/us/oh/centerville/5500-cornerstone-north-blvd.html\", \"brand\": \"Cabela's\", \"color\": \"#0058a0\", \"state_name\": \"Ohio\", \"type\": \"Feature\", \"geometry\": {\"type\": \"Point\", \"coordinates\": [-84.1011233, 39.6618953]}}, {\"store_id\": 3986723, \"street\": \"5555 St Louis Mills Boulevard\", \"city\": \"Hazelwood\", \"state\": \"MO\", \"zip\": \"63042\", \"phone\": \"(314) 225-0100\", \"latitude\": \"38.7871306\", \"longitude\": \"-90.4147936\", \"website\": \"https://stores.cabelas.com/us/mo/hazelwood/5555-st-louis-mills-boulevard.html\", \"brand\": \"Cabela's\", \"color\": \"#0058a0\", \"state_name\": \"Missouri\", \"type\": \"Feature\", \"geometry\": {\"type\": \"Point\", \"coordinates\": [-90.4147936, 38.7871306]}}, {\"store_id\": 3986709, \"street\": \"601 Cabela Drive\", \"city\": \"Mitchell\", \"state\": \"SD\", \"zip\": \"57301\", \"phone\": \"(605) 996-0337\", \"latitude\": \"43.689808\", \"longitude\": \"-98.017678\", \"website\": \"https://stores.cabelas.com/us/sd/mitchell/601-cabela-drive.html\", \"brand\": \"Cabela's\", \"color\": \"#0058a0\", \"state_name\": \"South Dakota\", \"type\": \"Feature\", \"geometry\": {\"type\": \"Point\", \"coordinates\": [-98.017678, 43.689808]}}, {\"store_id\": 8247301, \"street\": \"6450-10 Desert Blvd. North\", \"city\": \"El Paso\", \"state\": \"TX\", \"zip\": \"79912\", \"phone\": \"(915) 263-8100\", \"latitude\": \"31.8883395\", \"longitude\": \"-106.5794581\", \"website\": \"https://stores.cabelas.com/us/tx/el-paso/6450-10-desert-blvd--north.html\", \"brand\": \"Cabela's\", \"color\": \"#0058a0\", \"state_name\": \"Texas\", \"type\": \"Feature\", \"geometry\": {\"type\": \"Point\", \"coordinates\": [-106.5794581, 31.8883395]}}, {\"store_id\": 3986769, \"street\": \"7090 Cabela Drive NW\", \"city\": \"Huntsville\", \"state\": \"AL\", \"zip\": \"35806\", \"phone\": \"(256) 517-7200\", \"latitude\": \"34.7070819\", \"longitude\": \"-86.6830088\", \"website\": \"https://stores.cabelas.com/us/al/huntsville/7090-cabela-drive-nw.html\", \"brand\": \"Cabela's\", \"color\": \"#0058a0\", \"state_name\": \"Alabama\", \"type\": \"Feature\", \"geometry\": {\"type\": \"Point\", \"coordinates\": [-86.6830088, 34.7070819]}}, {\"store_id\": 3986759, \"street\": \"7555 Southwest Nyberg Street\", \"city\": \"Tualatin\", \"state\": \"OR\", \"zip\": \"97062\", \"phone\": \"(503) 822-2000\", \"latitude\": \"45.384515\", \"longitude\": \"-122.7545712\", \"website\": \"https://stores.cabelas.com/us/or/tualatin/7555-southwest-nyberg-street.html\", \"brand\": \"Cabela's\", \"color\": \"#0058a0\", \"state_name\": \"Oregon\", \"type\": \"Feature\", \"geometry\": {\"type\": \"Point\", \"coordinates\": [-122.7545712, 45.384515]}}, {\"store_id\": 3986727, \"street\": \"7700 Cabela Dr\", \"city\": \"Hammond\", \"state\": \"IN\", \"zip\": \"46324\", \"phone\": \"(219) 845-9040\", \"latitude\": \"41.5727799\", \"longitude\": \"-87.4826518\", \"website\": \"https://stores.cabelas.com/us/in/hammond/7700-cabela-dr.html\", \"brand\": \"Cabela's\", \"color\": \"#0058a0\", \"state_name\": \"Indiana\", \"type\": \"Feature\", \"geometry\": {\"type\": \"Point\", \"coordinates\": [-87.4826518, 41.5727799]}}, {\"store_id\": 3986722, \"street\": \"8109 West Franklin Road\", \"city\": \"Boise\", \"state\": \"ID\", \"zip\": \"83709\", \"phone\": \"(208) 672-7900\", \"latitude\": \"43.6032515\", \"longitude\": \"-116.2831622\", \"website\": \"https://stores.cabelas.com/us/id/boise/8109-west-franklin-road.html\", \"brand\": \"Cabela's\", \"color\": \"#0058a0\", \"state_name\": \"Idaho\", \"type\": \"Feature\", \"geometry\": {\"type\": \"Point\", \"coordinates\": [-116.2831622, 43.6032515]}}, {\"store_id\": 3986754, \"street\": \"8400 Hudson Road\", \"city\": \"Woodbury\", \"state\": \"MN\", \"zip\": \"55125\", \"phone\": \"(612) 255-0000\", \"latitude\": \"44.9462631\", \"longitude\": \"-92.9362739\", \"website\": \"https://stores.cabelas.com/us/mn/woodbury/8400-hudson-road.html\", \"brand\": \"Cabela's\", \"color\": \"#0058a0\", \"state_name\": \"Minnesota\", \"type\": \"Feature\", \"geometry\": {\"type\": \"Point\", \"coordinates\": [-92.9362739, 44.9462631]}}, {\"store_id\": 3986725, \"street\": \"8650 Boomtown Garson Road\", \"city\": \"Verdi\", \"state\": \"NV\", \"zip\": \"89439\", \"phone\": \"(775) 829-4100\", \"latitude\": \"39.513096\", \"longitude\": \"-119.9686998\", \"website\": \"https://stores.cabelas.com/us/nv/verdi/8650-boomtown-garson-road.html\", \"brand\": \"Cabela's\", \"color\": \"#0058a0\", \"state_name\": \"Nevada\", \"type\": \"Feature\", \"geometry\": {\"type\": \"Point\", \"coordinates\": [-119.9686998, 39.513096]}}, {\"store_id\": 3986737, \"street\": \"9810 Quil Ceda Boulevard\", \"city\": \"Tulalip\", \"state\": \"WA\", \"zip\": \"98271\", \"phone\": \"(360) 474-4880\", \"latitude\": \"48.0843277\", \"longitude\": \"-122.1871295\", \"website\": \"https://stores.cabelas.com/us/wa/tulalip/9810-quil-ceda-boulevard.html\", \"brand\": \"Cabela's\", \"color\": \"#0058a0\", \"state_name\": \"Washington\", \"type\": \"Feature\", \"geometry\": {\"type\": \"Point\", \"coordinates\": [-122.1871295, 48.0843277]}}]}}, {\"mode\": \"vega-lite\"});\n",
       "</script>"
      ],
      "text/plain": [
       "alt.LayerChart(...)"
      ]
     },
     "execution_count": 23,
     "metadata": {},
     "output_type": "execute_result"
    }
   ],
   "source": [
    "point_map"
   ]
  },
  {
   "cell_type": "markdown",
   "id": "0a1fbe27-c0ed-4536-822f-ff6d64d9a78a",
   "metadata": {},
   "source": [
    "#### Location proportional symbols map"
   ]
  },
  {
   "cell_type": "code",
   "execution_count": 24,
   "id": "6cdad978-98db-4088-9286-662c92824fd5",
   "metadata": {},
   "outputs": [
    {
     "data": {
      "text/html": [
       "\n",
       "<style>\n",
       "  #altair-viz-cd551151b7454ff6b960e804e248fe0a.vega-embed {\n",
       "    width: 100%;\n",
       "    display: flex;\n",
       "  }\n",
       "\n",
       "  #altair-viz-cd551151b7454ff6b960e804e248fe0a.vega-embed details,\n",
       "  #altair-viz-cd551151b7454ff6b960e804e248fe0a.vega-embed details summary {\n",
       "    position: relative;\n",
       "  }\n",
       "</style>\n",
       "<div id=\"altair-viz-cd551151b7454ff6b960e804e248fe0a\"></div>\n",
       "<script type=\"text/javascript\">\n",
       "  var VEGA_DEBUG = (typeof VEGA_DEBUG == \"undefined\") ? {} : VEGA_DEBUG;\n",
       "  (function(spec, embedOpt){\n",
       "    let outputDiv = document.currentScript.previousElementSibling;\n",
       "    if (outputDiv.id !== \"altair-viz-cd551151b7454ff6b960e804e248fe0a\") {\n",
       "      outputDiv = document.getElementById(\"altair-viz-cd551151b7454ff6b960e804e248fe0a\");\n",
       "    }\n",
       "    const paths = {\n",
       "      \"vega\": \"https://cdn.jsdelivr.net/npm/vega@5?noext\",\n",
       "      \"vega-lib\": \"https://cdn.jsdelivr.net/npm/vega-lib?noext\",\n",
       "      \"vega-lite\": \"https://cdn.jsdelivr.net/npm/vega-lite@5.16.3?noext\",\n",
       "      \"vega-embed\": \"https://cdn.jsdelivr.net/npm/vega-embed@6?noext\",\n",
       "    };\n",
       "\n",
       "    function maybeLoadScript(lib, version) {\n",
       "      var key = `${lib.replace(\"-\", \"\")}_version`;\n",
       "      return (VEGA_DEBUG[key] == version) ?\n",
       "        Promise.resolve(paths[lib]) :\n",
       "        new Promise(function(resolve, reject) {\n",
       "          var s = document.createElement('script');\n",
       "          document.getElementsByTagName(\"head\")[0].appendChild(s);\n",
       "          s.async = true;\n",
       "          s.onload = () => {\n",
       "            VEGA_DEBUG[key] = version;\n",
       "            return resolve(paths[lib]);\n",
       "          };\n",
       "          s.onerror = () => reject(`Error loading script: ${paths[lib]}`);\n",
       "          s.src = paths[lib];\n",
       "        });\n",
       "    }\n",
       "\n",
       "    function showError(err) {\n",
       "      outputDiv.innerHTML = `<div class=\"error\" style=\"color:red;\">${err}</div>`;\n",
       "      throw err;\n",
       "    }\n",
       "\n",
       "    function displayChart(vegaEmbed) {\n",
       "      vegaEmbed(outputDiv, spec, embedOpt)\n",
       "        .catch(err => showError(`Javascript Error: ${err.message}<br>This usually means there's a typo in your chart specification. See the javascript console for the full traceback.`));\n",
       "    }\n",
       "\n",
       "    if(typeof define === \"function\" && define.amd) {\n",
       "      requirejs.config({paths});\n",
       "      require([\"vega-embed\"], displayChart, err => showError(`Error loading script: ${err.message}`));\n",
       "    } else {\n",
       "      maybeLoadScript(\"vega\", \"5\")\n",
       "        .then(() => maybeLoadScript(\"vega-lite\", \"5.16.3\"))\n",
       "        .then(() => maybeLoadScript(\"vega-embed\", \"6\"))\n",
       "        .catch(showError)\n",
       "        .then(() => displayChart(vegaEmbed));\n",
       "    }\n",
       "  })({\"config\": {\"view\": {\"continuousWidth\": 300, \"continuousHeight\": 300, \"stroke\": null}}, \"layer\": [{\"data\": {\"url\": \"https://cdn.jsdelivr.net/npm/vega-datasets@v1.29.0/data/us-10m.json\", \"format\": {\"feature\": \"states\", \"type\": \"topojson\"}}, \"mark\": {\"type\": \"geoshape\", \"fill\": \"#e9e9e9\", \"stroke\": \"white\"}, \"projection\": {\"type\": \"albersUsa\"}, \"title\": \"Bass Pro Shops/Cabela's locations\"}, {\"data\": {\"name\": \"data-1385db5b33a7675384c47d8d5bea8d48\"}, \"mark\": {\"type\": \"circle\"}, \"encoding\": {\"color\": {\"value\": \"#1F8500\"}, \"latitude\": {\"field\": \"latitude\", \"type\": \"quantitative\"}, \"longitude\": {\"field\": \"longitude\", \"type\": \"quantitative\"}, \"size\": {\"field\": \"count\", \"title\": \"Count by state\", \"type\": \"quantitative\"}, \"tooltip\": [{\"field\": \"state\", \"type\": \"nominal\"}, {\"field\": \"count\", \"type\": \"quantitative\"}]}, \"title\": \"Number of Bass Pro Shops/Cabela's in US, by average lon/lat of locations\", \"transform\": [{\"aggregate\": [{\"op\": \"mean\", \"field\": \"latitude\", \"as\": \"latitude\"}, {\"op\": \"mean\", \"field\": \"longitude\", \"as\": \"longitude\"}, {\"op\": \"count\", \"as\": \"count\"}], \"groupby\": [\"state\"]}]}], \"height\": 500, \"width\": 800, \"$schema\": \"https://vega.github.io/schema/vega-lite/v5.16.3.json\", \"datasets\": {\"data-1385db5b33a7675384c47d8d5bea8d48\": [{\"store_id\": 3011506, \"street\": \"1 Bass Pro Dr\", \"city\": \"Springfield\", \"state\": \"MO\", \"zip\": \"65807\", \"phone\": \"(417) 887-7334\", \"latitude\": \"37.1793826\", \"longitude\": \"-93.2971804\", \"website\": \"https://stores.basspro.com/us/mo/springfield/1935-s-campbell-ave.html\", \"brand\": \"Bass Pro Shops\", \"color\": \"#1F8500\", \"state_name\": \"Missouri\", \"type\": \"Feature\", \"geometry\": {\"type\": \"Point\", \"coordinates\": [-93.2971804, 37.1793826]}}, {\"store_id\": 3011523, \"street\": \"1 Bass Pro Dr\", \"city\": \"Branson\", \"state\": \"MO\", \"zip\": \"65616\", \"phone\": \"(417) 243-5200\", \"latitude\": \"36.6414441\", \"longitude\": \"-93.2135224\", \"website\": \"https://stores.basspro.com/us/mo/branson/1-bass-pro-dr.html\", \"brand\": \"Bass Pro Shops\", \"color\": \"#1F8500\", \"state_name\": \"Missouri\", \"type\": \"Feature\", \"geometry\": {\"type\": \"Point\", \"coordinates\": [-93.2135224, 36.6414441]}}, {\"store_id\": 3011540, \"street\": \"1 Bass Pro Dr\", \"city\": \"Foxborough\", \"state\": \"MA\", \"zip\": \"02035\", \"phone\": \"(508) 216-2000\", \"latitude\": \"42.0847195\", \"longitude\": \"-71.2727308\", \"website\": \"https://stores.basspro.com/us/ma/foxborough/1-bass-pro-dr.html\", \"brand\": \"Bass Pro Shops\", \"color\": \"#1F8500\", \"state_name\": \"Massachusetts\", \"type\": \"Feature\", \"geometry\": {\"type\": \"Point\", \"coordinates\": [-71.2727308, 42.0847195]}}, {\"store_id\": 3011551, \"street\": \"1 Bass Pro Dr\", \"city\": \"Little Rock\", \"state\": \"AR\", \"zip\": \"72210\", \"phone\": \"(501) 954-4500\", \"latitude\": \"34.658703\", \"longitude\": \"-92.4092138\", \"website\": \"https://stores.basspro.com/us/ar/little-rock/1-bass-pro-dr.html\", \"brand\": \"Bass Pro Shops\", \"color\": \"#1F8500\", \"state_name\": \"Arkansas\", \"type\": \"Feature\", \"geometry\": {\"type\": \"Point\", \"coordinates\": [-92.4092138, 34.658703]}}, {\"store_id\": 3011552, \"street\": \"1 Bass Pro Dr\", \"city\": \"Bridgeport\", \"state\": \"CT\", \"zip\": \"06608\", \"phone\": \"(203) 362-4200\", \"latitude\": \"41.1775335\", \"longitude\": \"-73.1781721\", \"website\": \"https://stores.basspro.com/us/ct/bridgeport/1-bass-pro-dr.html\", \"brand\": \"Bass Pro Shops\", \"color\": \"#1F8500\", \"state_name\": \"Connecticut\", \"type\": \"Feature\", \"geometry\": {\"type\": \"Point\", \"coordinates\": [-73.1781721, 41.1775335]}}, {\"store_id\": 3011553, \"street\": \"1 Bass Pro Dr\", \"city\": \"Bristol\", \"state\": \"TN\", \"zip\": \"37620\", \"phone\": \"(423) 990-5200\", \"latitude\": \"36.594381\", \"longitude\": \"-82.251313\", \"website\": \"https://stores.basspro.com/us/tn/bristol/1-bass-pro-dr.html\", \"brand\": \"Bass Pro Shops\", \"color\": \"#1F8500\", \"state_name\": \"Tennessee\", \"type\": \"Feature\", \"geometry\": {\"type\": \"Point\", \"coordinates\": [-82.251313, 36.594381]}}, {\"store_id\": 3011496, \"street\": \"100 Bass Pro Dr\", \"city\": \"Bossier City\", \"state\": \"LA\", \"zip\": \"71111\", \"phone\": \"(318) 549-8800\", \"latitude\": \"32.5204147\", \"longitude\": \"-93.7421831\", \"website\": \"https://stores.basspro.com/us/la/bossier-city/100-bass-pro-dr.html\", \"brand\": \"Bass Pro Shops\", \"color\": \"#1F8500\", \"state_name\": \"Louisiana\", \"type\": \"Feature\", \"geometry\": {\"type\": \"Point\", \"coordinates\": [-93.7421831, 32.5204147]}}, {\"store_id\": 3011530, \"street\": \"100 Bass Pro Dr\", \"city\": \"Pearl\", \"state\": \"MS\", \"zip\": \"39208\", \"phone\": \"(601) 933-3700\", \"latitude\": \"32.2713586\", \"longitude\": \"-90.1504612\", \"website\": \"https://stores.basspro.com/us/ms/pearl/100-bass-pro-dr.html\", \"brand\": \"Bass Pro Shops\", \"color\": \"#1F8500\", \"state_name\": \"Mississippi\", \"type\": \"Feature\", \"geometry\": {\"type\": \"Point\", \"coordinates\": [-90.1504612, 32.2713586]}}, {\"store_id\": 3011534, \"street\": \"1000 Bass Pro Dr\", \"city\": \"Pearland\", \"state\": \"TX\", \"zip\": \"77047\", \"phone\": \"(713) 770-5100\", \"latitude\": \"29.5951842\", \"longitude\": \"-95.3899479\", \"website\": \"https://stores.basspro.com/us/tx/pearland/1000-bass-pro-dr.html\", \"brand\": \"Bass Pro Shops\", \"color\": \"#1F8500\", \"state_name\": \"Texas\", \"type\": \"Feature\", \"geometry\": {\"type\": \"Point\", \"coordinates\": [-95.3899479, 29.5951842]}}, {\"store_id\": 3258086, \"street\": \"1000 Bass Pro Dr\", \"city\": \"Chattanooga\", \"state\": \"TN\", \"zip\": \"37412\", \"phone\": \"(423) 242-4000\", \"latitude\": \"34.9928568\", \"longitude\": \"-85.2026117\", \"website\": \"https://stores.basspro.com/us/tn/chattanooga/1000-bass-pro-dr.html\", \"brand\": \"Bass Pro Shops\", \"color\": \"#1F8500\", \"state_name\": \"Tennessee\", \"type\": \"Feature\", \"geometry\": {\"type\": \"Point\", \"coordinates\": [-85.2026117, 34.9928568]}}, {\"store_id\": 3011546, \"street\": \"1000 Bass Pro Dr NW\", \"city\": \"Altoona\", \"state\": \"IA\", \"zip\": \"50009\", \"phone\": \"(515) 957-5500\", \"latitude\": \"41.6591344\", \"longitude\": \"-93.5146862\", \"website\": \"https://stores.basspro.com/us/ia/altoona/1000-bass-pro-dr-nw.html\", \"brand\": \"Bass Pro Shops\", \"color\": \"#1F8500\", \"state_name\": \"Iowa\", \"type\": \"Feature\", \"geometry\": {\"type\": \"Point\", \"coordinates\": [-93.5146862, 41.6591344]}}, {\"store_id\": 3011549, \"street\": \"1000 Bass Pro Shops Dr\", \"city\": \"East Peoria\", \"state\": \"IL\", \"zip\": \"61611\", \"phone\": \"(309) 427-3400\", \"latitude\": \"40.68482\", \"longitude\": \"-89.578898\", \"website\": \"https://stores.basspro.com/us/il/east-peoria/1000-bass-pro-shops-dr.html\", \"brand\": \"Bass Pro Shops\", \"color\": \"#1F8500\", \"state_name\": \"Illinois\", \"type\": \"Feature\", \"geometry\": {\"type\": \"Point\", \"coordinates\": [-89.578898, 40.68482]}}, {\"store_id\": 3011544, \"street\": \"10000 Bass Pro Blvd\", \"city\": \"Rossford\", \"state\": \"OH\", \"zip\": \"43460\", \"phone\": \"(419) 891-3900\", \"latitude\": \"41.5600429\", \"longitude\": \"-83.5886696\", \"website\": \"https://stores.basspro.com/us/oh/rossford/10000-bass-pro-blvd.html\", \"brand\": \"Bass Pro Shops\", \"color\": \"#1F8500\", \"state_name\": \"Ohio\", \"type\": \"Feature\", \"geometry\": {\"type\": \"Point\", \"coordinates\": [-83.5886696, 41.5600429]}}, {\"store_id\": 3011520, \"street\": \"10040 Gulf Center Dr\", \"city\": \"Ft. Myers\", \"state\": \"FL\", \"zip\": \"33913\", \"phone\": \"(239) 461-7800\", \"latitude\": \"26.4879239\", \"longitude\": \"-81.7917618\", \"website\": \"https://stores.basspro.com/us/fl/ft--myers/10040-gulf-center-dr.html\", \"brand\": \"Bass Pro Shops\", \"color\": \"#1F8500\", \"state_name\": \"Florida\", \"type\": \"Feature\", \"geometry\": {\"type\": \"Point\", \"coordinates\": [-81.7917618, 26.4879239]}}, {\"store_id\": 3011524, \"street\": \"101 Bass Pro Dr\", \"city\": \"Broken Arrow\", \"state\": \"OK\", \"zip\": \"74012\", \"phone\": \"(918) 355-7600\", \"latitude\": \"36.070547835622826\", \"longitude\": \"-95.7923349738121\", \"website\": \"https://stores.basspro.com/us/ok/broken-arrow/101-bass-pro-dr.html\", \"brand\": \"Bass Pro Shops\", \"color\": \"#1F8500\", \"state_name\": \"Oklahoma\", \"type\": \"Feature\", \"geometry\": {\"type\": \"Point\", \"coordinates\": [-95.7923349738121, 36.070547835622826]}}, {\"store_id\": 3011548, \"street\": \"101 Bass Pro Dr\", \"city\": \"Harlingen\", \"state\": \"TX\", \"zip\": \"78552\", \"phone\": \"(956) 291-5200\", \"latitude\": \"26.1920171\", \"longitude\": \"-97.7219406\", \"website\": \"https://stores.basspro.com/us/tx/harlingen/101-bass-pro-dr.html\", \"brand\": \"Bass Pro Shops\", \"color\": \"#1F8500\", \"state_name\": \"Texas\", \"type\": \"Feature\", \"geometry\": {\"type\": \"Point\", \"coordinates\": [-97.7219406, 26.1920171]}}, {\"store_id\": 3011501, \"street\": \"10177 North Kings Hwy\", \"city\": \"Myrtle Beach\", \"state\": \"SC\", \"zip\": \"29572\", \"phone\": \"(843) 361-4800\", \"latitude\": \"33.7915977\", \"longitude\": \"-78.768585\", \"website\": \"https://stores.basspro.com/us/sc/myrtle-beach/10177-north-kings-hwy.html\", \"brand\": \"Bass Pro Shops\", \"color\": \"#1F8500\", \"state_name\": \"South Carolina\", \"type\": \"Feature\", \"geometry\": {\"type\": \"Point\", \"coordinates\": [-78.768585, 33.7915977]}}, {\"store_id\": 3986751, \"street\": \"1025 Woodruff Road\", \"city\": \"Greenville\", \"state\": \"SC\", \"zip\": \"29607\", \"phone\": \"(864) 516-8100\", \"latitude\": \"34.8347559\", \"longitude\": \"-82.3066267\", \"website\": \"https://stores.basspro.com/us/sc/greenville/1025-woodruff-road.html\", \"brand\": \"Bass Pro Shops\", \"color\": \"#1F8500\", \"state_name\": \"South Carolina\", \"type\": \"Feature\", \"geometry\": {\"type\": \"Point\", \"coordinates\": [-82.3066267, 34.8347559]}}, {\"store_id\": 3986711, \"street\": \"10300 Cabela Drive\", \"city\": \"Kansas City\", \"state\": \"KS\", \"zip\": \"66111\", \"phone\": \"(913) 328-0322\", \"latitude\": \"39.1211055\", \"longitude\": \"-94.8153725\", \"website\": \"https://stores.basspro.com/us/ks/kansas-city/10300-cabela-drive.html\", \"brand\": \"Bass Pro Shops\", \"color\": \"#1F8500\", \"state_name\": \"Kansas\", \"type\": \"Feature\", \"geometry\": {\"type\": \"Point\", \"coordinates\": [-94.8153725, 39.1211055]}}, {\"store_id\": 3011556, \"street\": \"10501 Palm River Rd\", \"city\": \"Tampa\", \"state\": \"FL\", \"zip\": \"33619\", \"phone\": \"(813) 655-2400\", \"latitude\": \"27.9344175\", \"longitude\": \"-82.3337424\", \"website\": \"https://stores.basspro.com/us/fl/tampa/10501-palm-river-rd.html\", \"brand\": \"Bass Pro Shops\", \"color\": \"#1F8500\", \"state_name\": \"Florida\", \"type\": \"Feature\", \"geometry\": {\"type\": \"Point\", \"coordinates\": [-82.3337424, 27.9344175]}}, {\"store_id\": 3011539, \"street\": \"1133 North Dobson\", \"city\": \"Mesa\", \"state\": \"AZ\", \"zip\": \"85201\", \"phone\": \"(602) 606-5600\", \"latitude\": \"33.4365468\", \"longitude\": \"-111.8665419\", \"website\": \"https://stores.basspro.com/us/az/mesa/1133-north-dobson.html\", \"brand\": \"Bass Pro Shops\", \"color\": \"#1F8500\", \"state_name\": \"Arizona\", \"type\": \"Feature\", \"geometry\": {\"type\": \"Point\", \"coordinates\": [-111.8665419, 33.4365468]}}, {\"store_id\": 3011545, \"street\": \"11550 Lakeridge Parkway\", \"city\": \"Ashland\", \"state\": \"VA\", \"zip\": \"23005\", \"phone\": \"(804) 496-4700\", \"latitude\": \"37.7110473\", \"longitude\": \"-77.4492922\", \"website\": \"https://stores.basspro.com/us/va/ashland/11550-lakeridge-parkway.html\", \"brand\": \"Bass Pro Shops\", \"color\": \"#1F8500\", \"state_name\": \"Virginia\", \"type\": \"Feature\", \"geometry\": {\"type\": \"Point\", \"coordinates\": [-77.4492922, 37.7110473]}}, {\"store_id\": 3011542, \"street\": \"11551 Northwest 12th St\", \"city\": \"Miami\", \"state\": \"FL\", \"zip\": \"33172\", \"phone\": \"(305) 341-4200\", \"latitude\": \"25.7888307\", \"longitude\": \"-80.3831756\", \"website\": \"https://stores.basspro.com/us/fl/miami/11551-northwest-12th-st.html\", \"brand\": \"Bass Pro Shops\", \"color\": \"#1F8500\", \"state_name\": \"Florida\", \"type\": \"Feature\", \"geometry\": {\"type\": \"Point\", \"coordinates\": [-80.3831756, 25.7888307]}}, {\"store_id\": 3011533, \"street\": \"12051 Bass Pro Dr\", \"city\": \"Olathe\", \"state\": \"KS\", \"zip\": \"66061\", \"phone\": \"(913) 254-5200\", \"latitude\": \"38.9095905\", \"longitude\": \"-94.7774654\", \"website\": \"https://stores.basspro.com/us/ks/olathe/12051-bass-pro-dr.html\", \"brand\": \"Bass Pro Shops\", \"color\": \"#1F8500\", \"state_name\": \"Kansas\", \"type\": \"Feature\", \"geometry\": {\"type\": \"Point\", \"coordinates\": [-94.7774654, 38.9095905]}}, {\"store_id\": 3011550, \"street\": \"13012 Bass Pro Dr\", \"city\": \"Colorado Springs\", \"state\": \"CO\", \"zip\": \"80921\", \"phone\": \"(719) 488-7300\", \"latitude\": \"39.0237098\", \"longitude\": \"-104.826538\", \"website\": \"https://stores.basspro.com/us/co/colorado-springs/13012-bass-pro-dr.html\", \"brand\": \"Bass Pro Shops\", \"color\": \"#1F8500\", \"state_name\": \"Colorado\", \"type\": \"Feature\", \"geometry\": {\"type\": \"Point\", \"coordinates\": [-104.826538, 39.0237098]}}, {\"store_id\": 3986765, \"street\": \"1350 Cabela Drive\", \"city\": \"Sun Prairie\", \"state\": \"WI\", \"zip\": \"53590\", \"phone\": \"(608) 478-4100\", \"latitude\": \"43.1641924\", \"longitude\": \"-89.2730906\", \"website\": \"https://stores.basspro.com/us/wi/sun-prairie/1350-cabela-drive.html\", \"brand\": \"Bass Pro Shops\", \"color\": \"#1F8500\", \"state_name\": \"Wisconsin\", \"type\": \"Feature\", \"geometry\": {\"type\": \"Point\", \"coordinates\": [-89.2730906, 43.1641924]}}, {\"store_id\": 3011535, \"street\": \"1356 Bass Pro Dr\", \"city\": \"Manteca\", \"state\": \"CA\", \"zip\": \"95337\", \"phone\": \"(209) 825-8400\", \"latitude\": \"37.7822138\", \"longitude\": \"-121.2261057\", \"website\": \"https://stores.basspro.com/us/ca/manteca/1356-bass-pro-dr.html\", \"brand\": \"Bass Pro Shops\", \"color\": \"#1F8500\", \"state_name\": \"California\", \"type\": \"Feature\", \"geometry\": {\"type\": \"Point\", \"coordinates\": [-121.2261057, 37.7822138]}}, {\"store_id\": 3011516, \"street\": \"1365 South 5th St\", \"city\": \"St. Charles\", \"state\": \"MO\", \"zip\": \"63301\", \"phone\": \"(636) 688-2500\", \"latitude\": \"38.7709058\", \"longitude\": \"-90.4973354\", \"website\": \"https://stores.basspro.com/us/mo/st--charles/1365-south-5th-st.html\", \"brand\": \"Bass Pro Shops\", \"color\": \"#1F8500\", \"state_name\": \"Missouri\", \"type\": \"Feature\", \"geometry\": {\"type\": \"Point\", \"coordinates\": [-90.4973354, 38.7709058]}}, {\"store_id\": 3011519, \"street\": \"14045 Abercorn St\", \"city\": \"Savannah\", \"state\": \"GA\", \"zip\": \"31419\", \"phone\": \"(912) 961-4200\", \"latitude\": \"31.9834837\", \"longitude\": \"-81.1725417\", \"website\": \"https://stores.basspro.com/us/ga/savannah/14045-abercorn-st.html\", \"brand\": \"Bass Pro Shops\", \"color\": \"#1F8500\", \"state_name\": \"Georgia\", \"type\": \"Feature\", \"geometry\": {\"type\": \"Point\", \"coordinates\": [-81.1725417, 31.9834837]}}, {\"store_id\": 3986757, \"street\": \"152 Northpoint Parkway\", \"city\": \"Acworth\", \"state\": \"GA\", \"zip\": \"30102\", \"phone\": \"(470) 315-7500\", \"latitude\": \"34.0816869\", \"longitude\": \"-84.6507277\", \"website\": \"https://stores.basspro.com/us/ga/acworth/152-northpoint-parkway.html\", \"brand\": \"Bass Pro Shops\", \"color\": \"#1F8500\", \"state_name\": \"Georgia\", \"type\": \"Feature\", \"geometry\": {\"type\": \"Point\", \"coordinates\": [-84.6507277, 34.0816869]}}, {\"store_id\": 3011505, \"street\": \"1579 Clark St Rd\", \"city\": \"Auburn\", \"state\": \"NY\", \"zip\": \"13021\", \"phone\": \"(315) 258-2700\", \"latitude\": \"42.9299532\", \"longitude\": \"-76.6112106\", \"website\": \"https://stores.basspro.com/us/ny/auburn/1579-clark-st-rd.html\", \"brand\": \"Bass Pro Shops\", \"color\": \"#1F8500\", \"state_name\": \"New York\", \"type\": \"Feature\", \"geometry\": {\"type\": \"Point\", \"coordinates\": [-76.6112106, 42.9299532]}}, {\"store_id\": 3011504, \"street\": \"175 Bass Pro Blvd\", \"city\": \"Denham Springs\", \"state\": \"LA\", \"zip\": \"70726\", \"phone\": \"(225) 271-3100\", \"latitude\": \"30.4522647\", \"longitude\": \"-90.9613266\", \"website\": \"https://stores.basspro.com/us/la/denham-springs/175-bass-pro-blvd.html\", \"brand\": \"Bass Pro Shops\", \"color\": \"#1F8500\", \"state_name\": \"Louisiana\", \"type\": \"Feature\", \"geometry\": {\"type\": \"Point\", \"coordinates\": [-90.9613266, 30.4522647]}}, {\"store_id\": 3011531, \"street\": \"17907 IH-10 West\", \"city\": \"San Antonio\", \"state\": \"TX\", \"zip\": \"78257\", \"phone\": \"(210) 253-8800\", \"latitude\": \"29.611098\", \"longitude\": \"-98.600218\", \"website\": \"https://stores.basspro.com/us/tx/san-antonio/17907-ih-10-west.html\", \"brand\": \"Bass Pro Shops\", \"color\": \"#1F8500\", \"state_name\": \"Texas\", \"type\": \"Feature\", \"geometry\": {\"type\": \"Point\", \"coordinates\": [-98.600218, 29.611098]}}, {\"store_id\": 3011528, \"street\": \"18001 Bass Pro Dr\", \"city\": \"Independence\", \"state\": \"MO\", \"zip\": \"64055\", \"phone\": \"(816) 795-4300\", \"latitude\": \"39.0400967\", \"longitude\": \"-94.370386\", \"website\": \"https://stores.basspro.com/us/mo/independence/18001-bass-pro-dr.html\", \"brand\": \"Bass Pro Shops\", \"color\": \"#1F8500\", \"state_name\": \"Missouri\", \"type\": \"Feature\", \"geometry\": {\"type\": \"Point\", \"coordinates\": [-94.370386, 39.0400967]}}, {\"store_id\": 4078866, \"street\": \"1880 W Checkered Flag Blvd\", \"city\": \"Daytona Beach\", \"state\": \"FL\", \"zip\": \"32114\", \"phone\": \"(386) 281-4300\", \"latitude\": \"29.1920035\", \"longitude\": \"-81.0725181\", \"website\": \"https://stores.basspro.com/us/fl/daytona-beach/1880-w-checkered-flag-blvd.html\", \"brand\": \"Bass Pro Shops\", \"color\": \"#1F8500\", \"state_name\": \"Florida\", \"type\": \"Feature\", \"geometry\": {\"type\": \"Point\", \"coordinates\": [-81.0725181, 29.1920035]}}, {\"store_id\": 3011511, \"street\": \"1972 Power Plant Parkway\", \"city\": \"Hampton\", \"state\": \"VA\", \"zip\": \"23666\", \"phone\": \"(757) 262-5200\", \"latitude\": \"37.035747\", \"longitude\": \"-76.3907182\", \"website\": \"https://stores.basspro.com/us/va/hampton/1972-power-plant-parkway.html\", \"brand\": \"Bass Pro Shops\", \"color\": \"#1F8500\", \"state_name\": \"Virginia\", \"type\": \"Feature\", \"geometry\": {\"type\": \"Point\", \"coordinates\": [-76.3907182, 37.035747]}}, {\"store_id\": 3011560, \"street\": \"2 Commerce Dr\", \"city\": \"Hooksett\", \"state\": \"NH\", \"zip\": \"03106\", \"phone\": \"(603) 541-5200\", \"latitude\": \"43.0389402\", \"longitude\": \"-71.4762461\", \"website\": \"https://stores.basspro.com/us/nh/hooksett/2-commerce-dr.html\", \"brand\": \"Bass Pro Shops\", \"color\": \"#1F8500\", \"state_name\": \"New Hampshire\", \"type\": \"Feature\", \"geometry\": {\"type\": \"Point\", \"coordinates\": [-71.4762461, 43.0389402]}}, {\"store_id\": 3011518, \"street\": \"200 Bass Pro Dr\", \"city\": \"Oklahoma City\", \"state\": \"OK\", \"zip\": \"73104\", \"phone\": \"(405) 218-5200\", \"latitude\": \"35.4633571\", \"longitude\": \"-97.5029057\", \"website\": \"https://stores.basspro.com/us/ok/oklahoma-city/200-bass-pro-dr.html\", \"brand\": \"Bass Pro Shops\", \"color\": \"#1F8500\", \"state_name\": \"Oklahoma\", \"type\": \"Feature\", \"geometry\": {\"type\": \"Point\", \"coordinates\": [-97.5029057, 35.4633571]}}, {\"store_id\": 3011564, \"street\": \"200 Bass Pro Dr\", \"city\": \"Round Rock\", \"state\": \"TX\", \"zip\": \"78665\", \"phone\": \"(512) 876-2700\", \"latitude\": \"30.5709917\", \"longitude\": \"-97.6894861\", \"website\": \"https://stores.basspro.com/us/tx/round-rock/200-bass-pro-dr.html\", \"brand\": \"Bass Pro Shops\", \"color\": \"#1F8500\", \"state_name\": \"Texas\", \"type\": \"Feature\", \"geometry\": {\"type\": \"Point\", \"coordinates\": [-97.6894861, 30.5709917]}}, {\"store_id\": 25016644, \"street\": \"200 Bass Pro Drive\", \"city\": \"Morgantown\", \"state\": \"WV\", \"zip\": \"26501\", \"phone\": \"(681) 285-6400\", \"latitude\": \"39.6363889\", \"longitude\": \"-79.9991667\", \"website\": \"https://stores.basspro.com/us/wv/morgantown/200-bass-pro-drive.html\", \"brand\": \"Bass Pro Shops\", \"color\": \"#1F8500\", \"state_name\": \"West Virginia\", \"type\": \"Feature\", \"geometry\": {\"type\": \"Point\", \"coordinates\": [-79.9991667, 39.6363889]}}, {\"store_id\": 3011507, \"street\": \"200 Gulf Stream Way\", \"city\": \"Dania Beach\", \"state\": \"FL\", \"zip\": \"33004\", \"phone\": \"(954) 929-7710\", \"latitude\": \"26.0578236\", \"longitude\": \"-80.1637599\", \"website\": \"https://stores.basspro.com/us/fl/dania-beach/200-gulf-stream-way.html\", \"brand\": \"Bass Pro Shops\", \"color\": \"#1F8500\", \"state_name\": \"Florida\", \"type\": \"Feature\", \"geometry\": {\"type\": \"Point\", \"coordinates\": [-80.1637599, 26.0578236]}}, {\"store_id\": 3011522, \"street\": \"20000 Bass Pro Dr\", \"city\": \"Spanish Fort\", \"state\": \"AL\", \"zip\": \"36527\", \"phone\": \"(251) 607-5900\", \"latitude\": \"30.6579346\", \"longitude\": \"-87.9055569\", \"website\": \"https://stores.basspro.com/us/al/spanish-fort/20000-bass-pro-dr.html\", \"brand\": \"Bass Pro Shops\", \"color\": \"#1F8500\", \"state_name\": \"Alabama\", \"type\": \"Feature\", \"geometry\": {\"type\": \"Point\", \"coordinates\": [-87.9055569, 30.6579346]}}, {\"store_id\": 3986764, \"street\": \"201 Cabela Drive\", \"city\": \"Garner\", \"state\": \"NC\", \"zip\": \"27529\", \"phone\": \"(984) 204-2200\", \"latitude\": \"35.6982229\", \"longitude\": \"-78.5812552\", \"website\": \"https://stores.basspro.com/us/nc/garner/201-cabela-drive.html\", \"brand\": \"Bass Pro Shops\", \"color\": \"#1F8500\", \"state_name\": \"North Carolina\", \"type\": \"Feature\", \"geometry\": {\"type\": \"Point\", \"coordinates\": [-78.5812552, 35.6982229]}}, {\"store_id\": 3011561, \"street\": \"2250 Gatlin Blvd\", \"city\": \"Port St. Lucie\", \"state\": \"FL\", \"zip\": \"34953\", \"phone\": \"(772) 785-7600\", \"latitude\": \"27.2615983\", \"longitude\": \"-80.4191319\", \"website\": \"https://stores.basspro.com/us/fl/port-st--lucie/2250-gatlin-blvd.html\", \"brand\": \"Bass Pro Shops\", \"color\": \"#1F8500\", \"state_name\": \"Florida\", \"type\": \"Feature\", \"geometry\": {\"type\": \"Point\", \"coordinates\": [-80.4191319, 27.2615983]}}, {\"store_id\": 3986738, \"street\": \"2300 S Promenade Blvd\", \"city\": \"Rogers\", \"state\": \"AR\", \"zip\": \"72758\", \"phone\": \"(479) 616-1925\", \"latitude\": \"36.3011043\", \"longitude\": \"-94.1757555\", \"website\": \"https://stores.basspro.com/us/ar/rogers/2300-s-promenade-blvd.html\", \"brand\": \"Bass Pro Shops\", \"color\": \"#1F8500\", \"state_name\": \"Arkansas\", \"type\": \"Feature\", \"geometry\": {\"type\": \"Point\", \"coordinates\": [-94.1757555, 36.3011043]}}, {\"store_id\": 1017421690, \"street\": \"2390 Niles Cortland Road SE\", \"city\": \"Niles\", \"state\": \"OH\", \"zip\": \"44484\", \"phone\": \"(330) 989-7600\", \"latitude\": \"41.2113935\", \"longitude\": \"-80.7414895\", \"website\": \"https://stores.basspro.com/us/oh/warren/2390-niles-cortland-road-se.html\", \"brand\": \"Bass Pro Shops\", \"color\": \"#1F8500\", \"state_name\": \"Ohio\", \"type\": \"Feature\", \"geometry\": {\"type\": \"Point\", \"coordinates\": [-80.7414895, 41.2113935]}}, {\"store_id\": 3986772, \"street\": \"2421 Gulf Fwy S\", \"city\": \"League City\", \"state\": \"TX\", \"zip\": \"77573\", \"phone\": \"(346) 231-0200\", \"latitude\": \"29.4748562\", \"longitude\": \"-95.0999004\", \"website\": \"https://stores.basspro.com/us/tx/league-city/2421-gulf-fwy-s.html\", \"brand\": \"Bass Pro Shops\", \"color\": \"#1F8500\", \"state_name\": \"Texas\", \"type\": \"Feature\", \"geometry\": {\"type\": \"Point\", \"coordinates\": [-95.0999004, 29.4748562]}}, {\"store_id\": 3011509, \"street\": \"2501 Bass Pro Dr\", \"city\": \"Grapevine\", \"state\": \"TX\", \"zip\": \"76051\", \"phone\": \"(972) 724-2018\", \"latitude\": \"32.957495\", \"longitude\": \"-97.0435058\", \"website\": \"https://stores.basspro.com/us/tx/grapevine/2501-bass-pro-dr.html\", \"brand\": \"Bass Pro Shops\", \"color\": \"#1F8500\", \"state_name\": \"Texas\", \"type\": \"Feature\", \"geometry\": {\"type\": \"Point\", \"coordinates\": [-97.0435058, 32.957495]}}, {\"store_id\": 3011543, \"street\": \"2553 Rocky Mount Rd\", \"city\": \"Prattville\", \"state\": \"AL\", \"zip\": \"36066\", \"phone\": \"(334) 290-6400\", \"latitude\": \"32.4626699\", \"longitude\": \"-86.3910016\", \"website\": \"https://stores.basspro.com/us/al/prattville/2553-rocky-mount-rd.html\", \"brand\": \"Bass Pro Shops\", \"color\": \"#1F8500\", \"state_name\": \"Alabama\", \"type\": \"Feature\", \"geometry\": {\"type\": \"Point\", \"coordinates\": [-86.3910016, 32.4626699]}}, {\"store_id\": 3771851, \"street\": \"2650 Bass Pro Shops Blvd\", \"city\": \"Gainesville\", \"state\": \"FL\", \"zip\": \"32608\", \"phone\": \"(352) 204-4100\", \"latitude\": \"29.628529\", \"longitude\": \"-82.3958314\", \"website\": \"https://stores.basspro.com/us/fl/gainesville/2650-bass-pro-shops-blvd.html\", \"brand\": \"Bass Pro Shops\", \"color\": \"#1F8500\", \"state_name\": \"Florida\", \"type\": \"Feature\", \"geometry\": {\"type\": \"Point\", \"coordinates\": [-82.3958314, 29.628529]}}, {\"store_id\": 3011529, \"street\": \"2901 Bass Pro Dr\", \"city\": \"Council Bluffs\", \"state\": \"IA\", \"zip\": \"51501\", \"phone\": \"(712) 325-6000\", \"latitude\": \"41.2342844\", \"longitude\": \"-95.8912978\", \"website\": \"https://stores.basspro.com/us/ia/council-bluffs/2901-bass-pro-dr.html\", \"brand\": \"Bass Pro Shops\", \"color\": \"#1F8500\", \"state_name\": \"Iowa\", \"type\": \"Feature\", \"geometry\": {\"type\": \"Point\", \"coordinates\": [-95.8912978, 41.2342844]}}, {\"store_id\": 3011554, \"street\": \"30 N Christopher Columbus Blvd\", \"city\": \"Atlantic City\", \"state\": \"NJ\", \"zip\": \"08401\", \"phone\": \"(609) 449-4500\", \"latitude\": \"39.3585327\", \"longitude\": \"-74.4394997\", \"website\": \"https://stores.basspro.com/us/nj/atlantic-city/30-n-christopher-columbus-blvd.html\", \"brand\": \"Bass Pro Shops\", \"color\": \"#1F8500\", \"state_name\": \"New Jersey\", \"type\": \"Feature\", \"geometry\": {\"type\": \"Point\", \"coordinates\": [-74.4394997, 39.3585327]}}, {\"store_id\": 3011555, \"street\": \"3046 Mountain View Dr\", \"city\": \"Anchorage\", \"state\": \"AK\", \"zip\": \"99501\", \"phone\": \"(907) 330-5200\", \"latitude\": \"61.2191963\", \"longitude\": \"-149.8209661\", \"website\": \"https://stores.basspro.com/us/ak/anchorage/3046-mountain-view-dr.html\", \"brand\": \"Bass Pro Shops\", \"color\": \"#1F8500\", \"state_name\": \"Alaska\", \"type\": \"Feature\", \"geometry\": {\"type\": \"Point\", \"coordinates\": [-149.8209661, 61.2191963]}}, {\"store_id\": 3011499, \"street\": \"3101 Bass Pro Dr\", \"city\": \"Columbia\", \"state\": \"MO\", \"zip\": \"65202\", \"phone\": \"(573) 886-7100\", \"latitude\": \"38.9714608\", \"longitude\": \"-92.2920227\", \"website\": \"https://stores.basspro.com/us/mo/columbia/3101-bass-pro-dr.html\", \"brand\": \"Bass Pro Shops\", \"color\": \"#1F8500\", \"state_name\": \"Missouri\", \"type\": \"Feature\", \"geometry\": {\"type\": \"Point\", \"coordinates\": [-92.2920227, 38.9714608]}}, {\"store_id\": 3011514, \"street\": \"323 Opry Mills Dr\", \"city\": \"Nashville\", \"state\": \"TN\", \"zip\": \"37214\", \"phone\": \"(615) 514-5200\", \"latitude\": \"36.2014948\", \"longitude\": \"-86.690606\", \"website\": \"https://stores.basspro.com/us/tn/nashville/323-opry-mills-dr.html\", \"brand\": \"Bass Pro Shops\", \"color\": \"#1F8500\", \"state_name\": \"Tennessee\", \"type\": \"Feature\", \"geometry\": {\"type\": \"Point\", \"coordinates\": [-86.690606, 36.2014948]}}, {\"store_id\": 3011503, \"street\": \"3501 Paxton St\", \"city\": \"Harrisburg\", \"state\": \"PA\", \"zip\": \"17111\", \"phone\": \"(717) 565-5200\", \"latitude\": \"40.2525465\", \"longitude\": \"-76.8281972\", \"website\": \"https://stores.basspro.com/us/pa/harrisburg/3501-paxton-st.html\", \"brand\": \"Bass Pro Shops\", \"color\": \"#1F8500\", \"state_name\": \"Pennsylvania\", \"type\": \"Feature\", \"geometry\": {\"type\": \"Point\", \"coordinates\": [-76.8281972, 40.2525465]}}, {\"store_id\": 79326323, \"street\": \"3600 South Lindbergh Blvd\", \"city\": \"Sunset Hills\", \"state\": \"MO\", \"zip\": \"63127\", \"phone\": \"(314) 946-2000\", \"latitude\": \"38.554253\", \"longitude\": \"-90.4054291\", \"website\": \"https://stores.basspro.com/us/mo/sunset-hills/3600-south-lindbergh-blvd.html\", \"brand\": \"Bass Pro Shops\", \"color\": \"#1F8500\", \"state_name\": \"Missouri\", \"type\": \"Feature\", \"geometry\": {\"type\": \"Point\", \"coordinates\": [-90.4054291, 38.554253]}}, {\"store_id\": 3011525, \"street\": \"3629 Outdoor Sportsmans Place\", \"city\": \"Kodak\", \"state\": \"TN\", \"zip\": \"37764\", \"phone\": \"(865) 932-5600\", \"latitude\": \"35.9848674\", \"longitude\": \"-83.612054\", \"website\": \"https://stores.basspro.com/us/tn/kodak/3629-outdoor-sportsmans-place.html\", \"brand\": \"Bass Pro Shops\", \"color\": \"#1F8500\", \"state_name\": \"Tennessee\", \"type\": \"Feature\", \"geometry\": {\"type\": \"Point\", \"coordinates\": [-83.612054, 35.9848674]}}, {\"store_id\": 3011567, \"street\": \"4059 Lagniappe Way\", \"city\": \"Tallahassee\", \"state\": \"FL\", \"zip\": \"32317\", \"phone\": \"(850) 402-6900\", \"latitude\": \"30.4605828\", \"longitude\": \"-84.2140612\", \"website\": \"https://stores.basspro.com/us/fl/tallahassee/4059-lagniappe-way.html\", \"brand\": \"Bass Pro Shops\", \"color\": \"#1F8500\", \"state_name\": \"Florida\", \"type\": \"Feature\", \"geometry\": {\"type\": \"Point\", \"coordinates\": [-84.2140612, 30.4605828]}}, {\"store_id\": 3011508, \"street\": \"4301 Legendary Dr\", \"city\": \"Destin\", \"state\": \"FL\", \"zip\": \"32541\", \"phone\": \"(850) 269-6200\", \"latitude\": \"30.3902534\", \"longitude\": \"-86.4225053\", \"website\": \"https://stores.basspro.com/us/fl/destin/4301-legendary-dr.html\", \"brand\": \"Bass Pro Shops\", \"color\": \"#1F8500\", \"state_name\": \"Florida\", \"type\": \"Feature\", \"geometry\": {\"type\": \"Point\", \"coordinates\": [-86.4225053, 30.3902534]}}, {\"store_id\": 3011493, \"street\": \"4500 Baldwin Rd\", \"city\": \"Auburn Hills\", \"state\": \"MI\", \"zip\": \"48326\", \"phone\": \"(248) 209-4200\", \"latitude\": \"42.7036178\", \"longitude\": \"-83.2984143\", \"website\": \"https://stores.basspro.com/us/mi/auburn-hills/4500-baldwin-rd.html\", \"brand\": \"Bass Pro Shops\", \"color\": \"#1F8500\", \"state_name\": \"Michigan\", \"type\": \"Feature\", \"geometry\": {\"type\": \"Point\", \"coordinates\": [-83.2984143, 42.7036178]}}, {\"store_id\": 7309131, \"street\": \"45959 Towne Center Blvd.\", \"city\": \"Chesterfield\", \"state\": \"MI\", \"zip\": \"48047\", \"phone\": \"(586) 273-5100\", \"latitude\": \"42.639852\", \"longitude\": \"-82.838113\", \"website\": \"https://stores.basspro.com/us/mi/chesterfield/45959-towne-center-blvd.html\", \"brand\": \"Bass Pro Shops\", \"color\": \"#1F8500\", \"state_name\": \"Michigan\", \"type\": \"Feature\", \"geometry\": {\"type\": \"Point\", \"coordinates\": [-82.838113, 42.639852]}}, {\"store_id\": 3011521, \"street\": \"5000 Bass Pro Blvd\", \"city\": \"Leeds\", \"state\": \"AL\", \"zip\": \"35094\", \"phone\": \"(205) 702-7500\", \"latitude\": \"33.5431898\", \"longitude\": \"-86.5918565\", \"website\": \"https://stores.basspro.com/us/al/leeds/5000-bass-pro-blvd.html\", \"brand\": \"Bass Pro Shops\", \"color\": \"#1F8500\", \"state_name\": \"Alabama\", \"type\": \"Feature\", \"geometry\": {\"type\": \"Point\", \"coordinates\": [-86.5918565, 33.5431898]}}, {\"store_id\": 3011532, \"street\": \"5000 Bass Pro Blvd\", \"city\": \"Macon\", \"state\": \"GA\", \"zip\": \"31210\", \"phone\": \"(478) 757-7600\", \"latitude\": \"32.9342803\", \"longitude\": \"-83.7385923\", \"website\": \"https://stores.basspro.com/us/ga/macon/5000-bass-pro-blvd.html\", \"brand\": \"Bass Pro Shops\", \"color\": \"#1F8500\", \"state_name\": \"Georgia\", \"type\": \"Feature\", \"geometry\": {\"type\": \"Point\", \"coordinates\": [-83.7385923, 32.9342803]}}, {\"store_id\": 3011513, \"street\": \"5000 Katy Mills Circle\", \"city\": \"Katy\", \"state\": \"TX\", \"zip\": \"77494\", \"phone\": \"(281) 644-2200\", \"latitude\": \"29.7780113\", \"longitude\": \"-95.8109039\", \"website\": \"https://stores.basspro.com/us/tx/katy/5000-katy-mills-circle.html\", \"brand\": \"Bass Pro Shops\", \"color\": \"#1F8500\", \"state_name\": \"Texas\", \"type\": \"Feature\", \"geometry\": {\"type\": \"Point\", \"coordinates\": [-95.8109039, 29.7780113]}}, {\"store_id\": 3011526, \"street\": \"5001 Bass Pro Dr\", \"city\": \"Garland\", \"state\": \"TX\", \"zip\": \"75043\", \"phone\": \"(469) 221-2600\", \"latitude\": \"32.8660978\", \"longitude\": \"-96.5377718\", \"website\": \"https://stores.basspro.com/us/tx/garland/5001-bass-pro-dr.html\", \"brand\": \"Bass Pro Shops\", \"color\": \"#1F8500\", \"state_name\": \"Texas\", \"type\": \"Feature\", \"geometry\": {\"type\": \"Point\", \"coordinates\": [-96.5377718, 32.8660978]}}, {\"store_id\": 3011515, \"street\": \"5156 International Dr\", \"city\": \"Orlando\", \"state\": \"FL\", \"zip\": \"32819\", \"phone\": \"(407) 563-5200\", \"latitude\": \"28.469827\", \"longitude\": \"-81.4483594\", \"website\": \"https://stores.basspro.com/us/fl/orlando/5156-international-dr.html\", \"brand\": \"Bass Pro Shops\", \"color\": \"#1F8500\", \"state_name\": \"Florida\", \"type\": \"Feature\", \"geometry\": {\"type\": \"Point\", \"coordinates\": [-81.4483594, 28.469827]}}, {\"store_id\": 3011566, \"street\": \"5160 Cherry Ave\", \"city\": \"San Jose\", \"state\": \"CA\", \"zip\": \"95118\", \"phone\": \"(669) 234-5700\", \"latitude\": \"37.257151\", \"longitude\": \"-121.8728667\", \"website\": \"https://stores.basspro.com/us/ca/san-jose/5160-cherry-ave.html\", \"brand\": \"Bass Pro Shops\", \"color\": \"#1F8500\", \"state_name\": \"California\", \"type\": \"Feature\", \"geometry\": {\"type\": \"Point\", \"coordinates\": [-121.8728667, 37.257151]}}, {\"store_id\": 3536459, \"street\": \"5472 Crossings Dr\", \"city\": \"Rocklin\", \"state\": \"CA\", \"zip\": \"95677\", \"phone\": \"(916) 251-3800\", \"latitude\": \"38.8044457\", \"longitude\": \"-121.2011834\", \"website\": \"https://stores.basspro.com/us/ca/rocklin/5472-crossings-dr.html\", \"brand\": \"Bass Pro Shops\", \"color\": \"#1F8500\", \"state_name\": \"California\", \"type\": \"Feature\", \"geometry\": {\"type\": \"Point\", \"coordinates\": [-121.2011834, 38.8044457]}}, {\"store_id\": 3011495, \"street\": \"5900 Sugarloaf Pkwy\", \"city\": \"Lawrenceville\", \"state\": \"GA\", \"zip\": \"30043\", \"phone\": \"(678) 847-5500\", \"latitude\": \"33.9807771\", \"longitude\": \"-84.080635\", \"website\": \"https://stores.basspro.com/us/ga/lawrenceville/5900-sugarloaf-pkwy.html\", \"brand\": \"Bass Pro Shops\", \"color\": \"#1F8500\", \"state_name\": \"Georgia\", \"type\": \"Feature\", \"geometry\": {\"type\": \"Point\", \"coordinates\": [-84.080635, 33.9807771]}}, {\"store_id\": 1029968681, \"street\": \"5951 Bass Pro Drive\", \"city\": \"West Chester\", \"state\": \"OH\", \"zip\": \"45069\", \"phone\": \"(513) 712-5600\", \"latitude\": \"39.31559116647875\", \"longitude\": \"-84.42912464260559\", \"website\": \"https://stores.basspro.com/us/oh/west-chester/5961-bass-pro-drive.html\", \"brand\": \"Bass Pro Shops\", \"color\": \"#1F8500\", \"state_name\": \"Ohio\", \"type\": \"Feature\", \"geometry\": {\"type\": \"Point\", \"coordinates\": [-84.42912464260559, 39.31559116647875]}}, {\"store_id\": 3011510, \"street\": \"6112 West Grand Ave\", \"city\": \"Gurnee\", \"state\": \"IL\", \"zip\": \"60031\", \"phone\": \"(847) 856-1229\", \"latitude\": \"42.389008\", \"longitude\": \"-87.954132\", \"website\": \"https://stores.basspro.com/us/il/gurnee/6112-west-grand-ave.html\", \"brand\": \"Bass Pro Shops\", \"color\": \"#1F8500\", \"state_name\": \"Illinois\", \"type\": \"Feature\", \"geometry\": {\"type\": \"Point\", \"coordinates\": [-87.954132, 42.389008]}}, {\"store_id\": 3011517, \"street\": \"6140 Macon Rd\", \"city\": \"Memphis\", \"state\": \"TN\", \"zip\": \"38134\", \"phone\": \"(901) 213-5800\", \"latitude\": \"35.1656563\", \"longitude\": \"-89.8570195\", \"website\": \"https://stores.basspro.com/us/tn/memphis/6140-macon-rd.html\", \"brand\": \"Bass Pro Shops\", \"color\": \"#1F8500\", \"state_name\": \"Tennessee\", \"type\": \"Feature\", \"geometry\": {\"type\": \"Point\", \"coordinates\": [-89.8570195, 35.1656563]}}, {\"store_id\": 3011538, \"street\": \"6425 Daniel Burnham Dr\", \"city\": \"Portage\", \"state\": \"IN\", \"zip\": \"46368\", \"phone\": \"(219) 787-6800\", \"latitude\": \"41.6030606\", \"longitude\": \"-87.1680593\", \"website\": \"https://stores.basspro.com/us/in/portage/6425-daniel-burnham-dr.html\", \"brand\": \"Bass Pro Shops\", \"color\": \"#1F8500\", \"state_name\": \"Indiana\", \"type\": \"Feature\", \"geometry\": {\"type\": \"Point\", \"coordinates\": [-87.1680593, 41.6030606]}}, {\"store_id\": 3011494, \"street\": \"7000 Arundel Mills Circle\", \"city\": \"Hanover\", \"state\": \"MD\", \"zip\": \"21076\", \"phone\": \"(410) 689-2500\", \"latitude\": \"39.1564823\", \"longitude\": \"-76.7249884\", \"website\": \"https://stores.basspro.com/us/md/hanover/7000-arundel-mills-circle.html\", \"brand\": \"Bass Pro Shops\", \"color\": \"#1F8500\", \"state_name\": \"Maryland\", \"type\": \"Feature\", \"geometry\": {\"type\": \"Point\", \"coordinates\": [-76.7249884, 39.1564823]}}, {\"store_id\": 3011537, \"street\": \"709 Janes Ave\", \"city\": \"Bolingbrook\", \"state\": \"IL\", \"zip\": \"60440\", \"phone\": \"(630) 296-2700\", \"latitude\": \"41.7171699\", \"longitude\": \"-88.0393625\", \"website\": \"https://stores.basspro.com/us/il/bolingbrook/709-janes-ave.html\", \"brand\": \"Bass Pro Shops\", \"color\": \"#1F8500\", \"state_name\": \"Illinois\", \"type\": \"Feature\", \"geometry\": {\"type\": \"Point\", \"coordinates\": [-88.0393625, 41.7171699]}}, {\"store_id\": 3011559, \"street\": \"710 Horatio St\", \"city\": \"Utica\", \"state\": \"NY\", \"zip\": \"13502\", \"phone\": \"(315) 266-4900\", \"latitude\": \"43.1250667\", \"longitude\": \"-75.2258348\", \"website\": \"https://stores.basspro.com/us/ny/utica/710-horatio-st.html\", \"brand\": \"Bass Pro Shops\", \"color\": \"#1F8500\", \"state_name\": \"New York\", \"type\": \"Feature\", \"geometry\": {\"type\": \"Point\", \"coordinates\": [-75.2258348, 43.1250667]}}, {\"store_id\": 3011557, \"street\": \"750 Bass Pro Dr NE\", \"city\": \"Palm Bay\", \"state\": \"FL\", \"zip\": \"32905\", \"phone\": \"(321) 674-3700\", \"latitude\": \"28.0338655\", \"longitude\": \"-80.6527698\", \"website\": \"https://stores.basspro.com/us/fl/palm-bay/750-bass-pro-dr-ne.html\", \"brand\": \"Bass Pro Shops\", \"color\": \"#1F8500\", \"state_name\": \"Florida\", \"type\": \"Feature\", \"geometry\": {\"type\": \"Point\", \"coordinates\": [-80.6527698, 28.0338655]}}, {\"store_id\": 3011536, \"street\": \"7777 Victoria Gardens Lane\", \"city\": \"Rancho Cucamonga\", \"state\": \"CA\", \"zip\": \"91739\", \"phone\": \"(909) 922-5500\", \"latitude\": \"34.1128128\", \"longitude\": \"-117.5270042\", \"website\": \"https://stores.basspro.com/us/ca/rancho-cucamonga/7777-victoria-gardens-lane.html\", \"brand\": \"Bass Pro Shops\", \"color\": \"#1F8500\", \"state_name\": \"California\", \"type\": \"Feature\", \"geometry\": {\"type\": \"Point\", \"coordinates\": [-117.5270042, 34.1128128]}}, {\"store_id\": 3011562, \"street\": \"7905 S Hosmer St\", \"city\": \"Tacoma\", \"state\": \"WA\", \"zip\": \"98408\", \"phone\": \"(253) 671-5700\", \"latitude\": \"47.1854799\", \"longitude\": \"-122.4603188\", \"website\": \"https://stores.basspro.com/us/wa/tacoma/7905-s-hosmer-st.html\", \"brand\": \"Bass Pro Shops\", \"color\": \"#1F8500\", \"state_name\": \"Washington\", \"type\": \"Feature\", \"geometry\": {\"type\": \"Point\", \"coordinates\": [-122.4603188, 47.1854799]}}, {\"store_id\": 3011568, \"street\": \"7970 Northfield Blvd\", \"city\": \"Denver\", \"state\": \"CO\", \"zip\": \"80238\", \"phone\": \"(720) 385-3600\", \"latitude\": \"39.7810036\", \"longitude\": \"-104.8956766\", \"website\": \"https://stores.basspro.com/us/co/denver/7970-northfield-blvd.html\", \"brand\": \"Bass Pro Shops\", \"color\": \"#1F8500\", \"state_name\": \"Colorado\", \"type\": \"Feature\", \"geometry\": {\"type\": \"Point\", \"coordinates\": [-104.8956766, 39.7810036]}}, {\"store_id\": 3011558, \"street\": \"801 Bass Pro Lane\", \"city\": \"Cary\", \"state\": \"NC\", \"zip\": \"27513\", \"phone\": \"(919) 677-5100\", \"latitude\": \"35.8302672\", \"longitude\": \"-78.771261\", \"website\": \"https://stores.basspro.com/us/nc/cary/801-bass-pro-lane.html\", \"brand\": \"Bass Pro Shops\", \"color\": \"#1F8500\", \"state_name\": \"North Carolina\", \"type\": \"Feature\", \"geometry\": {\"type\": \"Point\", \"coordinates\": [-78.771261, 35.8302672]}}, {\"store_id\": 3011498, \"street\": \"8181 Concord Mills Blvd\", \"city\": \"Concord\", \"state\": \"NC\", \"zip\": \"28027\", \"phone\": \"(704) 979-2200\", \"latitude\": \"35.3672812\", \"longitude\": \"-80.7191974\", \"website\": \"https://stores.basspro.com/us/nc/concord/8181-concord-mills-blvd.html\", \"brand\": \"Bass Pro Shops\", \"color\": \"#1F8500\", \"state_name\": \"North Carolina\", \"type\": \"Feature\", \"geometry\": {\"type\": \"Point\", \"coordinates\": [-80.7191974, 35.3672812]}}, {\"store_id\": 3011500, \"street\": \"8200 Dean Martin Dr\", \"city\": \"Las Vegas\", \"state\": \"NV\", \"zip\": \"89139\", \"phone\": \"(702) 730-5200\", \"latitude\": \"36.0407624\", \"longitude\": \"-115.1824129\", \"website\": \"https://stores.basspro.com/us/nv/las-vegas/8200-dean-martin-dr.html\", \"brand\": \"Bass Pro Shops\", \"color\": \"#1F8500\", \"state_name\": \"Nevada\", \"type\": \"Feature\", \"geometry\": {\"type\": \"Point\", \"coordinates\": [-115.1824129, 36.0407624]}}, {\"store_id\": 3986750, \"street\": \"833 Cabela Drive\", \"city\": \"Augusta\", \"state\": \"GA\", \"zip\": \"30909\", \"phone\": \"(762) 444-6500\", \"latitude\": \"33.5262203\", \"longitude\": \"-82.0181222\", \"website\": \"https://stores.basspro.com/us/ga/augusta/833-cabela-drive.html\", \"brand\": \"Bass Pro Shops\", \"color\": \"#1F8500\", \"state_name\": \"Georgia\", \"type\": \"Feature\", \"geometry\": {\"type\": \"Point\", \"coordinates\": [-82.0181222, 33.5262203]}}, {\"store_id\": 3986718, \"street\": \"9380 W Glendale Ave\", \"city\": \"Glendale\", \"state\": \"AZ\", \"zip\": \"85305\", \"phone\": \"(623) 872-6700\", \"latitude\": \"33.5394496\", \"longitude\": \"-112.2610803\", \"website\": \"https://stores.basspro.com/us/az/glendale/9380-w-glendale-ave.html\", \"brand\": \"Bass Pro Shops\", \"color\": \"#1F8500\", \"state_name\": \"Arizona\", \"type\": \"Feature\", \"geometry\": {\"type\": \"Point\", \"coordinates\": [-112.2610803, 33.5394496]}}, {\"store_id\": 3011527, \"street\": \"951 E Lewis & Clark Pkwy\", \"city\": \"Clarksville\", \"state\": \"IN\", \"zip\": \"47129\", \"phone\": \"(812) 218-5500\", \"latitude\": \"38.32064957466295\", \"longitude\": \"-85.76232432090148\", \"website\": \"https://stores.basspro.com/us/in/clarksville/951-e-lewis---clark-pkwy.html\", \"brand\": \"Bass Pro Shops\", \"color\": \"#1F8500\", \"state_name\": \"Indiana\", \"type\": \"Feature\", \"geometry\": {\"type\": \"Point\", \"coordinates\": [-85.76232432090148, 38.32064957466295]}}, {\"store_id\": 3011512, \"street\": \"81576 Overseas Highway\", \"city\": \"Islamorada\", \"state\": \"FL\", \"zip\": \"33036\", \"phone\": \"(305) 664-4615\", \"latitude\": \"24.914815\", \"longitude\": \"-80.639719\", \"website\": \"https://stores.basspro.com/us/fl/islamorada/81576-overseas-highway.html\", \"brand\": \"Bass Pro Shops\", \"color\": \"#1F8500\", \"state_name\": \"Florida\", \"type\": \"Feature\", \"geometry\": {\"type\": \"Point\", \"coordinates\": [-80.639719, 24.914815]}}, {\"store_id\": 3011541, \"street\": \"1 Bass Pro Dr\", \"city\": \"Memphis\", \"state\": \"TN\", \"zip\": \"38105\", \"phone\": \"(901) 291-8200\", \"latitude\": \"35.155113\", \"longitude\": \"-90.052262\", \"website\": \"https://stores.basspro.com/us/tn/memphis/1-bass-pro-dr.html\", \"brand\": \"Bass Pro Shops\", \"color\": \"#1F8500\", \"state_name\": \"Tennessee\", \"type\": \"Feature\", \"geometry\": {\"type\": \"Point\", \"coordinates\": [-90.052262, 35.155113]}}, {\"store_id\": 5942891, \"street\": \"2011 S Campbell Avenue\", \"city\": \"Springfield\", \"state\": \"MO\", \"zip\": \"65807\", \"phone\": \"(417) 891-5375\", \"latitude\": \"37.1782392\", \"longitude\": \"-93.2963919\", \"website\": \"https://stores.basspro.com/us/mo/springfield/2011-s-campbell-avenue.html\", \"brand\": \"Bass Pro Shops\", \"color\": \"#1F8500\", \"state_name\": \"Missouri\", \"type\": \"Feature\", \"geometry\": {\"type\": \"Point\", \"coordinates\": [-93.2963919, 37.1782392]}}, {\"store_id\": 3986713, \"street\": \"1 Cabela Drive\", \"city\": \"Triadelphia\", \"state\": \"WV\", \"zip\": \"26059\", \"phone\": \"(304) 238-0120\", \"latitude\": \"40.0595853\", \"longitude\": \"-80.5963698\", \"website\": \"https://stores.cabelas.com/us/wv/triadelphia/1-cabela-drive.html\", \"brand\": \"Cabela's\", \"color\": \"#0058a0\", \"state_name\": \"West Virginia\", \"type\": \"Feature\", \"geometry\": {\"type\": \"Point\", \"coordinates\": [-80.5963698, 40.0595853]}}, {\"store_id\": 3986735, \"street\": \"1 Cabela Drive\", \"city\": \"Allen\", \"state\": \"TX\", \"zip\": \"75002\", \"phone\": \"(214) 383-0502\", \"latitude\": \"33.12146\", \"longitude\": \"-96.6638665\", \"website\": \"https://stores.cabelas.com/us/tx/allen/1-cabela-drive.html\", \"brand\": \"Cabela's\", \"color\": \"#0058a0\", \"state_name\": \"Texas\", \"type\": \"Feature\", \"geometry\": {\"type\": \"Point\", \"coordinates\": [-96.6638665, 33.12146]}}, {\"store_id\": 3986721, \"street\": \"1 Cabela Way\", \"city\": \"Richfield\", \"state\": \"WI\", \"zip\": \"53076\", \"phone\": \"(262) 628-5700\", \"latitude\": \"43.2781581\", \"longitude\": \"-88.1877938\", \"website\": \"https://stores.cabelas.com/us/wi/richfield/1-cabela-way.html\", \"brand\": \"Cabela's\", \"color\": \"#0058a0\", \"state_name\": \"Wisconsin\", \"type\": \"Feature\", \"geometry\": {\"type\": \"Point\", \"coordinates\": [-88.1877938, 43.2781581]}}, {\"store_id\": 3986712, \"street\": \"100 Cabela Drive\", \"city\": \"Hamburg\", \"state\": \"PA\", \"zip\": \"19526\", \"phone\": \"(610) 929-7000\", \"latitude\": \"40.5576261\", \"longitude\": \"-76.0019511\", \"website\": \"https://stores.cabelas.com/us/pa/hamburg/100-cabela-drive.html\", \"brand\": \"Cabela's\", \"color\": \"#0058a0\", \"state_name\": \"Pennsylvania\", \"type\": \"Feature\", \"geometry\": {\"type\": \"Point\", \"coordinates\": [-76.0019511, 40.5576261]}}, {\"store_id\": 3986731, \"street\": \"100 Cabela's Blvd\", \"city\": \"Scarborough\", \"state\": \"ME\", \"zip\": \"04074\", \"phone\": \"(207) 883-7400\", \"latitude\": \"43.6030497\", \"longitude\": \"-70.3716764\", \"website\": \"https://stores.cabelas.com/us/me/scarborough/100-cabela-s-blvd.html\", \"brand\": \"Cabela's\", \"color\": \"#0058a0\", \"state_name\": \"Maine\", \"type\": \"Feature\", \"geometry\": {\"type\": \"Point\", \"coordinates\": [-70.3716764, 43.6030497]}}, {\"store_id\": 3986762, \"street\": \"1000 Cabelas Drive\", \"city\": \"Fort Mill\", \"state\": \"SC\", \"zip\": \"29708\", \"phone\": \"(980) 337-2600\", \"latitude\": \"35.0992639\", \"longitude\": \"-80.9330432\", \"website\": \"https://stores.cabelas.com/us/sc/fort-mill/1000-cabelas-drive.html\", \"brand\": \"Cabela's\", \"color\": \"#0058a0\", \"state_name\": \"South Carolina\", \"type\": \"Feature\", \"geometry\": {\"type\": \"Point\", \"coordinates\": [-80.9330432, 35.0992639]}}, {\"store_id\": 3986728, \"street\": \"101 N Cabela Way\", \"city\": \"Post Falls\", \"state\": \"ID\", \"zip\": \"83854\", \"phone\": \"(208) 777-6300\", \"latitude\": \"47.6993138\", \"longitude\": \"-117.0395559\", \"website\": \"https://stores.cabelas.com/us/id/post-falls/101-n-cabela-way.html\", \"brand\": \"Cabela's\", \"color\": \"#0058a0\", \"state_name\": \"Idaho\", \"type\": \"Feature\", \"geometry\": {\"type\": \"Point\", \"coordinates\": [-117.0395559, 47.6993138]}}, {\"store_id\": 3986747, \"street\": \"10670 Cabela Dr\", \"city\": \"Lone Tree\", \"state\": \"CO\", \"zip\": \"80124\", \"phone\": \"(303) 625-9920\", \"latitude\": \"39.5211209\", \"longitude\": \"-104.8693604\", \"website\": \"https://stores.cabelas.com/us/co/lone-tree/10670-cabela-dr.html\", \"brand\": \"Cabela's\", \"color\": \"#0058a0\", \"state_name\": \"Colorado\", \"type\": \"Feature\", \"geometry\": {\"type\": \"Point\", \"coordinates\": [-104.8693604, 39.5211209]}}, {\"store_id\": 3986710, \"street\": \"110 Cabela Blvd East\", \"city\": \"Dundee\", \"state\": \"MI\", \"zip\": \"48131\", \"phone\": \"(734) 529-4700\", \"latitude\": \"41.9644132\", \"longitude\": \"-83.6762443\", \"website\": \"https://stores.cabelas.com/us/mi/dundee/110-cabela-blvd-east.html\", \"brand\": \"Cabela's\", \"color\": \"#0058a0\", \"state_name\": \"Michigan\", \"type\": \"Feature\", \"geometry\": {\"type\": \"Point\", \"coordinates\": [-83.6762443, 41.9644132]}}, {\"store_id\": 3986753, \"street\": \"1100 Christiana Mall\", \"city\": \"Newark\", \"state\": \"DE\", \"zip\": \"19702\", \"phone\": \"(302) 266-2300\", \"latitude\": \"39.683219290127916\", \"longitude\": \"-75.65263932337984\", \"website\": \"https://stores.cabelas.com/us/de/newark/1100-christiana-mall.html\", \"brand\": \"Cabela's\", \"color\": \"#0058a0\", \"state_name\": \"Delaware\", \"type\": \"Feature\", \"geometry\": {\"type\": \"Point\", \"coordinates\": [-75.65263932337984, 39.683219290127916]}}, {\"store_id\": 3986704, \"street\": \"115 Cabela Drive\", \"city\": \"Sidney\", \"state\": \"NE\", \"zip\": \"69162\", \"phone\": \"(308) 255-7889\", \"latitude\": \"41.1146496\", \"longitude\": \"-102.9563223\", \"website\": \"https://stores.cabelas.com/us/ne/sidney/115-cabela-drive.html\", \"brand\": \"Cabela's\", \"color\": \"#0058a0\", \"state_name\": \"Nebraska\", \"type\": \"Feature\", \"geometry\": {\"type\": \"Point\", \"coordinates\": [-102.9563223, 41.1146496]}}, {\"store_id\": 3986771, \"street\": \"1200 W Memorial Rd\", \"city\": \"Oklahoma City\", \"state\": \"OK\", \"zip\": \"73114\", \"phone\": \"(405) 546-3500\", \"latitude\": \"35.605703\", \"longitude\": \"-97.5343856\", \"website\": \"https://stores.cabelas.com/us/ok/oklahoma-city/1200-w-memorial-rd.html\", \"brand\": \"Cabela's\", \"color\": \"#0058a0\", \"state_name\": \"Oklahoma\", \"type\": \"Feature\", \"geometry\": {\"type\": \"Point\", \"coordinates\": [-97.5343856, 35.605703]}}, {\"store_id\": 3986749, \"street\": \"125 Treeline Road\", \"city\": \"Kalispell\", \"state\": \"MT\", \"zip\": \"59901\", \"phone\": \"(406) 203-5200\", \"latitude\": \"48.2390837\", \"longitude\": \"-114.3332806\", \"website\": \"https://stores.cabelas.com/us/mt/kalispell/125-treeline-road.html\", \"brand\": \"Cabela's\", \"color\": \"#0058a0\", \"state_name\": \"Montana\", \"type\": \"Feature\", \"geometry\": {\"type\": \"Point\", \"coordinates\": [-114.3332806, 48.2390837]}}, {\"store_id\": 3986720, \"street\": \"12703 Westport Parkway\", \"city\": \"La Vista\", \"state\": \"NE\", \"zip\": \"68138\", \"phone\": \"(402) 861-4800\", \"latitude\": \"41.1793079\", \"longitude\": \"-96.1114093\", \"website\": \"https://stores.cabelas.com/us/ne/la-vista/12703-westport-parkway.html\", \"brand\": \"Cabela's\", \"color\": \"#0058a0\", \"state_name\": \"Nebraska\", \"type\": \"Feature\", \"geometry\": {\"type\": \"Point\", \"coordinates\": [-96.1114093, 41.1793079]}}, {\"store_id\": 3986714, \"street\": \"12901 Cabelas Drive\", \"city\": \"Fort Worth\", \"state\": \"TX\", \"zip\": \"76177\", \"phone\": \"(817) 337-2400\", \"latitude\": \"32.9610694\", \"longitude\": \"-97.3081788\", \"website\": \"https://stores.cabelas.com/us/tx/fort-worth/12901-cabelas-drive.html\", \"brand\": \"Cabela's\", \"color\": \"#0058a0\", \"state_name\": \"Texas\", \"type\": \"Feature\", \"geometry\": {\"type\": \"Point\", \"coordinates\": [-97.3081788, 32.9610694]}}, {\"store_id\": 3986768, \"street\": \"13725 Cabela Parkway\", \"city\": \"Noblesville\", \"state\": \"IN\", \"zip\": \"46060\", \"phone\": \"(317) 565-6400\", \"latitude\": \"39.9888888\", \"longitude\": \"-85.9368389\", \"website\": \"https://stores.cabelas.com/us/in/noblesville/13725-cabela-parkway.html\", \"brand\": \"Cabela's\", \"color\": \"#0058a0\", \"state_name\": \"Indiana\", \"type\": \"Feature\", \"geometry\": {\"type\": \"Point\", \"coordinates\": [-85.9368389, 39.9888888]}}, {\"store_id\": 3986740, \"street\": \"1400 E Washington Ave\", \"city\": \"Union Gap\", \"state\": \"WA\", \"zip\": \"98903\", \"phone\": \"(509) 941-2100\", \"latitude\": \"46.5689479\", \"longitude\": \"-120.4821743\", \"website\": \"https://stores.cabelas.com/us/wa/union-gap/1400-e-washington-ave.html\", \"brand\": \"Cabela's\", \"color\": \"#0058a0\", \"state_name\": \"Washington\", \"type\": \"Feature\", \"geometry\": {\"type\": \"Point\", \"coordinates\": [-120.4821743, 46.5689479]}}, {\"store_id\": 3986746, \"street\": \"14050 Lincoln Street\", \"city\": \"Thornton\", \"state\": \"CO\", \"zip\": \"80023\", \"phone\": \"(303) 625-6100\", \"latitude\": \"39.951649\", \"longitude\": \"-104.9856052\", \"website\": \"https://stores.cabelas.com/us/co/thornton/14050-lincoln-street.html\", \"brand\": \"Cabela's\", \"color\": \"#0058a0\", \"state_name\": \"Colorado\", \"type\": \"Feature\", \"geometry\": {\"type\": \"Point\", \"coordinates\": [-104.9856052, 39.951649]}}, {\"store_id\": 3986745, \"street\": \"1499 Lombardi Avenue\", \"city\": \"Ashwaubenon\", \"state\": \"WI\", \"zip\": \"54304\", \"phone\": \"(920) 264-0140\", \"latitude\": \"44.5071607\", \"longitude\": \"-88.080441\", \"website\": \"https://stores.cabelas.com/us/wi/ashwaubenon/1499-lombardi-avenue.html\", \"brand\": \"Cabela's\", \"color\": \"#0058a0\", \"state_name\": \"Wisconsin\", \"type\": \"Feature\", \"geometry\": {\"type\": \"Point\", \"coordinates\": [-88.080441, 44.5071607]}}, {\"store_id\": 3986773, \"street\": \"1510 Conservation Way\", \"city\": \"Lexington\", \"state\": \"KY\", \"zip\": \"40509\", \"phone\": \"(859) 286-5300\", \"latitude\": \"38.0257871\", \"longitude\": \"-84.4116534\", \"website\": \"https://stores.cabelas.com/us/ky/lexington/1510-conservation-way.html\", \"brand\": \"Cabela's\", \"color\": \"#0058a0\", \"state_name\": \"Kentucky\", \"type\": \"Feature\", \"geometry\": {\"type\": \"Point\", \"coordinates\": [-84.4116534, 38.0257871]}}, {\"store_id\": 3986752, \"street\": \"155 W 104th Avenue\", \"city\": \"Anchorage\", \"state\": \"AK\", \"zip\": \"99515\", \"phone\": \"(907) 341-3400\", \"latitude\": \"61.1274353\", \"longitude\": \"-149.880339\", \"website\": \"https://stores.cabelas.com/us/ak/anchorage/155-w-104th-avenue.html\", \"brand\": \"Cabela's\", \"color\": \"#0058a0\", \"state_name\": \"Alaska\", \"type\": \"Feature\", \"geometry\": {\"type\": \"Point\", \"coordinates\": [-149.880339, 61.1274353]}}, {\"store_id\": 3986715, \"street\": \"15570 South Interstate 35 Frontage Road\", \"city\": \"Buda\", \"state\": \"TX\", \"zip\": \"78610\", \"phone\": \"(512) 295-1100\", \"latitude\": \"30.082528\", \"longitude\": \"-97.8262597\", \"website\": \"https://stores.cabelas.com/us/tx/buda/15570-south-interstate-35-frontage-road.html\", \"brand\": \"Cabela's\", \"color\": \"#0058a0\", \"state_name\": \"Texas\", \"type\": \"Feature\", \"geometry\": {\"type\": \"Point\", \"coordinates\": [-97.8262597, 30.082528]}}, {\"store_id\": 3986729, \"street\": \"1600 Gateway Boulevard Northeast\", \"city\": \"Lacey\", \"state\": \"WA\", \"zip\": \"98516\", \"phone\": \"(360) 252-3500\", \"latitude\": \"47.0620618\", \"longitude\": \"-122.7847883\", \"website\": \"https://stores.cabelas.com/us/wa/lacey/1600-gateway-boulevard-northeast.html\", \"brand\": \"Cabela's\", \"color\": \"#0058a0\", \"state_name\": \"Washington\", \"type\": \"Feature\", \"geometry\": {\"type\": \"Point\", \"coordinates\": [-122.7847883, 47.0620618]}}, {\"store_id\": 3986742, \"street\": \"1650 Gemini Pl\", \"city\": \"Columbus\", \"state\": \"OH\", \"zip\": \"43240\", \"phone\": \"(614) 702-2300\", \"latitude\": \"40.1493035\", \"longitude\": \"-82.9730806\", \"website\": \"https://stores.cabelas.com/us/oh/columbus/1650-gemini-pl.html\", \"brand\": \"Cabela's\", \"color\": \"#0058a0\", \"state_name\": \"Ohio\", \"type\": \"Feature\", \"geometry\": {\"type\": \"Point\", \"coordinates\": [-82.9730806, 40.1493035]}}, {\"store_id\": 3986739, \"street\": \"200 Cross Terrace Blvd\", \"city\": \"Charleston\", \"state\": \"WV\", \"zip\": \"25309\", \"phone\": \"(304) 400-6000\", \"latitude\": \"38.3145617\", \"longitude\": \"-81.7167089\", \"website\": \"https://stores.cabelas.com/us/wv/charleston/200-cross-terrace-blvd.html\", \"brand\": \"Cabela's\", \"color\": \"#0058a0\", \"state_name\": \"West Virginia\", \"type\": \"Feature\", \"geometry\": {\"type\": \"Point\", \"coordinates\": [-81.7167089, 38.3145617]}}, {\"store_id\": 3986758, \"street\": \"2003 Walden Ave\", \"city\": \"Cheektowaga\", \"state\": \"NY\", \"zip\": \"14225\", \"phone\": \"(716) 608-4770\", \"latitude\": \"42.9054488\", \"longitude\": \"-78.7630389\", \"website\": \"https://stores.cabelas.com/us/ny/cheektowaga/2003-walden-ave.html\", \"brand\": \"Cabela's\", \"color\": \"#0058a0\", \"state_name\": \"New York\", \"type\": \"Feature\", \"geometry\": {\"type\": \"Point\", \"coordinates\": [-78.7630389, 42.9054488]}}, {\"store_id\": 3986717, \"street\": \"20200 Rogers Drive\", \"city\": \"Rogers\", \"state\": \"MN\", \"zip\": \"55374\", \"phone\": \"(763) 493-8600\", \"latitude\": \"45.187655\", \"longitude\": \"-93.5365599\", \"website\": \"https://stores.cabelas.com/us/mn/rogers/20200-rogers-drive.html\", \"brand\": \"Cabela's\", \"color\": \"#0058a0\", \"state_name\": \"Minnesota\", \"type\": \"Feature\", \"geometry\": {\"type\": \"Point\", \"coordinates\": [-93.5365599, 45.187655]}}, {\"store_id\": 3986708, \"street\": \"210 Demers Ave NW\", \"city\": \"East Grand Forks\", \"state\": \"MN\", \"zip\": \"56721\", \"phone\": \"(218) 773-0282\", \"latitude\": \"47.9282158\", \"longitude\": \"-97.0255384\", \"website\": \"https://stores.cabelas.com/us/mn/east-grand-forks/210-demers-ave-nw.html\", \"brand\": \"Cabela's\", \"color\": \"#0058a0\", \"state_name\": \"Minnesota\", \"type\": \"Feature\", \"geometry\": {\"type\": \"Point\", \"coordinates\": [-97.0255384, 47.9282158]}}, {\"store_id\": 3986719, \"street\": \"2200 W Cabela's Parkway\", \"city\": \"Gonzales\", \"state\": \"LA\", \"zip\": \"70737\", \"phone\": \"(225) 743-3400\", \"latitude\": \"30.2055072\", \"longitude\": \"-90.9462143\", \"website\": \"https://stores.cabelas.com/us/la/gonzales/2200-w-cabela-s-parkway.html\", \"brand\": \"Cabela's\", \"color\": \"#0058a0\", \"state_name\": \"Louisiana\", \"type\": \"Feature\", \"geometry\": {\"type\": \"Point\", \"coordinates\": [-90.9462143, 30.2055072]}}, {\"store_id\": 3986733, \"street\": \"2424 US Hwy 6\", \"city\": \"Grand Junction\", \"state\": \"CO\", \"zip\": \"81505\", \"phone\": \"(970) 683-5000\", \"latitude\": \"39.0909214\", \"longitude\": \"-108.602419\", \"website\": \"https://stores.cabelas.com/us/co/grand-junction/2424-us-hwy-6.html\", \"brand\": \"Cabela's\", \"color\": \"#0058a0\", \"state_name\": \"Colorado\", \"type\": \"Feature\", \"geometry\": {\"type\": \"Point\", \"coordinates\": [-108.602419, 39.0909214]}}, {\"store_id\": 3986736, \"street\": \"2427 N Greenwich Rd\", \"city\": \"Wichita\", \"state\": \"KS\", \"zip\": \"67226\", \"phone\": \"(316) 854-3130\", \"latitude\": \"37.7272897\", \"longitude\": \"-97.2120552\", \"website\": \"https://stores.cabelas.com/us/ks/wichita/2427-n-greenwich-rd.html\", \"brand\": \"Cabela's\", \"color\": \"#0058a0\", \"state_name\": \"Kansas\", \"type\": \"Feature\", \"geometry\": {\"type\": \"Point\", \"coordinates\": [-97.2120552, 37.7272897]}}, {\"store_id\": 3986716, \"street\": \"2502 West Cabela's Boulevard\", \"city\": \"Lehi\", \"state\": \"UT\", \"zip\": \"84043\", \"phone\": \"(801) 766-2500\", \"latitude\": \"40.4376889\", \"longitude\": \"-111.8888703\", \"website\": \"https://stores.cabelas.com/us/ut/lehi/2502-west-cabela-s-boulevard.html\", \"brand\": \"Cabela's\", \"color\": \"#0058a0\", \"state_name\": \"Utah\", \"type\": \"Feature\", \"geometry\": {\"type\": \"Point\", \"coordinates\": [-111.8888703, 40.4376889]}}, {\"store_id\": 3986748, \"street\": \"2700 Marketplace Drive\", \"city\": \"Waco\", \"state\": \"TX\", \"zip\": \"76711\", \"phone\": \"(254) 870-4300\", \"latitude\": \"31.499156\", \"longitude\": \"-97.1522678\", \"website\": \"https://stores.cabelas.com/us/tx/waco/2700-marketplace-drive.html\", \"brand\": \"Cabela's\", \"color\": \"#0058a0\", \"state_name\": \"Texas\", \"type\": \"Feature\", \"geometry\": {\"type\": \"Point\", \"coordinates\": [-97.1522678, 31.499156]}}, {\"store_id\": 3986734, \"street\": \"2800 Gateway Street\", \"city\": \"Springfield\", \"state\": \"OR\", \"zip\": \"97477\", \"phone\": \"(541) 349-5760\", \"latitude\": \"44.0731093\", \"longitude\": \"-123.0463667\", \"website\": \"https://stores.cabelas.com/us/or/springfield/2800-gateway-street.html\", \"brand\": \"Cabela's\", \"color\": \"#0058a0\", \"state_name\": \"Oregon\", \"type\": \"Feature\", \"geometry\": {\"type\": \"Point\", \"coordinates\": [-123.0463667, 44.0731093]}}, {\"store_id\": 3986743, \"street\": \"3000 44th Street Southwest\", \"city\": \"Grandville\", \"state\": \"MI\", \"zip\": \"49418\", \"phone\": \"(616) 682-6700\", \"latitude\": \"42.8826177\", \"longitude\": \"-85.7383977\", \"website\": \"https://stores.cabelas.com/us/mi/grandville/3000-44th-street-southwest.html\", \"brand\": \"Cabela's\", \"color\": \"#0058a0\", \"state_name\": \"Michigan\", \"type\": \"Feature\", \"geometry\": {\"type\": \"Point\", \"coordinates\": [-85.7383977, 42.8826177]}}, {\"store_id\": 3986756, \"street\": \"3030 W Loop 289\", \"city\": \"Lubbock\", \"state\": \"TX\", \"zip\": \"79407\", \"phone\": \"(806) 472-4300\", \"latitude\": \"33.5660004\", \"longitude\": \"-101.9474236\", \"website\": \"https://stores.cabelas.com/us/tx/lubbock/3030-w-loop-289.html\", \"brand\": \"Cabela's\", \"color\": \"#0058a0\", \"state_name\": \"Texas\", \"type\": \"Feature\", \"geometry\": {\"type\": \"Point\", \"coordinates\": [-101.9474236, 33.5660004]}}, {\"store_id\": 3986730, \"street\": \"3231 E Mall Dr\", \"city\": \"Rapid City\", \"state\": \"SD\", \"zip\": \"57701\", \"phone\": \"(605) 388-5600\", \"latitude\": \"44.10066479964673\", \"longitude\": \"-103.16286711031353\", \"website\": \"https://stores.cabelas.com/us/sd/rapid-city/3231-e-mall-dr.html\", \"brand\": \"Cabela's\", \"color\": \"#0058a0\", \"state_name\": \"South Dakota\", \"type\": \"Feature\", \"geometry\": {\"type\": \"Point\", \"coordinates\": [-103.16286711031353, 44.10066479964673]}}, {\"store_id\": 3986707, \"street\": \"33901 St Hwy 35\", \"city\": \"Prairie du Chien\", \"state\": \"WI\", \"zip\": \"53821\", \"phone\": \"(608) 326-5600\", \"latitude\": \"43.0725833\", \"longitude\": \"-91.1376876\", \"website\": \"https://stores.cabelas.com/us/wi/prairie-du-chien/33901-st-hwy-35.html\", \"brand\": \"Cabela's\", \"color\": \"#0058a0\", \"state_name\": \"Wisconsin\", \"type\": \"Feature\", \"geometry\": {\"type\": \"Point\", \"coordinates\": [-91.1376876, 43.0725833]}}, {\"store_id\": 3986761, \"street\": \"3395 Nell O'Bryan Court\", \"city\": \"Bowling Green\", \"state\": \"KY\", \"zip\": \"42103\", \"phone\": \"(270) 936-8300\", \"latitude\": \"36.9381324\", \"longitude\": \"-86.4174512\", \"website\": \"https://stores.cabelas.com/us/ky/bowling-green/3395-nell-o-bryan-court.html\", \"brand\": \"Cabela's\", \"color\": \"#0058a0\", \"state_name\": \"Kentucky\", \"type\": \"Feature\", \"geometry\": {\"type\": \"Point\", \"coordinates\": [-86.4174512, 36.9381324]}}, {\"store_id\": 3986777, \"street\": \"35685 Chester Road\", \"city\": \"Avon\", \"state\": \"OH\", \"zip\": \"44011\", \"phone\": \"(440) 723-5600\", \"latitude\": \"41.465467\", \"longitude\": \"-82.0129968\", \"website\": \"https://stores.cabelas.com/us/oh/avon/35685-chester-road.html\", \"brand\": \"Cabela's\", \"color\": \"#0058a0\", \"state_name\": \"Ohio\", \"type\": \"Feature\", \"geometry\": {\"type\": \"Point\", \"coordinates\": [-82.0129968, 41.465467]}}, {\"store_id\": 3986705, \"street\": \"3600 US 30\", \"city\": \"Kearney\", \"state\": \"NE\", \"zip\": \"68847\", \"phone\": \"(308) 234-3933\", \"latitude\": \"40.7076493\", \"longitude\": \"-99.0334422\", \"website\": \"https://stores.cabelas.com/us/ne/kearney/3600-us-30.html\", \"brand\": \"Cabela's\", \"color\": \"#0058a0\", \"state_name\": \"Nebraska\", \"type\": \"Feature\", \"geometry\": {\"type\": \"Point\", \"coordinates\": [-99.0334422, 40.7076493]}}, {\"store_id\": 3986755, \"street\": \"3650 Brooks Street\", \"city\": \"Missoula\", \"state\": \"MT\", \"zip\": \"59801\", \"phone\": \"(406) 203-5400\", \"latitude\": \"46.8357105\", \"longitude\": \"-114.0373068\", \"website\": \"https://stores.cabelas.com/us/mt/missoula/3650-brooks-street.html\", \"brand\": \"Cabela's\", \"color\": \"#0058a0\", \"state_name\": \"Montana\", \"type\": \"Feature\", \"geometry\": {\"type\": \"Point\", \"coordinates\": [-114.0373068, 46.8357105]}}, {\"store_id\": 3986766, \"street\": \"3693 South 25th East\", \"city\": \"Ammon\", \"state\": \"ID\", \"zip\": \"83406\", \"phone\": \"(208) 932-2900\", \"latitude\": \"43.464545\", \"longitude\": \"-111.981152\", \"website\": \"https://stores.cabelas.com/us/id/ammon/3693-south-25th-east.html\", \"brand\": \"Cabela's\", \"color\": \"#0058a0\", \"state_name\": \"Idaho\", \"type\": \"Feature\", \"geometry\": {\"type\": \"Point\", \"coordinates\": [-111.981152, 43.464545]}}, {\"store_id\": 3986706, \"street\": \"3900 Cabela Drive\", \"city\": \"Owatonna\", \"state\": \"MN\", \"zip\": \"55060\", \"phone\": \"(507) 451-4545\", \"latitude\": \"44.1346596\", \"longitude\": \"-93.2505138\", \"website\": \"https://stores.cabelas.com/us/mn/owatonna/3900-cabela-drive.html\", \"brand\": \"Cabela's\", \"color\": \"#0058a0\", \"state_name\": \"Minnesota\", \"type\": \"Feature\", \"geometry\": {\"type\": \"Point\", \"coordinates\": [-93.2505138, 44.1346596]}}, {\"store_id\": 3986776, \"street\": \"391 N Cabela Dr\", \"city\": \"Farmington\", \"state\": \"UT\", \"zip\": \"84025\", \"phone\": \"(801) 939-3700\", \"latitude\": \"40.9864584\", \"longitude\": \"-111.9120169\", \"website\": \"https://stores.cabelas.com/us/ut/farmington/391-n-cabela-dr.html\", \"brand\": \"Cabela's\", \"color\": \"#0058a0\", \"state_name\": \"Utah\", \"type\": \"Feature\", \"geometry\": {\"type\": \"Point\", \"coordinates\": [-111.9120169, 40.9864584]}}, {\"store_id\": 3986763, \"street\": \"44 Highland Common\", \"city\": \"Hudson\", \"state\": \"MA\", \"zip\": \"01749\", \"phone\": \"(978) 212-6200\", \"latitude\": \"42.3917989\", \"longitude\": \"-71.5969904\", \"website\": \"https://stores.cabelas.com/us/ma/hudson/44-highland-common.html\", \"brand\": \"Cabela's\", \"color\": \"#0058a0\", \"state_name\": \"Massachusetts\", \"type\": \"Feature\", \"geometry\": {\"type\": \"Point\", \"coordinates\": [-71.5969904, 42.3917989]}}, {\"store_id\": 3986732, \"street\": \"4550 King Avenue East\", \"city\": \"Billings\", \"state\": \"MT\", \"zip\": \"59101\", \"phone\": \"(406) 373-7300\", \"latitude\": \"45.7530621\", \"longitude\": \"-108.5291599\", \"website\": \"https://stores.cabelas.com/us/mt/billings/4550-king-avenue-east.html\", \"brand\": \"Cabela's\", \"color\": \"#0058a0\", \"state_name\": \"Montana\", \"type\": \"Feature\", \"geometry\": {\"type\": \"Point\", \"coordinates\": [-108.5291599, 45.7530621]}}, {\"store_id\": 3986726, \"street\": \"475 E Hartford Blvd\", \"city\": \"East Hartford\", \"state\": \"CT\", \"zip\": \"06118\", \"phone\": \"(860) 290-6200\", \"latitude\": \"41.7555743\", \"longitude\": \"-72.6222214\", \"website\": \"https://stores.cabelas.com/us/ct/east-hartford/475-e-hartford-blvd.html\", \"brand\": \"Cabela's\", \"color\": \"#0058a0\", \"state_name\": \"Connecticut\", \"type\": \"Feature\", \"geometry\": {\"type\": \"Point\", \"coordinates\": [-72.6222214, 41.7555743]}}, {\"store_id\": 3986774, \"street\": \"5000 Cabela Drive\", \"city\": \"Henrico\", \"state\": \"VA\", \"zip\": \"23233\", \"phone\": \"(804) 340-7300\", \"latitude\": \"37.6643021\", \"longitude\": \"-77.6376755\", \"website\": \"https://stores.cabelas.com/us/va/henrico/5000-cabela-drive.html\", \"brand\": \"Cabela's\", \"color\": \"#0058a0\", \"state_name\": \"Virginia\", \"type\": \"Feature\", \"geometry\": {\"type\": \"Point\", \"coordinates\": [-77.6376755, 37.6643021]}}, {\"store_id\": 3986744, \"street\": \"5100 Norton Healthcare Blvd\", \"city\": \"Louisville\", \"state\": \"KY\", \"zip\": \"40241\", \"phone\": \"(502) 365-9020\", \"latitude\": \"38.3134101\", \"longitude\": \"-85.5704889\", \"website\": \"https://stores.cabelas.com/us/ky/louisville/5100-norton-healthcare-blvd.html\", \"brand\": \"Cabela's\", \"color\": \"#0058a0\", \"state_name\": \"Kentucky\", \"type\": \"Feature\", \"geometry\": {\"type\": \"Point\", \"coordinates\": [-85.5704889, 38.3134101]}}, {\"store_id\": 8278852, \"street\": \"5151 Lang Ave NE\", \"city\": \"Albuquerque\", \"state\": \"NM\", \"zip\": \"87109\", \"phone\": \"(505) 336-2700\", \"latitude\": \"35.1732671\", \"longitude\": \"-106.5863937\", \"website\": \"https://stores.cabelas.com/us/nm/albuquerque/5151-lang-ave-ne.html\", \"brand\": \"Cabela's\", \"color\": \"#0058a0\", \"state_name\": \"New Mexico\", \"type\": \"Feature\", \"geometry\": {\"type\": \"Point\", \"coordinates\": [-106.5863937, 35.1732671]}}, {\"store_id\": 3986741, \"street\": \"5202 Bay Road\", \"city\": \"Saginaw\", \"state\": \"MI\", \"zip\": \"48604\", \"phone\": \"(989) 321-5700\", \"latitude\": \"43.481432\", \"longitude\": \"-83.9742307\", \"website\": \"https://stores.cabelas.com/us/mi/saginaw/5202-bay-road.html\", \"brand\": \"Cabela's\", \"color\": \"#0058a0\", \"state_name\": \"Michigan\", \"type\": \"Feature\", \"geometry\": {\"type\": \"Point\", \"coordinates\": [-83.9742307, 43.481432]}}, {\"store_id\": 3986724, \"street\": \"5225 Prairie Stone Pkwy\", \"city\": \"Hoffman Estates\", \"state\": \"IL\", \"zip\": \"60192\", \"phone\": \"(847) 645-0400\", \"latitude\": \"42.0725794\", \"longitude\": \"-88.2051852\", \"website\": \"https://stores.cabelas.com/us/il/hoffman-estates/5225-prairie-stone-pkwy.html\", \"brand\": \"Cabela's\", \"color\": \"#0058a0\", \"state_name\": \"Illinois\", \"type\": \"Feature\", \"geometry\": {\"type\": \"Point\", \"coordinates\": [-88.2051852, 42.0725794]}}, {\"store_id\": 4489732, \"street\": \"5291 Wellington Branch Dr.\", \"city\": \"Gainesville\", \"state\": \"VA\", \"zip\": \"20155\", \"phone\": \"(571) 222-9000\", \"latitude\": \"38.7970129\", \"longitude\": \"-77.5993031\", \"website\": \"https://stores.cabelas.com/us/va/gainesville/5291-wellington-branch-dr.html\", \"brand\": \"Cabela's\", \"color\": \"#0058a0\", \"state_name\": \"Virginia\", \"type\": \"Feature\", \"geometry\": {\"type\": \"Point\", \"coordinates\": [-77.5993031, 38.7970129]}}, {\"store_id\": 3986775, \"street\": \"5500 Cornerstone North Blvd\", \"city\": \"Centerville\", \"state\": \"OH\", \"zip\": \"45440\", \"phone\": \"(937) 949-2000\", \"latitude\": \"39.6618953\", \"longitude\": \"-84.1011233\", \"website\": \"https://stores.cabelas.com/us/oh/centerville/5500-cornerstone-north-blvd.html\", \"brand\": \"Cabela's\", \"color\": \"#0058a0\", \"state_name\": \"Ohio\", \"type\": \"Feature\", \"geometry\": {\"type\": \"Point\", \"coordinates\": [-84.1011233, 39.6618953]}}, {\"store_id\": 3986723, \"street\": \"5555 St Louis Mills Boulevard\", \"city\": \"Hazelwood\", \"state\": \"MO\", \"zip\": \"63042\", \"phone\": \"(314) 225-0100\", \"latitude\": \"38.7871306\", \"longitude\": \"-90.4147936\", \"website\": \"https://stores.cabelas.com/us/mo/hazelwood/5555-st-louis-mills-boulevard.html\", \"brand\": \"Cabela's\", \"color\": \"#0058a0\", \"state_name\": \"Missouri\", \"type\": \"Feature\", \"geometry\": {\"type\": \"Point\", \"coordinates\": [-90.4147936, 38.7871306]}}, {\"store_id\": 3986709, \"street\": \"601 Cabela Drive\", \"city\": \"Mitchell\", \"state\": \"SD\", \"zip\": \"57301\", \"phone\": \"(605) 996-0337\", \"latitude\": \"43.689808\", \"longitude\": \"-98.017678\", \"website\": \"https://stores.cabelas.com/us/sd/mitchell/601-cabela-drive.html\", \"brand\": \"Cabela's\", \"color\": \"#0058a0\", \"state_name\": \"South Dakota\", \"type\": \"Feature\", \"geometry\": {\"type\": \"Point\", \"coordinates\": [-98.017678, 43.689808]}}, {\"store_id\": 8247301, \"street\": \"6450-10 Desert Blvd. North\", \"city\": \"El Paso\", \"state\": \"TX\", \"zip\": \"79912\", \"phone\": \"(915) 263-8100\", \"latitude\": \"31.8883395\", \"longitude\": \"-106.5794581\", \"website\": \"https://stores.cabelas.com/us/tx/el-paso/6450-10-desert-blvd--north.html\", \"brand\": \"Cabela's\", \"color\": \"#0058a0\", \"state_name\": \"Texas\", \"type\": \"Feature\", \"geometry\": {\"type\": \"Point\", \"coordinates\": [-106.5794581, 31.8883395]}}, {\"store_id\": 3986769, \"street\": \"7090 Cabela Drive NW\", \"city\": \"Huntsville\", \"state\": \"AL\", \"zip\": \"35806\", \"phone\": \"(256) 517-7200\", \"latitude\": \"34.7070819\", \"longitude\": \"-86.6830088\", \"website\": \"https://stores.cabelas.com/us/al/huntsville/7090-cabela-drive-nw.html\", \"brand\": \"Cabela's\", \"color\": \"#0058a0\", \"state_name\": \"Alabama\", \"type\": \"Feature\", \"geometry\": {\"type\": \"Point\", \"coordinates\": [-86.6830088, 34.7070819]}}, {\"store_id\": 3986759, \"street\": \"7555 Southwest Nyberg Street\", \"city\": \"Tualatin\", \"state\": \"OR\", \"zip\": \"97062\", \"phone\": \"(503) 822-2000\", \"latitude\": \"45.384515\", \"longitude\": \"-122.7545712\", \"website\": \"https://stores.cabelas.com/us/or/tualatin/7555-southwest-nyberg-street.html\", \"brand\": \"Cabela's\", \"color\": \"#0058a0\", \"state_name\": \"Oregon\", \"type\": \"Feature\", \"geometry\": {\"type\": \"Point\", \"coordinates\": [-122.7545712, 45.384515]}}, {\"store_id\": 3986727, \"street\": \"7700 Cabela Dr\", \"city\": \"Hammond\", \"state\": \"IN\", \"zip\": \"46324\", \"phone\": \"(219) 845-9040\", \"latitude\": \"41.5727799\", \"longitude\": \"-87.4826518\", \"website\": \"https://stores.cabelas.com/us/in/hammond/7700-cabela-dr.html\", \"brand\": \"Cabela's\", \"color\": \"#0058a0\", \"state_name\": \"Indiana\", \"type\": \"Feature\", \"geometry\": {\"type\": \"Point\", \"coordinates\": [-87.4826518, 41.5727799]}}, {\"store_id\": 3986722, \"street\": \"8109 West Franklin Road\", \"city\": \"Boise\", \"state\": \"ID\", \"zip\": \"83709\", \"phone\": \"(208) 672-7900\", \"latitude\": \"43.6032515\", \"longitude\": \"-116.2831622\", \"website\": \"https://stores.cabelas.com/us/id/boise/8109-west-franklin-road.html\", \"brand\": \"Cabela's\", \"color\": \"#0058a0\", \"state_name\": \"Idaho\", \"type\": \"Feature\", \"geometry\": {\"type\": \"Point\", \"coordinates\": [-116.2831622, 43.6032515]}}, {\"store_id\": 3986754, \"street\": \"8400 Hudson Road\", \"city\": \"Woodbury\", \"state\": \"MN\", \"zip\": \"55125\", \"phone\": \"(612) 255-0000\", \"latitude\": \"44.9462631\", \"longitude\": \"-92.9362739\", \"website\": \"https://stores.cabelas.com/us/mn/woodbury/8400-hudson-road.html\", \"brand\": \"Cabela's\", \"color\": \"#0058a0\", \"state_name\": \"Minnesota\", \"type\": \"Feature\", \"geometry\": {\"type\": \"Point\", \"coordinates\": [-92.9362739, 44.9462631]}}, {\"store_id\": 3986725, \"street\": \"8650 Boomtown Garson Road\", \"city\": \"Verdi\", \"state\": \"NV\", \"zip\": \"89439\", \"phone\": \"(775) 829-4100\", \"latitude\": \"39.513096\", \"longitude\": \"-119.9686998\", \"website\": \"https://stores.cabelas.com/us/nv/verdi/8650-boomtown-garson-road.html\", \"brand\": \"Cabela's\", \"color\": \"#0058a0\", \"state_name\": \"Nevada\", \"type\": \"Feature\", \"geometry\": {\"type\": \"Point\", \"coordinates\": [-119.9686998, 39.513096]}}, {\"store_id\": 3986737, \"street\": \"9810 Quil Ceda Boulevard\", \"city\": \"Tulalip\", \"state\": \"WA\", \"zip\": \"98271\", \"phone\": \"(360) 474-4880\", \"latitude\": \"48.0843277\", \"longitude\": \"-122.1871295\", \"website\": \"https://stores.cabelas.com/us/wa/tulalip/9810-quil-ceda-boulevard.html\", \"brand\": \"Cabela's\", \"color\": \"#0058a0\", \"state_name\": \"Washington\", \"type\": \"Feature\", \"geometry\": {\"type\": \"Point\", \"coordinates\": [-122.1871295, 48.0843277]}}]}}, {\"mode\": \"vega-lite\"});\n",
       "</script>"
      ],
      "text/plain": [
       "alt.LayerChart(...)"
      ]
     },
     "execution_count": 24,
     "metadata": {},
     "output_type": "execute_result"
    }
   ],
   "source": [
    "symbols = (\n",
    "    alt.Chart(gdf)\n",
    "    .transform_aggregate(\n",
    "        latitude=\"mean(latitude)\",\n",
    "        longitude=\"mean(longitude)\",\n",
    "        count=\"count()\",\n",
    "        groupby=[\"state\"],\n",
    "    )\n",
    "    .mark_circle()\n",
    "    .encode(\n",
    "        longitude=\"longitude:Q\",\n",
    "        latitude=\"latitude:Q\",\n",
    "        size=alt.Size(\"count:Q\", title=\"Count by state\"),\n",
    "        color=alt.value(bass_color),\n",
    "        tooltip=[\"state:N\", \"count:Q\"],\n",
    "    )\n",
    "    .properties(\n",
    "        title=f\"Number of {place_formal} in US, by average lon/lat of locations\"\n",
    "    )\n",
    ")\n",
    "\n",
    "symbol_map = background + symbols\n",
    "symbol_map.configure_view(stroke=None)"
   ]
  },
  {
   "cell_type": "markdown",
   "id": "15b9c879-2480-49f4-99e7-6adc1a4c10aa",
   "metadata": {},
   "source": [
    "---"
   ]
  },
  {
   "cell_type": "markdown",
   "id": "41af18db-4aeb-4259-a7c1-b52471eb8693",
   "metadata": {},
   "source": [
    "## Exports"
   ]
  },
  {
   "cell_type": "markdown",
   "id": "e3831fb4-1062-4cab-9730-933ff07e01f0",
   "metadata": {},
   "source": [
    "#### JSON"
   ]
  },
  {
   "cell_type": "code",
   "execution_count": 25,
   "id": "e1e78a42-ba8a-49aa-a699-58e33fa204d0",
   "metadata": {},
   "outputs": [],
   "source": [
    "df.to_json(\n",
    "    f\"data/processed/{place.lower().replace(' ', '_')}_locations.json\",\n",
    "    indent=4,\n",
    "    orient=\"records\",\n",
    ")"
   ]
  },
  {
   "cell_type": "markdown",
   "id": "d737f808-9d71-4f25-8cd1-3fcedc45ab63",
   "metadata": {},
   "source": [
    "#### CSV"
   ]
  },
  {
   "cell_type": "code",
   "execution_count": 26,
   "id": "0504831b-4df4-4ff2-bd26-f08ef7ca9198",
   "metadata": {},
   "outputs": [],
   "source": [
    "df.to_csv(\n",
    "    f\"data/processed/{place.lower().replace(' ', '_')}_locations.csv\", index=False\n",
    ")"
   ]
  },
  {
   "cell_type": "markdown",
   "id": "eb8769bc-1de1-40d0-9b7b-4892893606ee",
   "metadata": {},
   "source": [
    "#### GeoJSON"
   ]
  },
  {
   "cell_type": "code",
   "execution_count": 27,
   "id": "3aaff910-d7a8-4b73-acdf-6b49e09bbe2f",
   "metadata": {},
   "outputs": [],
   "source": [
    "gdf.to_file(\n",
    "    f\"data/processed/{place.lower().replace(' ', '_')}_locations.geojson\",\n",
    "    driver=\"GeoJSON\",\n",
    ")"
   ]
  }
 ],
 "metadata": {
  "kernelspec": {
   "display_name": "Python 3 (ipykernel)",
   "language": "python",
   "name": "python3"
  },
  "language_info": {
   "codemirror_mode": {
    "name": "ipython",
    "version": 3
   },
   "file_extension": ".py",
   "mimetype": "text/x-python",
   "name": "python",
   "nbconvert_exporter": "python",
   "pygments_lexer": "ipython3",
   "version": "3.9.15"
  }
 },
 "nbformat": 4,
 "nbformat_minor": 5
}
