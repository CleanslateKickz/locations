{
 "cells": [
  {
   "cell_type": "markdown",
   "id": "0fdd4e16-e062-4146-9c40-05a340ecc972",
   "metadata": {},
   "source": [
    "# Get 99 Ranch Market locations"
   ]
  },
  {
   "cell_type": "markdown",
   "id": "2cd6a4cf-3892-4cc9-97de-84f87dc86d7d",
   "metadata": {},
   "source": [
    "#### Load Python tools and Jupyter config"
   ]
  },
  {
   "cell_type": "code",
   "execution_count": 1,
   "id": "c3b1c77c-b670-495b-aca3-e14b06448d51",
   "metadata": {},
   "outputs": [],
   "source": [
    "import us \n",
    "import json\n",
    "import requests\n",
    "import pandas as pd\n",
    "import jupyter_black\n",
    "import altair as alt\n",
    "import geopandas as gpd\n",
    "from bs4 import BeautifulSoup\n",
    "from vega_datasets import data"
   ]
  },
  {
   "cell_type": "code",
   "execution_count": 2,
   "id": "3ef9eefb-2887-4a07-995d-eb12d1dd251d",
   "metadata": {},
   "outputs": [
    {
     "data": {
      "text/html": [
       "\n",
       "                <script type=\"application/javascript\" id=\"jupyter_black\">\n",
       "                (function() {\n",
       "                    if (window.IPython === undefined) {\n",
       "                        return\n",
       "                    }\n",
       "                    var msg = \"WARNING: it looks like you might have loaded \" +\n",
       "                        \"jupyter_black in a non-lab notebook with \" +\n",
       "                        \"`is_lab=True`. Please double check, and if \" +\n",
       "                        \"loading with `%load_ext` please review the README!\"\n",
       "                    console.log(msg)\n",
       "                    alert(msg)\n",
       "                })()\n",
       "                </script>\n",
       "                "
      ],
      "text/plain": [
       "<IPython.core.display.HTML object>"
      ]
     },
     "metadata": {},
     "output_type": "display_data"
    }
   ],
   "source": [
    "jupyter_black.load()\n",
    "pd.options.display.max_columns = 100\n",
    "pd.options.display.max_rows = 1000\n",
    "pd.options.display.max_colwidth = None"
   ]
  },
  {
   "cell_type": "code",
   "execution_count": 3,
   "id": "ac5ec9e2-d2b4-48ea-ad76-2d0b3049c7a0",
   "metadata": {},
   "outputs": [],
   "source": [
    "place = \"99ranch\"\n",
    "place_formal = \"99 Ranch Market\"\n",
    "color = \"#2a6f50\""
   ]
  },
  {
   "cell_type": "markdown",
   "id": "3bbfd20b-7936-4f21-a091-697fca808ab1",
   "metadata": {},
   "source": [
    "## Scrape"
   ]
  },
  {
   "cell_type": "markdown",
   "id": "70c799af-d3be-4577-96fa-ba056f433607",
   "metadata": {},
   "source": [
    "#### Headers, params and request for locations"
   ]
  },
  {
   "cell_type": "code",
   "execution_count": 4,
   "id": "559967b7-7ed8-47c8-8716-cd2ee73e8f3d",
   "metadata": {},
   "outputs": [],
   "source": [
    "headers = {\n",
    "    \"Accept\": \"application/json\",\n",
    "    \"User-Agent\": \"Mozilla/5.0 (Macintosh; Intel Mac OS X 10_15_7) AppleWebKit/537.36 (KHTML, like Gecko) Chrome/121.0.0.0 Safari/537.36\",\n",
    "    \"time-zone\": \"America/Los_Angeles\",\n",
    "}"
   ]
  },
  {
   "cell_type": "code",
   "execution_count": 5,
   "id": "338c69cb-a335-40d8-967a-62d980959d61",
   "metadata": {},
   "outputs": [],
   "source": [
    "json_data = {\n",
    "    \"zipCode\": \"90066\",\n",
    "    \"pageSize\": 100,\n",
    "    \"pageNum\": 1,\n",
    "    \"type\": 1,\n",
    "    \"source\": \"WEB\",\n",
    "    \"within\": None,\n",
    "}"
   ]
  },
  {
   "cell_type": "code",
   "execution_count": 6,
   "id": "eead6087-c72b-466a-9e68-2c3a7ffe5fa6",
   "metadata": {},
   "outputs": [],
   "source": [
    "response = requests.post(\n",
    "    \"https://api.awsprod.99ranch.com/store/web/nearby/stores\",\n",
    "    headers=headers,\n",
    "    json=json_data,\n",
    ")"
   ]
  },
  {
   "cell_type": "markdown",
   "id": "d03ec1fe-053b-4856-922e-d9976173f93e",
   "metadata": {},
   "source": [
    "#### All the locations are returned without pagination. Put into a dataframe. "
   ]
  },
  {
   "cell_type": "code",
   "execution_count": 7,
   "id": "2e119be4-9ba6-45e3-a080-527f2888f545",
   "metadata": {},
   "outputs": [],
   "source": [
    "df = pd.DataFrame(response.json()[\"data\"][\"records\"])[\n",
    "    [\n",
    "        \"storeNumber\",\n",
    "        \"name\",\n",
    "        \"state\",\n",
    "        \"city\",\n",
    "        \"street\",\n",
    "        \"zipCode\",\n",
    "        \"longitude\",\n",
    "        \"latitude\",\n",
    "        \"timeZone\",\n",
    "    ]\n",
    "].rename(\n",
    "    columns={\n",
    "        \"storeNumber\": \"store_number\",\n",
    "        \"zipCode\": \"zip\",\n",
    "        \"name\": \"store_name\",\n",
    "        \"telephone\": \"phone\",\n",
    "    }\n",
    ")"
   ]
  },
  {
   "cell_type": "markdown",
   "id": "8b4fa94c-1bbb-47ca-8d38-cd8a4a299c7d",
   "metadata": {},
   "source": [
    "#### The result and count"
   ]
  },
  {
   "cell_type": "code",
   "execution_count": 8,
   "id": "d6badf88-2702-4510-9f1a-eb8a81bfc004",
   "metadata": {},
   "outputs": [
    {
     "data": {
      "text/html": [
       "<div>\n",
       "<style scoped>\n",
       "    .dataframe tbody tr th:only-of-type {\n",
       "        vertical-align: middle;\n",
       "    }\n",
       "\n",
       "    .dataframe tbody tr th {\n",
       "        vertical-align: top;\n",
       "    }\n",
       "\n",
       "    .dataframe thead th {\n",
       "        text-align: right;\n",
       "    }\n",
       "</style>\n",
       "<table border=\"1\" class=\"dataframe\">\n",
       "  <thead>\n",
       "    <tr style=\"text-align: right;\">\n",
       "      <th></th>\n",
       "      <th>store_number</th>\n",
       "      <th>store_name</th>\n",
       "      <th>state</th>\n",
       "      <th>city</th>\n",
       "      <th>street</th>\n",
       "      <th>zip</th>\n",
       "      <th>longitude</th>\n",
       "      <th>latitude</th>\n",
       "      <th>timeZone</th>\n",
       "    </tr>\n",
       "  </thead>\n",
       "  <tbody>\n",
       "    <tr>\n",
       "      <th>0</th>\n",
       "      <td>1255</td>\n",
       "      <td>Westwood</td>\n",
       "      <td>CA</td>\n",
       "      <td>Los Angeles</td>\n",
       "      <td>1360 Westwood Blvd</td>\n",
       "      <td>90024</td>\n",
       "      <td>-118.441905700000</td>\n",
       "      <td>34.055985800000</td>\n",
       "      <td>America/Los_Angeles</td>\n",
       "    </tr>\n",
       "    <tr>\n",
       "      <th>1</th>\n",
       "      <td>1006</td>\n",
       "      <td>Gardena</td>\n",
       "      <td>CA</td>\n",
       "      <td>Gardena</td>\n",
       "      <td>1340 Artesia Blvd</td>\n",
       "      <td>90248</td>\n",
       "      <td>-118.297151500000</td>\n",
       "      <td>33.872055000000</td>\n",
       "      <td>America/Los_Angeles</td>\n",
       "    </tr>\n",
       "    <tr>\n",
       "      <th>2</th>\n",
       "      <td>1808</td>\n",
       "      <td>Torrance</td>\n",
       "      <td>CA</td>\n",
       "      <td>Torrance</td>\n",
       "      <td>19100 Harborgate Way</td>\n",
       "      <td>90501</td>\n",
       "      <td>-118.303001700000</td>\n",
       "      <td>33.857125700000</td>\n",
       "      <td>America/Los_Angeles</td>\n",
       "    </tr>\n",
       "    <tr>\n",
       "      <th>3</th>\n",
       "      <td>1013</td>\n",
       "      <td>Van Nuys</td>\n",
       "      <td>CA</td>\n",
       "      <td>Van Nuys</td>\n",
       "      <td>6450 Sepulveda Blvd</td>\n",
       "      <td>91411</td>\n",
       "      <td>-118.465335900000</td>\n",
       "      <td>34.188030900000</td>\n",
       "      <td>America/Los_Angeles</td>\n",
       "    </tr>\n",
       "    <tr>\n",
       "      <th>4</th>\n",
       "      <td>1012</td>\n",
       "      <td>Monterey Park</td>\n",
       "      <td>CA</td>\n",
       "      <td>Monterey Park</td>\n",
       "      <td>771 W Garvey Ave</td>\n",
       "      <td>91754</td>\n",
       "      <td>-118.133740900000</td>\n",
       "      <td>34.063652400000</td>\n",
       "      <td>America/Los_Angeles</td>\n",
       "    </tr>\n",
       "  </tbody>\n",
       "</table>\n",
       "</div>"
      ],
      "text/plain": [
       "   store_number     store_name state           city                street  \\\n",
       "0          1255       Westwood    CA    Los Angeles    1360 Westwood Blvd   \n",
       "1          1006        Gardena    CA        Gardena     1340 Artesia Blvd   \n",
       "2          1808       Torrance    CA       Torrance  19100 Harborgate Way   \n",
       "3          1013       Van Nuys    CA       Van Nuys   6450 Sepulveda Blvd   \n",
       "4          1012  Monterey Park    CA  Monterey Park      771 W Garvey Ave   \n",
       "\n",
       "     zip          longitude         latitude             timeZone  \n",
       "0  90024  -118.441905700000  34.055985800000  America/Los_Angeles  \n",
       "1  90248  -118.297151500000  33.872055000000  America/Los_Angeles  \n",
       "2  90501  -118.303001700000  33.857125700000  America/Los_Angeles  \n",
       "3  91411  -118.465335900000  34.188030900000  America/Los_Angeles  \n",
       "4  91754  -118.133740900000  34.063652400000  America/Los_Angeles  "
      ]
     },
     "execution_count": 8,
     "metadata": {},
     "output_type": "execute_result"
    }
   ],
   "source": [
    "df.head()"
   ]
  },
  {
   "cell_type": "code",
   "execution_count": 9,
   "id": "e3020b94-9034-46ea-90a9-5fed9c35f845",
   "metadata": {},
   "outputs": [
    {
     "data": {
      "text/plain": [
       "62"
      ]
     },
     "execution_count": 9,
     "metadata": {},
     "output_type": "execute_result"
    }
   ],
   "source": [
    "len(df)"
   ]
  },
  {
   "cell_type": "markdown",
   "id": "1b0134b9-0b53-41ae-a498-891b729ac265",
   "metadata": {},
   "source": [
    "#### Create a mapping of state abbreviations to full state names using the us library"
   ]
  },
  {
   "cell_type": "code",
   "execution_count": 10,
   "id": "18485bc1-ac20-4715-b117-2ffc36a4de10",
   "metadata": {},
   "outputs": [],
   "source": [
    "state_mapping = {state.abbr: state.name for state in us.states.STATES}"
   ]
  },
  {
   "cell_type": "markdown",
   "id": "02a07567-2cda-40d0-a1db-9f51fdb03a67",
   "metadata": {},
   "source": [
    "#### New column of full state names based on abbreviations"
   ]
  },
  {
   "cell_type": "code",
   "execution_count": 11,
   "id": "5d7c356a-a44b-4b86-aaf9-4db2a05cb3e9",
   "metadata": {},
   "outputs": [],
   "source": [
    "df[\"state_name\"] = df[\"state\"].map(state_mapping)"
   ]
  },
  {
   "cell_type": "markdown",
   "id": "ef406bd4-65b5-4f26-8404-051b13a83585",
   "metadata": {},
   "source": [
    "#### Make sure our brand name gets in the dataframe"
   ]
  },
  {
   "cell_type": "code",
   "execution_count": 12,
   "id": "d447d483-318e-45a8-962d-221b8ec1982f",
   "metadata": {},
   "outputs": [],
   "source": [
    "df[\"brand\"] = place_formal"
   ]
  },
  {
   "cell_type": "markdown",
   "id": "e836582d-ef21-4876-bfc3-f8298a077b3c",
   "metadata": {},
   "source": [
    "---"
   ]
  },
  {
   "cell_type": "markdown",
   "id": "e9398ab6-73bc-421d-ab31-2e0b625fe541",
   "metadata": {},
   "source": [
    "## Geography"
   ]
  },
  {
   "cell_type": "markdown",
   "id": "2aa8f487-ab80-4d32-84df-651304cd9523",
   "metadata": {},
   "source": [
    "#### Make it a geodataframe"
   ]
  },
  {
   "cell_type": "code",
   "execution_count": 13,
   "id": "920e5fe7-a6fd-4a10-97f0-c1dd0b7bef72",
   "metadata": {},
   "outputs": [],
   "source": [
    "df_geo = df.copy()"
   ]
  },
  {
   "cell_type": "code",
   "execution_count": 14,
   "id": "4072e19f-2567-427d-82d5-2c8a925278da",
   "metadata": {},
   "outputs": [],
   "source": [
    "gdf = gpd.GeoDataFrame(\n",
    "    df_geo, geometry=gpd.points_from_xy(df_geo.longitude, df_geo.latitude)\n",
    ")"
   ]
  },
  {
   "cell_type": "markdown",
   "id": "67db45d5-afdf-4347-a2a0-da8aa3728779",
   "metadata": {},
   "source": [
    "---"
   ]
  },
  {
   "cell_type": "markdown",
   "id": "b3c311f9-dd29-4524-8932-67858cd3cec0",
   "metadata": {},
   "source": [
    "## Maps"
   ]
  },
  {
   "cell_type": "markdown",
   "id": "93b0579e-620d-4a08-afd8-ad489be0557e",
   "metadata": {},
   "source": [
    "#### US states background"
   ]
  },
  {
   "cell_type": "code",
   "execution_count": 15,
   "id": "95c369d7-8a64-4f49-a05f-79c444cf4e28",
   "metadata": {},
   "outputs": [],
   "source": [
    "background = (\n",
    "    alt.Chart(alt.topo_feature(data.us_10m.url, feature=\"states\"))\n",
    "    .mark_geoshape(fill=\"#e9e9e9\", stroke=\"white\")\n",
    "    .properties(width=800, height=500, title=f\"{place_formal} locations\")\n",
    "    .project(\"albersUsa\")\n",
    ")"
   ]
  },
  {
   "cell_type": "markdown",
   "id": "a914fc11-a8c6-49d1-96d2-8b5f83b01cc7",
   "metadata": {},
   "source": [
    "#### Location points map"
   ]
  },
  {
   "cell_type": "code",
   "execution_count": 16,
   "id": "b624cc2f-c724-4849-9a4b-761258a3f8ad",
   "metadata": {},
   "outputs": [
    {
     "data": {
      "text/html": [
       "\n",
       "<style>\n",
       "  #altair-viz-beff6ae9e1314897a591b7bad697255a.vega-embed {\n",
       "    width: 100%;\n",
       "    display: flex;\n",
       "  }\n",
       "\n",
       "  #altair-viz-beff6ae9e1314897a591b7bad697255a.vega-embed details,\n",
       "  #altair-viz-beff6ae9e1314897a591b7bad697255a.vega-embed details summary {\n",
       "    position: relative;\n",
       "  }\n",
       "</style>\n",
       "<div id=\"altair-viz-beff6ae9e1314897a591b7bad697255a\"></div>\n",
       "<script type=\"text/javascript\">\n",
       "  var VEGA_DEBUG = (typeof VEGA_DEBUG == \"undefined\") ? {} : VEGA_DEBUG;\n",
       "  (function(spec, embedOpt){\n",
       "    let outputDiv = document.currentScript.previousElementSibling;\n",
       "    if (outputDiv.id !== \"altair-viz-beff6ae9e1314897a591b7bad697255a\") {\n",
       "      outputDiv = document.getElementById(\"altair-viz-beff6ae9e1314897a591b7bad697255a\");\n",
       "    }\n",
       "    const paths = {\n",
       "      \"vega\": \"https://cdn.jsdelivr.net/npm/vega@5?noext\",\n",
       "      \"vega-lib\": \"https://cdn.jsdelivr.net/npm/vega-lib?noext\",\n",
       "      \"vega-lite\": \"https://cdn.jsdelivr.net/npm/vega-lite@5.16.3?noext\",\n",
       "      \"vega-embed\": \"https://cdn.jsdelivr.net/npm/vega-embed@6?noext\",\n",
       "    };\n",
       "\n",
       "    function maybeLoadScript(lib, version) {\n",
       "      var key = `${lib.replace(\"-\", \"\")}_version`;\n",
       "      return (VEGA_DEBUG[key] == version) ?\n",
       "        Promise.resolve(paths[lib]) :\n",
       "        new Promise(function(resolve, reject) {\n",
       "          var s = document.createElement('script');\n",
       "          document.getElementsByTagName(\"head\")[0].appendChild(s);\n",
       "          s.async = true;\n",
       "          s.onload = () => {\n",
       "            VEGA_DEBUG[key] = version;\n",
       "            return resolve(paths[lib]);\n",
       "          };\n",
       "          s.onerror = () => reject(`Error loading script: ${paths[lib]}`);\n",
       "          s.src = paths[lib];\n",
       "        });\n",
       "    }\n",
       "\n",
       "    function showError(err) {\n",
       "      outputDiv.innerHTML = `<div class=\"error\" style=\"color:red;\">${err}</div>`;\n",
       "      throw err;\n",
       "    }\n",
       "\n",
       "    function displayChart(vegaEmbed) {\n",
       "      vegaEmbed(outputDiv, spec, embedOpt)\n",
       "        .catch(err => showError(`Javascript Error: ${err.message}<br>This usually means there's a typo in your chart specification. See the javascript console for the full traceback.`));\n",
       "    }\n",
       "\n",
       "    if(typeof define === \"function\" && define.amd) {\n",
       "      requirejs.config({paths});\n",
       "      require([\"vega-embed\"], displayChart, err => showError(`Error loading script: ${err.message}`));\n",
       "    } else {\n",
       "      maybeLoadScript(\"vega\", \"5\")\n",
       "        .then(() => maybeLoadScript(\"vega-lite\", \"5.16.3\"))\n",
       "        .then(() => maybeLoadScript(\"vega-embed\", \"6\"))\n",
       "        .catch(showError)\n",
       "        .then(() => displayChart(vegaEmbed));\n",
       "    }\n",
       "  })({\"config\": {\"view\": {\"continuousWidth\": 300, \"continuousHeight\": 300, \"stroke\": null}}, \"layer\": [{\"data\": {\"url\": \"https://cdn.jsdelivr.net/npm/vega-datasets@v1.29.0/data/us-10m.json\", \"format\": {\"feature\": \"states\", \"type\": \"topojson\"}}, \"mark\": {\"type\": \"geoshape\", \"fill\": \"#e9e9e9\", \"stroke\": \"white\"}, \"projection\": {\"type\": \"albersUsa\"}, \"title\": \"99 Ranch Market locations\"}, {\"data\": {\"name\": \"data-20653905d923c8d49de820aca9fe95c3\"}, \"mark\": {\"type\": \"circle\", \"color\": \"#2a6f50\", \"size\": 15}, \"encoding\": {\"latitude\": {\"field\": \"latitude\", \"type\": \"quantitative\"}, \"longitude\": {\"field\": \"longitude\", \"type\": \"quantitative\"}}}], \"height\": 500, \"width\": 800, \"$schema\": \"https://vega.github.io/schema/vega-lite/v5.16.3.json\", \"datasets\": {\"data-20653905d923c8d49de820aca9fe95c3\": [{\"store_number\": 1255, \"store_name\": \"Westwood\", \"state\": \"CA\", \"city\": \"Los Angeles\", \"street\": \"1360 Westwood Blvd\", \"zip\": \"90024\", \"longitude\": \"-118.441905700000\", \"latitude\": \"34.055985800000\", \"timeZone\": \"America/Los_Angeles\", \"state_name\": \"California\", \"brand\": \"99 Ranch Market\", \"type\": \"Feature\", \"geometry\": {\"type\": \"Point\", \"coordinates\": [-118.4419057, 34.0559858]}}, {\"store_number\": 1006, \"store_name\": \"Gardena\", \"state\": \"CA\", \"city\": \"Gardena\", \"street\": \"1340 Artesia Blvd\", \"zip\": \"90248\", \"longitude\": \"-118.297151500000\", \"latitude\": \"33.872055000000\", \"timeZone\": \"America/Los_Angeles\", \"state_name\": \"California\", \"brand\": \"99 Ranch Market\", \"type\": \"Feature\", \"geometry\": {\"type\": \"Point\", \"coordinates\": [-118.2971515, 33.872055]}}, {\"store_number\": 1808, \"store_name\": \"Torrance\", \"state\": \"CA\", \"city\": \"Torrance\", \"street\": \"19100 Harborgate Way\", \"zip\": \"90501\", \"longitude\": \"-118.303001700000\", \"latitude\": \"33.857125700000\", \"timeZone\": \"America/Los_Angeles\", \"state_name\": \"California\", \"brand\": \"99 Ranch Market\", \"type\": \"Feature\", \"geometry\": {\"type\": \"Point\", \"coordinates\": [-118.3030017, 33.8571257]}}, {\"store_number\": 1013, \"store_name\": \"Van Nuys\", \"state\": \"CA\", \"city\": \"Van Nuys\", \"street\": \"6450 Sepulveda Blvd\", \"zip\": \"91411\", \"longitude\": \"-118.465335900000\", \"latitude\": \"34.188030900000\", \"timeZone\": \"America/Los_Angeles\", \"state_name\": \"California\", \"brand\": \"99 Ranch Market\", \"type\": \"Feature\", \"geometry\": {\"type\": \"Point\", \"coordinates\": [-118.4653359, 34.1880309]}}, {\"store_number\": 1012, \"store_name\": \"Monterey Park\", \"state\": \"CA\", \"city\": \"Monterey Park\", \"street\": \"771 W Garvey Ave\", \"zip\": \"91754\", \"longitude\": \"-118.133740900000\", \"latitude\": \"34.063652400000\", \"timeZone\": \"America/Los_Angeles\", \"state_name\": \"California\", \"brand\": \"99 Ranch Market\", \"type\": \"Feature\", \"geometry\": {\"type\": \"Point\", \"coordinates\": [-118.1337409, 34.0636524]}}, {\"store_number\": 1038, \"store_name\": \"Alhambra\", \"state\": \"CA\", \"city\": \"Alhambra\", \"street\": \"345 E Main St\", \"zip\": \"91801\", \"longitude\": \"-118.123788900000\", \"latitude\": \"34.097604900000\", \"timeZone\": \"America/Los_Angeles\", \"state_name\": \"California\", \"brand\": \"99 Ranch Market\", \"type\": \"Feature\", \"geometry\": {\"type\": \"Point\", \"coordinates\": [-118.1237889, 34.0976049]}}, {\"store_number\": 1208, \"store_name\": \"San Gabriel\", \"state\": \"CA\", \"city\": \"San Gabriel\", \"street\": \"140 W Valley Blvd #150\", \"zip\": \"91776\", \"longitude\": \"-118.101555400000\", \"latitude\": \"34.078010600000\", \"timeZone\": \"America/Los_Angeles\", \"state_name\": \"California\", \"brand\": \"99 Ranch Market\", \"type\": \"Feature\", \"geometry\": {\"type\": \"Point\", \"coordinates\": [-118.1015554, 34.0780106]}}, {\"store_number\": 1017, \"store_name\": \"Artesia\", \"state\": \"CA\", \"city\": \"Artesia\", \"street\": \"17713 Pioneer Blvd\", \"zip\": \"90701\", \"longitude\": \"-118.082913300000\", \"latitude\": \"33.869670200000\", \"timeZone\": \"America/Los_Angeles\", \"state_name\": \"California\", \"brand\": \"99 Ranch Market\", \"type\": \"Feature\", \"geometry\": {\"type\": \"Point\", \"coordinates\": [-118.0829133, 33.8696702]}}, {\"store_number\": 1007, \"store_name\": \"Arcadia\", \"state\": \"CA\", \"city\": \"Arcadia\", \"street\": \"1300 S Golden W Ave\", \"zip\": \"91007\", \"longitude\": \"-118.058950500000\", \"latitude\": \"34.124003900000\", \"timeZone\": \"America/Los_Angeles\", \"state_name\": \"California\", \"brand\": \"99 Ranch Market\", \"type\": \"Feature\", \"geometry\": {\"type\": \"Point\", \"coordinates\": [-118.0589505, 34.1240039]}}, {\"store_number\": 1257, \"store_name\": \"Santa Anita\", \"state\": \"CA\", \"city\": \"Arcadia\", \"street\": \"400 S Baldwin Ave Suite#1000\", \"zip\": \"91007\", \"longitude\": \"-118.051589000000\", \"latitude\": \"34.134700300000\", \"timeZone\": \"America/Los_Angeles\", \"state_name\": \"California\", \"brand\": \"99 Ranch Market\", \"type\": \"Feature\", \"geometry\": {\"type\": \"Point\", \"coordinates\": [-118.051589, 34.1347003]}}, {\"store_number\": 1018, \"store_name\": \"Hacienda Heights\", \"state\": \"CA\", \"city\": \"Hacienda Heights\", \"street\": \"1625 S Azusa Ave\", \"zip\": \"91745\", \"longitude\": \"-117.933412800000\", \"latitude\": \"33.993028500000\", \"timeZone\": \"America/Los_Angeles\", \"state_name\": \"California\", \"brand\": \"99 Ranch Market\", \"type\": \"Feature\", \"geometry\": {\"type\": \"Point\", \"coordinates\": [-117.9334128, 33.9930285]}}, {\"store_number\": 1005, \"store_name\": \"Anaheim\", \"state\": \"CA\", \"city\": \"Anaheim\", \"street\": \"651 N Euclid St\", \"zip\": \"92801\", \"longitude\": \"-117.943664100000\", \"latitude\": \"33.841125500000\", \"timeZone\": \"America/Los_Angeles\", \"state_name\": \"California\", \"brand\": \"99 Ranch Market\", \"type\": \"Feature\", \"geometry\": {\"type\": \"Point\", \"coordinates\": [-117.9436641, 33.8411255]}}, {\"store_number\": 1003, \"store_name\": \"Rowland Heights\", \"state\": \"CA\", \"city\": \"Rowland Heights\", \"street\": \"1015 S Nogales St\", \"zip\": \"91748\", \"longitude\": \"-117.890715800000\", \"latitude\": \"33.996690000000\", \"timeZone\": \"America/Los_Angeles\", \"state_name\": \"California\", \"brand\": \"99 Ranch Market\", \"type\": \"Feature\", \"geometry\": {\"type\": \"Point\", \"coordinates\": [-117.8907158, 33.99669]}}, {\"store_number\": 1231, \"store_name\": \"Chino Hills\", \"state\": \"CA\", \"city\": \"Chino Hills\", \"street\": \"2959 Chino Ave\", \"zip\": \"91709\", \"longitude\": \"-117.740998500000\", \"latitude\": \"34.009608900000\", \"timeZone\": \"America/Los_Angeles\", \"state_name\": \"California\", \"brand\": \"99 Ranch Market\", \"type\": \"Feature\", \"geometry\": {\"type\": \"Point\", \"coordinates\": [-117.7409985, 34.0096089]}}, {\"store_number\": 1052, \"store_name\": \"Chino\", \"state\": \"CA\", \"city\": \"Chino\", \"street\": \"4024 Grand Ave\", \"zip\": \"91710\", \"longitude\": \"-117.716294000000\", \"latitude\": \"33.999303100000\", \"timeZone\": \"America/Los_Angeles\", \"state_name\": \"California\", \"brand\": \"99 Ranch Market\", \"type\": \"Feature\", \"geometry\": {\"type\": \"Point\", \"coordinates\": [-117.716294, 33.9993031]}}, {\"store_number\": 1009, \"store_name\": \"Irvine (Culver Dr.)\", \"state\": \"CA\", \"city\": \"Irvine\", \"street\": \"15333 Culver Dr #800\", \"zip\": \"92604\", \"longitude\": \"-117.798444600000\", \"latitude\": \"33.696356500000\", \"timeZone\": \"America/Los_Angeles\", \"state_name\": \"California\", \"brand\": \"99 Ranch Market\", \"type\": \"Feature\", \"geometry\": {\"type\": \"Point\", \"coordinates\": [-117.7984446, 33.6963565]}}, {\"store_number\": 1219, \"store_name\": \"Irvine (Walnut Ave)\", \"state\": \"CA\", \"city\": \"Irvine\", \"street\": \"5402 Walnut Ave\", \"zip\": \"92604\", \"longitude\": \"-117.769679900000\", \"latitude\": \"33.690459900000\", \"timeZone\": \"America/Los_Angeles\", \"state_name\": \"California\", \"brand\": \"99 Ranch Market\", \"type\": \"Feature\", \"geometry\": {\"type\": \"Point\", \"coordinates\": [-117.7696799, 33.6904599]}}, {\"store_number\": 1035, \"store_name\": \"Rancho Cucamonga\", \"state\": \"CA\", \"city\": \"Rancho Cucamonga\", \"street\": \"9775 Base Line Rd\", \"zip\": \"91730\", \"longitude\": \"-117.591863600000\", \"latitude\": \"34.120119900000\", \"timeZone\": \"America/Los_Angeles\", \"state_name\": \"California\", \"brand\": \"99 Ranch Market\", \"type\": \"Feature\", \"geometry\": {\"type\": \"Point\", \"coordinates\": [-117.5918636, 34.1201199]}}, {\"store_number\": 1256, \"store_name\": \"Eastvale\", \"state\": \"CA\", \"city\": \"Eastvale\", \"street\": \"4956 Hamner Ave\", \"zip\": \"91752\", \"longitude\": \"-117.555891700000\", \"latitude\": \"33.998714400000\", \"timeZone\": \"America/Los_Angeles\", \"state_name\": \"California\", \"brand\": \"99 Ranch Market\", \"type\": \"Feature\", \"geometry\": {\"type\": \"Point\", \"coordinates\": [-117.5558917, 33.9987144]}}, {\"store_number\": 1036, \"store_name\": \"Corona\", \"state\": \"CA\", \"city\": \"Corona\", \"street\": \"430 N McKinley St\", \"zip\": \"92879\", \"longitude\": \"-117.521537400000\", \"latitude\": \"33.888713600000\", \"timeZone\": \"America/Los_Angeles\", \"state_name\": \"California\", \"brand\": \"99 Ranch Market\", \"type\": \"Feature\", \"geometry\": {\"type\": \"Point\", \"coordinates\": [-117.5215374, 33.8887136]}}, {\"store_number\": 1039, \"store_name\": \"San Diego (Balboa Ave)\", \"state\": \"CA\", \"city\": \"San Diego\", \"street\": \"5950 Balboa Ave\", \"zip\": \"92111\", \"longitude\": \"-117.176959400000\", \"latitude\": \"32.821638000000\", \"timeZone\": \"America/Los_Angeles\", \"state_name\": \"California\", \"brand\": \"99 Ranch Market\", \"type\": \"Feature\", \"geometry\": {\"type\": \"Point\", \"coordinates\": [-117.1769594, 32.821638]}}, {\"store_number\": 1016, \"store_name\": \"San Diego (Clairemon Mesa Blvd)\", \"state\": \"CA\", \"city\": \"San Diego\", \"street\": \"7330 Clairemont Mesa Blvd\", \"zip\": \"92111\", \"longitude\": \"-117.160757600000\", \"latitude\": \"32.833557600000\", \"timeZone\": \"America/Los_Angeles\", \"state_name\": \"California\", \"brand\": \"99 Ranch Market\", \"type\": \"Feature\", \"geometry\": {\"type\": \"Point\", \"coordinates\": [-117.1607576, 32.8335576]}}, {\"store_number\": 1051, \"store_name\": \"Chula Vista\", \"state\": \"CA\", \"city\": \"Chula Vista\", \"street\": \"505 Telegraph Canyon Rd\", \"zip\": \"91910\", \"longitude\": \"-117.040514700000\", \"latitude\": \"32.629458000000\", \"timeZone\": \"America/Los_Angeles\", \"state_name\": \"California\", \"brand\": \"99 Ranch Market\", \"type\": \"Feature\", \"geometry\": {\"type\": \"Point\", \"coordinates\": [-117.0405147, 32.629458]}}, {\"store_number\": 1032, \"store_name\": \"Las Vegas (Spring Mountain Rd)\", \"state\": \"NV\", \"city\": \"Las Vegas\", \"street\": \"4155 W Spring Mountain Rd\", \"zip\": \"89102\", \"longitude\": \"-115.195231500000\", \"latitude\": \"36.125488800000\", \"timeZone\": \"America/Los_Angeles\", \"state_name\": \"Nevada\", \"brand\": \"99 Ranch Market\", \"type\": \"Feature\", \"geometry\": {\"type\": \"Point\", \"coordinates\": [-115.1952315, 36.1254888]}}, {\"store_number\": 1037, \"store_name\": \"Las Vegas (Maryland Pkwy)\", \"state\": \"NV\", \"city\": \"Las Vegas\", \"street\": \"3768 S Maryland Pkwy\", \"zip\": \"89119\", \"longitude\": \"-115.135461800000\", \"latitude\": \"36.121022900000\", \"timeZone\": \"America/Los_Angeles\", \"state_name\": \"Nevada\", \"brand\": \"99 Ranch Market\", \"type\": \"Feature\", \"geometry\": {\"type\": \"Point\", \"coordinates\": [-115.1354618, 36.1210229]}}, {\"store_number\": 1702, \"store_name\": \"Blossom Hill, San Jose\", \"state\": \"CA\", \"city\": \"San Jose\", \"street\": \"925 Blossom Hill Rd\", \"zip\": \"95123\", \"longitude\": \"-121.861402000000\", \"latitude\": \"37.251731500000\", \"timeZone\": \"America/Los_Angeles\", \"state_name\": \"California\", \"brand\": \"99 Ranch Market\", \"type\": \"Feature\", \"geometry\": {\"type\": \"Point\", \"coordinates\": [-121.861402, 37.2517315]}}, {\"store_number\": 1761, \"store_name\": \"Hostetter\", \"state\": \"CA\", \"city\": \"San Jose\", \"street\": \"1688 Hostetter Rd Unit E\", \"zip\": \"95131\", \"longitude\": \"-121.883612700000\", \"latitude\": \"37.386891100000\", \"timeZone\": \"America/Los_Angeles\", \"state_name\": \"California\", \"brand\": \"99 Ranch Market\", \"type\": \"Feature\", \"geometry\": {\"type\": \"Point\", \"coordinates\": [-121.8836127, 37.3868911]}}, {\"store_number\": 1779, \"store_name\": \"Cupertino (DeAnza Blvd)\", \"state\": \"CA\", \"city\": \"Cupertino\", \"street\": \"10425 S De Anza Blvd\", \"zip\": \"95014\", \"longitude\": \"-122.033524200000\", \"latitude\": \"37.316897800000\", \"timeZone\": \"America/Los_Angeles\", \"state_name\": \"California\", \"brand\": \"99 Ranch Market\", \"type\": \"Feature\", \"geometry\": {\"type\": \"Point\", \"coordinates\": [-122.0335242, 37.3168978]}}, {\"store_number\": 1768, \"store_name\": \"Cupertino (North Wolfe Rd)\", \"state\": \"CA\", \"city\": \"Cupertino\", \"street\": \"10983 N Wolfe Rd\", \"zip\": \"95014\", \"longitude\": \"-122.015460300000\", \"latitude\": \"37.336582500000\", \"timeZone\": \"America/Los_Angeles\", \"state_name\": \"California\", \"brand\": \"99 Ranch Market\", \"type\": \"Feature\", \"geometry\": {\"type\": \"Point\", \"coordinates\": [-122.0154603, 37.3365825]}}, {\"store_number\": 1766, \"store_name\": \"Milpitas\", \"state\": \"CA\", \"city\": \"Milpitas\", \"street\": \"338 Barber Ln\", \"zip\": \"95035\", \"longitude\": \"-121.916950500000\", \"latitude\": \"37.422847900000\", \"timeZone\": \"America/Los_Angeles\", \"state_name\": \"California\", \"brand\": \"99 Ranch Market\", \"type\": \"Feature\", \"geometry\": {\"type\": \"Point\", \"coordinates\": [-121.9169505, 37.4228479]}}, {\"store_number\": 1772, \"store_name\": \"Mountain View\", \"state\": \"CA\", \"city\": \"Mountain View\", \"street\": \"1350 Grant Rd\", \"zip\": \"94040\", \"longitude\": \"-122.076422300000\", \"latitude\": \"37.376892800000\", \"timeZone\": \"America/Los_Angeles\", \"state_name\": \"California\", \"brand\": \"99 Ranch Market\", \"type\": \"Feature\", \"geometry\": {\"type\": \"Point\", \"coordinates\": [-122.0764223, 37.3768928]}}, {\"store_number\": 1701, \"store_name\": \"Fremont (Mission Blvd)\", \"state\": \"CA\", \"city\": \"Fremont\", \"street\": \"46551 Mission Blvd\", \"zip\": \"94539\", \"longitude\": \"-121.929551600000\", \"latitude\": \"37.492069400000\", \"timeZone\": \"America/Los_Angeles\", \"state_name\": \"California\", \"brand\": \"99 Ranch Market\", \"type\": \"Feature\", \"geometry\": {\"type\": \"Point\", \"coordinates\": [-121.9295516, 37.4920694]}}, {\"store_number\": 1783, \"store_name\": \"Newark\", \"state\": \"CA\", \"city\": \"Newark\", \"street\": \"35219 Newark Blvd B\", \"zip\": \"94560\", \"longitude\": \"-122.046899500000\", \"latitude\": \"37.547560000000\", \"timeZone\": \"America/Los_Angeles\", \"state_name\": \"California\", \"brand\": \"99 Ranch Market\", \"type\": \"Feature\", \"geometry\": {\"type\": \"Point\", \"coordinates\": [-122.0468995, 37.54756]}}, {\"store_number\": 1688, \"store_name\": \"Pleasanton(Stoneridge Dr)\", \"state\": \"CA\", \"city\": \"Pleasanton\", \"street\": \"2701 Stoneridge Dr\", \"zip\": \"94588\", \"longitude\": \"-121.850078700000\", \"latitude\": \"37.695493600000\", \"timeZone\": \"America/Los_Angeles\", \"state_name\": \"California\", \"brand\": \"99 Ranch Market\", \"type\": \"Feature\", \"geometry\": {\"type\": \"Point\", \"coordinates\": [-121.8500787, 37.6954936]}}, {\"store_number\": 1762, \"store_name\": \"Fermont (Fremont Blvd)\", \"state\": \"CA\", \"city\": \"Fremont\", \"street\": \"34444 Fremont Blvd\", \"zip\": \"94555\", \"longitude\": \"-122.039262500000\", \"latitude\": \"37.575324900000\", \"timeZone\": \"America/Los_Angeles\", \"state_name\": \"California\", \"brand\": \"99 Ranch Market\", \"type\": \"Feature\", \"geometry\": {\"type\": \"Point\", \"coordinates\": [-122.0392625, 37.5753249]}}, {\"store_number\": 1775, \"store_name\": \"Pleasanton (Rosewood Dr)\", \"state\": \"CA\", \"city\": \"Pleasanton\", \"street\": \"4299 Rosewood Dr\", \"zip\": \"94588\", \"longitude\": \"-121.873274300000\", \"latitude\": \"37.699301900000\", \"timeZone\": \"America/Los_Angeles\", \"state_name\": \"California\", \"brand\": \"99 Ranch Market\", \"type\": \"Feature\", \"geometry\": {\"type\": \"Point\", \"coordinates\": [-121.8732743, 37.6993019]}}, {\"store_number\": 1771, \"store_name\": \"Dublin\", \"state\": \"CA\", \"city\": \"Dublin\", \"street\": \"7333 Regional St\", \"zip\": \"94568\", \"longitude\": \"-121.934100600000\", \"latitude\": \"37.706333100000\", \"timeZone\": \"America/Los_Angeles\", \"state_name\": \"California\", \"brand\": \"99 Ranch Market\", \"type\": \"Feature\", \"geometry\": {\"type\": \"Point\", \"coordinates\": [-121.9341006, 37.7063331]}}, {\"store_number\": 1782, \"store_name\": \"Foster City\", \"state\": \"CA\", \"city\": \"Foster City\", \"street\": \"1070 Foster City Blvd\", \"zip\": \"94404\", \"longitude\": \"-122.257070900000\", \"latitude\": \"37.553563800000\", \"timeZone\": \"America/Los_Angeles\", \"state_name\": \"California\", \"brand\": \"99 Ranch Market\", \"type\": \"Feature\", \"geometry\": {\"type\": \"Point\", \"coordinates\": [-122.2570709, 37.5535638]}}, {\"store_number\": 1773, \"store_name\": \"Concord\", \"state\": \"CA\", \"city\": \"Concord\", \"street\": \"1795 Willow Pass Rd\", \"zip\": \"94520\", \"longitude\": \"-122.038698900000\", \"latitude\": \"37.975037800000\", \"timeZone\": \"America/Los_Angeles\", \"state_name\": \"California\", \"brand\": \"99 Ranch Market\", \"type\": \"Feature\", \"geometry\": {\"type\": \"Point\", \"coordinates\": [-122.0386989, 37.9750378]}}, {\"store_number\": 1769, \"store_name\": \"Daly City\", \"state\": \"CA\", \"city\": \"Daly City\", \"street\": \"250 Skyline Plaza\", \"zip\": \"94015\", \"longitude\": \"-122.488423000000\", \"latitude\": \"37.681936000000\", \"timeZone\": \"America/Los_Angeles\", \"state_name\": \"California\", \"brand\": \"99 Ranch Market\", \"type\": \"Feature\", \"geometry\": {\"type\": \"Point\", \"coordinates\": [-122.488423, 37.681936]}}, {\"store_number\": 1781, \"store_name\": \"Richmond\", \"state\": \"CA\", \"city\": \"Richmond\", \"street\": \"3288 Pierce St\", \"zip\": \"94804\", \"longitude\": \"-122.307712500000\", \"latitude\": \"37.898365000000\", \"timeZone\": \"America/Los_Angeles\", \"state_name\": \"California\", \"brand\": \"99 Ranch Market\", \"type\": \"Feature\", \"geometry\": {\"type\": \"Point\", \"coordinates\": [-122.3077125, 37.898365]}}, {\"store_number\": 1776, \"store_name\": \"Sacramento\", \"state\": \"CA\", \"city\": \"Sacramento\", \"street\": \"4220 Florin Rd\", \"zip\": \"95823\", \"longitude\": \"-121.456902700000\", \"latitude\": \"38.494721200000\", \"timeZone\": \"America/Los_Angeles\", \"state_name\": \"California\", \"brand\": \"99 Ranch Market\", \"type\": \"Feature\", \"geometry\": {\"type\": \"Point\", \"coordinates\": [-121.4569027, 38.4947212]}}, {\"store_number\": 1686, \"store_name\": \"Folsom\", \"state\": \"CA\", \"city\": \"Folsom\", \"street\": \"25000 Blue Ravine Rd\", \"zip\": \"95630\", \"longitude\": \"-121.125105200000\", \"latitude\": \"38.690552300000\", \"timeZone\": \"America/Los_Angeles\", \"state_name\": \"California\", \"brand\": \"99 Ranch Market\", \"type\": \"Feature\", \"geometry\": {\"type\": \"Point\", \"coordinates\": [-121.1251052, 38.6905523]}}, {\"store_number\": 1053, \"store_name\": \"Chandler\", \"state\": \"AZ\", \"city\": \"Chandler\", \"street\": \"1920 W Chandler Blvd\", \"zip\": \"85224\", \"longitude\": \"-111.874930800000\", \"latitude\": \"33.307467500000\", \"timeZone\": \"America/Los_Angeles\", \"state_name\": \"Arizona\", \"brand\": \"99 Ranch Market\", \"type\": \"Feature\", \"geometry\": {\"type\": \"Point\", \"coordinates\": [-111.8749308, 33.3074675]}}, {\"store_number\": 1693, \"store_name\": \"Beaverton\", \"state\": \"OR\", \"city\": \"Beaverton\", \"street\": \"8155 SW Hall Blvd\", \"zip\": \"97008\", \"longitude\": \"-122.796691300000\", \"latitude\": \"45.460295400000\", \"timeZone\": \"America/Los_Angeles\", \"state_name\": \"Oregon\", \"brand\": \"99 Ranch Market\", \"type\": \"Feature\", \"geometry\": {\"type\": \"Point\", \"coordinates\": [-122.7966913, 45.4602954]}}, {\"store_number\": 1791, \"store_name\": \"Kent\", \"state\": \"WA\", \"city\": \"Kent\", \"street\": \"18230 E Valley Hwy #100\", \"zip\": \"98032\", \"longitude\": \"-122.220225500000\", \"latitude\": \"47.438785200000\", \"timeZone\": \"America/Los_Angeles\", \"state_name\": \"Washington\", \"brand\": \"99 Ranch Market\", \"type\": \"Feature\", \"geometry\": {\"type\": \"Point\", \"coordinates\": [-122.2202255, 47.4387852]}}, {\"store_number\": 1792, \"store_name\": \"Edmonds\", \"state\": \"WA\", \"city\": \"Edmonds\", \"street\": \"22511 Hwy 99 #108\", \"zip\": \"98026\", \"longitude\": \"-122.333507100000\", \"latitude\": \"47.794853400000\", \"timeZone\": \"America/Los_Angeles\", \"state_name\": \"Washington\", \"brand\": \"99 Ranch Market\", \"type\": \"Feature\", \"geometry\": {\"type\": \"Point\", \"coordinates\": [-122.3335071, 47.7948534]}}, {\"store_number\": 1107, \"store_name\": \"Austin\", \"state\": \"TX\", \"city\": \"Austin\", \"street\": \"6929 Airport Blvd\", \"zip\": \"78752\", \"longitude\": \"-97.718205600000\", \"latitude\": \"30.338656300000\", \"timeZone\": \"America/Chicago\", \"state_name\": \"Texas\", \"brand\": \"99 Ranch Market\", \"type\": \"Feature\", \"geometry\": {\"type\": \"Point\", \"coordinates\": [-97.7182056, 30.3386563]}}, {\"store_number\": 1105, \"store_name\": \"Carrollton\", \"state\": \"TX\", \"city\": \"Carrollton\", \"street\": \"2532 Old Denton Rd\", \"zip\": \"75006\", \"longitude\": \"-96.908929200000\", \"latitude\": \"32.980671400000\", \"timeZone\": \"America/Chicago\", \"state_name\": \"Texas\", \"brand\": \"99 Ranch Market\", \"type\": \"Feature\", \"geometry\": {\"type\": \"Point\", \"coordinates\": [-96.9089292, 32.9806714]}}, {\"store_number\": 1108, \"store_name\": \"Frisco\", \"state\": \"TX\", \"city\": \"Frisco\", \"street\": \"9292 Warren Pkwy\", \"zip\": \"75035\", \"longitude\": \"-96.802697800000\", \"latitude\": \"33.110080300000\", \"timeZone\": \"America/Chicago\", \"state_name\": \"Texas\", \"brand\": \"99 Ranch Market\", \"type\": \"Feature\", \"geometry\": {\"type\": \"Point\", \"coordinates\": [-96.8026978, 33.1100803]}}, {\"store_number\": 1102, \"store_name\": \"Plano\", \"state\": \"TX\", \"city\": \"Plano\", \"street\": \"131 W Spring Creek Pkwy\", \"zip\": \"75023\", \"longitude\": \"-96.695388100000\", \"latitude\": \"33.057450200000\", \"timeZone\": \"America/Chicago\", \"state_name\": \"Texas\", \"brand\": \"99 Ranch Market\", \"type\": \"Feature\", \"geometry\": {\"type\": \"Point\", \"coordinates\": [-96.6953881, 33.0574502]}}, {\"store_number\": 1106, \"store_name\": \"Katy\", \"state\": \"TX\", \"city\": \"Katy\", \"street\": \"569 S Mason Rd\", \"zip\": \"77450\", \"longitude\": \"-95.750142200000\", \"latitude\": \"29.775670800000\", \"timeZone\": \"America/Chicago\", \"state_name\": \"Texas\", \"brand\": \"99 Ranch Market\", \"type\": \"Feature\", \"geometry\": {\"type\": \"Point\", \"coordinates\": [-95.7501422, 29.7756708]}}, {\"store_number\": 1109, \"store_name\": \"Westheimer\", \"state\": \"TX\", \"city\": \"Houston\", \"street\": \"12230 Westheimer Rd\", \"zip\": \"77077\", \"longitude\": \"-95.595619400000\", \"latitude\": \"29.737558700000\", \"timeZone\": \"America/Chicago\", \"state_name\": \"Texas\", \"brand\": \"99 Ranch Market\", \"type\": \"Feature\", \"geometry\": {\"type\": \"Point\", \"coordinates\": [-95.5956194, 29.7375587]}}, {\"store_number\": 1103, \"store_name\": \"Sugar Land\", \"state\": \"TX\", \"city\": \"Sugar Land\", \"street\": \"3430 Hwy 6\", \"zip\": \"77478\", \"longitude\": \"-95.599553000000\", \"latitude\": \"29.588520600000\", \"timeZone\": \"America/Chicago\", \"state_name\": \"Texas\", \"brand\": \"99 Ranch Market\", \"type\": \"Feature\", \"geometry\": {\"type\": \"Point\", \"coordinates\": [-95.599553, 29.5885206]}}, {\"store_number\": 1101, \"store_name\": \"Houston\", \"state\": \"TX\", \"city\": \"Houston\", \"street\": \"1005 Blalock Rd\", \"zip\": \"77055\", \"longitude\": \"-95.523437300000\", \"latitude\": \"29.785501400000\", \"timeZone\": \"America/Chicago\", \"state_name\": \"Texas\", \"brand\": \"99 Ranch Market\", \"type\": \"Feature\", \"geometry\": {\"type\": \"Point\", \"coordinates\": [-95.5234373, 29.7855014]}}, {\"store_number\": 1622, \"store_name\": \"Fairfax\", \"state\": \"VA\", \"city\": \"Fairfax\", \"street\": \"10780 Fairfax Blvd\", \"zip\": \"22030\", \"longitude\": \"-77.316496200000\", \"latitude\": \"38.856360500000\", \"timeZone\": \"America/New_York\", \"state_name\": \"Virginia\", \"brand\": \"99 Ranch Market\", \"type\": \"Feature\", \"geometry\": {\"type\": \"Point\", \"coordinates\": [-77.3164962, 38.8563605]}}, {\"store_number\": 1621, \"store_name\": \"Gaithersburg\", \"state\": \"MD\", \"city\": \"Gaithersburg\", \"street\": \"110 Odendhal Ave\", \"zip\": \"20877\", \"longitude\": \"-77.206113900000\", \"latitude\": \"39.150043200000\", \"timeZone\": \"America/New_York\", \"state_name\": \"Maryland\", \"brand\": \"99 Ranch Market\", \"type\": \"Feature\", \"geometry\": {\"type\": \"Point\", \"coordinates\": [-77.2061139, 39.1500432]}}, {\"store_number\": 1601, \"store_name\": \"Edison\", \"state\": \"NJ\", \"city\": \"Edison\", \"street\": \"561 US-1\", \"zip\": \"08817\", \"longitude\": \"-74.396553500000\", \"latitude\": \"40.506742300000\", \"timeZone\": \"America/New_York\", \"state_name\": \"New Jersey\", \"brand\": \"99 Ranch Market\", \"type\": \"Feature\", \"geometry\": {\"type\": \"Point\", \"coordinates\": [-74.3965535, 40.5067423]}}, {\"store_number\": 1602, \"store_name\": \"Jersey City\", \"state\": \"NJ\", \"city\": \"Jersey City\", \"street\": \"420 Grand St\", \"zip\": \"07302\", \"longitude\": \"-74.052231700000\", \"latitude\": \"40.718732300000\", \"timeZone\": \"America/New_York\", \"state_name\": \"New Jersey\", \"brand\": \"99 Ranch Market\", \"type\": \"Feature\", \"geometry\": {\"type\": \"Point\", \"coordinates\": [-74.0522317, 40.7187323]}}, {\"store_number\": 1603, \"store_name\": \"Hackensack\", \"state\": \"NJ\", \"city\": \"Hackensack\", \"street\": \"450 Hackensack Ave\", \"zip\": \"07601\", \"longitude\": \"-74.028383900000\", \"latitude\": \"40.908899400000\", \"timeZone\": \"America/New_York\", \"state_name\": \"New Jersey\", \"brand\": \"99 Ranch Market\", \"type\": \"Feature\", \"geometry\": {\"type\": \"Point\", \"coordinates\": [-74.0283839, 40.9088994]}}, {\"store_number\": 1606, \"store_name\": \"Westbury\", \"state\": \"NY\", \"city\": \"Westbury\", \"street\": \"1500 Old Country Rd\", \"zip\": \"11590\", \"longitude\": \"-73.595602400000\", \"latitude\": \"40.746472200000\", \"timeZone\": \"America/New_York\", \"state_name\": \"New York\", \"brand\": \"99 Ranch Market\", \"type\": \"Feature\", \"geometry\": {\"type\": \"Point\", \"coordinates\": [-73.5956024, 40.7464722]}}, {\"store_number\": 1605, \"store_name\": \"Quincy\", \"state\": \"MA\", \"city\": \"Quincy\", \"street\": \"475 Hancock St\", \"zip\": \"02171\", \"longitude\": \"-71.023556700000\", \"latitude\": \"42.270410100000\", \"timeZone\": \"America/New_York\", \"state_name\": \"Massachusetts\", \"brand\": \"99 Ranch Market\", \"type\": \"Feature\", \"geometry\": {\"type\": \"Point\", \"coordinates\": [-71.0235567, 42.2704101]}}]}}, {\"mode\": \"vega-lite\"});\n",
       "</script>"
      ],
      "text/plain": [
       "alt.LayerChart(...)"
      ]
     },
     "execution_count": 16,
     "metadata": {},
     "output_type": "execute_result"
    }
   ],
   "source": [
    "points = (\n",
    "    alt.Chart(gdf)\n",
    "    .mark_circle(size=15, color=color)\n",
    "    .encode(\n",
    "        longitude=\"longitude:Q\",\n",
    "        latitude=\"latitude:Q\",\n",
    "    )\n",
    ")\n",
    "\n",
    "point_map = background + points\n",
    "point_map.configure_view(stroke=None)"
   ]
  },
  {
   "cell_type": "markdown",
   "id": "0a1fbe27-c0ed-4536-822f-ff6d64d9a78a",
   "metadata": {},
   "source": [
    "#### Location proportional symbols map"
   ]
  },
  {
   "cell_type": "code",
   "execution_count": 17,
   "id": "6cdad978-98db-4088-9286-662c92824fd5",
   "metadata": {},
   "outputs": [
    {
     "data": {
      "text/html": [
       "\n",
       "<style>\n",
       "  #altair-viz-408f21e306fe493eb113756c53e2f4b7.vega-embed {\n",
       "    width: 100%;\n",
       "    display: flex;\n",
       "  }\n",
       "\n",
       "  #altair-viz-408f21e306fe493eb113756c53e2f4b7.vega-embed details,\n",
       "  #altair-viz-408f21e306fe493eb113756c53e2f4b7.vega-embed details summary {\n",
       "    position: relative;\n",
       "  }\n",
       "</style>\n",
       "<div id=\"altair-viz-408f21e306fe493eb113756c53e2f4b7\"></div>\n",
       "<script type=\"text/javascript\">\n",
       "  var VEGA_DEBUG = (typeof VEGA_DEBUG == \"undefined\") ? {} : VEGA_DEBUG;\n",
       "  (function(spec, embedOpt){\n",
       "    let outputDiv = document.currentScript.previousElementSibling;\n",
       "    if (outputDiv.id !== \"altair-viz-408f21e306fe493eb113756c53e2f4b7\") {\n",
       "      outputDiv = document.getElementById(\"altair-viz-408f21e306fe493eb113756c53e2f4b7\");\n",
       "    }\n",
       "    const paths = {\n",
       "      \"vega\": \"https://cdn.jsdelivr.net/npm/vega@5?noext\",\n",
       "      \"vega-lib\": \"https://cdn.jsdelivr.net/npm/vega-lib?noext\",\n",
       "      \"vega-lite\": \"https://cdn.jsdelivr.net/npm/vega-lite@5.16.3?noext\",\n",
       "      \"vega-embed\": \"https://cdn.jsdelivr.net/npm/vega-embed@6?noext\",\n",
       "    };\n",
       "\n",
       "    function maybeLoadScript(lib, version) {\n",
       "      var key = `${lib.replace(\"-\", \"\")}_version`;\n",
       "      return (VEGA_DEBUG[key] == version) ?\n",
       "        Promise.resolve(paths[lib]) :\n",
       "        new Promise(function(resolve, reject) {\n",
       "          var s = document.createElement('script');\n",
       "          document.getElementsByTagName(\"head\")[0].appendChild(s);\n",
       "          s.async = true;\n",
       "          s.onload = () => {\n",
       "            VEGA_DEBUG[key] = version;\n",
       "            return resolve(paths[lib]);\n",
       "          };\n",
       "          s.onerror = () => reject(`Error loading script: ${paths[lib]}`);\n",
       "          s.src = paths[lib];\n",
       "        });\n",
       "    }\n",
       "\n",
       "    function showError(err) {\n",
       "      outputDiv.innerHTML = `<div class=\"error\" style=\"color:red;\">${err}</div>`;\n",
       "      throw err;\n",
       "    }\n",
       "\n",
       "    function displayChart(vegaEmbed) {\n",
       "      vegaEmbed(outputDiv, spec, embedOpt)\n",
       "        .catch(err => showError(`Javascript Error: ${err.message}<br>This usually means there's a typo in your chart specification. See the javascript console for the full traceback.`));\n",
       "    }\n",
       "\n",
       "    if(typeof define === \"function\" && define.amd) {\n",
       "      requirejs.config({paths});\n",
       "      require([\"vega-embed\"], displayChart, err => showError(`Error loading script: ${err.message}`));\n",
       "    } else {\n",
       "      maybeLoadScript(\"vega\", \"5\")\n",
       "        .then(() => maybeLoadScript(\"vega-lite\", \"5.16.3\"))\n",
       "        .then(() => maybeLoadScript(\"vega-embed\", \"6\"))\n",
       "        .catch(showError)\n",
       "        .then(() => displayChart(vegaEmbed));\n",
       "    }\n",
       "  })({\"config\": {\"view\": {\"continuousWidth\": 300, \"continuousHeight\": 300, \"stroke\": null}}, \"layer\": [{\"data\": {\"url\": \"https://cdn.jsdelivr.net/npm/vega-datasets@v1.29.0/data/us-10m.json\", \"format\": {\"feature\": \"states\", \"type\": \"topojson\"}}, \"mark\": {\"type\": \"geoshape\", \"fill\": \"#e9e9e9\", \"stroke\": \"white\"}, \"projection\": {\"type\": \"albersUsa\"}, \"title\": \"99 Ranch Market locations\"}, {\"data\": {\"name\": \"data-20653905d923c8d49de820aca9fe95c3\"}, \"mark\": {\"type\": \"circle\"}, \"encoding\": {\"color\": {\"value\": \"#2a6f50\"}, \"latitude\": {\"field\": \"latitude\", \"type\": \"quantitative\"}, \"longitude\": {\"field\": \"longitude\", \"type\": \"quantitative\"}, \"size\": {\"field\": \"count\", \"title\": \"Count by state\", \"type\": \"quantitative\"}, \"tooltip\": [{\"field\": \"state\", \"type\": \"nominal\"}, {\"field\": \"count\", \"type\": \"quantitative\"}]}, \"title\": \"Number of 99 Ranch Market in US, by average lon/lat of locations\", \"transform\": [{\"aggregate\": [{\"op\": \"mean\", \"field\": \"latitude\", \"as\": \"latitude\"}, {\"op\": \"mean\", \"field\": \"longitude\", \"as\": \"longitude\"}, {\"op\": \"count\", \"as\": \"count\"}], \"groupby\": [\"state\"]}]}], \"height\": 500, \"width\": 800, \"$schema\": \"https://vega.github.io/schema/vega-lite/v5.16.3.json\", \"datasets\": {\"data-20653905d923c8d49de820aca9fe95c3\": [{\"store_number\": 1255, \"store_name\": \"Westwood\", \"state\": \"CA\", \"city\": \"Los Angeles\", \"street\": \"1360 Westwood Blvd\", \"zip\": \"90024\", \"longitude\": \"-118.441905700000\", \"latitude\": \"34.055985800000\", \"timeZone\": \"America/Los_Angeles\", \"state_name\": \"California\", \"brand\": \"99 Ranch Market\", \"type\": \"Feature\", \"geometry\": {\"type\": \"Point\", \"coordinates\": [-118.4419057, 34.0559858]}}, {\"store_number\": 1006, \"store_name\": \"Gardena\", \"state\": \"CA\", \"city\": \"Gardena\", \"street\": \"1340 Artesia Blvd\", \"zip\": \"90248\", \"longitude\": \"-118.297151500000\", \"latitude\": \"33.872055000000\", \"timeZone\": \"America/Los_Angeles\", \"state_name\": \"California\", \"brand\": \"99 Ranch Market\", \"type\": \"Feature\", \"geometry\": {\"type\": \"Point\", \"coordinates\": [-118.2971515, 33.872055]}}, {\"store_number\": 1808, \"store_name\": \"Torrance\", \"state\": \"CA\", \"city\": \"Torrance\", \"street\": \"19100 Harborgate Way\", \"zip\": \"90501\", \"longitude\": \"-118.303001700000\", \"latitude\": \"33.857125700000\", \"timeZone\": \"America/Los_Angeles\", \"state_name\": \"California\", \"brand\": \"99 Ranch Market\", \"type\": \"Feature\", \"geometry\": {\"type\": \"Point\", \"coordinates\": [-118.3030017, 33.8571257]}}, {\"store_number\": 1013, \"store_name\": \"Van Nuys\", \"state\": \"CA\", \"city\": \"Van Nuys\", \"street\": \"6450 Sepulveda Blvd\", \"zip\": \"91411\", \"longitude\": \"-118.465335900000\", \"latitude\": \"34.188030900000\", \"timeZone\": \"America/Los_Angeles\", \"state_name\": \"California\", \"brand\": \"99 Ranch Market\", \"type\": \"Feature\", \"geometry\": {\"type\": \"Point\", \"coordinates\": [-118.4653359, 34.1880309]}}, {\"store_number\": 1012, \"store_name\": \"Monterey Park\", \"state\": \"CA\", \"city\": \"Monterey Park\", \"street\": \"771 W Garvey Ave\", \"zip\": \"91754\", \"longitude\": \"-118.133740900000\", \"latitude\": \"34.063652400000\", \"timeZone\": \"America/Los_Angeles\", \"state_name\": \"California\", \"brand\": \"99 Ranch Market\", \"type\": \"Feature\", \"geometry\": {\"type\": \"Point\", \"coordinates\": [-118.1337409, 34.0636524]}}, {\"store_number\": 1038, \"store_name\": \"Alhambra\", \"state\": \"CA\", \"city\": \"Alhambra\", \"street\": \"345 E Main St\", \"zip\": \"91801\", \"longitude\": \"-118.123788900000\", \"latitude\": \"34.097604900000\", \"timeZone\": \"America/Los_Angeles\", \"state_name\": \"California\", \"brand\": \"99 Ranch Market\", \"type\": \"Feature\", \"geometry\": {\"type\": \"Point\", \"coordinates\": [-118.1237889, 34.0976049]}}, {\"store_number\": 1208, \"store_name\": \"San Gabriel\", \"state\": \"CA\", \"city\": \"San Gabriel\", \"street\": \"140 W Valley Blvd #150\", \"zip\": \"91776\", \"longitude\": \"-118.101555400000\", \"latitude\": \"34.078010600000\", \"timeZone\": \"America/Los_Angeles\", \"state_name\": \"California\", \"brand\": \"99 Ranch Market\", \"type\": \"Feature\", \"geometry\": {\"type\": \"Point\", \"coordinates\": [-118.1015554, 34.0780106]}}, {\"store_number\": 1017, \"store_name\": \"Artesia\", \"state\": \"CA\", \"city\": \"Artesia\", \"street\": \"17713 Pioneer Blvd\", \"zip\": \"90701\", \"longitude\": \"-118.082913300000\", \"latitude\": \"33.869670200000\", \"timeZone\": \"America/Los_Angeles\", \"state_name\": \"California\", \"brand\": \"99 Ranch Market\", \"type\": \"Feature\", \"geometry\": {\"type\": \"Point\", \"coordinates\": [-118.0829133, 33.8696702]}}, {\"store_number\": 1007, \"store_name\": \"Arcadia\", \"state\": \"CA\", \"city\": \"Arcadia\", \"street\": \"1300 S Golden W Ave\", \"zip\": \"91007\", \"longitude\": \"-118.058950500000\", \"latitude\": \"34.124003900000\", \"timeZone\": \"America/Los_Angeles\", \"state_name\": \"California\", \"brand\": \"99 Ranch Market\", \"type\": \"Feature\", \"geometry\": {\"type\": \"Point\", \"coordinates\": [-118.0589505, 34.1240039]}}, {\"store_number\": 1257, \"store_name\": \"Santa Anita\", \"state\": \"CA\", \"city\": \"Arcadia\", \"street\": \"400 S Baldwin Ave Suite#1000\", \"zip\": \"91007\", \"longitude\": \"-118.051589000000\", \"latitude\": \"34.134700300000\", \"timeZone\": \"America/Los_Angeles\", \"state_name\": \"California\", \"brand\": \"99 Ranch Market\", \"type\": \"Feature\", \"geometry\": {\"type\": \"Point\", \"coordinates\": [-118.051589, 34.1347003]}}, {\"store_number\": 1018, \"store_name\": \"Hacienda Heights\", \"state\": \"CA\", \"city\": \"Hacienda Heights\", \"street\": \"1625 S Azusa Ave\", \"zip\": \"91745\", \"longitude\": \"-117.933412800000\", \"latitude\": \"33.993028500000\", \"timeZone\": \"America/Los_Angeles\", \"state_name\": \"California\", \"brand\": \"99 Ranch Market\", \"type\": \"Feature\", \"geometry\": {\"type\": \"Point\", \"coordinates\": [-117.9334128, 33.9930285]}}, {\"store_number\": 1005, \"store_name\": \"Anaheim\", \"state\": \"CA\", \"city\": \"Anaheim\", \"street\": \"651 N Euclid St\", \"zip\": \"92801\", \"longitude\": \"-117.943664100000\", \"latitude\": \"33.841125500000\", \"timeZone\": \"America/Los_Angeles\", \"state_name\": \"California\", \"brand\": \"99 Ranch Market\", \"type\": \"Feature\", \"geometry\": {\"type\": \"Point\", \"coordinates\": [-117.9436641, 33.8411255]}}, {\"store_number\": 1003, \"store_name\": \"Rowland Heights\", \"state\": \"CA\", \"city\": \"Rowland Heights\", \"street\": \"1015 S Nogales St\", \"zip\": \"91748\", \"longitude\": \"-117.890715800000\", \"latitude\": \"33.996690000000\", \"timeZone\": \"America/Los_Angeles\", \"state_name\": \"California\", \"brand\": \"99 Ranch Market\", \"type\": \"Feature\", \"geometry\": {\"type\": \"Point\", \"coordinates\": [-117.8907158, 33.99669]}}, {\"store_number\": 1231, \"store_name\": \"Chino Hills\", \"state\": \"CA\", \"city\": \"Chino Hills\", \"street\": \"2959 Chino Ave\", \"zip\": \"91709\", \"longitude\": \"-117.740998500000\", \"latitude\": \"34.009608900000\", \"timeZone\": \"America/Los_Angeles\", \"state_name\": \"California\", \"brand\": \"99 Ranch Market\", \"type\": \"Feature\", \"geometry\": {\"type\": \"Point\", \"coordinates\": [-117.7409985, 34.0096089]}}, {\"store_number\": 1052, \"store_name\": \"Chino\", \"state\": \"CA\", \"city\": \"Chino\", \"street\": \"4024 Grand Ave\", \"zip\": \"91710\", \"longitude\": \"-117.716294000000\", \"latitude\": \"33.999303100000\", \"timeZone\": \"America/Los_Angeles\", \"state_name\": \"California\", \"brand\": \"99 Ranch Market\", \"type\": \"Feature\", \"geometry\": {\"type\": \"Point\", \"coordinates\": [-117.716294, 33.9993031]}}, {\"store_number\": 1009, \"store_name\": \"Irvine (Culver Dr.)\", \"state\": \"CA\", \"city\": \"Irvine\", \"street\": \"15333 Culver Dr #800\", \"zip\": \"92604\", \"longitude\": \"-117.798444600000\", \"latitude\": \"33.696356500000\", \"timeZone\": \"America/Los_Angeles\", \"state_name\": \"California\", \"brand\": \"99 Ranch Market\", \"type\": \"Feature\", \"geometry\": {\"type\": \"Point\", \"coordinates\": [-117.7984446, 33.6963565]}}, {\"store_number\": 1219, \"store_name\": \"Irvine (Walnut Ave)\", \"state\": \"CA\", \"city\": \"Irvine\", \"street\": \"5402 Walnut Ave\", \"zip\": \"92604\", \"longitude\": \"-117.769679900000\", \"latitude\": \"33.690459900000\", \"timeZone\": \"America/Los_Angeles\", \"state_name\": \"California\", \"brand\": \"99 Ranch Market\", \"type\": \"Feature\", \"geometry\": {\"type\": \"Point\", \"coordinates\": [-117.7696799, 33.6904599]}}, {\"store_number\": 1035, \"store_name\": \"Rancho Cucamonga\", \"state\": \"CA\", \"city\": \"Rancho Cucamonga\", \"street\": \"9775 Base Line Rd\", \"zip\": \"91730\", \"longitude\": \"-117.591863600000\", \"latitude\": \"34.120119900000\", \"timeZone\": \"America/Los_Angeles\", \"state_name\": \"California\", \"brand\": \"99 Ranch Market\", \"type\": \"Feature\", \"geometry\": {\"type\": \"Point\", \"coordinates\": [-117.5918636, 34.1201199]}}, {\"store_number\": 1256, \"store_name\": \"Eastvale\", \"state\": \"CA\", \"city\": \"Eastvale\", \"street\": \"4956 Hamner Ave\", \"zip\": \"91752\", \"longitude\": \"-117.555891700000\", \"latitude\": \"33.998714400000\", \"timeZone\": \"America/Los_Angeles\", \"state_name\": \"California\", \"brand\": \"99 Ranch Market\", \"type\": \"Feature\", \"geometry\": {\"type\": \"Point\", \"coordinates\": [-117.5558917, 33.9987144]}}, {\"store_number\": 1036, \"store_name\": \"Corona\", \"state\": \"CA\", \"city\": \"Corona\", \"street\": \"430 N McKinley St\", \"zip\": \"92879\", \"longitude\": \"-117.521537400000\", \"latitude\": \"33.888713600000\", \"timeZone\": \"America/Los_Angeles\", \"state_name\": \"California\", \"brand\": \"99 Ranch Market\", \"type\": \"Feature\", \"geometry\": {\"type\": \"Point\", \"coordinates\": [-117.5215374, 33.8887136]}}, {\"store_number\": 1039, \"store_name\": \"San Diego (Balboa Ave)\", \"state\": \"CA\", \"city\": \"San Diego\", \"street\": \"5950 Balboa Ave\", \"zip\": \"92111\", \"longitude\": \"-117.176959400000\", \"latitude\": \"32.821638000000\", \"timeZone\": \"America/Los_Angeles\", \"state_name\": \"California\", \"brand\": \"99 Ranch Market\", \"type\": \"Feature\", \"geometry\": {\"type\": \"Point\", \"coordinates\": [-117.1769594, 32.821638]}}, {\"store_number\": 1016, \"store_name\": \"San Diego (Clairemon Mesa Blvd)\", \"state\": \"CA\", \"city\": \"San Diego\", \"street\": \"7330 Clairemont Mesa Blvd\", \"zip\": \"92111\", \"longitude\": \"-117.160757600000\", \"latitude\": \"32.833557600000\", \"timeZone\": \"America/Los_Angeles\", \"state_name\": \"California\", \"brand\": \"99 Ranch Market\", \"type\": \"Feature\", \"geometry\": {\"type\": \"Point\", \"coordinates\": [-117.1607576, 32.8335576]}}, {\"store_number\": 1051, \"store_name\": \"Chula Vista\", \"state\": \"CA\", \"city\": \"Chula Vista\", \"street\": \"505 Telegraph Canyon Rd\", \"zip\": \"91910\", \"longitude\": \"-117.040514700000\", \"latitude\": \"32.629458000000\", \"timeZone\": \"America/Los_Angeles\", \"state_name\": \"California\", \"brand\": \"99 Ranch Market\", \"type\": \"Feature\", \"geometry\": {\"type\": \"Point\", \"coordinates\": [-117.0405147, 32.629458]}}, {\"store_number\": 1032, \"store_name\": \"Las Vegas (Spring Mountain Rd)\", \"state\": \"NV\", \"city\": \"Las Vegas\", \"street\": \"4155 W Spring Mountain Rd\", \"zip\": \"89102\", \"longitude\": \"-115.195231500000\", \"latitude\": \"36.125488800000\", \"timeZone\": \"America/Los_Angeles\", \"state_name\": \"Nevada\", \"brand\": \"99 Ranch Market\", \"type\": \"Feature\", \"geometry\": {\"type\": \"Point\", \"coordinates\": [-115.1952315, 36.1254888]}}, {\"store_number\": 1037, \"store_name\": \"Las Vegas (Maryland Pkwy)\", \"state\": \"NV\", \"city\": \"Las Vegas\", \"street\": \"3768 S Maryland Pkwy\", \"zip\": \"89119\", \"longitude\": \"-115.135461800000\", \"latitude\": \"36.121022900000\", \"timeZone\": \"America/Los_Angeles\", \"state_name\": \"Nevada\", \"brand\": \"99 Ranch Market\", \"type\": \"Feature\", \"geometry\": {\"type\": \"Point\", \"coordinates\": [-115.1354618, 36.1210229]}}, {\"store_number\": 1702, \"store_name\": \"Blossom Hill, San Jose\", \"state\": \"CA\", \"city\": \"San Jose\", \"street\": \"925 Blossom Hill Rd\", \"zip\": \"95123\", \"longitude\": \"-121.861402000000\", \"latitude\": \"37.251731500000\", \"timeZone\": \"America/Los_Angeles\", \"state_name\": \"California\", \"brand\": \"99 Ranch Market\", \"type\": \"Feature\", \"geometry\": {\"type\": \"Point\", \"coordinates\": [-121.861402, 37.2517315]}}, {\"store_number\": 1761, \"store_name\": \"Hostetter\", \"state\": \"CA\", \"city\": \"San Jose\", \"street\": \"1688 Hostetter Rd Unit E\", \"zip\": \"95131\", \"longitude\": \"-121.883612700000\", \"latitude\": \"37.386891100000\", \"timeZone\": \"America/Los_Angeles\", \"state_name\": \"California\", \"brand\": \"99 Ranch Market\", \"type\": \"Feature\", \"geometry\": {\"type\": \"Point\", \"coordinates\": [-121.8836127, 37.3868911]}}, {\"store_number\": 1779, \"store_name\": \"Cupertino (DeAnza Blvd)\", \"state\": \"CA\", \"city\": \"Cupertino\", \"street\": \"10425 S De Anza Blvd\", \"zip\": \"95014\", \"longitude\": \"-122.033524200000\", \"latitude\": \"37.316897800000\", \"timeZone\": \"America/Los_Angeles\", \"state_name\": \"California\", \"brand\": \"99 Ranch Market\", \"type\": \"Feature\", \"geometry\": {\"type\": \"Point\", \"coordinates\": [-122.0335242, 37.3168978]}}, {\"store_number\": 1768, \"store_name\": \"Cupertino (North Wolfe Rd)\", \"state\": \"CA\", \"city\": \"Cupertino\", \"street\": \"10983 N Wolfe Rd\", \"zip\": \"95014\", \"longitude\": \"-122.015460300000\", \"latitude\": \"37.336582500000\", \"timeZone\": \"America/Los_Angeles\", \"state_name\": \"California\", \"brand\": \"99 Ranch Market\", \"type\": \"Feature\", \"geometry\": {\"type\": \"Point\", \"coordinates\": [-122.0154603, 37.3365825]}}, {\"store_number\": 1766, \"store_name\": \"Milpitas\", \"state\": \"CA\", \"city\": \"Milpitas\", \"street\": \"338 Barber Ln\", \"zip\": \"95035\", \"longitude\": \"-121.916950500000\", \"latitude\": \"37.422847900000\", \"timeZone\": \"America/Los_Angeles\", \"state_name\": \"California\", \"brand\": \"99 Ranch Market\", \"type\": \"Feature\", \"geometry\": {\"type\": \"Point\", \"coordinates\": [-121.9169505, 37.4228479]}}, {\"store_number\": 1772, \"store_name\": \"Mountain View\", \"state\": \"CA\", \"city\": \"Mountain View\", \"street\": \"1350 Grant Rd\", \"zip\": \"94040\", \"longitude\": \"-122.076422300000\", \"latitude\": \"37.376892800000\", \"timeZone\": \"America/Los_Angeles\", \"state_name\": \"California\", \"brand\": \"99 Ranch Market\", \"type\": \"Feature\", \"geometry\": {\"type\": \"Point\", \"coordinates\": [-122.0764223, 37.3768928]}}, {\"store_number\": 1701, \"store_name\": \"Fremont (Mission Blvd)\", \"state\": \"CA\", \"city\": \"Fremont\", \"street\": \"46551 Mission Blvd\", \"zip\": \"94539\", \"longitude\": \"-121.929551600000\", \"latitude\": \"37.492069400000\", \"timeZone\": \"America/Los_Angeles\", \"state_name\": \"California\", \"brand\": \"99 Ranch Market\", \"type\": \"Feature\", \"geometry\": {\"type\": \"Point\", \"coordinates\": [-121.9295516, 37.4920694]}}, {\"store_number\": 1783, \"store_name\": \"Newark\", \"state\": \"CA\", \"city\": \"Newark\", \"street\": \"35219 Newark Blvd B\", \"zip\": \"94560\", \"longitude\": \"-122.046899500000\", \"latitude\": \"37.547560000000\", \"timeZone\": \"America/Los_Angeles\", \"state_name\": \"California\", \"brand\": \"99 Ranch Market\", \"type\": \"Feature\", \"geometry\": {\"type\": \"Point\", \"coordinates\": [-122.0468995, 37.54756]}}, {\"store_number\": 1688, \"store_name\": \"Pleasanton(Stoneridge Dr)\", \"state\": \"CA\", \"city\": \"Pleasanton\", \"street\": \"2701 Stoneridge Dr\", \"zip\": \"94588\", \"longitude\": \"-121.850078700000\", \"latitude\": \"37.695493600000\", \"timeZone\": \"America/Los_Angeles\", \"state_name\": \"California\", \"brand\": \"99 Ranch Market\", \"type\": \"Feature\", \"geometry\": {\"type\": \"Point\", \"coordinates\": [-121.8500787, 37.6954936]}}, {\"store_number\": 1762, \"store_name\": \"Fermont (Fremont Blvd)\", \"state\": \"CA\", \"city\": \"Fremont\", \"street\": \"34444 Fremont Blvd\", \"zip\": \"94555\", \"longitude\": \"-122.039262500000\", \"latitude\": \"37.575324900000\", \"timeZone\": \"America/Los_Angeles\", \"state_name\": \"California\", \"brand\": \"99 Ranch Market\", \"type\": \"Feature\", \"geometry\": {\"type\": \"Point\", \"coordinates\": [-122.0392625, 37.5753249]}}, {\"store_number\": 1775, \"store_name\": \"Pleasanton (Rosewood Dr)\", \"state\": \"CA\", \"city\": \"Pleasanton\", \"street\": \"4299 Rosewood Dr\", \"zip\": \"94588\", \"longitude\": \"-121.873274300000\", \"latitude\": \"37.699301900000\", \"timeZone\": \"America/Los_Angeles\", \"state_name\": \"California\", \"brand\": \"99 Ranch Market\", \"type\": \"Feature\", \"geometry\": {\"type\": \"Point\", \"coordinates\": [-121.8732743, 37.6993019]}}, {\"store_number\": 1771, \"store_name\": \"Dublin\", \"state\": \"CA\", \"city\": \"Dublin\", \"street\": \"7333 Regional St\", \"zip\": \"94568\", \"longitude\": \"-121.934100600000\", \"latitude\": \"37.706333100000\", \"timeZone\": \"America/Los_Angeles\", \"state_name\": \"California\", \"brand\": \"99 Ranch Market\", \"type\": \"Feature\", \"geometry\": {\"type\": \"Point\", \"coordinates\": [-121.9341006, 37.7063331]}}, {\"store_number\": 1782, \"store_name\": \"Foster City\", \"state\": \"CA\", \"city\": \"Foster City\", \"street\": \"1070 Foster City Blvd\", \"zip\": \"94404\", \"longitude\": \"-122.257070900000\", \"latitude\": \"37.553563800000\", \"timeZone\": \"America/Los_Angeles\", \"state_name\": \"California\", \"brand\": \"99 Ranch Market\", \"type\": \"Feature\", \"geometry\": {\"type\": \"Point\", \"coordinates\": [-122.2570709, 37.5535638]}}, {\"store_number\": 1773, \"store_name\": \"Concord\", \"state\": \"CA\", \"city\": \"Concord\", \"street\": \"1795 Willow Pass Rd\", \"zip\": \"94520\", \"longitude\": \"-122.038698900000\", \"latitude\": \"37.975037800000\", \"timeZone\": \"America/Los_Angeles\", \"state_name\": \"California\", \"brand\": \"99 Ranch Market\", \"type\": \"Feature\", \"geometry\": {\"type\": \"Point\", \"coordinates\": [-122.0386989, 37.9750378]}}, {\"store_number\": 1769, \"store_name\": \"Daly City\", \"state\": \"CA\", \"city\": \"Daly City\", \"street\": \"250 Skyline Plaza\", \"zip\": \"94015\", \"longitude\": \"-122.488423000000\", \"latitude\": \"37.681936000000\", \"timeZone\": \"America/Los_Angeles\", \"state_name\": \"California\", \"brand\": \"99 Ranch Market\", \"type\": \"Feature\", \"geometry\": {\"type\": \"Point\", \"coordinates\": [-122.488423, 37.681936]}}, {\"store_number\": 1781, \"store_name\": \"Richmond\", \"state\": \"CA\", \"city\": \"Richmond\", \"street\": \"3288 Pierce St\", \"zip\": \"94804\", \"longitude\": \"-122.307712500000\", \"latitude\": \"37.898365000000\", \"timeZone\": \"America/Los_Angeles\", \"state_name\": \"California\", \"brand\": \"99 Ranch Market\", \"type\": \"Feature\", \"geometry\": {\"type\": \"Point\", \"coordinates\": [-122.3077125, 37.898365]}}, {\"store_number\": 1776, \"store_name\": \"Sacramento\", \"state\": \"CA\", \"city\": \"Sacramento\", \"street\": \"4220 Florin Rd\", \"zip\": \"95823\", \"longitude\": \"-121.456902700000\", \"latitude\": \"38.494721200000\", \"timeZone\": \"America/Los_Angeles\", \"state_name\": \"California\", \"brand\": \"99 Ranch Market\", \"type\": \"Feature\", \"geometry\": {\"type\": \"Point\", \"coordinates\": [-121.4569027, 38.4947212]}}, {\"store_number\": 1686, \"store_name\": \"Folsom\", \"state\": \"CA\", \"city\": \"Folsom\", \"street\": \"25000 Blue Ravine Rd\", \"zip\": \"95630\", \"longitude\": \"-121.125105200000\", \"latitude\": \"38.690552300000\", \"timeZone\": \"America/Los_Angeles\", \"state_name\": \"California\", \"brand\": \"99 Ranch Market\", \"type\": \"Feature\", \"geometry\": {\"type\": \"Point\", \"coordinates\": [-121.1251052, 38.6905523]}}, {\"store_number\": 1053, \"store_name\": \"Chandler\", \"state\": \"AZ\", \"city\": \"Chandler\", \"street\": \"1920 W Chandler Blvd\", \"zip\": \"85224\", \"longitude\": \"-111.874930800000\", \"latitude\": \"33.307467500000\", \"timeZone\": \"America/Los_Angeles\", \"state_name\": \"Arizona\", \"brand\": \"99 Ranch Market\", \"type\": \"Feature\", \"geometry\": {\"type\": \"Point\", \"coordinates\": [-111.8749308, 33.3074675]}}, {\"store_number\": 1693, \"store_name\": \"Beaverton\", \"state\": \"OR\", \"city\": \"Beaverton\", \"street\": \"8155 SW Hall Blvd\", \"zip\": \"97008\", \"longitude\": \"-122.796691300000\", \"latitude\": \"45.460295400000\", \"timeZone\": \"America/Los_Angeles\", \"state_name\": \"Oregon\", \"brand\": \"99 Ranch Market\", \"type\": \"Feature\", \"geometry\": {\"type\": \"Point\", \"coordinates\": [-122.7966913, 45.4602954]}}, {\"store_number\": 1791, \"store_name\": \"Kent\", \"state\": \"WA\", \"city\": \"Kent\", \"street\": \"18230 E Valley Hwy #100\", \"zip\": \"98032\", \"longitude\": \"-122.220225500000\", \"latitude\": \"47.438785200000\", \"timeZone\": \"America/Los_Angeles\", \"state_name\": \"Washington\", \"brand\": \"99 Ranch Market\", \"type\": \"Feature\", \"geometry\": {\"type\": \"Point\", \"coordinates\": [-122.2202255, 47.4387852]}}, {\"store_number\": 1792, \"store_name\": \"Edmonds\", \"state\": \"WA\", \"city\": \"Edmonds\", \"street\": \"22511 Hwy 99 #108\", \"zip\": \"98026\", \"longitude\": \"-122.333507100000\", \"latitude\": \"47.794853400000\", \"timeZone\": \"America/Los_Angeles\", \"state_name\": \"Washington\", \"brand\": \"99 Ranch Market\", \"type\": \"Feature\", \"geometry\": {\"type\": \"Point\", \"coordinates\": [-122.3335071, 47.7948534]}}, {\"store_number\": 1107, \"store_name\": \"Austin\", \"state\": \"TX\", \"city\": \"Austin\", \"street\": \"6929 Airport Blvd\", \"zip\": \"78752\", \"longitude\": \"-97.718205600000\", \"latitude\": \"30.338656300000\", \"timeZone\": \"America/Chicago\", \"state_name\": \"Texas\", \"brand\": \"99 Ranch Market\", \"type\": \"Feature\", \"geometry\": {\"type\": \"Point\", \"coordinates\": [-97.7182056, 30.3386563]}}, {\"store_number\": 1105, \"store_name\": \"Carrollton\", \"state\": \"TX\", \"city\": \"Carrollton\", \"street\": \"2532 Old Denton Rd\", \"zip\": \"75006\", \"longitude\": \"-96.908929200000\", \"latitude\": \"32.980671400000\", \"timeZone\": \"America/Chicago\", \"state_name\": \"Texas\", \"brand\": \"99 Ranch Market\", \"type\": \"Feature\", \"geometry\": {\"type\": \"Point\", \"coordinates\": [-96.9089292, 32.9806714]}}, {\"store_number\": 1108, \"store_name\": \"Frisco\", \"state\": \"TX\", \"city\": \"Frisco\", \"street\": \"9292 Warren Pkwy\", \"zip\": \"75035\", \"longitude\": \"-96.802697800000\", \"latitude\": \"33.110080300000\", \"timeZone\": \"America/Chicago\", \"state_name\": \"Texas\", \"brand\": \"99 Ranch Market\", \"type\": \"Feature\", \"geometry\": {\"type\": \"Point\", \"coordinates\": [-96.8026978, 33.1100803]}}, {\"store_number\": 1102, \"store_name\": \"Plano\", \"state\": \"TX\", \"city\": \"Plano\", \"street\": \"131 W Spring Creek Pkwy\", \"zip\": \"75023\", \"longitude\": \"-96.695388100000\", \"latitude\": \"33.057450200000\", \"timeZone\": \"America/Chicago\", \"state_name\": \"Texas\", \"brand\": \"99 Ranch Market\", \"type\": \"Feature\", \"geometry\": {\"type\": \"Point\", \"coordinates\": [-96.6953881, 33.0574502]}}, {\"store_number\": 1106, \"store_name\": \"Katy\", \"state\": \"TX\", \"city\": \"Katy\", \"street\": \"569 S Mason Rd\", \"zip\": \"77450\", \"longitude\": \"-95.750142200000\", \"latitude\": \"29.775670800000\", \"timeZone\": \"America/Chicago\", \"state_name\": \"Texas\", \"brand\": \"99 Ranch Market\", \"type\": \"Feature\", \"geometry\": {\"type\": \"Point\", \"coordinates\": [-95.7501422, 29.7756708]}}, {\"store_number\": 1109, \"store_name\": \"Westheimer\", \"state\": \"TX\", \"city\": \"Houston\", \"street\": \"12230 Westheimer Rd\", \"zip\": \"77077\", \"longitude\": \"-95.595619400000\", \"latitude\": \"29.737558700000\", \"timeZone\": \"America/Chicago\", \"state_name\": \"Texas\", \"brand\": \"99 Ranch Market\", \"type\": \"Feature\", \"geometry\": {\"type\": \"Point\", \"coordinates\": [-95.5956194, 29.7375587]}}, {\"store_number\": 1103, \"store_name\": \"Sugar Land\", \"state\": \"TX\", \"city\": \"Sugar Land\", \"street\": \"3430 Hwy 6\", \"zip\": \"77478\", \"longitude\": \"-95.599553000000\", \"latitude\": \"29.588520600000\", \"timeZone\": \"America/Chicago\", \"state_name\": \"Texas\", \"brand\": \"99 Ranch Market\", \"type\": \"Feature\", \"geometry\": {\"type\": \"Point\", \"coordinates\": [-95.599553, 29.5885206]}}, {\"store_number\": 1101, \"store_name\": \"Houston\", \"state\": \"TX\", \"city\": \"Houston\", \"street\": \"1005 Blalock Rd\", \"zip\": \"77055\", \"longitude\": \"-95.523437300000\", \"latitude\": \"29.785501400000\", \"timeZone\": \"America/Chicago\", \"state_name\": \"Texas\", \"brand\": \"99 Ranch Market\", \"type\": \"Feature\", \"geometry\": {\"type\": \"Point\", \"coordinates\": [-95.5234373, 29.7855014]}}, {\"store_number\": 1622, \"store_name\": \"Fairfax\", \"state\": \"VA\", \"city\": \"Fairfax\", \"street\": \"10780 Fairfax Blvd\", \"zip\": \"22030\", \"longitude\": \"-77.316496200000\", \"latitude\": \"38.856360500000\", \"timeZone\": \"America/New_York\", \"state_name\": \"Virginia\", \"brand\": \"99 Ranch Market\", \"type\": \"Feature\", \"geometry\": {\"type\": \"Point\", \"coordinates\": [-77.3164962, 38.8563605]}}, {\"store_number\": 1621, \"store_name\": \"Gaithersburg\", \"state\": \"MD\", \"city\": \"Gaithersburg\", \"street\": \"110 Odendhal Ave\", \"zip\": \"20877\", \"longitude\": \"-77.206113900000\", \"latitude\": \"39.150043200000\", \"timeZone\": \"America/New_York\", \"state_name\": \"Maryland\", \"brand\": \"99 Ranch Market\", \"type\": \"Feature\", \"geometry\": {\"type\": \"Point\", \"coordinates\": [-77.2061139, 39.1500432]}}, {\"store_number\": 1601, \"store_name\": \"Edison\", \"state\": \"NJ\", \"city\": \"Edison\", \"street\": \"561 US-1\", \"zip\": \"08817\", \"longitude\": \"-74.396553500000\", \"latitude\": \"40.506742300000\", \"timeZone\": \"America/New_York\", \"state_name\": \"New Jersey\", \"brand\": \"99 Ranch Market\", \"type\": \"Feature\", \"geometry\": {\"type\": \"Point\", \"coordinates\": [-74.3965535, 40.5067423]}}, {\"store_number\": 1602, \"store_name\": \"Jersey City\", \"state\": \"NJ\", \"city\": \"Jersey City\", \"street\": \"420 Grand St\", \"zip\": \"07302\", \"longitude\": \"-74.052231700000\", \"latitude\": \"40.718732300000\", \"timeZone\": \"America/New_York\", \"state_name\": \"New Jersey\", \"brand\": \"99 Ranch Market\", \"type\": \"Feature\", \"geometry\": {\"type\": \"Point\", \"coordinates\": [-74.0522317, 40.7187323]}}, {\"store_number\": 1603, \"store_name\": \"Hackensack\", \"state\": \"NJ\", \"city\": \"Hackensack\", \"street\": \"450 Hackensack Ave\", \"zip\": \"07601\", \"longitude\": \"-74.028383900000\", \"latitude\": \"40.908899400000\", \"timeZone\": \"America/New_York\", \"state_name\": \"New Jersey\", \"brand\": \"99 Ranch Market\", \"type\": \"Feature\", \"geometry\": {\"type\": \"Point\", \"coordinates\": [-74.0283839, 40.9088994]}}, {\"store_number\": 1606, \"store_name\": \"Westbury\", \"state\": \"NY\", \"city\": \"Westbury\", \"street\": \"1500 Old Country Rd\", \"zip\": \"11590\", \"longitude\": \"-73.595602400000\", \"latitude\": \"40.746472200000\", \"timeZone\": \"America/New_York\", \"state_name\": \"New York\", \"brand\": \"99 Ranch Market\", \"type\": \"Feature\", \"geometry\": {\"type\": \"Point\", \"coordinates\": [-73.5956024, 40.7464722]}}, {\"store_number\": 1605, \"store_name\": \"Quincy\", \"state\": \"MA\", \"city\": \"Quincy\", \"street\": \"475 Hancock St\", \"zip\": \"02171\", \"longitude\": \"-71.023556700000\", \"latitude\": \"42.270410100000\", \"timeZone\": \"America/New_York\", \"state_name\": \"Massachusetts\", \"brand\": \"99 Ranch Market\", \"type\": \"Feature\", \"geometry\": {\"type\": \"Point\", \"coordinates\": [-71.0235567, 42.2704101]}}]}}, {\"mode\": \"vega-lite\"});\n",
       "</script>"
      ],
      "text/plain": [
       "alt.LayerChart(...)"
      ]
     },
     "execution_count": 17,
     "metadata": {},
     "output_type": "execute_result"
    }
   ],
   "source": [
    "symbols = (\n",
    "    alt.Chart(gdf)\n",
    "    .transform_aggregate(\n",
    "        latitude=\"mean(latitude)\",\n",
    "        longitude=\"mean(longitude)\",\n",
    "        count=\"count()\",\n",
    "        groupby=[\"state\"],\n",
    "    )\n",
    "    .mark_circle()\n",
    "    .encode(\n",
    "        longitude=\"longitude:Q\",\n",
    "        latitude=\"latitude:Q\",\n",
    "        size=alt.Size(\"count:Q\", title=\"Count by state\"),\n",
    "        color=alt.value(color),\n",
    "        tooltip=[\"state:N\", \"count:Q\"],\n",
    "    )\n",
    "    .properties(\n",
    "        title=f\"Number of {place_formal} in US, by average lon/lat of locations\"\n",
    "    )\n",
    ")\n",
    "\n",
    "symbol_map = background + symbols\n",
    "symbol_map.configure_view(stroke=None)"
   ]
  },
  {
   "cell_type": "markdown",
   "id": "15b9c879-2480-49f4-99e7-6adc1a4c10aa",
   "metadata": {},
   "source": [
    "---"
   ]
  },
  {
   "cell_type": "markdown",
   "id": "41af18db-4aeb-4259-a7c1-b52471eb8693",
   "metadata": {},
   "source": [
    "## Exports"
   ]
  },
  {
   "cell_type": "markdown",
   "id": "e3831fb4-1062-4cab-9730-933ff07e01f0",
   "metadata": {},
   "source": [
    "#### JSON"
   ]
  },
  {
   "cell_type": "code",
   "execution_count": 18,
   "id": "e1e78a42-ba8a-49aa-a699-58e33fa204d0",
   "metadata": {},
   "outputs": [],
   "source": [
    "df.to_json(\n",
    "    f\"data/processed/{place.lower().replace(' ', '_')}_locations.json\",\n",
    "    indent=4,\n",
    "    orient=\"records\",\n",
    ")"
   ]
  },
  {
   "cell_type": "markdown",
   "id": "d737f808-9d71-4f25-8cd1-3fcedc45ab63",
   "metadata": {},
   "source": [
    "#### CSV"
   ]
  },
  {
   "cell_type": "code",
   "execution_count": 19,
   "id": "0504831b-4df4-4ff2-bd26-f08ef7ca9198",
   "metadata": {},
   "outputs": [],
   "source": [
    "df.to_csv(\n",
    "    f\"data/processed/{place.lower().replace(' ', '_')}_locations.csv\", index=False\n",
    ")"
   ]
  },
  {
   "cell_type": "markdown",
   "id": "eb8769bc-1de1-40d0-9b7b-4892893606ee",
   "metadata": {},
   "source": [
    "#### GeoJSON"
   ]
  },
  {
   "cell_type": "code",
   "execution_count": 20,
   "id": "3aaff910-d7a8-4b73-acdf-6b49e09bbe2f",
   "metadata": {},
   "outputs": [],
   "source": [
    "gdf.to_file(\n",
    "    f\"data/processed/{place.lower().replace(' ', '_')}_locations.geojson\",\n",
    "    driver=\"GeoJSON\",\n",
    ")"
   ]
  }
 ],
 "metadata": {
  "kernelspec": {
   "display_name": "Python 3 (ipykernel)",
   "language": "python",
   "name": "python3"
  },
  "language_info": {
   "codemirror_mode": {
    "name": "ipython",
    "version": 3
   },
   "file_extension": ".py",
   "mimetype": "text/x-python",
   "name": "python",
   "nbconvert_exporter": "python",
   "pygments_lexer": "ipython3",
   "version": "3.9.15"
  }
 },
 "nbformat": 4,
 "nbformat_minor": 5
}
