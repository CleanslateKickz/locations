{
 "cells": [
  {
   "cell_type": "markdown",
   "id": "0fdd4e16-e062-4146-9c40-05a340ecc972",
   "metadata": {},
   "source": [
    "# Get Pollo Tropical locations"
   ]
  },
  {
   "cell_type": "markdown",
   "id": "2cd6a4cf-3892-4cc9-97de-84f87dc86d7d",
   "metadata": {},
   "source": [
    "#### Load Python tools and Jupyter config"
   ]
  },
  {
   "cell_type": "code",
   "execution_count": 1,
   "id": "d51c4622-7e4d-44e5-99d4-a8c01e8a611f",
   "metadata": {},
   "outputs": [],
   "source": [
    "import us\n",
    "import json\n",
    "import requests\n",
    "import pandas as pd\n",
    "import jupyter_black\n",
    "import altair as alt\n",
    "import geopandas as gpd\n",
    "from bs4 import BeautifulSoup\n",
    "from vega_datasets import data\n",
    "from tqdm.notebook import tqdm, trange"
   ]
  },
  {
   "cell_type": "code",
   "execution_count": 2,
   "id": "3ef9eefb-2887-4a07-995d-eb12d1dd251d",
   "metadata": {},
   "outputs": [
    {
     "data": {
      "text/html": [
       "\n",
       "                <script type=\"application/javascript\" id=\"jupyter_black\">\n",
       "                (function() {\n",
       "                    if (window.IPython === undefined) {\n",
       "                        return\n",
       "                    }\n",
       "                    var msg = \"WARNING: it looks like you might have loaded \" +\n",
       "                        \"jupyter_black in a non-lab notebook with \" +\n",
       "                        \"`is_lab=True`. Please double check, and if \" +\n",
       "                        \"loading with `%load_ext` please review the README!\"\n",
       "                    console.log(msg)\n",
       "                    alert(msg)\n",
       "                })()\n",
       "                </script>\n",
       "                "
      ],
      "text/plain": [
       "<IPython.core.display.HTML object>"
      ]
     },
     "metadata": {},
     "output_type": "display_data"
    }
   ],
   "source": [
    "jupyter_black.load()\n",
    "pd.options.display.max_columns = 100\n",
    "pd.options.display.max_rows = 1000\n",
    "pd.options.display.max_colwidth = None"
   ]
  },
  {
   "cell_type": "code",
   "execution_count": 3,
   "id": "83b7fce7-b6e0-4146-b372-a53f86b4aefc",
   "metadata": {},
   "outputs": [],
   "source": [
    "place = \"pollo-tropical\"\n",
    "place_formal = \"Pollo Tropical\"\n",
    "color = \"#547352\"\n",
    "today = pd.Timestamp.today().strftime(\"%Y-%m-%d\")"
   ]
  },
  {
   "cell_type": "markdown",
   "id": "18df54c6-5362-4f8a-a63f-05bd5ffa63d9",
   "metadata": {},
   "source": [
    "---"
   ]
  },
  {
   "cell_type": "markdown",
   "id": "3bbfd20b-7936-4f21-a091-697fca808ab1",
   "metadata": {},
   "source": [
    "## Scrape"
   ]
  },
  {
   "cell_type": "markdown",
   "id": "70c799af-d3be-4577-96fa-ba056f433607",
   "metadata": {},
   "source": [
    "#### Headers for request"
   ]
  },
  {
   "cell_type": "code",
   "execution_count": 4,
   "id": "a49047b8-96b6-4d1c-a90b-9fb6ed9eb9d3",
   "metadata": {},
   "outputs": [],
   "source": [
    "headers = {\n",
    "    \"accept\": \"application/json, */*\",\n",
    "    \"user-agent\": \"Mozilla/5.0 (Macintosh; Intel Mac OS X 10_15_7) AppleWebKit/537.36 (KHTML, like Gecko) Chrome/122.0.0.0 Safari/537.36\",\n",
    "    \"x-olo-request\": \"1\",\n",
    "}"
   ]
  },
  {
   "cell_type": "markdown",
   "id": "de917287-700f-4b8e-afac-cb29b8b54a68",
   "metadata": {},
   "source": [
    "#### Request locations from the API. Apparently they are [only in Florida](https://olo.pollotropical.com/locations). "
   ]
  },
  {
   "cell_type": "code",
   "execution_count": 5,
   "id": "55bce4f5-6a86-4389-b96b-39ac79317714",
   "metadata": {},
   "outputs": [],
   "source": [
    "response = requests.get(\n",
    "    \"https://olo.pollotropical.com/api/vendors/search/FL\", headers=headers\n",
    ")"
   ]
  },
  {
   "cell_type": "markdown",
   "id": "5b4019e4-84ee-4702-b76f-d4f5d8524c35",
   "metadata": {},
   "source": [
    "#### That returns a list of location dictionaries. Get them into a dataframe."
   ]
  },
  {
   "cell_type": "code",
   "execution_count": 6,
   "id": "fa4d8fa0-0718-47b3-8e9e-9048bac0b717",
   "metadata": {},
   "outputs": [],
   "source": [
    "src = pd.DataFrame(response.json()[\"vendor-search-results\"])[\n",
    "    [\"id\", \"name\", \"slug\", \"phoneNumber\", \"address\", \"latitude\", \"longitude\"]\n",
    "]"
   ]
  },
  {
   "cell_type": "markdown",
   "id": "edb06fbc-04ca-4a50-8605-9d11151fd4f6",
   "metadata": {},
   "source": [
    "#### Deal with nested addresses"
   ]
  },
  {
   "cell_type": "code",
   "execution_count": 7,
   "id": "b66e471a-4811-455f-8ac2-edf43be2eda9",
   "metadata": {},
   "outputs": [],
   "source": [
    "src[[\"street\", \"city\", \"zip\", \"drop\", \"drop\", \"country\", \"state\"]] = pd.json_normalize(\n",
    "    src[\"address\"]\n",
    ")"
   ]
  },
  {
   "cell_type": "markdown",
   "id": "6ac5817b-7c6c-4c7a-9f11-e8491463f83e",
   "metadata": {},
   "source": [
    "#### Format phone numbers"
   ]
  },
  {
   "cell_type": "code",
   "execution_count": 8,
   "id": "3d6fd157-efc3-46fe-a6bd-f18cdf13119c",
   "metadata": {},
   "outputs": [],
   "source": [
    "src[\"phone\"] = (\n",
    "    src[\"phoneNumber\"]\n",
    "    .str.lstrip(\"1\")\n",
    "    .str.replace(r\"(\\d{3})(\\d{3})(\\d{4})\", r\"(\\1) \\2-\\3\", regex=True)\n",
    ")"
   ]
  },
  {
   "cell_type": "markdown",
   "id": "c287578d-0c1a-4f99-a0ae-f891d0756604",
   "metadata": {},
   "source": [
    "#### Just the columns we need in the order we want"
   ]
  },
  {
   "cell_type": "code",
   "execution_count": 9,
   "id": "ef5e58f5-ece5-49fd-b306-9721133965fa",
   "metadata": {},
   "outputs": [],
   "source": [
    "df = src[\n",
    "    [\n",
    "        \"name\",\n",
    "        \"street\",\n",
    "        \"city\",\n",
    "        \"state\",\n",
    "        \"zip\",\n",
    "        \"latitude\",\n",
    "        \"longitude\",\n",
    "        \"phone\",\n",
    "        \"slug\",\n",
    "    ]\n",
    "].copy()"
   ]
  },
  {
   "cell_type": "markdown",
   "id": "abb0d412-a777-4165-b37c-929300f63333",
   "metadata": {},
   "source": [
    "#### The result"
   ]
  },
  {
   "cell_type": "code",
   "execution_count": 10,
   "id": "e82eefdc-4189-4c2f-b4d3-97fe66bc7d3d",
   "metadata": {},
   "outputs": [
    {
     "data": {
      "text/html": [
       "<div>\n",
       "<style scoped>\n",
       "    .dataframe tbody tr th:only-of-type {\n",
       "        vertical-align: middle;\n",
       "    }\n",
       "\n",
       "    .dataframe tbody tr th {\n",
       "        vertical-align: top;\n",
       "    }\n",
       "\n",
       "    .dataframe thead th {\n",
       "        text-align: right;\n",
       "    }\n",
       "</style>\n",
       "<table border=\"1\" class=\"dataframe\">\n",
       "  <thead>\n",
       "    <tr style=\"text-align: right;\">\n",
       "      <th></th>\n",
       "      <th>name</th>\n",
       "      <th>street</th>\n",
       "      <th>city</th>\n",
       "      <th>state</th>\n",
       "      <th>zip</th>\n",
       "      <th>latitude</th>\n",
       "      <th>longitude</th>\n",
       "      <th>phone</th>\n",
       "      <th>slug</th>\n",
       "    </tr>\n",
       "  </thead>\n",
       "  <tbody>\n",
       "    <tr>\n",
       "      <th>0</th>\n",
       "      <td>PT #10091</td>\n",
       "      <td>3224 East Colonial Dr</td>\n",
       "      <td>Orlando</td>\n",
       "      <td>FL</td>\n",
       "      <td>32803</td>\n",
       "      <td>28.552990</td>\n",
       "      <td>-81.342563</td>\n",
       "      <td>(407) 228-2242</td>\n",
       "      <td>pollo-tropical-e-colonial-drorlando-fl</td>\n",
       "    </tr>\n",
       "    <tr>\n",
       "      <th>1</th>\n",
       "      <td>PT #10092</td>\n",
       "      <td>2611 Okeechobee Blvd.</td>\n",
       "      <td>W. Palm Beach</td>\n",
       "      <td>FL</td>\n",
       "      <td>33409</td>\n",
       "      <td>26.707013</td>\n",
       "      <td>-80.092820</td>\n",
       "      <td>(561) 688-0578</td>\n",
       "      <td>pollo-tropical-okeechobee-blvdw-palm-bch-fl</td>\n",
       "    </tr>\n",
       "    <tr>\n",
       "      <th>2</th>\n",
       "      <td>PT #10098</td>\n",
       "      <td>3777 East Tamiami Trail</td>\n",
       "      <td>Naples</td>\n",
       "      <td>FL</td>\n",
       "      <td>34112</td>\n",
       "      <td>26.120986</td>\n",
       "      <td>-81.759582</td>\n",
       "      <td>(239) 417-2708</td>\n",
       "      <td>pollo-tropical-east-tamiami-trailnaples-fl</td>\n",
       "    </tr>\n",
       "    <tr>\n",
       "      <th>3</th>\n",
       "      <td>PT #10099</td>\n",
       "      <td>8096 West McNab Rd</td>\n",
       "      <td>N Lauderdale</td>\n",
       "      <td>FL</td>\n",
       "      <td>33068</td>\n",
       "      <td>26.207932</td>\n",
       "      <td>-80.235922</td>\n",
       "      <td>(954) 721-2497</td>\n",
       "      <td>pollo-tropical-west-mcnab-rdn-lauderdale-fl</td>\n",
       "    </tr>\n",
       "    <tr>\n",
       "      <th>4</th>\n",
       "      <td>PT #10104</td>\n",
       "      <td>4863 Gate Parkway</td>\n",
       "      <td>Jacksonville</td>\n",
       "      <td>FL</td>\n",
       "      <td>32246</td>\n",
       "      <td>30.253688</td>\n",
       "      <td>-81.535537</td>\n",
       "      <td>(904) 646-9707</td>\n",
       "      <td>pollo-tropical-gate-parkwayjacksonville-fl</td>\n",
       "    </tr>\n",
       "  </tbody>\n",
       "</table>\n",
       "</div>"
      ],
      "text/plain": [
       "        name                   street           city state    zip   latitude  \\\n",
       "0  PT #10091    3224 East Colonial Dr        Orlando    FL  32803  28.552990   \n",
       "1  PT #10092    2611 Okeechobee Blvd.  W. Palm Beach    FL  33409  26.707013   \n",
       "2  PT #10098  3777 East Tamiami Trail         Naples    FL  34112  26.120986   \n",
       "3  PT #10099       8096 West McNab Rd   N Lauderdale    FL  33068  26.207932   \n",
       "4  PT #10104        4863 Gate Parkway   Jacksonville    FL  32246  30.253688   \n",
       "\n",
       "   longitude           phone                                         slug  \n",
       "0 -81.342563  (407) 228-2242       pollo-tropical-e-colonial-drorlando-fl  \n",
       "1 -80.092820  (561) 688-0578  pollo-tropical-okeechobee-blvdw-palm-bch-fl  \n",
       "2 -81.759582  (239) 417-2708   pollo-tropical-east-tamiami-trailnaples-fl  \n",
       "3 -80.235922  (954) 721-2497  pollo-tropical-west-mcnab-rdn-lauderdale-fl  \n",
       "4 -81.535537  (904) 646-9707   pollo-tropical-gate-parkwayjacksonville-fl  "
      ]
     },
     "execution_count": 10,
     "metadata": {},
     "output_type": "execute_result"
    }
   ],
   "source": [
    "df.head()"
   ]
  },
  {
   "cell_type": "markdown",
   "id": "be228e61-da42-43f8-bc7a-5ef7dbf1ad9e",
   "metadata": {},
   "source": [
    "#### How many locations? "
   ]
  },
  {
   "cell_type": "code",
   "execution_count": 11,
   "id": "e3020b94-9034-46ea-90a9-5fed9c35f845",
   "metadata": {},
   "outputs": [
    {
     "data": {
      "text/plain": [
       "126"
      ]
     },
     "execution_count": 11,
     "metadata": {},
     "output_type": "execute_result"
    }
   ],
   "source": [
    "len(df)"
   ]
  },
  {
   "cell_type": "markdown",
   "id": "1b0134b9-0b53-41ae-a498-891b729ac265",
   "metadata": {},
   "source": [
    "#### Create a mapping of state abbreviations to full state names using the us library"
   ]
  },
  {
   "cell_type": "code",
   "execution_count": 12,
   "id": "18485bc1-ac20-4715-b117-2ffc36a4de10",
   "metadata": {},
   "outputs": [],
   "source": [
    "state_mapping = {state.abbr: state.name for state in us.states.STATES}"
   ]
  },
  {
   "cell_type": "markdown",
   "id": "02a07567-2cda-40d0-a1db-9f51fdb03a67",
   "metadata": {},
   "source": [
    "#### New column of full state names based on abbreviations"
   ]
  },
  {
   "cell_type": "code",
   "execution_count": 13,
   "id": "5d7c356a-a44b-4b86-aaf9-4db2a05cb3e9",
   "metadata": {},
   "outputs": [],
   "source": [
    "df[\"state_name\"] = df[\"state\"].map(state_mapping)"
   ]
  },
  {
   "cell_type": "markdown",
   "id": "ef406bd4-65b5-4f26-8404-051b13a83585",
   "metadata": {},
   "source": [
    "#### Make sure our brand name gets in the dataframe"
   ]
  },
  {
   "cell_type": "code",
   "execution_count": 14,
   "id": "9b77d016-e356-4ef9-8538-387a98d4fa57",
   "metadata": {},
   "outputs": [],
   "source": [
    "df[\"brand\"] = place_formal"
   ]
  },
  {
   "cell_type": "markdown",
   "id": "c6ca1f2f-a7cb-4f83-8102-a9efea386f9e",
   "metadata": {},
   "source": [
    "#### Add fetch date"
   ]
  },
  {
   "cell_type": "code",
   "execution_count": 15,
   "id": "f2a9673d-65db-4cb7-a32e-38c85cb34ed9",
   "metadata": {},
   "outputs": [],
   "source": [
    "df[\"updated\"] = today"
   ]
  },
  {
   "cell_type": "markdown",
   "id": "e836582d-ef21-4876-bfc3-f8298a077b3c",
   "metadata": {},
   "source": [
    "---"
   ]
  },
  {
   "cell_type": "markdown",
   "id": "e9398ab6-73bc-421d-ab31-2e0b625fe541",
   "metadata": {},
   "source": [
    "## Geography"
   ]
  },
  {
   "cell_type": "markdown",
   "id": "2aa8f487-ab80-4d32-84df-651304cd9523",
   "metadata": {},
   "source": [
    "#### Make it a geodataframe"
   ]
  },
  {
   "cell_type": "code",
   "execution_count": 16,
   "id": "920e5fe7-a6fd-4a10-97f0-c1dd0b7bef72",
   "metadata": {},
   "outputs": [],
   "source": [
    "df_geo = df.copy()"
   ]
  },
  {
   "cell_type": "code",
   "execution_count": 17,
   "id": "4072e19f-2567-427d-82d5-2c8a925278da",
   "metadata": {},
   "outputs": [],
   "source": [
    "gdf = gpd.GeoDataFrame(\n",
    "    df_geo, geometry=gpd.points_from_xy(df_geo.longitude, df_geo.latitude)\n",
    ")"
   ]
  },
  {
   "cell_type": "markdown",
   "id": "67db45d5-afdf-4347-a2a0-da8aa3728779",
   "metadata": {},
   "source": [
    "---"
   ]
  },
  {
   "cell_type": "markdown",
   "id": "b3c311f9-dd29-4524-8932-67858cd3cec0",
   "metadata": {},
   "source": [
    "## Maps"
   ]
  },
  {
   "cell_type": "markdown",
   "id": "93b0579e-620d-4a08-afd8-ad489be0557e",
   "metadata": {},
   "source": [
    "#### US states background"
   ]
  },
  {
   "cell_type": "code",
   "execution_count": 18,
   "id": "95c369d7-8a64-4f49-a05f-79c444cf4e28",
   "metadata": {},
   "outputs": [],
   "source": [
    "background = (\n",
    "    alt.Chart(alt.topo_feature(data.us_10m.url, feature=\"states\"))\n",
    "    .mark_geoshape(fill=\"#e9e9e9\", stroke=\"white\")\n",
    "    .properties(width=800, height=500, title=f\"{place_formal} locations\")\n",
    "    .project(\"albersUsa\")\n",
    ")"
   ]
  },
  {
   "cell_type": "markdown",
   "id": "a914fc11-a8c6-49d1-96d2-8b5f83b01cc7",
   "metadata": {},
   "source": [
    "#### Location points map"
   ]
  },
  {
   "cell_type": "code",
   "execution_count": 19,
   "id": "b624cc2f-c724-4849-9a4b-761258a3f8ad",
   "metadata": {},
   "outputs": [
    {
     "data": {
      "text/html": [
       "\n",
       "<style>\n",
       "  #altair-viz-8fa310e1413f4ff3845b8faea87f2ffb.vega-embed {\n",
       "    width: 100%;\n",
       "    display: flex;\n",
       "  }\n",
       "\n",
       "  #altair-viz-8fa310e1413f4ff3845b8faea87f2ffb.vega-embed details,\n",
       "  #altair-viz-8fa310e1413f4ff3845b8faea87f2ffb.vega-embed details summary {\n",
       "    position: relative;\n",
       "  }\n",
       "</style>\n",
       "<div id=\"altair-viz-8fa310e1413f4ff3845b8faea87f2ffb\"></div>\n",
       "<script type=\"text/javascript\">\n",
       "  var VEGA_DEBUG = (typeof VEGA_DEBUG == \"undefined\") ? {} : VEGA_DEBUG;\n",
       "  (function(spec, embedOpt){\n",
       "    let outputDiv = document.currentScript.previousElementSibling;\n",
       "    if (outputDiv.id !== \"altair-viz-8fa310e1413f4ff3845b8faea87f2ffb\") {\n",
       "      outputDiv = document.getElementById(\"altair-viz-8fa310e1413f4ff3845b8faea87f2ffb\");\n",
       "    }\n",
       "    const paths = {\n",
       "      \"vega\": \"https://cdn.jsdelivr.net/npm/vega@5?noext\",\n",
       "      \"vega-lib\": \"https://cdn.jsdelivr.net/npm/vega-lib?noext\",\n",
       "      \"vega-lite\": \"https://cdn.jsdelivr.net/npm/vega-lite@5.16.3?noext\",\n",
       "      \"vega-embed\": \"https://cdn.jsdelivr.net/npm/vega-embed@6?noext\",\n",
       "    };\n",
       "\n",
       "    function maybeLoadScript(lib, version) {\n",
       "      var key = `${lib.replace(\"-\", \"\")}_version`;\n",
       "      return (VEGA_DEBUG[key] == version) ?\n",
       "        Promise.resolve(paths[lib]) :\n",
       "        new Promise(function(resolve, reject) {\n",
       "          var s = document.createElement('script');\n",
       "          document.getElementsByTagName(\"head\")[0].appendChild(s);\n",
       "          s.async = true;\n",
       "          s.onload = () => {\n",
       "            VEGA_DEBUG[key] = version;\n",
       "            return resolve(paths[lib]);\n",
       "          };\n",
       "          s.onerror = () => reject(`Error loading script: ${paths[lib]}`);\n",
       "          s.src = paths[lib];\n",
       "        });\n",
       "    }\n",
       "\n",
       "    function showError(err) {\n",
       "      outputDiv.innerHTML = `<div class=\"error\" style=\"color:red;\">${err}</div>`;\n",
       "      throw err;\n",
       "    }\n",
       "\n",
       "    function displayChart(vegaEmbed) {\n",
       "      vegaEmbed(outputDiv, spec, embedOpt)\n",
       "        .catch(err => showError(`Javascript Error: ${err.message}<br>This usually means there's a typo in your chart specification. See the javascript console for the full traceback.`));\n",
       "    }\n",
       "\n",
       "    if(typeof define === \"function\" && define.amd) {\n",
       "      requirejs.config({paths});\n",
       "      require([\"vega-embed\"], displayChart, err => showError(`Error loading script: ${err.message}`));\n",
       "    } else {\n",
       "      maybeLoadScript(\"vega\", \"5\")\n",
       "        .then(() => maybeLoadScript(\"vega-lite\", \"5.16.3\"))\n",
       "        .then(() => maybeLoadScript(\"vega-embed\", \"6\"))\n",
       "        .catch(showError)\n",
       "        .then(() => displayChart(vegaEmbed));\n",
       "    }\n",
       "  })({\"config\": {\"view\": {\"continuousWidth\": 300, \"continuousHeight\": 300, \"stroke\": null}}, \"layer\": [{\"data\": {\"url\": \"https://cdn.jsdelivr.net/npm/vega-datasets@v1.29.0/data/us-10m.json\", \"format\": {\"feature\": \"states\", \"type\": \"topojson\"}}, \"mark\": {\"type\": \"geoshape\", \"fill\": \"#e9e9e9\", \"stroke\": \"white\"}, \"projection\": {\"type\": \"albersUsa\"}, \"title\": \"Pollo Tropical locations\"}, {\"data\": {\"name\": \"data-206b552724d6c83fd1b8c7fa888e1722\"}, \"mark\": {\"type\": \"circle\", \"color\": \"#547352\", \"size\": 5}, \"encoding\": {\"latitude\": {\"field\": \"latitude\", \"type\": \"quantitative\"}, \"longitude\": {\"field\": \"longitude\", \"type\": \"quantitative\"}}}], \"height\": 500, \"width\": 800, \"$schema\": \"https://vega.github.io/schema/vega-lite/v5.16.3.json\", \"datasets\": {\"data-206b552724d6c83fd1b8c7fa888e1722\": [{\"name\": \"PT #10091\", \"street\": \"3224 East Colonial Dr\", \"city\": \"Orlando\", \"state\": \"FL\", \"zip\": \"32803\", \"latitude\": 28.5529905, \"longitude\": -81.3425627, \"phone\": \"(407) 228-2242\", \"slug\": \"pollo-tropical-e-colonial-drorlando-fl\", \"state_name\": \"Florida\", \"brand\": \"Pollo Tropical\", \"updated\": \"2024-03-09\", \"type\": \"Feature\", \"geometry\": {\"type\": \"Point\", \"coordinates\": [-81.3425627, 28.5529905]}}, {\"name\": \"PT #10092\", \"street\": \"2611 Okeechobee Blvd.\", \"city\": \"W. Palm Beach\", \"state\": \"FL\", \"zip\": \"33409\", \"latitude\": 26.7070135, \"longitude\": -80.0928196, \"phone\": \"(561) 688-0578\", \"slug\": \"pollo-tropical-okeechobee-blvdw-palm-bch-fl\", \"state_name\": \"Florida\", \"brand\": \"Pollo Tropical\", \"updated\": \"2024-03-09\", \"type\": \"Feature\", \"geometry\": {\"type\": \"Point\", \"coordinates\": [-80.0928196, 26.7070135]}}, {\"name\": \"PT #10098\", \"street\": \"3777 East Tamiami Trail\", \"city\": \"Naples\", \"state\": \"FL\", \"zip\": \"34112\", \"latitude\": 26.1209857, \"longitude\": -81.7595816, \"phone\": \"(239) 417-2708\", \"slug\": \"pollo-tropical-east-tamiami-trailnaples-fl\", \"state_name\": \"Florida\", \"brand\": \"Pollo Tropical\", \"updated\": \"2024-03-09\", \"type\": \"Feature\", \"geometry\": {\"type\": \"Point\", \"coordinates\": [-81.7595816, 26.1209857]}}, {\"name\": \"PT #10099\", \"street\": \"8096 West McNab Rd\", \"city\": \"N Lauderdale\", \"state\": \"FL\", \"zip\": \"33068\", \"latitude\": 26.2079325, \"longitude\": -80.2359216, \"phone\": \"(954) 721-2497\", \"slug\": \"pollo-tropical-west-mcnab-rdn-lauderdale-fl\", \"state_name\": \"Florida\", \"brand\": \"Pollo Tropical\", \"updated\": \"2024-03-09\", \"type\": \"Feature\", \"geometry\": {\"type\": \"Point\", \"coordinates\": [-80.2359216, 26.2079325]}}, {\"name\": \"PT #10104\", \"street\": \"4863 Gate Parkway\", \"city\": \"Jacksonville\", \"state\": \"FL\", \"zip\": \"32246\", \"latitude\": 30.2536881, \"longitude\": -81.5355368, \"phone\": \"(904) 646-9707\", \"slug\": \"pollo-tropical-gate-parkwayjacksonville-fl\", \"state_name\": \"Florida\", \"brand\": \"Pollo Tropical\", \"updated\": \"2024-03-09\", \"type\": \"Feature\", \"geometry\": {\"type\": \"Point\", \"coordinates\": [-81.5355368, 30.2536881]}}, {\"name\": \"PT #10106\", \"street\": \"10989 San Jose Blvd\", \"city\": \"Jacksonville\", \"state\": \"FL\", \"zip\": \"32223\", \"latitude\": 30.1766931, \"longitude\": -81.6273181, \"phone\": \"(904) 288-5990\", \"slug\": \"pollo-tropical-san-jose-blvdjacksonville-fl\", \"state_name\": \"Florida\", \"brand\": \"Pollo Tropical\", \"updated\": \"2024-03-09\", \"type\": \"Feature\", \"geometry\": {\"type\": \"Point\", \"coordinates\": [-81.6273181, 30.1766931]}}, {\"name\": \"PT #10108\", \"street\": \"730 Skymarks Dr\", \"city\": \"Jacksonville\", \"state\": \"FL\", \"zip\": \"32218\", \"latitude\": 30.4805537, \"longitude\": -81.6359803, \"phone\": \"(904) 757-2148\", \"slug\": \"pollo-tropical-skymarks-drjacksonville-fl\", \"state_name\": \"Florida\", \"brand\": \"Pollo Tropical\", \"updated\": \"2024-03-09\", \"type\": \"Feature\", \"geometry\": {\"type\": \"Point\", \"coordinates\": [-81.6359803, 30.4805537]}}, {\"name\": \"PT #10109\", \"street\": \"12000 NW 7th Ave.\", \"city\": \"N Miami\", \"state\": \"FL\", \"zip\": \"33168\", \"latitude\": 25.8849333, \"longitude\": -80.2109985, \"phone\": \"(305) 685-2179\", \"slug\": \"pollo-tropical-nw-7th-aven-miami-fl\", \"state_name\": \"Florida\", \"brand\": \"Pollo Tropical\", \"updated\": \"2024-03-09\", \"type\": \"Feature\", \"geometry\": {\"type\": \"Point\", \"coordinates\": [-80.2109985, 25.8849333]}}, {\"name\": \"PT #10110\", \"street\": \"6704 Fores Hill Blvd\", \"city\": \"Greenacres\", \"state\": \"FL\", \"zip\": \"33413\", \"latitude\": 26.6507663, \"longitude\": -80.1458894, \"phone\": \"(561) 434-9665\", \"slug\": \"pollo-tropical-forest-hill-blvdgreenacres-fl\", \"state_name\": \"Florida\", \"brand\": \"Pollo Tropical\", \"updated\": \"2024-03-09\", \"type\": \"Feature\", \"geometry\": {\"type\": \"Point\", \"coordinates\": [-80.1458894, 26.6507663]}}, {\"name\": \"PT #10112\", \"street\": \"4335 Norfolk Parkway\", \"city\": \"West Melbourne\", \"state\": \"FL\", \"zip\": \"32904\", \"latitude\": 28.0361279, \"longitude\": -80.6612599, \"phone\": \"(321) 952-6977\", \"slug\": \"pollo-tropical-norfolk-pkwywest-melbourne-fl\", \"state_name\": \"Florida\", \"brand\": \"Pollo Tropical\", \"updated\": \"2024-03-09\", \"type\": \"Feature\", \"geometry\": {\"type\": \"Point\", \"coordinates\": [-80.6612599, 28.0361279]}}, {\"name\": \"PT #10113\", \"street\": \"17804 Ben Hill Griffin Parkway\", \"city\": \"Ft Myers\", \"state\": \"FL\", \"zip\": \"33913\", \"latitude\": 26.4844367, \"longitude\": -81.7849819, \"phone\": \"(239) 433-4028\", \"slug\": \"pollo-tropical-ben-hill-griffinft-myers-fl\", \"state_name\": \"Florida\", \"brand\": \"Pollo Tropical\", \"updated\": \"2024-03-09\", \"type\": \"Feature\", \"geometry\": {\"type\": \"Point\", \"coordinates\": [-81.7849819, 26.4844367]}}, {\"name\": \"PT #10117\", \"street\": \"2320 N Federal Highway\", \"city\": \"Pompano Beach\", \"state\": \"FL\", \"zip\": \"33064\", \"latitude\": 26.2596253, \"longitude\": -80.0991262, \"phone\": \"(954) 946-9592\", \"slug\": \"pollo-tropical-n-federal-hwypompano-beach-fl\", \"state_name\": \"Florida\", \"brand\": \"Pollo Tropical\", \"updated\": \"2024-03-09\", \"type\": \"Feature\", \"geometry\": {\"type\": \"Point\", \"coordinates\": [-80.0991262, 26.2596253]}}, {\"name\": \"PT #10119\", \"street\": \"2200 SE Federal Highway\", \"city\": \"Stuart\", \"state\": \"FL\", \"zip\": \"34994\", \"latitude\": 27.1783313, \"longitude\": -80.2379038, \"phone\": \"(772) 287-2891\", \"slug\": \"pollo-tropical-se-federal-highwaystuart-fl\", \"state_name\": \"Florida\", \"brand\": \"Pollo Tropical\", \"updated\": \"2024-03-09\", \"type\": \"Feature\", \"geometry\": {\"type\": \"Point\", \"coordinates\": [-80.2379038, 27.1783313]}}, {\"name\": \"PT #10120\", \"street\": \"828 Providence Rd\", \"city\": \"Brandon\", \"state\": \"FL\", \"zip\": \"33511\", \"latitude\": 27.9251247, \"longitude\": -82.3171878, \"phone\": \"(813) 681-2679\", \"slug\": \"pollo-tropical-providence-rdbrandon-fl\", \"state_name\": \"Florida\", \"brand\": \"Pollo Tropical\", \"updated\": \"2024-03-09\", \"type\": \"Feature\", \"geometry\": {\"type\": \"Point\", \"coordinates\": [-82.3171878, 27.9251247]}}, {\"name\": \"PT #10122\", \"street\": \"15298 N Dale Mabry Highway\", \"city\": \"Tampa\", \"state\": \"FL\", \"zip\": \"33618\", \"latitude\": 28.0891289, \"longitude\": -82.5039745, \"phone\": \"(813) 961-0379\", \"slug\": \"pollo-tropical-n-dale-mabry-highwaytampa-fl\", \"state_name\": \"Florida\", \"brand\": \"Pollo Tropical\", \"updated\": \"2024-03-09\", \"type\": \"Feature\", \"geometry\": {\"type\": \"Point\", \"coordinates\": [-82.5039745, 28.0891289]}}, {\"name\": \"PT #10124\", \"street\": \"5425 W Atlantic Blvd\", \"city\": \"Margate\", \"state\": \"FL\", \"zip\": \"33063\", \"latitude\": 26.2357443, \"longitude\": -80.2004519, \"phone\": \"(954) 977-3714\", \"slug\": \"pollo-tropical-w-atlantic-blvdmargate-fl\", \"state_name\": \"Florida\", \"brand\": \"Pollo Tropical\", \"updated\": \"2024-03-09\", \"type\": \"Feature\", \"geometry\": {\"type\": \"Point\", \"coordinates\": [-80.2004519, 26.2357443]}}, {\"name\": \"PT #10125\", \"street\": \"18390 SW 137th Ave\", \"city\": \"Miami\", \"state\": \"FL\", \"zip\": \"33187\", \"latitude\": 25.5968257, \"longitude\": -80.4139388, \"phone\": \"(305) 253-8235\", \"slug\": \"pollo-tropical-sw-137th-avemiami-fl-2\", \"state_name\": \"Florida\", \"brand\": \"Pollo Tropical\", \"updated\": \"2024-03-09\", \"type\": \"Feature\", \"geometry\": {\"type\": \"Point\", \"coordinates\": [-80.4139388, 25.5968257]}}, {\"name\": \"PT #10126\", \"street\": \"6195 South Jog Road\", \"city\": \"Lake Worth\", \"state\": \"FL\", \"zip\": \"33467\", \"latitude\": 26.586793, \"longitude\": -80.1467398, \"phone\": \"(561) 966-2782\", \"slug\": \"pollo-tropical-south-jog-rdlake-worth-fl\", \"state_name\": \"Florida\", \"brand\": \"Pollo Tropical\", \"updated\": \"2024-03-09\", \"type\": \"Feature\", \"geometry\": {\"type\": \"Point\", \"coordinates\": [-80.1467398, 26.586793]}}, {\"name\": \"PT #10128\", \"street\": \"7845 W. Hialeah Gardens Blvd.\", \"city\": \"Hialeah\", \"state\": \"FL\", \"zip\": \"33018\", \"latitude\": 25.8938525, \"longitude\": -80.3507044, \"phone\": \"(305) 821-8535\", \"slug\": \"pollo-tropical-hialeah-gardenshialeah-fl\", \"state_name\": \"Florida\", \"brand\": \"Pollo Tropical\", \"updated\": \"2024-03-09\", \"type\": \"Feature\", \"geometry\": {\"type\": \"Point\", \"coordinates\": [-80.3507044, 25.8938525]}}, {\"name\": \"PT #10129\", \"street\": \"7090 Coral Way\", \"city\": \"Miami\", \"state\": \"FL\", \"zip\": \"33155\", \"latitude\": 25.7476507, \"longitude\": -80.3102832, \"phone\": \"(305) 261-6021\", \"slug\": \"pollo-tropical-coral-terracemiami-fl\", \"state_name\": \"Florida\", \"brand\": \"Pollo Tropical\", \"updated\": \"2024-03-09\", \"type\": \"Feature\", \"geometry\": {\"type\": \"Point\", \"coordinates\": [-80.3102832, 25.7476507]}}, {\"name\": \"PT #10130\", \"street\": \"12611 S. Cleveland Avenue\", \"city\": \"Ft. Myers\", \"state\": \"FL\", \"zip\": \"33907\", \"latitude\": 26.5592074, \"longitude\": -81.8711365, \"phone\": \"(239) 275-1118\", \"slug\": \"pollo-tropical-s-cleveland-aveft-myers-fl\", \"state_name\": \"Florida\", \"brand\": \"Pollo Tropical\", \"updated\": \"2024-03-09\", \"type\": \"Feature\", \"geometry\": {\"type\": \"Point\", \"coordinates\": [-81.8711365, 26.5592074]}}, {\"name\": \"PT #10131\", \"street\": \"1780 Sheridan St\", \"city\": \"Hollywood\", \"state\": \"FL\", \"zip\": \"33020\", \"latitude\": 26.0330639, \"longitude\": -80.1425707, \"phone\": \"(954) 927-4732\", \"slug\": \"pollo-tropical-1780-sheridan-sthollywood-fl\", \"state_name\": \"Florida\", \"brand\": \"Pollo Tropical\", \"updated\": \"2024-03-09\", \"type\": \"Feature\", \"geometry\": {\"type\": \"Point\", \"coordinates\": [-80.1425707, 26.0330639]}}, {\"name\": \"PT #10133\", \"street\": \"8051 Dani Drive\", \"city\": \"Ft. Myers\", \"state\": \"FL\", \"zip\": \"33966\", \"latitude\": 26.6080078, \"longitude\": -81.810508, \"phone\": \"(239) 275-1142\", \"slug\": \"pollo-tropical-9321-ben-c-prattfort-myers-fl\", \"state_name\": \"Florida\", \"brand\": \"Pollo Tropical\", \"updated\": \"2024-03-09\", \"type\": \"Feature\", \"geometry\": {\"type\": \"Point\", \"coordinates\": [-81.810508, 26.6080078]}}, {\"name\": \"PT #10138\", \"street\": \"14683 S. Military Trail\", \"city\": \"Delray Beach\", \"state\": \"FL\", \"zip\": \"33484\", \"latitude\": 26.4583581, \"longitude\": -80.1240809, \"phone\": \"(561) 495-5225\", \"slug\": \"pollo-tropical-s-militarydelray-beach-fl\", \"state_name\": \"Florida\", \"brand\": \"Pollo Tropical\", \"updated\": \"2024-03-09\", \"type\": \"Feature\", \"geometry\": {\"type\": \"Point\", \"coordinates\": [-80.1240809, 26.4583581]}}, {\"name\": \"PT #10148\", \"street\": \"20403 Biscayne Blvd\", \"city\": \"Aventura\", \"state\": \"FL\", \"zip\": \"33180\", \"latitude\": 25.9647899, \"longitude\": -80.1459394, \"phone\": \"(305) 935-9520\", \"slug\": \"pollo-tropical-20403-biscayneaventura-fl\", \"state_name\": \"Florida\", \"brand\": \"Pollo Tropical\", \"updated\": \"2024-03-09\", \"type\": \"Feature\", \"geometry\": {\"type\": \"Point\", \"coordinates\": [-80.1459394, 25.9647899]}}, {\"name\": \"PT #10150\", \"street\": \"1277 SW 8th Street\", \"city\": \"Miami\", \"state\": \"FL\", \"zip\": \"33135\", \"latitude\": 25.7660579, \"longitude\": -80.2158703, \"phone\": \"(305) 856-9221\", \"slug\": \"pollo-tropical-sw-8th-stlittle-havana-fl\", \"state_name\": \"Florida\", \"brand\": \"Pollo Tropical\", \"updated\": \"2024-03-09\", \"type\": \"Feature\", \"geometry\": {\"type\": \"Point\", \"coordinates\": [-80.2158703, 25.7660579]}}, {\"name\": \"PT #10151\", \"street\": \"311 S. State Road 7\", \"city\": \"Hollywood\", \"state\": \"FL\", \"zip\": \"33023\", \"latitude\": 26.0072574, \"longitude\": -80.2069238, \"phone\": \"(754) 263-5960\", \"slug\": \"pollo-tropical-hollywood-blv441hollywood-fl\", \"state_name\": \"Florida\", \"brand\": \"Pollo Tropical\", \"updated\": \"2024-03-09\", \"type\": \"Feature\", \"geometry\": {\"type\": \"Point\", \"coordinates\": [-80.2069238, 26.0072574]}}, {\"name\": \"PT #10154\", \"street\": \"7901 W. Irlo Bronson Memorial Hwy\", \"city\": \"Kissimmee\", \"state\": \"FL\", \"zip\": \"34747\", \"latitude\": 28.3475411, \"longitude\": -81.6070604, \"phone\": \"(407) 787-0204\", \"slug\": \"pollo-tropical-us-hwy-192kissimmee-fl\", \"state_name\": \"Florida\", \"brand\": \"Pollo Tropical\", \"updated\": \"2024-03-09\", \"type\": \"Feature\", \"geometry\": {\"type\": \"Point\", \"coordinates\": [-81.6070604, 28.3475411]}}, {\"name\": \"PT #10155\", \"street\": \"8708 Vineland Avenue\", \"city\": \"Orlando\", \"state\": \"FL\", \"zip\": \"32821\", \"latitude\": 28.3792719, \"longitude\": -81.5007035, \"phone\": \"(407) 560-8304\", \"slug\": \"pollo-tropical-vineland-avenueorlando-fl\", \"state_name\": \"Florida\", \"brand\": \"Pollo Tropical\", \"updated\": \"2024-03-09\", \"type\": \"Feature\", \"geometry\": {\"type\": \"Point\", \"coordinates\": [-81.5007035, 28.3792719]}}, {\"name\": \"PT #10159\", \"street\": \"6674 South Semoran Blvd\", \"city\": \"Orlando\", \"state\": \"FL\", \"zip\": \"32822\", \"latitude\": 28.4667246, \"longitude\": -81.3111652, \"phone\": \"(407) 850-9491\", \"slug\": \"pollo-tropical-semoran-blvdorlando-fl\", \"state_name\": \"Florida\", \"brand\": \"Pollo Tropical\", \"updated\": \"2024-03-09\", \"type\": \"Feature\", \"geometry\": {\"type\": \"Point\", \"coordinates\": [-81.3111652, 28.4667246]}}, {\"name\": \"PT #10167\", \"street\": \"23200 S.W. 112 Court\", \"city\": \"Homestead\", \"state\": \"FL\", \"zip\": \"33032\", \"latitude\": 25.5512776, \"longitude\": -80.3725852, \"phone\": \"(786) 501-9925\", \"slug\": \"pollo-tropical-allapattah-rdhomestead-fl\", \"state_name\": \"Florida\", \"brand\": \"Pollo Tropical\", \"updated\": \"2024-03-09\", \"type\": \"Feature\", \"geometry\": {\"type\": \"Point\", \"coordinates\": [-80.3725852, 25.5512776]}}, {\"name\": \"PT #10168\", \"street\": \"21852 S. State Road 7\", \"city\": \"West Boca Raton\", \"state\": \"FL\", \"zip\": \"33432\", \"latitude\": 26.3517862, \"longitude\": -80.2018991, \"phone\": \"(561) 477-2618\", \"slug\": \"pollo-tropical-palmettowest-boca-raton-fl\", \"state_name\": \"Florida\", \"brand\": \"Pollo Tropical\", \"updated\": \"2024-03-09\", \"type\": \"Feature\", \"geometry\": {\"type\": \"Point\", \"coordinates\": [-80.2018991, 26.3517862]}}, {\"name\": \"PT #10181\", \"street\": \"1365 NW St. Lucie West Blvd\", \"city\": \"Port Lucie West\", \"state\": \"FL\", \"zip\": \"34986\", \"latitude\": 27.3164813, \"longitude\": -80.3893944, \"phone\": \"(772) 873-8129\", \"slug\": \"pollo-tropical-nw-stlucieport-lucie-west-fl\", \"state_name\": \"Florida\", \"brand\": \"Pollo Tropical\", \"updated\": \"2024-03-09\", \"type\": \"Feature\", \"geometry\": {\"type\": \"Point\", \"coordinates\": [-80.3893944, 27.3164813]}}, {\"name\": \"PT #10182\", \"street\": \"404 SE 1st Avenue\", \"city\": \"Florida City\", \"state\": \"FL\", \"zip\": \"33034\", \"latitude\": 25.4425106, \"longitude\": -80.4756267, \"phone\": \"(305) 242-0173\", \"slug\": \"pollo-tropical-404-se-1st-avenuehomestead-fl\", \"state_name\": \"Florida\", \"brand\": \"Pollo Tropical\", \"updated\": \"2024-03-09\", \"type\": \"Feature\", \"geometry\": {\"type\": \"Point\", \"coordinates\": [-80.4756267, 25.4425106]}}, {\"name\": \"PT #10184\", \"street\": \"775 Osceola Parkway\", \"city\": \"Kissimmee\", \"state\": \"FL\", \"zip\": \"34741\", \"latitude\": 28.3396688, \"longitude\": -81.4093319, \"phone\": \"(407) 870-0183\", \"slug\": \"pollo-tropical-775-osceola-pkwykissimmee-fl\", \"state_name\": \"Florida\", \"brand\": \"Pollo Tropical\", \"updated\": \"2024-03-09\", \"type\": \"Feature\", \"geometry\": {\"type\": \"Point\", \"coordinates\": [-81.4093319, 28.3396688]}}, {\"name\": \"PT #10190\", \"street\": \"825 E. 49 Street\", \"city\": \"Hialeah\", \"state\": \"FL\", \"zip\": \"33013\", \"latitude\": 25.8676324, \"longitude\": -80.2663249, \"phone\": \"(786) 329-7686\", \"slug\": \"pollo-tropical-825-e-49-streethialeah-fl\", \"state_name\": \"Florida\", \"brand\": \"Pollo Tropical\", \"updated\": \"2024-03-09\", \"type\": \"Feature\", \"geometry\": {\"type\": \"Point\", \"coordinates\": [-80.2663249, 25.8676324]}}, {\"name\": \"PT #10192\", \"street\": \"5757 W. Oakland Park Blvd.\", \"city\": \"Laurdehill\", \"state\": \"FL\", \"zip\": \"33313\", \"latitude\": 26.1653573, \"longitude\": -80.2292123, \"phone\": \"(954) 375-4057\", \"slug\": \"pollo-tropical-w-oakland-parklaurdehill-fl\", \"state_name\": \"Florida\", \"brand\": \"Pollo Tropical\", \"updated\": \"2024-03-09\", \"type\": \"Feature\", \"geometry\": {\"type\": \"Point\", \"coordinates\": [-80.2292123, 26.1653573]}}, {\"name\": \"PT #10199\", \"street\": \"5554 Federal Highway\", \"city\": \"Ft. Lauderdale\", \"state\": \"FL\", \"zip\": \"33308\", \"latitude\": 26.1959068, \"longitude\": -80.1112001, \"phone\": \"(954) 375-4165\", \"slug\": \"pollo-tropical-n-fed-ne-55ftlauderdale-fl\", \"state_name\": \"Florida\", \"brand\": \"Pollo Tropical\", \"updated\": \"2024-03-09\", \"type\": \"Feature\", \"geometry\": {\"type\": \"Point\", \"coordinates\": [-80.1112001, 26.1959068]}}, {\"name\": \"PT #10200\", \"street\": \"25570 Cierra Center Blvd\", \"city\": \"Tampa\", \"state\": \"FL\", \"zip\": \"33559\", \"latitude\": 28.1949125, \"longitude\": -82.3938337, \"phone\": \"(813) 579-1625\", \"slug\": \"pollo-tropical-sr-56-wesley-chapeltampa-fl\", \"state_name\": \"Florida\", \"brand\": \"Pollo Tropical\", \"updated\": \"2024-03-09\", \"type\": \"Feature\", \"geometry\": {\"type\": \"Point\", \"coordinates\": [-82.3938337, 28.1949125]}}, {\"name\": \"PT #10202\", \"street\": \"5415 Fruitville Road\", \"city\": \"Sarasota\", \"state\": \"FL\", \"zip\": \"34232\", \"latitude\": 27.3386391, \"longitude\": -82.4616771, \"phone\": \"(941) 296-6999\", \"slug\": \"pollo-tropical-5415-fruitvillesarasota-fl\", \"state_name\": \"Florida\", \"brand\": \"Pollo Tropical\", \"updated\": \"2024-03-09\", \"type\": \"Feature\", \"geometry\": {\"type\": \"Point\", \"coordinates\": [-82.4616771, 27.3386391]}}, {\"name\": \"PT #10218\", \"street\": \"1446 W. International Speedway Blvd.\", \"city\": \"Daytona Beach\", \"state\": \"FL\", \"zip\": \"32114\", \"latitude\": 29.1965029, \"longitude\": -81.0585179, \"phone\": \"(386) 271-4951\", \"slug\": \"pollo-tropical-1446-w-intldaytona-beach-fl\", \"state_name\": \"Florida\", \"brand\": \"Pollo Tropical\", \"updated\": \"2024-03-09\", \"type\": \"Feature\", \"geometry\": {\"type\": \"Point\", \"coordinates\": [-81.0585179, 29.1965029]}}, {\"name\": \"PT #10223\", \"street\": \"4713 Flamingo Road\", \"city\": \"Cooper City\", \"state\": \"FL\", \"zip\": \"33330\", \"latitude\": 26.062301, \"longitude\": -80.3144122, \"phone\": \"(954) 375-4077\", \"slug\": \"pollo-tropical-4713-flamingocooper-city-fl\", \"state_name\": \"Florida\", \"brand\": \"Pollo Tropical\", \"updated\": \"2024-03-09\", \"type\": \"Feature\", \"geometry\": {\"type\": \"Point\", \"coordinates\": [-80.3144122, 26.062301]}}, {\"name\": \"PT #10224\", \"street\": \"7210 NW 36th Street\", \"city\": \"Miami\", \"state\": \"FL\", \"zip\": \"33166\", \"latitude\": 25.8088138, \"longitude\": -80.3142163, \"phone\": \"(786) 221-1568\", \"slug\": \"pollo-tropical-nw-36-streetmiami-fl\", \"state_name\": \"Florida\", \"brand\": \"Pollo Tropical\", \"updated\": \"2024-03-09\", \"type\": \"Feature\", \"geometry\": {\"type\": \"Point\", \"coordinates\": [-80.3142163, 25.8088138]}}, {\"name\": \"PT #10227\", \"street\": \"50 N. University Drive\", \"city\": \"Plantation\", \"state\": \"FL\", \"zip\": \"33324\", \"latitude\": 26.1217497, \"longitude\": -80.2520516, \"phone\": \"(305) 526-4492\", \"slug\": \"pollo-tropical-broward-university-plantation-fl\", \"state_name\": \"Florida\", \"brand\": \"Pollo Tropical\", \"updated\": \"2024-03-09\", \"type\": \"Feature\", \"geometry\": {\"type\": \"Point\", \"coordinates\": [-80.2520516, 26.1217497]}}, {\"name\": \"PT #10228\", \"street\": \"5294 North International Drive\", \"city\": \"Orlando\", \"state\": \"FL\", \"zip\": \"32819\", \"latitude\": 28.4657879, \"longitude\": -81.4497001, \"phone\": \"(321) 251-6217\", \"slug\": \"pollo-tropical-international-drorlando-fl\", \"state_name\": \"Florida\", \"brand\": \"Pollo Tropical\", \"updated\": \"2024-03-09\", \"type\": \"Feature\", \"geometry\": {\"type\": \"Point\", \"coordinates\": [-81.4497001, 28.4657879]}}, {\"name\": \"PT #10230\", \"street\": \"7501 Biscayne Blvd.\", \"city\": \"Miami\", \"state\": \"FL\", \"zip\": \"33138\", \"latitude\": 25.8442601, \"longitude\": -80.1841282, \"phone\": \"(305) 944-0227\", \"slug\": \"pollo-tropical-ptex-biscayne-75th-miami-fl\", \"state_name\": \"Florida\", \"brand\": \"Pollo Tropical\", \"updated\": \"2024-03-09\", \"type\": \"Feature\", \"geometry\": {\"type\": \"Point\", \"coordinates\": [-80.1841282, 25.8442601]}}, {\"name\": \"PT #10233\", \"street\": \"9993 Tagore Place\", \"city\": \"Orlando\", \"state\": \"FL\", \"zip\": \"32832\", \"latitude\": 28.3891039, \"longitude\": -81.2448919, \"phone\": \"(407) 477-4772\", \"slug\": \"pollo-tropical-lake-nona-orlando-fl\", \"state_name\": \"Florida\", \"brand\": \"Pollo Tropical\", \"updated\": \"2024-03-09\", \"type\": \"Feature\", \"geometry\": {\"type\": \"Point\", \"coordinates\": [-81.2448919, 28.3891039]}}, {\"name\": \"PT #10235\", \"street\": \"5450 Univ Dr\", \"city\": \"Coral Springs\", \"state\": \"FL\", \"zip\": \"33067\", \"latitude\": 26.2969673, \"longitude\": -80.2506673, \"phone\": \"(954) 688-2209\", \"slug\": \"pollo-tropical-5450-univ-dr-coral-springs-fl\", \"state_name\": \"Florida\", \"brand\": \"Pollo Tropical\", \"updated\": \"2024-03-09\", \"type\": \"Feature\", \"geometry\": {\"type\": \"Point\", \"coordinates\": [-80.2506673, 26.2969673]}}, {\"name\": \"PT #10236\", \"street\": \"7401 W 4th Ave\", \"city\": \"HIaleah\", \"state\": \"FL\", \"zip\": \"33014\", \"latitude\": 25.8892181, \"longitude\": -80.2912645, \"phone\": \"(786) 221-0643\", \"slug\": \"pollo-tropical-7405-w-4th-avenuehialeah-fl\", \"state_name\": \"Florida\", \"brand\": \"Pollo Tropical\", \"updated\": \"2024-03-09\", \"type\": \"Feature\", \"geometry\": {\"type\": \"Point\", \"coordinates\": [-80.2912645, 25.8892181]}}, {\"name\": \"PT#10248\", \"street\": \"8851 West Commercial Blvd\", \"city\": \"Tamarac\", \"state\": \"FL\", \"zip\": \"33351\", \"latitude\": 26.1942768, \"longitude\": -80.2696609, \"phone\": \"(954) 716-7947\", \"slug\": \"pt10248\", \"state_name\": \"Florida\", \"brand\": \"Pollo Tropical\", \"updated\": \"2024-03-09\", \"type\": \"Feature\", \"geometry\": {\"type\": \"Point\", \"coordinates\": [-80.2696609, 26.1942768]}}, {\"name\": \"PT #14306 JM\", \"street\": \"1005, 1611 NW 12th Ave\", \"city\": \"Miami\", \"state\": \"FL\", \"zip\": \"33136\", \"latitude\": 25.790187, \"longitude\": -80.212963, \"phone\": \"(407) 573-6112\", \"slug\": \"pt-14306\", \"state_name\": \"Florida\", \"brand\": \"Pollo Tropical\", \"updated\": \"2024-03-09\", \"type\": \"Feature\", \"geometry\": {\"type\": \"Point\", \"coordinates\": [-80.212963, 25.790187]}}, {\"name\": \"PT #10217\", \"street\": \"5101 Fowler Avenue\", \"city\": \"Tampa\", \"state\": \"FL\", \"zip\": \"33617\", \"latitude\": 28.054555, \"longitude\": -82.4295171, \"phone\": \"(813) 773-1382\", \"slug\": \"pt-10217\", \"state_name\": \"Florida\", \"brand\": \"Pollo Tropical\", \"updated\": \"2024-03-09\", \"type\": \"Feature\", \"geometry\": {\"type\": \"Point\", \"coordinates\": [-82.4295171, 28.054555]}}, {\"name\": \"PT #10249\", \"street\": \"16951 Miramar Pkwy\", \"city\": \"Miramar\", \"state\": \"FL\", \"zip\": \"33027\", \"latitude\": 25.9794499, \"longitude\": -80.3733029, \"phone\": \"(954) 488-2225\", \"slug\": \"pt-10249\", \"state_name\": \"Florida\", \"brand\": \"Pollo Tropical\", \"updated\": \"2024-03-09\", \"type\": \"Feature\", \"geometry\": {\"type\": \"Point\", \"coordinates\": [-80.3733029, 25.9794499]}}, {\"name\": \"PT #10254\", \"street\": \"13425 S. Dixie Hwy\", \"city\": \"Pinecrest\", \"state\": \"FL\", \"zip\": \"33156\", \"latitude\": 25.6460258, \"longitude\": -80.3330486, \"phone\": \"(786) 522-3935\", \"slug\": \"pollo-10254\", \"state_name\": \"Florida\", \"brand\": \"Pollo Tropical\", \"updated\": \"2024-03-09\", \"type\": \"Feature\", \"geometry\": {\"type\": \"Point\", \"coordinates\": [-80.3330486, 25.6460258]}}, {\"name\": \"PT #10001\", \"street\": \"741 N. W. 37th Avenue\", \"city\": \"Miami\", \"state\": \"FL\", \"zip\": \"33125\", \"latitude\": 25.7791331, \"longitude\": -80.2549213, \"phone\": \"(305) 541-3161\", \"slug\": \"pollo-tropical-nw-37th-avemiami-fl\", \"state_name\": \"Florida\", \"brand\": \"Pollo Tropical\", \"updated\": \"2024-03-09\", \"type\": \"Feature\", \"geometry\": {\"type\": \"Point\", \"coordinates\": [-80.2549213, 25.7791331]}}, {\"name\": \"PT #10002\", \"street\": \"9520 S. W. 137th Avenue\", \"city\": \"Miami\", \"state\": \"FL\", \"zip\": \"33186\", \"latitude\": 25.6793624, \"longitude\": -80.4170254, \"phone\": \"(305) 388-4406\", \"slug\": \"pollo-tropical-sw-137th-avemiami-fl\", \"state_name\": \"Florida\", \"brand\": \"Pollo Tropical\", \"updated\": \"2024-03-09\", \"type\": \"Feature\", \"geometry\": {\"type\": \"Point\", \"coordinates\": [-80.4170254, 25.6793624]}}, {\"name\": \"PT #10003\", \"street\": \"8975 S. Dixie Highway\", \"city\": \"Miami\", \"state\": \"FL\", \"zip\": \"33156\", \"latitude\": 25.687147, \"longitude\": -80.3100596, \"phone\": \"(305) 662-9035\", \"slug\": \"pollo-tropical-90-s-dixie-hwaymiami-fl\", \"state_name\": \"Florida\", \"brand\": \"Pollo Tropical\", \"updated\": \"2024-03-09\", \"type\": \"Feature\", \"geometry\": {\"type\": \"Point\", \"coordinates\": [-80.3100596, 25.687147]}}, {\"name\": \"PT #10004\", \"street\": \"8700 Bird Road\", \"city\": \"Miami\", \"state\": \"FL\", \"zip\": \"33165\", \"latitude\": 25.732435, \"longitude\": -80.3361514, \"phone\": \"(305) 225-7858\", \"slug\": \"pollo-tropical-bird-roadmiami-fl\", \"state_name\": \"Florida\", \"brand\": \"Pollo Tropical\", \"updated\": \"2024-03-09\", \"type\": \"Feature\", \"geometry\": {\"type\": \"Point\", \"coordinates\": [-80.3361514, 25.732435]}}, {\"name\": \"PT #10005\", \"street\": \"18710 S. Dixie Highway\", \"city\": \"Miami\", \"state\": \"FL\", \"zip\": \"33157\", \"latitude\": 25.5950876, \"longitude\": -80.3562264, \"phone\": \"(305) 254-0666\", \"slug\": \"pollo-tropical-quail-s-dixie-hwaymiami-fl\", \"state_name\": \"Florida\", \"brand\": \"Pollo Tropical\", \"updated\": \"2024-03-09\", \"type\": \"Feature\", \"geometry\": {\"type\": \"Point\", \"coordinates\": [-80.3562264, 25.5950876]}}, {\"name\": \"PT #10006\", \"street\": \"11521 N. Kendall Drive\", \"city\": \"Miami\", \"state\": \"FL\", \"zip\": \"33176\", \"latitude\": 25.6868053, \"longitude\": -80.3803487, \"phone\": \"(305) 596-4775\", \"slug\": \"pollo-tropical-n-kendall-drivemiami-fl\", \"state_name\": \"Florida\", \"brand\": \"Pollo Tropical\", \"updated\": \"2024-03-09\", \"type\": \"Feature\", \"geometry\": {\"type\": \"Point\", \"coordinates\": [-80.3803487, 25.6868053]}}, {\"name\": \"PT #10007\", \"street\": \"1785 N. E. 163rd Street\", \"city\": \"N. Miami Beach\", \"state\": \"FL\", \"zip\": \"33162\", \"latitude\": 25.9263856, \"longitude\": -80.1642697, \"phone\": \"(305) 945-0045\", \"slug\": \"pollo-tropical-ne-163rd-stn-miami-beach-fl\", \"state_name\": \"Florida\", \"brand\": \"Pollo Tropical\", \"updated\": \"2024-03-09\", \"type\": \"Feature\", \"geometry\": {\"type\": \"Point\", \"coordinates\": [-80.1642697, 25.9263856]}}, {\"name\": \"PT #10008\", \"street\": \"4211 N. W. 36th Street\", \"city\": \"Miami Springs\", \"state\": \"FL\", \"zip\": \"33166\", \"latitude\": 25.8086487, \"longitude\": -80.2653668, \"phone\": \"(305) 884-2268\", \"slug\": \"pollo-tropical-nw-36th-stmiami-springs-fl\", \"state_name\": \"Florida\", \"brand\": \"Pollo Tropical\", \"updated\": \"2024-03-09\", \"type\": \"Feature\", \"geometry\": {\"type\": \"Point\", \"coordinates\": [-80.2653668, 25.8086487]}}, {\"name\": \"PT #10009\", \"street\": \"2710 S. Dixie Hwy\", \"city\": \"Miami\", \"state\": \"FL\", \"zip\": \"33133\", \"latitude\": 25.7390438, \"longitude\": -80.2387856, \"phone\": \"(305) 448-9892\", \"slug\": \"pollo-tropical-27-s-dixie-hwaymiami-fl\", \"state_name\": \"Florida\", \"brand\": \"Pollo Tropical\", \"updated\": \"2024-03-09\", \"type\": \"Feature\", \"geometry\": {\"type\": \"Point\", \"coordinates\": [-80.2387856, 25.7390438]}}, {\"name\": \"PT #10010\", \"street\": \"16495 N. W. 67th Avenue\", \"city\": \"Miami Lakes\", \"state\": \"FL\", \"zip\": \"33014\", \"latitude\": 25.9228073, \"longitude\": -80.308732, \"phone\": \"(305) 821-3858\", \"slug\": \"pollo-tropical-nw-67th-avemiami-lakes-fl\", \"state_name\": \"Florida\", \"brand\": \"Pollo Tropical\", \"updated\": \"2024-03-09\", \"type\": \"Feature\", \"geometry\": {\"type\": \"Point\", \"coordinates\": [-80.308732, 25.9228073]}}, {\"name\": \"PT #10011\", \"street\": \"2490 W. 60th Street\", \"city\": \"Hialeah\", \"state\": \"FL\", \"zip\": \"33016\", \"latitude\": 25.8766568, \"longitude\": -80.3331524, \"phone\": \"(305) 828-2032\", \"slug\": \"pollo-tropical-w-60th-sthialeah-fl\", \"state_name\": \"Florida\", \"brand\": \"Pollo Tropical\", \"updated\": \"2024-03-09\", \"type\": \"Feature\", \"geometry\": {\"type\": \"Point\", \"coordinates\": [-80.3331524, 25.8766568]}}, {\"name\": \"PT #10012\", \"street\": \"2011 E. Oakland Park Blvd.\", \"city\": \"Oakland Park\", \"state\": \"FL\", \"zip\": \"33306\", \"latitude\": 26.1675957, \"longitude\": -80.1192604, \"phone\": \"(954) 564-6220\", \"slug\": \"pollo-tropical-e-oakland-pk-blvdoaklnd-pk-fl\", \"state_name\": \"Florida\", \"brand\": \"Pollo Tropical\", \"updated\": \"2024-03-09\", \"type\": \"Feature\", \"geometry\": {\"type\": \"Point\", \"coordinates\": [-80.1192604, 26.1675957]}}, {\"name\": \"PT #10013\", \"street\": \"8299 Pines Blvd.\", \"city\": \"Pembrook Pines\", \"state\": \"FL\", \"zip\": \"33024\", \"latitude\": 26.0096047, \"longitude\": -80.2519522, \"phone\": \"(954) 437-9153\", \"slug\": \"pollo-tropical-83-pinespembroke-pines-fl\", \"state_name\": \"Florida\", \"brand\": \"Pollo Tropical\", \"updated\": \"2024-03-09\", \"type\": \"Feature\", \"geometry\": {\"type\": \"Point\", \"coordinates\": [-80.2519522, 26.0096047]}}, {\"name\": \"PT #10014\", \"street\": \"2298 Congress Avenue\", \"city\": \"Boynton Beach\", \"state\": \"FL\", \"zip\": \"33426\", \"latitude\": 26.5497215, \"longitude\": -80.0901358, \"phone\": \"(561) 364-4313\", \"slug\": \"pollo-tropical-congress-aveboynton-beach-fl\", \"state_name\": \"Florida\", \"brand\": \"Pollo Tropical\", \"updated\": \"2024-03-09\", \"type\": \"Feature\", \"geometry\": {\"type\": \"Point\", \"coordinates\": [-80.0901358, 26.5497215]}}, {\"name\": \"PT #10015\", \"street\": \"11806 Biscayne Blvd.\", \"city\": \"N Miami\", \"state\": \"FL\", \"zip\": \"33181\", \"latitude\": 25.884897, \"longitude\": -80.1655372, \"phone\": \"(305) 895-0274\", \"slug\": \"pollo-tropical-biscayne-blvdmiami-fl\", \"state_name\": \"Florida\", \"brand\": \"Pollo Tropical\", \"updated\": \"2024-03-09\", \"type\": \"Feature\", \"geometry\": {\"type\": \"Point\", \"coordinates\": [-80.1655372, 25.884897]}}, {\"name\": \"PT #10016\", \"street\": \"2390 S. University Drive\", \"city\": \"Davie\", \"state\": \"FL\", \"zip\": \"33324\", \"latitude\": 26.091178, \"longitude\": -80.250654, \"phone\": \"(954) 474-8040\", \"slug\": \"pollo-tropical-s-university-drdavie-fl\", \"state_name\": \"Florida\", \"brand\": \"Pollo Tropical\", \"updated\": \"2024-03-09\", \"type\": \"Feature\", \"geometry\": {\"type\": \"Point\", \"coordinates\": [-80.250654, 26.091178]}}, {\"name\": \"PT #10017\", \"street\": \"4331 Lake Worth Road\", \"city\": \"Lake Worth\", \"state\": \"FL\", \"zip\": \"33461\", \"latitude\": 26.6185924, \"longitude\": -80.1107313, \"phone\": \"(561) 641-7800\", \"slug\": \"pollo-tropical-lake-worth-roadlake-worth-fl\", \"state_name\": \"Florida\", \"brand\": \"Pollo Tropical\", \"updated\": \"2024-03-09\", \"type\": \"Feature\", \"geometry\": {\"type\": \"Point\", \"coordinates\": [-80.1107313, 26.6185924]}}, {\"name\": \"PT #10018\", \"street\": \"1454 Alton Road\", \"city\": \"Miami Beach\", \"state\": \"FL\", \"zip\": \"33139\", \"latitude\": 25.7870823, \"longitude\": -80.1413319, \"phone\": \"(305) 672-8888\", \"slug\": \"pollo-tropical-alton-roadmiami-beach-fl\", \"state_name\": \"Florida\", \"brand\": \"Pollo Tropical\", \"updated\": \"2024-03-09\", \"type\": \"Feature\", \"geometry\": {\"type\": \"Point\", \"coordinates\": [-80.1413319, 25.7870823]}}, {\"name\": \"PT #10019\", \"street\": \"985 N. Homestead Blvd.\", \"city\": \"Homestead\", \"state\": \"FL\", \"zip\": \"33030\", \"latitude\": 25.4793165, \"longitude\": -80.4638098, \"phone\": \"(305) 245-0410\", \"slug\": \"pollo-tropical-n-homestead-blvdhomestead-fl\", \"state_name\": \"Florida\", \"brand\": \"Pollo Tropical\", \"updated\": \"2024-03-09\", \"type\": \"Feature\", \"geometry\": {\"type\": \"Point\", \"coordinates\": [-80.4638098, 25.4793165]}}, {\"name\": \"PT #10020\", \"street\": \"800 University Drive\", \"city\": \"Coral Springs\", \"state\": \"FL\", \"zip\": \"33071\", \"latitude\": 26.2423693, \"longitude\": -80.2546528, \"phone\": \"(954) 345-7922\", \"slug\": \"pollo-tropical-university-drcoral-springs-fl\", \"state_name\": \"Florida\", \"brand\": \"Pollo Tropical\", \"updated\": \"2024-03-09\", \"type\": \"Feature\", \"geometry\": {\"type\": \"Point\", \"coordinates\": [-80.2546528, 26.2423693]}}, {\"name\": \"PT #10021\", \"street\": \"11670 S. W. 152nd Street\", \"city\": \"Miami\", \"state\": \"FL\", \"zip\": \"33157\", \"latitude\": 25.6267297, \"longitude\": -80.3816535, \"phone\": \"(954) 345-7922\", \"slug\": \"pollo-tropical-sw-152nd-stmiami-fl\", \"state_name\": \"Florida\", \"brand\": \"Pollo Tropical\", \"updated\": \"2024-03-09\", \"type\": \"Feature\", \"geometry\": {\"type\": \"Point\", \"coordinates\": [-80.3816535, 25.6267297]}}, {\"name\": \"PT #10022\", \"street\": \"489 FL-436\", \"city\": \"Altamonte Springs\", \"state\": \"FL\", \"zip\": \"32714\", \"latitude\": 28.6623238, \"longitude\": -81.40199, \"phone\": \"(407) 865-6750\", \"slug\": \"pollo-tropical-west-sr-436altamonte-sprgs-fl\", \"state_name\": \"Florida\", \"brand\": \"Pollo Tropical\", \"updated\": \"2024-03-09\", \"type\": \"Feature\", \"geometry\": {\"type\": \"Point\", \"coordinates\": [-81.40199, 28.6623238]}}, {\"name\": \"PT #10024\", \"street\": \"1555 N. W. 87 Avenue\", \"city\": \"Miami\", \"state\": \"FL\", \"zip\": \"33172\", \"latitude\": 25.7882028, \"longitude\": -80.33642, \"phone\": \"(305) 594-7391\", \"slug\": \"pollo-tropical-nw-87th-avemiami-fl\", \"state_name\": \"Florida\", \"brand\": \"Pollo Tropical\", \"updated\": \"2024-03-09\", \"type\": \"Feature\", \"geometry\": {\"type\": \"Point\", \"coordinates\": [-80.33642, 25.7882028]}}, {\"name\": \"PT #10025\", \"street\": \"19911 N. W. 2nd Avenue SR7\", \"city\": \"North Miami\", \"state\": \"FL\", \"zip\": \"33169\", \"latitude\": 25.9583106, \"longitude\": -80.2051857, \"phone\": \"(305) 655-2026\", \"slug\": \"pollo-tropical-nw-2nd-avenorth-miami-fl\", \"state_name\": \"Florida\", \"brand\": \"Pollo Tropical\", \"updated\": \"2024-03-09\", \"type\": \"Feature\", \"geometry\": {\"type\": \"Point\", \"coordinates\": [-80.2051857, 25.9583106]}}, {\"name\": \"PT #10026\", \"street\": \"13998 S. W. 56th Street\", \"city\": \"Miami\", \"state\": \"FL\", \"zip\": \"33175\", \"latitude\": 25.7138728, \"longitude\": -80.4200032, \"phone\": \"(305) 382-1399\", \"slug\": \"pollo-tropical-sw-56th-stmiami-fl\", \"state_name\": \"Florida\", \"brand\": \"Pollo Tropical\", \"updated\": \"2024-03-09\", \"type\": \"Feature\", \"geometry\": {\"type\": \"Point\", \"coordinates\": [-80.4200032, 25.7138728]}}, {\"name\": \"PT #10027\", \"street\": \"11429 Pines Blvd\", \"city\": \"Pembroke Pines\", \"state\": \"FL\", \"zip\": \"33026\", \"latitude\": 26.0082512, \"longitude\": -80.3018731, \"phone\": \"(954) 430-2250\", \"slug\": \"pollo-tropical-hiatuapinespembroke-pines-fl\", \"state_name\": \"Florida\", \"brand\": \"Pollo Tropical\", \"updated\": \"2024-03-09\", \"type\": \"Feature\", \"geometry\": {\"type\": \"Point\", \"coordinates\": [-80.3018731, 26.0082512]}}, {\"name\": \"PT #10030\", \"street\": \"581 N. W. 57th Avenue\", \"city\": \"Miami\", \"state\": \"FL\", \"zip\": \"33126\", \"latitude\": 25.7768487, \"longitude\": -80.2878359, \"phone\": \"(305) 265-6101\", \"slug\": \"pollo-tropical-nw-57th-avemiami-fl\", \"state_name\": \"Florida\", \"brand\": \"Pollo Tropical\", \"updated\": \"2024-03-09\", \"type\": \"Feature\", \"geometry\": {\"type\": \"Point\", \"coordinates\": [-80.2878359, 25.7768487]}}, {\"name\": \"PT #10031\", \"street\": \"12961 W. Sunrise Blvd.\", \"city\": \"Ft. Lauderdale\", \"state\": \"FL\", \"zip\": \"33323\", \"latitude\": 26.146344, \"longitude\": -80.327332, \"phone\": \"(954) 845-0343\", \"slug\": \"pollo-tropical-w-sunrise-blvdft-lauderdle-fl\", \"state_name\": \"Florida\", \"brand\": \"Pollo Tropical\", \"updated\": \"2024-03-09\", \"type\": \"Feature\", \"geometry\": {\"type\": \"Point\", \"coordinates\": [-80.327332, 26.146344]}}, {\"name\": \"PT #10032\", \"street\": \"1811 S. Semoran Blvd.\", \"city\": \"Orlando\", \"state\": \"FL\", \"zip\": \"32822\", \"latitude\": 28.5211168, \"longitude\": -81.3097258, \"phone\": \"(407) 273-2600\", \"slug\": \"pollo-tropical-s-semoran-blvdorlando-fl\", \"state_name\": \"Florida\", \"brand\": \"Pollo Tropical\", \"updated\": \"2024-03-09\", \"type\": \"Feature\", \"geometry\": {\"type\": \"Point\", \"coordinates\": [-81.3097258, 28.5211168]}}, {\"name\": \"PT #10035\", \"street\": \"1819 S. Federal Hwy.\", \"city\": \"Ft. Lauderdale\", \"state\": \"FL\", \"zip\": \"33316\", \"latitude\": 26.0987465, \"longitude\": -80.1370576, \"phone\": \"(954) 764-2141\", \"slug\": \"pollo-tropical-s-federal-hwyft-lauderdale-fl\", \"state_name\": \"Florida\", \"brand\": \"Pollo Tropical\", \"updated\": \"2024-03-09\", \"type\": \"Feature\", \"geometry\": {\"type\": \"Point\", \"coordinates\": [-80.1370576, 26.0987465]}}, {\"name\": \"PT #10038\", \"street\": \"2350 Douglas Road\", \"city\": \"Miami\", \"state\": \"FL\", \"zip\": \"33134\", \"latitude\": 25.7504636, \"longitude\": -80.255023, \"phone\": \"(305) 461-1915\", \"slug\": \"pollo-tropical-douglas-rdcoral-gables-fl\", \"state_name\": \"Florida\", \"brand\": \"Pollo Tropical\", \"updated\": \"2024-03-09\", \"type\": \"Feature\", \"geometry\": {\"type\": \"Point\", \"coordinates\": [-80.255023, 25.7504636]}}, {\"name\": \"PT #10039\", \"street\": \"1592 W. 49 Street\", \"city\": \"Hialeah\", \"state\": \"FL\", \"zip\": \"33012\", \"latitude\": 25.8663199, \"longitude\": -80.3145428, \"phone\": \"(305) 556-8090\", \"slug\": \"pollo-tropical-w-49th-sthialeah-fl\", \"state_name\": \"Florida\", \"brand\": \"Pollo Tropical\", \"updated\": \"2024-03-09\", \"type\": \"Feature\", \"geometry\": {\"type\": \"Point\", \"coordinates\": [-80.3145428, 25.8663199]}}, {\"name\": \"PT #10040\", \"street\": \"5720 Wiles Road\", \"city\": \"Coral Springs\", \"state\": \"FL\", \"zip\": \"33067\", \"latitude\": 26.2842252, \"longitude\": -80.2025657, \"phone\": \"(954) 757-7839\", \"slug\": \"pollo-tropical-wiles-roadcoral-springs-fl\", \"state_name\": \"Florida\", \"brand\": \"Pollo Tropical\", \"updated\": \"2024-03-09\", \"type\": \"Feature\", \"geometry\": {\"type\": \"Point\", \"coordinates\": [-80.2025657, 26.2842252]}}, {\"name\": \"PT #10042\", \"street\": \"5549 Sheridan Street\", \"city\": \"Hollywood\", \"state\": \"FL\", \"zip\": \"33021\", \"latitude\": 26.032834, \"longitude\": -80.19958, \"phone\": \"(954) 987-8976\", \"slug\": \"pollo-tropical-sheridan-sthollywood-fl\", \"state_name\": \"Florida\", \"brand\": \"Pollo Tropical\", \"updated\": \"2024-03-09\", \"type\": \"Feature\", \"geometry\": {\"type\": \"Point\", \"coordinates\": [-80.19958, 26.032834]}}, {\"name\": \"PT #10043\", \"street\": \"2633 Weston Rd.\", \"city\": \"Weston\", \"state\": \"FL\", \"zip\": \"33331\", \"latitude\": 26.0843886, \"longitude\": -80.3717605, \"phone\": \"(954) 389-2572\", \"slug\": \"pollo-tropical-weston-rdweston-fl\", \"state_name\": \"Florida\", \"brand\": \"Pollo Tropical\", \"updated\": \"2024-03-09\", \"type\": \"Feature\", \"geometry\": {\"type\": \"Point\", \"coordinates\": [-80.3717605, 26.0843886]}}, {\"name\": \"PT #10044\", \"street\": \"10575 N. W. 41 Street\", \"city\": \"Miami\", \"state\": \"FL\", \"zip\": \"33178\", \"latitude\": 25.8120481, \"longitude\": -80.3678441, \"phone\": \"(305) 597-4596\", \"slug\": \"pollo-tropical-nw-41st-stmiami-fl\", \"state_name\": \"Florida\", \"brand\": \"Pollo Tropical\", \"updated\": \"2024-03-09\", \"type\": \"Feature\", \"geometry\": {\"type\": \"Point\", \"coordinates\": [-80.3678441, 25.8120481]}}, {\"name\": \"PT #10045\", \"street\": \"2675 N. University Drive\", \"city\": \"Sunrise\", \"state\": \"FL\", \"zip\": \"33322\", \"latitude\": 26.1583473, \"longitude\": -80.2577887, \"phone\": \"(954) 741-5238\", \"slug\": \"pollo-tropical-n-university-drsunrise-fl\", \"state_name\": \"Florida\", \"brand\": \"Pollo Tropical\", \"updated\": \"2024-03-09\", \"type\": \"Feature\", \"geometry\": {\"type\": \"Point\", \"coordinates\": [-80.2577887, 26.1583473]}}, {\"name\": \"PT #10046\", \"street\": \"3499 Biscayne Blvd.\", \"city\": \"Miami\", \"state\": \"FL\", \"zip\": \"33137\", \"latitude\": 25.8091797, \"longitude\": -80.1892065, \"phone\": \"(305) 572-9844\", \"slug\": \"pollo-tropical-biscayneblvd-ne35thmiami-fl\", \"state_name\": \"Florida\", \"brand\": \"Pollo Tropical\", \"updated\": \"2024-03-09\", \"type\": \"Feature\", \"geometry\": {\"type\": \"Point\", \"coordinates\": [-80.1892065, 25.8091797]}}, {\"name\": \"PT #10047\", \"street\": \"16201 S.W. 88 Street\", \"city\": \"Miami\", \"state\": \"FL\", \"zip\": \"33196\", \"latitude\": 25.6845614, \"longitude\": -80.4543918, \"phone\": \"(305) 752-1877\", \"slug\": \"pollo-tropical-sw-88-stmiami-fl\", \"state_name\": \"Florida\", \"brand\": \"Pollo Tropical\", \"updated\": \"2024-03-09\", \"type\": \"Feature\", \"geometry\": {\"type\": \"Point\", \"coordinates\": [-80.4543918, 25.6845614]}}, {\"name\": \"PT #10048\", \"street\": \"3061 Northlake Blvd.\", \"city\": \"Lake Park\", \"state\": \"FL\", \"zip\": \"33403\", \"latitude\": 26.8087637, \"longitude\": -80.0824112, \"phone\": \"(561) 841-3466\", \"slug\": \"pollo-tropical-northlake-blvdlake-park-fl\", \"state_name\": \"Florida\", \"brand\": \"Pollo Tropical\", \"updated\": \"2024-03-09\", \"type\": \"Feature\", \"geometry\": {\"type\": \"Point\", \"coordinates\": [-80.0824112, 26.8087637]}}, {\"name\": \"PT #10049\", \"street\": \"3801 W. Vine Street\", \"city\": \"Kissimmee\", \"state\": \"FL\", \"zip\": \"34741\", \"latitude\": 28.3048796, \"longitude\": -81.4415037, \"phone\": \"(407) 932-4363\", \"slug\": \"pollo-tropical-w-vine-stkissimmee-fl\", \"state_name\": \"Florida\", \"brand\": \"Pollo Tropical\", \"updated\": \"2024-03-09\", \"type\": \"Feature\", \"geometry\": {\"type\": \"Point\", \"coordinates\": [-81.4415037, 28.3048796]}}, {\"name\": \"PT #10050\", \"street\": \"107 North State Road 7\", \"city\": \"Royal Palm Beach\", \"state\": \"FL\", \"zip\": \"33411\", \"latitude\": 26.678187, \"longitude\": -80.203221, \"phone\": \"(561) 795-8818\", \"slug\": \"pollo-tropical-n-state-rd-7royal-palm-bch-fl\", \"state_name\": \"Florida\", \"brand\": \"Pollo Tropical\", \"updated\": \"2024-03-09\", \"type\": \"Feature\", \"geometry\": {\"type\": \"Point\", \"coordinates\": [-80.203221, 26.678187]}}, {\"name\": \"PT #10052\", \"street\": \"7643 W. Colonial Drive\", \"city\": \"Orlando\", \"state\": \"FL\", \"zip\": \"32818\", \"latitude\": 28.5524676, \"longitude\": -81.4885242, \"phone\": \"(407) 293-6118\", \"slug\": \"pollo-tropical-w-colonial-drorlando-fl\", \"state_name\": \"Florida\", \"brand\": \"Pollo Tropical\", \"updated\": \"2024-03-09\", \"type\": \"Feature\", \"geometry\": {\"type\": \"Point\", \"coordinates\": [-81.4885242, 28.5524676]}}, {\"name\": \"PT #10053\", \"street\": \"3051 W. Commercial Blvd.\", \"city\": \"Fort Lauderdale\", \"state\": \"FL\", \"zip\": \"33309\", \"latitude\": 26.1868266, \"longitude\": -80.1864168, \"phone\": \"(954) 484-5273\", \"slug\": \"pollo-tropical-w-commericalft-lauderdale-fl\", \"state_name\": \"Florida\", \"brand\": \"Pollo Tropical\", \"updated\": \"2024-03-09\", \"type\": \"Feature\", \"geometry\": {\"type\": \"Point\", \"coordinates\": [-80.1864168, 26.1868266]}}, {\"name\": \"PT #10054\", \"street\": \"11860 E. Colonial Drive\", \"city\": \"Orlando\", \"state\": \"FL\", \"zip\": \"32826\", \"latitude\": 28.5659495, \"longitude\": -81.2056856, \"phone\": \"(407) 380-1966\", \"slug\": \"pollo-tropical-east-colonial-drorlando-fl\", \"state_name\": \"Florida\", \"brand\": \"Pollo Tropical\", \"updated\": \"2024-03-09\", \"type\": \"Feature\", \"geometry\": {\"type\": \"Point\", \"coordinates\": [-81.2056856, 28.5659495]}}, {\"name\": \"PT #10055\", \"street\": \"11875 S.W. 26 St\", \"city\": \"Miami\", \"state\": \"FL\", \"zip\": \"33175\", \"latitude\": 25.7465465, \"longitude\": -80.3880028, \"phone\": \"(305) 223-8049\", \"slug\": \"pollo-tropical-sw-26th-stmiami-fl\", \"state_name\": \"Florida\", \"brand\": \"Pollo Tropical\", \"updated\": \"2024-03-09\", \"type\": \"Feature\", \"geometry\": {\"type\": \"Point\", \"coordinates\": [-80.3880028, 25.7465465]}}, {\"name\": \"PT #10056\", \"street\": \"14880 S. W. 31 Street\", \"city\": \"Miramar\", \"state\": \"FL\", \"zip\": \"33027\", \"latitude\": 25.9793818, \"longitude\": -80.3449396, \"phone\": \"(954) 431-7998\", \"slug\": \"pollo-tropical-sw-31st-stmiramar-fl\", \"state_name\": \"Florida\", \"brand\": \"Pollo Tropical\", \"updated\": \"2024-03-09\", \"type\": \"Feature\", \"geometry\": {\"type\": \"Point\", \"coordinates\": [-80.3449396, 25.9793818]}}, {\"name\": \"PT #10057\", \"street\": \"2499 N Federal Highway\", \"city\": \"Boca Raton\", \"state\": \"FL\", \"zip\": \"33431\", \"latitude\": 26.3725655, \"longitude\": -80.0769337, \"phone\": \"(561) 395-9751\", \"slug\": \"pollo-tropical-n-federal-hwayboca-raton-fl\", \"state_name\": \"Florida\", \"brand\": \"Pollo Tropical\", \"updated\": \"2024-03-09\", \"type\": \"Feature\", \"geometry\": {\"type\": \"Point\", \"coordinates\": [-80.0769337, 26.3725655]}}, {\"name\": \"PT #10058\", \"street\": \"950 Linton Blvd.\", \"city\": \"Delray Beach\", \"state\": \"FL\", \"zip\": \"33444\", \"latitude\": 26.4392274, \"longitude\": -80.0828694, \"phone\": \"(561) 276-9334\", \"slug\": \"pollo-tropical-linton-blvddelray-beach-fl\", \"state_name\": \"Florida\", \"brand\": \"Pollo Tropical\", \"updated\": \"2024-03-09\", \"type\": \"Feature\", \"geometry\": {\"type\": \"Point\", \"coordinates\": [-80.0828694, 26.4392274]}}, {\"name\": \"PT #10059\", \"street\": \"10705 West Flagler Street\", \"city\": \"Miami\", \"state\": \"FL\", \"zip\": \"33174\", \"latitude\": 25.7686826, \"longitude\": -80.3705885, \"phone\": \"(305) 225-5883\", \"slug\": \"pollo-tropical-west-flager-stmiami-fl\", \"state_name\": \"Florida\", \"brand\": \"Pollo Tropical\", \"updated\": \"2024-03-09\", \"type\": \"Feature\", \"geometry\": {\"type\": \"Point\", \"coordinates\": [-80.3705885, 25.7686826]}}, {\"name\": \"PT #10063\", \"street\": \"2450 W. Atlantic Blvd.\", \"city\": \"Pompano Beach\", \"state\": \"FL\", \"zip\": \"33069\", \"latitude\": 26.2305373, \"longitude\": -80.1552, \"phone\": \"(954) 977-6996\", \"slug\": \"pollo-tropical-watlanticblvdpompano-beach-fl\", \"state_name\": \"Florida\", \"brand\": \"Pollo Tropical\", \"updated\": \"2024-03-09\", \"type\": \"Feature\", \"geometry\": {\"type\": \"Point\", \"coordinates\": [-80.1552, 26.2305373]}}, {\"name\": \"PT #10064\", \"street\": \"1051 S. Military Trail\", \"city\": \"Deerfield Beach\", \"state\": \"FL\", \"zip\": \"33442\", \"latitude\": 26.3036738, \"longitude\": -80.1309293, \"phone\": \"(954) 596-1722\", \"slug\": \"pollo-tropical-s-military-trdeerfield-bch-fl\", \"state_name\": \"Florida\", \"brand\": \"Pollo Tropical\", \"updated\": \"2024-03-09\", \"type\": \"Feature\", \"geometry\": {\"type\": \"Point\", \"coordinates\": [-80.1309293, 26.3036738]}}, {\"name\": \"PT #10065\", \"street\": \"8200 NW 27th Avenue\", \"city\": \"Miami\", \"state\": \"FL\", \"zip\": \"33147\", \"latitude\": 25.8494264, \"longitude\": -80.2423487, \"phone\": \"(305) 835-7233\", \"slug\": \"pollo-tropical-nw-27th-avemiami-fl\", \"state_name\": \"Florida\", \"brand\": \"Pollo Tropical\", \"updated\": \"2024-03-09\", \"type\": \"Feature\", \"geometry\": {\"type\": \"Point\", \"coordinates\": [-80.2423487, 25.8494264]}}, {\"name\": \"PT #10066\", \"street\": \"3094 NE 41st Place\", \"city\": \"Homestead\", \"state\": \"FL\", \"zip\": \"33033\", \"latitude\": 25.4991166, \"longitude\": -80.4138519, \"phone\": \"(305) 247-4909\", \"slug\": \"pollo-tropical-ne-41st-plhomestead-fl\", \"state_name\": \"Florida\", \"brand\": \"Pollo Tropical\", \"updated\": \"2024-03-09\", \"type\": \"Feature\", \"geometry\": {\"type\": \"Point\", \"coordinates\": [-80.4138519, 25.4991166]}}, {\"name\": \"PT #10067\", \"street\": \"4085 Millenia Blvd.\", \"city\": \"Orlando\", \"state\": \"FL\", \"zip\": \"32839\", \"latitude\": 28.49119, \"longitude\": -81.4293363, \"phone\": \"(407) 248-3080\", \"slug\": \"pollo-tropical-millenia-blvdorlando-fl\", \"state_name\": \"Florida\", \"brand\": \"Pollo Tropical\", \"updated\": \"2024-03-09\", \"type\": \"Feature\", \"geometry\": {\"type\": \"Point\", \"coordinates\": [-81.4293363, 28.49119]}}, {\"name\": \"PT #10068\", \"street\": \"1550 Indian Town Rd.\", \"city\": \"Jupiter\", \"state\": \"FL\", \"zip\": \"33458\", \"latitude\": 26.9336351, \"longitude\": -80.1224014, \"phone\": \"(561) 746-4440\", \"slug\": \"pollo-tropical-maplewood-center-jupiter-fl\", \"state_name\": \"Florida\", \"brand\": \"Pollo Tropical\", \"updated\": \"2024-03-09\", \"type\": \"Feature\", \"geometry\": {\"type\": \"Point\", \"coordinates\": [-80.1224014, 26.9336351]}}, {\"name\": \"PT #10069\", \"street\": \"300 North State Rd 7\", \"city\": \"Plantation\", \"state\": \"FL\", \"zip\": \"33317\", \"latitude\": 26.123894, \"longitude\": -80.201655, \"phone\": \"(954) 587-3121\", \"slug\": \"pollo-tropical-north-state-rd-7plantation-fl\", \"state_name\": \"Florida\", \"brand\": \"Pollo Tropical\", \"updated\": \"2024-03-09\", \"type\": \"Feature\", \"geometry\": {\"type\": \"Point\", \"coordinates\": [-80.201655, 26.123894]}}, {\"name\": \"PT #10071\", \"street\": \"17084 Collins Ave\", \"city\": \"Sunny Isles Beach\", \"state\": \"FL\", \"zip\": \"33160\", \"latitude\": 25.9338958, \"longitude\": -80.1219923, \"phone\": \"(305) 948-7229\", \"slug\": \"pollo-tropical-collins-avesunny-isles-bch-fl\", \"state_name\": \"Florida\", \"brand\": \"Pollo Tropical\", \"updated\": \"2024-03-09\", \"type\": \"Feature\", \"geometry\": {\"type\": \"Point\", \"coordinates\": [-80.1219923, 25.9338958]}}, {\"name\": \"PT #10072\", \"street\": \"14150 SW 8th St, Miami FL\", \"city\": \"Miami\", \"state\": \"FL\", \"zip\": \"33184\", \"latitude\": 25.7591234, \"longitude\": -80.4243796, \"phone\": \"(305) 553-5646\", \"slug\": \"pollo-tropical-sw-8th-stmiami-fl\", \"state_name\": \"Florida\", \"brand\": \"Pollo Tropical\", \"updated\": \"2024-03-09\", \"type\": \"Feature\", \"geometry\": {\"type\": \"Point\", \"coordinates\": [-80.4243796, 25.7591234]}}, {\"name\": \"PT #10073\", \"street\": \"3085 45th Street\", \"city\": \"West Palm Beach\", \"state\": \"FL\", \"zip\": \"33407\", \"latitude\": 26.7599071, \"longitude\": -80.0998887, \"phone\": \"(561) 689-3562\", \"slug\": \"pollo-tropical-45th-streetwest-palm-beach-fl\", \"state_name\": \"Florida\", \"brand\": \"Pollo Tropical\", \"updated\": \"2024-03-09\", \"type\": \"Feature\", \"geometry\": {\"type\": \"Point\", \"coordinates\": [-80.0998887, 26.7599071]}}, {\"name\": \"PT #10074\", \"street\": \"601 W Hallandale Beach Blvd\", \"city\": \"Hallandale Beach\", \"state\": \"FL\", \"zip\": \"33009\", \"latitude\": 25.985026, \"longitude\": -80.1543932, \"phone\": \"(954) 458-6767\", \"slug\": \"pollo-tropical-whallandale-bchbvdhldl-bch-fl\", \"state_name\": \"Florida\", \"brand\": \"Pollo Tropical\", \"updated\": \"2024-03-09\", \"type\": \"Feature\", \"geometry\": {\"type\": \"Point\", \"coordinates\": [-80.1543932, 25.985026]}}, {\"name\": \"PT #10075\", \"street\": \"7785 South Dixie Highway\", \"city\": \"West Palm Beach\", \"state\": \"FL\", \"zip\": \"33405\", \"latitude\": 26.649243, \"longitude\": -80.0566793, \"phone\": \"(561) 202-0037\", \"slug\": \"pollo-tropical-s-dixie-hwayw-palm-beach-fl\", \"state_name\": \"Florida\", \"brand\": \"Pollo Tropical\", \"updated\": \"2024-03-09\", \"type\": \"Feature\", \"geometry\": {\"type\": \"Point\", \"coordinates\": [-80.0566793, 26.649243]}}, {\"name\": \"PT #10076\", \"street\": \"1001 W. P. Ball Boulevard\", \"city\": \"Sanford\", \"state\": \"FL\", \"zip\": \"32771\", \"latitude\": 28.7991709, \"longitude\": -81.3385728, \"phone\": \"(407) 322-3977\", \"slug\": \"pollo-tropical-wp-ball-blvdsanford-fl\", \"state_name\": \"Florida\", \"brand\": \"Pollo Tropical\", \"updated\": \"2024-03-09\", \"type\": \"Feature\", \"geometry\": {\"type\": \"Point\", \"coordinates\": [-81.3385728, 28.7991709]}}, {\"name\": \"PT #10080\", \"street\": \"1652 NE Pine Island Rd\", \"city\": \"Cape Coral\", \"state\": \"FL\", \"zip\": \"33909\", \"latitude\": 26.6675704, \"longitude\": -81.9391945, \"phone\": \"(239) 772-1644\", \"slug\": \"pollo-tropical-ne-pine-is-rdcape-coral-fl\", \"state_name\": \"Florida\", \"brand\": \"Pollo Tropical\", \"updated\": \"2024-03-09\", \"type\": \"Feature\", \"geometry\": {\"type\": \"Point\", \"coordinates\": [-81.9391945, 26.6675704]}}, {\"name\": \"PT #10082\", \"street\": \"1985 East Osceola Parkway\", \"city\": \"Kissimmee\", \"state\": \"FL\", \"zip\": \"34744\", \"latitude\": 28.3453928, \"longitude\": -81.3640017, \"phone\": \"(407) 348-1222\", \"slug\": \"pollo-tropical-east-osceola-pkwykissimmee-fl\", \"state_name\": \"Florida\", \"brand\": \"Pollo Tropical\", \"updated\": \"2024-03-09\", \"type\": \"Feature\", \"geometry\": {\"type\": \"Point\", \"coordinates\": [-81.3640017, 28.3453928]}}, {\"name\": \"PT #10083\", \"street\": \"3900 Park Blvd\", \"city\": \"Pinellas Park\", \"state\": \"FL\", \"zip\": \"33781\", \"latitude\": 27.8387988, \"longitude\": -82.6869274, \"phone\": \"(727) 525-3294\", \"slug\": \"pollo-tropical-park-blvdpinellas-park-fl\", \"state_name\": \"Florida\", \"brand\": \"Pollo Tropical\", \"updated\": \"2024-03-09\", \"type\": \"Feature\", \"geometry\": {\"type\": \"Point\", \"coordinates\": [-82.6869274, 27.8387988]}}, {\"name\": \"PT #10084\", \"street\": \"3285 West Hillsborough Ave\", \"city\": \"Tampa\", \"state\": \"FL\", \"zip\": \"33614\", \"latitude\": 27.9964417, \"longitude\": -82.4965212, \"phone\": \"(813) 870-7235\", \"slug\": \"pollo-tropical-w-hillsborough-avetampa-fl\", \"state_name\": \"Florida\", \"brand\": \"Pollo Tropical\", \"updated\": \"2024-03-09\", \"type\": \"Feature\", \"geometry\": {\"type\": \"Point\", \"coordinates\": [-82.4965212, 27.9964417]}}, {\"name\": \"PT #10086\", \"street\": \"8301 Red Bud Lake Rd\", \"city\": \"Oviedo\", \"state\": \"FL\", \"zip\": \"32765\", \"latitude\": 28.6551794, \"longitude\": -81.228605, \"phone\": \"(407) 977-5719\", \"slug\": \"pollo-tropical-red-bud-lake-rdoviedo-fl\", \"state_name\": \"Florida\", \"brand\": \"Pollo Tropical\", \"updated\": \"2024-03-09\", \"type\": \"Feature\", \"geometry\": {\"type\": \"Point\", \"coordinates\": [-81.228605, 28.6551794]}}, {\"name\": \"PT #10087\", \"street\": \"5065 Golden Gate Parkway\", \"city\": \"Naples\", \"state\": \"FL\", \"zip\": \"34116\", \"latitude\": 26.1795482, \"longitude\": -81.7082202, \"phone\": \"(239) 304-0629\", \"slug\": \"pollo-tropical-golden-gate-pkynaples-fl\", \"state_name\": \"Florida\", \"brand\": \"Pollo Tropical\", \"updated\": \"2024-03-09\", \"type\": \"Feature\", \"geometry\": {\"type\": \"Point\", \"coordinates\": [-81.7082202, 26.1795482]}}, {\"name\": \"PT #10088\", \"street\": \"6276 W Waters Ave\", \"city\": \"Tampa\", \"state\": \"FL\", \"zip\": \"33634\", \"latitude\": 28.0252224, \"longitude\": -82.5472857, \"phone\": \"(813) 880-7167\", \"slug\": \"pollo-tropical-w-waters-avetampa-fl\", \"state_name\": \"Florida\", \"brand\": \"Pollo Tropical\", \"updated\": \"2024-03-09\", \"type\": \"Feature\", \"geometry\": {\"type\": \"Point\", \"coordinates\": [-82.5472857, 28.0252224]}}, {\"name\": \"PT #10089\", \"street\": \"19700 NW 27th Ave\", \"city\": \"Miami Gardens\", \"state\": \"FL\", \"zip\": \"33056\", \"latitude\": 25.9531796, \"longitude\": -80.2463478, \"phone\": \"(305) 622-6687\", \"slug\": \"pollo-tropical-nw-27-avemiami-gardens-fl\", \"state_name\": \"Florida\", \"brand\": \"Pollo Tropical\", \"updated\": \"2024-03-09\", \"type\": \"Feature\", \"geometry\": {\"type\": \"Point\", \"coordinates\": [-80.2463478, 25.9531796]}}, {\"name\": \"PT #10090\", \"street\": \"5780 S. University Dr\", \"city\": \"Davie\", \"state\": \"FL\", \"zip\": \"33314\", \"latitude\": 26.0485827, \"longitude\": -80.2510811, \"phone\": \"(954) 252-8434\", \"slug\": \"pollo-tropical-sterling-s-univ-drdavie-fl\", \"state_name\": \"Florida\", \"brand\": \"Pollo Tropical\", \"updated\": \"2024-03-09\", \"type\": \"Feature\", \"geometry\": {\"type\": \"Point\", \"coordinates\": [-80.2510811, 26.0485827]}}]}}, {\"mode\": \"vega-lite\"});\n",
       "</script>"
      ],
      "text/plain": [
       "alt.LayerChart(...)"
      ]
     },
     "execution_count": 19,
     "metadata": {},
     "output_type": "execute_result"
    }
   ],
   "source": [
    "points = (\n",
    "    alt.Chart(gdf)\n",
    "    .mark_circle(size=5, color=color)\n",
    "    .encode(\n",
    "        longitude=\"longitude:Q\",\n",
    "        latitude=\"latitude:Q\",\n",
    "    )\n",
    ")\n",
    "\n",
    "point_map = background + points\n",
    "point_map.configure_view(stroke=None)"
   ]
  },
  {
   "cell_type": "markdown",
   "id": "0a1fbe27-c0ed-4536-822f-ff6d64d9a78a",
   "metadata": {},
   "source": [
    "#### Location proportional symbols map"
   ]
  },
  {
   "cell_type": "code",
   "execution_count": 20,
   "id": "6cdad978-98db-4088-9286-662c92824fd5",
   "metadata": {},
   "outputs": [
    {
     "data": {
      "text/html": [
       "\n",
       "<style>\n",
       "  #altair-viz-b36280945a5e4b6eadc660f651b66f99.vega-embed {\n",
       "    width: 100%;\n",
       "    display: flex;\n",
       "  }\n",
       "\n",
       "  #altair-viz-b36280945a5e4b6eadc660f651b66f99.vega-embed details,\n",
       "  #altair-viz-b36280945a5e4b6eadc660f651b66f99.vega-embed details summary {\n",
       "    position: relative;\n",
       "  }\n",
       "</style>\n",
       "<div id=\"altair-viz-b36280945a5e4b6eadc660f651b66f99\"></div>\n",
       "<script type=\"text/javascript\">\n",
       "  var VEGA_DEBUG = (typeof VEGA_DEBUG == \"undefined\") ? {} : VEGA_DEBUG;\n",
       "  (function(spec, embedOpt){\n",
       "    let outputDiv = document.currentScript.previousElementSibling;\n",
       "    if (outputDiv.id !== \"altair-viz-b36280945a5e4b6eadc660f651b66f99\") {\n",
       "      outputDiv = document.getElementById(\"altair-viz-b36280945a5e4b6eadc660f651b66f99\");\n",
       "    }\n",
       "    const paths = {\n",
       "      \"vega\": \"https://cdn.jsdelivr.net/npm/vega@5?noext\",\n",
       "      \"vega-lib\": \"https://cdn.jsdelivr.net/npm/vega-lib?noext\",\n",
       "      \"vega-lite\": \"https://cdn.jsdelivr.net/npm/vega-lite@5.16.3?noext\",\n",
       "      \"vega-embed\": \"https://cdn.jsdelivr.net/npm/vega-embed@6?noext\",\n",
       "    };\n",
       "\n",
       "    function maybeLoadScript(lib, version) {\n",
       "      var key = `${lib.replace(\"-\", \"\")}_version`;\n",
       "      return (VEGA_DEBUG[key] == version) ?\n",
       "        Promise.resolve(paths[lib]) :\n",
       "        new Promise(function(resolve, reject) {\n",
       "          var s = document.createElement('script');\n",
       "          document.getElementsByTagName(\"head\")[0].appendChild(s);\n",
       "          s.async = true;\n",
       "          s.onload = () => {\n",
       "            VEGA_DEBUG[key] = version;\n",
       "            return resolve(paths[lib]);\n",
       "          };\n",
       "          s.onerror = () => reject(`Error loading script: ${paths[lib]}`);\n",
       "          s.src = paths[lib];\n",
       "        });\n",
       "    }\n",
       "\n",
       "    function showError(err) {\n",
       "      outputDiv.innerHTML = `<div class=\"error\" style=\"color:red;\">${err}</div>`;\n",
       "      throw err;\n",
       "    }\n",
       "\n",
       "    function displayChart(vegaEmbed) {\n",
       "      vegaEmbed(outputDiv, spec, embedOpt)\n",
       "        .catch(err => showError(`Javascript Error: ${err.message}<br>This usually means there's a typo in your chart specification. See the javascript console for the full traceback.`));\n",
       "    }\n",
       "\n",
       "    if(typeof define === \"function\" && define.amd) {\n",
       "      requirejs.config({paths});\n",
       "      require([\"vega-embed\"], displayChart, err => showError(`Error loading script: ${err.message}`));\n",
       "    } else {\n",
       "      maybeLoadScript(\"vega\", \"5\")\n",
       "        .then(() => maybeLoadScript(\"vega-lite\", \"5.16.3\"))\n",
       "        .then(() => maybeLoadScript(\"vega-embed\", \"6\"))\n",
       "        .catch(showError)\n",
       "        .then(() => displayChart(vegaEmbed));\n",
       "    }\n",
       "  })({\"config\": {\"view\": {\"continuousWidth\": 300, \"continuousHeight\": 300, \"stroke\": null}}, \"layer\": [{\"data\": {\"url\": \"https://cdn.jsdelivr.net/npm/vega-datasets@v1.29.0/data/us-10m.json\", \"format\": {\"feature\": \"states\", \"type\": \"topojson\"}}, \"mark\": {\"type\": \"geoshape\", \"fill\": \"#e9e9e9\", \"stroke\": \"white\"}, \"projection\": {\"type\": \"albersUsa\"}, \"title\": \"Pollo Tropical locations\"}, {\"data\": {\"name\": \"data-206b552724d6c83fd1b8c7fa888e1722\"}, \"mark\": {\"type\": \"circle\"}, \"encoding\": {\"color\": {\"value\": \"#547352\"}, \"latitude\": {\"field\": \"latitude\", \"type\": \"quantitative\"}, \"longitude\": {\"field\": \"longitude\", \"type\": \"quantitative\"}, \"size\": {\"field\": \"count\", \"title\": \"Count by state\", \"type\": \"quantitative\"}, \"tooltip\": [{\"field\": \"state\", \"type\": \"nominal\"}, {\"field\": \"count\", \"type\": \"quantitative\"}]}, \"title\": \"Number of Pollo Tropical in US, by average lon/lat of locations\", \"transform\": [{\"aggregate\": [{\"op\": \"mean\", \"field\": \"latitude\", \"as\": \"latitude\"}, {\"op\": \"mean\", \"field\": \"longitude\", \"as\": \"longitude\"}, {\"op\": \"count\", \"as\": \"count\"}], \"groupby\": [\"state\"]}]}], \"height\": 500, \"width\": 800, \"$schema\": \"https://vega.github.io/schema/vega-lite/v5.16.3.json\", \"datasets\": {\"data-206b552724d6c83fd1b8c7fa888e1722\": [{\"name\": \"PT #10091\", \"street\": \"3224 East Colonial Dr\", \"city\": \"Orlando\", \"state\": \"FL\", \"zip\": \"32803\", \"latitude\": 28.5529905, \"longitude\": -81.3425627, \"phone\": \"(407) 228-2242\", \"slug\": \"pollo-tropical-e-colonial-drorlando-fl\", \"state_name\": \"Florida\", \"brand\": \"Pollo Tropical\", \"updated\": \"2024-03-09\", \"type\": \"Feature\", \"geometry\": {\"type\": \"Point\", \"coordinates\": [-81.3425627, 28.5529905]}}, {\"name\": \"PT #10092\", \"street\": \"2611 Okeechobee Blvd.\", \"city\": \"W. Palm Beach\", \"state\": \"FL\", \"zip\": \"33409\", \"latitude\": 26.7070135, \"longitude\": -80.0928196, \"phone\": \"(561) 688-0578\", \"slug\": \"pollo-tropical-okeechobee-blvdw-palm-bch-fl\", \"state_name\": \"Florida\", \"brand\": \"Pollo Tropical\", \"updated\": \"2024-03-09\", \"type\": \"Feature\", \"geometry\": {\"type\": \"Point\", \"coordinates\": [-80.0928196, 26.7070135]}}, {\"name\": \"PT #10098\", \"street\": \"3777 East Tamiami Trail\", \"city\": \"Naples\", \"state\": \"FL\", \"zip\": \"34112\", \"latitude\": 26.1209857, \"longitude\": -81.7595816, \"phone\": \"(239) 417-2708\", \"slug\": \"pollo-tropical-east-tamiami-trailnaples-fl\", \"state_name\": \"Florida\", \"brand\": \"Pollo Tropical\", \"updated\": \"2024-03-09\", \"type\": \"Feature\", \"geometry\": {\"type\": \"Point\", \"coordinates\": [-81.7595816, 26.1209857]}}, {\"name\": \"PT #10099\", \"street\": \"8096 West McNab Rd\", \"city\": \"N Lauderdale\", \"state\": \"FL\", \"zip\": \"33068\", \"latitude\": 26.2079325, \"longitude\": -80.2359216, \"phone\": \"(954) 721-2497\", \"slug\": \"pollo-tropical-west-mcnab-rdn-lauderdale-fl\", \"state_name\": \"Florida\", \"brand\": \"Pollo Tropical\", \"updated\": \"2024-03-09\", \"type\": \"Feature\", \"geometry\": {\"type\": \"Point\", \"coordinates\": [-80.2359216, 26.2079325]}}, {\"name\": \"PT #10104\", \"street\": \"4863 Gate Parkway\", \"city\": \"Jacksonville\", \"state\": \"FL\", \"zip\": \"32246\", \"latitude\": 30.2536881, \"longitude\": -81.5355368, \"phone\": \"(904) 646-9707\", \"slug\": \"pollo-tropical-gate-parkwayjacksonville-fl\", \"state_name\": \"Florida\", \"brand\": \"Pollo Tropical\", \"updated\": \"2024-03-09\", \"type\": \"Feature\", \"geometry\": {\"type\": \"Point\", \"coordinates\": [-81.5355368, 30.2536881]}}, {\"name\": \"PT #10106\", \"street\": \"10989 San Jose Blvd\", \"city\": \"Jacksonville\", \"state\": \"FL\", \"zip\": \"32223\", \"latitude\": 30.1766931, \"longitude\": -81.6273181, \"phone\": \"(904) 288-5990\", \"slug\": \"pollo-tropical-san-jose-blvdjacksonville-fl\", \"state_name\": \"Florida\", \"brand\": \"Pollo Tropical\", \"updated\": \"2024-03-09\", \"type\": \"Feature\", \"geometry\": {\"type\": \"Point\", \"coordinates\": [-81.6273181, 30.1766931]}}, {\"name\": \"PT #10108\", \"street\": \"730 Skymarks Dr\", \"city\": \"Jacksonville\", \"state\": \"FL\", \"zip\": \"32218\", \"latitude\": 30.4805537, \"longitude\": -81.6359803, \"phone\": \"(904) 757-2148\", \"slug\": \"pollo-tropical-skymarks-drjacksonville-fl\", \"state_name\": \"Florida\", \"brand\": \"Pollo Tropical\", \"updated\": \"2024-03-09\", \"type\": \"Feature\", \"geometry\": {\"type\": \"Point\", \"coordinates\": [-81.6359803, 30.4805537]}}, {\"name\": \"PT #10109\", \"street\": \"12000 NW 7th Ave.\", \"city\": \"N Miami\", \"state\": \"FL\", \"zip\": \"33168\", \"latitude\": 25.8849333, \"longitude\": -80.2109985, \"phone\": \"(305) 685-2179\", \"slug\": \"pollo-tropical-nw-7th-aven-miami-fl\", \"state_name\": \"Florida\", \"brand\": \"Pollo Tropical\", \"updated\": \"2024-03-09\", \"type\": \"Feature\", \"geometry\": {\"type\": \"Point\", \"coordinates\": [-80.2109985, 25.8849333]}}, {\"name\": \"PT #10110\", \"street\": \"6704 Fores Hill Blvd\", \"city\": \"Greenacres\", \"state\": \"FL\", \"zip\": \"33413\", \"latitude\": 26.6507663, \"longitude\": -80.1458894, \"phone\": \"(561) 434-9665\", \"slug\": \"pollo-tropical-forest-hill-blvdgreenacres-fl\", \"state_name\": \"Florida\", \"brand\": \"Pollo Tropical\", \"updated\": \"2024-03-09\", \"type\": \"Feature\", \"geometry\": {\"type\": \"Point\", \"coordinates\": [-80.1458894, 26.6507663]}}, {\"name\": \"PT #10112\", \"street\": \"4335 Norfolk Parkway\", \"city\": \"West Melbourne\", \"state\": \"FL\", \"zip\": \"32904\", \"latitude\": 28.0361279, \"longitude\": -80.6612599, \"phone\": \"(321) 952-6977\", \"slug\": \"pollo-tropical-norfolk-pkwywest-melbourne-fl\", \"state_name\": \"Florida\", \"brand\": \"Pollo Tropical\", \"updated\": \"2024-03-09\", \"type\": \"Feature\", \"geometry\": {\"type\": \"Point\", \"coordinates\": [-80.6612599, 28.0361279]}}, {\"name\": \"PT #10113\", \"street\": \"17804 Ben Hill Griffin Parkway\", \"city\": \"Ft Myers\", \"state\": \"FL\", \"zip\": \"33913\", \"latitude\": 26.4844367, \"longitude\": -81.7849819, \"phone\": \"(239) 433-4028\", \"slug\": \"pollo-tropical-ben-hill-griffinft-myers-fl\", \"state_name\": \"Florida\", \"brand\": \"Pollo Tropical\", \"updated\": \"2024-03-09\", \"type\": \"Feature\", \"geometry\": {\"type\": \"Point\", \"coordinates\": [-81.7849819, 26.4844367]}}, {\"name\": \"PT #10117\", \"street\": \"2320 N Federal Highway\", \"city\": \"Pompano Beach\", \"state\": \"FL\", \"zip\": \"33064\", \"latitude\": 26.2596253, \"longitude\": -80.0991262, \"phone\": \"(954) 946-9592\", \"slug\": \"pollo-tropical-n-federal-hwypompano-beach-fl\", \"state_name\": \"Florida\", \"brand\": \"Pollo Tropical\", \"updated\": \"2024-03-09\", \"type\": \"Feature\", \"geometry\": {\"type\": \"Point\", \"coordinates\": [-80.0991262, 26.2596253]}}, {\"name\": \"PT #10119\", \"street\": \"2200 SE Federal Highway\", \"city\": \"Stuart\", \"state\": \"FL\", \"zip\": \"34994\", \"latitude\": 27.1783313, \"longitude\": -80.2379038, \"phone\": \"(772) 287-2891\", \"slug\": \"pollo-tropical-se-federal-highwaystuart-fl\", \"state_name\": \"Florida\", \"brand\": \"Pollo Tropical\", \"updated\": \"2024-03-09\", \"type\": \"Feature\", \"geometry\": {\"type\": \"Point\", \"coordinates\": [-80.2379038, 27.1783313]}}, {\"name\": \"PT #10120\", \"street\": \"828 Providence Rd\", \"city\": \"Brandon\", \"state\": \"FL\", \"zip\": \"33511\", \"latitude\": 27.9251247, \"longitude\": -82.3171878, \"phone\": \"(813) 681-2679\", \"slug\": \"pollo-tropical-providence-rdbrandon-fl\", \"state_name\": \"Florida\", \"brand\": \"Pollo Tropical\", \"updated\": \"2024-03-09\", \"type\": \"Feature\", \"geometry\": {\"type\": \"Point\", \"coordinates\": [-82.3171878, 27.9251247]}}, {\"name\": \"PT #10122\", \"street\": \"15298 N Dale Mabry Highway\", \"city\": \"Tampa\", \"state\": \"FL\", \"zip\": \"33618\", \"latitude\": 28.0891289, \"longitude\": -82.5039745, \"phone\": \"(813) 961-0379\", \"slug\": \"pollo-tropical-n-dale-mabry-highwaytampa-fl\", \"state_name\": \"Florida\", \"brand\": \"Pollo Tropical\", \"updated\": \"2024-03-09\", \"type\": \"Feature\", \"geometry\": {\"type\": \"Point\", \"coordinates\": [-82.5039745, 28.0891289]}}, {\"name\": \"PT #10124\", \"street\": \"5425 W Atlantic Blvd\", \"city\": \"Margate\", \"state\": \"FL\", \"zip\": \"33063\", \"latitude\": 26.2357443, \"longitude\": -80.2004519, \"phone\": \"(954) 977-3714\", \"slug\": \"pollo-tropical-w-atlantic-blvdmargate-fl\", \"state_name\": \"Florida\", \"brand\": \"Pollo Tropical\", \"updated\": \"2024-03-09\", \"type\": \"Feature\", \"geometry\": {\"type\": \"Point\", \"coordinates\": [-80.2004519, 26.2357443]}}, {\"name\": \"PT #10125\", \"street\": \"18390 SW 137th Ave\", \"city\": \"Miami\", \"state\": \"FL\", \"zip\": \"33187\", \"latitude\": 25.5968257, \"longitude\": -80.4139388, \"phone\": \"(305) 253-8235\", \"slug\": \"pollo-tropical-sw-137th-avemiami-fl-2\", \"state_name\": \"Florida\", \"brand\": \"Pollo Tropical\", \"updated\": \"2024-03-09\", \"type\": \"Feature\", \"geometry\": {\"type\": \"Point\", \"coordinates\": [-80.4139388, 25.5968257]}}, {\"name\": \"PT #10126\", \"street\": \"6195 South Jog Road\", \"city\": \"Lake Worth\", \"state\": \"FL\", \"zip\": \"33467\", \"latitude\": 26.586793, \"longitude\": -80.1467398, \"phone\": \"(561) 966-2782\", \"slug\": \"pollo-tropical-south-jog-rdlake-worth-fl\", \"state_name\": \"Florida\", \"brand\": \"Pollo Tropical\", \"updated\": \"2024-03-09\", \"type\": \"Feature\", \"geometry\": {\"type\": \"Point\", \"coordinates\": [-80.1467398, 26.586793]}}, {\"name\": \"PT #10128\", \"street\": \"7845 W. Hialeah Gardens Blvd.\", \"city\": \"Hialeah\", \"state\": \"FL\", \"zip\": \"33018\", \"latitude\": 25.8938525, \"longitude\": -80.3507044, \"phone\": \"(305) 821-8535\", \"slug\": \"pollo-tropical-hialeah-gardenshialeah-fl\", \"state_name\": \"Florida\", \"brand\": \"Pollo Tropical\", \"updated\": \"2024-03-09\", \"type\": \"Feature\", \"geometry\": {\"type\": \"Point\", \"coordinates\": [-80.3507044, 25.8938525]}}, {\"name\": \"PT #10129\", \"street\": \"7090 Coral Way\", \"city\": \"Miami\", \"state\": \"FL\", \"zip\": \"33155\", \"latitude\": 25.7476507, \"longitude\": -80.3102832, \"phone\": \"(305) 261-6021\", \"slug\": \"pollo-tropical-coral-terracemiami-fl\", \"state_name\": \"Florida\", \"brand\": \"Pollo Tropical\", \"updated\": \"2024-03-09\", \"type\": \"Feature\", \"geometry\": {\"type\": \"Point\", \"coordinates\": [-80.3102832, 25.7476507]}}, {\"name\": \"PT #10130\", \"street\": \"12611 S. Cleveland Avenue\", \"city\": \"Ft. Myers\", \"state\": \"FL\", \"zip\": \"33907\", \"latitude\": 26.5592074, \"longitude\": -81.8711365, \"phone\": \"(239) 275-1118\", \"slug\": \"pollo-tropical-s-cleveland-aveft-myers-fl\", \"state_name\": \"Florida\", \"brand\": \"Pollo Tropical\", \"updated\": \"2024-03-09\", \"type\": \"Feature\", \"geometry\": {\"type\": \"Point\", \"coordinates\": [-81.8711365, 26.5592074]}}, {\"name\": \"PT #10131\", \"street\": \"1780 Sheridan St\", \"city\": \"Hollywood\", \"state\": \"FL\", \"zip\": \"33020\", \"latitude\": 26.0330639, \"longitude\": -80.1425707, \"phone\": \"(954) 927-4732\", \"slug\": \"pollo-tropical-1780-sheridan-sthollywood-fl\", \"state_name\": \"Florida\", \"brand\": \"Pollo Tropical\", \"updated\": \"2024-03-09\", \"type\": \"Feature\", \"geometry\": {\"type\": \"Point\", \"coordinates\": [-80.1425707, 26.0330639]}}, {\"name\": \"PT #10133\", \"street\": \"8051 Dani Drive\", \"city\": \"Ft. Myers\", \"state\": \"FL\", \"zip\": \"33966\", \"latitude\": 26.6080078, \"longitude\": -81.810508, \"phone\": \"(239) 275-1142\", \"slug\": \"pollo-tropical-9321-ben-c-prattfort-myers-fl\", \"state_name\": \"Florida\", \"brand\": \"Pollo Tropical\", \"updated\": \"2024-03-09\", \"type\": \"Feature\", \"geometry\": {\"type\": \"Point\", \"coordinates\": [-81.810508, 26.6080078]}}, {\"name\": \"PT #10138\", \"street\": \"14683 S. Military Trail\", \"city\": \"Delray Beach\", \"state\": \"FL\", \"zip\": \"33484\", \"latitude\": 26.4583581, \"longitude\": -80.1240809, \"phone\": \"(561) 495-5225\", \"slug\": \"pollo-tropical-s-militarydelray-beach-fl\", \"state_name\": \"Florida\", \"brand\": \"Pollo Tropical\", \"updated\": \"2024-03-09\", \"type\": \"Feature\", \"geometry\": {\"type\": \"Point\", \"coordinates\": [-80.1240809, 26.4583581]}}, {\"name\": \"PT #10148\", \"street\": \"20403 Biscayne Blvd\", \"city\": \"Aventura\", \"state\": \"FL\", \"zip\": \"33180\", \"latitude\": 25.9647899, \"longitude\": -80.1459394, \"phone\": \"(305) 935-9520\", \"slug\": \"pollo-tropical-20403-biscayneaventura-fl\", \"state_name\": \"Florida\", \"brand\": \"Pollo Tropical\", \"updated\": \"2024-03-09\", \"type\": \"Feature\", \"geometry\": {\"type\": \"Point\", \"coordinates\": [-80.1459394, 25.9647899]}}, {\"name\": \"PT #10150\", \"street\": \"1277 SW 8th Street\", \"city\": \"Miami\", \"state\": \"FL\", \"zip\": \"33135\", \"latitude\": 25.7660579, \"longitude\": -80.2158703, \"phone\": \"(305) 856-9221\", \"slug\": \"pollo-tropical-sw-8th-stlittle-havana-fl\", \"state_name\": \"Florida\", \"brand\": \"Pollo Tropical\", \"updated\": \"2024-03-09\", \"type\": \"Feature\", \"geometry\": {\"type\": \"Point\", \"coordinates\": [-80.2158703, 25.7660579]}}, {\"name\": \"PT #10151\", \"street\": \"311 S. State Road 7\", \"city\": \"Hollywood\", \"state\": \"FL\", \"zip\": \"33023\", \"latitude\": 26.0072574, \"longitude\": -80.2069238, \"phone\": \"(754) 263-5960\", \"slug\": \"pollo-tropical-hollywood-blv441hollywood-fl\", \"state_name\": \"Florida\", \"brand\": \"Pollo Tropical\", \"updated\": \"2024-03-09\", \"type\": \"Feature\", \"geometry\": {\"type\": \"Point\", \"coordinates\": [-80.2069238, 26.0072574]}}, {\"name\": \"PT #10154\", \"street\": \"7901 W. Irlo Bronson Memorial Hwy\", \"city\": \"Kissimmee\", \"state\": \"FL\", \"zip\": \"34747\", \"latitude\": 28.3475411, \"longitude\": -81.6070604, \"phone\": \"(407) 787-0204\", \"slug\": \"pollo-tropical-us-hwy-192kissimmee-fl\", \"state_name\": \"Florida\", \"brand\": \"Pollo Tropical\", \"updated\": \"2024-03-09\", \"type\": \"Feature\", \"geometry\": {\"type\": \"Point\", \"coordinates\": [-81.6070604, 28.3475411]}}, {\"name\": \"PT #10155\", \"street\": \"8708 Vineland Avenue\", \"city\": \"Orlando\", \"state\": \"FL\", \"zip\": \"32821\", \"latitude\": 28.3792719, \"longitude\": -81.5007035, \"phone\": \"(407) 560-8304\", \"slug\": \"pollo-tropical-vineland-avenueorlando-fl\", \"state_name\": \"Florida\", \"brand\": \"Pollo Tropical\", \"updated\": \"2024-03-09\", \"type\": \"Feature\", \"geometry\": {\"type\": \"Point\", \"coordinates\": [-81.5007035, 28.3792719]}}, {\"name\": \"PT #10159\", \"street\": \"6674 South Semoran Blvd\", \"city\": \"Orlando\", \"state\": \"FL\", \"zip\": \"32822\", \"latitude\": 28.4667246, \"longitude\": -81.3111652, \"phone\": \"(407) 850-9491\", \"slug\": \"pollo-tropical-semoran-blvdorlando-fl\", \"state_name\": \"Florida\", \"brand\": \"Pollo Tropical\", \"updated\": \"2024-03-09\", \"type\": \"Feature\", \"geometry\": {\"type\": \"Point\", \"coordinates\": [-81.3111652, 28.4667246]}}, {\"name\": \"PT #10167\", \"street\": \"23200 S.W. 112 Court\", \"city\": \"Homestead\", \"state\": \"FL\", \"zip\": \"33032\", \"latitude\": 25.5512776, \"longitude\": -80.3725852, \"phone\": \"(786) 501-9925\", \"slug\": \"pollo-tropical-allapattah-rdhomestead-fl\", \"state_name\": \"Florida\", \"brand\": \"Pollo Tropical\", \"updated\": \"2024-03-09\", \"type\": \"Feature\", \"geometry\": {\"type\": \"Point\", \"coordinates\": [-80.3725852, 25.5512776]}}, {\"name\": \"PT #10168\", \"street\": \"21852 S. State Road 7\", \"city\": \"West Boca Raton\", \"state\": \"FL\", \"zip\": \"33432\", \"latitude\": 26.3517862, \"longitude\": -80.2018991, \"phone\": \"(561) 477-2618\", \"slug\": \"pollo-tropical-palmettowest-boca-raton-fl\", \"state_name\": \"Florida\", \"brand\": \"Pollo Tropical\", \"updated\": \"2024-03-09\", \"type\": \"Feature\", \"geometry\": {\"type\": \"Point\", \"coordinates\": [-80.2018991, 26.3517862]}}, {\"name\": \"PT #10181\", \"street\": \"1365 NW St. Lucie West Blvd\", \"city\": \"Port Lucie West\", \"state\": \"FL\", \"zip\": \"34986\", \"latitude\": 27.3164813, \"longitude\": -80.3893944, \"phone\": \"(772) 873-8129\", \"slug\": \"pollo-tropical-nw-stlucieport-lucie-west-fl\", \"state_name\": \"Florida\", \"brand\": \"Pollo Tropical\", \"updated\": \"2024-03-09\", \"type\": \"Feature\", \"geometry\": {\"type\": \"Point\", \"coordinates\": [-80.3893944, 27.3164813]}}, {\"name\": \"PT #10182\", \"street\": \"404 SE 1st Avenue\", \"city\": \"Florida City\", \"state\": \"FL\", \"zip\": \"33034\", \"latitude\": 25.4425106, \"longitude\": -80.4756267, \"phone\": \"(305) 242-0173\", \"slug\": \"pollo-tropical-404-se-1st-avenuehomestead-fl\", \"state_name\": \"Florida\", \"brand\": \"Pollo Tropical\", \"updated\": \"2024-03-09\", \"type\": \"Feature\", \"geometry\": {\"type\": \"Point\", \"coordinates\": [-80.4756267, 25.4425106]}}, {\"name\": \"PT #10184\", \"street\": \"775 Osceola Parkway\", \"city\": \"Kissimmee\", \"state\": \"FL\", \"zip\": \"34741\", \"latitude\": 28.3396688, \"longitude\": -81.4093319, \"phone\": \"(407) 870-0183\", \"slug\": \"pollo-tropical-775-osceola-pkwykissimmee-fl\", \"state_name\": \"Florida\", \"brand\": \"Pollo Tropical\", \"updated\": \"2024-03-09\", \"type\": \"Feature\", \"geometry\": {\"type\": \"Point\", \"coordinates\": [-81.4093319, 28.3396688]}}, {\"name\": \"PT #10190\", \"street\": \"825 E. 49 Street\", \"city\": \"Hialeah\", \"state\": \"FL\", \"zip\": \"33013\", \"latitude\": 25.8676324, \"longitude\": -80.2663249, \"phone\": \"(786) 329-7686\", \"slug\": \"pollo-tropical-825-e-49-streethialeah-fl\", \"state_name\": \"Florida\", \"brand\": \"Pollo Tropical\", \"updated\": \"2024-03-09\", \"type\": \"Feature\", \"geometry\": {\"type\": \"Point\", \"coordinates\": [-80.2663249, 25.8676324]}}, {\"name\": \"PT #10192\", \"street\": \"5757 W. Oakland Park Blvd.\", \"city\": \"Laurdehill\", \"state\": \"FL\", \"zip\": \"33313\", \"latitude\": 26.1653573, \"longitude\": -80.2292123, \"phone\": \"(954) 375-4057\", \"slug\": \"pollo-tropical-w-oakland-parklaurdehill-fl\", \"state_name\": \"Florida\", \"brand\": \"Pollo Tropical\", \"updated\": \"2024-03-09\", \"type\": \"Feature\", \"geometry\": {\"type\": \"Point\", \"coordinates\": [-80.2292123, 26.1653573]}}, {\"name\": \"PT #10199\", \"street\": \"5554 Federal Highway\", \"city\": \"Ft. Lauderdale\", \"state\": \"FL\", \"zip\": \"33308\", \"latitude\": 26.1959068, \"longitude\": -80.1112001, \"phone\": \"(954) 375-4165\", \"slug\": \"pollo-tropical-n-fed-ne-55ftlauderdale-fl\", \"state_name\": \"Florida\", \"brand\": \"Pollo Tropical\", \"updated\": \"2024-03-09\", \"type\": \"Feature\", \"geometry\": {\"type\": \"Point\", \"coordinates\": [-80.1112001, 26.1959068]}}, {\"name\": \"PT #10200\", \"street\": \"25570 Cierra Center Blvd\", \"city\": \"Tampa\", \"state\": \"FL\", \"zip\": \"33559\", \"latitude\": 28.1949125, \"longitude\": -82.3938337, \"phone\": \"(813) 579-1625\", \"slug\": \"pollo-tropical-sr-56-wesley-chapeltampa-fl\", \"state_name\": \"Florida\", \"brand\": \"Pollo Tropical\", \"updated\": \"2024-03-09\", \"type\": \"Feature\", \"geometry\": {\"type\": \"Point\", \"coordinates\": [-82.3938337, 28.1949125]}}, {\"name\": \"PT #10202\", \"street\": \"5415 Fruitville Road\", \"city\": \"Sarasota\", \"state\": \"FL\", \"zip\": \"34232\", \"latitude\": 27.3386391, \"longitude\": -82.4616771, \"phone\": \"(941) 296-6999\", \"slug\": \"pollo-tropical-5415-fruitvillesarasota-fl\", \"state_name\": \"Florida\", \"brand\": \"Pollo Tropical\", \"updated\": \"2024-03-09\", \"type\": \"Feature\", \"geometry\": {\"type\": \"Point\", \"coordinates\": [-82.4616771, 27.3386391]}}, {\"name\": \"PT #10218\", \"street\": \"1446 W. International Speedway Blvd.\", \"city\": \"Daytona Beach\", \"state\": \"FL\", \"zip\": \"32114\", \"latitude\": 29.1965029, \"longitude\": -81.0585179, \"phone\": \"(386) 271-4951\", \"slug\": \"pollo-tropical-1446-w-intldaytona-beach-fl\", \"state_name\": \"Florida\", \"brand\": \"Pollo Tropical\", \"updated\": \"2024-03-09\", \"type\": \"Feature\", \"geometry\": {\"type\": \"Point\", \"coordinates\": [-81.0585179, 29.1965029]}}, {\"name\": \"PT #10223\", \"street\": \"4713 Flamingo Road\", \"city\": \"Cooper City\", \"state\": \"FL\", \"zip\": \"33330\", \"latitude\": 26.062301, \"longitude\": -80.3144122, \"phone\": \"(954) 375-4077\", \"slug\": \"pollo-tropical-4713-flamingocooper-city-fl\", \"state_name\": \"Florida\", \"brand\": \"Pollo Tropical\", \"updated\": \"2024-03-09\", \"type\": \"Feature\", \"geometry\": {\"type\": \"Point\", \"coordinates\": [-80.3144122, 26.062301]}}, {\"name\": \"PT #10224\", \"street\": \"7210 NW 36th Street\", \"city\": \"Miami\", \"state\": \"FL\", \"zip\": \"33166\", \"latitude\": 25.8088138, \"longitude\": -80.3142163, \"phone\": \"(786) 221-1568\", \"slug\": \"pollo-tropical-nw-36-streetmiami-fl\", \"state_name\": \"Florida\", \"brand\": \"Pollo Tropical\", \"updated\": \"2024-03-09\", \"type\": \"Feature\", \"geometry\": {\"type\": \"Point\", \"coordinates\": [-80.3142163, 25.8088138]}}, {\"name\": \"PT #10227\", \"street\": \"50 N. University Drive\", \"city\": \"Plantation\", \"state\": \"FL\", \"zip\": \"33324\", \"latitude\": 26.1217497, \"longitude\": -80.2520516, \"phone\": \"(305) 526-4492\", \"slug\": \"pollo-tropical-broward-university-plantation-fl\", \"state_name\": \"Florida\", \"brand\": \"Pollo Tropical\", \"updated\": \"2024-03-09\", \"type\": \"Feature\", \"geometry\": {\"type\": \"Point\", \"coordinates\": [-80.2520516, 26.1217497]}}, {\"name\": \"PT #10228\", \"street\": \"5294 North International Drive\", \"city\": \"Orlando\", \"state\": \"FL\", \"zip\": \"32819\", \"latitude\": 28.4657879, \"longitude\": -81.4497001, \"phone\": \"(321) 251-6217\", \"slug\": \"pollo-tropical-international-drorlando-fl\", \"state_name\": \"Florida\", \"brand\": \"Pollo Tropical\", \"updated\": \"2024-03-09\", \"type\": \"Feature\", \"geometry\": {\"type\": \"Point\", \"coordinates\": [-81.4497001, 28.4657879]}}, {\"name\": \"PT #10230\", \"street\": \"7501 Biscayne Blvd.\", \"city\": \"Miami\", \"state\": \"FL\", \"zip\": \"33138\", \"latitude\": 25.8442601, \"longitude\": -80.1841282, \"phone\": \"(305) 944-0227\", \"slug\": \"pollo-tropical-ptex-biscayne-75th-miami-fl\", \"state_name\": \"Florida\", \"brand\": \"Pollo Tropical\", \"updated\": \"2024-03-09\", \"type\": \"Feature\", \"geometry\": {\"type\": \"Point\", \"coordinates\": [-80.1841282, 25.8442601]}}, {\"name\": \"PT #10233\", \"street\": \"9993 Tagore Place\", \"city\": \"Orlando\", \"state\": \"FL\", \"zip\": \"32832\", \"latitude\": 28.3891039, \"longitude\": -81.2448919, \"phone\": \"(407) 477-4772\", \"slug\": \"pollo-tropical-lake-nona-orlando-fl\", \"state_name\": \"Florida\", \"brand\": \"Pollo Tropical\", \"updated\": \"2024-03-09\", \"type\": \"Feature\", \"geometry\": {\"type\": \"Point\", \"coordinates\": [-81.2448919, 28.3891039]}}, {\"name\": \"PT #10235\", \"street\": \"5450 Univ Dr\", \"city\": \"Coral Springs\", \"state\": \"FL\", \"zip\": \"33067\", \"latitude\": 26.2969673, \"longitude\": -80.2506673, \"phone\": \"(954) 688-2209\", \"slug\": \"pollo-tropical-5450-univ-dr-coral-springs-fl\", \"state_name\": \"Florida\", \"brand\": \"Pollo Tropical\", \"updated\": \"2024-03-09\", \"type\": \"Feature\", \"geometry\": {\"type\": \"Point\", \"coordinates\": [-80.2506673, 26.2969673]}}, {\"name\": \"PT #10236\", \"street\": \"7401 W 4th Ave\", \"city\": \"HIaleah\", \"state\": \"FL\", \"zip\": \"33014\", \"latitude\": 25.8892181, \"longitude\": -80.2912645, \"phone\": \"(786) 221-0643\", \"slug\": \"pollo-tropical-7405-w-4th-avenuehialeah-fl\", \"state_name\": \"Florida\", \"brand\": \"Pollo Tropical\", \"updated\": \"2024-03-09\", \"type\": \"Feature\", \"geometry\": {\"type\": \"Point\", \"coordinates\": [-80.2912645, 25.8892181]}}, {\"name\": \"PT#10248\", \"street\": \"8851 West Commercial Blvd\", \"city\": \"Tamarac\", \"state\": \"FL\", \"zip\": \"33351\", \"latitude\": 26.1942768, \"longitude\": -80.2696609, \"phone\": \"(954) 716-7947\", \"slug\": \"pt10248\", \"state_name\": \"Florida\", \"brand\": \"Pollo Tropical\", \"updated\": \"2024-03-09\", \"type\": \"Feature\", \"geometry\": {\"type\": \"Point\", \"coordinates\": [-80.2696609, 26.1942768]}}, {\"name\": \"PT #14306 JM\", \"street\": \"1005, 1611 NW 12th Ave\", \"city\": \"Miami\", \"state\": \"FL\", \"zip\": \"33136\", \"latitude\": 25.790187, \"longitude\": -80.212963, \"phone\": \"(407) 573-6112\", \"slug\": \"pt-14306\", \"state_name\": \"Florida\", \"brand\": \"Pollo Tropical\", \"updated\": \"2024-03-09\", \"type\": \"Feature\", \"geometry\": {\"type\": \"Point\", \"coordinates\": [-80.212963, 25.790187]}}, {\"name\": \"PT #10217\", \"street\": \"5101 Fowler Avenue\", \"city\": \"Tampa\", \"state\": \"FL\", \"zip\": \"33617\", \"latitude\": 28.054555, \"longitude\": -82.4295171, \"phone\": \"(813) 773-1382\", \"slug\": \"pt-10217\", \"state_name\": \"Florida\", \"brand\": \"Pollo Tropical\", \"updated\": \"2024-03-09\", \"type\": \"Feature\", \"geometry\": {\"type\": \"Point\", \"coordinates\": [-82.4295171, 28.054555]}}, {\"name\": \"PT #10249\", \"street\": \"16951 Miramar Pkwy\", \"city\": \"Miramar\", \"state\": \"FL\", \"zip\": \"33027\", \"latitude\": 25.9794499, \"longitude\": -80.3733029, \"phone\": \"(954) 488-2225\", \"slug\": \"pt-10249\", \"state_name\": \"Florida\", \"brand\": \"Pollo Tropical\", \"updated\": \"2024-03-09\", \"type\": \"Feature\", \"geometry\": {\"type\": \"Point\", \"coordinates\": [-80.3733029, 25.9794499]}}, {\"name\": \"PT #10254\", \"street\": \"13425 S. Dixie Hwy\", \"city\": \"Pinecrest\", \"state\": \"FL\", \"zip\": \"33156\", \"latitude\": 25.6460258, \"longitude\": -80.3330486, \"phone\": \"(786) 522-3935\", \"slug\": \"pollo-10254\", \"state_name\": \"Florida\", \"brand\": \"Pollo Tropical\", \"updated\": \"2024-03-09\", \"type\": \"Feature\", \"geometry\": {\"type\": \"Point\", \"coordinates\": [-80.3330486, 25.6460258]}}, {\"name\": \"PT #10001\", \"street\": \"741 N. W. 37th Avenue\", \"city\": \"Miami\", \"state\": \"FL\", \"zip\": \"33125\", \"latitude\": 25.7791331, \"longitude\": -80.2549213, \"phone\": \"(305) 541-3161\", \"slug\": \"pollo-tropical-nw-37th-avemiami-fl\", \"state_name\": \"Florida\", \"brand\": \"Pollo Tropical\", \"updated\": \"2024-03-09\", \"type\": \"Feature\", \"geometry\": {\"type\": \"Point\", \"coordinates\": [-80.2549213, 25.7791331]}}, {\"name\": \"PT #10002\", \"street\": \"9520 S. W. 137th Avenue\", \"city\": \"Miami\", \"state\": \"FL\", \"zip\": \"33186\", \"latitude\": 25.6793624, \"longitude\": -80.4170254, \"phone\": \"(305) 388-4406\", \"slug\": \"pollo-tropical-sw-137th-avemiami-fl\", \"state_name\": \"Florida\", \"brand\": \"Pollo Tropical\", \"updated\": \"2024-03-09\", \"type\": \"Feature\", \"geometry\": {\"type\": \"Point\", \"coordinates\": [-80.4170254, 25.6793624]}}, {\"name\": \"PT #10003\", \"street\": \"8975 S. Dixie Highway\", \"city\": \"Miami\", \"state\": \"FL\", \"zip\": \"33156\", \"latitude\": 25.687147, \"longitude\": -80.3100596, \"phone\": \"(305) 662-9035\", \"slug\": \"pollo-tropical-90-s-dixie-hwaymiami-fl\", \"state_name\": \"Florida\", \"brand\": \"Pollo Tropical\", \"updated\": \"2024-03-09\", \"type\": \"Feature\", \"geometry\": {\"type\": \"Point\", \"coordinates\": [-80.3100596, 25.687147]}}, {\"name\": \"PT #10004\", \"street\": \"8700 Bird Road\", \"city\": \"Miami\", \"state\": \"FL\", \"zip\": \"33165\", \"latitude\": 25.732435, \"longitude\": -80.3361514, \"phone\": \"(305) 225-7858\", \"slug\": \"pollo-tropical-bird-roadmiami-fl\", \"state_name\": \"Florida\", \"brand\": \"Pollo Tropical\", \"updated\": \"2024-03-09\", \"type\": \"Feature\", \"geometry\": {\"type\": \"Point\", \"coordinates\": [-80.3361514, 25.732435]}}, {\"name\": \"PT #10005\", \"street\": \"18710 S. Dixie Highway\", \"city\": \"Miami\", \"state\": \"FL\", \"zip\": \"33157\", \"latitude\": 25.5950876, \"longitude\": -80.3562264, \"phone\": \"(305) 254-0666\", \"slug\": \"pollo-tropical-quail-s-dixie-hwaymiami-fl\", \"state_name\": \"Florida\", \"brand\": \"Pollo Tropical\", \"updated\": \"2024-03-09\", \"type\": \"Feature\", \"geometry\": {\"type\": \"Point\", \"coordinates\": [-80.3562264, 25.5950876]}}, {\"name\": \"PT #10006\", \"street\": \"11521 N. Kendall Drive\", \"city\": \"Miami\", \"state\": \"FL\", \"zip\": \"33176\", \"latitude\": 25.6868053, \"longitude\": -80.3803487, \"phone\": \"(305) 596-4775\", \"slug\": \"pollo-tropical-n-kendall-drivemiami-fl\", \"state_name\": \"Florida\", \"brand\": \"Pollo Tropical\", \"updated\": \"2024-03-09\", \"type\": \"Feature\", \"geometry\": {\"type\": \"Point\", \"coordinates\": [-80.3803487, 25.6868053]}}, {\"name\": \"PT #10007\", \"street\": \"1785 N. E. 163rd Street\", \"city\": \"N. Miami Beach\", \"state\": \"FL\", \"zip\": \"33162\", \"latitude\": 25.9263856, \"longitude\": -80.1642697, \"phone\": \"(305) 945-0045\", \"slug\": \"pollo-tropical-ne-163rd-stn-miami-beach-fl\", \"state_name\": \"Florida\", \"brand\": \"Pollo Tropical\", \"updated\": \"2024-03-09\", \"type\": \"Feature\", \"geometry\": {\"type\": \"Point\", \"coordinates\": [-80.1642697, 25.9263856]}}, {\"name\": \"PT #10008\", \"street\": \"4211 N. W. 36th Street\", \"city\": \"Miami Springs\", \"state\": \"FL\", \"zip\": \"33166\", \"latitude\": 25.8086487, \"longitude\": -80.2653668, \"phone\": \"(305) 884-2268\", \"slug\": \"pollo-tropical-nw-36th-stmiami-springs-fl\", \"state_name\": \"Florida\", \"brand\": \"Pollo Tropical\", \"updated\": \"2024-03-09\", \"type\": \"Feature\", \"geometry\": {\"type\": \"Point\", \"coordinates\": [-80.2653668, 25.8086487]}}, {\"name\": \"PT #10009\", \"street\": \"2710 S. Dixie Hwy\", \"city\": \"Miami\", \"state\": \"FL\", \"zip\": \"33133\", \"latitude\": 25.7390438, \"longitude\": -80.2387856, \"phone\": \"(305) 448-9892\", \"slug\": \"pollo-tropical-27-s-dixie-hwaymiami-fl\", \"state_name\": \"Florida\", \"brand\": \"Pollo Tropical\", \"updated\": \"2024-03-09\", \"type\": \"Feature\", \"geometry\": {\"type\": \"Point\", \"coordinates\": [-80.2387856, 25.7390438]}}, {\"name\": \"PT #10010\", \"street\": \"16495 N. W. 67th Avenue\", \"city\": \"Miami Lakes\", \"state\": \"FL\", \"zip\": \"33014\", \"latitude\": 25.9228073, \"longitude\": -80.308732, \"phone\": \"(305) 821-3858\", \"slug\": \"pollo-tropical-nw-67th-avemiami-lakes-fl\", \"state_name\": \"Florida\", \"brand\": \"Pollo Tropical\", \"updated\": \"2024-03-09\", \"type\": \"Feature\", \"geometry\": {\"type\": \"Point\", \"coordinates\": [-80.308732, 25.9228073]}}, {\"name\": \"PT #10011\", \"street\": \"2490 W. 60th Street\", \"city\": \"Hialeah\", \"state\": \"FL\", \"zip\": \"33016\", \"latitude\": 25.8766568, \"longitude\": -80.3331524, \"phone\": \"(305) 828-2032\", \"slug\": \"pollo-tropical-w-60th-sthialeah-fl\", \"state_name\": \"Florida\", \"brand\": \"Pollo Tropical\", \"updated\": \"2024-03-09\", \"type\": \"Feature\", \"geometry\": {\"type\": \"Point\", \"coordinates\": [-80.3331524, 25.8766568]}}, {\"name\": \"PT #10012\", \"street\": \"2011 E. Oakland Park Blvd.\", \"city\": \"Oakland Park\", \"state\": \"FL\", \"zip\": \"33306\", \"latitude\": 26.1675957, \"longitude\": -80.1192604, \"phone\": \"(954) 564-6220\", \"slug\": \"pollo-tropical-e-oakland-pk-blvdoaklnd-pk-fl\", \"state_name\": \"Florida\", \"brand\": \"Pollo Tropical\", \"updated\": \"2024-03-09\", \"type\": \"Feature\", \"geometry\": {\"type\": \"Point\", \"coordinates\": [-80.1192604, 26.1675957]}}, {\"name\": \"PT #10013\", \"street\": \"8299 Pines Blvd.\", \"city\": \"Pembrook Pines\", \"state\": \"FL\", \"zip\": \"33024\", \"latitude\": 26.0096047, \"longitude\": -80.2519522, \"phone\": \"(954) 437-9153\", \"slug\": \"pollo-tropical-83-pinespembroke-pines-fl\", \"state_name\": \"Florida\", \"brand\": \"Pollo Tropical\", \"updated\": \"2024-03-09\", \"type\": \"Feature\", \"geometry\": {\"type\": \"Point\", \"coordinates\": [-80.2519522, 26.0096047]}}, {\"name\": \"PT #10014\", \"street\": \"2298 Congress Avenue\", \"city\": \"Boynton Beach\", \"state\": \"FL\", \"zip\": \"33426\", \"latitude\": 26.5497215, \"longitude\": -80.0901358, \"phone\": \"(561) 364-4313\", \"slug\": \"pollo-tropical-congress-aveboynton-beach-fl\", \"state_name\": \"Florida\", \"brand\": \"Pollo Tropical\", \"updated\": \"2024-03-09\", \"type\": \"Feature\", \"geometry\": {\"type\": \"Point\", \"coordinates\": [-80.0901358, 26.5497215]}}, {\"name\": \"PT #10015\", \"street\": \"11806 Biscayne Blvd.\", \"city\": \"N Miami\", \"state\": \"FL\", \"zip\": \"33181\", \"latitude\": 25.884897, \"longitude\": -80.1655372, \"phone\": \"(305) 895-0274\", \"slug\": \"pollo-tropical-biscayne-blvdmiami-fl\", \"state_name\": \"Florida\", \"brand\": \"Pollo Tropical\", \"updated\": \"2024-03-09\", \"type\": \"Feature\", \"geometry\": {\"type\": \"Point\", \"coordinates\": [-80.1655372, 25.884897]}}, {\"name\": \"PT #10016\", \"street\": \"2390 S. University Drive\", \"city\": \"Davie\", \"state\": \"FL\", \"zip\": \"33324\", \"latitude\": 26.091178, \"longitude\": -80.250654, \"phone\": \"(954) 474-8040\", \"slug\": \"pollo-tropical-s-university-drdavie-fl\", \"state_name\": \"Florida\", \"brand\": \"Pollo Tropical\", \"updated\": \"2024-03-09\", \"type\": \"Feature\", \"geometry\": {\"type\": \"Point\", \"coordinates\": [-80.250654, 26.091178]}}, {\"name\": \"PT #10017\", \"street\": \"4331 Lake Worth Road\", \"city\": \"Lake Worth\", \"state\": \"FL\", \"zip\": \"33461\", \"latitude\": 26.6185924, \"longitude\": -80.1107313, \"phone\": \"(561) 641-7800\", \"slug\": \"pollo-tropical-lake-worth-roadlake-worth-fl\", \"state_name\": \"Florida\", \"brand\": \"Pollo Tropical\", \"updated\": \"2024-03-09\", \"type\": \"Feature\", \"geometry\": {\"type\": \"Point\", \"coordinates\": [-80.1107313, 26.6185924]}}, {\"name\": \"PT #10018\", \"street\": \"1454 Alton Road\", \"city\": \"Miami Beach\", \"state\": \"FL\", \"zip\": \"33139\", \"latitude\": 25.7870823, \"longitude\": -80.1413319, \"phone\": \"(305) 672-8888\", \"slug\": \"pollo-tropical-alton-roadmiami-beach-fl\", \"state_name\": \"Florida\", \"brand\": \"Pollo Tropical\", \"updated\": \"2024-03-09\", \"type\": \"Feature\", \"geometry\": {\"type\": \"Point\", \"coordinates\": [-80.1413319, 25.7870823]}}, {\"name\": \"PT #10019\", \"street\": \"985 N. Homestead Blvd.\", \"city\": \"Homestead\", \"state\": \"FL\", \"zip\": \"33030\", \"latitude\": 25.4793165, \"longitude\": -80.4638098, \"phone\": \"(305) 245-0410\", \"slug\": \"pollo-tropical-n-homestead-blvdhomestead-fl\", \"state_name\": \"Florida\", \"brand\": \"Pollo Tropical\", \"updated\": \"2024-03-09\", \"type\": \"Feature\", \"geometry\": {\"type\": \"Point\", \"coordinates\": [-80.4638098, 25.4793165]}}, {\"name\": \"PT #10020\", \"street\": \"800 University Drive\", \"city\": \"Coral Springs\", \"state\": \"FL\", \"zip\": \"33071\", \"latitude\": 26.2423693, \"longitude\": -80.2546528, \"phone\": \"(954) 345-7922\", \"slug\": \"pollo-tropical-university-drcoral-springs-fl\", \"state_name\": \"Florida\", \"brand\": \"Pollo Tropical\", \"updated\": \"2024-03-09\", \"type\": \"Feature\", \"geometry\": {\"type\": \"Point\", \"coordinates\": [-80.2546528, 26.2423693]}}, {\"name\": \"PT #10021\", \"street\": \"11670 S. W. 152nd Street\", \"city\": \"Miami\", \"state\": \"FL\", \"zip\": \"33157\", \"latitude\": 25.6267297, \"longitude\": -80.3816535, \"phone\": \"(954) 345-7922\", \"slug\": \"pollo-tropical-sw-152nd-stmiami-fl\", \"state_name\": \"Florida\", \"brand\": \"Pollo Tropical\", \"updated\": \"2024-03-09\", \"type\": \"Feature\", \"geometry\": {\"type\": \"Point\", \"coordinates\": [-80.3816535, 25.6267297]}}, {\"name\": \"PT #10022\", \"street\": \"489 FL-436\", \"city\": \"Altamonte Springs\", \"state\": \"FL\", \"zip\": \"32714\", \"latitude\": 28.6623238, \"longitude\": -81.40199, \"phone\": \"(407) 865-6750\", \"slug\": \"pollo-tropical-west-sr-436altamonte-sprgs-fl\", \"state_name\": \"Florida\", \"brand\": \"Pollo Tropical\", \"updated\": \"2024-03-09\", \"type\": \"Feature\", \"geometry\": {\"type\": \"Point\", \"coordinates\": [-81.40199, 28.6623238]}}, {\"name\": \"PT #10024\", \"street\": \"1555 N. W. 87 Avenue\", \"city\": \"Miami\", \"state\": \"FL\", \"zip\": \"33172\", \"latitude\": 25.7882028, \"longitude\": -80.33642, \"phone\": \"(305) 594-7391\", \"slug\": \"pollo-tropical-nw-87th-avemiami-fl\", \"state_name\": \"Florida\", \"brand\": \"Pollo Tropical\", \"updated\": \"2024-03-09\", \"type\": \"Feature\", \"geometry\": {\"type\": \"Point\", \"coordinates\": [-80.33642, 25.7882028]}}, {\"name\": \"PT #10025\", \"street\": \"19911 N. W. 2nd Avenue SR7\", \"city\": \"North Miami\", \"state\": \"FL\", \"zip\": \"33169\", \"latitude\": 25.9583106, \"longitude\": -80.2051857, \"phone\": \"(305) 655-2026\", \"slug\": \"pollo-tropical-nw-2nd-avenorth-miami-fl\", \"state_name\": \"Florida\", \"brand\": \"Pollo Tropical\", \"updated\": \"2024-03-09\", \"type\": \"Feature\", \"geometry\": {\"type\": \"Point\", \"coordinates\": [-80.2051857, 25.9583106]}}, {\"name\": \"PT #10026\", \"street\": \"13998 S. W. 56th Street\", \"city\": \"Miami\", \"state\": \"FL\", \"zip\": \"33175\", \"latitude\": 25.7138728, \"longitude\": -80.4200032, \"phone\": \"(305) 382-1399\", \"slug\": \"pollo-tropical-sw-56th-stmiami-fl\", \"state_name\": \"Florida\", \"brand\": \"Pollo Tropical\", \"updated\": \"2024-03-09\", \"type\": \"Feature\", \"geometry\": {\"type\": \"Point\", \"coordinates\": [-80.4200032, 25.7138728]}}, {\"name\": \"PT #10027\", \"street\": \"11429 Pines Blvd\", \"city\": \"Pembroke Pines\", \"state\": \"FL\", \"zip\": \"33026\", \"latitude\": 26.0082512, \"longitude\": -80.3018731, \"phone\": \"(954) 430-2250\", \"slug\": \"pollo-tropical-hiatuapinespembroke-pines-fl\", \"state_name\": \"Florida\", \"brand\": \"Pollo Tropical\", \"updated\": \"2024-03-09\", \"type\": \"Feature\", \"geometry\": {\"type\": \"Point\", \"coordinates\": [-80.3018731, 26.0082512]}}, {\"name\": \"PT #10030\", \"street\": \"581 N. W. 57th Avenue\", \"city\": \"Miami\", \"state\": \"FL\", \"zip\": \"33126\", \"latitude\": 25.7768487, \"longitude\": -80.2878359, \"phone\": \"(305) 265-6101\", \"slug\": \"pollo-tropical-nw-57th-avemiami-fl\", \"state_name\": \"Florida\", \"brand\": \"Pollo Tropical\", \"updated\": \"2024-03-09\", \"type\": \"Feature\", \"geometry\": {\"type\": \"Point\", \"coordinates\": [-80.2878359, 25.7768487]}}, {\"name\": \"PT #10031\", \"street\": \"12961 W. Sunrise Blvd.\", \"city\": \"Ft. Lauderdale\", \"state\": \"FL\", \"zip\": \"33323\", \"latitude\": 26.146344, \"longitude\": -80.327332, \"phone\": \"(954) 845-0343\", \"slug\": \"pollo-tropical-w-sunrise-blvdft-lauderdle-fl\", \"state_name\": \"Florida\", \"brand\": \"Pollo Tropical\", \"updated\": \"2024-03-09\", \"type\": \"Feature\", \"geometry\": {\"type\": \"Point\", \"coordinates\": [-80.327332, 26.146344]}}, {\"name\": \"PT #10032\", \"street\": \"1811 S. Semoran Blvd.\", \"city\": \"Orlando\", \"state\": \"FL\", \"zip\": \"32822\", \"latitude\": 28.5211168, \"longitude\": -81.3097258, \"phone\": \"(407) 273-2600\", \"slug\": \"pollo-tropical-s-semoran-blvdorlando-fl\", \"state_name\": \"Florida\", \"brand\": \"Pollo Tropical\", \"updated\": \"2024-03-09\", \"type\": \"Feature\", \"geometry\": {\"type\": \"Point\", \"coordinates\": [-81.3097258, 28.5211168]}}, {\"name\": \"PT #10035\", \"street\": \"1819 S. Federal Hwy.\", \"city\": \"Ft. Lauderdale\", \"state\": \"FL\", \"zip\": \"33316\", \"latitude\": 26.0987465, \"longitude\": -80.1370576, \"phone\": \"(954) 764-2141\", \"slug\": \"pollo-tropical-s-federal-hwyft-lauderdale-fl\", \"state_name\": \"Florida\", \"brand\": \"Pollo Tropical\", \"updated\": \"2024-03-09\", \"type\": \"Feature\", \"geometry\": {\"type\": \"Point\", \"coordinates\": [-80.1370576, 26.0987465]}}, {\"name\": \"PT #10038\", \"street\": \"2350 Douglas Road\", \"city\": \"Miami\", \"state\": \"FL\", \"zip\": \"33134\", \"latitude\": 25.7504636, \"longitude\": -80.255023, \"phone\": \"(305) 461-1915\", \"slug\": \"pollo-tropical-douglas-rdcoral-gables-fl\", \"state_name\": \"Florida\", \"brand\": \"Pollo Tropical\", \"updated\": \"2024-03-09\", \"type\": \"Feature\", \"geometry\": {\"type\": \"Point\", \"coordinates\": [-80.255023, 25.7504636]}}, {\"name\": \"PT #10039\", \"street\": \"1592 W. 49 Street\", \"city\": \"Hialeah\", \"state\": \"FL\", \"zip\": \"33012\", \"latitude\": 25.8663199, \"longitude\": -80.3145428, \"phone\": \"(305) 556-8090\", \"slug\": \"pollo-tropical-w-49th-sthialeah-fl\", \"state_name\": \"Florida\", \"brand\": \"Pollo Tropical\", \"updated\": \"2024-03-09\", \"type\": \"Feature\", \"geometry\": {\"type\": \"Point\", \"coordinates\": [-80.3145428, 25.8663199]}}, {\"name\": \"PT #10040\", \"street\": \"5720 Wiles Road\", \"city\": \"Coral Springs\", \"state\": \"FL\", \"zip\": \"33067\", \"latitude\": 26.2842252, \"longitude\": -80.2025657, \"phone\": \"(954) 757-7839\", \"slug\": \"pollo-tropical-wiles-roadcoral-springs-fl\", \"state_name\": \"Florida\", \"brand\": \"Pollo Tropical\", \"updated\": \"2024-03-09\", \"type\": \"Feature\", \"geometry\": {\"type\": \"Point\", \"coordinates\": [-80.2025657, 26.2842252]}}, {\"name\": \"PT #10042\", \"street\": \"5549 Sheridan Street\", \"city\": \"Hollywood\", \"state\": \"FL\", \"zip\": \"33021\", \"latitude\": 26.032834, \"longitude\": -80.19958, \"phone\": \"(954) 987-8976\", \"slug\": \"pollo-tropical-sheridan-sthollywood-fl\", \"state_name\": \"Florida\", \"brand\": \"Pollo Tropical\", \"updated\": \"2024-03-09\", \"type\": \"Feature\", \"geometry\": {\"type\": \"Point\", \"coordinates\": [-80.19958, 26.032834]}}, {\"name\": \"PT #10043\", \"street\": \"2633 Weston Rd.\", \"city\": \"Weston\", \"state\": \"FL\", \"zip\": \"33331\", \"latitude\": 26.0843886, \"longitude\": -80.3717605, \"phone\": \"(954) 389-2572\", \"slug\": \"pollo-tropical-weston-rdweston-fl\", \"state_name\": \"Florida\", \"brand\": \"Pollo Tropical\", \"updated\": \"2024-03-09\", \"type\": \"Feature\", \"geometry\": {\"type\": \"Point\", \"coordinates\": [-80.3717605, 26.0843886]}}, {\"name\": \"PT #10044\", \"street\": \"10575 N. W. 41 Street\", \"city\": \"Miami\", \"state\": \"FL\", \"zip\": \"33178\", \"latitude\": 25.8120481, \"longitude\": -80.3678441, \"phone\": \"(305) 597-4596\", \"slug\": \"pollo-tropical-nw-41st-stmiami-fl\", \"state_name\": \"Florida\", \"brand\": \"Pollo Tropical\", \"updated\": \"2024-03-09\", \"type\": \"Feature\", \"geometry\": {\"type\": \"Point\", \"coordinates\": [-80.3678441, 25.8120481]}}, {\"name\": \"PT #10045\", \"street\": \"2675 N. University Drive\", \"city\": \"Sunrise\", \"state\": \"FL\", \"zip\": \"33322\", \"latitude\": 26.1583473, \"longitude\": -80.2577887, \"phone\": \"(954) 741-5238\", \"slug\": \"pollo-tropical-n-university-drsunrise-fl\", \"state_name\": \"Florida\", \"brand\": \"Pollo Tropical\", \"updated\": \"2024-03-09\", \"type\": \"Feature\", \"geometry\": {\"type\": \"Point\", \"coordinates\": [-80.2577887, 26.1583473]}}, {\"name\": \"PT #10046\", \"street\": \"3499 Biscayne Blvd.\", \"city\": \"Miami\", \"state\": \"FL\", \"zip\": \"33137\", \"latitude\": 25.8091797, \"longitude\": -80.1892065, \"phone\": \"(305) 572-9844\", \"slug\": \"pollo-tropical-biscayneblvd-ne35thmiami-fl\", \"state_name\": \"Florida\", \"brand\": \"Pollo Tropical\", \"updated\": \"2024-03-09\", \"type\": \"Feature\", \"geometry\": {\"type\": \"Point\", \"coordinates\": [-80.1892065, 25.8091797]}}, {\"name\": \"PT #10047\", \"street\": \"16201 S.W. 88 Street\", \"city\": \"Miami\", \"state\": \"FL\", \"zip\": \"33196\", \"latitude\": 25.6845614, \"longitude\": -80.4543918, \"phone\": \"(305) 752-1877\", \"slug\": \"pollo-tropical-sw-88-stmiami-fl\", \"state_name\": \"Florida\", \"brand\": \"Pollo Tropical\", \"updated\": \"2024-03-09\", \"type\": \"Feature\", \"geometry\": {\"type\": \"Point\", \"coordinates\": [-80.4543918, 25.6845614]}}, {\"name\": \"PT #10048\", \"street\": \"3061 Northlake Blvd.\", \"city\": \"Lake Park\", \"state\": \"FL\", \"zip\": \"33403\", \"latitude\": 26.8087637, \"longitude\": -80.0824112, \"phone\": \"(561) 841-3466\", \"slug\": \"pollo-tropical-northlake-blvdlake-park-fl\", \"state_name\": \"Florida\", \"brand\": \"Pollo Tropical\", \"updated\": \"2024-03-09\", \"type\": \"Feature\", \"geometry\": {\"type\": \"Point\", \"coordinates\": [-80.0824112, 26.8087637]}}, {\"name\": \"PT #10049\", \"street\": \"3801 W. Vine Street\", \"city\": \"Kissimmee\", \"state\": \"FL\", \"zip\": \"34741\", \"latitude\": 28.3048796, \"longitude\": -81.4415037, \"phone\": \"(407) 932-4363\", \"slug\": \"pollo-tropical-w-vine-stkissimmee-fl\", \"state_name\": \"Florida\", \"brand\": \"Pollo Tropical\", \"updated\": \"2024-03-09\", \"type\": \"Feature\", \"geometry\": {\"type\": \"Point\", \"coordinates\": [-81.4415037, 28.3048796]}}, {\"name\": \"PT #10050\", \"street\": \"107 North State Road 7\", \"city\": \"Royal Palm Beach\", \"state\": \"FL\", \"zip\": \"33411\", \"latitude\": 26.678187, \"longitude\": -80.203221, \"phone\": \"(561) 795-8818\", \"slug\": \"pollo-tropical-n-state-rd-7royal-palm-bch-fl\", \"state_name\": \"Florida\", \"brand\": \"Pollo Tropical\", \"updated\": \"2024-03-09\", \"type\": \"Feature\", \"geometry\": {\"type\": \"Point\", \"coordinates\": [-80.203221, 26.678187]}}, {\"name\": \"PT #10052\", \"street\": \"7643 W. Colonial Drive\", \"city\": \"Orlando\", \"state\": \"FL\", \"zip\": \"32818\", \"latitude\": 28.5524676, \"longitude\": -81.4885242, \"phone\": \"(407) 293-6118\", \"slug\": \"pollo-tropical-w-colonial-drorlando-fl\", \"state_name\": \"Florida\", \"brand\": \"Pollo Tropical\", \"updated\": \"2024-03-09\", \"type\": \"Feature\", \"geometry\": {\"type\": \"Point\", \"coordinates\": [-81.4885242, 28.5524676]}}, {\"name\": \"PT #10053\", \"street\": \"3051 W. Commercial Blvd.\", \"city\": \"Fort Lauderdale\", \"state\": \"FL\", \"zip\": \"33309\", \"latitude\": 26.1868266, \"longitude\": -80.1864168, \"phone\": \"(954) 484-5273\", \"slug\": \"pollo-tropical-w-commericalft-lauderdale-fl\", \"state_name\": \"Florida\", \"brand\": \"Pollo Tropical\", \"updated\": \"2024-03-09\", \"type\": \"Feature\", \"geometry\": {\"type\": \"Point\", \"coordinates\": [-80.1864168, 26.1868266]}}, {\"name\": \"PT #10054\", \"street\": \"11860 E. Colonial Drive\", \"city\": \"Orlando\", \"state\": \"FL\", \"zip\": \"32826\", \"latitude\": 28.5659495, \"longitude\": -81.2056856, \"phone\": \"(407) 380-1966\", \"slug\": \"pollo-tropical-east-colonial-drorlando-fl\", \"state_name\": \"Florida\", \"brand\": \"Pollo Tropical\", \"updated\": \"2024-03-09\", \"type\": \"Feature\", \"geometry\": {\"type\": \"Point\", \"coordinates\": [-81.2056856, 28.5659495]}}, {\"name\": \"PT #10055\", \"street\": \"11875 S.W. 26 St\", \"city\": \"Miami\", \"state\": \"FL\", \"zip\": \"33175\", \"latitude\": 25.7465465, \"longitude\": -80.3880028, \"phone\": \"(305) 223-8049\", \"slug\": \"pollo-tropical-sw-26th-stmiami-fl\", \"state_name\": \"Florida\", \"brand\": \"Pollo Tropical\", \"updated\": \"2024-03-09\", \"type\": \"Feature\", \"geometry\": {\"type\": \"Point\", \"coordinates\": [-80.3880028, 25.7465465]}}, {\"name\": \"PT #10056\", \"street\": \"14880 S. W. 31 Street\", \"city\": \"Miramar\", \"state\": \"FL\", \"zip\": \"33027\", \"latitude\": 25.9793818, \"longitude\": -80.3449396, \"phone\": \"(954) 431-7998\", \"slug\": \"pollo-tropical-sw-31st-stmiramar-fl\", \"state_name\": \"Florida\", \"brand\": \"Pollo Tropical\", \"updated\": \"2024-03-09\", \"type\": \"Feature\", \"geometry\": {\"type\": \"Point\", \"coordinates\": [-80.3449396, 25.9793818]}}, {\"name\": \"PT #10057\", \"street\": \"2499 N Federal Highway\", \"city\": \"Boca Raton\", \"state\": \"FL\", \"zip\": \"33431\", \"latitude\": 26.3725655, \"longitude\": -80.0769337, \"phone\": \"(561) 395-9751\", \"slug\": \"pollo-tropical-n-federal-hwayboca-raton-fl\", \"state_name\": \"Florida\", \"brand\": \"Pollo Tropical\", \"updated\": \"2024-03-09\", \"type\": \"Feature\", \"geometry\": {\"type\": \"Point\", \"coordinates\": [-80.0769337, 26.3725655]}}, {\"name\": \"PT #10058\", \"street\": \"950 Linton Blvd.\", \"city\": \"Delray Beach\", \"state\": \"FL\", \"zip\": \"33444\", \"latitude\": 26.4392274, \"longitude\": -80.0828694, \"phone\": \"(561) 276-9334\", \"slug\": \"pollo-tropical-linton-blvddelray-beach-fl\", \"state_name\": \"Florida\", \"brand\": \"Pollo Tropical\", \"updated\": \"2024-03-09\", \"type\": \"Feature\", \"geometry\": {\"type\": \"Point\", \"coordinates\": [-80.0828694, 26.4392274]}}, {\"name\": \"PT #10059\", \"street\": \"10705 West Flagler Street\", \"city\": \"Miami\", \"state\": \"FL\", \"zip\": \"33174\", \"latitude\": 25.7686826, \"longitude\": -80.3705885, \"phone\": \"(305) 225-5883\", \"slug\": \"pollo-tropical-west-flager-stmiami-fl\", \"state_name\": \"Florida\", \"brand\": \"Pollo Tropical\", \"updated\": \"2024-03-09\", \"type\": \"Feature\", \"geometry\": {\"type\": \"Point\", \"coordinates\": [-80.3705885, 25.7686826]}}, {\"name\": \"PT #10063\", \"street\": \"2450 W. Atlantic Blvd.\", \"city\": \"Pompano Beach\", \"state\": \"FL\", \"zip\": \"33069\", \"latitude\": 26.2305373, \"longitude\": -80.1552, \"phone\": \"(954) 977-6996\", \"slug\": \"pollo-tropical-watlanticblvdpompano-beach-fl\", \"state_name\": \"Florida\", \"brand\": \"Pollo Tropical\", \"updated\": \"2024-03-09\", \"type\": \"Feature\", \"geometry\": {\"type\": \"Point\", \"coordinates\": [-80.1552, 26.2305373]}}, {\"name\": \"PT #10064\", \"street\": \"1051 S. Military Trail\", \"city\": \"Deerfield Beach\", \"state\": \"FL\", \"zip\": \"33442\", \"latitude\": 26.3036738, \"longitude\": -80.1309293, \"phone\": \"(954) 596-1722\", \"slug\": \"pollo-tropical-s-military-trdeerfield-bch-fl\", \"state_name\": \"Florida\", \"brand\": \"Pollo Tropical\", \"updated\": \"2024-03-09\", \"type\": \"Feature\", \"geometry\": {\"type\": \"Point\", \"coordinates\": [-80.1309293, 26.3036738]}}, {\"name\": \"PT #10065\", \"street\": \"8200 NW 27th Avenue\", \"city\": \"Miami\", \"state\": \"FL\", \"zip\": \"33147\", \"latitude\": 25.8494264, \"longitude\": -80.2423487, \"phone\": \"(305) 835-7233\", \"slug\": \"pollo-tropical-nw-27th-avemiami-fl\", \"state_name\": \"Florida\", \"brand\": \"Pollo Tropical\", \"updated\": \"2024-03-09\", \"type\": \"Feature\", \"geometry\": {\"type\": \"Point\", \"coordinates\": [-80.2423487, 25.8494264]}}, {\"name\": \"PT #10066\", \"street\": \"3094 NE 41st Place\", \"city\": \"Homestead\", \"state\": \"FL\", \"zip\": \"33033\", \"latitude\": 25.4991166, \"longitude\": -80.4138519, \"phone\": \"(305) 247-4909\", \"slug\": \"pollo-tropical-ne-41st-plhomestead-fl\", \"state_name\": \"Florida\", \"brand\": \"Pollo Tropical\", \"updated\": \"2024-03-09\", \"type\": \"Feature\", \"geometry\": {\"type\": \"Point\", \"coordinates\": [-80.4138519, 25.4991166]}}, {\"name\": \"PT #10067\", \"street\": \"4085 Millenia Blvd.\", \"city\": \"Orlando\", \"state\": \"FL\", \"zip\": \"32839\", \"latitude\": 28.49119, \"longitude\": -81.4293363, \"phone\": \"(407) 248-3080\", \"slug\": \"pollo-tropical-millenia-blvdorlando-fl\", \"state_name\": \"Florida\", \"brand\": \"Pollo Tropical\", \"updated\": \"2024-03-09\", \"type\": \"Feature\", \"geometry\": {\"type\": \"Point\", \"coordinates\": [-81.4293363, 28.49119]}}, {\"name\": \"PT #10068\", \"street\": \"1550 Indian Town Rd.\", \"city\": \"Jupiter\", \"state\": \"FL\", \"zip\": \"33458\", \"latitude\": 26.9336351, \"longitude\": -80.1224014, \"phone\": \"(561) 746-4440\", \"slug\": \"pollo-tropical-maplewood-center-jupiter-fl\", \"state_name\": \"Florida\", \"brand\": \"Pollo Tropical\", \"updated\": \"2024-03-09\", \"type\": \"Feature\", \"geometry\": {\"type\": \"Point\", \"coordinates\": [-80.1224014, 26.9336351]}}, {\"name\": \"PT #10069\", \"street\": \"300 North State Rd 7\", \"city\": \"Plantation\", \"state\": \"FL\", \"zip\": \"33317\", \"latitude\": 26.123894, \"longitude\": -80.201655, \"phone\": \"(954) 587-3121\", \"slug\": \"pollo-tropical-north-state-rd-7plantation-fl\", \"state_name\": \"Florida\", \"brand\": \"Pollo Tropical\", \"updated\": \"2024-03-09\", \"type\": \"Feature\", \"geometry\": {\"type\": \"Point\", \"coordinates\": [-80.201655, 26.123894]}}, {\"name\": \"PT #10071\", \"street\": \"17084 Collins Ave\", \"city\": \"Sunny Isles Beach\", \"state\": \"FL\", \"zip\": \"33160\", \"latitude\": 25.9338958, \"longitude\": -80.1219923, \"phone\": \"(305) 948-7229\", \"slug\": \"pollo-tropical-collins-avesunny-isles-bch-fl\", \"state_name\": \"Florida\", \"brand\": \"Pollo Tropical\", \"updated\": \"2024-03-09\", \"type\": \"Feature\", \"geometry\": {\"type\": \"Point\", \"coordinates\": [-80.1219923, 25.9338958]}}, {\"name\": \"PT #10072\", \"street\": \"14150 SW 8th St, Miami FL\", \"city\": \"Miami\", \"state\": \"FL\", \"zip\": \"33184\", \"latitude\": 25.7591234, \"longitude\": -80.4243796, \"phone\": \"(305) 553-5646\", \"slug\": \"pollo-tropical-sw-8th-stmiami-fl\", \"state_name\": \"Florida\", \"brand\": \"Pollo Tropical\", \"updated\": \"2024-03-09\", \"type\": \"Feature\", \"geometry\": {\"type\": \"Point\", \"coordinates\": [-80.4243796, 25.7591234]}}, {\"name\": \"PT #10073\", \"street\": \"3085 45th Street\", \"city\": \"West Palm Beach\", \"state\": \"FL\", \"zip\": \"33407\", \"latitude\": 26.7599071, \"longitude\": -80.0998887, \"phone\": \"(561) 689-3562\", \"slug\": \"pollo-tropical-45th-streetwest-palm-beach-fl\", \"state_name\": \"Florida\", \"brand\": \"Pollo Tropical\", \"updated\": \"2024-03-09\", \"type\": \"Feature\", \"geometry\": {\"type\": \"Point\", \"coordinates\": [-80.0998887, 26.7599071]}}, {\"name\": \"PT #10074\", \"street\": \"601 W Hallandale Beach Blvd\", \"city\": \"Hallandale Beach\", \"state\": \"FL\", \"zip\": \"33009\", \"latitude\": 25.985026, \"longitude\": -80.1543932, \"phone\": \"(954) 458-6767\", \"slug\": \"pollo-tropical-whallandale-bchbvdhldl-bch-fl\", \"state_name\": \"Florida\", \"brand\": \"Pollo Tropical\", \"updated\": \"2024-03-09\", \"type\": \"Feature\", \"geometry\": {\"type\": \"Point\", \"coordinates\": [-80.1543932, 25.985026]}}, {\"name\": \"PT #10075\", \"street\": \"7785 South Dixie Highway\", \"city\": \"West Palm Beach\", \"state\": \"FL\", \"zip\": \"33405\", \"latitude\": 26.649243, \"longitude\": -80.0566793, \"phone\": \"(561) 202-0037\", \"slug\": \"pollo-tropical-s-dixie-hwayw-palm-beach-fl\", \"state_name\": \"Florida\", \"brand\": \"Pollo Tropical\", \"updated\": \"2024-03-09\", \"type\": \"Feature\", \"geometry\": {\"type\": \"Point\", \"coordinates\": [-80.0566793, 26.649243]}}, {\"name\": \"PT #10076\", \"street\": \"1001 W. P. Ball Boulevard\", \"city\": \"Sanford\", \"state\": \"FL\", \"zip\": \"32771\", \"latitude\": 28.7991709, \"longitude\": -81.3385728, \"phone\": \"(407) 322-3977\", \"slug\": \"pollo-tropical-wp-ball-blvdsanford-fl\", \"state_name\": \"Florida\", \"brand\": \"Pollo Tropical\", \"updated\": \"2024-03-09\", \"type\": \"Feature\", \"geometry\": {\"type\": \"Point\", \"coordinates\": [-81.3385728, 28.7991709]}}, {\"name\": \"PT #10080\", \"street\": \"1652 NE Pine Island Rd\", \"city\": \"Cape Coral\", \"state\": \"FL\", \"zip\": \"33909\", \"latitude\": 26.6675704, \"longitude\": -81.9391945, \"phone\": \"(239) 772-1644\", \"slug\": \"pollo-tropical-ne-pine-is-rdcape-coral-fl\", \"state_name\": \"Florida\", \"brand\": \"Pollo Tropical\", \"updated\": \"2024-03-09\", \"type\": \"Feature\", \"geometry\": {\"type\": \"Point\", \"coordinates\": [-81.9391945, 26.6675704]}}, {\"name\": \"PT #10082\", \"street\": \"1985 East Osceola Parkway\", \"city\": \"Kissimmee\", \"state\": \"FL\", \"zip\": \"34744\", \"latitude\": 28.3453928, \"longitude\": -81.3640017, \"phone\": \"(407) 348-1222\", \"slug\": \"pollo-tropical-east-osceola-pkwykissimmee-fl\", \"state_name\": \"Florida\", \"brand\": \"Pollo Tropical\", \"updated\": \"2024-03-09\", \"type\": \"Feature\", \"geometry\": {\"type\": \"Point\", \"coordinates\": [-81.3640017, 28.3453928]}}, {\"name\": \"PT #10083\", \"street\": \"3900 Park Blvd\", \"city\": \"Pinellas Park\", \"state\": \"FL\", \"zip\": \"33781\", \"latitude\": 27.8387988, \"longitude\": -82.6869274, \"phone\": \"(727) 525-3294\", \"slug\": \"pollo-tropical-park-blvdpinellas-park-fl\", \"state_name\": \"Florida\", \"brand\": \"Pollo Tropical\", \"updated\": \"2024-03-09\", \"type\": \"Feature\", \"geometry\": {\"type\": \"Point\", \"coordinates\": [-82.6869274, 27.8387988]}}, {\"name\": \"PT #10084\", \"street\": \"3285 West Hillsborough Ave\", \"city\": \"Tampa\", \"state\": \"FL\", \"zip\": \"33614\", \"latitude\": 27.9964417, \"longitude\": -82.4965212, \"phone\": \"(813) 870-7235\", \"slug\": \"pollo-tropical-w-hillsborough-avetampa-fl\", \"state_name\": \"Florida\", \"brand\": \"Pollo Tropical\", \"updated\": \"2024-03-09\", \"type\": \"Feature\", \"geometry\": {\"type\": \"Point\", \"coordinates\": [-82.4965212, 27.9964417]}}, {\"name\": \"PT #10086\", \"street\": \"8301 Red Bud Lake Rd\", \"city\": \"Oviedo\", \"state\": \"FL\", \"zip\": \"32765\", \"latitude\": 28.6551794, \"longitude\": -81.228605, \"phone\": \"(407) 977-5719\", \"slug\": \"pollo-tropical-red-bud-lake-rdoviedo-fl\", \"state_name\": \"Florida\", \"brand\": \"Pollo Tropical\", \"updated\": \"2024-03-09\", \"type\": \"Feature\", \"geometry\": {\"type\": \"Point\", \"coordinates\": [-81.228605, 28.6551794]}}, {\"name\": \"PT #10087\", \"street\": \"5065 Golden Gate Parkway\", \"city\": \"Naples\", \"state\": \"FL\", \"zip\": \"34116\", \"latitude\": 26.1795482, \"longitude\": -81.7082202, \"phone\": \"(239) 304-0629\", \"slug\": \"pollo-tropical-golden-gate-pkynaples-fl\", \"state_name\": \"Florida\", \"brand\": \"Pollo Tropical\", \"updated\": \"2024-03-09\", \"type\": \"Feature\", \"geometry\": {\"type\": \"Point\", \"coordinates\": [-81.7082202, 26.1795482]}}, {\"name\": \"PT #10088\", \"street\": \"6276 W Waters Ave\", \"city\": \"Tampa\", \"state\": \"FL\", \"zip\": \"33634\", \"latitude\": 28.0252224, \"longitude\": -82.5472857, \"phone\": \"(813) 880-7167\", \"slug\": \"pollo-tropical-w-waters-avetampa-fl\", \"state_name\": \"Florida\", \"brand\": \"Pollo Tropical\", \"updated\": \"2024-03-09\", \"type\": \"Feature\", \"geometry\": {\"type\": \"Point\", \"coordinates\": [-82.5472857, 28.0252224]}}, {\"name\": \"PT #10089\", \"street\": \"19700 NW 27th Ave\", \"city\": \"Miami Gardens\", \"state\": \"FL\", \"zip\": \"33056\", \"latitude\": 25.9531796, \"longitude\": -80.2463478, \"phone\": \"(305) 622-6687\", \"slug\": \"pollo-tropical-nw-27-avemiami-gardens-fl\", \"state_name\": \"Florida\", \"brand\": \"Pollo Tropical\", \"updated\": \"2024-03-09\", \"type\": \"Feature\", \"geometry\": {\"type\": \"Point\", \"coordinates\": [-80.2463478, 25.9531796]}}, {\"name\": \"PT #10090\", \"street\": \"5780 S. University Dr\", \"city\": \"Davie\", \"state\": \"FL\", \"zip\": \"33314\", \"latitude\": 26.0485827, \"longitude\": -80.2510811, \"phone\": \"(954) 252-8434\", \"slug\": \"pollo-tropical-sterling-s-univ-drdavie-fl\", \"state_name\": \"Florida\", \"brand\": \"Pollo Tropical\", \"updated\": \"2024-03-09\", \"type\": \"Feature\", \"geometry\": {\"type\": \"Point\", \"coordinates\": [-80.2510811, 26.0485827]}}]}}, {\"mode\": \"vega-lite\"});\n",
       "</script>"
      ],
      "text/plain": [
       "alt.LayerChart(...)"
      ]
     },
     "execution_count": 20,
     "metadata": {},
     "output_type": "execute_result"
    }
   ],
   "source": [
    "symbols = (\n",
    "    alt.Chart(gdf)\n",
    "    .transform_aggregate(\n",
    "        latitude=\"mean(latitude)\",\n",
    "        longitude=\"mean(longitude)\",\n",
    "        count=\"count()\",\n",
    "        groupby=[\"state\"],\n",
    "    )\n",
    "    .mark_circle()\n",
    "    .encode(\n",
    "        longitude=\"longitude:Q\",\n",
    "        latitude=\"latitude:Q\",\n",
    "        size=alt.Size(\"count:Q\", title=\"Count by state\"),\n",
    "        color=alt.value(color),\n",
    "        tooltip=[\"state:N\", \"count:Q\"],\n",
    "    )\n",
    "    .properties(\n",
    "        title=f\"Number of {place_formal} in US, by average lon/lat of locations\"\n",
    "    )\n",
    ")\n",
    "\n",
    "symbol_map = background + symbols\n",
    "symbol_map.configure_view(stroke=None)"
   ]
  },
  {
   "cell_type": "markdown",
   "id": "15b9c879-2480-49f4-99e7-6adc1a4c10aa",
   "metadata": {},
   "source": [
    "---"
   ]
  },
  {
   "cell_type": "markdown",
   "id": "41af18db-4aeb-4259-a7c1-b52471eb8693",
   "metadata": {},
   "source": [
    "## Exports"
   ]
  },
  {
   "cell_type": "markdown",
   "id": "e3831fb4-1062-4cab-9730-933ff07e01f0",
   "metadata": {},
   "source": [
    "#### JSON"
   ]
  },
  {
   "cell_type": "code",
   "execution_count": 21,
   "id": "e1e78a42-ba8a-49aa-a699-58e33fa204d0",
   "metadata": {},
   "outputs": [],
   "source": [
    "df.to_json(\n",
    "    f\"data/processed/{place.lower().replace(' ', '_')}_locations.json\",\n",
    "    indent=4,\n",
    "    orient=\"records\",\n",
    ")"
   ]
  },
  {
   "cell_type": "markdown",
   "id": "d737f808-9d71-4f25-8cd1-3fcedc45ab63",
   "metadata": {},
   "source": [
    "#### CSV"
   ]
  },
  {
   "cell_type": "code",
   "execution_count": 22,
   "id": "0504831b-4df4-4ff2-bd26-f08ef7ca9198",
   "metadata": {},
   "outputs": [],
   "source": [
    "df.to_csv(\n",
    "    f\"data/processed/{place.lower().replace(' ', '_')}_locations.csv\", index=False\n",
    ")"
   ]
  },
  {
   "cell_type": "markdown",
   "id": "eb8769bc-1de1-40d0-9b7b-4892893606ee",
   "metadata": {},
   "source": [
    "#### GeoJSON"
   ]
  },
  {
   "cell_type": "code",
   "execution_count": 23,
   "id": "3aaff910-d7a8-4b73-acdf-6b49e09bbe2f",
   "metadata": {},
   "outputs": [],
   "source": [
    "gdf.to_file(\n",
    "    f\"data/processed/{place.lower().replace(' ', '_')}_locations.geojson\",\n",
    "    driver=\"GeoJSON\",\n",
    ")"
   ]
  }
 ],
 "metadata": {
  "kernelspec": {
   "display_name": "Python 3 (ipykernel)",
   "language": "python",
   "name": "python3"
  },
  "language_info": {
   "codemirror_mode": {
    "name": "ipython",
    "version": 3
   },
   "file_extension": ".py",
   "mimetype": "text/x-python",
   "name": "python",
   "nbconvert_exporter": "python",
   "pygments_lexer": "ipython3",
   "version": "3.9.15"
  }
 },
 "nbformat": 4,
 "nbformat_minor": 5
}
