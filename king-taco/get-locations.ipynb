{
 "cells": [
  {
   "cell_type": "markdown",
   "id": "0fdd4e16-e062-4146-9c40-05a340ecc972",
   "metadata": {},
   "source": [
    "# Get King Taco locations"
   ]
  },
  {
   "cell_type": "markdown",
   "id": "2cd6a4cf-3892-4cc9-97de-84f87dc86d7d",
   "metadata": {},
   "source": [
    "#### Load Python tools and Jupyter config"
   ]
  },
  {
   "cell_type": "code",
   "execution_count": 1,
   "id": "d51c4622-7e4d-44e5-99d4-a8c01e8a611f",
   "metadata": {},
   "outputs": [],
   "source": [
    "import us\n",
    "import json\n",
    "import requests\n",
    "import pandas as pd\n",
    "import jupyter_black\n",
    "import altair as alt\n",
    "import geopandas as gpd\n",
    "from bs4 import BeautifulSoup\n",
    "from vega_datasets import data as vega_data\n",
    "from tqdm.notebook import tqdm, trange"
   ]
  },
  {
   "cell_type": "code",
   "execution_count": 2,
   "id": "3ef9eefb-2887-4a07-995d-eb12d1dd251d",
   "metadata": {},
   "outputs": [
    {
     "data": {
      "text/html": [
       "\n",
       "                <script type=\"application/javascript\" id=\"jupyter_black\">\n",
       "                (function() {\n",
       "                    if (window.IPython === undefined) {\n",
       "                        return\n",
       "                    }\n",
       "                    var msg = \"WARNING: it looks like you might have loaded \" +\n",
       "                        \"jupyter_black in a non-lab notebook with \" +\n",
       "                        \"`is_lab=True`. Please double check, and if \" +\n",
       "                        \"loading with `%load_ext` please review the README!\"\n",
       "                    console.log(msg)\n",
       "                    alert(msg)\n",
       "                })()\n",
       "                </script>\n",
       "                "
      ],
      "text/plain": [
       "<IPython.core.display.HTML object>"
      ]
     },
     "metadata": {},
     "output_type": "display_data"
    },
    {
     "data": {
      "text/plain": [
       "DataTransformerRegistry.enable('default')"
      ]
     },
     "execution_count": 2,
     "metadata": {},
     "output_type": "execute_result"
    }
   ],
   "source": [
    "jupyter_black.load()\n",
    "pd.options.display.max_columns = 100\n",
    "pd.options.display.max_rows = 1000\n",
    "pd.options.display.max_colwidth = None\n",
    "alt.data_transformers.disable_max_rows()"
   ]
  },
  {
   "cell_type": "code",
   "execution_count": 3,
   "id": "83b7fce7-b6e0-4146-b372-a53f86b4aefc",
   "metadata": {},
   "outputs": [],
   "source": [
    "place = \"king-taco\"\n",
    "place_formal = \"King Taco\"\n",
    "color = \"#FD4D2D\"\n",
    "today = pd.Timestamp.today().strftime(\"%Y-%m-%d\")"
   ]
  },
  {
   "cell_type": "markdown",
   "id": "18df54c6-5362-4f8a-a63f-05bd5ffa63d9",
   "metadata": {},
   "source": [
    "---"
   ]
  },
  {
   "cell_type": "markdown",
   "id": "3bbfd20b-7936-4f21-a091-697fca808ab1",
   "metadata": {},
   "source": [
    "## Scrape"
   ]
  },
  {
   "cell_type": "markdown",
   "id": "70c799af-d3be-4577-96fa-ba056f433607",
   "metadata": {},
   "source": [
    "#### Headers for request"
   ]
  },
  {
   "cell_type": "code",
   "execution_count": 4,
   "id": "bd4d1c20-0ab5-4456-81b7-661e440e8c20",
   "metadata": {},
   "outputs": [],
   "source": [
    "headers = {\n",
    "    \"user-agent\": \"Mozilla/5.0 (Macintosh; Intel Mac OS X 10_15_7) AppleWebKit/537.36 (KHTML, like Gecko) Chrome/120.0.0.0 Safari/537.36\",\n",
    "}"
   ]
  },
  {
   "cell_type": "code",
   "execution_count": 5,
   "id": "d8cada9a-c1b9-4712-974a-f07f9a322104",
   "metadata": {},
   "outputs": [],
   "source": [
    "params = {\n",
    "    \"action\": \"store_search\",\n",
    "    \"lat\": \"33.98896\",\n",
    "    \"lng\": \"-118.4165\",\n",
    "    \"max_results\": \"100\",\n",
    "    \"search_radius\": \"1000\",\n",
    "    \"skip_cache\": \"1\",\n",
    "}\n",
    "\n",
    "response = requests.get(\n",
    "    \"https://kingtaco.com/wp-admin/admin-ajax.php\", params=params, headers=headers\n",
    ")"
   ]
  },
  {
   "cell_type": "code",
   "execution_count": 6,
   "id": "7276481b-8db7-4a59-9264-7597e72470a6",
   "metadata": {},
   "outputs": [],
   "source": [
    "dict_list = response.json()"
   ]
  },
  {
   "cell_type": "code",
   "execution_count": 7,
   "id": "4bf72698-2880-4100-98f2-4d46ca317e1b",
   "metadata": {},
   "outputs": [],
   "source": [
    "src = pd.DataFrame(dict_list)"
   ]
  },
  {
   "cell_type": "code",
   "execution_count": 8,
   "id": "97018fcb-2b94-4b02-8949-3f39963464af",
   "metadata": {},
   "outputs": [],
   "source": [
    "src[\"state\"] = src[\"state\"].str.upper()"
   ]
  },
  {
   "cell_type": "code",
   "execution_count": 9,
   "id": "b2912468-da03-4df9-b0c0-98ef5e0b8e01",
   "metadata": {},
   "outputs": [],
   "source": [
    "df = src[\n",
    "    [\n",
    "        \"id\",\n",
    "        \"store\",\n",
    "        \"address\",\n",
    "        \"city\",\n",
    "        \"state\",\n",
    "        \"zip\",\n",
    "        \"lat\",\n",
    "        \"lng\",\n",
    "        \"phone\",\n",
    "    ]\n",
    "].copy()"
   ]
  },
  {
   "cell_type": "code",
   "execution_count": 10,
   "id": "e3020b94-9034-46ea-90a9-5fed9c35f845",
   "metadata": {},
   "outputs": [
    {
     "data": {
      "text/html": [
       "<div>\n",
       "<style scoped>\n",
       "    .dataframe tbody tr th:only-of-type {\n",
       "        vertical-align: middle;\n",
       "    }\n",
       "\n",
       "    .dataframe tbody tr th {\n",
       "        vertical-align: top;\n",
       "    }\n",
       "\n",
       "    .dataframe thead th {\n",
       "        text-align: right;\n",
       "    }\n",
       "</style>\n",
       "<table border=\"1\" class=\"dataframe\">\n",
       "  <thead>\n",
       "    <tr style=\"text-align: right;\">\n",
       "      <th></th>\n",
       "      <th>id</th>\n",
       "      <th>store</th>\n",
       "      <th>address</th>\n",
       "      <th>city</th>\n",
       "      <th>state</th>\n",
       "      <th>zip</th>\n",
       "      <th>lat</th>\n",
       "      <th>lng</th>\n",
       "      <th>phone</th>\n",
       "    </tr>\n",
       "  </thead>\n",
       "  <tbody>\n",
       "    <tr>\n",
       "      <th>0</th>\n",
       "      <td>292</td>\n",
       "      <td>KING TACO #1</td>\n",
       "      <td>1118 Cypress Ave</td>\n",
       "      <td>Los Angeles</td>\n",
       "      <td>CA</td>\n",
       "      <td>90065</td>\n",
       "      <td>34.10748</td>\n",
       "      <td>-118.22577</td>\n",
       "      <td>(323) 223-2595</td>\n",
       "    </tr>\n",
       "    <tr>\n",
       "      <th>1</th>\n",
       "      <td>294</td>\n",
       "      <td>KING TACO #2</td>\n",
       "      <td>4504 East 3rd Street</td>\n",
       "      <td>Los Angeles</td>\n",
       "      <td>CA</td>\n",
       "      <td>90022</td>\n",
       "      <td>34.033048</td>\n",
       "      <td>-118.168814</td>\n",
       "      <td>(323) 264-4067</td>\n",
       "    </tr>\n",
       "    <tr>\n",
       "      <th>2</th>\n",
       "      <td>296</td>\n",
       "      <td>KING TACO #6A</td>\n",
       "      <td>1951 S. San Pedro Street</td>\n",
       "      <td>Los Angeles</td>\n",
       "      <td>CA</td>\n",
       "      <td>90011</td>\n",
       "      <td>34.026618</td>\n",
       "      <td>-118.258624</td>\n",
       "      <td>(213) 747-3176</td>\n",
       "    </tr>\n",
       "    <tr>\n",
       "      <th>3</th>\n",
       "      <td>887</td>\n",
       "      <td>KING TACO #6B</td>\n",
       "      <td>645 E. Washington Blvd.</td>\n",
       "      <td>Los Angeles</td>\n",
       "      <td>CA</td>\n",
       "      <td>90015</td>\n",
       "      <td>34.02826</td>\n",
       "      <td>-118.25745</td>\n",
       "      <td>(213) 747-9915</td>\n",
       "    </tr>\n",
       "    <tr>\n",
       "      <th>4</th>\n",
       "      <td>890</td>\n",
       "      <td>KING TACO #8</td>\n",
       "      <td>2904 N. Broadway Ave</td>\n",
       "      <td>Los Angeles</td>\n",
       "      <td>CA</td>\n",
       "      <td>90031</td>\n",
       "      <td>34.07367</td>\n",
       "      <td>-118.21142</td>\n",
       "      <td>(323) 222-8500</td>\n",
       "    </tr>\n",
       "    <tr>\n",
       "      <th>5</th>\n",
       "      <td>893</td>\n",
       "      <td>KING TACO #9</td>\n",
       "      <td>2400 E. Cesar Chavez Ave</td>\n",
       "      <td>Los Angeles</td>\n",
       "      <td>CA</td>\n",
       "      <td>90033</td>\n",
       "      <td>34.04667</td>\n",
       "      <td>-118.20750</td>\n",
       "      <td>(323) 264-3940</td>\n",
       "    </tr>\n",
       "    <tr>\n",
       "      <th>6</th>\n",
       "      <td>896</td>\n",
       "      <td>KING TACO #10</td>\n",
       "      <td>2020 W. Pico Boulevard</td>\n",
       "      <td>Los Angeles</td>\n",
       "      <td>CA</td>\n",
       "      <td>90006</td>\n",
       "      <td>34.04695</td>\n",
       "      <td>-118.28209</td>\n",
       "      <td></td>\n",
       "    </tr>\n",
       "    <tr>\n",
       "      <th>7</th>\n",
       "      <td>899</td>\n",
       "      <td>KING TACO #11</td>\n",
       "      <td>10420 E Garvey Ave</td>\n",
       "      <td>El Monte</td>\n",
       "      <td>CA</td>\n",
       "      <td>91733</td>\n",
       "      <td>34.06279</td>\n",
       "      <td>-118.04452</td>\n",
       "      <td>(626) 448-5150</td>\n",
       "    </tr>\n",
       "    <tr>\n",
       "      <th>8</th>\n",
       "      <td>902</td>\n",
       "      <td>KING TACO #12</td>\n",
       "      <td>5729 Atlantic Blvd.</td>\n",
       "      <td>Maywood</td>\n",
       "      <td>CA</td>\n",
       "      <td>90270</td>\n",
       "      <td>33.98848</td>\n",
       "      <td>-118.18565</td>\n",
       "      <td>(323) 560-1245</td>\n",
       "    </tr>\n",
       "    <tr>\n",
       "      <th>9</th>\n",
       "      <td>905</td>\n",
       "      <td>KING TACO #15</td>\n",
       "      <td>4300 E. Olympic Blvd</td>\n",
       "      <td>Los Angeles</td>\n",
       "      <td>CA</td>\n",
       "      <td>90023</td>\n",
       "      <td>34.01878</td>\n",
       "      <td>-118.17966</td>\n",
       "      <td>(323) 264-9051</td>\n",
       "    </tr>\n",
       "    <tr>\n",
       "      <th>10</th>\n",
       "      <td>908</td>\n",
       "      <td>KING TACO #18</td>\n",
       "      <td>14318 Ramona Blvd.</td>\n",
       "      <td>Baldwin Park</td>\n",
       "      <td>CA</td>\n",
       "      <td>91706</td>\n",
       "      <td>34.08591</td>\n",
       "      <td>-117.96186</td>\n",
       "      <td>(626) 962-5995</td>\n",
       "    </tr>\n",
       "    <tr>\n",
       "      <th>11</th>\n",
       "      <td>911</td>\n",
       "      <td>KING TACO #20</td>\n",
       "      <td>3900 North Peck Road</td>\n",
       "      <td>El Monte</td>\n",
       "      <td>CA</td>\n",
       "      <td>91732</td>\n",
       "      <td>34.07637</td>\n",
       "      <td>-118.02136</td>\n",
       "      <td>(626) 350-5698</td>\n",
       "    </tr>\n",
       "    <tr>\n",
       "      <th>12</th>\n",
       "      <td>914</td>\n",
       "      <td>KING TACO #21</td>\n",
       "      <td>45 N. Arroyo Parkway</td>\n",
       "      <td>Pasadena</td>\n",
       "      <td>CA</td>\n",
       "      <td>91103</td>\n",
       "      <td>34.14497</td>\n",
       "      <td>-118.14786</td>\n",
       "      <td>(626) 792-0405</td>\n",
       "    </tr>\n",
       "    <tr>\n",
       "      <th>13</th>\n",
       "      <td>920</td>\n",
       "      <td>KING TACO #24</td>\n",
       "      <td>12102 Long Beach Blvd</td>\n",
       "      <td>Lynwood</td>\n",
       "      <td>CA</td>\n",
       "      <td>90262</td>\n",
       "      <td>33.91812</td>\n",
       "      <td>-118.20903</td>\n",
       "      <td>(310) 884-9984</td>\n",
       "    </tr>\n",
       "    <tr>\n",
       "      <th>14</th>\n",
       "      <td>923</td>\n",
       "      <td>KING TACO #25</td>\n",
       "      <td>6722 Rosemead Blvd</td>\n",
       "      <td>Pico Rivera</td>\n",
       "      <td>CA</td>\n",
       "      <td>90660</td>\n",
       "      <td>33.98422</td>\n",
       "      <td>-118.09596</td>\n",
       "      <td>(562) 942-8177</td>\n",
       "    </tr>\n",
       "    <tr>\n",
       "      <th>15</th>\n",
       "      <td>926</td>\n",
       "      <td>KING TACO #26</td>\n",
       "      <td>7623 Pacific Boulevard</td>\n",
       "      <td>Walnut Park</td>\n",
       "      <td>CA</td>\n",
       "      <td>90255</td>\n",
       "      <td>33.97033</td>\n",
       "      <td>-118.22545</td>\n",
       "      <td>(323) 584-9975</td>\n",
       "    </tr>\n",
       "    <tr>\n",
       "      <th>16</th>\n",
       "      <td>929</td>\n",
       "      <td>KING TACO #27</td>\n",
       "      <td>1841 Long Beach Blvd.</td>\n",
       "      <td>Long Beach</td>\n",
       "      <td>CA</td>\n",
       "      <td>90806</td>\n",
       "      <td>33.79084</td>\n",
       "      <td>-118.18983</td>\n",
       "      <td>(562) 218-9118</td>\n",
       "    </tr>\n",
       "    <tr>\n",
       "      <th>17</th>\n",
       "      <td>932</td>\n",
       "      <td>KING TACO #28</td>\n",
       "      <td>406 N. Mountain Ave.</td>\n",
       "      <td>Ontario</td>\n",
       "      <td>CA</td>\n",
       "      <td>91762</td>\n",
       "      <td>34.06739</td>\n",
       "      <td>-117.66980</td>\n",
       "      <td>(909) 933-9150</td>\n",
       "    </tr>\n",
       "    <tr>\n",
       "      <th>18</th>\n",
       "      <td>935</td>\n",
       "      <td>KING TACO #29</td>\n",
       "      <td>117 E. Broadway</td>\n",
       "      <td>Glendale</td>\n",
       "      <td>CA</td>\n",
       "      <td>91205</td>\n",
       "      <td>34.14665</td>\n",
       "      <td>-118.25405</td>\n",
       "      <td>(818) 409-0172</td>\n",
       "    </tr>\n",
       "    <tr>\n",
       "      <th>19</th>\n",
       "      <td>537</td>\n",
       "      <td>KING TACO #30</td>\n",
       "      <td>15916 Lakewood Blvd.</td>\n",
       "      <td>Bellflower</td>\n",
       "      <td>CA</td>\n",
       "      <td>90706</td>\n",
       "      <td>33.888682</td>\n",
       "      <td>-118.14228</td>\n",
       "      <td>(562) 925-1048</td>\n",
       "    </tr>\n",
       "  </tbody>\n",
       "</table>\n",
       "</div>"
      ],
      "text/plain": [
       "     id          store                   address          city state    zip  \\\n",
       "0   292   KING TACO #1          1118 Cypress Ave   Los Angeles    CA  90065   \n",
       "1   294   KING TACO #2      4504 East 3rd Street   Los Angeles    CA  90022   \n",
       "2   296  KING TACO #6A  1951 S. San Pedro Street   Los Angeles    CA  90011   \n",
       "3   887  KING TACO #6B   645 E. Washington Blvd.   Los Angeles    CA  90015   \n",
       "4   890   KING TACO #8      2904 N. Broadway Ave   Los Angeles    CA  90031   \n",
       "5   893   KING TACO #9  2400 E. Cesar Chavez Ave   Los Angeles    CA  90033   \n",
       "6   896  KING TACO #10    2020 W. Pico Boulevard   Los Angeles    CA  90006   \n",
       "7   899  KING TACO #11        10420 E Garvey Ave      El Monte    CA  91733   \n",
       "8   902  KING TACO #12       5729 Atlantic Blvd.       Maywood    CA  90270   \n",
       "9   905  KING TACO #15      4300 E. Olympic Blvd   Los Angeles    CA  90023   \n",
       "10  908  KING TACO #18        14318 Ramona Blvd.  Baldwin Park    CA  91706   \n",
       "11  911  KING TACO #20      3900 North Peck Road      El Monte    CA  91732   \n",
       "12  914  KING TACO #21      45 N. Arroyo Parkway      Pasadena    CA  91103   \n",
       "13  920  KING TACO #24     12102 Long Beach Blvd       Lynwood    CA  90262   \n",
       "14  923  KING TACO #25        6722 Rosemead Blvd   Pico Rivera    CA  90660   \n",
       "15  926  KING TACO #26    7623 Pacific Boulevard   Walnut Park    CA  90255   \n",
       "16  929  KING TACO #27     1841 Long Beach Blvd.    Long Beach    CA  90806   \n",
       "17  932  KING TACO #28      406 N. Mountain Ave.       Ontario    CA  91762   \n",
       "18  935  KING TACO #29           117 E. Broadway      Glendale    CA  91205   \n",
       "19  537  KING TACO #30      15916 Lakewood Blvd.    Bellflower    CA  90706   \n",
       "\n",
       "          lat          lng           phone  \n",
       "0    34.10748   -118.22577  (323) 223-2595  \n",
       "1   34.033048  -118.168814  (323) 264-4067  \n",
       "2   34.026618  -118.258624  (213) 747-3176  \n",
       "3    34.02826   -118.25745  (213) 747-9915  \n",
       "4    34.07367   -118.21142  (323) 222-8500  \n",
       "5    34.04667   -118.20750  (323) 264-3940  \n",
       "6    34.04695   -118.28209                  \n",
       "7    34.06279   -118.04452  (626) 448-5150  \n",
       "8    33.98848   -118.18565  (323) 560-1245  \n",
       "9    34.01878   -118.17966  (323) 264-9051  \n",
       "10   34.08591   -117.96186  (626) 962-5995  \n",
       "11   34.07637   -118.02136  (626) 350-5698  \n",
       "12   34.14497   -118.14786  (626) 792-0405  \n",
       "13   33.91812   -118.20903  (310) 884-9984  \n",
       "14   33.98422   -118.09596  (562) 942-8177  \n",
       "15   33.97033   -118.22545  (323) 584-9975  \n",
       "16   33.79084   -118.18983  (562) 218-9118  \n",
       "17   34.06739   -117.66980  (909) 933-9150  \n",
       "18   34.14665   -118.25405  (818) 409-0172  \n",
       "19  33.888682   -118.14228  (562) 925-1048  "
      ]
     },
     "execution_count": 10,
     "metadata": {},
     "output_type": "execute_result"
    }
   ],
   "source": [
    "df"
   ]
  },
  {
   "cell_type": "markdown",
   "id": "1b0134b9-0b53-41ae-a498-891b729ac265",
   "metadata": {},
   "source": [
    "#### Create a mapping of state abbreviations to full state names using the us library"
   ]
  },
  {
   "cell_type": "code",
   "execution_count": 11,
   "id": "18485bc1-ac20-4715-b117-2ffc36a4de10",
   "metadata": {},
   "outputs": [],
   "source": [
    "state_mapping = {state.abbr: state.name for state in us.states.STATES}"
   ]
  },
  {
   "cell_type": "markdown",
   "id": "02a07567-2cda-40d0-a1db-9f51fdb03a67",
   "metadata": {},
   "source": [
    "#### New column of full state names based on abbreviations"
   ]
  },
  {
   "cell_type": "code",
   "execution_count": 12,
   "id": "5d7c356a-a44b-4b86-aaf9-4db2a05cb3e9",
   "metadata": {},
   "outputs": [],
   "source": [
    "df[\"state_name\"] = df[\"state\"].map(state_mapping)"
   ]
  },
  {
   "cell_type": "markdown",
   "id": "ef406bd4-65b5-4f26-8404-051b13a83585",
   "metadata": {},
   "source": [
    "#### Make sure our brand name gets in the dataframe"
   ]
  },
  {
   "cell_type": "code",
   "execution_count": 13,
   "id": "9b77d016-e356-4ef9-8538-387a98d4fa57",
   "metadata": {},
   "outputs": [],
   "source": [
    "df[\"brand\"] = place_formal"
   ]
  },
  {
   "cell_type": "markdown",
   "id": "c6ca1f2f-a7cb-4f83-8102-a9efea386f9e",
   "metadata": {},
   "source": [
    "#### Add fetch date"
   ]
  },
  {
   "cell_type": "code",
   "execution_count": 14,
   "id": "f2a9673d-65db-4cb7-a32e-38c85cb34ed9",
   "metadata": {},
   "outputs": [],
   "source": [
    "df[\"updated\"] = today"
   ]
  },
  {
   "cell_type": "markdown",
   "id": "e836582d-ef21-4876-bfc3-f8298a077b3c",
   "metadata": {},
   "source": [
    "---"
   ]
  },
  {
   "cell_type": "markdown",
   "id": "e9398ab6-73bc-421d-ab31-2e0b625fe541",
   "metadata": {},
   "source": [
    "## Geography"
   ]
  },
  {
   "cell_type": "markdown",
   "id": "2aa8f487-ab80-4d32-84df-651304cd9523",
   "metadata": {},
   "source": [
    "#### Make it a geodataframe"
   ]
  },
  {
   "cell_type": "code",
   "execution_count": 15,
   "id": "920e5fe7-a6fd-4a10-97f0-c1dd0b7bef72",
   "metadata": {},
   "outputs": [],
   "source": [
    "df_geo = df.copy()"
   ]
  },
  {
   "cell_type": "code",
   "execution_count": 16,
   "id": "4072e19f-2567-427d-82d5-2c8a925278da",
   "metadata": {},
   "outputs": [],
   "source": [
    "gdf = gpd.GeoDataFrame(\n",
    "    df_geo, geometry=gpd.points_from_xy(df_geo.lng, df_geo.lat)\n",
    ").set_crs(\"4326\")"
   ]
  },
  {
   "cell_type": "markdown",
   "id": "67db45d5-afdf-4347-a2a0-da8aa3728779",
   "metadata": {},
   "source": [
    "---"
   ]
  },
  {
   "cell_type": "markdown",
   "id": "b3c311f9-dd29-4524-8932-67858cd3cec0",
   "metadata": {},
   "source": [
    "## Maps"
   ]
  },
  {
   "cell_type": "markdown",
   "id": "93b0579e-620d-4a08-afd8-ad489be0557e",
   "metadata": {},
   "source": [
    "#### US states background"
   ]
  },
  {
   "cell_type": "code",
   "execution_count": 24,
   "id": "fb476267-9bca-4e35-8a80-343adf69a82d",
   "metadata": {},
   "outputs": [],
   "source": [
    "background = (\n",
    "    alt.Chart(alt.topo_feature(vega_data.us_10m.url, feature=\"states\"))\n",
    "    .mark_geoshape(fill=\"#e9e9e9\", stroke=\"white\")\n",
    "    .properties(width=800, height=500, title=f\"{place_formal} locations\")\n",
    "    .project(\"albersUsa\")\n",
    ")"
   ]
  },
  {
   "cell_type": "markdown",
   "id": "a914fc11-a8c6-49d1-96d2-8b5f83b01cc7",
   "metadata": {},
   "source": [
    "#### Location points map"
   ]
  },
  {
   "cell_type": "code",
   "execution_count": 25,
   "id": "b624cc2f-c724-4849-9a4b-761258a3f8ad",
   "metadata": {},
   "outputs": [
    {
     "data": {
      "text/html": [
       "\n",
       "<style>\n",
       "  #altair-viz-e5272c1de5ac41beb9506f639edc3246.vega-embed {\n",
       "    width: 100%;\n",
       "    display: flex;\n",
       "  }\n",
       "\n",
       "  #altair-viz-e5272c1de5ac41beb9506f639edc3246.vega-embed details,\n",
       "  #altair-viz-e5272c1de5ac41beb9506f639edc3246.vega-embed details summary {\n",
       "    position: relative;\n",
       "  }\n",
       "</style>\n",
       "<div id=\"altair-viz-e5272c1de5ac41beb9506f639edc3246\"></div>\n",
       "<script type=\"text/javascript\">\n",
       "  var VEGA_DEBUG = (typeof VEGA_DEBUG == \"undefined\") ? {} : VEGA_DEBUG;\n",
       "  (function(spec, embedOpt){\n",
       "    let outputDiv = document.currentScript.previousElementSibling;\n",
       "    if (outputDiv.id !== \"altair-viz-e5272c1de5ac41beb9506f639edc3246\") {\n",
       "      outputDiv = document.getElementById(\"altair-viz-e5272c1de5ac41beb9506f639edc3246\");\n",
       "    }\n",
       "    const paths = {\n",
       "      \"vega\": \"https://cdn.jsdelivr.net/npm/vega@5?noext\",\n",
       "      \"vega-lib\": \"https://cdn.jsdelivr.net/npm/vega-lib?noext\",\n",
       "      \"vega-lite\": \"https://cdn.jsdelivr.net/npm/vega-lite@5.16.3?noext\",\n",
       "      \"vega-embed\": \"https://cdn.jsdelivr.net/npm/vega-embed@6?noext\",\n",
       "    };\n",
       "\n",
       "    function maybeLoadScript(lib, version) {\n",
       "      var key = `${lib.replace(\"-\", \"\")}_version`;\n",
       "      return (VEGA_DEBUG[key] == version) ?\n",
       "        Promise.resolve(paths[lib]) :\n",
       "        new Promise(function(resolve, reject) {\n",
       "          var s = document.createElement('script');\n",
       "          document.getElementsByTagName(\"head\")[0].appendChild(s);\n",
       "          s.async = true;\n",
       "          s.onload = () => {\n",
       "            VEGA_DEBUG[key] = version;\n",
       "            return resolve(paths[lib]);\n",
       "          };\n",
       "          s.onerror = () => reject(`Error loading script: ${paths[lib]}`);\n",
       "          s.src = paths[lib];\n",
       "        });\n",
       "    }\n",
       "\n",
       "    function showError(err) {\n",
       "      outputDiv.innerHTML = `<div class=\"error\" style=\"color:red;\">${err}</div>`;\n",
       "      throw err;\n",
       "    }\n",
       "\n",
       "    function displayChart(vegaEmbed) {\n",
       "      vegaEmbed(outputDiv, spec, embedOpt)\n",
       "        .catch(err => showError(`Javascript Error: ${err.message}<br>This usually means there's a typo in your chart specification. See the javascript console for the full traceback.`));\n",
       "    }\n",
       "\n",
       "    if(typeof define === \"function\" && define.amd) {\n",
       "      requirejs.config({paths});\n",
       "      require([\"vega-embed\"], displayChart, err => showError(`Error loading script: ${err.message}`));\n",
       "    } else {\n",
       "      maybeLoadScript(\"vega\", \"5\")\n",
       "        .then(() => maybeLoadScript(\"vega-lite\", \"5.16.3\"))\n",
       "        .then(() => maybeLoadScript(\"vega-embed\", \"6\"))\n",
       "        .catch(showError)\n",
       "        .then(() => displayChart(vegaEmbed));\n",
       "    }\n",
       "  })({\"config\": {\"view\": {\"continuousWidth\": 300, \"continuousHeight\": 300, \"stroke\": null}}, \"layer\": [{\"data\": {\"url\": \"https://cdn.jsdelivr.net/npm/vega-datasets@v1.29.0/data/us-10m.json\", \"format\": {\"feature\": \"states\", \"type\": \"topojson\"}}, \"mark\": {\"type\": \"geoshape\", \"fill\": \"#e9e9e9\", \"stroke\": \"white\"}, \"projection\": {\"type\": \"albersUsa\"}, \"title\": \"King Taco locations\"}, {\"data\": {\"name\": \"data-f7ca01abf74e34750372f5435342bec9\"}, \"mark\": {\"type\": \"circle\", \"color\": \"#FD4D2D\", \"size\": 5}, \"encoding\": {\"latitude\": {\"field\": \"lat\", \"type\": \"quantitative\"}, \"longitude\": {\"field\": \"lng\", \"type\": \"quantitative\"}}}], \"height\": 500, \"width\": 800, \"$schema\": \"https://vega.github.io/schema/vega-lite/v5.16.3.json\", \"datasets\": {\"data-f7ca01abf74e34750372f5435342bec9\": [{\"id\": \"292\", \"store\": \"KING TACO #1\", \"address\": \"1118 Cypress Ave\", \"city\": \"Los Angeles\", \"state\": \"CA\", \"zip\": \"90065\", \"lat\": \"34.10748\", \"lng\": \"-118.22577\", \"phone\": \"(323) 223-2595\", \"state_name\": \"California\", \"brand\": \"King Taco\", \"updated\": \"2024-11-16\", \"type\": \"Feature\", \"geometry\": {\"type\": \"Point\", \"coordinates\": [-118.22577, 34.10748]}}, {\"id\": \"294\", \"store\": \"KING TACO #2\", \"address\": \"\\u00a04504 East 3rd Street\", \"city\": \"Los Angeles\", \"state\": \"CA\", \"zip\": \"90022\", \"lat\": \"34.033048\", \"lng\": \"-118.168814\", \"phone\": \"(323) 264-4067\", \"state_name\": \"California\", \"brand\": \"King Taco\", \"updated\": \"2024-11-16\", \"type\": \"Feature\", \"geometry\": {\"type\": \"Point\", \"coordinates\": [-118.168814, 34.033048]}}, {\"id\": \"296\", \"store\": \"KING TACO #6A\", \"address\": \"1951 S. San Pedro Street\", \"city\": \"Los Angeles\", \"state\": \"CA\", \"zip\": \"90011\", \"lat\": \"34.026618\", \"lng\": \"-118.258624\", \"phone\": \"(213) 747-3176\", \"state_name\": \"California\", \"brand\": \"King Taco\", \"updated\": \"2024-11-16\", \"type\": \"Feature\", \"geometry\": {\"type\": \"Point\", \"coordinates\": [-118.258624, 34.026618]}}, {\"id\": \"887\", \"store\": \"KING TACO #6B\", \"address\": \"645 E. Washington Blvd.\", \"city\": \"Los Angeles\", \"state\": \"CA\", \"zip\": \"90015\", \"lat\": \"34.02826\", \"lng\": \"-118.25745\", \"phone\": \"(213) 747-9915\", \"state_name\": \"California\", \"brand\": \"King Taco\", \"updated\": \"2024-11-16\", \"type\": \"Feature\", \"geometry\": {\"type\": \"Point\", \"coordinates\": [-118.25745, 34.02826]}}, {\"id\": \"890\", \"store\": \"KING TACO #8\", \"address\": \"2904 N. Broadway Ave\", \"city\": \"Los Angeles\", \"state\": \"CA\", \"zip\": \"90031\", \"lat\": \"34.07367\", \"lng\": \"-118.21142\", \"phone\": \"(323) 222-8500\", \"state_name\": \"California\", \"brand\": \"King Taco\", \"updated\": \"2024-11-16\", \"type\": \"Feature\", \"geometry\": {\"type\": \"Point\", \"coordinates\": [-118.21142, 34.07367]}}, {\"id\": \"893\", \"store\": \"KING TACO #9\", \"address\": \"2400 E. Cesar Chavez Ave\", \"city\": \"Los Angeles\", \"state\": \"CA\", \"zip\": \"90033\", \"lat\": \"34.04667\", \"lng\": \"-118.20750\", \"phone\": \"(323) 264-3940\", \"state_name\": \"California\", \"brand\": \"King Taco\", \"updated\": \"2024-11-16\", \"type\": \"Feature\", \"geometry\": {\"type\": \"Point\", \"coordinates\": [-118.2075, 34.04667]}}, {\"id\": \"896\", \"store\": \"KING TACO #10\", \"address\": \"2020 W. Pico Boulevard\", \"city\": \"Los Angeles\", \"state\": \"CA\", \"zip\": \"90006\", \"lat\": \"34.04695\", \"lng\": \"-118.28209\", \"phone\": \"\", \"state_name\": \"California\", \"brand\": \"King Taco\", \"updated\": \"2024-11-16\", \"type\": \"Feature\", \"geometry\": {\"type\": \"Point\", \"coordinates\": [-118.28209, 34.04695]}}, {\"id\": \"899\", \"store\": \"KING TACO #11\", \"address\": \"10420 E Garvey Ave\", \"city\": \"El Monte\", \"state\": \"CA\", \"zip\": \"91733\", \"lat\": \"34.06279\", \"lng\": \"-118.04452\", \"phone\": \"(626) 448-5150\", \"state_name\": \"California\", \"brand\": \"King Taco\", \"updated\": \"2024-11-16\", \"type\": \"Feature\", \"geometry\": {\"type\": \"Point\", \"coordinates\": [-118.04452, 34.06279]}}, {\"id\": \"902\", \"store\": \"KING TACO #12\", \"address\": \"5729 Atlantic Blvd.\", \"city\": \"Maywood\", \"state\": \"CA\", \"zip\": \"90270\", \"lat\": \"33.98848\", \"lng\": \"-118.18565\", \"phone\": \"(323) 560-1245\", \"state_name\": \"California\", \"brand\": \"King Taco\", \"updated\": \"2024-11-16\", \"type\": \"Feature\", \"geometry\": {\"type\": \"Point\", \"coordinates\": [-118.18565, 33.98848]}}, {\"id\": \"905\", \"store\": \"KING TACO #15\", \"address\": \"4300 E. Olympic Blvd\", \"city\": \"Los Angeles\", \"state\": \"CA\", \"zip\": \"90023\", \"lat\": \"34.01878\", \"lng\": \"-118.17966\", \"phone\": \"(323) 264-9051\", \"state_name\": \"California\", \"brand\": \"King Taco\", \"updated\": \"2024-11-16\", \"type\": \"Feature\", \"geometry\": {\"type\": \"Point\", \"coordinates\": [-118.17966, 34.01878]}}, {\"id\": \"908\", \"store\": \"KING TACO #18\", \"address\": \"14318 Ramona Blvd.\", \"city\": \"Baldwin Park\", \"state\": \"CA\", \"zip\": \"91706\", \"lat\": \"34.08591\", \"lng\": \"-117.96186\", \"phone\": \"(626) 962-5995\", \"state_name\": \"California\", \"brand\": \"King Taco\", \"updated\": \"2024-11-16\", \"type\": \"Feature\", \"geometry\": {\"type\": \"Point\", \"coordinates\": [-117.96186, 34.08591]}}, {\"id\": \"911\", \"store\": \"KING TACO #20\", \"address\": \"3900 North Peck Road\", \"city\": \"El Monte\", \"state\": \"CA\", \"zip\": \"91732\", \"lat\": \"34.07637\", \"lng\": \"-118.02136\", \"phone\": \"(626) 350-5698\", \"state_name\": \"California\", \"brand\": \"King Taco\", \"updated\": \"2024-11-16\", \"type\": \"Feature\", \"geometry\": {\"type\": \"Point\", \"coordinates\": [-118.02136, 34.07637]}}, {\"id\": \"914\", \"store\": \"KING TACO #21\", \"address\": \"45 N. Arroyo Parkway\", \"city\": \"Pasadena\", \"state\": \"CA\", \"zip\": \"91103\", \"lat\": \"34.14497\", \"lng\": \"-118.14786\", \"phone\": \"(626) 792-0405\", \"state_name\": \"California\", \"brand\": \"King Taco\", \"updated\": \"2024-11-16\", \"type\": \"Feature\", \"geometry\": {\"type\": \"Point\", \"coordinates\": [-118.14786, 34.14497]}}, {\"id\": \"920\", \"store\": \"KING TACO #24\", \"address\": \"12102 Long Beach Blvd\", \"city\": \"Lynwood\", \"state\": \"CA\", \"zip\": \"90262\", \"lat\": \"33.91812\", \"lng\": \"-118.20903\", \"phone\": \"(310) 884-9984\", \"state_name\": \"California\", \"brand\": \"King Taco\", \"updated\": \"2024-11-16\", \"type\": \"Feature\", \"geometry\": {\"type\": \"Point\", \"coordinates\": [-118.20903, 33.91812]}}, {\"id\": \"923\", \"store\": \"KING TACO #25\", \"address\": \"6722 Rosemead Blvd\", \"city\": \"Pico Rivera\", \"state\": \"CA\", \"zip\": \"90660\", \"lat\": \"33.98422\", \"lng\": \"-118.09596\", \"phone\": \"(562) 942-8177\", \"state_name\": \"California\", \"brand\": \"King Taco\", \"updated\": \"2024-11-16\", \"type\": \"Feature\", \"geometry\": {\"type\": \"Point\", \"coordinates\": [-118.09596, 33.98422]}}, {\"id\": \"926\", \"store\": \"KING TACO #26\", \"address\": \"7623 Pacific Boulevard\", \"city\": \"Walnut Park\", \"state\": \"CA\", \"zip\": \"90255\", \"lat\": \"33.97033\", \"lng\": \"-118.22545\", \"phone\": \"(323) 584-9975\", \"state_name\": \"California\", \"brand\": \"King Taco\", \"updated\": \"2024-11-16\", \"type\": \"Feature\", \"geometry\": {\"type\": \"Point\", \"coordinates\": [-118.22545, 33.97033]}}, {\"id\": \"929\", \"store\": \"KING TACO #27\", \"address\": \"1841 Long Beach Blvd.\", \"city\": \"Long Beach\", \"state\": \"CA\", \"zip\": \"90806\", \"lat\": \"33.79084\", \"lng\": \"-118.18983\", \"phone\": \"(562) 218-9118\", \"state_name\": \"California\", \"brand\": \"King Taco\", \"updated\": \"2024-11-16\", \"type\": \"Feature\", \"geometry\": {\"type\": \"Point\", \"coordinates\": [-118.18983, 33.79084]}}, {\"id\": \"932\", \"store\": \"KING TACO #28\", \"address\": \"406 N. Mountain Ave.\", \"city\": \"Ontario\", \"state\": \"CA\", \"zip\": \"91762\", \"lat\": \"34.06739\", \"lng\": \"-117.66980\", \"phone\": \"(909) 933-9150\", \"state_name\": \"California\", \"brand\": \"King Taco\", \"updated\": \"2024-11-16\", \"type\": \"Feature\", \"geometry\": {\"type\": \"Point\", \"coordinates\": [-117.6698, 34.06739]}}, {\"id\": \"935\", \"store\": \"KING TACO #29\", \"address\": \"117 E. Broadway\", \"city\": \"Glendale\", \"state\": \"CA\", \"zip\": \"91205\", \"lat\": \"34.14665\", \"lng\": \"-118.25405\", \"phone\": \"(818) 409-0172\", \"state_name\": \"California\", \"brand\": \"King Taco\", \"updated\": \"2024-11-16\", \"type\": \"Feature\", \"geometry\": {\"type\": \"Point\", \"coordinates\": [-118.25405, 34.14665]}}, {\"id\": \"537\", \"store\": \"KING TACO #30\", \"address\": \"15916 Lakewood Blvd.\", \"city\": \"Bellflower\", \"state\": \"CA\", \"zip\": \"90706\", \"lat\": \"33.888682\", \"lng\": \"-118.14228\", \"phone\": \"(562) 925-1048\", \"state_name\": \"California\", \"brand\": \"King Taco\", \"updated\": \"2024-11-16\", \"type\": \"Feature\", \"geometry\": {\"type\": \"Point\", \"coordinates\": [-118.14228, 33.888682]}}]}}, {\"mode\": \"vega-lite\"});\n",
       "</script>"
      ],
      "text/plain": [
       "alt.LayerChart(...)"
      ]
     },
     "execution_count": 25,
     "metadata": {},
     "output_type": "execute_result"
    }
   ],
   "source": [
    "points = (\n",
    "    alt.Chart(gdf)\n",
    "    .mark_circle(size=5, color=color)\n",
    "    .encode(\n",
    "        longitude=\"lng:Q\",\n",
    "        latitude=\"lat:Q\",\n",
    "    )\n",
    ")\n",
    "\n",
    "point_map = background + points\n",
    "point_map.configure_view(stroke=None)"
   ]
  },
  {
   "cell_type": "markdown",
   "id": "41af18db-4aeb-4259-a7c1-b52471eb8693",
   "metadata": {},
   "source": [
    "## Exports"
   ]
  },
  {
   "cell_type": "markdown",
   "id": "e3831fb4-1062-4cab-9730-933ff07e01f0",
   "metadata": {},
   "source": [
    "#### JSON"
   ]
  },
  {
   "cell_type": "code",
   "execution_count": 27,
   "id": "e1e78a42-ba8a-49aa-a699-58e33fa204d0",
   "metadata": {},
   "outputs": [],
   "source": [
    "df.to_json(\n",
    "    f\"data/processed/{place.lower().replace(' ', '_')}_locations.json\",\n",
    "    indent=4,\n",
    "    orient=\"records\",\n",
    ")"
   ]
  },
  {
   "cell_type": "markdown",
   "id": "d737f808-9d71-4f25-8cd1-3fcedc45ab63",
   "metadata": {},
   "source": [
    "#### CSV"
   ]
  },
  {
   "cell_type": "code",
   "execution_count": 28,
   "id": "0504831b-4df4-4ff2-bd26-f08ef7ca9198",
   "metadata": {},
   "outputs": [],
   "source": [
    "df.to_csv(\n",
    "    f\"data/processed/{place.lower().replace(' ', '_')}_locations.csv\", index=False\n",
    ")"
   ]
  },
  {
   "cell_type": "markdown",
   "id": "eb8769bc-1de1-40d0-9b7b-4892893606ee",
   "metadata": {},
   "source": [
    "#### GeoJSON"
   ]
  },
  {
   "cell_type": "code",
   "execution_count": 29,
   "id": "3aaff910-d7a8-4b73-acdf-6b49e09bbe2f",
   "metadata": {},
   "outputs": [],
   "source": [
    "gdf.to_file(\n",
    "    f\"data/processed/{place.lower().replace(' ', '_')}_locations.geojson\",\n",
    "    driver=\"GeoJSON\",\n",
    ")"
   ]
  },
  {
   "cell_type": "code",
   "execution_count": null,
   "id": "70e7b585-1272-4a7e-99f7-4caaee5d6ce5",
   "metadata": {},
   "outputs": [],
   "source": []
  }
 ],
 "metadata": {
  "kernelspec": {
   "display_name": "Python 3 (ipykernel)",
   "language": "python",
   "name": "python3"
  },
  "language_info": {
   "codemirror_mode": {
    "name": "ipython",
    "version": 3
   },
   "file_extension": ".py",
   "mimetype": "text/x-python",
   "name": "python",
   "nbconvert_exporter": "python",
   "pygments_lexer": "ipython3",
   "version": "3.9.15"
  }
 },
 "nbformat": 4,
 "nbformat_minor": 5
}
