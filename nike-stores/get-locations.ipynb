{
 "cells": [
  {
   "cell_type": "markdown",
   "id": "0fdd4e16-e062-4146-9c40-05a340ecc972",
   "metadata": {},
   "source": [
    "# Get Nike locations"
   ]
  },
  {
   "cell_type": "markdown",
   "id": "d220b525-cb48-4784-87ae-9860164a1c04",
   "metadata": {},
   "source": [
    "#### Load Python tools and Jupyter config"
   ]
  },
  {
   "cell_type": "code",
   "execution_count": null,
   "id": "c3b1c77c-b670-495b-aca3-e14b06448d51",
   "metadata": {},
   "outputs": [],
   "source": [
    "import us \n",
    "import json\n",
    "import black\n",
    "import requests\n",
    "import pandas as pd\n",
    "import jupyter_black\n",
    "import altair as alt\n",
    "import geopandas as gpd\n",
    "from bs4 import BeautifulSoup\n",
    "from vega_datasets import data\n",
    "from tqdm.notebook import tqdm, trange"
   ]
  },
  {
   "cell_type": "code",
   "execution_count": null,
   "id": "3ef9eefb-2887-4a07-995d-eb12d1dd251d",
   "metadata": {},
   "outputs": [],
   "source": [
    "jupyter_black.load()\n",
    "pd.options.display.max_columns = 100\n",
    "pd.options.display.max_rows = 1000\n",
    "pd.options.display.max_colwidth = None"
   ]
  },
  {
   "cell_type": "code",
   "execution_count": null,
   "id": "ac5ec9e2-d2b4-48ea-ad76-2d0b3049c7a0",
   "metadata": {},
   "outputs": [],
   "source": [
    "place = \"nike\"\n",
    "place_formal = \"Nike\"\n",
    "color = \"#ff6600\"\n",
    "latitude = \"39.106667\"\n",
    "longitude = \"-94.676392\""
   ]
  },
  {
   "cell_type": "markdown",
   "id": "3bbfd20b-7936-4f21-a091-697fca808ab1",
   "metadata": {},
   "source": [
    "## Read data"
   ]
  },
  {
   "cell_type": "markdown",
   "id": "70c799af-d3be-4577-96fa-ba056f433607",
   "metadata": {},
   "source": [
    "#### All the locations"
   ]
  },
  {
   "cell_type": "code",
   "execution_count": null,
   "id": "ee2c3ec8-8556-4b55-afa7-ca9d3d85b173",
   "metadata": {},
   "outputs": [],
   "source": [
    "headers = {\n",
    "    \"authority\": \"api.nike.com\",\n",
    "    \"content-type\": \"application/json; charset=UTF-8\",\n",
    "    \"user-agent\": \"Mozilla/5.0 (Macintosh; Intel Mac OS X 10_15_7) AppleWebKit/537.36 (KHTML, like Gecko) Chrome/120.0.0.0 Safari/537.36\",\n",
    "}\n",
    "\n",
    "response = requests.get(\n",
    "    \"https://api.nike.com/store/store_locations/v1?fields=storeNumber,storeServices,id,name,address,businessConcept,company,coordinates,distance,facilityType,imageUrl,localizations,storeConcept,offerings,operationalDetails,phone,region,slug,timezone,defaultLanguage&search=(facilityType%20=in=%20(%20%27NIKE_OWNED_STORE%27))%20and%20(businessConcept%20=out=%20(%27EMPLOYEE_STORE%27,%20%27BRAND_POPUP%27))%20and%20(brand%20!=%20%27CONVERSE%27)%20and%20(coordinates=geoProximity=%7B%22latitude%22%3A34%2C%22longitude%22%3A-118.43%2C%22maxDistance%22%3A50000%2C%22measurementUnits%22%3A%22mi%22%7D)&count=2000\",\n",
    "    headers=headers,\n",
    ")"
   ]
  },
  {
   "cell_type": "code",
   "execution_count": null,
   "id": "ee6e1e5e-b0d5-415a-8025-5cced6c460e5",
   "metadata": {},
   "outputs": [],
   "source": [
    "src = pd.DataFrame(response.json()[\"objects\"]).drop(\n",
    "    [\"storeServices\", \"offerings\", \"imageUrl\", \"id\", \"businessConcept\", \"distance\"],\n",
    "    axis=1,\n",
    ")"
   ]
  },
  {
   "cell_type": "code",
   "execution_count": null,
   "id": "d7c77819-44f8-4120-9a9d-b4017906f16a",
   "metadata": {},
   "outputs": [],
   "source": [
    "src[\n",
    "    [\n",
    "        \"address1\",\n",
    "        \"address2\",\n",
    "        \"area\",\n",
    "        \"city\",\n",
    "        \"state\",\n",
    "        \"postalCode\",\n",
    "        \"country\",\n",
    "        \"iso2Country\",\n",
    "        \"address3\",\n",
    "        \"county\",\n",
    "    ]\n",
    "] = pd.json_normalize(src[\"address\"])"
   ]
  },
  {
   "cell_type": "code",
   "execution_count": null,
   "id": "7c6c79b7-b080-460d-86ca-35bd2a99d0bb",
   "metadata": {},
   "outputs": [],
   "source": [
    "src[\"open_date\"] = pd.json_normalize(src[\"operationalDetails\"])[\"openingDate\"]"
   ]
  },
  {
   "cell_type": "code",
   "execution_count": null,
   "id": "957cdceb-9aed-41b0-80ea-7f5db709786b",
   "metadata": {},
   "outputs": [],
   "source": [
    "src[[\"latitude\", \"longitude\"]] = pd.json_normalize(src[\"coordinates\"])"
   ]
  },
  {
   "cell_type": "code",
   "execution_count": null,
   "id": "037f93f0-7cdf-4fe3-8090-dbffbac33da1",
   "metadata": {},
   "outputs": [],
   "source": [
    "df = (\n",
    "    src.query(\"country == 'USA'\")[\n",
    "        [\n",
    "            \"storeNumber\",\n",
    "            \"facilityType\",\n",
    "            \"phone\",\n",
    "            \"name\",\n",
    "            \"region\",\n",
    "            \"company\",\n",
    "            \"address1\",\n",
    "            \"city\",\n",
    "            \"state\",\n",
    "            \"postalCode\",\n",
    "            \"country\",\n",
    "            \"open_date\",\n",
    "            \"latitude\",\n",
    "            \"longitude\",\n",
    "        ]\n",
    "    ]\n",
    "    .rename(columns={\"address1\": \"street\"})\n",
    "    .copy()\n",
    ")"
   ]
  },
  {
   "cell_type": "markdown",
   "id": "95d9f5a9-5901-4180-b456-650bc4c7df62",
   "metadata": {},
   "source": [
    "#### Create a mapping of state abbreviations to full state names using the us library"
   ]
  },
  {
   "cell_type": "code",
   "execution_count": null,
   "id": "18485bc1-ac20-4715-b117-2ffc36a4de10",
   "metadata": {},
   "outputs": [],
   "source": [
    "state_mapping = {state.abbr: state.name for state in us.states.STATES}"
   ]
  },
  {
   "cell_type": "markdown",
   "id": "79c8058d-7943-483c-87f7-7bbd17dc1c2e",
   "metadata": {},
   "source": [
    "#### New column of full state names based on abbreviations"
   ]
  },
  {
   "cell_type": "code",
   "execution_count": null,
   "id": "4ac392a2-543e-4462-82e3-5a900291bf7e",
   "metadata": {},
   "outputs": [],
   "source": [
    "df[\"state_name\"] = df[\"state\"].map(state_mapping)"
   ]
  },
  {
   "cell_type": "code",
   "execution_count": null,
   "id": "7a2754fa-0b7b-47ab-836f-450c153c4f9f",
   "metadata": {},
   "outputs": [],
   "source": [
    "len(df)"
   ]
  },
  {
   "cell_type": "markdown",
   "id": "e7b3fd8a-f3d9-408f-be6c-6a4f74c1936c",
   "metadata": {},
   "source": [
    "---"
   ]
  },
  {
   "cell_type": "markdown",
   "id": "2a94ce72-86ab-4528-863d-2bf9ecba8a04",
   "metadata": {},
   "source": [
    "## Geography"
   ]
  },
  {
   "cell_type": "markdown",
   "id": "9dcbf09d-a0e4-4644-94f1-f34f3a9b0879",
   "metadata": {},
   "source": [
    "#### Make it a geodataframe"
   ]
  },
  {
   "cell_type": "code",
   "execution_count": null,
   "id": "920e5fe7-a6fd-4a10-97f0-c1dd0b7bef72",
   "metadata": {},
   "outputs": [],
   "source": [
    "df_geo = df.copy()"
   ]
  },
  {
   "cell_type": "code",
   "execution_count": null,
   "id": "4072e19f-2567-427d-82d5-2c8a925278da",
   "metadata": {},
   "outputs": [],
   "source": [
    "gdf = gpd.GeoDataFrame(\n",
    "    df_geo, geometry=gpd.points_from_xy(df_geo.longitude, df_geo.latitude)\n",
    ")"
   ]
  },
  {
   "cell_type": "markdown",
   "id": "c28b0009-ef1b-4942-b894-44d9cdd147a8",
   "metadata": {},
   "source": [
    "---"
   ]
  },
  {
   "cell_type": "markdown",
   "id": "b3bdfa8b-80a5-4135-81bf-557bde921235",
   "metadata": {},
   "source": [
    "## Maps"
   ]
  },
  {
   "cell_type": "markdown",
   "id": "9651f790-aa41-4f4a-b74d-5900d605d552",
   "metadata": {},
   "source": [
    "#### US states background"
   ]
  },
  {
   "cell_type": "code",
   "execution_count": null,
   "id": "95c369d7-8a64-4f49-a05f-79c444cf4e28",
   "metadata": {},
   "outputs": [],
   "source": [
    "background = (\n",
    "    alt.Chart(alt.topo_feature(data.us_10m.url, feature=\"states\"))\n",
    "    .mark_geoshape(fill=\"#e9e9e9\", stroke=\"white\")\n",
    "    .properties(width=800, height=500, title=f\"{place_formal} locations\")\n",
    "    .project(\"albersUsa\")\n",
    ")"
   ]
  },
  {
   "cell_type": "markdown",
   "id": "5c7d16fb-3bb6-4e3a-8d3b-5e854247347a",
   "metadata": {},
   "source": [
    "#### Location points map"
   ]
  },
  {
   "cell_type": "code",
   "execution_count": null,
   "id": "b624cc2f-c724-4849-9a4b-761258a3f8ad",
   "metadata": {},
   "outputs": [],
   "source": [
    "points = (\n",
    "    alt.Chart(gdf)\n",
    "    .mark_circle(size=10, color=color)\n",
    "    .encode(\n",
    "        longitude=\"longitude:Q\",\n",
    "        latitude=\"latitude:Q\",\n",
    "    )\n",
    ")\n",
    "\n",
    "point_map = background + points\n",
    "point_map.configure_view(stroke=None)"
   ]
  },
  {
   "cell_type": "markdown",
   "id": "2f80ad83-daa5-4e32-9a76-f74df6da7e45",
   "metadata": {},
   "source": [
    "#### Location proportional symbols map"
   ]
  },
  {
   "cell_type": "code",
   "execution_count": null,
   "id": "6cdad978-98db-4088-9286-662c92824fd5",
   "metadata": {},
   "outputs": [],
   "source": [
    "symbols = (\n",
    "    alt.Chart(gdf)\n",
    "    .transform_aggregate(\n",
    "        latitude=\"mean(latitude)\",\n",
    "        longitude=\"mean(longitude)\",\n",
    "        count=\"count()\",\n",
    "        groupby=[\"state\"],\n",
    "    )\n",
    "    .mark_circle()\n",
    "    .encode(\n",
    "        longitude=\"longitude:Q\",\n",
    "        latitude=\"latitude:Q\",\n",
    "        size=alt.Size(\"count:Q\", title=\"Count by state\"),\n",
    "        color=alt.value(color),\n",
    "        tooltip=[\"state:N\", \"count:Q\"],\n",
    "    )\n",
    "    .properties(\n",
    "        title=f\"Number of {place_formal} in US, by average lon/lat of locations\"\n",
    "    )\n",
    ")\n",
    "\n",
    "symbol_map = background + symbols\n",
    "symbol_map.configure_view(stroke=None)"
   ]
  },
  {
   "cell_type": "markdown",
   "id": "2eb37b8f-d91e-4bcf-9f19-331e2914ad98",
   "metadata": {},
   "source": [
    "---"
   ]
  },
  {
   "cell_type": "markdown",
   "id": "f3d396e0-2419-4a89-b50f-934fb4caac4c",
   "metadata": {},
   "source": [
    "## Exports"
   ]
  },
  {
   "cell_type": "markdown",
   "id": "bc6dc33a-2675-4784-8405-feae77ac25c0",
   "metadata": {},
   "source": [
    "#### JSON"
   ]
  },
  {
   "cell_type": "code",
   "execution_count": null,
   "id": "e1e78a42-ba8a-49aa-a699-58e33fa204d0",
   "metadata": {},
   "outputs": [],
   "source": [
    "df.to_json(\n",
    "    f\"data/processed/{place.lower().replace(' ', '_')}_locations.json\",\n",
    "    indent=4,\n",
    "    orient=\"records\",\n",
    ")"
   ]
  },
  {
   "cell_type": "markdown",
   "id": "110e48e0-4d7b-4a8f-8d8a-060f39a941cb",
   "metadata": {},
   "source": [
    "#### CSV"
   ]
  },
  {
   "cell_type": "code",
   "execution_count": null,
   "id": "0504831b-4df4-4ff2-bd26-f08ef7ca9198",
   "metadata": {},
   "outputs": [],
   "source": [
    "df.to_csv(\n",
    "    f\"data/processed/{place.lower().replace(' ', '_')}_locations.csv\", index=False\n",
    ")"
   ]
  },
  {
   "cell_type": "markdown",
   "id": "494ec921-86f2-4573-be3f-9d08843c9db8",
   "metadata": {},
   "source": [
    "#### GeoJSON"
   ]
  },
  {
   "cell_type": "code",
   "execution_count": null,
   "id": "3aaff910-d7a8-4b73-acdf-6b49e09bbe2f",
   "metadata": {},
   "outputs": [],
   "source": [
    "gdf.to_file(\n",
    "    f\"data/processed/{place.lower().replace(' ', '_')}_locations.geojson\",\n",
    "    driver=\"GeoJSON\",\n",
    ")"
   ]
  }
 ],
 "metadata": {
  "kernelspec": {
   "display_name": "Python 3 (ipykernel)",
   "language": "python",
   "name": "python3"
  },
  "language_info": {
   "codemirror_mode": {
    "name": "ipython",
    "version": 3
   },
   "file_extension": ".py",
   "mimetype": "text/x-python",
   "name": "python",
   "nbconvert_exporter": "python",
   "pygments_lexer": "ipython3",
   "version": "3.9.15"
  }
 },
 "nbformat": 4,
 "nbformat_minor": 5
}
