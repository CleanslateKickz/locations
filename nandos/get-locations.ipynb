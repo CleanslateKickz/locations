{
 "cells": [
  {
   "cell_type": "markdown",
   "id": "0fdd4e16-e062-4146-9c40-05a340ecc972",
   "metadata": {},
   "source": [
    "# Get Nandos locations"
   ]
  },
  {
   "cell_type": "markdown",
   "id": "2cd6a4cf-3892-4cc9-97de-84f87dc86d7d",
   "metadata": {},
   "source": [
    "#### Load Python tools and Jupyter config"
   ]
  },
  {
   "cell_type": "code",
   "execution_count": 1,
   "id": "c3b1c77c-b670-495b-aca3-e14b06448d51",
   "metadata": {},
   "outputs": [],
   "source": [
    "import us \n",
    "import json\n",
    "import black\n",
    "import requests\n",
    "import pandas as pd\n",
    "import jupyter_black\n",
    "import altair as alt\n",
    "import geopandas as gpd\n",
    "from bs4 import BeautifulSoup\n",
    "from vega_datasets import data\n",
    "from tqdm.notebook import tqdm, trange"
   ]
  },
  {
   "cell_type": "code",
   "execution_count": 2,
   "id": "3ef9eefb-2887-4a07-995d-eb12d1dd251d",
   "metadata": {},
   "outputs": [
    {
     "data": {
      "text/html": [
       "\n",
       "                <script type=\"application/javascript\" id=\"jupyter_black\">\n",
       "                (function() {\n",
       "                    if (window.IPython === undefined) {\n",
       "                        return\n",
       "                    }\n",
       "                    var msg = \"WARNING: it looks like you might have loaded \" +\n",
       "                        \"jupyter_black in a non-lab notebook with \" +\n",
       "                        \"`is_lab=True`. Please double check, and if \" +\n",
       "                        \"loading with `%load_ext` please review the README!\"\n",
       "                    console.log(msg)\n",
       "                    alert(msg)\n",
       "                })()\n",
       "                </script>\n",
       "                "
      ],
      "text/plain": [
       "<IPython.core.display.HTML object>"
      ]
     },
     "metadata": {},
     "output_type": "display_data"
    }
   ],
   "source": [
    "jupyter_black.load()\n",
    "pd.options.display.max_columns = 100\n",
    "pd.options.display.max_rows = 1000\n",
    "pd.options.display.max_colwidth = None"
   ]
  },
  {
   "cell_type": "code",
   "execution_count": 3,
   "id": "ac5ec9e2-d2b4-48ea-ad76-2d0b3049c7a0",
   "metadata": {},
   "outputs": [],
   "source": [
    "place = \"nandos\"\n",
    "place_formal = \"Nando's\"\n",
    "color = \"#e6007d\""
   ]
  },
  {
   "cell_type": "markdown",
   "id": "3bbfd20b-7936-4f21-a091-697fca808ab1",
   "metadata": {},
   "source": [
    "## Read data"
   ]
  },
  {
   "cell_type": "markdown",
   "id": "70c799af-d3be-4577-96fa-ba056f433607",
   "metadata": {},
   "source": [
    "#### All the locations"
   ]
  },
  {
   "cell_type": "code",
   "execution_count": 4,
   "id": "bd4d1c20-0ab5-4456-81b7-661e440e8c20",
   "metadata": {},
   "outputs": [],
   "source": [
    "headers = {\n",
    "    \"user-agent\": \"Mozilla/5.0 (Macintosh; Intel Mac OS X 10_15_7) AppleWebKit/537.36 (KHTML, like Gecko) Chrome/120.0.0.0 Safari/537.36\",\n",
    "}"
   ]
  },
  {
   "cell_type": "code",
   "execution_count": 5,
   "id": "d8cada9a-c1b9-4712-974a-f07f9a322104",
   "metadata": {},
   "outputs": [],
   "source": [
    "response = requests.get(\"https://www.nandosperiperi.com/find/\", headers=headers)\n",
    "soup = BeautifulSoup(response.text, \"html.parser\")"
   ]
  },
  {
   "cell_type": "code",
   "execution_count": 6,
   "id": "7276481b-8db7-4a59-9264-7597e72470a6",
   "metadata": {},
   "outputs": [],
   "source": [
    "json_data = json.loads(soup.find(\"script\", id=\"__NEXT_DATA__\").string)"
   ]
  },
  {
   "cell_type": "code",
   "execution_count": 7,
   "id": "4bf72698-2880-4100-98f2-4d46ca317e1b",
   "metadata": {},
   "outputs": [],
   "source": [
    "src = pd.DataFrame(json_data[\"props\"][\"pageProps\"][\"allLocations\"][\"restaurants\"])"
   ]
  },
  {
   "cell_type": "code",
   "execution_count": 8,
   "id": "bffa616e-abdd-4d83-ae9e-42c4626c2342",
   "metadata": {},
   "outputs": [],
   "source": [
    "df = (\n",
    "    src[\n",
    "        [\n",
    "            \"id\",\n",
    "            \"name\",\n",
    "            \"streetAddress\",\n",
    "            \"city\",\n",
    "            \"state\",\n",
    "            \"zipCode\",\n",
    "            \"latitude\",\n",
    "            \"longitude\",\n",
    "            \"telephone\",\n",
    "        ]\n",
    "    ]\n",
    "    .rename(columns={\"streetAddress\": \"street\", \"telephone\": \"phone\"})\n",
    "    .copy()\n",
    ")"
   ]
  },
  {
   "cell_type": "markdown",
   "id": "58b8fd30-f387-4a3b-ae40-632c10505e39",
   "metadata": {},
   "source": [
    "#### The result? "
   ]
  },
  {
   "cell_type": "code",
   "execution_count": 9,
   "id": "633467fd-7ae7-4dde-821c-8cf6f34cd6bd",
   "metadata": {},
   "outputs": [
    {
     "data": {
      "text/html": [
       "<div>\n",
       "<style scoped>\n",
       "    .dataframe tbody tr th:only-of-type {\n",
       "        vertical-align: middle;\n",
       "    }\n",
       "\n",
       "    .dataframe tbody tr th {\n",
       "        vertical-align: top;\n",
       "    }\n",
       "\n",
       "    .dataframe thead th {\n",
       "        text-align: right;\n",
       "    }\n",
       "</style>\n",
       "<table border=\"1\" class=\"dataframe\">\n",
       "  <thead>\n",
       "    <tr style=\"text-align: right;\">\n",
       "      <th></th>\n",
       "      <th>id</th>\n",
       "      <th>name</th>\n",
       "      <th>street</th>\n",
       "      <th>city</th>\n",
       "      <th>state</th>\n",
       "      <th>zipCode</th>\n",
       "      <th>latitude</th>\n",
       "      <th>longitude</th>\n",
       "      <th>phone</th>\n",
       "    </tr>\n",
       "  </thead>\n",
       "  <tbody>\n",
       "    <tr>\n",
       "      <th>0</th>\n",
       "      <td>98</td>\n",
       "      <td>Peachtree Corners</td>\n",
       "      <td>5161 Peachtree PKWY, #605</td>\n",
       "      <td>Norcross</td>\n",
       "      <td>GA</td>\n",
       "      <td>30092</td>\n",
       "      <td>33.98000647063222</td>\n",
       "      <td>-84.21784185109394</td>\n",
       "      <td>None</td>\n",
       "    </tr>\n",
       "    <tr>\n",
       "      <th>1</th>\n",
       "      <td>99</td>\n",
       "      <td>PERimeter</td>\n",
       "      <td>120 High Street, Suite 210</td>\n",
       "      <td>Dunwoody</td>\n",
       "      <td>GA</td>\n",
       "      <td>30346</td>\n",
       "      <td>33.924941</td>\n",
       "      <td>-84.346361</td>\n",
       "      <td>None</td>\n",
       "    </tr>\n",
       "    <tr>\n",
       "      <th>2</th>\n",
       "      <td>TX</td>\n",
       "      <td>Mueller</td>\n",
       "      <td>1825 McBee Street</td>\n",
       "      <td>Austin</td>\n",
       "      <td>TX</td>\n",
       "      <td>78723</td>\n",
       "      <td>30.297298</td>\n",
       "      <td>-97.702375</td>\n",
       "      <td>None</td>\n",
       "    </tr>\n",
       "    <tr>\n",
       "      <th>3</th>\n",
       "      <td>127951</td>\n",
       "      <td>Waugh Chapel</td>\n",
       "      <td>1403 S. Main Chapel Way Ste 111</td>\n",
       "      <td>Gambrills</td>\n",
       "      <td>MD</td>\n",
       "      <td>21054</td>\n",
       "      <td>39.0322832</td>\n",
       "      <td>-76.6856883</td>\n",
       "      <td>14433026225</td>\n",
       "    </tr>\n",
       "    <tr>\n",
       "      <th>4</th>\n",
       "      <td>127952</td>\n",
       "      <td>Baltimore St</td>\n",
       "      <td>421 W. Baltimore St</td>\n",
       "      <td>Baltimore</td>\n",
       "      <td>MD</td>\n",
       "      <td>21201</td>\n",
       "      <td>39.2890885</td>\n",
       "      <td>-76.621934</td>\n",
       "      <td>14436813675</td>\n",
       "    </tr>\n",
       "  </tbody>\n",
       "</table>\n",
       "</div>"
      ],
      "text/plain": [
       "       id               name                           street       city  \\\n",
       "0      98  Peachtree Corners        5161 Peachtree PKWY, #605   Norcross   \n",
       "1      99          PERimeter       120 High Street, Suite 210   Dunwoody   \n",
       "2      TX            Mueller                1825 McBee Street     Austin   \n",
       "3  127951       Waugh Chapel  1403 S. Main Chapel Way Ste 111  Gambrills   \n",
       "4  127952       Baltimore St              421 W. Baltimore St  Baltimore   \n",
       "\n",
       "  state zipCode           latitude           longitude        phone  \n",
       "0    GA   30092  33.98000647063222  -84.21784185109394         None  \n",
       "1    GA   30346          33.924941          -84.346361         None  \n",
       "2    TX   78723          30.297298          -97.702375         None  \n",
       "3    MD   21054         39.0322832         -76.6856883  14433026225  \n",
       "4    MD   21201         39.2890885          -76.621934  14436813675  "
      ]
     },
     "execution_count": 9,
     "metadata": {},
     "output_type": "execute_result"
    }
   ],
   "source": [
    "df.head()"
   ]
  },
  {
   "cell_type": "markdown",
   "id": "764b3f05-f0de-44bc-931b-94ff1ed3942e",
   "metadata": {},
   "source": [
    "#### How many locations?"
   ]
  },
  {
   "cell_type": "code",
   "execution_count": 10,
   "id": "0e10bd05-3b69-4c14-a2c4-83a1bac1a325",
   "metadata": {},
   "outputs": [
    {
     "data": {
      "text/plain": [
       "48"
      ]
     },
     "execution_count": 10,
     "metadata": {},
     "output_type": "execute_result"
    }
   ],
   "source": [
    "len(df)"
   ]
  },
  {
   "cell_type": "markdown",
   "id": "1b0134b9-0b53-41ae-a498-891b729ac265",
   "metadata": {},
   "source": [
    "#### Create a mapping of state abbreviations to full state names using the us library"
   ]
  },
  {
   "cell_type": "code",
   "execution_count": 11,
   "id": "18485bc1-ac20-4715-b117-2ffc36a4de10",
   "metadata": {},
   "outputs": [],
   "source": [
    "state_mapping = {state.abbr: state.name for state in us.states.STATES}"
   ]
  },
  {
   "cell_type": "markdown",
   "id": "02a07567-2cda-40d0-a1db-9f51fdb03a67",
   "metadata": {},
   "source": [
    "#### New column of full state names based on abbreviations"
   ]
  },
  {
   "cell_type": "code",
   "execution_count": 12,
   "id": "5d7c356a-a44b-4b86-aaf9-4db2a05cb3e9",
   "metadata": {},
   "outputs": [],
   "source": [
    "df[\"state_name\"] = df[\"state\"].map(state_mapping)"
   ]
  },
  {
   "cell_type": "markdown",
   "id": "ef406bd4-65b5-4f26-8404-051b13a83585",
   "metadata": {},
   "source": [
    "#### Make sure our brand name gets in the dataframe"
   ]
  },
  {
   "cell_type": "code",
   "execution_count": 13,
   "id": "d447d483-318e-45a8-962d-221b8ec1982f",
   "metadata": {},
   "outputs": [],
   "source": [
    "df[\"brand\"] = place_formal"
   ]
  },
  {
   "cell_type": "markdown",
   "id": "e836582d-ef21-4876-bfc3-f8298a077b3c",
   "metadata": {},
   "source": [
    "---"
   ]
  },
  {
   "cell_type": "markdown",
   "id": "e9398ab6-73bc-421d-ab31-2e0b625fe541",
   "metadata": {},
   "source": [
    "## Geography"
   ]
  },
  {
   "cell_type": "markdown",
   "id": "2aa8f487-ab80-4d32-84df-651304cd9523",
   "metadata": {},
   "source": [
    "#### Make it a geodataframe"
   ]
  },
  {
   "cell_type": "code",
   "execution_count": 14,
   "id": "920e5fe7-a6fd-4a10-97f0-c1dd0b7bef72",
   "metadata": {},
   "outputs": [],
   "source": [
    "df_geo = df.copy()"
   ]
  },
  {
   "cell_type": "code",
   "execution_count": 15,
   "id": "4072e19f-2567-427d-82d5-2c8a925278da",
   "metadata": {},
   "outputs": [],
   "source": [
    "gdf = gpd.GeoDataFrame(\n",
    "    df_geo, geometry=gpd.points_from_xy(df_geo.longitude, df_geo.latitude)\n",
    ")"
   ]
  },
  {
   "cell_type": "markdown",
   "id": "67db45d5-afdf-4347-a2a0-da8aa3728779",
   "metadata": {},
   "source": [
    "---"
   ]
  },
  {
   "cell_type": "markdown",
   "id": "b3c311f9-dd29-4524-8932-67858cd3cec0",
   "metadata": {},
   "source": [
    "## Maps"
   ]
  },
  {
   "cell_type": "markdown",
   "id": "93b0579e-620d-4a08-afd8-ad489be0557e",
   "metadata": {},
   "source": [
    "#### US states background"
   ]
  },
  {
   "cell_type": "code",
   "execution_count": 16,
   "id": "95c369d7-8a64-4f49-a05f-79c444cf4e28",
   "metadata": {},
   "outputs": [],
   "source": [
    "background = (\n",
    "    alt.Chart(alt.topo_feature(data.us_10m.url, feature=\"states\"))\n",
    "    .mark_geoshape(fill=\"#e9e9e9\", stroke=\"white\")\n",
    "    .properties(width=800, height=500, title=f\"{place_formal} locations\")\n",
    "    .project(\"albersUsa\")\n",
    ")"
   ]
  },
  {
   "cell_type": "markdown",
   "id": "a914fc11-a8c6-49d1-96d2-8b5f83b01cc7",
   "metadata": {},
   "source": [
    "#### Location points map"
   ]
  },
  {
   "cell_type": "code",
   "execution_count": 17,
   "id": "b624cc2f-c724-4849-9a4b-761258a3f8ad",
   "metadata": {},
   "outputs": [
    {
     "data": {
      "text/html": [
       "\n",
       "<style>\n",
       "  #altair-viz-15869cc32fdf413da770c1d026f30020.vega-embed {\n",
       "    width: 100%;\n",
       "    display: flex;\n",
       "  }\n",
       "\n",
       "  #altair-viz-15869cc32fdf413da770c1d026f30020.vega-embed details,\n",
       "  #altair-viz-15869cc32fdf413da770c1d026f30020.vega-embed details summary {\n",
       "    position: relative;\n",
       "  }\n",
       "</style>\n",
       "<div id=\"altair-viz-15869cc32fdf413da770c1d026f30020\"></div>\n",
       "<script type=\"text/javascript\">\n",
       "  var VEGA_DEBUG = (typeof VEGA_DEBUG == \"undefined\") ? {} : VEGA_DEBUG;\n",
       "  (function(spec, embedOpt){\n",
       "    let outputDiv = document.currentScript.previousElementSibling;\n",
       "    if (outputDiv.id !== \"altair-viz-15869cc32fdf413da770c1d026f30020\") {\n",
       "      outputDiv = document.getElementById(\"altair-viz-15869cc32fdf413da770c1d026f30020\");\n",
       "    }\n",
       "    const paths = {\n",
       "      \"vega\": \"https://cdn.jsdelivr.net/npm/vega@5?noext\",\n",
       "      \"vega-lib\": \"https://cdn.jsdelivr.net/npm/vega-lib?noext\",\n",
       "      \"vega-lite\": \"https://cdn.jsdelivr.net/npm/vega-lite@5.16.3?noext\",\n",
       "      \"vega-embed\": \"https://cdn.jsdelivr.net/npm/vega-embed@6?noext\",\n",
       "    };\n",
       "\n",
       "    function maybeLoadScript(lib, version) {\n",
       "      var key = `${lib.replace(\"-\", \"\")}_version`;\n",
       "      return (VEGA_DEBUG[key] == version) ?\n",
       "        Promise.resolve(paths[lib]) :\n",
       "        new Promise(function(resolve, reject) {\n",
       "          var s = document.createElement('script');\n",
       "          document.getElementsByTagName(\"head\")[0].appendChild(s);\n",
       "          s.async = true;\n",
       "          s.onload = () => {\n",
       "            VEGA_DEBUG[key] = version;\n",
       "            return resolve(paths[lib]);\n",
       "          };\n",
       "          s.onerror = () => reject(`Error loading script: ${paths[lib]}`);\n",
       "          s.src = paths[lib];\n",
       "        });\n",
       "    }\n",
       "\n",
       "    function showError(err) {\n",
       "      outputDiv.innerHTML = `<div class=\"error\" style=\"color:red;\">${err}</div>`;\n",
       "      throw err;\n",
       "    }\n",
       "\n",
       "    function displayChart(vegaEmbed) {\n",
       "      vegaEmbed(outputDiv, spec, embedOpt)\n",
       "        .catch(err => showError(`Javascript Error: ${err.message}<br>This usually means there's a typo in your chart specification. See the javascript console for the full traceback.`));\n",
       "    }\n",
       "\n",
       "    if(typeof define === \"function\" && define.amd) {\n",
       "      requirejs.config({paths});\n",
       "      require([\"vega-embed\"], displayChart, err => showError(`Error loading script: ${err.message}`));\n",
       "    } else {\n",
       "      maybeLoadScript(\"vega\", \"5\")\n",
       "        .then(() => maybeLoadScript(\"vega-lite\", \"5.16.3\"))\n",
       "        .then(() => maybeLoadScript(\"vega-embed\", \"6\"))\n",
       "        .catch(showError)\n",
       "        .then(() => displayChart(vegaEmbed));\n",
       "    }\n",
       "  })({\"config\": {\"view\": {\"continuousWidth\": 300, \"continuousHeight\": 300, \"stroke\": null}}, \"layer\": [{\"data\": {\"url\": \"https://cdn.jsdelivr.net/npm/vega-datasets@v1.29.0/data/us-10m.json\", \"format\": {\"feature\": \"states\", \"type\": \"topojson\"}}, \"mark\": {\"type\": \"geoshape\", \"fill\": \"#e9e9e9\", \"stroke\": \"white\"}, \"projection\": {\"type\": \"albersUsa\"}, \"title\": \"Nando's locations\"}, {\"data\": {\"name\": \"data-11f42a0d099f19a1ce610dcfacc791d6\"}, \"mark\": {\"type\": \"circle\", \"color\": \"#e6007d\", \"size\": 5}, \"encoding\": {\"latitude\": {\"field\": \"latitude\", \"type\": \"quantitative\"}, \"longitude\": {\"field\": \"longitude\", \"type\": \"quantitative\"}}}], \"height\": 500, \"width\": 800, \"$schema\": \"https://vega.github.io/schema/vega-lite/v5.16.3.json\", \"datasets\": {\"data-11f42a0d099f19a1ce610dcfacc791d6\": [{\"id\": \"98\", \"name\": \"Peachtree Corners\", \"street\": \"5161 Peachtree PKWY, #605\", \"city\": \"Norcross\", \"state\": \"GA\", \"zipCode\": \"30092\", \"latitude\": \"33.98000647063222\", \"longitude\": \"-84.21784185109394\", \"phone\": null, \"state_name\": \"Georgia\", \"brand\": \"Nando's\", \"type\": \"Feature\", \"geometry\": {\"type\": \"Point\", \"coordinates\": [-84.21784185109394, 33.98000647063222]}}, {\"id\": \"99\", \"name\": \"PERimeter\", \"street\": \"120 High Street, Suite 210\", \"city\": \"Dunwoody\", \"state\": \"GA\", \"zipCode\": \"30346\", \"latitude\": \"33.924941\", \"longitude\": \"-84.346361\", \"phone\": null, \"state_name\": \"Georgia\", \"brand\": \"Nando's\", \"type\": \"Feature\", \"geometry\": {\"type\": \"Point\", \"coordinates\": [-84.346361, 33.924941]}}, {\"id\": \"TX\", \"name\": \"Mueller\", \"street\": \"1825 McBee Street\", \"city\": \"Austin\", \"state\": \"TX\", \"zipCode\": \"78723\", \"latitude\": \"30.297298\", \"longitude\": \"-97.702375\", \"phone\": null, \"state_name\": \"Texas\", \"brand\": \"Nando's\", \"type\": \"Feature\", \"geometry\": {\"type\": \"Point\", \"coordinates\": [-97.702375, 30.297298]}}, {\"id\": \"127951\", \"name\": \"Waugh Chapel\", \"street\": \"1403 S. Main Chapel Way Ste 111\", \"city\": \"Gambrills\", \"state\": \"MD\", \"zipCode\": \"21054\", \"latitude\": \"39.0322832\", \"longitude\": \"-76.6856883\", \"phone\": \"14433026225\", \"state_name\": \"Maryland\", \"brand\": \"Nando's\", \"type\": \"Feature\", \"geometry\": {\"type\": \"Point\", \"coordinates\": [-76.6856883, 39.0322832]}}, {\"id\": \"127952\", \"name\": \"Baltimore St\", \"street\": \"421 W. Baltimore St\", \"city\": \"Baltimore\", \"state\": \"MD\", \"zipCode\": \"21201\", \"latitude\": \"39.2890885\", \"longitude\": \"-76.621934\", \"phone\": \"14436813675\", \"state_name\": \"Maryland\", \"brand\": \"Nando's\", \"type\": \"Feature\", \"geometry\": {\"type\": \"Point\", \"coordinates\": [-76.621934, 39.2890885]}}, {\"id\": \"127953\", \"name\": \"Woodbridge\", \"street\": \"15001 Potomac Town Place #150\", \"city\": \"Woodbridge\", \"state\": \"VA\", \"zipCode\": \"22191\", \"latitude\": \"38.6287586\", \"longitude\": \"-77.2874083\", \"phone\": \"15716596340\", \"state_name\": \"Virginia\", \"brand\": \"Nando's\", \"type\": \"Feature\", \"geometry\": {\"type\": \"Point\", \"coordinates\": [-77.2874083, 38.6287586]}}, {\"id\": \"127954\", \"name\": \"The Yards\", \"street\": \"300 Tingey St SE #150\", \"city\": \"Washington\", \"state\": \"DC\", \"zipCode\": \"20003\", \"latitude\": \"38.8750946\", \"longitude\": \"-77.0011755\", \"phone\": \"12025541920\", \"state_name\": null, \"brand\": \"Nando's\", \"type\": \"Feature\", \"geometry\": {\"type\": \"Point\", \"coordinates\": [-77.0011755, 38.8750946]}}, {\"id\": \"127955\", \"name\": \"Arundel Mills\", \"street\": \"7000 Arundel Mills Circle #229\", \"city\": \"Hanover\", \"state\": \"MD\", \"zipCode\": \"21076\", \"latitude\": \"39.1571321\", \"longitude\": \"-76.7252813\", \"phone\": \"14432966415\", \"state_name\": \"Maryland\", \"brand\": \"Nando's\", \"type\": \"Feature\", \"geometry\": {\"type\": \"Point\", \"coordinates\": [-76.7252813, 39.1571321]}}, {\"id\": \"127956\", \"name\": \"Gainesville\", \"street\": \"14030 Promenade Commons Ste D1\", \"city\": \"Gainesville\", \"state\": \"VA\", \"zipCode\": \"20155\", \"latitude\": \"38.7879672\", \"longitude\": \"-77.6069137\", \"phone\": \"17037534100\", \"state_name\": \"Virginia\", \"brand\": \"Nando's\", \"type\": \"Feature\", \"geometry\": {\"type\": \"Point\", \"coordinates\": [-77.6069137, 38.7879672]}}, {\"id\": \"127957\", \"name\": \"Tenleytown\", \"street\": \"4231 Wisconsin Ave NW\", \"city\": \"Washington\", \"state\": \"DC\", \"zipCode\": \"20016\", \"latitude\": \"38.9441734\", \"longitude\": \"-77.0772522\", \"phone\": \"12028211312\", \"state_name\": null, \"brand\": \"Nando's\", \"type\": \"Feature\", \"geometry\": {\"type\": \"Point\", \"coordinates\": [-77.0772522, 38.9441734]}}, {\"id\": \"127958\", \"name\": \"Ashburn\", \"street\": \"20556 Easthampton Plaza\", \"city\": \"Ashburn\", \"state\": \"VA\", \"zipCode\": \"20147\", \"latitude\": \"39.0525571\", \"longitude\": \"-77.4542968\", \"phone\": \"17038584200\", \"state_name\": \"Virginia\", \"brand\": \"Nando's\", \"type\": \"Feature\", \"geometry\": {\"type\": \"Point\", \"coordinates\": [-77.4542968, 39.0525571]}}, {\"id\": \"127959\", \"name\": \"Towson\", \"street\": \"109 E. Joppa Rd\", \"city\": \"Towson\", \"state\": \"MD\", \"zipCode\": \"21286\", \"latitude\": \"39.4011841\", \"longitude\": \"-76.6008202\", \"phone\": \"14108321380\", \"state_name\": \"Maryland\", \"brand\": \"Nando's\", \"type\": \"Feature\", \"geometry\": {\"type\": \"Point\", \"coordinates\": [-76.6008202, 39.4011841]}}, {\"id\": \"127960\", \"name\": \"Laurel\", \"street\": \"14722 Baltimore Ave Ste 107\", \"city\": \"Laurel\", \"state\": \"MD\", \"zipCode\": \"20707\", \"latitude\": \"39.0942206\", \"longitude\": \"-76.8567361\", \"phone\": \"13014970720\", \"state_name\": \"Maryland\", \"brand\": \"Nando's\", \"type\": \"Feature\", \"geometry\": {\"type\": \"Point\", \"coordinates\": [-76.8567361, 39.0942206]}}, {\"id\": \"127943\", \"name\": \"18th Street\", \"street\": \"1210 18th St NW\", \"city\": \"Washington\", \"state\": \"DC\", \"zipCode\": \"20036\", \"latitude\": \"38.90615\", \"longitude\": \"-77.0419304\", \"phone\": \"12026218600\", \"state_name\": null, \"brand\": \"Nando's\", \"type\": \"Feature\", \"geometry\": {\"type\": \"Point\", \"coordinates\": [-77.0419304, 38.90615]}}, {\"id\": \"127961\", \"name\": \"Springfield\", \"street\": \"6802 Springfield Mall Ste 6802\", \"city\": \"Springfield\", \"state\": \"VA\", \"zipCode\": \"22150\", \"latitude\": \"38.7746771\", \"longitude\": \"-77.1744734\", \"phone\": \"15712556806\", \"state_name\": \"Virginia\", \"brand\": \"Nando's\", \"type\": \"Feature\", \"geometry\": {\"type\": \"Point\", \"coordinates\": [-77.1744734, 38.7746771]}}, {\"id\": \"127962\", \"name\": \"Harbor East\", \"street\": \"1100 Fleet St\", \"city\": \"Baltimore\", \"state\": \"MD\", \"zipCode\": \"21202\", \"latitude\": \"39.284516\", \"longitude\": \"-76.5995112\", \"phone\": \"14436815181\", \"state_name\": \"Maryland\", \"brand\": \"Nando's\", \"type\": \"Feature\", \"geometry\": {\"type\": \"Point\", \"coordinates\": [-76.5995112, 39.284516]}}, {\"id\": \"127963\", \"name\": \"West Loop\", \"street\": \"953 W. Randolph St\", \"city\": \"Chicago\", \"state\": \"IL\", \"zipCode\": \"60607\", \"latitude\": \"41.8840371\", \"longitude\": \"-87.6517382\", \"phone\": \"13124883062\", \"state_name\": \"Illinois\", \"brand\": \"Nando's\", \"type\": \"Feature\", \"geometry\": {\"type\": \"Point\", \"coordinates\": [-87.6517382, 41.8840371]}}, {\"id\": \"127964\", \"name\": \"Lakeview\", \"street\": \"670 West Diversey Parkway\", \"city\": \"Chicago\", \"state\": \"IL\", \"zipCode\": \"60614\", \"latitude\": \"41.9330169\", \"longitude\": \"-87.6464152\", \"phone\": \"17736347153\", \"state_name\": \"Illinois\", \"brand\": \"Nando's\", \"type\": \"Feature\", \"geometry\": {\"type\": \"Point\", \"coordinates\": [-87.6464152, 41.9330169]}}, {\"id\": \"127965\", \"name\": \"Clybourn\", \"street\": \"1500 N. Clybourn Ave Ste C106\", \"city\": \"Chicago\", \"state\": \"IL\", \"zipCode\": \"60610\", \"latitude\": \"41.9083122\", \"longitude\": \"-87.6462027\", \"phone\": \"13125469723\", \"state_name\": \"Illinois\", \"brand\": \"Nando's\", \"type\": \"Feature\", \"geometry\": {\"type\": \"Point\", \"coordinates\": [-87.6462027, 41.9083122]}}, {\"id\": \"127966\", \"name\": \"College Park\", \"street\": \"7400 Baltimore Ave\", \"city\": \"College Park\", \"state\": \"MD\", \"zipCode\": \"20740\", \"latitude\": \"38.980974\", \"longitude\": \"-76.9381355\", \"phone\": \"12405828420\", \"state_name\": \"Maryland\", \"brand\": \"Nando's\", \"type\": \"Feature\", \"geometry\": {\"type\": \"Point\", \"coordinates\": [-76.9381355, 38.980974]}}, {\"id\": \"127967\", \"name\": \"Wabash\", \"street\": \"22 S. Wabash Ave Ste B1\", \"city\": \"Chicago\", \"state\": \"IL\", \"zipCode\": \"60603\", \"latitude\": \"41.8813694\", \"longitude\": \"-87.6266966\", \"phone\": \"13125897432\", \"state_name\": \"Illinois\", \"brand\": \"Nando's\", \"type\": \"Feature\", \"geometry\": {\"type\": \"Point\", \"coordinates\": [-87.6266966, 41.8813694]}}, {\"id\": \"127968\", \"name\": \"Wheaton\", \"street\": \"11160 Veirs Mill Rd p205\", \"city\": \"Wheaton\", \"state\": \"MD\", \"zipCode\": \"20902\", \"latitude\": \"39.0359362\", \"longitude\": \"-77.0547819\", \"phone\": \"12402927530\", \"state_name\": \"Maryland\", \"brand\": \"Nando's\", \"type\": \"Feature\", \"geometry\": {\"type\": \"Point\", \"coordinates\": [-77.0547819, 39.0359362]}}, {\"id\": \"127969\", \"name\": \"H St\", \"street\": \"411 H St NE\", \"city\": \"Washington\", \"state\": \"DC\", \"zipCode\": \"20002\", \"latitude\": \"38.8999297\", \"longitude\": \"-77.0000874\", \"phone\": \"12028214155\", \"state_name\": null, \"brand\": \"Nando's\", \"type\": \"Feature\", \"geometry\": {\"type\": \"Point\", \"coordinates\": [-77.0000874, 38.8999297]}}, {\"id\": \"127970\", \"name\": \"Naperville\", \"street\": \"6 W. Jefferson Ave\", \"city\": \"Naperville\", \"state\": \"IL\", \"zipCode\": \"60540\", \"latitude\": \"41.7726894\", \"longitude\": \"-88.1481044\", \"phone\": \"16303880193\", \"state_name\": \"Illinois\", \"brand\": \"Nando's\", \"type\": \"Feature\", \"geometry\": {\"type\": \"Point\", \"coordinates\": [-88.1481044, 41.7726894]}}, {\"id\": \"127971\", \"name\": \"Oak Park\", \"street\": \"1138 Lake St\", \"city\": \"Oak Park\", \"state\": \"IL\", \"zipCode\": \"60301\", \"latitude\": \"41.8888548\", \"longitude\": \"-87.8042626\", \"phone\": \"17084346296\", \"state_name\": \"Illinois\", \"brand\": \"Nando's\", \"type\": \"Feature\", \"geometry\": {\"type\": \"Point\", \"coordinates\": [-87.8042626, 41.8888548]}}, {\"id\": \"127972\", \"name\": \"Mosaic\", \"street\": \"2987 District Ave Ste 100\", \"city\": \"Fairfax\", \"state\": \"VA\", \"zipCode\": \"22031\", \"latitude\": \"38.8689264\", \"longitude\": \"-77.2316249\", \"phone\": \"15716207731\", \"state_name\": \"Virginia\", \"brand\": \"Nando's\", \"type\": \"Feature\", \"geometry\": {\"type\": \"Point\", \"coordinates\": [-77.2316249, 38.8689264]}}, {\"id\": \"127973\", \"name\": \"South Loop\", \"street\": \"1005 S. Delano Court East Ste F126C\", \"city\": \"Chicago\", \"state\": \"IL\", \"zipCode\": \"60605\", \"latitude\": \"41.8697312\", \"longitude\": \"-87.6324913\", \"phone\": \"13122047151\", \"state_name\": \"Illinois\", \"brand\": \"Nando's\", \"type\": \"Feature\", \"geometry\": {\"type\": \"Point\", \"coordinates\": [-87.6324913, 41.8697312]}}, {\"id\": \"127974\", \"name\": \"Streeterville\", \"street\": \"227 E. Ontario St\", \"city\": \"Chicago\", \"state\": \"IL\", \"zipCode\": \"60611\", \"latitude\": \"41.8931646\", \"longitude\": \"-87.6216438\", \"phone\": \"13124886551\", \"state_name\": \"Illinois\", \"brand\": \"Nando's\", \"type\": \"Feature\", \"geometry\": {\"type\": \"Point\", \"coordinates\": [-87.6216438, 41.8931646]}}, {\"id\": \"127975\", \"name\": \"Woodley Park\", \"street\": \"2631 Connecticut Ave NW\", \"city\": \"Washington\", \"state\": \"DC\", \"zipCode\": \"20008\", \"latitude\": \"38.9244751\", \"longitude\": \"-77.0517555\", \"phone\": \"12022041251\", \"state_name\": null, \"brand\": \"Nando's\", \"type\": \"Feature\", \"geometry\": {\"type\": \"Point\", \"coordinates\": [-77.0517555, 38.9244751]}}, {\"id\": \"127976\", \"name\": \"Ballston\", \"street\": \"4401 Wilson Blvd\", \"city\": \"Arlington\", \"state\": \"VA\", \"zipCode\": \"22203\", \"latitude\": \"38.8805325\", \"longitude\": \"-77.1135489\", \"phone\": \"17038885459\", \"state_name\": \"Virginia\", \"brand\": \"Nando's\", \"type\": \"Feature\", \"geometry\": {\"type\": \"Point\", \"coordinates\": [-77.1135489, 38.8805325]}}, {\"id\": \"127977\", \"name\": \"Oakbrook\", \"street\": \"523 Oakbrook Center\", \"city\": \"Oak Brook\", \"state\": \"IL\", \"zipCode\": \"60523\", \"latitude\": \"41.8520024\", \"longitude\": \"-87.9525821\", \"phone\": \"16302304348\", \"state_name\": \"Illinois\", \"brand\": \"Nando's\", \"type\": \"Feature\", \"geometry\": {\"type\": \"Point\", \"coordinates\": [-87.9525821, 41.8520024]}}, {\"id\": \"127978\", \"name\": \"Old Orchard\", \"street\": \"4999 Old Orchard Ctr\", \"city\": \"Skokie\", \"state\": \"IL\", \"zipCode\": \"60077\", \"latitude\": \"42.0615141\", \"longitude\": \"-87.7490376\", \"phone\": \"18479726833\", \"state_name\": \"Illinois\", \"brand\": \"Nando's\", \"type\": \"Feature\", \"geometry\": {\"type\": \"Point\", \"coordinates\": [-87.7490376, 42.0615141]}}, {\"id\": \"127979\", \"name\": \"Hyde Park\", \"street\": \"1447 E 53rd St\", \"city\": \"Chicago\", \"state\": \"IL\", \"zipCode\": \"60615\", \"latitude\": \"41.799232\", \"longitude\": \"-87.5899417\", \"phone\": \"17736755261\", \"state_name\": \"Illinois\", \"brand\": \"Nando's\", \"type\": \"Feature\", \"geometry\": {\"type\": \"Point\", \"coordinates\": [-87.5899417, 41.799232]}}, {\"id\": \"127980\", \"name\": \"Michigan Ave\", \"street\": \"117 E Lake St\", \"city\": \"Chicago\", \"state\": \"IL\", \"zipCode\": \"60601\", \"latitude\": \"41.8855582\", \"longitude\": \"-87.6240636\", \"phone\": \"13126625934\", \"state_name\": \"Illinois\", \"brand\": \"Nando's\", \"type\": \"Feature\", \"geometry\": {\"type\": \"Point\", \"coordinates\": [-87.6240636, 41.8855582]}}, {\"id\": \"127945\", \"name\": \"Silver Spring\", \"street\": \"924 Ellsworth Dr\", \"city\": \"Silver Spring\", \"state\": \"MD\", \"zipCode\": \"20910\", \"latitude\": \"38.9955443\", \"longitude\": \"-77.0264455\", \"phone\": \"13015887280\", \"state_name\": \"Maryland\", \"brand\": \"Nando's\", \"type\": \"Feature\", \"geometry\": {\"type\": \"Point\", \"coordinates\": [-77.0264455, 38.9955443]}}, {\"id\": \"127981\", \"name\": \"Reston\", \"street\": \"12120 Sunset Hills Rd\", \"city\": \"Reston\", \"state\": \"VA\", \"zipCode\": \"20190\", \"latitude\": \"38.9549775\", \"longitude\": \"-77.3650574\", \"phone\": \"15716655806\", \"state_name\": \"Virginia\", \"brand\": \"Nando's\", \"type\": \"Feature\", \"geometry\": {\"type\": \"Point\", \"coordinates\": [-77.3650574, 38.9549775]}}, {\"id\": \"127982\", \"name\": \"Rosslyn\", \"street\": \"1800 North Lynn Street\", \"city\": \"Rosslyn\", \"state\": \"VA\", \"zipCode\": \"22209\", \"latitude\": \"38.8967418\", \"longitude\": \"-77.0708404\", \"phone\": \"15712007909\", \"state_name\": \"Virginia\", \"brand\": \"Nando's\", \"type\": \"Feature\", \"geometry\": {\"type\": \"Point\", \"coordinates\": [-77.0708404, 38.8967418]}}, {\"id\": \"127983\", \"name\": \"Pike & Rose\", \"street\": \"922 Rose Ave\", \"city\": \"North Bethesda\", \"state\": \"MD\", \"zipCode\": \"20814\", \"latitude\": \"39.0508951\", \"longitude\": \"-77.1165371\", \"phone\": \"12406605050\", \"state_name\": \"Maryland\", \"brand\": \"Nando's\", \"type\": \"Feature\", \"geometry\": {\"type\": \"Point\", \"coordinates\": [-77.1165371, 39.0508951]}}, {\"id\": \"127984\", \"name\": \"Woodmore\", \"street\": \"2700 Campus Way N Suite 105\", \"city\": \"Lanham\", \"state\": \"MD\", \"zipCode\": \"20706\", \"latitude\": \"38.92257\", \"longitude\": \"-76.84642\", \"phone\": \"13013863946\", \"state_name\": \"Maryland\", \"brand\": \"Nando's\", \"type\": \"Feature\", \"geometry\": {\"type\": \"Point\", \"coordinates\": [-76.84642, 38.92257]}}, {\"id\": \"203119\", \"name\": \"Alexandria\", \"street\": \"2462 Mandeville Ln\", \"city\": \"Alexandria\", \"state\": \"VA\", \"zipCode\": \"22332\", \"latitude\": \"38.802628\", \"longitude\": \"-77.0721\", \"phone\": \"15714735500\", \"state_name\": \"Virginia\", \"brand\": \"Nando's\", \"type\": \"Feature\", \"geometry\": {\"type\": \"Point\", \"coordinates\": [-77.0721, 38.802628]}}, {\"id\": \"203279\", \"name\": \"Virginia Beach\", \"street\": \"221 Central Park Ave\", \"city\": \"Virginia Beach\", \"state\": \"VA\", \"zipCode\": \"23462\", \"latitude\": \"36.8424866\", \"longitude\": \"-76.1344868\", \"phone\": \"17572714320\", \"state_name\": \"Virginia\", \"brand\": \"Nando's\", \"type\": \"Feature\", \"geometry\": {\"type\": \"Point\", \"coordinates\": [-76.1344868, 36.8424866]}}, {\"id\": \"219542\", \"name\": \"Post Oak\", \"street\": \"1717-C Post Oak Boulevard\", \"city\": \"Houston\", \"state\": \"TX\", \"zipCode\": \"77056\", \"latitude\": \"29.749248\", \"longitude\": \"-95.4597734\", \"phone\": \"18326699930\", \"state_name\": \"Texas\", \"brand\": \"Nando's\", \"type\": \"Feature\", \"geometry\": {\"type\": \"Point\", \"coordinates\": [-95.4597734, 29.749248]}}, {\"id\": \"224661\", \"name\": \"Cinco Ranch\", \"street\": \"23501 Cinco Ranch Blvd\", \"city\": \"Katy\", \"state\": \"TX\", \"zipCode\": \"77494\", \"latitude\": \"29.7430409\", \"longitude\": \"-95.7751877\", \"phone\": \"18327648570\", \"state_name\": \"Texas\", \"brand\": \"Nando's\", \"type\": \"Feature\", \"geometry\": {\"type\": \"Point\", \"coordinates\": [-95.7751877, 29.7430409]}}, {\"id\": \"224700\", \"name\": \"Addison\", \"street\": \"5100 Belt Line Road\", \"city\": \"Addison\", \"state\": \"TX\", \"zipCode\": \"75254\", \"latitude\": \"32.9515904\", \"longitude\": \"-96.820602\", \"phone\": \"14698920040\", \"state_name\": \"Texas\", \"brand\": \"Nando's\", \"type\": \"Feature\", \"geometry\": {\"type\": \"Point\", \"coordinates\": [-96.820602, 32.9515904]}}, {\"id\": \"216907\", \"name\": \"Penn Quarter\", \"street\": \"836 F Street NW\", \"city\": \"Washington\", \"state\": \"DC\", \"zipCode\": \"20004\", \"latitude\": \"38.8972055\", \"longitude\": \"-77.0235551\", \"phone\": \"17712105300\", \"state_name\": null, \"brand\": \"Nando's\", \"type\": \"Feature\", \"geometry\": {\"type\": \"Point\", \"coordinates\": [-77.0235551, 38.8972055]}}, {\"id\": \"127946\", \"name\": \"Gaithersburg\", \"street\": \"224 Boardwalk Pl\", \"city\": \"Gaithersburg\", \"state\": \"MD\", \"zipCode\": \"20878\", \"latitude\": \"39.1165871\", \"longitude\": \"-77.1977951\", \"phone\": \"12404087146\", \"state_name\": \"Maryland\", \"brand\": \"Nando's\", \"type\": \"Feature\", \"geometry\": {\"type\": \"Point\", \"coordinates\": [-77.1977951, 39.1165871]}}, {\"id\": \"127948\", \"name\": \"National Harbor\", \"street\": \"191 American Way\", \"city\": \"Oxon Hill\", \"state\": \"MD\", \"zipCode\": \"20745\", \"latitude\": \"38.7839365\", \"longitude\": \"-77.015291\", \"phone\": \"13016868388\", \"state_name\": \"Maryland\", \"brand\": \"Nando's\", \"type\": \"Feature\", \"geometry\": {\"type\": \"Point\", \"coordinates\": [-77.015291, 38.7839365]}}, {\"id\": \"127949\", \"name\": \"Pentagon Row\", \"street\": \"1301 S. Joyce St Ste D10\", \"city\": \"Arlington\", \"state\": \"VA\", \"zipCode\": \"22202\", \"latitude\": \"38.8630991\", \"longitude\": \"-77.0631247\", \"phone\": \"15718589953\", \"state_name\": \"Virginia\", \"brand\": \"Nando's\", \"type\": \"Feature\", \"geometry\": {\"type\": \"Point\", \"coordinates\": [-77.0631247, 38.8630991]}}]}}, {\"mode\": \"vega-lite\"});\n",
       "</script>"
      ],
      "text/plain": [
       "alt.LayerChart(...)"
      ]
     },
     "execution_count": 17,
     "metadata": {},
     "output_type": "execute_result"
    }
   ],
   "source": [
    "points = (\n",
    "    alt.Chart(gdf)\n",
    "    .mark_circle(size=5, color=color)\n",
    "    .encode(\n",
    "        longitude=\"longitude:Q\",\n",
    "        latitude=\"latitude:Q\",\n",
    "    )\n",
    ")\n",
    "\n",
    "point_map = background + points\n",
    "point_map.configure_view(stroke=None)"
   ]
  },
  {
   "cell_type": "markdown",
   "id": "0a1fbe27-c0ed-4536-822f-ff6d64d9a78a",
   "metadata": {},
   "source": [
    "#### Location proportional symbols map"
   ]
  },
  {
   "cell_type": "code",
   "execution_count": 18,
   "id": "6cdad978-98db-4088-9286-662c92824fd5",
   "metadata": {},
   "outputs": [
    {
     "data": {
      "text/html": [
       "\n",
       "<style>\n",
       "  #altair-viz-69b4e24837ec4e9097edffcf467393ce.vega-embed {\n",
       "    width: 100%;\n",
       "    display: flex;\n",
       "  }\n",
       "\n",
       "  #altair-viz-69b4e24837ec4e9097edffcf467393ce.vega-embed details,\n",
       "  #altair-viz-69b4e24837ec4e9097edffcf467393ce.vega-embed details summary {\n",
       "    position: relative;\n",
       "  }\n",
       "</style>\n",
       "<div id=\"altair-viz-69b4e24837ec4e9097edffcf467393ce\"></div>\n",
       "<script type=\"text/javascript\">\n",
       "  var VEGA_DEBUG = (typeof VEGA_DEBUG == \"undefined\") ? {} : VEGA_DEBUG;\n",
       "  (function(spec, embedOpt){\n",
       "    let outputDiv = document.currentScript.previousElementSibling;\n",
       "    if (outputDiv.id !== \"altair-viz-69b4e24837ec4e9097edffcf467393ce\") {\n",
       "      outputDiv = document.getElementById(\"altair-viz-69b4e24837ec4e9097edffcf467393ce\");\n",
       "    }\n",
       "    const paths = {\n",
       "      \"vega\": \"https://cdn.jsdelivr.net/npm/vega@5?noext\",\n",
       "      \"vega-lib\": \"https://cdn.jsdelivr.net/npm/vega-lib?noext\",\n",
       "      \"vega-lite\": \"https://cdn.jsdelivr.net/npm/vega-lite@5.16.3?noext\",\n",
       "      \"vega-embed\": \"https://cdn.jsdelivr.net/npm/vega-embed@6?noext\",\n",
       "    };\n",
       "\n",
       "    function maybeLoadScript(lib, version) {\n",
       "      var key = `${lib.replace(\"-\", \"\")}_version`;\n",
       "      return (VEGA_DEBUG[key] == version) ?\n",
       "        Promise.resolve(paths[lib]) :\n",
       "        new Promise(function(resolve, reject) {\n",
       "          var s = document.createElement('script');\n",
       "          document.getElementsByTagName(\"head\")[0].appendChild(s);\n",
       "          s.async = true;\n",
       "          s.onload = () => {\n",
       "            VEGA_DEBUG[key] = version;\n",
       "            return resolve(paths[lib]);\n",
       "          };\n",
       "          s.onerror = () => reject(`Error loading script: ${paths[lib]}`);\n",
       "          s.src = paths[lib];\n",
       "        });\n",
       "    }\n",
       "\n",
       "    function showError(err) {\n",
       "      outputDiv.innerHTML = `<div class=\"error\" style=\"color:red;\">${err}</div>`;\n",
       "      throw err;\n",
       "    }\n",
       "\n",
       "    function displayChart(vegaEmbed) {\n",
       "      vegaEmbed(outputDiv, spec, embedOpt)\n",
       "        .catch(err => showError(`Javascript Error: ${err.message}<br>This usually means there's a typo in your chart specification. See the javascript console for the full traceback.`));\n",
       "    }\n",
       "\n",
       "    if(typeof define === \"function\" && define.amd) {\n",
       "      requirejs.config({paths});\n",
       "      require([\"vega-embed\"], displayChart, err => showError(`Error loading script: ${err.message}`));\n",
       "    } else {\n",
       "      maybeLoadScript(\"vega\", \"5\")\n",
       "        .then(() => maybeLoadScript(\"vega-lite\", \"5.16.3\"))\n",
       "        .then(() => maybeLoadScript(\"vega-embed\", \"6\"))\n",
       "        .catch(showError)\n",
       "        .then(() => displayChart(vegaEmbed));\n",
       "    }\n",
       "  })({\"config\": {\"view\": {\"continuousWidth\": 300, \"continuousHeight\": 300, \"stroke\": null}}, \"layer\": [{\"data\": {\"url\": \"https://cdn.jsdelivr.net/npm/vega-datasets@v1.29.0/data/us-10m.json\", \"format\": {\"feature\": \"states\", \"type\": \"topojson\"}}, \"mark\": {\"type\": \"geoshape\", \"fill\": \"#e9e9e9\", \"stroke\": \"white\"}, \"projection\": {\"type\": \"albersUsa\"}, \"title\": \"Nando's locations\"}, {\"data\": {\"name\": \"data-11f42a0d099f19a1ce610dcfacc791d6\"}, \"mark\": {\"type\": \"circle\"}, \"encoding\": {\"color\": {\"value\": \"#e6007d\"}, \"latitude\": {\"field\": \"latitude\", \"type\": \"quantitative\"}, \"longitude\": {\"field\": \"longitude\", \"type\": \"quantitative\"}, \"size\": {\"field\": \"count\", \"title\": \"Count by state\", \"type\": \"quantitative\"}, \"tooltip\": [{\"field\": \"state\", \"type\": \"nominal\"}, {\"field\": \"count\", \"type\": \"quantitative\"}]}, \"title\": \"Number of Nando's in US, by average lon/lat of locations\", \"transform\": [{\"aggregate\": [{\"op\": \"mean\", \"field\": \"latitude\", \"as\": \"latitude\"}, {\"op\": \"mean\", \"field\": \"longitude\", \"as\": \"longitude\"}, {\"op\": \"count\", \"as\": \"count\"}], \"groupby\": [\"state\"]}]}], \"height\": 500, \"width\": 800, \"$schema\": \"https://vega.github.io/schema/vega-lite/v5.16.3.json\", \"datasets\": {\"data-11f42a0d099f19a1ce610dcfacc791d6\": [{\"id\": \"98\", \"name\": \"Peachtree Corners\", \"street\": \"5161 Peachtree PKWY, #605\", \"city\": \"Norcross\", \"state\": \"GA\", \"zipCode\": \"30092\", \"latitude\": \"33.98000647063222\", \"longitude\": \"-84.21784185109394\", \"phone\": null, \"state_name\": \"Georgia\", \"brand\": \"Nando's\", \"type\": \"Feature\", \"geometry\": {\"type\": \"Point\", \"coordinates\": [-84.21784185109394, 33.98000647063222]}}, {\"id\": \"99\", \"name\": \"PERimeter\", \"street\": \"120 High Street, Suite 210\", \"city\": \"Dunwoody\", \"state\": \"GA\", \"zipCode\": \"30346\", \"latitude\": \"33.924941\", \"longitude\": \"-84.346361\", \"phone\": null, \"state_name\": \"Georgia\", \"brand\": \"Nando's\", \"type\": \"Feature\", \"geometry\": {\"type\": \"Point\", \"coordinates\": [-84.346361, 33.924941]}}, {\"id\": \"TX\", \"name\": \"Mueller\", \"street\": \"1825 McBee Street\", \"city\": \"Austin\", \"state\": \"TX\", \"zipCode\": \"78723\", \"latitude\": \"30.297298\", \"longitude\": \"-97.702375\", \"phone\": null, \"state_name\": \"Texas\", \"brand\": \"Nando's\", \"type\": \"Feature\", \"geometry\": {\"type\": \"Point\", \"coordinates\": [-97.702375, 30.297298]}}, {\"id\": \"127951\", \"name\": \"Waugh Chapel\", \"street\": \"1403 S. Main Chapel Way Ste 111\", \"city\": \"Gambrills\", \"state\": \"MD\", \"zipCode\": \"21054\", \"latitude\": \"39.0322832\", \"longitude\": \"-76.6856883\", \"phone\": \"14433026225\", \"state_name\": \"Maryland\", \"brand\": \"Nando's\", \"type\": \"Feature\", \"geometry\": {\"type\": \"Point\", \"coordinates\": [-76.6856883, 39.0322832]}}, {\"id\": \"127952\", \"name\": \"Baltimore St\", \"street\": \"421 W. Baltimore St\", \"city\": \"Baltimore\", \"state\": \"MD\", \"zipCode\": \"21201\", \"latitude\": \"39.2890885\", \"longitude\": \"-76.621934\", \"phone\": \"14436813675\", \"state_name\": \"Maryland\", \"brand\": \"Nando's\", \"type\": \"Feature\", \"geometry\": {\"type\": \"Point\", \"coordinates\": [-76.621934, 39.2890885]}}, {\"id\": \"127953\", \"name\": \"Woodbridge\", \"street\": \"15001 Potomac Town Place #150\", \"city\": \"Woodbridge\", \"state\": \"VA\", \"zipCode\": \"22191\", \"latitude\": \"38.6287586\", \"longitude\": \"-77.2874083\", \"phone\": \"15716596340\", \"state_name\": \"Virginia\", \"brand\": \"Nando's\", \"type\": \"Feature\", \"geometry\": {\"type\": \"Point\", \"coordinates\": [-77.2874083, 38.6287586]}}, {\"id\": \"127954\", \"name\": \"The Yards\", \"street\": \"300 Tingey St SE #150\", \"city\": \"Washington\", \"state\": \"DC\", \"zipCode\": \"20003\", \"latitude\": \"38.8750946\", \"longitude\": \"-77.0011755\", \"phone\": \"12025541920\", \"state_name\": null, \"brand\": \"Nando's\", \"type\": \"Feature\", \"geometry\": {\"type\": \"Point\", \"coordinates\": [-77.0011755, 38.8750946]}}, {\"id\": \"127955\", \"name\": \"Arundel Mills\", \"street\": \"7000 Arundel Mills Circle #229\", \"city\": \"Hanover\", \"state\": \"MD\", \"zipCode\": \"21076\", \"latitude\": \"39.1571321\", \"longitude\": \"-76.7252813\", \"phone\": \"14432966415\", \"state_name\": \"Maryland\", \"brand\": \"Nando's\", \"type\": \"Feature\", \"geometry\": {\"type\": \"Point\", \"coordinates\": [-76.7252813, 39.1571321]}}, {\"id\": \"127956\", \"name\": \"Gainesville\", \"street\": \"14030 Promenade Commons Ste D1\", \"city\": \"Gainesville\", \"state\": \"VA\", \"zipCode\": \"20155\", \"latitude\": \"38.7879672\", \"longitude\": \"-77.6069137\", \"phone\": \"17037534100\", \"state_name\": \"Virginia\", \"brand\": \"Nando's\", \"type\": \"Feature\", \"geometry\": {\"type\": \"Point\", \"coordinates\": [-77.6069137, 38.7879672]}}, {\"id\": \"127957\", \"name\": \"Tenleytown\", \"street\": \"4231 Wisconsin Ave NW\", \"city\": \"Washington\", \"state\": \"DC\", \"zipCode\": \"20016\", \"latitude\": \"38.9441734\", \"longitude\": \"-77.0772522\", \"phone\": \"12028211312\", \"state_name\": null, \"brand\": \"Nando's\", \"type\": \"Feature\", \"geometry\": {\"type\": \"Point\", \"coordinates\": [-77.0772522, 38.9441734]}}, {\"id\": \"127958\", \"name\": \"Ashburn\", \"street\": \"20556 Easthampton Plaza\", \"city\": \"Ashburn\", \"state\": \"VA\", \"zipCode\": \"20147\", \"latitude\": \"39.0525571\", \"longitude\": \"-77.4542968\", \"phone\": \"17038584200\", \"state_name\": \"Virginia\", \"brand\": \"Nando's\", \"type\": \"Feature\", \"geometry\": {\"type\": \"Point\", \"coordinates\": [-77.4542968, 39.0525571]}}, {\"id\": \"127959\", \"name\": \"Towson\", \"street\": \"109 E. Joppa Rd\", \"city\": \"Towson\", \"state\": \"MD\", \"zipCode\": \"21286\", \"latitude\": \"39.4011841\", \"longitude\": \"-76.6008202\", \"phone\": \"14108321380\", \"state_name\": \"Maryland\", \"brand\": \"Nando's\", \"type\": \"Feature\", \"geometry\": {\"type\": \"Point\", \"coordinates\": [-76.6008202, 39.4011841]}}, {\"id\": \"127960\", \"name\": \"Laurel\", \"street\": \"14722 Baltimore Ave Ste 107\", \"city\": \"Laurel\", \"state\": \"MD\", \"zipCode\": \"20707\", \"latitude\": \"39.0942206\", \"longitude\": \"-76.8567361\", \"phone\": \"13014970720\", \"state_name\": \"Maryland\", \"brand\": \"Nando's\", \"type\": \"Feature\", \"geometry\": {\"type\": \"Point\", \"coordinates\": [-76.8567361, 39.0942206]}}, {\"id\": \"127943\", \"name\": \"18th Street\", \"street\": \"1210 18th St NW\", \"city\": \"Washington\", \"state\": \"DC\", \"zipCode\": \"20036\", \"latitude\": \"38.90615\", \"longitude\": \"-77.0419304\", \"phone\": \"12026218600\", \"state_name\": null, \"brand\": \"Nando's\", \"type\": \"Feature\", \"geometry\": {\"type\": \"Point\", \"coordinates\": [-77.0419304, 38.90615]}}, {\"id\": \"127961\", \"name\": \"Springfield\", \"street\": \"6802 Springfield Mall Ste 6802\", \"city\": \"Springfield\", \"state\": \"VA\", \"zipCode\": \"22150\", \"latitude\": \"38.7746771\", \"longitude\": \"-77.1744734\", \"phone\": \"15712556806\", \"state_name\": \"Virginia\", \"brand\": \"Nando's\", \"type\": \"Feature\", \"geometry\": {\"type\": \"Point\", \"coordinates\": [-77.1744734, 38.7746771]}}, {\"id\": \"127962\", \"name\": \"Harbor East\", \"street\": \"1100 Fleet St\", \"city\": \"Baltimore\", \"state\": \"MD\", \"zipCode\": \"21202\", \"latitude\": \"39.284516\", \"longitude\": \"-76.5995112\", \"phone\": \"14436815181\", \"state_name\": \"Maryland\", \"brand\": \"Nando's\", \"type\": \"Feature\", \"geometry\": {\"type\": \"Point\", \"coordinates\": [-76.5995112, 39.284516]}}, {\"id\": \"127963\", \"name\": \"West Loop\", \"street\": \"953 W. Randolph St\", \"city\": \"Chicago\", \"state\": \"IL\", \"zipCode\": \"60607\", \"latitude\": \"41.8840371\", \"longitude\": \"-87.6517382\", \"phone\": \"13124883062\", \"state_name\": \"Illinois\", \"brand\": \"Nando's\", \"type\": \"Feature\", \"geometry\": {\"type\": \"Point\", \"coordinates\": [-87.6517382, 41.8840371]}}, {\"id\": \"127964\", \"name\": \"Lakeview\", \"street\": \"670 West Diversey Parkway\", \"city\": \"Chicago\", \"state\": \"IL\", \"zipCode\": \"60614\", \"latitude\": \"41.9330169\", \"longitude\": \"-87.6464152\", \"phone\": \"17736347153\", \"state_name\": \"Illinois\", \"brand\": \"Nando's\", \"type\": \"Feature\", \"geometry\": {\"type\": \"Point\", \"coordinates\": [-87.6464152, 41.9330169]}}, {\"id\": \"127965\", \"name\": \"Clybourn\", \"street\": \"1500 N. Clybourn Ave Ste C106\", \"city\": \"Chicago\", \"state\": \"IL\", \"zipCode\": \"60610\", \"latitude\": \"41.9083122\", \"longitude\": \"-87.6462027\", \"phone\": \"13125469723\", \"state_name\": \"Illinois\", \"brand\": \"Nando's\", \"type\": \"Feature\", \"geometry\": {\"type\": \"Point\", \"coordinates\": [-87.6462027, 41.9083122]}}, {\"id\": \"127966\", \"name\": \"College Park\", \"street\": \"7400 Baltimore Ave\", \"city\": \"College Park\", \"state\": \"MD\", \"zipCode\": \"20740\", \"latitude\": \"38.980974\", \"longitude\": \"-76.9381355\", \"phone\": \"12405828420\", \"state_name\": \"Maryland\", \"brand\": \"Nando's\", \"type\": \"Feature\", \"geometry\": {\"type\": \"Point\", \"coordinates\": [-76.9381355, 38.980974]}}, {\"id\": \"127967\", \"name\": \"Wabash\", \"street\": \"22 S. Wabash Ave Ste B1\", \"city\": \"Chicago\", \"state\": \"IL\", \"zipCode\": \"60603\", \"latitude\": \"41.8813694\", \"longitude\": \"-87.6266966\", \"phone\": \"13125897432\", \"state_name\": \"Illinois\", \"brand\": \"Nando's\", \"type\": \"Feature\", \"geometry\": {\"type\": \"Point\", \"coordinates\": [-87.6266966, 41.8813694]}}, {\"id\": \"127968\", \"name\": \"Wheaton\", \"street\": \"11160 Veirs Mill Rd p205\", \"city\": \"Wheaton\", \"state\": \"MD\", \"zipCode\": \"20902\", \"latitude\": \"39.0359362\", \"longitude\": \"-77.0547819\", \"phone\": \"12402927530\", \"state_name\": \"Maryland\", \"brand\": \"Nando's\", \"type\": \"Feature\", \"geometry\": {\"type\": \"Point\", \"coordinates\": [-77.0547819, 39.0359362]}}, {\"id\": \"127969\", \"name\": \"H St\", \"street\": \"411 H St NE\", \"city\": \"Washington\", \"state\": \"DC\", \"zipCode\": \"20002\", \"latitude\": \"38.8999297\", \"longitude\": \"-77.0000874\", \"phone\": \"12028214155\", \"state_name\": null, \"brand\": \"Nando's\", \"type\": \"Feature\", \"geometry\": {\"type\": \"Point\", \"coordinates\": [-77.0000874, 38.8999297]}}, {\"id\": \"127970\", \"name\": \"Naperville\", \"street\": \"6 W. Jefferson Ave\", \"city\": \"Naperville\", \"state\": \"IL\", \"zipCode\": \"60540\", \"latitude\": \"41.7726894\", \"longitude\": \"-88.1481044\", \"phone\": \"16303880193\", \"state_name\": \"Illinois\", \"brand\": \"Nando's\", \"type\": \"Feature\", \"geometry\": {\"type\": \"Point\", \"coordinates\": [-88.1481044, 41.7726894]}}, {\"id\": \"127971\", \"name\": \"Oak Park\", \"street\": \"1138 Lake St\", \"city\": \"Oak Park\", \"state\": \"IL\", \"zipCode\": \"60301\", \"latitude\": \"41.8888548\", \"longitude\": \"-87.8042626\", \"phone\": \"17084346296\", \"state_name\": \"Illinois\", \"brand\": \"Nando's\", \"type\": \"Feature\", \"geometry\": {\"type\": \"Point\", \"coordinates\": [-87.8042626, 41.8888548]}}, {\"id\": \"127972\", \"name\": \"Mosaic\", \"street\": \"2987 District Ave Ste 100\", \"city\": \"Fairfax\", \"state\": \"VA\", \"zipCode\": \"22031\", \"latitude\": \"38.8689264\", \"longitude\": \"-77.2316249\", \"phone\": \"15716207731\", \"state_name\": \"Virginia\", \"brand\": \"Nando's\", \"type\": \"Feature\", \"geometry\": {\"type\": \"Point\", \"coordinates\": [-77.2316249, 38.8689264]}}, {\"id\": \"127973\", \"name\": \"South Loop\", \"street\": \"1005 S. Delano Court East Ste F126C\", \"city\": \"Chicago\", \"state\": \"IL\", \"zipCode\": \"60605\", \"latitude\": \"41.8697312\", \"longitude\": \"-87.6324913\", \"phone\": \"13122047151\", \"state_name\": \"Illinois\", \"brand\": \"Nando's\", \"type\": \"Feature\", \"geometry\": {\"type\": \"Point\", \"coordinates\": [-87.6324913, 41.8697312]}}, {\"id\": \"127974\", \"name\": \"Streeterville\", \"street\": \"227 E. Ontario St\", \"city\": \"Chicago\", \"state\": \"IL\", \"zipCode\": \"60611\", \"latitude\": \"41.8931646\", \"longitude\": \"-87.6216438\", \"phone\": \"13124886551\", \"state_name\": \"Illinois\", \"brand\": \"Nando's\", \"type\": \"Feature\", \"geometry\": {\"type\": \"Point\", \"coordinates\": [-87.6216438, 41.8931646]}}, {\"id\": \"127975\", \"name\": \"Woodley Park\", \"street\": \"2631 Connecticut Ave NW\", \"city\": \"Washington\", \"state\": \"DC\", \"zipCode\": \"20008\", \"latitude\": \"38.9244751\", \"longitude\": \"-77.0517555\", \"phone\": \"12022041251\", \"state_name\": null, \"brand\": \"Nando's\", \"type\": \"Feature\", \"geometry\": {\"type\": \"Point\", \"coordinates\": [-77.0517555, 38.9244751]}}, {\"id\": \"127976\", \"name\": \"Ballston\", \"street\": \"4401 Wilson Blvd\", \"city\": \"Arlington\", \"state\": \"VA\", \"zipCode\": \"22203\", \"latitude\": \"38.8805325\", \"longitude\": \"-77.1135489\", \"phone\": \"17038885459\", \"state_name\": \"Virginia\", \"brand\": \"Nando's\", \"type\": \"Feature\", \"geometry\": {\"type\": \"Point\", \"coordinates\": [-77.1135489, 38.8805325]}}, {\"id\": \"127977\", \"name\": \"Oakbrook\", \"street\": \"523 Oakbrook Center\", \"city\": \"Oak Brook\", \"state\": \"IL\", \"zipCode\": \"60523\", \"latitude\": \"41.8520024\", \"longitude\": \"-87.9525821\", \"phone\": \"16302304348\", \"state_name\": \"Illinois\", \"brand\": \"Nando's\", \"type\": \"Feature\", \"geometry\": {\"type\": \"Point\", \"coordinates\": [-87.9525821, 41.8520024]}}, {\"id\": \"127978\", \"name\": \"Old Orchard\", \"street\": \"4999 Old Orchard Ctr\", \"city\": \"Skokie\", \"state\": \"IL\", \"zipCode\": \"60077\", \"latitude\": \"42.0615141\", \"longitude\": \"-87.7490376\", \"phone\": \"18479726833\", \"state_name\": \"Illinois\", \"brand\": \"Nando's\", \"type\": \"Feature\", \"geometry\": {\"type\": \"Point\", \"coordinates\": [-87.7490376, 42.0615141]}}, {\"id\": \"127979\", \"name\": \"Hyde Park\", \"street\": \"1447 E 53rd St\", \"city\": \"Chicago\", \"state\": \"IL\", \"zipCode\": \"60615\", \"latitude\": \"41.799232\", \"longitude\": \"-87.5899417\", \"phone\": \"17736755261\", \"state_name\": \"Illinois\", \"brand\": \"Nando's\", \"type\": \"Feature\", \"geometry\": {\"type\": \"Point\", \"coordinates\": [-87.5899417, 41.799232]}}, {\"id\": \"127980\", \"name\": \"Michigan Ave\", \"street\": \"117 E Lake St\", \"city\": \"Chicago\", \"state\": \"IL\", \"zipCode\": \"60601\", \"latitude\": \"41.8855582\", \"longitude\": \"-87.6240636\", \"phone\": \"13126625934\", \"state_name\": \"Illinois\", \"brand\": \"Nando's\", \"type\": \"Feature\", \"geometry\": {\"type\": \"Point\", \"coordinates\": [-87.6240636, 41.8855582]}}, {\"id\": \"127945\", \"name\": \"Silver Spring\", \"street\": \"924 Ellsworth Dr\", \"city\": \"Silver Spring\", \"state\": \"MD\", \"zipCode\": \"20910\", \"latitude\": \"38.9955443\", \"longitude\": \"-77.0264455\", \"phone\": \"13015887280\", \"state_name\": \"Maryland\", \"brand\": \"Nando's\", \"type\": \"Feature\", \"geometry\": {\"type\": \"Point\", \"coordinates\": [-77.0264455, 38.9955443]}}, {\"id\": \"127981\", \"name\": \"Reston\", \"street\": \"12120 Sunset Hills Rd\", \"city\": \"Reston\", \"state\": \"VA\", \"zipCode\": \"20190\", \"latitude\": \"38.9549775\", \"longitude\": \"-77.3650574\", \"phone\": \"15716655806\", \"state_name\": \"Virginia\", \"brand\": \"Nando's\", \"type\": \"Feature\", \"geometry\": {\"type\": \"Point\", \"coordinates\": [-77.3650574, 38.9549775]}}, {\"id\": \"127982\", \"name\": \"Rosslyn\", \"street\": \"1800 North Lynn Street\", \"city\": \"Rosslyn\", \"state\": \"VA\", \"zipCode\": \"22209\", \"latitude\": \"38.8967418\", \"longitude\": \"-77.0708404\", \"phone\": \"15712007909\", \"state_name\": \"Virginia\", \"brand\": \"Nando's\", \"type\": \"Feature\", \"geometry\": {\"type\": \"Point\", \"coordinates\": [-77.0708404, 38.8967418]}}, {\"id\": \"127983\", \"name\": \"Pike & Rose\", \"street\": \"922 Rose Ave\", \"city\": \"North Bethesda\", \"state\": \"MD\", \"zipCode\": \"20814\", \"latitude\": \"39.0508951\", \"longitude\": \"-77.1165371\", \"phone\": \"12406605050\", \"state_name\": \"Maryland\", \"brand\": \"Nando's\", \"type\": \"Feature\", \"geometry\": {\"type\": \"Point\", \"coordinates\": [-77.1165371, 39.0508951]}}, {\"id\": \"127984\", \"name\": \"Woodmore\", \"street\": \"2700 Campus Way N Suite 105\", \"city\": \"Lanham\", \"state\": \"MD\", \"zipCode\": \"20706\", \"latitude\": \"38.92257\", \"longitude\": \"-76.84642\", \"phone\": \"13013863946\", \"state_name\": \"Maryland\", \"brand\": \"Nando's\", \"type\": \"Feature\", \"geometry\": {\"type\": \"Point\", \"coordinates\": [-76.84642, 38.92257]}}, {\"id\": \"203119\", \"name\": \"Alexandria\", \"street\": \"2462 Mandeville Ln\", \"city\": \"Alexandria\", \"state\": \"VA\", \"zipCode\": \"22332\", \"latitude\": \"38.802628\", \"longitude\": \"-77.0721\", \"phone\": \"15714735500\", \"state_name\": \"Virginia\", \"brand\": \"Nando's\", \"type\": \"Feature\", \"geometry\": {\"type\": \"Point\", \"coordinates\": [-77.0721, 38.802628]}}, {\"id\": \"203279\", \"name\": \"Virginia Beach\", \"street\": \"221 Central Park Ave\", \"city\": \"Virginia Beach\", \"state\": \"VA\", \"zipCode\": \"23462\", \"latitude\": \"36.8424866\", \"longitude\": \"-76.1344868\", \"phone\": \"17572714320\", \"state_name\": \"Virginia\", \"brand\": \"Nando's\", \"type\": \"Feature\", \"geometry\": {\"type\": \"Point\", \"coordinates\": [-76.1344868, 36.8424866]}}, {\"id\": \"219542\", \"name\": \"Post Oak\", \"street\": \"1717-C Post Oak Boulevard\", \"city\": \"Houston\", \"state\": \"TX\", \"zipCode\": \"77056\", \"latitude\": \"29.749248\", \"longitude\": \"-95.4597734\", \"phone\": \"18326699930\", \"state_name\": \"Texas\", \"brand\": \"Nando's\", \"type\": \"Feature\", \"geometry\": {\"type\": \"Point\", \"coordinates\": [-95.4597734, 29.749248]}}, {\"id\": \"224661\", \"name\": \"Cinco Ranch\", \"street\": \"23501 Cinco Ranch Blvd\", \"city\": \"Katy\", \"state\": \"TX\", \"zipCode\": \"77494\", \"latitude\": \"29.7430409\", \"longitude\": \"-95.7751877\", \"phone\": \"18327648570\", \"state_name\": \"Texas\", \"brand\": \"Nando's\", \"type\": \"Feature\", \"geometry\": {\"type\": \"Point\", \"coordinates\": [-95.7751877, 29.7430409]}}, {\"id\": \"224700\", \"name\": \"Addison\", \"street\": \"5100 Belt Line Road\", \"city\": \"Addison\", \"state\": \"TX\", \"zipCode\": \"75254\", \"latitude\": \"32.9515904\", \"longitude\": \"-96.820602\", \"phone\": \"14698920040\", \"state_name\": \"Texas\", \"brand\": \"Nando's\", \"type\": \"Feature\", \"geometry\": {\"type\": \"Point\", \"coordinates\": [-96.820602, 32.9515904]}}, {\"id\": \"216907\", \"name\": \"Penn Quarter\", \"street\": \"836 F Street NW\", \"city\": \"Washington\", \"state\": \"DC\", \"zipCode\": \"20004\", \"latitude\": \"38.8972055\", \"longitude\": \"-77.0235551\", \"phone\": \"17712105300\", \"state_name\": null, \"brand\": \"Nando's\", \"type\": \"Feature\", \"geometry\": {\"type\": \"Point\", \"coordinates\": [-77.0235551, 38.8972055]}}, {\"id\": \"127946\", \"name\": \"Gaithersburg\", \"street\": \"224 Boardwalk Pl\", \"city\": \"Gaithersburg\", \"state\": \"MD\", \"zipCode\": \"20878\", \"latitude\": \"39.1165871\", \"longitude\": \"-77.1977951\", \"phone\": \"12404087146\", \"state_name\": \"Maryland\", \"brand\": \"Nando's\", \"type\": \"Feature\", \"geometry\": {\"type\": \"Point\", \"coordinates\": [-77.1977951, 39.1165871]}}, {\"id\": \"127948\", \"name\": \"National Harbor\", \"street\": \"191 American Way\", \"city\": \"Oxon Hill\", \"state\": \"MD\", \"zipCode\": \"20745\", \"latitude\": \"38.7839365\", \"longitude\": \"-77.015291\", \"phone\": \"13016868388\", \"state_name\": \"Maryland\", \"brand\": \"Nando's\", \"type\": \"Feature\", \"geometry\": {\"type\": \"Point\", \"coordinates\": [-77.015291, 38.7839365]}}, {\"id\": \"127949\", \"name\": \"Pentagon Row\", \"street\": \"1301 S. Joyce St Ste D10\", \"city\": \"Arlington\", \"state\": \"VA\", \"zipCode\": \"22202\", \"latitude\": \"38.8630991\", \"longitude\": \"-77.0631247\", \"phone\": \"15718589953\", \"state_name\": \"Virginia\", \"brand\": \"Nando's\", \"type\": \"Feature\", \"geometry\": {\"type\": \"Point\", \"coordinates\": [-77.0631247, 38.8630991]}}]}}, {\"mode\": \"vega-lite\"});\n",
       "</script>"
      ],
      "text/plain": [
       "alt.LayerChart(...)"
      ]
     },
     "execution_count": 18,
     "metadata": {},
     "output_type": "execute_result"
    }
   ],
   "source": [
    "symbols = (\n",
    "    alt.Chart(gdf)\n",
    "    .transform_aggregate(\n",
    "        latitude=\"mean(latitude)\",\n",
    "        longitude=\"mean(longitude)\",\n",
    "        count=\"count()\",\n",
    "        groupby=[\"state\"],\n",
    "    )\n",
    "    .mark_circle()\n",
    "    .encode(\n",
    "        longitude=\"longitude:Q\",\n",
    "        latitude=\"latitude:Q\",\n",
    "        size=alt.Size(\"count:Q\", title=\"Count by state\"),\n",
    "        color=alt.value(color),\n",
    "        tooltip=[\"state:N\", \"count:Q\"],\n",
    "    )\n",
    "    .properties(\n",
    "        title=f\"Number of {place_formal} in US, by average lon/lat of locations\"\n",
    "    )\n",
    ")\n",
    "\n",
    "symbol_map = background + symbols\n",
    "symbol_map.configure_view(stroke=None)"
   ]
  },
  {
   "cell_type": "markdown",
   "id": "15b9c879-2480-49f4-99e7-6adc1a4c10aa",
   "metadata": {},
   "source": [
    "---"
   ]
  },
  {
   "cell_type": "markdown",
   "id": "41af18db-4aeb-4259-a7c1-b52471eb8693",
   "metadata": {},
   "source": [
    "## Exports"
   ]
  },
  {
   "cell_type": "markdown",
   "id": "e3831fb4-1062-4cab-9730-933ff07e01f0",
   "metadata": {},
   "source": [
    "#### JSON"
   ]
  },
  {
   "cell_type": "code",
   "execution_count": 19,
   "id": "e1e78a42-ba8a-49aa-a699-58e33fa204d0",
   "metadata": {},
   "outputs": [],
   "source": [
    "df.to_json(\n",
    "    f\"data/processed/{place.lower().replace(' ', '_')}_locations.json\",\n",
    "    indent=4,\n",
    "    orient=\"records\",\n",
    ")"
   ]
  },
  {
   "cell_type": "markdown",
   "id": "d737f808-9d71-4f25-8cd1-3fcedc45ab63",
   "metadata": {},
   "source": [
    "#### CSV"
   ]
  },
  {
   "cell_type": "code",
   "execution_count": 20,
   "id": "0504831b-4df4-4ff2-bd26-f08ef7ca9198",
   "metadata": {},
   "outputs": [],
   "source": [
    "df.to_csv(\n",
    "    f\"data/processed/{place.lower().replace(' ', '_')}_locations.csv\", index=False\n",
    ")"
   ]
  },
  {
   "cell_type": "markdown",
   "id": "eb8769bc-1de1-40d0-9b7b-4892893606ee",
   "metadata": {},
   "source": [
    "#### GeoJSON"
   ]
  },
  {
   "cell_type": "code",
   "execution_count": 21,
   "id": "3aaff910-d7a8-4b73-acdf-6b49e09bbe2f",
   "metadata": {
    "jupyter": {
     "source_hidden": true
    }
   },
   "outputs": [],
   "source": [
    "gdf.to_file(\n",
    "    f\"data/processed/{place.lower().replace(' ', '_')}_locations.geojson\",\n",
    "    driver=\"GeoJSON\",\n",
    ")"
   ]
  }
 ],
 "metadata": {
  "kernelspec": {
   "display_name": "Python 3 (ipykernel)",
   "language": "python",
   "name": "python3"
  },
  "language_info": {
   "codemirror_mode": {
    "name": "ipython",
    "version": 3
   },
   "file_extension": ".py",
   "mimetype": "text/x-python",
   "name": "python",
   "nbconvert_exporter": "python",
   "pygments_lexer": "ipython3",
   "version": "3.9.15"
  }
 },
 "nbformat": 4,
 "nbformat_minor": 5
}
