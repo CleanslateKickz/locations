{
 "cells": [
  {
   "cell_type": "markdown",
   "id": "0fdd4e16-e062-4146-9c40-05a340ecc972",
   "metadata": {},
   "source": [
    "# Get Supreme Grocers locations"
   ]
  },
  {
   "cell_type": "markdown",
   "id": "2cd6a4cf-3892-4cc9-97de-84f87dc86d7d",
   "metadata": {},
   "source": [
    "#### Load Python tools and Jupyter config"
   ]
  },
  {
   "cell_type": "code",
   "execution_count": 1,
   "id": "d51c4622-7e4d-44e5-99d4-a8c01e8a611f",
   "metadata": {},
   "outputs": [],
   "source": [
    "import re\n",
    "import us\n",
    "import json\n",
    "import requests\n",
    "import pandas as pd\n",
    "import jupyter_black\n",
    "import altair as alt\n",
    "import geopandas as gpd\n",
    "from bs4 import BeautifulSoup\n",
    "from vega_datasets import data as vega_data\n",
    "from tqdm.notebook import tqdm, trange"
   ]
  },
  {
   "cell_type": "code",
   "execution_count": 2,
   "id": "3ef9eefb-2887-4a07-995d-eb12d1dd251d",
   "metadata": {},
   "outputs": [
    {
     "data": {
      "text/html": [
       "\n",
       "                <script type=\"application/javascript\" id=\"jupyter_black\">\n",
       "                (function() {\n",
       "                    if (window.IPython === undefined) {\n",
       "                        return\n",
       "                    }\n",
       "                    var msg = \"WARNING: it looks like you might have loaded \" +\n",
       "                        \"jupyter_black in a non-lab notebook with \" +\n",
       "                        \"`is_lab=True`. Please double check, and if \" +\n",
       "                        \"loading with `%load_ext` please review the README!\"\n",
       "                    console.log(msg)\n",
       "                    alert(msg)\n",
       "                })()\n",
       "                </script>\n",
       "                "
      ],
      "text/plain": [
       "<IPython.core.display.HTML object>"
      ]
     },
     "metadata": {},
     "output_type": "display_data"
    },
    {
     "data": {
      "text/plain": [
       "DataTransformerRegistry.enable('default')"
      ]
     },
     "execution_count": 2,
     "metadata": {},
     "output_type": "execute_result"
    }
   ],
   "source": [
    "jupyter_black.load()\n",
    "pd.options.display.max_columns = 100\n",
    "pd.options.display.max_rows = 1000\n",
    "pd.options.display.max_colwidth = None\n",
    "alt.data_transformers.disable_max_rows()"
   ]
  },
  {
   "cell_type": "code",
   "execution_count": 3,
   "id": "83b7fce7-b6e0-4146-b372-a53f86b4aefc",
   "metadata": {},
   "outputs": [],
   "source": [
    "place = \"supreme-grocers\"\n",
    "place_formal = \"Supreme Grocers\"\n",
    "color = \"#ed1c24\"\n",
    "today = pd.Timestamp.today().strftime(\"%Y-%m-%d\")"
   ]
  },
  {
   "cell_type": "markdown",
   "id": "18df54c6-5362-4f8a-a63f-05bd5ffa63d9",
   "metadata": {},
   "source": [
    "---"
   ]
  },
  {
   "cell_type": "markdown",
   "id": "3bbfd20b-7936-4f21-a091-697fca808ab1",
   "metadata": {},
   "source": [
    "## Scrape"
   ]
  },
  {
   "cell_type": "markdown",
   "id": "70c799af-d3be-4577-96fa-ba056f433607",
   "metadata": {},
   "source": [
    "#### Headers for request"
   ]
  },
  {
   "cell_type": "code",
   "execution_count": 4,
   "id": "bd4d1c20-0ab5-4456-81b7-661e440e8c20",
   "metadata": {},
   "outputs": [],
   "source": [
    "headers = {\n",
    "    \"user-agent\": \"Mozilla/5.0 (Macintosh; Intel Mac OS X 10_15_7) AppleWebKit/537.36 (KHTML, like Gecko) Chrome/120.0.0.0 Safari/537.36\",\n",
    "}"
   ]
  },
  {
   "cell_type": "markdown",
   "id": "d495492b-a82d-4c42-8ade-11f81458a5f3",
   "metadata": {},
   "source": [
    "#### Fetch and parse location map page"
   ]
  },
  {
   "cell_type": "code",
   "execution_count": 5,
   "id": "19f0290d-482e-499d-93d8-960ea0d8fc9f",
   "metadata": {},
   "outputs": [],
   "source": [
    "response = requests.get(\"https://superiorgrocers.com/locations/\", headers=headers)\n",
    "soup = BeautifulSoup(response.text, \"html.parser\")"
   ]
  },
  {
   "cell_type": "markdown",
   "id": "0521afa0-2608-4f8b-9b6f-9a9ce5fe3420",
   "metadata": {},
   "source": [
    "#### Make a list of location page urls"
   ]
  },
  {
   "cell_type": "code",
   "execution_count": 6,
   "id": "7ac46cc8-0e85-4e46-bdea-40ca1b7e415d",
   "metadata": {},
   "outputs": [],
   "source": [
    "base_url = \"https://superiorgrocers.com\"\n",
    "urls = soup.find_all(\"a\", class_=\"choose\")\n",
    "location_urls = [\n",
    "    base_url + loc_url.get(\"href\")\n",
    "    for loc_url in urls\n",
    "    if \"location\" in loc_url.get(\"href\")\n",
    "]"
   ]
  },
  {
   "cell_type": "markdown",
   "id": "9532c2a5-9fcf-4907-aacd-a8681e93b7ef",
   "metadata": {},
   "source": [
    "#### Loop through location pages, collecting addresses and coordinates from content"
   ]
  },
  {
   "cell_type": "code",
   "execution_count": 7,
   "id": "592e259e-c1fa-427c-a7cd-48a6e370c76f",
   "metadata": {},
   "outputs": [
    {
     "data": {
      "application/vnd.jupyter.widget-view+json": {
       "model_id": "7bdfebc4d1244dee90e841616a2b81e8",
       "version_major": 2,
       "version_minor": 0
      },
      "text/plain": [
       "  0%|          | 0/73 [00:00<?, ?it/s]"
      ]
     },
     "metadata": {},
     "output_type": "display_data"
    }
   ],
   "source": [
    "locations = []\n",
    "\n",
    "for url in tqdm(location_urls):\n",
    "    response = requests.get(url, headers=headers)\n",
    "    soup = BeautifulSoup(response.content, \"html.parser\")\n",
    "\n",
    "    address_links = soup.find_all(\n",
    "        \"a\", href=re.compile(r\"google\\.com/maps|maps\\.google.com\")\n",
    "    )\n",
    "    address = None\n",
    "    for link in address_links:\n",
    "        if \"maps/place\" in link[\"href\"] or \"?daddr=\" in link[\"href\"]:\n",
    "            address = link[\"href\"]\n",
    "            break  # Assuming you need just one address per location\n",
    "\n",
    "    # Searching for script content using 'string' attribute\n",
    "    script_content = soup.find(\"script\", string=re.compile(r\"var latlon = \\[\"))\n",
    "    latlon = None\n",
    "    store_name = None\n",
    "    if script_content:\n",
    "        # Get the store name from an inline script\n",
    "        store_match = re.search(r\"var store = '(.+?)';\", script_content.string)\n",
    "        if store_match:\n",
    "            store_name = store_match.group(1)\n",
    "\n",
    "        # Regex pattern to deal with occasional space after the comma for latlon\n",
    "        latlon_match = re.search(\n",
    "            r\"var latlon = \\[([-\\d.]+),\\s*([-\\d.]+)\\];\", script_content.string\n",
    "        )\n",
    "        if latlon_match:\n",
    "            latlon = [float(latlon_match.group(1)), float(latlon_match.group(2))]\n",
    "\n",
    "    address_clean = address.replace(\"https://www.google.com/maps/place/\", \"\")\n",
    "\n",
    "    location_dict = {\n",
    "        \"location_name\": store_name,\n",
    "        \"street\": address_clean.split(\"%2C\")[0],\n",
    "        \"city\": address_clean.split(\"%2C\")[1],\n",
    "        \"state\": address_clean.split(\"%2C\")[2].split(\"+\")[0],\n",
    "        \"zip\": address_clean.split(\"%2C\")[2].split(\"+\")[1],\n",
    "        \"latitude\": latlon[0],\n",
    "        \"longitude\": latlon[1],\n",
    "        \"url\": url,\n",
    "    }\n",
    "    locations.append(location_dict)"
   ]
  },
  {
   "cell_type": "code",
   "execution_count": 8,
   "id": "f1c5ace1-33bd-4a07-aa00-24ab7bfbffac",
   "metadata": {},
   "outputs": [],
   "source": [
    "df = pd.DataFrame(locations)"
   ]
  },
  {
   "cell_type": "code",
   "execution_count": 9,
   "id": "db23c0e8-c35b-4fb6-ab68-739bb8fdb244",
   "metadata": {},
   "outputs": [],
   "source": [
    "df[\"street\"] = df[\"street\"].str.replace(\"+\", \" \")\n",
    "df[\"city\"] = df[\"city\"].str.replace(\"+\", \" \")"
   ]
  },
  {
   "cell_type": "markdown",
   "id": "1b0134b9-0b53-41ae-a498-891b729ac265",
   "metadata": {},
   "source": [
    "#### Create a mapping of state abbreviations to full state names using the us library"
   ]
  },
  {
   "cell_type": "code",
   "execution_count": 10,
   "id": "18485bc1-ac20-4715-b117-2ffc36a4de10",
   "metadata": {},
   "outputs": [],
   "source": [
    "state_mapping = {state.abbr: state.name for state in us.states.STATES}"
   ]
  },
  {
   "cell_type": "markdown",
   "id": "02a07567-2cda-40d0-a1db-9f51fdb03a67",
   "metadata": {},
   "source": [
    "#### New column of full state names based on abbreviations"
   ]
  },
  {
   "cell_type": "code",
   "execution_count": 11,
   "id": "5d7c356a-a44b-4b86-aaf9-4db2a05cb3e9",
   "metadata": {},
   "outputs": [],
   "source": [
    "df[\"state_name\"] = df[\"state\"].map(state_mapping)"
   ]
  },
  {
   "cell_type": "markdown",
   "id": "ef406bd4-65b5-4f26-8404-051b13a83585",
   "metadata": {},
   "source": [
    "#### Make sure our brand name gets in the dataframe"
   ]
  },
  {
   "cell_type": "code",
   "execution_count": 12,
   "id": "9b77d016-e356-4ef9-8538-387a98d4fa57",
   "metadata": {},
   "outputs": [],
   "source": [
    "df[\"brand\"] = place_formal"
   ]
  },
  {
   "cell_type": "markdown",
   "id": "c6ca1f2f-a7cb-4f83-8102-a9efea386f9e",
   "metadata": {},
   "source": [
    "#### Add fetch date"
   ]
  },
  {
   "cell_type": "code",
   "execution_count": 13,
   "id": "f2a9673d-65db-4cb7-a32e-38c85cb34ed9",
   "metadata": {},
   "outputs": [],
   "source": [
    "df[\"updated\"] = today"
   ]
  },
  {
   "cell_type": "markdown",
   "id": "0c0d7953-da25-44c9-81e1-a8a1a4bca4f8",
   "metadata": {},
   "source": [
    "#### How many? "
   ]
  },
  {
   "cell_type": "code",
   "execution_count": 14,
   "id": "96bf25fb-f8e6-4867-877c-e791af3adc84",
   "metadata": {},
   "outputs": [
    {
     "data": {
      "text/plain": [
       "73"
      ]
     },
     "execution_count": 14,
     "metadata": {},
     "output_type": "execute_result"
    }
   ],
   "source": [
    "len(df)"
   ]
  },
  {
   "cell_type": "markdown",
   "id": "f053d349-d511-4ec5-820b-c1e6d91323fb",
   "metadata": {},
   "source": [
    "#### The result: "
   ]
  },
  {
   "cell_type": "code",
   "execution_count": 15,
   "id": "a7fc483c-a6c9-4417-8688-e6fa3d600ee3",
   "metadata": {},
   "outputs": [
    {
     "data": {
      "text/html": [
       "<div>\n",
       "<style scoped>\n",
       "    .dataframe tbody tr th:only-of-type {\n",
       "        vertical-align: middle;\n",
       "    }\n",
       "\n",
       "    .dataframe tbody tr th {\n",
       "        vertical-align: top;\n",
       "    }\n",
       "\n",
       "    .dataframe thead th {\n",
       "        text-align: right;\n",
       "    }\n",
       "</style>\n",
       "<table border=\"1\" class=\"dataframe\">\n",
       "  <thead>\n",
       "    <tr style=\"text-align: right;\">\n",
       "      <th></th>\n",
       "      <th>location_name</th>\n",
       "      <th>street</th>\n",
       "      <th>city</th>\n",
       "      <th>state</th>\n",
       "      <th>zip</th>\n",
       "      <th>latitude</th>\n",
       "      <th>longitude</th>\n",
       "      <th>url</th>\n",
       "      <th>state_name</th>\n",
       "      <th>brand</th>\n",
       "      <th>updated</th>\n",
       "    </tr>\n",
       "  </thead>\n",
       "  <tbody>\n",
       "    <tr>\n",
       "      <th>0</th>\n",
       "      <td>Las Vegas #701</td>\n",
       "      <td>1955 N. Nellis Blvd.</td>\n",
       "      <td>Las Vegas</td>\n",
       "      <td>NV</td>\n",
       "      <td>89115</td>\n",
       "      <td>36.194967</td>\n",
       "      <td>-115.063645</td>\n",
       "      <td>https://superiorgrocers.com/location/lv-nellis</td>\n",
       "      <td>Nevada</td>\n",
       "      <td>Supreme Grocers</td>\n",
       "      <td>2024-03-31</td>\n",
       "    </tr>\n",
       "    <tr>\n",
       "      <th>1</th>\n",
       "      <td>Bakersfield #134</td>\n",
       "      <td>2100 White Ln.</td>\n",
       "      <td>Bakersfield</td>\n",
       "      <td>CA</td>\n",
       "      <td>93304</td>\n",
       "      <td>35.317725</td>\n",
       "      <td>-119.026632</td>\n",
       "      <td>https://superiorgrocers.com/location/bakersfield</td>\n",
       "      <td>California</td>\n",
       "      <td>Supreme Grocers</td>\n",
       "      <td>2024-03-31</td>\n",
       "    </tr>\n",
       "    <tr>\n",
       "      <th>2</th>\n",
       "      <td>Bakersfield #147</td>\n",
       "      <td>1115 Union Ave</td>\n",
       "      <td>Bakersfield</td>\n",
       "      <td>CA</td>\n",
       "      <td>93304</td>\n",
       "      <td>35.366892</td>\n",
       "      <td>-119.003561</td>\n",
       "      <td>https://superiorgrocers.com/location/bakersfield-union-ave</td>\n",
       "      <td>California</td>\n",
       "      <td>Supreme Grocers</td>\n",
       "      <td>2024-03-31</td>\n",
       "    </tr>\n",
       "    <tr>\n",
       "      <th>3</th>\n",
       "      <td>Baldwin Park #128</td>\n",
       "      <td>14433 Ramona Blvd.</td>\n",
       "      <td>Baldwin Park</td>\n",
       "      <td>CA</td>\n",
       "      <td>91706</td>\n",
       "      <td>34.088487</td>\n",
       "      <td>-117.958922</td>\n",
       "      <td>https://superiorgrocers.com/location/baldwin-park</td>\n",
       "      <td>California</td>\n",
       "      <td>Supreme Grocers</td>\n",
       "      <td>2024-03-31</td>\n",
       "    </tr>\n",
       "    <tr>\n",
       "      <th>4</th>\n",
       "      <td>Bellflower #140</td>\n",
       "      <td>16100 Lakewood Blvd</td>\n",
       "      <td>Bellflower</td>\n",
       "      <td>CA</td>\n",
       "      <td>90706</td>\n",
       "      <td>33.888283</td>\n",
       "      <td>-118.142638</td>\n",
       "      <td>https://superiorgrocers.com/location/bellflower</td>\n",
       "      <td>California</td>\n",
       "      <td>Supreme Grocers</td>\n",
       "      <td>2024-03-31</td>\n",
       "    </tr>\n",
       "  </tbody>\n",
       "</table>\n",
       "</div>"
      ],
      "text/plain": [
       "       location_name                street          city state    zip  \\\n",
       "0     Las Vegas #701  1955 N. Nellis Blvd.     Las Vegas    NV  89115   \n",
       "1   Bakersfield #134        2100 White Ln.   Bakersfield    CA  93304   \n",
       "2   Bakersfield #147        1115 Union Ave   Bakersfield    CA  93304   \n",
       "3  Baldwin Park #128    14433 Ramona Blvd.  Baldwin Park    CA  91706   \n",
       "4    Bellflower #140   16100 Lakewood Blvd    Bellflower    CA  90706   \n",
       "\n",
       "    latitude   longitude  \\\n",
       "0  36.194967 -115.063645   \n",
       "1  35.317725 -119.026632   \n",
       "2  35.366892 -119.003561   \n",
       "3  34.088487 -117.958922   \n",
       "4  33.888283 -118.142638   \n",
       "\n",
       "                                                          url  state_name  \\\n",
       "0              https://superiorgrocers.com/location/lv-nellis      Nevada   \n",
       "1            https://superiorgrocers.com/location/bakersfield  California   \n",
       "2  https://superiorgrocers.com/location/bakersfield-union-ave  California   \n",
       "3           https://superiorgrocers.com/location/baldwin-park  California   \n",
       "4             https://superiorgrocers.com/location/bellflower  California   \n",
       "\n",
       "             brand     updated  \n",
       "0  Supreme Grocers  2024-03-31  \n",
       "1  Supreme Grocers  2024-03-31  \n",
       "2  Supreme Grocers  2024-03-31  \n",
       "3  Supreme Grocers  2024-03-31  \n",
       "4  Supreme Grocers  2024-03-31  "
      ]
     },
     "execution_count": 15,
     "metadata": {},
     "output_type": "execute_result"
    }
   ],
   "source": [
    "df.head()"
   ]
  },
  {
   "cell_type": "code",
   "execution_count": 16,
   "id": "043888f6-b9e6-485d-9a88-7cfb4090d8ea",
   "metadata": {},
   "outputs": [
    {
     "data": {
      "text/html": [
       "<div>\n",
       "<style scoped>\n",
       "    .dataframe tbody tr th:only-of-type {\n",
       "        vertical-align: middle;\n",
       "    }\n",
       "\n",
       "    .dataframe tbody tr th {\n",
       "        vertical-align: top;\n",
       "    }\n",
       "\n",
       "    .dataframe thead th {\n",
       "        text-align: right;\n",
       "    }\n",
       "</style>\n",
       "<table border=\"1\" class=\"dataframe\">\n",
       "  <thead>\n",
       "    <tr style=\"text-align: right;\">\n",
       "      <th></th>\n",
       "      <th>location_name</th>\n",
       "      <th>street</th>\n",
       "      <th>city</th>\n",
       "      <th>state</th>\n",
       "      <th>zip</th>\n",
       "      <th>latitude</th>\n",
       "      <th>longitude</th>\n",
       "      <th>url</th>\n",
       "      <th>state_name</th>\n",
       "      <th>brand</th>\n",
       "      <th>updated</th>\n",
       "    </tr>\n",
       "  </thead>\n",
       "  <tbody>\n",
       "    <tr>\n",
       "      <th>68</th>\n",
       "      <td>Dinuba #150</td>\n",
       "      <td>2150 E El Monte Way</td>\n",
       "      <td>Dinuba</td>\n",
       "      <td>CA</td>\n",
       "      <td>93618</td>\n",
       "      <td>36.544004</td>\n",
       "      <td>-119.371436</td>\n",
       "      <td>https://superiorgrocers.com/location/dinuba</td>\n",
       "      <td>California</td>\n",
       "      <td>Supreme Grocers</td>\n",
       "      <td>2024-03-31</td>\n",
       "    </tr>\n",
       "    <tr>\n",
       "      <th>69</th>\n",
       "      <td>Tulare #151</td>\n",
       "      <td>115 S West St</td>\n",
       "      <td>Tulare</td>\n",
       "      <td>CA</td>\n",
       "      <td>93274</td>\n",
       "      <td>36.205881</td>\n",
       "      <td>-119.369231</td>\n",
       "      <td>https://superiorgrocers.com/location/tulare</td>\n",
       "      <td>California</td>\n",
       "      <td>Supreme Grocers</td>\n",
       "      <td>2024-03-31</td>\n",
       "    </tr>\n",
       "    <tr>\n",
       "      <th>70</th>\n",
       "      <td>Oxnard #138</td>\n",
       "      <td>2401 Saviers Road</td>\n",
       "      <td>Oxnard</td>\n",
       "      <td>CA</td>\n",
       "      <td>93033</td>\n",
       "      <td>34.176216</td>\n",
       "      <td>-119.177687</td>\n",
       "      <td>https://superiorgrocers.com/location/oxnard</td>\n",
       "      <td>California</td>\n",
       "      <td>Supreme Grocers</td>\n",
       "      <td>2024-03-31</td>\n",
       "    </tr>\n",
       "    <tr>\n",
       "      <th>71</th>\n",
       "      <td>Oxnard #323</td>\n",
       "      <td>1111 E. Channel Islands Blvd.</td>\n",
       "      <td>Oxnard</td>\n",
       "      <td>CA</td>\n",
       "      <td>93033</td>\n",
       "      <td>34.173460</td>\n",
       "      <td>-119.165280</td>\n",
       "      <td>https://superiorgrocers.com/location/channel-islands</td>\n",
       "      <td>California</td>\n",
       "      <td>Supreme Grocers</td>\n",
       "      <td>2024-03-31</td>\n",
       "    </tr>\n",
       "    <tr>\n",
       "      <th>72</th>\n",
       "      <td>Santa Paula #202</td>\n",
       "      <td>280 East Harvard Blvd.</td>\n",
       "      <td>Santa Paula</td>\n",
       "      <td>CA</td>\n",
       "      <td>93060</td>\n",
       "      <td>34.347052</td>\n",
       "      <td>-119.068336</td>\n",
       "      <td>https://superiorgrocers.com/location/santa-paula</td>\n",
       "      <td>California</td>\n",
       "      <td>Supreme Grocers</td>\n",
       "      <td>2024-03-31</td>\n",
       "    </tr>\n",
       "  </tbody>\n",
       "</table>\n",
       "</div>"
      ],
      "text/plain": [
       "       location_name                         street         city state    zip  \\\n",
       "68       Dinuba #150            2150 E El Monte Way       Dinuba    CA  93618   \n",
       "69       Tulare #151                  115 S West St       Tulare    CA  93274   \n",
       "70       Oxnard #138              2401 Saviers Road       Oxnard    CA  93033   \n",
       "71       Oxnard #323  1111 E. Channel Islands Blvd.       Oxnard    CA  93033   \n",
       "72  Santa Paula #202         280 East Harvard Blvd.  Santa Paula    CA  93060   \n",
       "\n",
       "     latitude   longitude  \\\n",
       "68  36.544004 -119.371436   \n",
       "69  36.205881 -119.369231   \n",
       "70  34.176216 -119.177687   \n",
       "71  34.173460 -119.165280   \n",
       "72  34.347052 -119.068336   \n",
       "\n",
       "                                                     url  state_name  \\\n",
       "68           https://superiorgrocers.com/location/dinuba  California   \n",
       "69           https://superiorgrocers.com/location/tulare  California   \n",
       "70           https://superiorgrocers.com/location/oxnard  California   \n",
       "71  https://superiorgrocers.com/location/channel-islands  California   \n",
       "72      https://superiorgrocers.com/location/santa-paula  California   \n",
       "\n",
       "              brand     updated  \n",
       "68  Supreme Grocers  2024-03-31  \n",
       "69  Supreme Grocers  2024-03-31  \n",
       "70  Supreme Grocers  2024-03-31  \n",
       "71  Supreme Grocers  2024-03-31  \n",
       "72  Supreme Grocers  2024-03-31  "
      ]
     },
     "execution_count": 16,
     "metadata": {},
     "output_type": "execute_result"
    }
   ],
   "source": [
    "df.tail()"
   ]
  },
  {
   "cell_type": "markdown",
   "id": "e836582d-ef21-4876-bfc3-f8298a077b3c",
   "metadata": {},
   "source": [
    "---"
   ]
  },
  {
   "cell_type": "markdown",
   "id": "e9398ab6-73bc-421d-ab31-2e0b625fe541",
   "metadata": {},
   "source": [
    "## Geography"
   ]
  },
  {
   "cell_type": "markdown",
   "id": "2aa8f487-ab80-4d32-84df-651304cd9523",
   "metadata": {},
   "source": [
    "#### Make it a geodataframe"
   ]
  },
  {
   "cell_type": "code",
   "execution_count": 17,
   "id": "920e5fe7-a6fd-4a10-97f0-c1dd0b7bef72",
   "metadata": {},
   "outputs": [],
   "source": [
    "df_geo = df.copy()"
   ]
  },
  {
   "cell_type": "code",
   "execution_count": 18,
   "id": "4072e19f-2567-427d-82d5-2c8a925278da",
   "metadata": {},
   "outputs": [],
   "source": [
    "gdf = gpd.GeoDataFrame(\n",
    "    df_geo, geometry=gpd.points_from_xy(df_geo.longitude, df_geo.latitude)\n",
    ").set_crs(\"4326\")"
   ]
  },
  {
   "cell_type": "markdown",
   "id": "67db45d5-afdf-4347-a2a0-da8aa3728779",
   "metadata": {},
   "source": [
    "---"
   ]
  },
  {
   "cell_type": "markdown",
   "id": "b3c311f9-dd29-4524-8932-67858cd3cec0",
   "metadata": {},
   "source": [
    "## Maps"
   ]
  },
  {
   "cell_type": "markdown",
   "id": "93b0579e-620d-4a08-afd8-ad489be0557e",
   "metadata": {},
   "source": [
    "#### US states background"
   ]
  },
  {
   "cell_type": "code",
   "execution_count": 19,
   "id": "99118569-10c4-47fb-a8be-d815f4d48456",
   "metadata": {},
   "outputs": [],
   "source": [
    "background = (\n",
    "    alt.Chart(alt.topo_feature(vega_data.us_10m.url, feature=\"states\"))\n",
    "    .mark_geoshape(fill=\"#e9e9e9\", stroke=\"white\")\n",
    "    .properties(width=800, height=500, title=f\"{place_formal} locations\")\n",
    "    .project(\"albersUsa\")\n",
    ")"
   ]
  },
  {
   "cell_type": "markdown",
   "id": "a914fc11-a8c6-49d1-96d2-8b5f83b01cc7",
   "metadata": {},
   "source": [
    "#### Location points map"
   ]
  },
  {
   "cell_type": "code",
   "execution_count": 20,
   "id": "b624cc2f-c724-4849-9a4b-761258a3f8ad",
   "metadata": {},
   "outputs": [
    {
     "data": {
      "text/html": [
       "\n",
       "<style>\n",
       "  #altair-viz-6d704b5c87b54622a287ed61b158624e.vega-embed {\n",
       "    width: 100%;\n",
       "    display: flex;\n",
       "  }\n",
       "\n",
       "  #altair-viz-6d704b5c87b54622a287ed61b158624e.vega-embed details,\n",
       "  #altair-viz-6d704b5c87b54622a287ed61b158624e.vega-embed details summary {\n",
       "    position: relative;\n",
       "  }\n",
       "</style>\n",
       "<div id=\"altair-viz-6d704b5c87b54622a287ed61b158624e\"></div>\n",
       "<script type=\"text/javascript\">\n",
       "  var VEGA_DEBUG = (typeof VEGA_DEBUG == \"undefined\") ? {} : VEGA_DEBUG;\n",
       "  (function(spec, embedOpt){\n",
       "    let outputDiv = document.currentScript.previousElementSibling;\n",
       "    if (outputDiv.id !== \"altair-viz-6d704b5c87b54622a287ed61b158624e\") {\n",
       "      outputDiv = document.getElementById(\"altair-viz-6d704b5c87b54622a287ed61b158624e\");\n",
       "    }\n",
       "    const paths = {\n",
       "      \"vega\": \"https://cdn.jsdelivr.net/npm/vega@5?noext\",\n",
       "      \"vega-lib\": \"https://cdn.jsdelivr.net/npm/vega-lib?noext\",\n",
       "      \"vega-lite\": \"https://cdn.jsdelivr.net/npm/vega-lite@5.16.3?noext\",\n",
       "      \"vega-embed\": \"https://cdn.jsdelivr.net/npm/vega-embed@6?noext\",\n",
       "    };\n",
       "\n",
       "    function maybeLoadScript(lib, version) {\n",
       "      var key = `${lib.replace(\"-\", \"\")}_version`;\n",
       "      return (VEGA_DEBUG[key] == version) ?\n",
       "        Promise.resolve(paths[lib]) :\n",
       "        new Promise(function(resolve, reject) {\n",
       "          var s = document.createElement('script');\n",
       "          document.getElementsByTagName(\"head\")[0].appendChild(s);\n",
       "          s.async = true;\n",
       "          s.onload = () => {\n",
       "            VEGA_DEBUG[key] = version;\n",
       "            return resolve(paths[lib]);\n",
       "          };\n",
       "          s.onerror = () => reject(`Error loading script: ${paths[lib]}`);\n",
       "          s.src = paths[lib];\n",
       "        });\n",
       "    }\n",
       "\n",
       "    function showError(err) {\n",
       "      outputDiv.innerHTML = `<div class=\"error\" style=\"color:red;\">${err}</div>`;\n",
       "      throw err;\n",
       "    }\n",
       "\n",
       "    function displayChart(vegaEmbed) {\n",
       "      vegaEmbed(outputDiv, spec, embedOpt)\n",
       "        .catch(err => showError(`Javascript Error: ${err.message}<br>This usually means there's a typo in your chart specification. See the javascript console for the full traceback.`));\n",
       "    }\n",
       "\n",
       "    if(typeof define === \"function\" && define.amd) {\n",
       "      requirejs.config({paths});\n",
       "      require([\"vega-embed\"], displayChart, err => showError(`Error loading script: ${err.message}`));\n",
       "    } else {\n",
       "      maybeLoadScript(\"vega\", \"5\")\n",
       "        .then(() => maybeLoadScript(\"vega-lite\", \"5.16.3\"))\n",
       "        .then(() => maybeLoadScript(\"vega-embed\", \"6\"))\n",
       "        .catch(showError)\n",
       "        .then(() => displayChart(vegaEmbed));\n",
       "    }\n",
       "  })({\"config\": {\"view\": {\"continuousWidth\": 300, \"continuousHeight\": 300, \"stroke\": null}}, \"layer\": [{\"data\": {\"url\": \"https://cdn.jsdelivr.net/npm/vega-datasets@v1.29.0/data/us-10m.json\", \"format\": {\"feature\": \"states\", \"type\": \"topojson\"}}, \"mark\": {\"type\": \"geoshape\", \"fill\": \"#e9e9e9\", \"stroke\": \"white\"}, \"projection\": {\"type\": \"albersUsa\"}, \"title\": \"Supreme Grocers locations\"}, {\"data\": {\"name\": \"data-df774b9082a836c769ad23dea44de145\"}, \"mark\": {\"type\": \"circle\", \"color\": \"#ed1c24\", \"size\": 5}, \"encoding\": {\"latitude\": {\"field\": \"latitude\", \"type\": \"quantitative\"}, \"longitude\": {\"field\": \"longitude\", \"type\": \"quantitative\"}}}], \"height\": 500, \"width\": 800, \"$schema\": \"https://vega.github.io/schema/vega-lite/v5.16.3.json\", \"datasets\": {\"data-df774b9082a836c769ad23dea44de145\": [{\"location_name\": \"Las Vegas #701\", \"street\": \"1955 N. Nellis Blvd.\", \"city\": \"Las Vegas\", \"state\": \"NV\", \"zip\": \"89115\", \"latitude\": 36.19496671, \"longitude\": -115.06364465, \"url\": \"https://superiorgrocers.com/location/lv-nellis\", \"state_name\": \"Nevada\", \"brand\": \"Supreme Grocers\", \"updated\": \"2024-03-31\", \"type\": \"Feature\", \"geometry\": {\"type\": \"Point\", \"coordinates\": [-115.06364465, 36.19496671]}}, {\"location_name\": \"Bakersfield #134\", \"street\": \"2100 White Ln.\", \"city\": \"Bakersfield\", \"state\": \"CA\", \"zip\": \"93304\", \"latitude\": 35.317725, \"longitude\": -119.026632, \"url\": \"https://superiorgrocers.com/location/bakersfield\", \"state_name\": \"California\", \"brand\": \"Supreme Grocers\", \"updated\": \"2024-03-31\", \"type\": \"Feature\", \"geometry\": {\"type\": \"Point\", \"coordinates\": [-119.026632, 35.317725]}}, {\"location_name\": \"Bakersfield #147\", \"street\": \"1115 Union Ave\", \"city\": \"Bakersfield\", \"state\": \"CA\", \"zip\": \"93304\", \"latitude\": 35.366892, \"longitude\": -119.003561, \"url\": \"https://superiorgrocers.com/location/bakersfield-union-ave\", \"state_name\": \"California\", \"brand\": \"Supreme Grocers\", \"updated\": \"2024-03-31\", \"type\": \"Feature\", \"geometry\": {\"type\": \"Point\", \"coordinates\": [-119.003561, 35.366892]}}, {\"location_name\": \"Baldwin Park #128\", \"street\": \"14433 Ramona Blvd.\", \"city\": \"Baldwin Park\", \"state\": \"CA\", \"zip\": \"91706\", \"latitude\": 34.088487, \"longitude\": -117.958922, \"url\": \"https://superiorgrocers.com/location/baldwin-park\", \"state_name\": \"California\", \"brand\": \"Supreme Grocers\", \"updated\": \"2024-03-31\", \"type\": \"Feature\", \"geometry\": {\"type\": \"Point\", \"coordinates\": [-117.958922, 34.088487]}}, {\"location_name\": \"Bellflower #140\", \"street\": \"16100 Lakewood Blvd\", \"city\": \"Bellflower\", \"state\": \"CA\", \"zip\": \"90706\", \"latitude\": 33.888283, \"longitude\": -118.142638, \"url\": \"https://superiorgrocers.com/location/bellflower\", \"state_name\": \"California\", \"brand\": \"Supreme Grocers\", \"updated\": \"2024-03-31\", \"type\": \"Feature\", \"geometry\": {\"type\": \"Point\", \"coordinates\": [-118.142638, 33.888283]}}, {\"location_name\": \"Carson #313\", \"street\": \"129 E. Lomita Blvd.\", \"city\": \"Carson\", \"state\": \"CA\", \"zip\": \"90745\", \"latitude\": 33.79875, \"longitude\": -118.27395, \"url\": \"https://superiorgrocers.com/location/carson\", \"state_name\": \"California\", \"brand\": \"Supreme Grocers\", \"updated\": \"2024-03-31\", \"type\": \"Feature\", \"geometry\": {\"type\": \"Point\", \"coordinates\": [-118.27395, 33.79875]}}, {\"location_name\": \"City of Industry #114\", \"street\": \"151 S. Hacienda Blvd.\", \"city\": \"City of Industry\", \"state\": \"CA\", \"zip\": \"91744\", \"latitude\": 34.021226, \"longitude\": -117.959425, \"url\": \"https://superiorgrocers.com/location/city-of-industry\", \"state_name\": \"California\", \"brand\": \"Supreme Grocers\", \"updated\": \"2024-03-31\", \"type\": \"Feature\", \"geometry\": {\"type\": \"Point\", \"coordinates\": [-117.959425, 34.021226]}}, {\"location_name\": \"Compton #112\", \"street\": \"111 E. Compton Blvd.\", \"city\": \"Compton\", \"state\": \"CA\", \"zip\": \"90220\", \"latitude\": 33.897131, \"longitude\": -118.22395, \"url\": \"https://superiorgrocers.com/location/compton\", \"state_name\": \"California\", \"brand\": \"Supreme Grocers\", \"updated\": \"2024-03-31\", \"type\": \"Feature\", \"geometry\": {\"type\": \"Point\", \"coordinates\": [-118.22395, 33.897131]}}, {\"location_name\": \"Covina #115\", \"street\": \"1375 N. Citrus Ave.\", \"city\": \"Covina\", \"state\": \"CA\", \"zip\": \"91722\", \"latitude\": 34.105322, \"longitude\": -117.890251, \"url\": \"https://superiorgrocers.com/location/covina\", \"state_name\": \"California\", \"brand\": \"Supreme Grocers\", \"updated\": \"2024-03-31\", \"type\": \"Feature\", \"geometry\": {\"type\": \"Point\", \"coordinates\": [-117.890251, 34.105322]}}, {\"location_name\": \"Cudahy #105\", \"street\": \"7300 Atlantic Ave.\", \"city\": \"Cudahy\", \"state\": \"CA\", \"zip\": \"90201\", \"latitude\": 33.968829, \"longitude\": -118.187667, \"url\": \"https://superiorgrocers.com/location/cudahy\", \"state_name\": \"California\", \"brand\": \"Supreme Grocers\", \"updated\": \"2024-03-31\", \"type\": \"Feature\", \"geometry\": {\"type\": \"Point\", \"coordinates\": [-118.187667, 33.968829]}}, {\"location_name\": \"El Monte #145\", \"street\": \"9900 E. Garvey Ave.\", \"city\": \"El Monte\", \"state\": \"CA\", \"zip\": \"91733\", \"latitude\": 34.06262, \"longitude\": -118.0521, \"url\": \"https://superiorgrocers.com/location/el-monte\", \"state_name\": \"California\", \"brand\": \"Supreme Grocers\", \"updated\": \"2024-03-31\", \"type\": \"Feature\", \"geometry\": {\"type\": \"Point\", \"coordinates\": [-118.0521, 34.06262]}}, {\"location_name\": \"El Monte #145\", \"street\": \"9900 E. Garvey Ave.\", \"city\": \"El Monte\", \"state\": \"CA\", \"zip\": \"91733\", \"latitude\": 34.06262, \"longitude\": -118.0521, \"url\": \"https://superiorgrocers.com/location/el-monte\", \"state_name\": \"California\", \"brand\": \"Supreme Grocers\", \"updated\": \"2024-03-31\", \"type\": \"Feature\", \"geometry\": {\"type\": \"Point\", \"coordinates\": [-118.0521, 34.06262]}}, {\"location_name\": \"Gardena #142\", \"street\": \"15000 Crenshaw Blvd\", \"city\": \"Gardena\", \"state\": \"CA\", \"zip\": \"90249\", \"latitude\": 33.894756, \"longitude\": -118.32558, \"url\": \"https://superiorgrocers.com/location/gardena\", \"state_name\": \"California\", \"brand\": \"Supreme Grocers\", \"updated\": \"2024-03-31\", \"type\": \"Feature\", \"geometry\": {\"type\": \"Point\", \"coordinates\": [-118.32558, 33.894756]}}, {\"location_name\": \"Huntington Park #107\", \"street\": \"6010 Pacific Blvd.\", \"city\": \"Huntington Park\", \"state\": \"CA\", \"zip\": \"90255\", \"latitude\": 33.986735, \"longitude\": -118.225208, \"url\": \"https://superiorgrocers.com/location/huntington-park\", \"state_name\": \"California\", \"brand\": \"Supreme Grocers\", \"updated\": \"2024-03-31\", \"type\": \"Feature\", \"geometry\": {\"type\": \"Point\", \"coordinates\": [-118.225208, 33.986735]}}, {\"location_name\": \"Inglewood #123\", \"street\": \"250 N. La Brea Blvd.\", \"city\": \"Inglewood\", \"state\": \"CA\", \"zip\": \"90301\", \"latitude\": 33.96504, \"longitude\": -118.35326, \"url\": \"https://superiorgrocers.com/location/inglewood\", \"state_name\": \"California\", \"brand\": \"Supreme Grocers\", \"updated\": \"2024-03-31\", \"type\": \"Feature\", \"geometry\": {\"type\": \"Point\", \"coordinates\": [-118.35326, 33.96504]}}, {\"location_name\": \"Inglewood #123\", \"street\": \"250 N. La Brea Blvd.\", \"city\": \"Inglewood\", \"state\": \"CA\", \"zip\": \"90301\", \"latitude\": 33.96504, \"longitude\": -118.35326, \"url\": \"https://superiorgrocers.com/location/inglewood\", \"state_name\": \"California\", \"brand\": \"Supreme Grocers\", \"updated\": \"2024-03-31\", \"type\": \"Feature\", \"geometry\": {\"type\": \"Point\", \"coordinates\": [-118.35326, 33.96504]}}, {\"location_name\": \"Lancaster #133\", \"street\": \"1010 E. Avenue J\", \"city\": \"Lancaster\", \"state\": \"CA\", \"zip\": \"93535\", \"latitude\": 34.688427, \"longitude\": -118.112633, \"url\": \"https://superiorgrocers.com/location/lancaster\", \"state_name\": \"California\", \"brand\": \"Supreme Grocers\", \"updated\": \"2024-03-31\", \"type\": \"Feature\", \"geometry\": {\"type\": \"Point\", \"coordinates\": [-118.112633, 34.688427]}}, {\"location_name\": \"Lennox #316\", \"street\": \"10819 Hawthorne Blvd.\", \"city\": \"Lennox\", \"state\": \"CA\", \"zip\": \"90304\", \"latitude\": 33.93753, \"longitude\": -118.35328, \"url\": \"https://superiorgrocers.com/location/lennox\", \"state_name\": \"California\", \"brand\": \"Supreme Grocers\", \"updated\": \"2024-03-31\", \"type\": \"Feature\", \"geometry\": {\"type\": \"Point\", \"coordinates\": [-118.35328, 33.93753]}}, {\"location_name\": \"Long Beach #119\", \"street\": \"5450 Cherry Ave.\", \"city\": \"Long Beach\", \"state\": \"CA\", \"zip\": \"90805\", \"latitude\": 33.855734, \"longitude\": -118.16825, \"url\": \"https://superiorgrocers.com/location/cherry-ave\", \"state_name\": \"California\", \"brand\": \"Supreme Grocers\", \"updated\": \"2024-03-31\", \"type\": \"Feature\", \"geometry\": {\"type\": \"Point\", \"coordinates\": [-118.16825, 33.855734]}}, {\"location_name\": \"Long Beach #117\", \"street\": \"1033 Long Beach Blvd.\", \"city\": \"Long Beach\", \"state\": \"CA\", \"zip\": \"90813\", \"latitude\": 33.77978, \"longitude\": -118.18995, \"url\": \"https://superiorgrocers.com/location/long-beach\", \"state_name\": \"California\", \"brand\": \"Supreme Grocers\", \"updated\": \"2024-03-31\", \"type\": \"Feature\", \"geometry\": {\"type\": \"Point\", \"coordinates\": [-118.18995, 33.77978]}}, {\"location_name\": \"Los Angeles #101\", \"street\": \"10211 S. Avalon Blvd.\", \"city\": \"Los Angeles\", \"state\": \"CA\", \"zip\": \"90003\", \"latitude\": 33.9434167, \"longitude\": -118.265397, \"url\": \"https://superiorgrocers.com/location/avalon\", \"state_name\": \"California\", \"brand\": \"Supreme Grocers\", \"updated\": \"2024-03-31\", \"type\": \"Feature\", \"geometry\": {\"type\": \"Point\", \"coordinates\": [-118.265397, 33.9434167]}}, {\"location_name\": \"Los Angeles #129\", \"street\": \"133 W. Avenue 45\", \"city\": \"Los Angeles\", \"state\": \"CA\", \"zip\": \"90065\", \"latitude\": 34.0964919, \"longitude\": -118.2070468, \"url\": \"https://superiorgrocers.com/location/los-angeles\", \"state_name\": \"California\", \"brand\": \"Supreme Grocers\", \"updated\": \"2024-03-31\", \"type\": \"Feature\", \"geometry\": {\"type\": \"Point\", \"coordinates\": [-118.2070468, 34.0964919]}}, {\"location_name\": \"Los Angeles #113\", \"street\": \"3600 Cesar E. Chavez Ave.\", \"city\": \"Los Angeles\", \"state\": \"CA\", \"zip\": \"90063\", \"latitude\": 34.04024, \"longitude\": -118.185834, \"url\": \"https://superiorgrocers.com/location/cesar-chavez\", \"state_name\": \"California\", \"brand\": \"Supreme Grocers\", \"updated\": \"2024-03-31\", \"type\": \"Feature\", \"geometry\": {\"type\": \"Point\", \"coordinates\": [-118.185834, 34.04024]}}, {\"location_name\": \"Los Angeles #102\", \"street\": \"7316 S. Compton Ave. \", \"city\": \"Los Angeles\", \"state\": \"CA\", \"zip\": \"90001\", \"latitude\": 33.973639, \"longitude\": -118.247677, \"url\": \"https://superiorgrocers.com/location/compton-ave\", \"state_name\": \"California\", \"brand\": \"Supreme Grocers\", \"updated\": \"2024-03-31\", \"type\": \"Feature\", \"geometry\": {\"type\": \"Point\", \"coordinates\": [-118.247677, 33.973639]}}, {\"location_name\": \"Los Angeles #116\", \"street\": \"5824 S. Vermont Ave. \", \"city\": \"Los Angeles\", \"state\": \"CA\", \"zip\": \"90044\", \"latitude\": 33.9883693, \"longitude\": -118.2896662, \"url\": \"https://superiorgrocers.com/location/vermont-ave\", \"state_name\": \"California\", \"brand\": \"Supreme Grocers\", \"updated\": \"2024-03-31\", \"type\": \"Feature\", \"geometry\": {\"type\": \"Point\", \"coordinates\": [-118.2896662, 33.9883693]}}, {\"location_name\": \"Los Angeles #108\", \"street\": \"8811 S. Western Ave. \", \"city\": \"Los Angeles\", \"state\": \"CA\", \"zip\": \"90047\", \"latitude\": 33.957304, \"longitude\": -118.309021, \"url\": \"https://superiorgrocers.com/location/western-ave\", \"state_name\": \"California\", \"brand\": \"Supreme Grocers\", \"updated\": \"2024-03-31\", \"type\": \"Feature\", \"geometry\": {\"type\": \"Point\", \"coordinates\": [-118.309021, 33.957304]}}, {\"location_name\": \"Los Angeles #135\", \"street\": \"2000 S. Central Ave. \", \"city\": \"Los Angeles\", \"state\": \"CA\", \"zip\": \"90011\", \"latitude\": 34.022874, \"longitude\": -118.251957, \"url\": \"https://superiorgrocers.com/location/central-ave\", \"state_name\": \"California\", \"brand\": \"Supreme Grocers\", \"updated\": \"2024-03-31\", \"type\": \"Feature\", \"geometry\": {\"type\": \"Point\", \"coordinates\": [-118.251957, 34.022874]}}, {\"location_name\": \"Los Angeles #139\", \"street\": \"3480 S. La Brea Ave. \", \"city\": \"Los Angeles\", \"state\": \"CA\", \"zip\": \"90016\", \"latitude\": 34.023276, \"longitude\": -118.355607, \"url\": \"https://superiorgrocers.com/location/la-brea\", \"state_name\": \"California\", \"brand\": \"Supreme Grocers\", \"updated\": \"2024-03-31\", \"type\": \"Feature\", \"geometry\": {\"type\": \"Point\", \"coordinates\": [-118.355607, 34.023276]}}, {\"location_name\": \"Los Angeles #201\", \"street\": \"4040 W. Washington Blvd\", \"city\": \"Los Angeles\", \"state\": \"CA\", \"zip\": \"90018\", \"latitude\": 34.03984, \"longitude\": -118.32715, \"url\": \"https://superiorgrocers.com/location/washington-blvd\", \"state_name\": \"California\", \"brand\": \"Supreme Grocers\", \"updated\": \"2024-03-31\", \"type\": \"Feature\", \"geometry\": {\"type\": \"Point\", \"coordinates\": [-118.32715, 34.03984]}}, {\"location_name\": \"Los Angeles #301\", \"street\": \"701 E. Jefferson Blvd.\", \"city\": \"Los Angeles\", \"state\": \"CA\", \"zip\": \"90011\", \"latitude\": 34.01487, \"longitude\": -118.26386, \"url\": \"https://superiorgrocers.com/location/jefferson-blvd\", \"state_name\": \"California\", \"brand\": \"Supreme Grocers\", \"updated\": \"2024-03-31\", \"type\": \"Feature\", \"geometry\": {\"type\": \"Point\", \"coordinates\": [-118.26386, 34.01487]}}, {\"location_name\": \"Los Angeles #302\", \"street\": \"1309 S. Alvarado St.\", \"city\": \"Los Angeles\", \"state\": \"CA\", \"zip\": \"90006\", \"latitude\": 34.04535, \"longitude\": -118.28404, \"url\": \"https://superiorgrocers.com/location/alvarado\", \"state_name\": \"California\", \"brand\": \"Supreme Grocers\", \"updated\": \"2024-03-31\", \"type\": \"Feature\", \"geometry\": {\"type\": \"Point\", \"coordinates\": [-118.28404, 34.04535]}}, {\"location_name\": \"Los Angeles #303\", \"street\": \"9127 S. Figueroa St.\", \"city\": \"Los Angeles\", \"state\": \"CA\", \"zip\": \"90003\", \"latitude\": 33.95397, \"longitude\": -118.2828, \"url\": \"https://superiorgrocers.com/location/figueroa\", \"state_name\": \"California\", \"brand\": \"Supreme Grocers\", \"updated\": \"2024-03-31\", \"type\": \"Feature\", \"geometry\": {\"type\": \"Point\", \"coordinates\": [-118.2828, 33.95397]}}, {\"location_name\": \"Los Angeles #304\", \"street\": \"310 E. Manchester Ave\", \"city\": \"Los Angeles\", \"state\": \"CA\", \"zip\": \"90003\", \"latitude\": 33.96002, \"longitude\": -118.26875, \"url\": \"https://superiorgrocers.com/location/manchester\", \"state_name\": \"California\", \"brand\": \"Supreme Grocers\", \"updated\": \"2024-03-31\", \"type\": \"Feature\", \"geometry\": {\"type\": \"Point\", \"coordinates\": [-118.26875, 33.96002]}}, {\"location_name\": \"Los Angeles #305\", \"street\": \"2214 S. San Pedro St.\", \"city\": \"Los Angeles\", \"state\": \"CA\", \"zip\": \"90011\", \"latitude\": 34.02485, \"longitude\": -118.25909, \"url\": \"https://superiorgrocers.com/location/san-pedro-st\", \"state_name\": \"California\", \"brand\": \"Supreme Grocers\", \"updated\": \"2024-03-31\", \"type\": \"Feature\", \"geometry\": {\"type\": \"Point\", \"coordinates\": [-118.25909, 34.02485]}}, {\"location_name\": \"Los Angeles #307\", \"street\": \"4710 S. Broadway St.\", \"city\": \"Los Angeles\", \"state\": \"CA\", \"zip\": \"90037\", \"latitude\": 33.99992, \"longitude\": -118.27822, \"url\": \"https://superiorgrocers.com/location/broadway\", \"state_name\": \"California\", \"brand\": \"Supreme Grocers\", \"updated\": \"2024-03-31\", \"type\": \"Feature\", \"geometry\": {\"type\": \"Point\", \"coordinates\": [-118.27822, 33.99992]}}, {\"location_name\": \"Los Angeles #308\", \"street\": \"4373 S. Vermont Ave\", \"city\": \"Los Angeles\", \"state\": \"CA\", \"zip\": \"90003\", \"latitude\": 34.00454, \"longitude\": -118.29165, \"url\": \"https://superiorgrocers.com/location/vermont\", \"state_name\": \"California\", \"brand\": \"Supreme Grocers\", \"updated\": \"2024-03-31\", \"type\": \"Feature\", \"geometry\": {\"type\": \"Point\", \"coordinates\": [-118.29165, 34.00454]}}, {\"location_name\": \"Los Angeles #310\", \"street\": \"1831 W. 3rd St.\", \"city\": \"Los Angeles\", \"state\": \"CA\", \"zip\": \"90057\", \"latitude\": 34.06167, \"longitude\": -118.26952, \"url\": \"https://superiorgrocers.com/location/third-st\", \"state_name\": \"California\", \"brand\": \"Supreme Grocers\", \"updated\": \"2024-03-31\", \"type\": \"Feature\", \"geometry\": {\"type\": \"Point\", \"coordinates\": [-118.26952, 34.06167]}}, {\"location_name\": \"Los Angeles #319\", \"street\": \"4831 Whittier Blvd.\", \"city\": \"Los Angeles\", \"state\": \"CA\", \"zip\": \"90022\", \"latitude\": 34.02173, \"longitude\": -118.16348, \"url\": \"https://superiorgrocers.com/location/whittier\", \"state_name\": \"California\", \"brand\": \"Supreme Grocers\", \"updated\": \"2024-03-31\", \"type\": \"Feature\", \"geometry\": {\"type\": \"Point\", \"coordinates\": [-118.16348, 34.02173]}}, {\"location_name\": \"Lynwood #103\", \"street\": \"9990 Long Beach Blvd.\", \"city\": \"Lynwood\", \"state\": \"CA\", \"zip\": \"90262\", \"latitude\": 33.94479, \"longitude\": -118.21586, \"url\": \"https://superiorgrocers.com/location/lynwood\", \"state_name\": \"California\", \"brand\": \"Supreme Grocers\", \"updated\": \"2024-03-31\", \"type\": \"Feature\", \"geometry\": {\"type\": \"Point\", \"coordinates\": [-118.21586, 33.94479]}}, {\"location_name\": \"Lynwood #103\", \"street\": \"9990 Long Beach Blvd.\", \"city\": \"Lynwood\", \"state\": \"CA\", \"zip\": \"90262\", \"latitude\": 33.94479, \"longitude\": -118.21586, \"url\": \"https://superiorgrocers.com/location/lynwood\", \"state_name\": \"California\", \"brand\": \"Supreme Grocers\", \"updated\": \"2024-03-31\", \"type\": \"Feature\", \"geometry\": {\"type\": \"Point\", \"coordinates\": [-118.21586, 33.94479]}}, {\"location_name\": \"Maywood #143\", \"street\": \"4308 E Slauson Ave\", \"city\": \"Maywood\", \"state\": \"CA\", \"zip\": \"90270\", \"latitude\": 33.9871709, \"longitude\": -118.1897564, \"url\": \"https://superiorgrocers.com/location/maywood\", \"state_name\": \"California\", \"brand\": \"Supreme Grocers\", \"updated\": \"2024-03-31\", \"type\": \"Feature\", \"geometry\": {\"type\": \"Point\", \"coordinates\": [-118.1897564, 33.9871709]}}, {\"location_name\": \"Montebello #106\", \"street\": \"1201 W. Whittier Blvd.\", \"city\": \"Montebello\", \"state\": \"CA\", \"zip\": \"90640\", \"latitude\": 34.010993, \"longitude\": -118.112896, \"url\": \"https://superiorgrocers.com/location/montebello\", \"state_name\": \"California\", \"brand\": \"Supreme Grocers\", \"updated\": \"2024-03-31\", \"type\": \"Feature\", \"geometry\": {\"type\": \"Point\", \"coordinates\": [-118.112896, 34.010993]}}, {\"location_name\": \"North Hollywood #118\", \"street\": \"6140 Lankershim Blvd. \", \"city\": \"North Hollywood\", \"state\": \"CA\", \"zip\": \"91606\", \"latitude\": 34.183042, \"longitude\": -118.385208, \"url\": \"https://superiorgrocers.com/location/north-hollywood\", \"state_name\": \"California\", \"brand\": \"Supreme Grocers\", \"updated\": \"2024-03-31\", \"type\": \"Feature\", \"geometry\": {\"type\": \"Point\", \"coordinates\": [-118.385208, 34.183042]}}, {\"location_name\": \"Norwalk #318\", \"street\": \"10951 Rosecrans Ave.\", \"city\": \"Norwalk\", \"state\": \"CA\", \"zip\": \"90650\", \"latitude\": 33.90224, \"longitude\": -118.10254, \"url\": \"https://superiorgrocers.com/location/norwalk\", \"state_name\": \"California\", \"brand\": \"Supreme Grocers\", \"updated\": \"2024-03-31\", \"type\": \"Feature\", \"geometry\": {\"type\": \"Point\", \"coordinates\": [-118.10254, 33.90224]}}, {\"location_name\": \"Pacoima #111\", \"street\": \"9801 Laurel Canyon Blvd.\", \"city\": \"Pacoima\", \"state\": \"CA\", \"zip\": \"91331\", \"latitude\": 34.247985, \"longitude\": -118.420731, \"url\": \"https://superiorgrocers.com/location/pacoima\", \"state_name\": \"California\", \"brand\": \"Supreme Grocers\", \"updated\": \"2024-03-31\", \"type\": \"Feature\", \"geometry\": {\"type\": \"Point\", \"coordinates\": [-118.420731, 34.247985]}}, {\"location_name\": \"Pacoima #311\", \"street\": \"10455 Laurel Canyon Blvd.\", \"city\": \"Pacoima\", \"state\": \"CA\", \"zip\": \"91331\", \"latitude\": 34.25944, \"longitude\": -118.43296, \"url\": \"https://superiorgrocers.com/location/laurel-canyon\", \"state_name\": \"California\", \"brand\": \"Supreme Grocers\", \"updated\": \"2024-03-31\", \"type\": \"Feature\", \"geometry\": {\"type\": \"Point\", \"coordinates\": [-118.43296, 34.25944]}}, {\"location_name\": \"Palmdale #137\", \"street\": \"38360 20th St E.\", \"city\": \"Palmdale\", \"state\": \"CA\", \"zip\": \"93550\", \"latitude\": 34.578732, \"longitude\": -118.09407, \"url\": \"https://superiorgrocers.com/location/palmdale\", \"state_name\": \"California\", \"brand\": \"Supreme Grocers\", \"updated\": \"2024-03-31\", \"type\": \"Feature\", \"geometry\": {\"type\": \"Point\", \"coordinates\": [-118.09407, 34.578732]}}, {\"location_name\": \"Pico Rivera #131\", \"street\": \"9100 Whittier Blvd.\", \"city\": \"Pico Rivera\", \"state\": \"CA\", \"zip\": \"90660\", \"latitude\": 34.000642, \"longitude\": -118.082408, \"url\": \"https://superiorgrocers.com/location/pico-rivera\", \"state_name\": \"California\", \"brand\": \"Supreme Grocers\", \"updated\": \"2024-03-31\", \"type\": \"Feature\", \"geometry\": {\"type\": \"Point\", \"coordinates\": [-118.082408, 34.000642]}}, {\"location_name\": \"Pomona #144\", \"street\": \"3180 North Garey Ave\", \"city\": \"Pomona\", \"state\": \"CA\", \"zip\": \"91767\", \"latitude\": 34.10594, \"longitude\": -117.748386, \"url\": \"https://superiorgrocers.com/location/pomona\", \"state_name\": \"California\", \"brand\": \"Supreme Grocers\", \"updated\": \"2024-03-31\", \"type\": \"Feature\", \"geometry\": {\"type\": \"Point\", \"coordinates\": [-117.748386, 34.10594]}}, {\"location_name\": \"San Pedro #306\", \"street\": \"500 S. Pacific Ave.\", \"city\": \"San Pedro\", \"state\": \"CA\", \"zip\": \"90731\", \"latitude\": 33.73928, \"longitude\": -118.28779, \"url\": \"https://superiorgrocers.com/location/san-pedro-pacific\", \"state_name\": \"California\", \"brand\": \"Supreme Grocers\", \"updated\": \"2024-03-31\", \"type\": \"Feature\", \"geometry\": {\"type\": \"Point\", \"coordinates\": [-118.28779, 33.73928]}}, {\"location_name\": \"San Pedro #321\", \"street\": \"970 W 1st St.\", \"city\": \"San Pedro\", \"state\": \"CA\", \"zip\": \"90731\", \"latitude\": 33.74344, \"longitude\": -118.29793, \"url\": \"https://superiorgrocers.com/location/san-pedro-1st\", \"state_name\": \"California\", \"brand\": \"Supreme Grocers\", \"updated\": \"2024-03-31\", \"type\": \"Feature\", \"geometry\": {\"type\": \"Point\", \"coordinates\": [-118.29793, 33.74344]}}, {\"location_name\": \"South El Monte #104\", \"street\": \"1858 N. Durfee Ave.\", \"city\": \"South El Monte\", \"state\": \"CA\", \"zip\": \"91733\", \"latitude\": 34.044143, \"longitude\": -118.03179, \"url\": \"https://superiorgrocers.com/location/south-el-monte\", \"state_name\": \"California\", \"brand\": \"Supreme Grocers\", \"updated\": \"2024-03-31\", \"type\": \"Feature\", \"geometry\": {\"type\": \"Point\", \"coordinates\": [-118.03179, 34.044143]}}, {\"location_name\": \"Torrance #309\", \"street\": \"1141 W. Carson St.\", \"city\": \"Torrance\", \"state\": \"CA\", \"zip\": \"90502\", \"latitude\": 33.83165, \"longitude\": -118.29657, \"url\": \"https://superiorgrocers.com/location/torrance\", \"state_name\": \"California\", \"brand\": \"Supreme Grocers\", \"updated\": \"2024-03-31\", \"type\": \"Feature\", \"geometry\": {\"type\": \"Point\", \"coordinates\": [-118.29657, 33.83165]}}, {\"location_name\": \"Hawthorne #146\", \"street\": \"12630 Hawthorne Blvd\", \"city\": \"Hawthorne\", \"state\": \"CA\", \"zip\": \"90250\", \"latitude\": 33.917455, \"longitude\": -118.3503, \"url\": \"https://superiorgrocers.com/location/hawthorne\", \"state_name\": \"California\", \"brand\": \"Supreme Grocers\", \"updated\": \"2024-03-31\", \"type\": \"Feature\", \"geometry\": {\"type\": \"Point\", \"coordinates\": [-118.3503, 33.917455]}}, {\"location_name\": \"La Mirada #141\", \"street\": \"12721 Valley View Ave\", \"city\": \"La Mirada\", \"state\": \"CA\", \"zip\": \"90638\", \"latitude\": 33.916316, \"longitude\": -118.029492, \"url\": \"https://superiorgrocers.com/location/la-mirada\", \"state_name\": \"California\", \"brand\": \"Supreme Grocers\", \"updated\": \"2024-03-31\", \"type\": \"Feature\", \"geometry\": {\"type\": \"Point\", \"coordinates\": [-118.029492, 33.916316]}}, {\"location_name\": \"Anaheim #317\", \"street\": \"1086 N. State College Blvd.\", \"city\": \"Anaheim\", \"state\": \"CA\", \"zip\": \"92806\", \"latitude\": 33.84829, \"longitude\": -117.88911, \"url\": \"https://superiorgrocers.com/location/anaheim\", \"state_name\": \"California\", \"brand\": \"Supreme Grocers\", \"updated\": \"2024-03-31\", \"type\": \"Feature\", \"geometry\": {\"type\": \"Point\", \"coordinates\": [-117.88911, 33.84829]}}, {\"location_name\": \"Buena Park #136\", \"street\": \"6931 La Palma Ave.\", \"city\": \"Buena Park\", \"state\": \"CA\", \"zip\": \"90620\", \"latitude\": 33.8465151, \"longitude\": -118.01304, \"url\": \"https://superiorgrocers.com/location/buena-park\", \"state_name\": \"California\", \"brand\": \"Supreme Grocers\", \"updated\": \"2024-03-31\", \"type\": \"Feature\", \"geometry\": {\"type\": \"Point\", \"coordinates\": [-118.01304, 33.8465151]}}, {\"location_name\": \"Santa Ana #132\", \"street\": \"2009 W. 1st St.\", \"city\": \"Santa Ana\", \"state\": \"CA\", \"zip\": \"92703\", \"latitude\": 33.7454725, \"longitude\": -117.8965992, \"url\": \"https://superiorgrocers.com/location/santa-ana-1\", \"state_name\": \"California\", \"brand\": \"Supreme Grocers\", \"updated\": \"2024-03-31\", \"type\": \"Feature\", \"geometry\": {\"type\": \"Point\", \"coordinates\": [-117.8965992, 33.7454725]}}, {\"location_name\": \"Santa Ana #110\", \"street\": \"1720 E. 17th St. \", \"city\": \"Santa Ana\", \"state\": \"CA\", \"zip\": \"92705\", \"latitude\": 33.759928, \"longitude\": -117.842715, \"url\": \"https://superiorgrocers.com/location/santa-ana-17\", \"state_name\": \"California\", \"brand\": \"Supreme Grocers\", \"updated\": \"2024-03-31\", \"type\": \"Feature\", \"geometry\": {\"type\": \"Point\", \"coordinates\": [-117.842715, 33.759928]}}, {\"location_name\": \"Santa Ana #109\", \"street\": \"1710 S. Main St. \", \"city\": \"Santa Ana\", \"state\": \"CA\", \"zip\": \"92707\", \"latitude\": 33.72467, \"longitude\": -117.867831, \"url\": \"https://superiorgrocers.com/location/santa-ana\", \"state_name\": \"California\", \"brand\": \"Supreme Grocers\", \"updated\": \"2024-03-31\", \"type\": \"Feature\", \"geometry\": {\"type\": \"Point\", \"coordinates\": [-117.867831, 33.72467]}}, {\"location_name\": \"Corona #126\", \"street\": \"1130 West 6th St. \", \"city\": \"Corona\", \"state\": \"CA\", \"zip\": \"92882\", \"latitude\": 33.87745, \"longitude\": -117.585584, \"url\": \"https://superiorgrocers.com/location/corona\", \"state_name\": \"California\", \"brand\": \"Supreme Grocers\", \"updated\": \"2024-03-31\", \"type\": \"Feature\", \"geometry\": {\"type\": \"Point\", \"coordinates\": [-117.585584, 33.87745]}}, {\"location_name\": \"Moreno Valley #127\", \"street\": \"23857 Sunnymead Blvd.\", \"city\": \"Moreno Valley\", \"state\": \"CA\", \"zip\": \"92553\", \"latitude\": 33.938981, \"longitude\": -117.249132, \"url\": \"https://superiorgrocers.com/location/moreno-valley\", \"state_name\": \"California\", \"brand\": \"Supreme Grocers\", \"updated\": \"2024-03-31\", \"type\": \"Feature\", \"geometry\": {\"type\": \"Point\", \"coordinates\": [-117.249132, 33.938981]}}, {\"location_name\": \"Chino #125\", \"street\": \"12375 Central Ave.\", \"city\": \"Chino\", \"state\": \"CA\", \"zip\": \"91710\", \"latitude\": 34.026319, \"longitude\": -117.688042, \"url\": \"https://superiorgrocers.com/location/chino\", \"state_name\": \"California\", \"brand\": \"Supreme Grocers\", \"updated\": \"2024-03-31\", \"type\": \"Feature\", \"geometry\": {\"type\": \"Point\", \"coordinates\": [-117.688042, 34.026319]}}, {\"location_name\": \"Fontana #122\", \"street\": \"16055 Foothill Blvd.\", \"city\": \"Fontana\", \"state\": \"CA\", \"zip\": \"92335\", \"latitude\": 34.106497, \"longitude\": -117.454901, \"url\": \"https://superiorgrocers.com/location/fontana\", \"state_name\": \"California\", \"brand\": \"Supreme Grocers\", \"updated\": \"2024-03-31\", \"type\": \"Feature\", \"geometry\": {\"type\": \"Point\", \"coordinates\": [-117.454901, 34.106497]}}, {\"location_name\": \"Ontario #120\", \"street\": \"815 W. Holt Blvd.\", \"city\": \"Ontario\", \"state\": \"CA\", \"zip\": \"91762\", \"latitude\": 34.062357, \"longitude\": -117.664398, \"url\": \"https://superiorgrocers.com/location/ontario\", \"state_name\": \"California\", \"brand\": \"Supreme Grocers\", \"updated\": \"2024-03-31\", \"type\": \"Feature\", \"geometry\": {\"type\": \"Point\", \"coordinates\": [-117.664398, 34.062357]}}, {\"location_name\": \"Rialto #121\", \"street\": \"151 West Base Line Ave.\", \"city\": \"Rialto\", \"state\": \"CA\", \"zip\": \"92376\", \"latitude\": 34.120856, \"longitude\": -117.37039, \"url\": \"https://superiorgrocers.com/location/rialto\", \"state_name\": \"California\", \"brand\": \"Supreme Grocers\", \"updated\": \"2024-03-31\", \"type\": \"Feature\", \"geometry\": {\"type\": \"Point\", \"coordinates\": [-117.37039, 34.120856]}}, {\"location_name\": \"San Bernardino #130\", \"street\": \"1108 West 2nd St.  \", \"city\": \"San Bernardino\", \"state\": \"CA\", \"zip\": \"92410\", \"latitude\": 34.10273, \"longitude\": -117.309411, \"url\": \"https://superiorgrocers.com/location/san-bernardino\", \"state_name\": \"California\", \"brand\": \"Supreme Grocers\", \"updated\": \"2024-03-31\", \"type\": \"Feature\", \"geometry\": {\"type\": \"Point\", \"coordinates\": [-117.309411, 34.10273]}}, {\"location_name\": \"Victorville #148\", \"street\": \"14668 7th St.\", \"city\": \"Victorville\", \"state\": \"CA\", \"zip\": \"92395\", \"latitude\": 34.5184363, \"longitude\": -117.3165726, \"url\": \"https://superiorgrocers.com/location/victorville\", \"state_name\": \"California\", \"brand\": \"Supreme Grocers\", \"updated\": \"2024-03-31\", \"type\": \"Feature\", \"geometry\": {\"type\": \"Point\", \"coordinates\": [-117.3165726, 34.5184363]}}, {\"location_name\": \"Dinuba #150\", \"street\": \"2150 E El Monte Way\", \"city\": \"Dinuba\", \"state\": \"CA\", \"zip\": \"93618\", \"latitude\": 36.5440044, \"longitude\": -119.3714358, \"url\": \"https://superiorgrocers.com/location/dinuba\", \"state_name\": \"California\", \"brand\": \"Supreme Grocers\", \"updated\": \"2024-03-31\", \"type\": \"Feature\", \"geometry\": {\"type\": \"Point\", \"coordinates\": [-119.3714358, 36.5440044]}}, {\"location_name\": \"Tulare #151\", \"street\": \"115 S West St\", \"city\": \"Tulare\", \"state\": \"CA\", \"zip\": \"93274\", \"latitude\": 36.2058814, \"longitude\": -119.3692313, \"url\": \"https://superiorgrocers.com/location/tulare\", \"state_name\": \"California\", \"brand\": \"Supreme Grocers\", \"updated\": \"2024-03-31\", \"type\": \"Feature\", \"geometry\": {\"type\": \"Point\", \"coordinates\": [-119.3692313, 36.2058814]}}, {\"location_name\": \"Oxnard #138\", \"street\": \"2401 Saviers Road\", \"city\": \"Oxnard\", \"state\": \"CA\", \"zip\": \"93033\", \"latitude\": 34.176216, \"longitude\": -119.177687, \"url\": \"https://superiorgrocers.com/location/oxnard\", \"state_name\": \"California\", \"brand\": \"Supreme Grocers\", \"updated\": \"2024-03-31\", \"type\": \"Feature\", \"geometry\": {\"type\": \"Point\", \"coordinates\": [-119.177687, 34.176216]}}, {\"location_name\": \"Oxnard #323\", \"street\": \"1111 E. Channel Islands Blvd.\", \"city\": \"Oxnard\", \"state\": \"CA\", \"zip\": \"93033\", \"latitude\": 34.17346, \"longitude\": -119.16528, \"url\": \"https://superiorgrocers.com/location/channel-islands\", \"state_name\": \"California\", \"brand\": \"Supreme Grocers\", \"updated\": \"2024-03-31\", \"type\": \"Feature\", \"geometry\": {\"type\": \"Point\", \"coordinates\": [-119.16528, 34.17346]}}, {\"location_name\": \"Santa Paula #202\", \"street\": \"280 East Harvard Blvd.\", \"city\": \"Santa Paula\", \"state\": \"CA\", \"zip\": \"93060\", \"latitude\": 34.3470518, \"longitude\": -119.0683359, \"url\": \"https://superiorgrocers.com/location/santa-paula\", \"state_name\": \"California\", \"brand\": \"Supreme Grocers\", \"updated\": \"2024-03-31\", \"type\": \"Feature\", \"geometry\": {\"type\": \"Point\", \"coordinates\": [-119.0683359, 34.3470518]}}]}}, {\"mode\": \"vega-lite\"});\n",
       "</script>"
      ],
      "text/plain": [
       "alt.LayerChart(...)"
      ]
     },
     "execution_count": 20,
     "metadata": {},
     "output_type": "execute_result"
    }
   ],
   "source": [
    "points = (\n",
    "    alt.Chart(gdf)\n",
    "    .mark_circle(size=5, color=color)\n",
    "    .encode(\n",
    "        longitude=\"longitude:Q\",\n",
    "        latitude=\"latitude:Q\",\n",
    "    )\n",
    ")\n",
    "\n",
    "point_map = background + points\n",
    "point_map.configure_view(stroke=None)"
   ]
  },
  {
   "cell_type": "markdown",
   "id": "0a1fbe27-c0ed-4536-822f-ff6d64d9a78a",
   "metadata": {},
   "source": [
    "#### Location proportional symbols map"
   ]
  },
  {
   "cell_type": "code",
   "execution_count": 21,
   "id": "6cdad978-98db-4088-9286-662c92824fd5",
   "metadata": {},
   "outputs": [
    {
     "data": {
      "text/html": [
       "\n",
       "<style>\n",
       "  #altair-viz-4e16e3dbc5994384bb6184aa66b04c24.vega-embed {\n",
       "    width: 100%;\n",
       "    display: flex;\n",
       "  }\n",
       "\n",
       "  #altair-viz-4e16e3dbc5994384bb6184aa66b04c24.vega-embed details,\n",
       "  #altair-viz-4e16e3dbc5994384bb6184aa66b04c24.vega-embed details summary {\n",
       "    position: relative;\n",
       "  }\n",
       "</style>\n",
       "<div id=\"altair-viz-4e16e3dbc5994384bb6184aa66b04c24\"></div>\n",
       "<script type=\"text/javascript\">\n",
       "  var VEGA_DEBUG = (typeof VEGA_DEBUG == \"undefined\") ? {} : VEGA_DEBUG;\n",
       "  (function(spec, embedOpt){\n",
       "    let outputDiv = document.currentScript.previousElementSibling;\n",
       "    if (outputDiv.id !== \"altair-viz-4e16e3dbc5994384bb6184aa66b04c24\") {\n",
       "      outputDiv = document.getElementById(\"altair-viz-4e16e3dbc5994384bb6184aa66b04c24\");\n",
       "    }\n",
       "    const paths = {\n",
       "      \"vega\": \"https://cdn.jsdelivr.net/npm/vega@5?noext\",\n",
       "      \"vega-lib\": \"https://cdn.jsdelivr.net/npm/vega-lib?noext\",\n",
       "      \"vega-lite\": \"https://cdn.jsdelivr.net/npm/vega-lite@5.16.3?noext\",\n",
       "      \"vega-embed\": \"https://cdn.jsdelivr.net/npm/vega-embed@6?noext\",\n",
       "    };\n",
       "\n",
       "    function maybeLoadScript(lib, version) {\n",
       "      var key = `${lib.replace(\"-\", \"\")}_version`;\n",
       "      return (VEGA_DEBUG[key] == version) ?\n",
       "        Promise.resolve(paths[lib]) :\n",
       "        new Promise(function(resolve, reject) {\n",
       "          var s = document.createElement('script');\n",
       "          document.getElementsByTagName(\"head\")[0].appendChild(s);\n",
       "          s.async = true;\n",
       "          s.onload = () => {\n",
       "            VEGA_DEBUG[key] = version;\n",
       "            return resolve(paths[lib]);\n",
       "          };\n",
       "          s.onerror = () => reject(`Error loading script: ${paths[lib]}`);\n",
       "          s.src = paths[lib];\n",
       "        });\n",
       "    }\n",
       "\n",
       "    function showError(err) {\n",
       "      outputDiv.innerHTML = `<div class=\"error\" style=\"color:red;\">${err}</div>`;\n",
       "      throw err;\n",
       "    }\n",
       "\n",
       "    function displayChart(vegaEmbed) {\n",
       "      vegaEmbed(outputDiv, spec, embedOpt)\n",
       "        .catch(err => showError(`Javascript Error: ${err.message}<br>This usually means there's a typo in your chart specification. See the javascript console for the full traceback.`));\n",
       "    }\n",
       "\n",
       "    if(typeof define === \"function\" && define.amd) {\n",
       "      requirejs.config({paths});\n",
       "      require([\"vega-embed\"], displayChart, err => showError(`Error loading script: ${err.message}`));\n",
       "    } else {\n",
       "      maybeLoadScript(\"vega\", \"5\")\n",
       "        .then(() => maybeLoadScript(\"vega-lite\", \"5.16.3\"))\n",
       "        .then(() => maybeLoadScript(\"vega-embed\", \"6\"))\n",
       "        .catch(showError)\n",
       "        .then(() => displayChart(vegaEmbed));\n",
       "    }\n",
       "  })({\"config\": {\"view\": {\"continuousWidth\": 300, \"continuousHeight\": 300, \"stroke\": null}}, \"layer\": [{\"data\": {\"url\": \"https://cdn.jsdelivr.net/npm/vega-datasets@v1.29.0/data/us-10m.json\", \"format\": {\"feature\": \"states\", \"type\": \"topojson\"}}, \"mark\": {\"type\": \"geoshape\", \"fill\": \"#e9e9e9\", \"stroke\": \"white\"}, \"projection\": {\"type\": \"albersUsa\"}, \"title\": \"Supreme Grocers locations\"}, {\"data\": {\"name\": \"data-df774b9082a836c769ad23dea44de145\"}, \"mark\": {\"type\": \"circle\"}, \"encoding\": {\"color\": {\"value\": \"#ed1c24\"}, \"latitude\": {\"field\": \"latitude\", \"type\": \"quantitative\"}, \"longitude\": {\"field\": \"longitude\", \"type\": \"quantitative\"}, \"size\": {\"field\": \"count\", \"title\": \"Count by state\", \"type\": \"quantitative\"}, \"tooltip\": [{\"field\": \"state\", \"type\": \"nominal\"}, {\"field\": \"count\", \"type\": \"quantitative\"}]}, \"title\": \"Number of Supreme Grocers in US, by average lon/lat of locations\", \"transform\": [{\"aggregate\": [{\"op\": \"mean\", \"field\": \"latitude\", \"as\": \"latitude\"}, {\"op\": \"mean\", \"field\": \"longitude\", \"as\": \"longitude\"}, {\"op\": \"count\", \"as\": \"count\"}], \"groupby\": [\"state\"]}]}], \"height\": 500, \"width\": 800, \"$schema\": \"https://vega.github.io/schema/vega-lite/v5.16.3.json\", \"datasets\": {\"data-df774b9082a836c769ad23dea44de145\": [{\"location_name\": \"Las Vegas #701\", \"street\": \"1955 N. Nellis Blvd.\", \"city\": \"Las Vegas\", \"state\": \"NV\", \"zip\": \"89115\", \"latitude\": 36.19496671, \"longitude\": -115.06364465, \"url\": \"https://superiorgrocers.com/location/lv-nellis\", \"state_name\": \"Nevada\", \"brand\": \"Supreme Grocers\", \"updated\": \"2024-03-31\", \"type\": \"Feature\", \"geometry\": {\"type\": \"Point\", \"coordinates\": [-115.06364465, 36.19496671]}}, {\"location_name\": \"Bakersfield #134\", \"street\": \"2100 White Ln.\", \"city\": \"Bakersfield\", \"state\": \"CA\", \"zip\": \"93304\", \"latitude\": 35.317725, \"longitude\": -119.026632, \"url\": \"https://superiorgrocers.com/location/bakersfield\", \"state_name\": \"California\", \"brand\": \"Supreme Grocers\", \"updated\": \"2024-03-31\", \"type\": \"Feature\", \"geometry\": {\"type\": \"Point\", \"coordinates\": [-119.026632, 35.317725]}}, {\"location_name\": \"Bakersfield #147\", \"street\": \"1115 Union Ave\", \"city\": \"Bakersfield\", \"state\": \"CA\", \"zip\": \"93304\", \"latitude\": 35.366892, \"longitude\": -119.003561, \"url\": \"https://superiorgrocers.com/location/bakersfield-union-ave\", \"state_name\": \"California\", \"brand\": \"Supreme Grocers\", \"updated\": \"2024-03-31\", \"type\": \"Feature\", \"geometry\": {\"type\": \"Point\", \"coordinates\": [-119.003561, 35.366892]}}, {\"location_name\": \"Baldwin Park #128\", \"street\": \"14433 Ramona Blvd.\", \"city\": \"Baldwin Park\", \"state\": \"CA\", \"zip\": \"91706\", \"latitude\": 34.088487, \"longitude\": -117.958922, \"url\": \"https://superiorgrocers.com/location/baldwin-park\", \"state_name\": \"California\", \"brand\": \"Supreme Grocers\", \"updated\": \"2024-03-31\", \"type\": \"Feature\", \"geometry\": {\"type\": \"Point\", \"coordinates\": [-117.958922, 34.088487]}}, {\"location_name\": \"Bellflower #140\", \"street\": \"16100 Lakewood Blvd\", \"city\": \"Bellflower\", \"state\": \"CA\", \"zip\": \"90706\", \"latitude\": 33.888283, \"longitude\": -118.142638, \"url\": \"https://superiorgrocers.com/location/bellflower\", \"state_name\": \"California\", \"brand\": \"Supreme Grocers\", \"updated\": \"2024-03-31\", \"type\": \"Feature\", \"geometry\": {\"type\": \"Point\", \"coordinates\": [-118.142638, 33.888283]}}, {\"location_name\": \"Carson #313\", \"street\": \"129 E. Lomita Blvd.\", \"city\": \"Carson\", \"state\": \"CA\", \"zip\": \"90745\", \"latitude\": 33.79875, \"longitude\": -118.27395, \"url\": \"https://superiorgrocers.com/location/carson\", \"state_name\": \"California\", \"brand\": \"Supreme Grocers\", \"updated\": \"2024-03-31\", \"type\": \"Feature\", \"geometry\": {\"type\": \"Point\", \"coordinates\": [-118.27395, 33.79875]}}, {\"location_name\": \"City of Industry #114\", \"street\": \"151 S. Hacienda Blvd.\", \"city\": \"City of Industry\", \"state\": \"CA\", \"zip\": \"91744\", \"latitude\": 34.021226, \"longitude\": -117.959425, \"url\": \"https://superiorgrocers.com/location/city-of-industry\", \"state_name\": \"California\", \"brand\": \"Supreme Grocers\", \"updated\": \"2024-03-31\", \"type\": \"Feature\", \"geometry\": {\"type\": \"Point\", \"coordinates\": [-117.959425, 34.021226]}}, {\"location_name\": \"Compton #112\", \"street\": \"111 E. Compton Blvd.\", \"city\": \"Compton\", \"state\": \"CA\", \"zip\": \"90220\", \"latitude\": 33.897131, \"longitude\": -118.22395, \"url\": \"https://superiorgrocers.com/location/compton\", \"state_name\": \"California\", \"brand\": \"Supreme Grocers\", \"updated\": \"2024-03-31\", \"type\": \"Feature\", \"geometry\": {\"type\": \"Point\", \"coordinates\": [-118.22395, 33.897131]}}, {\"location_name\": \"Covina #115\", \"street\": \"1375 N. Citrus Ave.\", \"city\": \"Covina\", \"state\": \"CA\", \"zip\": \"91722\", \"latitude\": 34.105322, \"longitude\": -117.890251, \"url\": \"https://superiorgrocers.com/location/covina\", \"state_name\": \"California\", \"brand\": \"Supreme Grocers\", \"updated\": \"2024-03-31\", \"type\": \"Feature\", \"geometry\": {\"type\": \"Point\", \"coordinates\": [-117.890251, 34.105322]}}, {\"location_name\": \"Cudahy #105\", \"street\": \"7300 Atlantic Ave.\", \"city\": \"Cudahy\", \"state\": \"CA\", \"zip\": \"90201\", \"latitude\": 33.968829, \"longitude\": -118.187667, \"url\": \"https://superiorgrocers.com/location/cudahy\", \"state_name\": \"California\", \"brand\": \"Supreme Grocers\", \"updated\": \"2024-03-31\", \"type\": \"Feature\", \"geometry\": {\"type\": \"Point\", \"coordinates\": [-118.187667, 33.968829]}}, {\"location_name\": \"El Monte #145\", \"street\": \"9900 E. Garvey Ave.\", \"city\": \"El Monte\", \"state\": \"CA\", \"zip\": \"91733\", \"latitude\": 34.06262, \"longitude\": -118.0521, \"url\": \"https://superiorgrocers.com/location/el-monte\", \"state_name\": \"California\", \"brand\": \"Supreme Grocers\", \"updated\": \"2024-03-31\", \"type\": \"Feature\", \"geometry\": {\"type\": \"Point\", \"coordinates\": [-118.0521, 34.06262]}}, {\"location_name\": \"El Monte #145\", \"street\": \"9900 E. Garvey Ave.\", \"city\": \"El Monte\", \"state\": \"CA\", \"zip\": \"91733\", \"latitude\": 34.06262, \"longitude\": -118.0521, \"url\": \"https://superiorgrocers.com/location/el-monte\", \"state_name\": \"California\", \"brand\": \"Supreme Grocers\", \"updated\": \"2024-03-31\", \"type\": \"Feature\", \"geometry\": {\"type\": \"Point\", \"coordinates\": [-118.0521, 34.06262]}}, {\"location_name\": \"Gardena #142\", \"street\": \"15000 Crenshaw Blvd\", \"city\": \"Gardena\", \"state\": \"CA\", \"zip\": \"90249\", \"latitude\": 33.894756, \"longitude\": -118.32558, \"url\": \"https://superiorgrocers.com/location/gardena\", \"state_name\": \"California\", \"brand\": \"Supreme Grocers\", \"updated\": \"2024-03-31\", \"type\": \"Feature\", \"geometry\": {\"type\": \"Point\", \"coordinates\": [-118.32558, 33.894756]}}, {\"location_name\": \"Huntington Park #107\", \"street\": \"6010 Pacific Blvd.\", \"city\": \"Huntington Park\", \"state\": \"CA\", \"zip\": \"90255\", \"latitude\": 33.986735, \"longitude\": -118.225208, \"url\": \"https://superiorgrocers.com/location/huntington-park\", \"state_name\": \"California\", \"brand\": \"Supreme Grocers\", \"updated\": \"2024-03-31\", \"type\": \"Feature\", \"geometry\": {\"type\": \"Point\", \"coordinates\": [-118.225208, 33.986735]}}, {\"location_name\": \"Inglewood #123\", \"street\": \"250 N. La Brea Blvd.\", \"city\": \"Inglewood\", \"state\": \"CA\", \"zip\": \"90301\", \"latitude\": 33.96504, \"longitude\": -118.35326, \"url\": \"https://superiorgrocers.com/location/inglewood\", \"state_name\": \"California\", \"brand\": \"Supreme Grocers\", \"updated\": \"2024-03-31\", \"type\": \"Feature\", \"geometry\": {\"type\": \"Point\", \"coordinates\": [-118.35326, 33.96504]}}, {\"location_name\": \"Inglewood #123\", \"street\": \"250 N. La Brea Blvd.\", \"city\": \"Inglewood\", \"state\": \"CA\", \"zip\": \"90301\", \"latitude\": 33.96504, \"longitude\": -118.35326, \"url\": \"https://superiorgrocers.com/location/inglewood\", \"state_name\": \"California\", \"brand\": \"Supreme Grocers\", \"updated\": \"2024-03-31\", \"type\": \"Feature\", \"geometry\": {\"type\": \"Point\", \"coordinates\": [-118.35326, 33.96504]}}, {\"location_name\": \"Lancaster #133\", \"street\": \"1010 E. Avenue J\", \"city\": \"Lancaster\", \"state\": \"CA\", \"zip\": \"93535\", \"latitude\": 34.688427, \"longitude\": -118.112633, \"url\": \"https://superiorgrocers.com/location/lancaster\", \"state_name\": \"California\", \"brand\": \"Supreme Grocers\", \"updated\": \"2024-03-31\", \"type\": \"Feature\", \"geometry\": {\"type\": \"Point\", \"coordinates\": [-118.112633, 34.688427]}}, {\"location_name\": \"Lennox #316\", \"street\": \"10819 Hawthorne Blvd.\", \"city\": \"Lennox\", \"state\": \"CA\", \"zip\": \"90304\", \"latitude\": 33.93753, \"longitude\": -118.35328, \"url\": \"https://superiorgrocers.com/location/lennox\", \"state_name\": \"California\", \"brand\": \"Supreme Grocers\", \"updated\": \"2024-03-31\", \"type\": \"Feature\", \"geometry\": {\"type\": \"Point\", \"coordinates\": [-118.35328, 33.93753]}}, {\"location_name\": \"Long Beach #119\", \"street\": \"5450 Cherry Ave.\", \"city\": \"Long Beach\", \"state\": \"CA\", \"zip\": \"90805\", \"latitude\": 33.855734, \"longitude\": -118.16825, \"url\": \"https://superiorgrocers.com/location/cherry-ave\", \"state_name\": \"California\", \"brand\": \"Supreme Grocers\", \"updated\": \"2024-03-31\", \"type\": \"Feature\", \"geometry\": {\"type\": \"Point\", \"coordinates\": [-118.16825, 33.855734]}}, {\"location_name\": \"Long Beach #117\", \"street\": \"1033 Long Beach Blvd.\", \"city\": \"Long Beach\", \"state\": \"CA\", \"zip\": \"90813\", \"latitude\": 33.77978, \"longitude\": -118.18995, \"url\": \"https://superiorgrocers.com/location/long-beach\", \"state_name\": \"California\", \"brand\": \"Supreme Grocers\", \"updated\": \"2024-03-31\", \"type\": \"Feature\", \"geometry\": {\"type\": \"Point\", \"coordinates\": [-118.18995, 33.77978]}}, {\"location_name\": \"Los Angeles #101\", \"street\": \"10211 S. Avalon Blvd.\", \"city\": \"Los Angeles\", \"state\": \"CA\", \"zip\": \"90003\", \"latitude\": 33.9434167, \"longitude\": -118.265397, \"url\": \"https://superiorgrocers.com/location/avalon\", \"state_name\": \"California\", \"brand\": \"Supreme Grocers\", \"updated\": \"2024-03-31\", \"type\": \"Feature\", \"geometry\": {\"type\": \"Point\", \"coordinates\": [-118.265397, 33.9434167]}}, {\"location_name\": \"Los Angeles #129\", \"street\": \"133 W. Avenue 45\", \"city\": \"Los Angeles\", \"state\": \"CA\", \"zip\": \"90065\", \"latitude\": 34.0964919, \"longitude\": -118.2070468, \"url\": \"https://superiorgrocers.com/location/los-angeles\", \"state_name\": \"California\", \"brand\": \"Supreme Grocers\", \"updated\": \"2024-03-31\", \"type\": \"Feature\", \"geometry\": {\"type\": \"Point\", \"coordinates\": [-118.2070468, 34.0964919]}}, {\"location_name\": \"Los Angeles #113\", \"street\": \"3600 Cesar E. Chavez Ave.\", \"city\": \"Los Angeles\", \"state\": \"CA\", \"zip\": \"90063\", \"latitude\": 34.04024, \"longitude\": -118.185834, \"url\": \"https://superiorgrocers.com/location/cesar-chavez\", \"state_name\": \"California\", \"brand\": \"Supreme Grocers\", \"updated\": \"2024-03-31\", \"type\": \"Feature\", \"geometry\": {\"type\": \"Point\", \"coordinates\": [-118.185834, 34.04024]}}, {\"location_name\": \"Los Angeles #102\", \"street\": \"7316 S. Compton Ave. \", \"city\": \"Los Angeles\", \"state\": \"CA\", \"zip\": \"90001\", \"latitude\": 33.973639, \"longitude\": -118.247677, \"url\": \"https://superiorgrocers.com/location/compton-ave\", \"state_name\": \"California\", \"brand\": \"Supreme Grocers\", \"updated\": \"2024-03-31\", \"type\": \"Feature\", \"geometry\": {\"type\": \"Point\", \"coordinates\": [-118.247677, 33.973639]}}, {\"location_name\": \"Los Angeles #116\", \"street\": \"5824 S. Vermont Ave. \", \"city\": \"Los Angeles\", \"state\": \"CA\", \"zip\": \"90044\", \"latitude\": 33.9883693, \"longitude\": -118.2896662, \"url\": \"https://superiorgrocers.com/location/vermont-ave\", \"state_name\": \"California\", \"brand\": \"Supreme Grocers\", \"updated\": \"2024-03-31\", \"type\": \"Feature\", \"geometry\": {\"type\": \"Point\", \"coordinates\": [-118.2896662, 33.9883693]}}, {\"location_name\": \"Los Angeles #108\", \"street\": \"8811 S. Western Ave. \", \"city\": \"Los Angeles\", \"state\": \"CA\", \"zip\": \"90047\", \"latitude\": 33.957304, \"longitude\": -118.309021, \"url\": \"https://superiorgrocers.com/location/western-ave\", \"state_name\": \"California\", \"brand\": \"Supreme Grocers\", \"updated\": \"2024-03-31\", \"type\": \"Feature\", \"geometry\": {\"type\": \"Point\", \"coordinates\": [-118.309021, 33.957304]}}, {\"location_name\": \"Los Angeles #135\", \"street\": \"2000 S. Central Ave. \", \"city\": \"Los Angeles\", \"state\": \"CA\", \"zip\": \"90011\", \"latitude\": 34.022874, \"longitude\": -118.251957, \"url\": \"https://superiorgrocers.com/location/central-ave\", \"state_name\": \"California\", \"brand\": \"Supreme Grocers\", \"updated\": \"2024-03-31\", \"type\": \"Feature\", \"geometry\": {\"type\": \"Point\", \"coordinates\": [-118.251957, 34.022874]}}, {\"location_name\": \"Los Angeles #139\", \"street\": \"3480 S. La Brea Ave. \", \"city\": \"Los Angeles\", \"state\": \"CA\", \"zip\": \"90016\", \"latitude\": 34.023276, \"longitude\": -118.355607, \"url\": \"https://superiorgrocers.com/location/la-brea\", \"state_name\": \"California\", \"brand\": \"Supreme Grocers\", \"updated\": \"2024-03-31\", \"type\": \"Feature\", \"geometry\": {\"type\": \"Point\", \"coordinates\": [-118.355607, 34.023276]}}, {\"location_name\": \"Los Angeles #201\", \"street\": \"4040 W. Washington Blvd\", \"city\": \"Los Angeles\", \"state\": \"CA\", \"zip\": \"90018\", \"latitude\": 34.03984, \"longitude\": -118.32715, \"url\": \"https://superiorgrocers.com/location/washington-blvd\", \"state_name\": \"California\", \"brand\": \"Supreme Grocers\", \"updated\": \"2024-03-31\", \"type\": \"Feature\", \"geometry\": {\"type\": \"Point\", \"coordinates\": [-118.32715, 34.03984]}}, {\"location_name\": \"Los Angeles #301\", \"street\": \"701 E. Jefferson Blvd.\", \"city\": \"Los Angeles\", \"state\": \"CA\", \"zip\": \"90011\", \"latitude\": 34.01487, \"longitude\": -118.26386, \"url\": \"https://superiorgrocers.com/location/jefferson-blvd\", \"state_name\": \"California\", \"brand\": \"Supreme Grocers\", \"updated\": \"2024-03-31\", \"type\": \"Feature\", \"geometry\": {\"type\": \"Point\", \"coordinates\": [-118.26386, 34.01487]}}, {\"location_name\": \"Los Angeles #302\", \"street\": \"1309 S. Alvarado St.\", \"city\": \"Los Angeles\", \"state\": \"CA\", \"zip\": \"90006\", \"latitude\": 34.04535, \"longitude\": -118.28404, \"url\": \"https://superiorgrocers.com/location/alvarado\", \"state_name\": \"California\", \"brand\": \"Supreme Grocers\", \"updated\": \"2024-03-31\", \"type\": \"Feature\", \"geometry\": {\"type\": \"Point\", \"coordinates\": [-118.28404, 34.04535]}}, {\"location_name\": \"Los Angeles #303\", \"street\": \"9127 S. Figueroa St.\", \"city\": \"Los Angeles\", \"state\": \"CA\", \"zip\": \"90003\", \"latitude\": 33.95397, \"longitude\": -118.2828, \"url\": \"https://superiorgrocers.com/location/figueroa\", \"state_name\": \"California\", \"brand\": \"Supreme Grocers\", \"updated\": \"2024-03-31\", \"type\": \"Feature\", \"geometry\": {\"type\": \"Point\", \"coordinates\": [-118.2828, 33.95397]}}, {\"location_name\": \"Los Angeles #304\", \"street\": \"310 E. Manchester Ave\", \"city\": \"Los Angeles\", \"state\": \"CA\", \"zip\": \"90003\", \"latitude\": 33.96002, \"longitude\": -118.26875, \"url\": \"https://superiorgrocers.com/location/manchester\", \"state_name\": \"California\", \"brand\": \"Supreme Grocers\", \"updated\": \"2024-03-31\", \"type\": \"Feature\", \"geometry\": {\"type\": \"Point\", \"coordinates\": [-118.26875, 33.96002]}}, {\"location_name\": \"Los Angeles #305\", \"street\": \"2214 S. San Pedro St.\", \"city\": \"Los Angeles\", \"state\": \"CA\", \"zip\": \"90011\", \"latitude\": 34.02485, \"longitude\": -118.25909, \"url\": \"https://superiorgrocers.com/location/san-pedro-st\", \"state_name\": \"California\", \"brand\": \"Supreme Grocers\", \"updated\": \"2024-03-31\", \"type\": \"Feature\", \"geometry\": {\"type\": \"Point\", \"coordinates\": [-118.25909, 34.02485]}}, {\"location_name\": \"Los Angeles #307\", \"street\": \"4710 S. Broadway St.\", \"city\": \"Los Angeles\", \"state\": \"CA\", \"zip\": \"90037\", \"latitude\": 33.99992, \"longitude\": -118.27822, \"url\": \"https://superiorgrocers.com/location/broadway\", \"state_name\": \"California\", \"brand\": \"Supreme Grocers\", \"updated\": \"2024-03-31\", \"type\": \"Feature\", \"geometry\": {\"type\": \"Point\", \"coordinates\": [-118.27822, 33.99992]}}, {\"location_name\": \"Los Angeles #308\", \"street\": \"4373 S. Vermont Ave\", \"city\": \"Los Angeles\", \"state\": \"CA\", \"zip\": \"90003\", \"latitude\": 34.00454, \"longitude\": -118.29165, \"url\": \"https://superiorgrocers.com/location/vermont\", \"state_name\": \"California\", \"brand\": \"Supreme Grocers\", \"updated\": \"2024-03-31\", \"type\": \"Feature\", \"geometry\": {\"type\": \"Point\", \"coordinates\": [-118.29165, 34.00454]}}, {\"location_name\": \"Los Angeles #310\", \"street\": \"1831 W. 3rd St.\", \"city\": \"Los Angeles\", \"state\": \"CA\", \"zip\": \"90057\", \"latitude\": 34.06167, \"longitude\": -118.26952, \"url\": \"https://superiorgrocers.com/location/third-st\", \"state_name\": \"California\", \"brand\": \"Supreme Grocers\", \"updated\": \"2024-03-31\", \"type\": \"Feature\", \"geometry\": {\"type\": \"Point\", \"coordinates\": [-118.26952, 34.06167]}}, {\"location_name\": \"Los Angeles #319\", \"street\": \"4831 Whittier Blvd.\", \"city\": \"Los Angeles\", \"state\": \"CA\", \"zip\": \"90022\", \"latitude\": 34.02173, \"longitude\": -118.16348, \"url\": \"https://superiorgrocers.com/location/whittier\", \"state_name\": \"California\", \"brand\": \"Supreme Grocers\", \"updated\": \"2024-03-31\", \"type\": \"Feature\", \"geometry\": {\"type\": \"Point\", \"coordinates\": [-118.16348, 34.02173]}}, {\"location_name\": \"Lynwood #103\", \"street\": \"9990 Long Beach Blvd.\", \"city\": \"Lynwood\", \"state\": \"CA\", \"zip\": \"90262\", \"latitude\": 33.94479, \"longitude\": -118.21586, \"url\": \"https://superiorgrocers.com/location/lynwood\", \"state_name\": \"California\", \"brand\": \"Supreme Grocers\", \"updated\": \"2024-03-31\", \"type\": \"Feature\", \"geometry\": {\"type\": \"Point\", \"coordinates\": [-118.21586, 33.94479]}}, {\"location_name\": \"Lynwood #103\", \"street\": \"9990 Long Beach Blvd.\", \"city\": \"Lynwood\", \"state\": \"CA\", \"zip\": \"90262\", \"latitude\": 33.94479, \"longitude\": -118.21586, \"url\": \"https://superiorgrocers.com/location/lynwood\", \"state_name\": \"California\", \"brand\": \"Supreme Grocers\", \"updated\": \"2024-03-31\", \"type\": \"Feature\", \"geometry\": {\"type\": \"Point\", \"coordinates\": [-118.21586, 33.94479]}}, {\"location_name\": \"Maywood #143\", \"street\": \"4308 E Slauson Ave\", \"city\": \"Maywood\", \"state\": \"CA\", \"zip\": \"90270\", \"latitude\": 33.9871709, \"longitude\": -118.1897564, \"url\": \"https://superiorgrocers.com/location/maywood\", \"state_name\": \"California\", \"brand\": \"Supreme Grocers\", \"updated\": \"2024-03-31\", \"type\": \"Feature\", \"geometry\": {\"type\": \"Point\", \"coordinates\": [-118.1897564, 33.9871709]}}, {\"location_name\": \"Montebello #106\", \"street\": \"1201 W. Whittier Blvd.\", \"city\": \"Montebello\", \"state\": \"CA\", \"zip\": \"90640\", \"latitude\": 34.010993, \"longitude\": -118.112896, \"url\": \"https://superiorgrocers.com/location/montebello\", \"state_name\": \"California\", \"brand\": \"Supreme Grocers\", \"updated\": \"2024-03-31\", \"type\": \"Feature\", \"geometry\": {\"type\": \"Point\", \"coordinates\": [-118.112896, 34.010993]}}, {\"location_name\": \"North Hollywood #118\", \"street\": \"6140 Lankershim Blvd. \", \"city\": \"North Hollywood\", \"state\": \"CA\", \"zip\": \"91606\", \"latitude\": 34.183042, \"longitude\": -118.385208, \"url\": \"https://superiorgrocers.com/location/north-hollywood\", \"state_name\": \"California\", \"brand\": \"Supreme Grocers\", \"updated\": \"2024-03-31\", \"type\": \"Feature\", \"geometry\": {\"type\": \"Point\", \"coordinates\": [-118.385208, 34.183042]}}, {\"location_name\": \"Norwalk #318\", \"street\": \"10951 Rosecrans Ave.\", \"city\": \"Norwalk\", \"state\": \"CA\", \"zip\": \"90650\", \"latitude\": 33.90224, \"longitude\": -118.10254, \"url\": \"https://superiorgrocers.com/location/norwalk\", \"state_name\": \"California\", \"brand\": \"Supreme Grocers\", \"updated\": \"2024-03-31\", \"type\": \"Feature\", \"geometry\": {\"type\": \"Point\", \"coordinates\": [-118.10254, 33.90224]}}, {\"location_name\": \"Pacoima #111\", \"street\": \"9801 Laurel Canyon Blvd.\", \"city\": \"Pacoima\", \"state\": \"CA\", \"zip\": \"91331\", \"latitude\": 34.247985, \"longitude\": -118.420731, \"url\": \"https://superiorgrocers.com/location/pacoima\", \"state_name\": \"California\", \"brand\": \"Supreme Grocers\", \"updated\": \"2024-03-31\", \"type\": \"Feature\", \"geometry\": {\"type\": \"Point\", \"coordinates\": [-118.420731, 34.247985]}}, {\"location_name\": \"Pacoima #311\", \"street\": \"10455 Laurel Canyon Blvd.\", \"city\": \"Pacoima\", \"state\": \"CA\", \"zip\": \"91331\", \"latitude\": 34.25944, \"longitude\": -118.43296, \"url\": \"https://superiorgrocers.com/location/laurel-canyon\", \"state_name\": \"California\", \"brand\": \"Supreme Grocers\", \"updated\": \"2024-03-31\", \"type\": \"Feature\", \"geometry\": {\"type\": \"Point\", \"coordinates\": [-118.43296, 34.25944]}}, {\"location_name\": \"Palmdale #137\", \"street\": \"38360 20th St E.\", \"city\": \"Palmdale\", \"state\": \"CA\", \"zip\": \"93550\", \"latitude\": 34.578732, \"longitude\": -118.09407, \"url\": \"https://superiorgrocers.com/location/palmdale\", \"state_name\": \"California\", \"brand\": \"Supreme Grocers\", \"updated\": \"2024-03-31\", \"type\": \"Feature\", \"geometry\": {\"type\": \"Point\", \"coordinates\": [-118.09407, 34.578732]}}, {\"location_name\": \"Pico Rivera #131\", \"street\": \"9100 Whittier Blvd.\", \"city\": \"Pico Rivera\", \"state\": \"CA\", \"zip\": \"90660\", \"latitude\": 34.000642, \"longitude\": -118.082408, \"url\": \"https://superiorgrocers.com/location/pico-rivera\", \"state_name\": \"California\", \"brand\": \"Supreme Grocers\", \"updated\": \"2024-03-31\", \"type\": \"Feature\", \"geometry\": {\"type\": \"Point\", \"coordinates\": [-118.082408, 34.000642]}}, {\"location_name\": \"Pomona #144\", \"street\": \"3180 North Garey Ave\", \"city\": \"Pomona\", \"state\": \"CA\", \"zip\": \"91767\", \"latitude\": 34.10594, \"longitude\": -117.748386, \"url\": \"https://superiorgrocers.com/location/pomona\", \"state_name\": \"California\", \"brand\": \"Supreme Grocers\", \"updated\": \"2024-03-31\", \"type\": \"Feature\", \"geometry\": {\"type\": \"Point\", \"coordinates\": [-117.748386, 34.10594]}}, {\"location_name\": \"San Pedro #306\", \"street\": \"500 S. Pacific Ave.\", \"city\": \"San Pedro\", \"state\": \"CA\", \"zip\": \"90731\", \"latitude\": 33.73928, \"longitude\": -118.28779, \"url\": \"https://superiorgrocers.com/location/san-pedro-pacific\", \"state_name\": \"California\", \"brand\": \"Supreme Grocers\", \"updated\": \"2024-03-31\", \"type\": \"Feature\", \"geometry\": {\"type\": \"Point\", \"coordinates\": [-118.28779, 33.73928]}}, {\"location_name\": \"San Pedro #321\", \"street\": \"970 W 1st St.\", \"city\": \"San Pedro\", \"state\": \"CA\", \"zip\": \"90731\", \"latitude\": 33.74344, \"longitude\": -118.29793, \"url\": \"https://superiorgrocers.com/location/san-pedro-1st\", \"state_name\": \"California\", \"brand\": \"Supreme Grocers\", \"updated\": \"2024-03-31\", \"type\": \"Feature\", \"geometry\": {\"type\": \"Point\", \"coordinates\": [-118.29793, 33.74344]}}, {\"location_name\": \"South El Monte #104\", \"street\": \"1858 N. Durfee Ave.\", \"city\": \"South El Monte\", \"state\": \"CA\", \"zip\": \"91733\", \"latitude\": 34.044143, \"longitude\": -118.03179, \"url\": \"https://superiorgrocers.com/location/south-el-monte\", \"state_name\": \"California\", \"brand\": \"Supreme Grocers\", \"updated\": \"2024-03-31\", \"type\": \"Feature\", \"geometry\": {\"type\": \"Point\", \"coordinates\": [-118.03179, 34.044143]}}, {\"location_name\": \"Torrance #309\", \"street\": \"1141 W. Carson St.\", \"city\": \"Torrance\", \"state\": \"CA\", \"zip\": \"90502\", \"latitude\": 33.83165, \"longitude\": -118.29657, \"url\": \"https://superiorgrocers.com/location/torrance\", \"state_name\": \"California\", \"brand\": \"Supreme Grocers\", \"updated\": \"2024-03-31\", \"type\": \"Feature\", \"geometry\": {\"type\": \"Point\", \"coordinates\": [-118.29657, 33.83165]}}, {\"location_name\": \"Hawthorne #146\", \"street\": \"12630 Hawthorne Blvd\", \"city\": \"Hawthorne\", \"state\": \"CA\", \"zip\": \"90250\", \"latitude\": 33.917455, \"longitude\": -118.3503, \"url\": \"https://superiorgrocers.com/location/hawthorne\", \"state_name\": \"California\", \"brand\": \"Supreme Grocers\", \"updated\": \"2024-03-31\", \"type\": \"Feature\", \"geometry\": {\"type\": \"Point\", \"coordinates\": [-118.3503, 33.917455]}}, {\"location_name\": \"La Mirada #141\", \"street\": \"12721 Valley View Ave\", \"city\": \"La Mirada\", \"state\": \"CA\", \"zip\": \"90638\", \"latitude\": 33.916316, \"longitude\": -118.029492, \"url\": \"https://superiorgrocers.com/location/la-mirada\", \"state_name\": \"California\", \"brand\": \"Supreme Grocers\", \"updated\": \"2024-03-31\", \"type\": \"Feature\", \"geometry\": {\"type\": \"Point\", \"coordinates\": [-118.029492, 33.916316]}}, {\"location_name\": \"Anaheim #317\", \"street\": \"1086 N. State College Blvd.\", \"city\": \"Anaheim\", \"state\": \"CA\", \"zip\": \"92806\", \"latitude\": 33.84829, \"longitude\": -117.88911, \"url\": \"https://superiorgrocers.com/location/anaheim\", \"state_name\": \"California\", \"brand\": \"Supreme Grocers\", \"updated\": \"2024-03-31\", \"type\": \"Feature\", \"geometry\": {\"type\": \"Point\", \"coordinates\": [-117.88911, 33.84829]}}, {\"location_name\": \"Buena Park #136\", \"street\": \"6931 La Palma Ave.\", \"city\": \"Buena Park\", \"state\": \"CA\", \"zip\": \"90620\", \"latitude\": 33.8465151, \"longitude\": -118.01304, \"url\": \"https://superiorgrocers.com/location/buena-park\", \"state_name\": \"California\", \"brand\": \"Supreme Grocers\", \"updated\": \"2024-03-31\", \"type\": \"Feature\", \"geometry\": {\"type\": \"Point\", \"coordinates\": [-118.01304, 33.8465151]}}, {\"location_name\": \"Santa Ana #132\", \"street\": \"2009 W. 1st St.\", \"city\": \"Santa Ana\", \"state\": \"CA\", \"zip\": \"92703\", \"latitude\": 33.7454725, \"longitude\": -117.8965992, \"url\": \"https://superiorgrocers.com/location/santa-ana-1\", \"state_name\": \"California\", \"brand\": \"Supreme Grocers\", \"updated\": \"2024-03-31\", \"type\": \"Feature\", \"geometry\": {\"type\": \"Point\", \"coordinates\": [-117.8965992, 33.7454725]}}, {\"location_name\": \"Santa Ana #110\", \"street\": \"1720 E. 17th St. \", \"city\": \"Santa Ana\", \"state\": \"CA\", \"zip\": \"92705\", \"latitude\": 33.759928, \"longitude\": -117.842715, \"url\": \"https://superiorgrocers.com/location/santa-ana-17\", \"state_name\": \"California\", \"brand\": \"Supreme Grocers\", \"updated\": \"2024-03-31\", \"type\": \"Feature\", \"geometry\": {\"type\": \"Point\", \"coordinates\": [-117.842715, 33.759928]}}, {\"location_name\": \"Santa Ana #109\", \"street\": \"1710 S. Main St. \", \"city\": \"Santa Ana\", \"state\": \"CA\", \"zip\": \"92707\", \"latitude\": 33.72467, \"longitude\": -117.867831, \"url\": \"https://superiorgrocers.com/location/santa-ana\", \"state_name\": \"California\", \"brand\": \"Supreme Grocers\", \"updated\": \"2024-03-31\", \"type\": \"Feature\", \"geometry\": {\"type\": \"Point\", \"coordinates\": [-117.867831, 33.72467]}}, {\"location_name\": \"Corona #126\", \"street\": \"1130 West 6th St. \", \"city\": \"Corona\", \"state\": \"CA\", \"zip\": \"92882\", \"latitude\": 33.87745, \"longitude\": -117.585584, \"url\": \"https://superiorgrocers.com/location/corona\", \"state_name\": \"California\", \"brand\": \"Supreme Grocers\", \"updated\": \"2024-03-31\", \"type\": \"Feature\", \"geometry\": {\"type\": \"Point\", \"coordinates\": [-117.585584, 33.87745]}}, {\"location_name\": \"Moreno Valley #127\", \"street\": \"23857 Sunnymead Blvd.\", \"city\": \"Moreno Valley\", \"state\": \"CA\", \"zip\": \"92553\", \"latitude\": 33.938981, \"longitude\": -117.249132, \"url\": \"https://superiorgrocers.com/location/moreno-valley\", \"state_name\": \"California\", \"brand\": \"Supreme Grocers\", \"updated\": \"2024-03-31\", \"type\": \"Feature\", \"geometry\": {\"type\": \"Point\", \"coordinates\": [-117.249132, 33.938981]}}, {\"location_name\": \"Chino #125\", \"street\": \"12375 Central Ave.\", \"city\": \"Chino\", \"state\": \"CA\", \"zip\": \"91710\", \"latitude\": 34.026319, \"longitude\": -117.688042, \"url\": \"https://superiorgrocers.com/location/chino\", \"state_name\": \"California\", \"brand\": \"Supreme Grocers\", \"updated\": \"2024-03-31\", \"type\": \"Feature\", \"geometry\": {\"type\": \"Point\", \"coordinates\": [-117.688042, 34.026319]}}, {\"location_name\": \"Fontana #122\", \"street\": \"16055 Foothill Blvd.\", \"city\": \"Fontana\", \"state\": \"CA\", \"zip\": \"92335\", \"latitude\": 34.106497, \"longitude\": -117.454901, \"url\": \"https://superiorgrocers.com/location/fontana\", \"state_name\": \"California\", \"brand\": \"Supreme Grocers\", \"updated\": \"2024-03-31\", \"type\": \"Feature\", \"geometry\": {\"type\": \"Point\", \"coordinates\": [-117.454901, 34.106497]}}, {\"location_name\": \"Ontario #120\", \"street\": \"815 W. Holt Blvd.\", \"city\": \"Ontario\", \"state\": \"CA\", \"zip\": \"91762\", \"latitude\": 34.062357, \"longitude\": -117.664398, \"url\": \"https://superiorgrocers.com/location/ontario\", \"state_name\": \"California\", \"brand\": \"Supreme Grocers\", \"updated\": \"2024-03-31\", \"type\": \"Feature\", \"geometry\": {\"type\": \"Point\", \"coordinates\": [-117.664398, 34.062357]}}, {\"location_name\": \"Rialto #121\", \"street\": \"151 West Base Line Ave.\", \"city\": \"Rialto\", \"state\": \"CA\", \"zip\": \"92376\", \"latitude\": 34.120856, \"longitude\": -117.37039, \"url\": \"https://superiorgrocers.com/location/rialto\", \"state_name\": \"California\", \"brand\": \"Supreme Grocers\", \"updated\": \"2024-03-31\", \"type\": \"Feature\", \"geometry\": {\"type\": \"Point\", \"coordinates\": [-117.37039, 34.120856]}}, {\"location_name\": \"San Bernardino #130\", \"street\": \"1108 West 2nd St.  \", \"city\": \"San Bernardino\", \"state\": \"CA\", \"zip\": \"92410\", \"latitude\": 34.10273, \"longitude\": -117.309411, \"url\": \"https://superiorgrocers.com/location/san-bernardino\", \"state_name\": \"California\", \"brand\": \"Supreme Grocers\", \"updated\": \"2024-03-31\", \"type\": \"Feature\", \"geometry\": {\"type\": \"Point\", \"coordinates\": [-117.309411, 34.10273]}}, {\"location_name\": \"Victorville #148\", \"street\": \"14668 7th St.\", \"city\": \"Victorville\", \"state\": \"CA\", \"zip\": \"92395\", \"latitude\": 34.5184363, \"longitude\": -117.3165726, \"url\": \"https://superiorgrocers.com/location/victorville\", \"state_name\": \"California\", \"brand\": \"Supreme Grocers\", \"updated\": \"2024-03-31\", \"type\": \"Feature\", \"geometry\": {\"type\": \"Point\", \"coordinates\": [-117.3165726, 34.5184363]}}, {\"location_name\": \"Dinuba #150\", \"street\": \"2150 E El Monte Way\", \"city\": \"Dinuba\", \"state\": \"CA\", \"zip\": \"93618\", \"latitude\": 36.5440044, \"longitude\": -119.3714358, \"url\": \"https://superiorgrocers.com/location/dinuba\", \"state_name\": \"California\", \"brand\": \"Supreme Grocers\", \"updated\": \"2024-03-31\", \"type\": \"Feature\", \"geometry\": {\"type\": \"Point\", \"coordinates\": [-119.3714358, 36.5440044]}}, {\"location_name\": \"Tulare #151\", \"street\": \"115 S West St\", \"city\": \"Tulare\", \"state\": \"CA\", \"zip\": \"93274\", \"latitude\": 36.2058814, \"longitude\": -119.3692313, \"url\": \"https://superiorgrocers.com/location/tulare\", \"state_name\": \"California\", \"brand\": \"Supreme Grocers\", \"updated\": \"2024-03-31\", \"type\": \"Feature\", \"geometry\": {\"type\": \"Point\", \"coordinates\": [-119.3692313, 36.2058814]}}, {\"location_name\": \"Oxnard #138\", \"street\": \"2401 Saviers Road\", \"city\": \"Oxnard\", \"state\": \"CA\", \"zip\": \"93033\", \"latitude\": 34.176216, \"longitude\": -119.177687, \"url\": \"https://superiorgrocers.com/location/oxnard\", \"state_name\": \"California\", \"brand\": \"Supreme Grocers\", \"updated\": \"2024-03-31\", \"type\": \"Feature\", \"geometry\": {\"type\": \"Point\", \"coordinates\": [-119.177687, 34.176216]}}, {\"location_name\": \"Oxnard #323\", \"street\": \"1111 E. Channel Islands Blvd.\", \"city\": \"Oxnard\", \"state\": \"CA\", \"zip\": \"93033\", \"latitude\": 34.17346, \"longitude\": -119.16528, \"url\": \"https://superiorgrocers.com/location/channel-islands\", \"state_name\": \"California\", \"brand\": \"Supreme Grocers\", \"updated\": \"2024-03-31\", \"type\": \"Feature\", \"geometry\": {\"type\": \"Point\", \"coordinates\": [-119.16528, 34.17346]}}, {\"location_name\": \"Santa Paula #202\", \"street\": \"280 East Harvard Blvd.\", \"city\": \"Santa Paula\", \"state\": \"CA\", \"zip\": \"93060\", \"latitude\": 34.3470518, \"longitude\": -119.0683359, \"url\": \"https://superiorgrocers.com/location/santa-paula\", \"state_name\": \"California\", \"brand\": \"Supreme Grocers\", \"updated\": \"2024-03-31\", \"type\": \"Feature\", \"geometry\": {\"type\": \"Point\", \"coordinates\": [-119.0683359, 34.3470518]}}]}}, {\"mode\": \"vega-lite\"});\n",
       "</script>"
      ],
      "text/plain": [
       "alt.LayerChart(...)"
      ]
     },
     "execution_count": 21,
     "metadata": {},
     "output_type": "execute_result"
    }
   ],
   "source": [
    "symbols = (\n",
    "    alt.Chart(gdf)\n",
    "    .transform_aggregate(\n",
    "        latitude=\"mean(latitude)\",\n",
    "        longitude=\"mean(longitude)\",\n",
    "        count=\"count()\",\n",
    "        groupby=[\"state\"],\n",
    "    )\n",
    "    .mark_circle()\n",
    "    .encode(\n",
    "        longitude=\"longitude:Q\",\n",
    "        latitude=\"latitude:Q\",\n",
    "        size=alt.Size(\"count:Q\", title=\"Count by state\"),\n",
    "        color=alt.value(color),\n",
    "        tooltip=[\"state:N\", \"count:Q\"],\n",
    "    )\n",
    "    .properties(\n",
    "        title=f\"Number of {place_formal} in US, by average lon/lat of locations\"\n",
    "    )\n",
    ")\n",
    "\n",
    "symbol_map = background + symbols\n",
    "symbol_map.configure_view(stroke=None)"
   ]
  },
  {
   "cell_type": "markdown",
   "id": "15b9c879-2480-49f4-99e7-6adc1a4c10aa",
   "metadata": {},
   "source": [
    "---"
   ]
  },
  {
   "cell_type": "markdown",
   "id": "41af18db-4aeb-4259-a7c1-b52471eb8693",
   "metadata": {},
   "source": [
    "## Exports"
   ]
  },
  {
   "cell_type": "markdown",
   "id": "e3831fb4-1062-4cab-9730-933ff07e01f0",
   "metadata": {},
   "source": [
    "#### JSON"
   ]
  },
  {
   "cell_type": "code",
   "execution_count": 22,
   "id": "e1e78a42-ba8a-49aa-a699-58e33fa204d0",
   "metadata": {},
   "outputs": [],
   "source": [
    "df.to_json(\n",
    "    f\"data/processed/{place.lower().replace(' ', '_')}_locations.json\",\n",
    "    indent=4,\n",
    "    orient=\"records\",\n",
    ")"
   ]
  },
  {
   "cell_type": "markdown",
   "id": "d737f808-9d71-4f25-8cd1-3fcedc45ab63",
   "metadata": {},
   "source": [
    "#### CSV"
   ]
  },
  {
   "cell_type": "code",
   "execution_count": 23,
   "id": "0504831b-4df4-4ff2-bd26-f08ef7ca9198",
   "metadata": {},
   "outputs": [],
   "source": [
    "df.to_csv(\n",
    "    f\"data/processed/{place.lower().replace(' ', '_')}_locations.csv\", index=False\n",
    ")"
   ]
  },
  {
   "cell_type": "markdown",
   "id": "eb8769bc-1de1-40d0-9b7b-4892893606ee",
   "metadata": {},
   "source": [
    "#### GeoJSON"
   ]
  },
  {
   "cell_type": "code",
   "execution_count": 24,
   "id": "3aaff910-d7a8-4b73-acdf-6b49e09bbe2f",
   "metadata": {},
   "outputs": [],
   "source": [
    "gdf.to_file(\n",
    "    f\"data/processed/{place.lower().replace(' ', '_')}_locations.geojson\",\n",
    "    driver=\"GeoJSON\",\n",
    ")"
   ]
  }
 ],
 "metadata": {
  "kernelspec": {
   "display_name": "Python 3 (ipykernel)",
   "language": "python",
   "name": "python3"
  },
  "language_info": {
   "codemirror_mode": {
    "name": "ipython",
    "version": 3
   },
   "file_extension": ".py",
   "mimetype": "text/x-python",
   "name": "python",
   "nbconvert_exporter": "python",
   "pygments_lexer": "ipython3",
   "version": "3.9.15"
  }
 },
 "nbformat": 4,
 "nbformat_minor": 5
}
