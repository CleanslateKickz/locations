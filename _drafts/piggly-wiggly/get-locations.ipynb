{
 "cells": [
  {
   "cell_type": "markdown",
   "id": "0fdd4e16-e062-4146-9c40-05a340ecc972",
   "metadata": {},
   "source": [
    "# Get Piggly Wiggly locations"
   ]
  },
  {
   "cell_type": "markdown",
   "id": "2cd6a4cf-3892-4cc9-97de-84f87dc86d7d",
   "metadata": {},
   "source": [
    "#### Load Python tools and Jupyter config"
   ]
  },
  {
   "cell_type": "code",
   "execution_count": 1,
   "id": "c3b1c77c-b670-495b-aca3-e14b06448d51",
   "metadata": {},
   "outputs": [],
   "source": [
    "import re\n",
    "import us \n",
    "import json\n",
    "import black\n",
    "import requests\n",
    "import pandas as pd\n",
    "import jupyter_black\n",
    "import altair as alt\n",
    "import geopandas as gpd\n",
    "from bs4 import BeautifulSoup\n",
    "from vega_datasets import data\n",
    "from tqdm.notebook import tqdm, trange"
   ]
  },
  {
   "cell_type": "code",
   "execution_count": 2,
   "id": "3ef9eefb-2887-4a07-995d-eb12d1dd251d",
   "metadata": {},
   "outputs": [
    {
     "data": {
      "text/html": [
       "\n",
       "                <script type=\"application/javascript\" id=\"jupyter_black\">\n",
       "                (function() {\n",
       "                    if (window.IPython === undefined) {\n",
       "                        return\n",
       "                    }\n",
       "                    var msg = \"WARNING: it looks like you might have loaded \" +\n",
       "                        \"jupyter_black in a non-lab notebook with \" +\n",
       "                        \"`is_lab=True`. Please double check, and if \" +\n",
       "                        \"loading with `%load_ext` please review the README!\"\n",
       "                    console.log(msg)\n",
       "                    alert(msg)\n",
       "                })()\n",
       "                </script>\n",
       "                "
      ],
      "text/plain": [
       "<IPython.core.display.HTML object>"
      ]
     },
     "metadata": {},
     "output_type": "display_data"
    }
   ],
   "source": [
    "jupyter_black.load()\n",
    "pd.options.display.max_columns = 100\n",
    "pd.options.display.max_rows = 1000\n",
    "pd.options.display.max_colwidth = None"
   ]
  },
  {
   "cell_type": "code",
   "execution_count": 3,
   "id": "8bc0dc74-330c-4b3f-b867-c90bbbfe238b",
   "metadata": {},
   "outputs": [],
   "source": [
    "place = \"piggly-wiggly\"\n",
    "place_formal = \"Piggly Wiggly\"\n",
    "color = \"#d72832\"\n",
    "latitude = \"39.106667\"\n",
    "longitude = \"-94.676392\""
   ]
  },
  {
   "cell_type": "markdown",
   "id": "da83dceb-6307-4df8-ba99-f566d7cfdbf3",
   "metadata": {},
   "source": [
    "---"
   ]
  },
  {
   "cell_type": "markdown",
   "id": "3bbfd20b-7936-4f21-a091-697fca808ab1",
   "metadata": {},
   "source": [
    "## Prepare"
   ]
  },
  {
   "cell_type": "markdown",
   "id": "70c799af-d3be-4577-96fa-ba056f433607",
   "metadata": {},
   "source": [
    "#### Directory pages for states, [like Alabama](https://www.pigglywiggly.com/store-locations/alabama), have inline JSON to feed a map. So, which states have Piggly Wiggly stores?"
   ]
  },
  {
   "cell_type": "code",
   "execution_count": 4,
   "id": "bd4d1c20-0ab5-4456-81b7-661e440e8c20",
   "metadata": {},
   "outputs": [],
   "source": [
    "headers = {\n",
    "    \"user-agent\": \"Mozilla/5.0 (Macintosh; Intel Mac OS X 10_15_7) AppleWebKit/537.36 (KHTML, like Gecko) Chrome/120.0.0.0 Safari/537.36\",\n",
    "}"
   ]
  },
  {
   "cell_type": "code",
   "execution_count": 5,
   "id": "0760de6a-c44b-4730-9990-08a69c85d7d2",
   "metadata": {},
   "outputs": [],
   "source": [
    "response = requests.get(\n",
    "    \"https://www.pigglywiggly.com/store-locations/\", headers=headers\n",
    ")\n",
    "soup = BeautifulSoup(response.text, \"html.parser\")"
   ]
  },
  {
   "cell_type": "markdown",
   "id": "75086c5a-4d4c-47a1-a5c8-16b6e8758f32",
   "metadata": {},
   "source": [
    "#### Find all `a` tags containing the specific string"
   ]
  },
  {
   "cell_type": "code",
   "execution_count": 6,
   "id": "e852b404-9575-4891-8852-39c9ee24f97d",
   "metadata": {},
   "outputs": [],
   "source": [
    "specific_links = soup.find_all(\n",
    "    \"a\",\n",
    "    href=lambda href: href and \"https://www.pigglywiggly.com/store-locations/\" in href,\n",
    ")"
   ]
  },
  {
   "cell_type": "markdown",
   "id": "fc4f2ed6-7ea1-4e76-9799-45ee9f07c6e7",
   "metadata": {},
   "source": [
    "#### Use a set to store unique URLs"
   ]
  },
  {
   "cell_type": "code",
   "execution_count": 7,
   "id": "8da4c40a-242c-4cc6-97e7-092281566123",
   "metadata": {},
   "outputs": [],
   "source": [
    "unique_urls = set()"
   ]
  },
  {
   "cell_type": "markdown",
   "id": "2abcd500-4d0a-47e3-9a6b-32b4eb354fc1",
   "metadata": {},
   "source": [
    "#### Add the unique URLs to the set"
   ]
  },
  {
   "cell_type": "code",
   "execution_count": 8,
   "id": "e4aa6219-7f3d-42f0-9488-f94731dcb448",
   "metadata": {},
   "outputs": [],
   "source": [
    "for link in specific_links:\n",
    "    unique_urls.add(link.get(\"href\"))\n",
    "    # unique_urls.remove(\"https://www.pigglywiggly.com/store-locations/\")"
   ]
  },
  {
   "cell_type": "code",
   "execution_count": 9,
   "id": "886dff14-cf31-461e-8503-95d4a5eb6a96",
   "metadata": {},
   "outputs": [
    {
     "data": {
      "text/plain": [
       "['https://www.pigglywiggly.com/store-locations/illinois/',\n",
       " 'https://www.pigglywiggly.com/store-locations/arkansas/',\n",
       " 'https://www.pigglywiggly.com/store-locations/virginia/',\n",
       " 'https://www.pigglywiggly.com/store-locations/west-virginia/',\n",
       " 'https://www.pigglywiggly.com/store-locations/kentucky/',\n",
       " 'https://www.pigglywiggly.com/store-locations/',\n",
       " 'https://www.pigglywiggly.com/store-locations/louisiana/',\n",
       " 'https://www.pigglywiggly.com/store-locations/south-carolina/',\n",
       " 'https://www.pigglywiggly.com/store-locations/georgia/',\n",
       " 'https://www.pigglywiggly.com/store-locations/ohio/',\n",
       " 'https://www.pigglywiggly.com/store-locations/florida/',\n",
       " 'https://www.pigglywiggly.com/store-locations/texas/',\n",
       " 'https://www.pigglywiggly.com/store-locations/tennessee/',\n",
       " 'https://www.pigglywiggly.com/store-locations/oklahoma/',\n",
       " 'https://www.pigglywiggly.com/store-locations/wisconsin/',\n",
       " 'https://www.pigglywiggly.com/store-locations/new-york/',\n",
       " 'https://www.pigglywiggly.com/store-locations/mississippi/',\n",
       " 'https://www.pigglywiggly.com/store-locations/alabama/']"
      ]
     },
     "execution_count": 9,
     "metadata": {},
     "output_type": "execute_result"
    }
   ],
   "source": [
    "unique_urls = list(unique_urls)[1:]\n",
    "unique_urls"
   ]
  },
  {
   "cell_type": "markdown",
   "id": "8731489e-f311-4868-8573-c5f37275d970",
   "metadata": {},
   "source": [
    "---"
   ]
  },
  {
   "cell_type": "markdown",
   "id": "f7e2fe77-4c7c-482a-9002-230c1540cb6b",
   "metadata": {},
   "source": [
    "## Scrape"
   ]
  },
  {
   "cell_type": "markdown",
   "id": "0c4c823b-a845-46c7-8ee0-ab07ecda9c44",
   "metadata": {},
   "source": [
    "#### Loop through state URLs and extract inline script"
   ]
  },
  {
   "cell_type": "code",
   "execution_count": 10,
   "id": "76c33532-f490-45cc-8e29-c8b7cf078be9",
   "metadata": {},
   "outputs": [],
   "source": [
    "for url in unique_urls:\n",
    "    state_response = requests.get(url)\n",
    "    state_soup = BeautifulSoup(state_response.text, \"html.parser\")\n",
    "    inline_script = state_soup.find(\"script\")\n",
    "    script_tags = soup.find_all(\"script\")"
   ]
  },
  {
   "cell_type": "code",
   "execution_count": 11,
   "id": "83c51d20-b606-47f0-bb9a-4c3821ccc3fc",
   "metadata": {},
   "outputs": [
    {
     "data": {
      "text/plain": [
       "['https://www.pigglywiggly.com/store-locations/illinois/',\n",
       " 'https://www.pigglywiggly.com/store-locations/arkansas/',\n",
       " 'https://www.pigglywiggly.com/store-locations/virginia/',\n",
       " 'https://www.pigglywiggly.com/store-locations/west-virginia/',\n",
       " 'https://www.pigglywiggly.com/store-locations/kentucky/',\n",
       " 'https://www.pigglywiggly.com/store-locations/',\n",
       " 'https://www.pigglywiggly.com/store-locations/louisiana/',\n",
       " 'https://www.pigglywiggly.com/store-locations/south-carolina/',\n",
       " 'https://www.pigglywiggly.com/store-locations/georgia/',\n",
       " 'https://www.pigglywiggly.com/store-locations/ohio/',\n",
       " 'https://www.pigglywiggly.com/store-locations/florida/',\n",
       " 'https://www.pigglywiggly.com/store-locations/texas/',\n",
       " 'https://www.pigglywiggly.com/store-locations/tennessee/',\n",
       " 'https://www.pigglywiggly.com/store-locations/oklahoma/',\n",
       " 'https://www.pigglywiggly.com/store-locations/wisconsin/',\n",
       " 'https://www.pigglywiggly.com/store-locations/new-york/',\n",
       " 'https://www.pigglywiggly.com/store-locations/mississippi/',\n",
       " 'https://www.pigglywiggly.com/store-locations/alabama/']"
      ]
     },
     "execution_count": 11,
     "metadata": {},
     "output_type": "execute_result"
    }
   ],
   "source": [
    "unique_urls"
   ]
  },
  {
   "cell_type": "code",
   "execution_count": 12,
   "id": "22717e64-b76b-44d0-8a4d-818367b8c7e9",
   "metadata": {},
   "outputs": [],
   "source": [
    "# Iterate through each <script> tag to find the one containing specific content"
   ]
  },
  {
   "cell_type": "code",
   "execution_count": 13,
   "id": "a3a851b4-f0d8-4bb2-b9de-a68769997024",
   "metadata": {},
   "outputs": [],
   "source": [
    "# Iterate through each <script> tag to find the one containing specific content\n",
    "for script_tag in script_tags:\n",
    "    if script_tag.string:  # Check if string attribute exists\n",
    "        if \"var locations\" in script_tag.string:\n",
    "            # Extract the content of the script tag\n",
    "            script_content = script_tag.string\n",
    "\n",
    "            # Here you can further process or extract the desired data from the script_content\n",
    "            # For example, you can parse the JSON data contained within the script\n",
    "\n",
    "            # Print or do something with the script content\n",
    "            print(script_content)"
   ]
  },
  {
   "cell_type": "code",
   "execution_count": 14,
   "id": "a38d3ca5-198e-447f-83ec-e1983ce02aec",
   "metadata": {},
   "outputs": [
    {
     "ename": "AttributeError",
     "evalue": "'NoneType' object has no attribute 'group'",
     "output_type": "error",
     "traceback": [
      "\u001b[0;31m---------------------------------------------------------------------------\u001b[0m",
      "\u001b[0;31mAttributeError\u001b[0m                            Traceback (most recent call last)",
      "Cell \u001b[0;32mIn[14], line 13\u001b[0m\n\u001b[1;32m      2\u001b[0m inline_script \u001b[38;5;241m=\u001b[39m \u001b[38;5;124m\"\"\"\u001b[39m\n\u001b[1;32m      3\u001b[0m \u001b[38;5;124m<script>\u001b[39m\n\u001b[1;32m      4\u001b[0m \u001b[38;5;124m    jQuery(document).ready(function () \u001b[39m\u001b[38;5;124m{\u001b[39m\n\u001b[0;32m   (...)\u001b[0m\n\u001b[1;32m      9\u001b[0m \u001b[38;5;124m</script>\u001b[39m\n\u001b[1;32m     10\u001b[0m \u001b[38;5;124m\"\"\"\u001b[39m\n\u001b[1;32m     12\u001b[0m \u001b[38;5;66;03m# Extracting JSON data from inline script\u001b[39;00m\n\u001b[0;32m---> 13\u001b[0m json_str \u001b[38;5;241m=\u001b[39m \u001b[43mre\u001b[49m\u001b[38;5;241;43m.\u001b[39;49m\u001b[43msearch\u001b[49m\u001b[43m(\u001b[49m\u001b[38;5;124;43mr\u001b[39;49m\u001b[38;5;124;43m'\u001b[39;49m\u001b[38;5;124;43mvar locations = (\u001b[39;49m\u001b[38;5;124;43m\\\u001b[39;49m\u001b[38;5;124;43m[.*?\u001b[39;49m\u001b[38;5;124;43m\\\u001b[39;49m\u001b[38;5;124;43m]);\u001b[39;49m\u001b[38;5;124;43m'\u001b[39;49m\u001b[43m,\u001b[49m\u001b[43m \u001b[49m\u001b[43minline_script\u001b[49m\u001b[43m,\u001b[49m\u001b[43m \u001b[49m\u001b[43mre\u001b[49m\u001b[38;5;241;43m.\u001b[39;49m\u001b[43mDOTALL\u001b[49m\u001b[43m)\u001b[49m\u001b[38;5;241;43m.\u001b[39;49m\u001b[43mgroup\u001b[49m(\u001b[38;5;241m1\u001b[39m)\n\u001b[1;32m     15\u001b[0m \u001b[38;5;66;03m# Loading JSON data into a Python dictionary\u001b[39;00m\n\u001b[1;32m     16\u001b[0m locations_data \u001b[38;5;241m=\u001b[39m json\u001b[38;5;241m.\u001b[39mloads(json_str)\n",
      "\u001b[0;31mAttributeError\u001b[0m: 'NoneType' object has no attribute 'group'"
     ]
    }
   ],
   "source": [
    "# Extracting JSON data from inline script\n",
    "json_str = re.search(r'var locations = (\\[.*?\\]);', inline_script, re.DOTALL).group(1)\n",
    "\n",
    "# Loading JSON data into a Python dictionary\n",
    "locations_data = json.loads(json_str)\n",
    "\n",
    "# Converting dictionary to DataFrame\n",
    "df = pd.DataFrame(locations_data)\n",
    "\n",
    "# Displaying the DataFrame\n",
    "print(df)"
   ]
  },
  {
   "cell_type": "code",
   "execution_count": null,
   "id": "4bf72698-2880-4100-98f2-4d46ca317e1b",
   "metadata": {},
   "outputs": [],
   "source": []
  },
  {
   "cell_type": "code",
   "execution_count": null,
   "id": "97018fcb-2b94-4b02-8949-3f39963464af",
   "metadata": {},
   "outputs": [],
   "source": []
  },
  {
   "cell_type": "code",
   "execution_count": null,
   "id": "b2912468-da03-4df9-b0c0-98ef5e0b8e01",
   "metadata": {},
   "outputs": [],
   "source": []
  },
  {
   "cell_type": "code",
   "execution_count": null,
   "id": "e3020b94-9034-46ea-90a9-5fed9c35f845",
   "metadata": {},
   "outputs": [],
   "source": []
  },
  {
   "cell_type": "code",
   "execution_count": null,
   "id": "a0ad1a8b-47c2-4cbd-b096-3dbc207c6035",
   "metadata": {},
   "outputs": [],
   "source": []
  },
  {
   "cell_type": "markdown",
   "id": "1b0134b9-0b53-41ae-a498-891b729ac265",
   "metadata": {},
   "source": [
    "#### Create a mapping of state abbreviations to full state names using the us library"
   ]
  },
  {
   "cell_type": "code",
   "execution_count": null,
   "id": "18485bc1-ac20-4715-b117-2ffc36a4de10",
   "metadata": {},
   "outputs": [],
   "source": [
    "state_mapping = {state.abbr: state.name for state in us.states.STATES}"
   ]
  },
  {
   "cell_type": "markdown",
   "id": "02a07567-2cda-40d0-a1db-9f51fdb03a67",
   "metadata": {},
   "source": [
    "#### New column of full state names based on abbreviations"
   ]
  },
  {
   "cell_type": "code",
   "execution_count": null,
   "id": "9441686d-45ba-42cf-bf3e-10116ccb8bef",
   "metadata": {},
   "outputs": [],
   "source": [
    "df[\"state_name\"] = df[\"state\"].map(state_mapping)"
   ]
  },
  {
   "cell_type": "markdown",
   "id": "e836582d-ef21-4876-bfc3-f8298a077b3c",
   "metadata": {},
   "source": [
    "---"
   ]
  },
  {
   "cell_type": "markdown",
   "id": "e9398ab6-73bc-421d-ab31-2e0b625fe541",
   "metadata": {},
   "source": [
    "## Geography"
   ]
  },
  {
   "cell_type": "markdown",
   "id": "2aa8f487-ab80-4d32-84df-651304cd9523",
   "metadata": {},
   "source": [
    "#### Make it a geodataframe"
   ]
  },
  {
   "cell_type": "code",
   "execution_count": null,
   "id": "920e5fe7-a6fd-4a10-97f0-c1dd0b7bef72",
   "metadata": {},
   "outputs": [],
   "source": [
    "df_geo = df.copy()"
   ]
  },
  {
   "cell_type": "code",
   "execution_count": null,
   "id": "4072e19f-2567-427d-82d5-2c8a925278da",
   "metadata": {},
   "outputs": [],
   "source": [
    "gdf = gpd.GeoDataFrame(\n",
    "    df_geo, geometry=gpd.points_from_xy(df_geo.longitude, df_geo.latitude)\n",
    ")"
   ]
  },
  {
   "cell_type": "markdown",
   "id": "67db45d5-afdf-4347-a2a0-da8aa3728779",
   "metadata": {},
   "source": [
    "---"
   ]
  },
  {
   "cell_type": "markdown",
   "id": "b3c311f9-dd29-4524-8932-67858cd3cec0",
   "metadata": {},
   "source": [
    "## Maps"
   ]
  },
  {
   "cell_type": "markdown",
   "id": "93b0579e-620d-4a08-afd8-ad489be0557e",
   "metadata": {},
   "source": [
    "#### US states background"
   ]
  },
  {
   "cell_type": "code",
   "execution_count": null,
   "id": "95c369d7-8a64-4f49-a05f-79c444cf4e28",
   "metadata": {},
   "outputs": [],
   "source": [
    "background = (\n",
    "    alt.Chart(alt.topo_feature(data.us_10m.url, feature=\"states\"))\n",
    "    .mark_geoshape(fill=\"#e9e9e9\", stroke=\"white\")\n",
    "    .properties(width=800, height=500, title=f\"{place_formal} locations\")\n",
    "    .project(\"albersUsa\")\n",
    ")"
   ]
  },
  {
   "cell_type": "markdown",
   "id": "a914fc11-a8c6-49d1-96d2-8b5f83b01cc7",
   "metadata": {},
   "source": [
    "#### Location points map"
   ]
  },
  {
   "cell_type": "code",
   "execution_count": null,
   "id": "b624cc2f-c724-4849-9a4b-761258a3f8ad",
   "metadata": {},
   "outputs": [],
   "source": [
    "points = (\n",
    "    alt.Chart(gdf)\n",
    "    .mark_circle(size=5, color=color)\n",
    "    .encode(\n",
    "        longitude=\"longitude:Q\",\n",
    "        latitude=\"latitude:Q\",\n",
    "    )\n",
    ")\n",
    "\n",
    "point_map = background + points\n",
    "point_map.configure_view(stroke=None)"
   ]
  },
  {
   "cell_type": "markdown",
   "id": "0a1fbe27-c0ed-4536-822f-ff6d64d9a78a",
   "metadata": {},
   "source": [
    "#### Location proportional symbols map"
   ]
  },
  {
   "cell_type": "code",
   "execution_count": null,
   "id": "6cdad978-98db-4088-9286-662c92824fd5",
   "metadata": {},
   "outputs": [],
   "source": [
    "symbols = (\n",
    "    alt.Chart(gdf)\n",
    "    .transform_aggregate(\n",
    "        latitude=\"mean(latitude)\",\n",
    "        longitude=\"mean(longitude)\",\n",
    "        count=\"count()\",\n",
    "        groupby=[\"state\"],\n",
    "    )\n",
    "    .mark_circle()\n",
    "    .encode(\n",
    "        longitude=\"longitude:Q\",\n",
    "        latitude=\"latitude:Q\",\n",
    "        size=alt.Size(\"count:Q\", title=\"Count by state\"),\n",
    "        color=alt.value(color),\n",
    "        tooltip=[\"state:N\", \"count:Q\"],\n",
    "    )\n",
    "    .properties(\n",
    "        title=f\"Number of {place_formal} in US, by average lon/lat of locations\"\n",
    "    )\n",
    ")\n",
    "\n",
    "symbol_map = background + symbols\n",
    "symbol_map.configure_view(stroke=None)"
   ]
  },
  {
   "cell_type": "markdown",
   "id": "15b9c879-2480-49f4-99e7-6adc1a4c10aa",
   "metadata": {},
   "source": [
    "---"
   ]
  },
  {
   "cell_type": "markdown",
   "id": "41af18db-4aeb-4259-a7c1-b52471eb8693",
   "metadata": {},
   "source": [
    "## Exports"
   ]
  },
  {
   "cell_type": "markdown",
   "id": "e3831fb4-1062-4cab-9730-933ff07e01f0",
   "metadata": {},
   "source": [
    "#### JSON"
   ]
  },
  {
   "cell_type": "code",
   "execution_count": null,
   "id": "e1e78a42-ba8a-49aa-a699-58e33fa204d0",
   "metadata": {},
   "outputs": [],
   "source": [
    "df.to_json(\n",
    "    f\"data/processed/{place.lower().replace(' ', '_')}_locations.json\",\n",
    "    indent=4,\n",
    "    orient=\"records\",\n",
    ")"
   ]
  },
  {
   "cell_type": "markdown",
   "id": "d737f808-9d71-4f25-8cd1-3fcedc45ab63",
   "metadata": {},
   "source": [
    "#### CSV"
   ]
  },
  {
   "cell_type": "code",
   "execution_count": null,
   "id": "0504831b-4df4-4ff2-bd26-f08ef7ca9198",
   "metadata": {},
   "outputs": [],
   "source": [
    "df.to_csv(\n",
    "    f\"data/processed/{place.lower().replace(' ', '_')}_locations.csv\", index=False\n",
    ")"
   ]
  },
  {
   "cell_type": "markdown",
   "id": "eb8769bc-1de1-40d0-9b7b-4892893606ee",
   "metadata": {},
   "source": [
    "#### GeoJSON"
   ]
  },
  {
   "cell_type": "code",
   "execution_count": null,
   "id": "3aaff910-d7a8-4b73-acdf-6b49e09bbe2f",
   "metadata": {},
   "outputs": [],
   "source": [
    "gdf.to_file(\n",
    "    f\"data/processed/{place.lower().replace(' ', '_')}_locations.geojson\",\n",
    "    driver=\"GeoJSON\",\n",
    ")"
   ]
  }
 ],
 "metadata": {
  "kernelspec": {
   "display_name": "Python 3 (ipykernel)",
   "language": "python",
   "name": "python3"
  },
  "language_info": {
   "codemirror_mode": {
    "name": "ipython",
    "version": 3
   },
   "file_extension": ".py",
   "mimetype": "text/x-python",
   "name": "python",
   "nbconvert_exporter": "python",
   "pygments_lexer": "ipython3",
   "version": "3.9.15"
  }
 },
 "nbformat": 4,
 "nbformat_minor": 5
}
