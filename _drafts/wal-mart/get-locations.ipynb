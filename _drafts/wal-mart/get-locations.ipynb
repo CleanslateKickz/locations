{
 "cells": [
  {
   "cell_type": "markdown",
   "id": "0fdd4e16-e062-4146-9c40-05a340ecc972",
   "metadata": {},
   "source": [
    "# Get Walmart locations"
   ]
  },
  {
   "cell_type": "markdown",
   "id": "2cd6a4cf-3892-4cc9-97de-84f87dc86d7d",
   "metadata": {},
   "source": [
    "#### Load Python tools and Jupyter config"
   ]
  },
  {
   "cell_type": "code",
   "execution_count": 1,
   "id": "c3b1c77c-b670-495b-aca3-e14b06448d51",
   "metadata": {},
   "outputs": [],
   "source": [
    "import us\n",
    "import json\n",
    "import requests\n",
    "import logging\n",
    "import pandas as pd\n",
    "import jupyter_black\n",
    "import altair as alt\n",
    "from time import sleep\n",
    "import geopandas as gpd\n",
    "from random import randint\n",
    "from bs4 import BeautifulSoup\n",
    "from vega_datasets import data\n",
    "from tqdm.notebook import tqdm, trange"
   ]
  },
  {
   "cell_type": "code",
   "execution_count": 2,
   "id": "3ef9eefb-2887-4a07-995d-eb12d1dd251d",
   "metadata": {},
   "outputs": [
    {
     "data": {
      "text/html": [
       "\n",
       "                <script type=\"application/javascript\" id=\"jupyter_black\">\n",
       "                (function() {\n",
       "                    if (window.IPython === undefined) {\n",
       "                        return\n",
       "                    }\n",
       "                    var msg = \"WARNING: it looks like you might have loaded \" +\n",
       "                        \"jupyter_black in a non-lab notebook with \" +\n",
       "                        \"`is_lab=True`. Please double check, and if \" +\n",
       "                        \"loading with `%load_ext` please review the README!\"\n",
       "                    console.log(msg)\n",
       "                    alert(msg)\n",
       "                })()\n",
       "                </script>\n",
       "                "
      ],
      "text/plain": [
       "<IPython.core.display.HTML object>"
      ]
     },
     "metadata": {},
     "output_type": "display_data"
    }
   ],
   "source": [
    "jupyter_black.load()\n",
    "pd.options.display.max_columns = 100\n",
    "pd.options.display.max_rows = 10000\n",
    "pd.options.display.max_colwidth = None"
   ]
  },
  {
   "cell_type": "code",
   "execution_count": 3,
   "id": "ac5ec9e2-d2b4-48ea-ad76-2d0b3049c7a0",
   "metadata": {},
   "outputs": [],
   "source": [
    "place = \"walmart\"\n",
    "place_formal = \"Walmart\"\n",
    "color = \"#004f9a\"\n",
    "latitude = \"39.106667\"\n",
    "longitude = \"-94.676392\""
   ]
  },
  {
   "cell_type": "markdown",
   "id": "3bbfd20b-7936-4f21-a091-697fca808ab1",
   "metadata": {},
   "source": [
    "## Scrape"
   ]
  },
  {
   "cell_type": "markdown",
   "id": "70c799af-d3be-4577-96fa-ba056f433607",
   "metadata": {},
   "source": [
    "#### Headers for subsequent requests"
   ]
  },
  {
   "cell_type": "code",
   "execution_count": 22,
   "id": "3eff8e13-f18e-44b7-8e8d-72b86ed09a16",
   "metadata": {},
   "outputs": [],
   "source": [
    "import requests\n",
    "\n",
    "cookies = {\n",
    "    \"vtc\": \"dsf-feqNjK3e99eds_itoc\",\n",
    "    \"pxcts\": \"4703c602-d356-11ee-9f4d-a0714ce64e69\",\n",
    "    \"_pxvid\": \"4703b8e7-d356-11ee-9f4d-0f7c20d54edc\",\n",
    "    \"TBV\": \"7\",\n",
    "    \"ACID\": \"bf61a010-a7bd-48c3-ba44-57d414d376a1\",\n",
    "    \"hasACID\": \"true\",\n",
    "    \"_m\": \"9\",\n",
    "    \"locGuestData\": \"eyJpbnRlbnQiOiJTSElQUElORyIsImlzRXhwbGljaXQiOmZhbHNlLCJzdG9yZUludGVudCI6IlBJQ0tVUCIsIm1lcmdlRmxhZyI6ZmFsc2UsImlzRGVmYXVsdGVkIjpmYWxzZSwicGlja3VwIjp7Im5vZGVJZCI6IjU2MDQiLCJ0aW1lc3RhbXAiOjE3MDg4MDc4MDE1NjcsInNlbGVjdGlvblR5cGUiOiJMU19TRUxFQ1RFRCIsInNlbGVjdGlvblNvdXJjZSI6IklQX1NOSUZGRURfQllfTFMifSwicG9zdGFsQ29kZSI6eyJ0aW1lc3RhbXAiOjE3MDg4MDc4MDE1NjcsImJhc2UiOiI5MDA2NiJ9LCJtcCI6W10sInZhbGlkYXRlS2V5IjoicHJvZDp2MjpiZjYxYTAxMC1hN2JkLTQ4YzMtYmE0NC01N2Q0MTRkMzc2YTEifQ%3D%3D\",\n",
    "    \"abqme\": \"false\",\n",
    "    \"_pxhd\": \"fd815f95f080e7d386372fdcf2159aa5410ee682ef944df6a31b087241f16bc3:4703b8e7-d356-11ee-9f4d-0f7c20d54edc\",\n",
    "    \"AID\": \"wmlspartner%3D0%3Areflectorid%3D0000000000000000000000%3Alastupd%3D1708824467031\",\n",
    "    \"_astc\": \"7499aa0c7866e9220858d7da3273c971\",\n",
    "    \"auth\": \"MTAyOTYyMDE44bSOOTMNtTO0NdzoBcpEiz71L45BainhBvo3xdCjlUZ8gp66XNXxj1D0rBQjPnYhaQ2sx9WZJPSHyV%2Fvs0o343HxyURrpjJp%2BqLaLSE9%2BxWQCjJynR6puDQrOE%2Fu9%2FnZ767wuZloTfhm7Wk2KcjygjFwIZIekXC4wlSRgDWHtly3RD4tMMaLR6dneb45Zfr9fJxtKJ8cEG0q6gXZ0%2FkIngpIbvLLzf%2Fu%2BqjCpU4aavMUMk70P8glgOEpLOprhDfMJ0tmvH1FCaN9tZDh4SCrHa7G7xrQQyHZn%2BeeTotcM0yqCkaFAyxvCSy8VuhYNnogSakep0QzYEXi%2FF%2BHtMeNBGECdoDPhWRVD4D9oyw7Dt5OKFi3swiMmlsNxpQUUQ9ZrHhGHap%2B3Azx2tCZG8UHHUjyrOXbKKhH072NS%2FW0j%2FU%3D\",\n",
    "    \"locDataV3\": \"eyJpc0RlZmF1bHRlZCI6ZmFsc2UsImlzRXhwbGljaXQiOmZhbHNlLCJpbnRlbnQiOiJTSElQUElORyIsInBpY2t1cCI6W3siYnVJZCI6IjAiLCJub2RlSWQiOiI1NjA0IiwiZGlzcGxheU5hbWUiOiJIYXd0aG9ybmUgTmVpZ2hib3Job29kIE1hcmtldCIsIm5vZGVUeXBlIjoiU1RPUkUiLCJhZGRyZXNzIjp7InBvc3RhbENvZGUiOiI5MDI1MCIsImFkZHJlc3NMaW5lMSI6IjE0NDQxIEluZ2xld29vZCBBdmUiLCJjaXR5IjoiSGF3dGhvcm5lIiwic3RhdGUiOiJDQSIsImNvdW50cnkiOiJVUyIsInBvc3RhbENvZGU5IjoiOTAyNTAtNjcxNSJ9LCJnZW9Qb2ludCI6eyJsYXRpdHVkZSI6MzMuOTAwMjA3LCJsb25naXR1ZGUiOi0xMTguMzYyNDM0fSwiaXNHbGFzc0VuYWJsZWQiOnRydWUsInNjaGVkdWxlZEVuYWJsZWQiOnRydWUsInVuU2NoZWR1bGVkRW5hYmxlZCI6ZmFsc2UsImh1Yk5vZGVJZCI6IjU2MDQiLCJzdG9yZUhycyI6IjA2OjAwLTIzOjAwIiwic3VwcG9ydGVkQWNjZXNzVHlwZXMiOlsiUElDS1VQX0NVUkJTSURFIiwiUElDS1VQX0lOU1RPUkUiXSwic2VsZWN0aW9uVHlwZSI6IkxTX1NFTEVDVEVEIn1dLCJzaGlwcGluZ0FkZHJlc3MiOnsibGF0aXR1ZGUiOjM0LjAwMSwibG9uZ2l0dWRlIjotMTE4LjQzMDMsInBvc3RhbENvZGUiOiI5MDA2NiIsImNpdHkiOiJMb3MgQW5nZWxlcyIsInN0YXRlIjoiQ0EiLCJjb3VudHJ5Q29kZSI6IlVTQSIsImdpZnRBZGRyZXNzIjpmYWxzZSwidGltZVpvbmUiOiJBbWVyaWNhL0xvc19BbmdlbGVzIn0sImFzc29ydG1lbnQiOnsibm9kZUlkIjoiNTYwNCIsImRpc3BsYXlOYW1lIjoiSGF3dGhvcm5lIE5laWdoYm9yaG9vZCBNYXJrZXQiLCJpbnRlbnQiOiJQSUNLVVAifSwiaW5zdG9yZSI6ZmFsc2UsInJlZnJlc2hBdCI6MTcwOTU2NjU4OTE1MiwidmFsaWRhdGVLZXkiOiJwcm9kOnYyOmJmNjFhMDEwLWE3YmQtNDhjMy1iYTQ0LTU3ZDQxNGQzNzZhMSJ9\",\n",
    "    \"assortmentStoreId\": \"5604\",\n",
    "    \"hasLocData\": \"1\",\n",
    "    \"userAppVersion\": \"us-web-1.121.0-bacc43dc6e33f9a3d16d10d1c017ecb2728c6565-0301\",\n",
    "    \"bstc\": \"dXFZEevgJ8Go8JI9pw0IQM\",\n",
    "    \"mobileweb\": \"0\",\n",
    "    \"xpth\": \"x-o-mart%2BB2C~x-o-mverified%2Bfalse\",\n",
    "    \"xpa\": \"5bkff|7ieYb|BENcO|EecJe|JhmI0|KfNzJ|LYm-g|RX-Ie|S2Tuw|TpjqX|Y-4cz|YI6Fz|cZcLX|cf8cl|eZVOZ|f1Vss|fdm-7|lGW14|oAvw4|xL5Od\",\n",
    "    \"exp-ck\": \"5bkff2BENcO1EecJe2S2Tuw1cZcLX1f1Vsscfdm-71oAvw41xL5Od1\",\n",
    "    \"akavpau_p2\": \"1709563589~id=432bd1e1352892f65bab4b0f1d35e7ac\",\n",
    "    \"ak_bmsc\": \"592088B926BB7516DF48EA1D8090C02D~000000000000000000000000000000~YAAQ79fOF8I7TQWOAQAApw3lCReuPa7HLO2Lg2ByVyFK0e2d5aQOKbbEq1w6sE9BYdHtJdXjvGqnwTCC3wWOWZ4G82Hlss1qIgqJ6SkAmz16WBtV7GF02ZdhTzAQ3g/yDTHnHMWgRJCyGTFxR3c/7lBBZahgFnSUhXHPlG/+9nXlyPUXmS0SENMzwh0kZ3tN804gWXRLAShAAs/HnHHHHl6P0fJXnaW9b4YkRosR452Bd6ChlwEQrrfffgEXxCGbSduMQ14jwsGXOKqSYDxGFE8ROOzGEWtbaPhO5lqrpyraWJIITBIWi09u/9he1taaGzzH01hr3UiaKtY55lk80PuAyEKf2BHKP1Q5ox293h0VDlERuX7VUWXG0Nnf05A2adJsSIwBpP+K2fQ=\",\n",
    "    \"adblocked\": \"true\",\n",
    "    \"xptc\": \"assortmentStoreId%2B5604\",\n",
    "    \"xpm\": \"1%2B1709562990%2Bdsf-feqNjK3e99eds_itoc~%2B0\",\n",
    "    \"akavpau_p1\": \"1709563644~id=70b22eff83f9698d237f9d65d9ee3b28\",\n",
    "    \"xptwg\": \"4153479651:1191438151E2EB0:2C228F5:7A62626E:AF3222DD:6C4B450A:\",\n",
    "    \"xptwj\": \"qq:d2d9eeb9d4d3701b96f4:rfJGbUQvrOee7sCNb5xENVHT44mYzJHBtvnCS3HnWItOl4DVCUYQZGcmxz+6v57+b5az4VabIoFz6vOqe+V2XGGT4YiKWVxQerZJ7b0Aa/fWwwNo470BE0K4iG46Ib4EL+7Ykza861OTWVhDNQP3HoRrpgt4VgE5\",\n",
    "    \"com.wm.reflector\": '\"reflectorid:0000000000000000000000@lastupd:1709563291000@firstcreate:1708824462448\"',\n",
    "    \"TS01a90220\": \"010a503cbd5bd734cb6d0ebd356ad10ea5d1dfbe6261f1f7837e88ede5a07f0e57836a1f4205b84c702d91a660491ea2ead54095f6\",\n",
    "    \"bm_mi\": \"D3FA32D0ADEDCAC644E740D302650395~YAAQ3dfOF88SZQCOAQAA0wvsCRfAb/jqhsAaecw5f659xPwE+s7Vlo9hJPjzhLPpz3JjqNbXGvX+b0C+23J/MOalrBqPERVl9nGVo6SrMEizRPKavubM71mvbOL7wd7doztrVhJrCTWhEmjWXFa7QeGHF6v7oNKUuJsyOyby2voHCrP+s2oKOfYwjYg/Ma0vAOmSt479+sW2RjbEhYZDohZ/fQLlyi8PDEsl169CSbuMggQsn1RNI5b995pBR4EzAcjhpP6X4gQICwyBs5wpqy2MJj40Pssq0O6Zng9N+QghDsviWWiqfFQrUjH48Biegwtg0BBpQA6y0bYO9+DSflCzdi3j07TJUrA=~1\",\n",
    "    \"TS012768cf\": \"01f7d437ca15b341b722fbd3c220957c381287fd47ebe52219b18beff1b3de6a890ceb41da2fd7e8f33e83aa3fa1c657688e561932\",\n",
    "    \"TS2a5e0c5c027\": \"08c62f723dab20006967d1a561772b1e3bca2ee5bfe72daeae38ec1ffb3dfec92c0f1fb0450cc70b08dd4762b41130003b63f0bf5117801827520c80867a572c4d4ec1b2e323e00ca2631f74ceb76406c347b35cef5fab5f93e38eaeb242000a\",\n",
    "    \"bm_sv\": \"656B4A95451CB122CD32C2B9BC8426C9~YAAQ3dfOF1sYZQCOAQAA4hTsCRfIyL0EyFZ5+3gzJc39GqEey2rlFTeEx6BE1hHMU7dZ7AaGBwVI1RGDkC/3ZlSZBYP29+HHUU9Y9KMnGzK0svQRh6CzIpz/GyKppj1Khyo002hmyqFQtEOpndLUF1JHqyQuLjrGPoHJTzuhQGlKgSokFZbVdKJ7iodYPgrWo3T2ieKRLy8duk6lV0+EqJYYZwf7he54OYbj7NjyAtastTmJeUOEXTKZcA6y3m2+Zl0=~1\",\n",
    "    \"_pxde\": \"c128d2ff1d389b1896276459e3dbff18e2f3120fc2c5f817cc337a3725895f86:eyJ0aW1lc3RhbXAiOjE3MDk1NjM0NTE2MDJ9\",\n",
    "}\n",
    "\n",
    "headers = {\n",
    "    \"authority\": \"www.walmart.com\",\n",
    "    \"accept\": \"*/*\",\n",
    "    \"accept-language\": \"en-US,en;q=0.9,es;q=0.8\",\n",
    "    \"downlink\": \"10\",\n",
    "    \"dpr\": \"2\",\n",
    "    \"referer\": \"https://www.walmart.com/store-directory/ak\",\n",
    "    \"sec-ch-ua\": '\"Chromium\";v=\"122\", \"Not(A:Brand\";v=\"24\", \"Google Chrome\";v=\"122\"',\n",
    "    \"sec-ch-ua-mobile\": \"?0\",\n",
    "    \"sec-ch-ua-platform\": '\"macOS\"',\n",
    "    \"sec-fetch-dest\": \"empty\",\n",
    "    \"sec-fetch-mode\": \"cors\",\n",
    "    \"sec-fetch-site\": \"same-origin\",\n",
    "    \"synthetic-request-for-logging\": \"1\",\n",
    "    \"user-agent\": \"Mozilla/5.0 (Macintosh; Intel Mac OS X 10_15_7) AppleWebKit/537.36 (KHTML, like Gecko) Chrome/122.0.0.0 Safari/537.36\",\n",
    "}"
   ]
  },
  {
   "cell_type": "markdown",
   "id": "2668575f-b17a-4113-a29a-33be0e3abf3a",
   "metadata": {},
   "source": [
    "#### Start by getting inline json from the [store directory](https://www.walmart.com/store-directory)"
   ]
  },
  {
   "cell_type": "code",
   "execution_count": 28,
   "id": "da01d6a8-feaa-4f13-8e55-aa6571290498",
   "metadata": {},
   "outputs": [],
   "source": [
    "response = requests.get(\n",
    "    \"https://www.walmart.com/store-directory\", cookies=cookies, headers=headers\n",
    ")\n",
    "soup = BeautifulSoup(response.text, \"html.parser\")"
   ]
  },
  {
   "cell_type": "code",
   "execution_count": null,
   "id": "6cb97250-4830-4db2-85aa-acd7eb6fca8a",
   "metadata": {},
   "outputs": [],
   "source": [
    "\n",
    "stores = json.loads(soup.find_all(\"script\", type=\"application/json\")[0].string)"
   ]
  },
  {
   "cell_type": "code",
   "execution_count": 29,
   "id": "905dac9c-9747-430f-8278-e6b794a22555",
   "metadata": {},
   "outputs": [
    {
     "data": {
      "text/plain": []
     },
     "execution_count": 29,
     "metadata": {},
     "output_type": "execute_result"
    }
   ],
   "source": [
    "soup"
   ]
  },
  {
   "cell_type": "markdown",
   "id": "cc4a60d7-161f-4d5e-929a-b8463a8bf933",
   "metadata": {},
   "source": [
    "#### Navigate to the object containing a rough directory of each store"
   ]
  },
  {
   "cell_type": "code",
   "execution_count": 6,
   "id": "eaacef2a-8d69-4223-be7a-9296411c0068",
   "metadata": {},
   "outputs": [],
   "source": [
    "stores = json.loads(soup.find_all(\"script\", type=\"application/json\")[0].string)[\n",
    "    \"props\"\n",
    "][\"pageProps\"][\"bootstrapData\"][\"cv\"][\"storepages\"][\"_all_\"][\"sdStoresPerCityPerState\"]"
   ]
  },
  {
   "cell_type": "markdown",
   "id": "2fed0dd6-6dd6-4173-b1e7-31704bab9993",
   "metadata": {},
   "source": [
    "#### Remove the string representation around the JSON"
   ]
  },
  {
   "cell_type": "code",
   "execution_count": 7,
   "id": "23a85804-0572-463d-be41-8fd424b0818a",
   "metadata": {},
   "outputs": [],
   "source": [
    "stores = stores.strip('\"')"
   ]
  },
  {
   "cell_type": "markdown",
   "id": "657e84de-7bf2-4845-a6a5-4103d92d9c50",
   "metadata": {},
   "source": [
    "#### Parse the JSON string into a Python dictionary"
   ]
  },
  {
   "cell_type": "code",
   "execution_count": 8,
   "id": "b4cd27be-3c15-4799-9afe-3db61143771e",
   "metadata": {},
   "outputs": [],
   "source": [
    "stores_dict = json.loads(stores)"
   ]
  },
  {
   "cell_type": "markdown",
   "id": "fbb399a5-142f-4034-a17f-30b02845b189",
   "metadata": {},
   "source": [
    "#### Parse details about each store, with error handling because some rows will be incomplete"
   ]
  },
  {
   "cell_type": "code",
   "execution_count": 9,
   "id": "5159ab51-ad61-4bd2-9296-5b3b435c9d53",
   "metadata": {},
   "outputs": [],
   "source": [
    "# Initialize an empty list to store the data\n",
    "all_data = []\n",
    "\n",
    "# Iterate over each state's data\n",
    "for state, cities in stores_dict.items():\n",
    "    for city_data in cities:\n",
    "        city_name = city_data[\"city\"]\n",
    "\n",
    "        # Check if 'stores' key exists in city_data and if it's iterable\n",
    "        if \"stores\" in city_data and isinstance(city_data[\"stores\"], list):\n",
    "            for store in city_data[\"stores\"]:\n",
    "                store_info = {\n",
    "                    \"state\": state.upper(),\n",
    "                    \"city\": city_name,\n",
    "                    \"store_type\": store.get(\"displayName\", \"N/A\"),\n",
    "                    \"store_name\": store.get(\"storeName\", \"N/A\"),\n",
    "                    \"address\": store.get(\"address\", \"N/A\"),\n",
    "                    \"phone\": store.get(\"phone\", \"N/A\"),\n",
    "                    \"postal_code\": store.get(\"postalCode\", \"N/A\"),\n",
    "                    \"store_id\": store.get(\"storeId\", \"N/A\"),\n",
    "                }\n",
    "                all_data.append(store_info)\n",
    "        else:\n",
    "            # If 'stores' key doesn't exist or is not iterable, append placeholder data\n",
    "            store_info = {\n",
    "                \"state\": state.upper(),\n",
    "                \"city\": city_name,\n",
    "                \"store_type\": \"N/A\",\n",
    "                \"store_name\": \"N/A\",\n",
    "                \"address\": \"N/A\",\n",
    "                \"phone\": \"N/A\",\n",
    "                \"postal_code\": \"N/A\",\n",
    "                \"store_id\": \"N/A\",\n",
    "            }\n",
    "            all_data.append(store_info)\n",
    "            sleep(randint(1, 3))"
   ]
  },
  {
   "cell_type": "markdown",
   "id": "161d7cde-4c8a-4b32-b042-ca5e6f799185",
   "metadata": {},
   "source": [
    "#### Create a store dataframe from the list of dictionaries"
   ]
  },
  {
   "cell_type": "code",
   "execution_count": 10,
   "id": "4d345d3c-f3bf-4f20-9117-06f1a7df4f65",
   "metadata": {},
   "outputs": [],
   "source": [
    "df = pd.DataFrame(all_data)"
   ]
  },
  {
   "cell_type": "code",
   "execution_count": 11,
   "id": "a057e854-fe04-48c7-a4a0-d6b392018580",
   "metadata": {},
   "outputs": [
    {
     "data": {
      "text/html": [
       "<div>\n",
       "<style scoped>\n",
       "    .dataframe tbody tr th:only-of-type {\n",
       "        vertical-align: middle;\n",
       "    }\n",
       "\n",
       "    .dataframe tbody tr th {\n",
       "        vertical-align: top;\n",
       "    }\n",
       "\n",
       "    .dataframe thead th {\n",
       "        text-align: right;\n",
       "    }\n",
       "</style>\n",
       "<table border=\"1\" class=\"dataframe\">\n",
       "  <thead>\n",
       "    <tr style=\"text-align: right;\">\n",
       "      <th></th>\n",
       "      <th>state</th>\n",
       "      <th>city</th>\n",
       "      <th>store_type</th>\n",
       "      <th>store_name</th>\n",
       "      <th>address</th>\n",
       "      <th>phone</th>\n",
       "      <th>postal_code</th>\n",
       "      <th>store_id</th>\n",
       "    </tr>\n",
       "  </thead>\n",
       "  <tbody>\n",
       "    <tr>\n",
       "      <th>0</th>\n",
       "      <td>AK</td>\n",
       "      <td>Anchorage</td>\n",
       "      <td>Supercenter</td>\n",
       "      <td>Walmart Supercenter</td>\n",
       "      <td>3101 A St</td>\n",
       "      <td>907-563-5900</td>\n",
       "      <td>99503</td>\n",
       "      <td>2070</td>\n",
       "    </tr>\n",
       "    <tr>\n",
       "      <th>1</th>\n",
       "      <td>AK</td>\n",
       "      <td>Anchorage</td>\n",
       "      <td>Supercenter</td>\n",
       "      <td>Walmart Supercenter</td>\n",
       "      <td>8900 Old Seward Hwy</td>\n",
       "      <td>907-344-5300</td>\n",
       "      <td>99515</td>\n",
       "      <td>2071</td>\n",
       "    </tr>\n",
       "    <tr>\n",
       "      <th>2</th>\n",
       "      <td>AK</td>\n",
       "      <td>Anchorage</td>\n",
       "      <td>Supercenter</td>\n",
       "      <td>Walmart Supercenter</td>\n",
       "      <td>7405 Debarr Road</td>\n",
       "      <td>907-339-9039</td>\n",
       "      <td>99504</td>\n",
       "      <td>4359</td>\n",
       "    </tr>\n",
       "    <tr>\n",
       "      <th>3</th>\n",
       "      <td>AK</td>\n",
       "      <td>Eagle River</td>\n",
       "      <td>N/A</td>\n",
       "      <td>N/A</td>\n",
       "      <td>N/A</td>\n",
       "      <td>N/A</td>\n",
       "      <td>N/A</td>\n",
       "      <td>2188</td>\n",
       "    </tr>\n",
       "    <tr>\n",
       "      <th>4</th>\n",
       "      <td>AK</td>\n",
       "      <td>Fairbanks</td>\n",
       "      <td>N/A</td>\n",
       "      <td>N/A</td>\n",
       "      <td>N/A</td>\n",
       "      <td>N/A</td>\n",
       "      <td>N/A</td>\n",
       "      <td>2722</td>\n",
       "    </tr>\n",
       "  </tbody>\n",
       "</table>\n",
       "</div>"
      ],
      "text/plain": [
       "  state         city   store_type           store_name              address  \\\n",
       "0    AK    Anchorage  Supercenter  Walmart Supercenter            3101 A St   \n",
       "1    AK    Anchorage  Supercenter  Walmart Supercenter  8900 Old Seward Hwy   \n",
       "2    AK    Anchorage  Supercenter  Walmart Supercenter     7405 Debarr Road   \n",
       "3    AK  Eagle River          N/A                  N/A                  N/A   \n",
       "4    AK    Fairbanks          N/A                  N/A                  N/A   \n",
       "\n",
       "          phone postal_code store_id  \n",
       "0  907-563-5900       99503     2070  \n",
       "1  907-344-5300       99515     2071  \n",
       "2  907-339-9039       99504     4359  \n",
       "3           N/A         N/A     2188  \n",
       "4           N/A         N/A     2722  "
      ]
     },
     "execution_count": 11,
     "metadata": {},
     "output_type": "execute_result"
    }
   ],
   "source": [
    "df.head()"
   ]
  },
  {
   "cell_type": "markdown",
   "id": "58221a07-9ac5-4351-b0d6-d31d2c8a857f",
   "metadata": {},
   "source": [
    "#### The store data is incomple (some addresses missing and no geo coordinates) so we need to hit each store page"
   ]
  },
  {
   "cell_type": "code",
   "execution_count": null,
   "id": "69a824b8-5cea-480c-9588-772a3d5b2160",
   "metadata": {},
   "outputs": [],
   "source": [
    "df[\"url\"] = \"https://www.walmart.com/store/\" + df[\"store_id\"].astype(str)\n",
    "store_urls = df[\"url\"].to_list()"
   ]
  },
  {
   "cell_type": "code",
   "execution_count": null,
   "id": "f250669b-0235-49fa-9274-d260a32e3f89",
   "metadata": {},
   "outputs": [],
   "source": []
  },
  {
   "cell_type": "code",
   "execution_count": 17,
   "id": "c5848562-77ac-4a3d-b7fe-6f7b2ccbed29",
   "metadata": {},
   "outputs": [
    {
     "data": {
      "application/vnd.jupyter.widget-view+json": {
       "model_id": "a1eed3963b804a0ba5b12ca66e022b7a",
       "version_major": 2,
       "version_minor": 0
      },
      "text/plain": [
       "  0%|          | 0/2 [00:00<?, ?it/s]"
      ]
     },
     "metadata": {},
     "output_type": "display_data"
    }
   ],
   "source": [
    "for store_url in tqdm(store_urls[0:2]):\n",
    "    response = requests.get(store_url, headers=headers)\n",
    "    response.raise_for_status()  # Raise exception for 4XX and 5XX status codes\n",
    "    soup = BeautifulSoup(response.text, \"html.parser\")"
   ]
  },
  {
   "cell_type": "code",
   "execution_count": 18,
   "id": "109fb6b5-dbbb-453b-b921-2c77f0e0c280",
   "metadata": {},
   "outputs": [
    {
     "data": {
      "text/plain": [
       "<html lang=\"en\">\n",
       "<head>\n",
       "<title>Robot or human?</title>\n",
       "<meta content=\"width=device-width\" name=\"viewport\"/>\n",
       "<style>\n",
       "    #sign-in-widget a,\n",
       "    #sign-in-widget a:active,\n",
       "    #sign-in-widget a:hover {\n",
       "        color: #000\n",
       "    }\n",
       "\n",
       "    #sign-in-widget h1 {\n",
       "        font-weight: 500;\n",
       "        font-size: 20px;\n",
       "        font-size: 1.25rem;\n",
       "        letter-spacing: -.6px;\n",
       "        margin: 1px auto\n",
       "    }\n",
       "\n",
       "    @media (min-width:30em) {\n",
       "        #sign-in-widget h1 {\n",
       "            margin-top: 24px;\n",
       "            font-size: 24px;\n",
       "            font-size: 1.5rem\n",
       "        }\n",
       "    }\n",
       "\n",
       "    #sign-in-widget {\n",
       "        font-family: BogleWeb, Helvetica Neue, Helvetica, Arial, sans-serif\n",
       "    }\n",
       "\n",
       "    #sign-in-widget * {\n",
       "        box-sizing: border-box\n",
       "    }\n",
       "\n",
       "    #sign-in-widget .text-right {\n",
       "        text-align: right\n",
       "    }\n",
       "\n",
       "    @font-face {\n",
       "        font-family: NewYorkIcons;\n",
       "        src: url(6255ed72d86ece856725a2d80878bce6.eot);\n",
       "        font-weight: 400;\n",
       "        font-style: normal\n",
       "    }\n",
       "\n",
       "    @font-face {\n",
       "        font-family: NewYorkIcons;\n",
       "        src: url(fd827841624904d4b8f51d20174fa3a4.woff2) format(\"woff2\"), url(5b38b158833d0265af2b1c1093e489bd.woff) format(\"woff\"), url(2ebae25dcb1bb39acbac9cffd8f10b15.ttf) format(\"truetype\");\n",
       "        font-weight: 400;\n",
       "        font-style: normal\n",
       "    }\n",
       "\n",
       "    @keyframes spin-clockwise {\n",
       "        0% {\n",
       "            transform: rotate(0)\n",
       "        }\n",
       "\n",
       "        to {\n",
       "            transform: rotate(1turn)\n",
       "        }\n",
       "    }\n",
       "\n",
       "    @keyframes zoom-inverse {\n",
       "        0% {\n",
       "            opacity: 0;\n",
       "            transform: scale(3)\n",
       "        }\n",
       "\n",
       "        33% {\n",
       "            opacity: 1\n",
       "        }\n",
       "\n",
       "        to {\n",
       "            transform: scale(1)\n",
       "        }\n",
       "    }\n",
       "\n",
       "    @keyframes blinker {\n",
       "        0% {\n",
       "            opacity: 1\n",
       "        }\n",
       "\n",
       "        to {\n",
       "            opacity: 0\n",
       "        }\n",
       "    }\n",
       "\n",
       "    @keyframes slide-from-bottom {\n",
       "        0% {\n",
       "            transform: translateY(100%)\n",
       "        }\n",
       "\n",
       "        to {\n",
       "            transform: translateY(0)\n",
       "        }\n",
       "    }\n",
       "\n",
       "    @keyframes slide-from-top {\n",
       "        0% {\n",
       "            transform: translateY(0)\n",
       "        }\n",
       "\n",
       "        to {\n",
       "            transform: translateY(100%)\n",
       "        }\n",
       "    }\n",
       "\n",
       "    @keyframes fade-in-opacity {\n",
       "        0% {\n",
       "            opacity: 0\n",
       "        }\n",
       "\n",
       "        to {\n",
       "            opacity: 1\n",
       "        }\n",
       "    }\n",
       "\n",
       "    .elc-icon-spark:before {\n",
       "        font-family: NewYorkIcons;\n",
       "        display: inline;\n",
       "        speak: none;\n",
       "        content: \"\\E935\"\n",
       "    }\n",
       "\n",
       "    .message {\n",
       "        text-align: left\n",
       "    }\n",
       "\n",
       "    .message.active {\n",
       "        display: block\n",
       "    }\n",
       "\n",
       "    .divider {\n",
       "        margin: 24px 0 8px;\n",
       "        text-align: center\n",
       "    }\n",
       "\n",
       "    @media (min-width:30em) {\n",
       "        .divider {\n",
       "            margin-top: 40px\n",
       "        }\n",
       "    }\n",
       "\n",
       "    #sign-in-widget {\n",
       "        text-align: center\n",
       "    }\n",
       "\n",
       "    #sign-in-widget p {\n",
       "        margin-bottom: 0\n",
       "    }\n",
       "\n",
       "    #sign-in-widget .header-logo {\n",
       "        text-decoration: none;\n",
       "        font-size: 36px;\n",
       "        font-size: 2.25rem\n",
       "    }\n",
       "\n",
       "    @media (min-width:30em) {\n",
       "        #sign-in-widget .message.active+h1 {\n",
       "            margin-top: 32px\n",
       "        }\n",
       "    }\n",
       "\n",
       "    #sign-in-widget .elc-icon {\n",
       "        font-family: NewYorkIcons\n",
       "    }\n",
       "\n",
       "    .u-sentenceCase {\n",
       "        display: inline-block;\n",
       "        text-decoration: inherit;\n",
       "        text-transform: lowercase\n",
       "    }\n",
       "\n",
       "    .u-sentenceCase:first-letter {\n",
       "        text-transform: uppercase\n",
       "    }\n",
       "\n",
       "    .u-sentenceCase--no-transform {\n",
       "        text-transform: none\n",
       "    }\n",
       "\n",
       "    .message {\n",
       "        -moz-osx-font-smoothing: grayscale;\n",
       "        -webkit-font-smoothing: antialiased;\n",
       "        display: none;\n",
       "        padding: 8px 10px;\n",
       "        border: 1px solid;\n",
       "        color: #414042;\n",
       "        font-size: 14px;\n",
       "        font-size: .875rem\n",
       "    }\n",
       "\n",
       "    .message.active {\n",
       "        display: inline-block\n",
       "    }\n",
       "\n",
       "    .spark {\n",
       "        color: #ffc400\n",
       "    }\n",
       "\n",
       "    .sign-in-widget>* {\n",
       "        display: none\n",
       "    }\n",
       "\n",
       "    [data-active=\"0\"] .sign-in-widget>:first-child,\n",
       "    [data-active=\"1\"] .sign-in-widget>:nth-child(2),\n",
       "    [data-active=\"10\"] .sign-in-widget>:nth-child(11),\n",
       "    [data-active=\"11\"] .sign-in-widget>:nth-child(12),\n",
       "    [data-active=\"12\"] .sign-in-widget>:nth-child(13),\n",
       "    [data-active=\"13\"] .sign-in-widget>:nth-child(14),\n",
       "    [data-active=\"14\"] .sign-in-widget>:nth-child(15),\n",
       "    [data-active=\"15\"] .sign-in-widget>:nth-child(16),\n",
       "    [data-active=\"16\"] .sign-in-widget>:nth-child(17),\n",
       "    [data-active=\"17\"] .sign-in-widget>:nth-child(18),\n",
       "    [data-active=\"18\"] .sign-in-widget>:nth-child(19),\n",
       "    [data-active=\"2\"] .sign-in-widget>:nth-child(3),\n",
       "    [data-active=\"3\"] .sign-in-widget>:nth-child(4),\n",
       "    [data-active=\"4\"] .sign-in-widget>:nth-child(5),\n",
       "    [data-active=\"5\"] .sign-in-widget>:nth-child(6),\n",
       "    [data-active=\"6\"] .sign-in-widget>:nth-child(7),\n",
       "    [data-active=\"7\"] .sign-in-widget>:nth-child(8),\n",
       "    [data-active=\"8\"] .sign-in-widget>:nth-child(9),\n",
       "    [data-active=\"9\"] .sign-in-widget>:nth-child(10) {\n",
       "        display: block\n",
       "    }\n",
       "\n",
       "    [data-active] {\n",
       "        min-height: 100%;\n",
       "        position: relative\n",
       "    }\n",
       "\n",
       "    [data-active]>* {\n",
       "        margin-right: auto;\n",
       "        margin-left: auto\n",
       "    }\n",
       "\n",
       "    @media (min-width:240px) {\n",
       "        [data-active]>* {\n",
       "            max-width: 304px;\n",
       "            margin-right: auto;\n",
       "            margin-left: auto\n",
       "        }\n",
       "    }\n",
       "\n",
       "    @media (min-width:1024px) {\n",
       "        [data-active]>* {\n",
       "            max-width: 320px;\n",
       "            margin-right: auto;\n",
       "            margin-left: auto\n",
       "        }\n",
       "    }\n",
       "\n",
       "    body,\n",
       "    html {\n",
       "        height: 100%;\n",
       "        margin: 0\n",
       "    }\n",
       "\n",
       "    #sign-in-widget .header-logo {\n",
       "        margin-top: 2px;\n",
       "        display: inherit\n",
       "    }\n",
       "\n",
       "    @media (min-width:30em) {\n",
       "        #sign-in-widget .header-logo {\n",
       "            margin-top: 32px\n",
       "        }\n",
       "    }\n",
       "\n",
       "    #sign-in-widget h1~.sign-in-widget {\n",
       "        padding-bottom: 200px\n",
       "    }\n",
       "\n",
       "    .lite-footer {\n",
       "        width: 100%;\n",
       "        max-width: 100% !important\n",
       "    }\n",
       "\n",
       "    .lite-footer>hr {\n",
       "        margin: 0;\n",
       "        width: 100%;\n",
       "        border-color: #e6e7e8;\n",
       "        border-style: solid\n",
       "    }\n",
       "\n",
       "    @media (min-width:48em) {\n",
       "        .lite-footer {\n",
       "            position: absolute;\n",
       "            bottom: 0;\n",
       "            margin-top: 200px\n",
       "        }\n",
       "    }\n",
       "\n",
       "    .lite-footer .main-container {\n",
       "        padding: 16px;\n",
       "        margin-bottom: 24px;\n",
       "        font-size: 14px;\n",
       "        font-size: .875rem;\n",
       "        display: -ms-flexbox;\n",
       "        display: flex;\n",
       "        -ms-flex-direction: column;\n",
       "        flex-direction: column;\n",
       "        -ms-flex-pack: center;\n",
       "        justify-content: center;\n",
       "        -ms-flex-line-pack: center;\n",
       "        align-content: center;\n",
       "        width: 100%;\n",
       "        max-width: 100% !important\n",
       "    }\n",
       "\n",
       "    @media (min-width:64em) {\n",
       "        .lite-footer .main-container {\n",
       "            -ms-flex-direction: row;\n",
       "            flex-direction: row;\n",
       "            -ms-flex-pack: justify;\n",
       "            justify-content: space-between;\n",
       "            -ms-flex-line-pack: start;\n",
       "            align-content: flex-start\n",
       "        }\n",
       "    }\n",
       "\n",
       "    .lite-footer .main-container .left-section {\n",
       "        text-align: center\n",
       "    }\n",
       "\n",
       "    .lite-footer .main-container .left-section>a {\n",
       "        display: block;\n",
       "        margin-bottom: 16px\n",
       "    }\n",
       "\n",
       "    @media (min-width:48em) {\n",
       "        .lite-footer .main-container .left-section {\n",
       "            text-align: left\n",
       "        }\n",
       "\n",
       "        .lite-footer .main-container .left-section>a {\n",
       "            display: inline;\n",
       "            margin-right: 16px\n",
       "        }\n",
       "    }\n",
       "\n",
       "    .lite-footer .main-container .right-section {\n",
       "        text-align: center;\n",
       "        font-size: 12px;\n",
       "        font-size: .75rem\n",
       "    }\n",
       "\n",
       "    .lite-footer .main-container .right-section>p {\n",
       "        margin: 0\n",
       "    }\n",
       "\n",
       "    @media (min-width:48em) {\n",
       "        .lite-footer .main-container .right-section {\n",
       "            text-align: left\n",
       "        }\n",
       "\n",
       "        .lite-footer .main-container .right-section>p {\n",
       "            margin-top: 16px\n",
       "        }\n",
       "    }\n",
       "\n",
       "    @media (min-width:64em) {\n",
       "        .lite-footer .main-container .right-section>p {\n",
       "            margin: 0\n",
       "        }\n",
       "    }\n",
       "\n",
       "    /* upload and replace urls with new CDN URL*/\n",
       "    @font-face {\n",
       "        font-family: NewYorkIcons;\n",
       "        src: url(https://i5.wal.co/dfw/63fd9f59-161f/f0d7612f-54fb-4910-a9c7-20c65d03f878/v1/6255ed72d86ece856725a2d80878bce6.eot);\n",
       "        font-weight: 400;\n",
       "        font-style: normal\n",
       "    }\n",
       "\n",
       "    @font-face {\n",
       "        font-family: NewYorkIcons;\n",
       "        src: url(https://i5.wal.co/dfw/63fd9f59-161f/f0d7612f-54fb-4910-a9c7-20c65d03f878/v1/fd827841624904d4b8f51d20174fa3a4.woff2) format(\"woff2\"), url(https://i5.wal.co/dfw/63fd9f59-161f/f0d7612f-54fb-4910-a9c7-20c65d03f878/v1/5b38b158833d0265af2b1c1093e489bd.woff) format(\"woff\"), url(https://i5.wal.co/dfw/63fd9f59-161f/f0d7612f-54fb-4910-a9c7-20c65d03f878/v1/2ebae25dcb1bb39acbac9cffd8f10b15.ttf) format(\"truetype\");\n",
       "        font-weight: 400;\n",
       "        font-style: normal\n",
       "    }\n",
       "\n",
       "    @font-face {\n",
       "        font-family: \"BogleWeb\";\n",
       "        src: url(\"https://i5.walmartimages.com/dfw/63fd9f59-a78c/fcfae9b6-2f69-4f89-beed-f0eeb4237946/v1/BogleWeb_subset-Bold.eot\");\n",
       "        src: url(\"https://i5.walmartimages.com/dfw/63fd9f59-a78c/fcfae9b6-2f69-4f89-beed-f0eeb4237946/v1/BogleWeb_subset-Bold.eot?#iefix\") format(\"embedded-opentype\"),\n",
       "            url(\"https://i5.walmartimages.com/dfw/63fd9f59-a78c/fcfae9b6-2f69-4f89-beed-f0eeb4237946/v1/BogleWeb_subset-Bold.woff2\") format(\"woff2\"),\n",
       "            url(\"https://i5.walmartimages.com/dfw/63fd9f59-a78c/fcfae9b6-2f69-4f89-beed-f0eeb4237946/v1/BogleWeb_subset-Bold.woff\") format(\"woff\"),\n",
       "            url(\"https://i5.walmartimages.com/dfw/63fd9f59-a78c/fcfae9b6-2f69-4f89-beed-f0eeb4237946/v1/BogleWeb_subset-Bold.ttf\") format(\"truetype\");\n",
       "        font-weight: 700;\n",
       "        font-style: normal;\n",
       "    }\n",
       "\n",
       "    @font-face {\n",
       "        font-family: \"BogleWeb\";\n",
       "        src: url(\"https://i5.walmartimages.com/dfw/63fd9f59-a78c/fcfae9b6-2f69-4f89-beed-f0eeb4237946/v1/BogleWeb_subset-Bold.eot\");\n",
       "        src: url(\"https://i5.walmartimages.com/dfw/63fd9f59-a78c/fcfae9b6-2f69-4f89-beed-f0eeb4237946/v1/BogleWeb_subset-Bold.eot?#iefix\") format(\"embedded-opentype\"),\n",
       "            url(\"https://i5.walmartimages.com/dfw/63fd9f59-a78c/fcfae9b6-2f69-4f89-beed-f0eeb4237946/v1/BogleWeb_subset-Bold.woff2\") format(\"woff2\"),\n",
       "            url(\"https://i5.walmartimages.com/dfw/63fd9f59-a78c/fcfae9b6-2f69-4f89-beed-f0eeb4237946/v1/BogleWeb_subset-Bold.woff\") format(\"woff\"),\n",
       "            url(\"https://i5.walmartimages.com/dfw/63fd9f59-a78c/fcfae9b6-2f69-4f89-beed-f0eeb4237946/v1/BogleWeb_subset-Bold.ttf\") format(\"truetype\");\n",
       "        font-weight: 600;\n",
       "        font-style: normal;\n",
       "    }\n",
       "\n",
       "    @font-face {\n",
       "        font-family: \"BogleWeb\";\n",
       "        src: url(\"https://i5.walmartimages.com/dfw/63fd9f59-a78c/fcfae9b6-2f69-4f89-beed-f0eeb4237946/v1/BogleWeb_subset-Regular.eot\");\n",
       "        src: url(\"https://i5.walmartimages.com/dfw/63fd9f59-a78c/fcfae9b6-2f69-4f89-beed-f0eeb4237946/v1/BogleWeb_subset-Regular.eot?#iefix\") format(\"embedded-opentype\"),\n",
       "            url(\"https://i5.walmartimages.com/dfw/63fd9f59-a78c/fcfae9b6-2f69-4f89-beed-f0eeb4237946/v1/BogleWeb_subset-Regular.woff2\") format(\"woff2\"),\n",
       "            url(\"https://i5.walmartimages.com/dfw/63fd9f59-a78c/fcfae9b6-2f69-4f89-beed-f0eeb4237946/v1/BogleWeb_subset-Regular.woff\") format(\"woff\"),\n",
       "            url(\"https://i5.walmartimages.com/dfw/63fd9f59-a78c/fcfae9b6-2f69-4f89-beed-f0eeb4237946/v1/BogleWeb_subset-Regular.ttf\") format(\"truetype\");\n",
       "        font-weight: 400;\n",
       "        font-style: normal;\n",
       "    }\n",
       "    </style>\n",
       "<script>\n",
       "    function getUrlVars() {\n",
       "        var vars = {};\n",
       "        var parts = window.location.href.replace(/[?&]+([^=&]+)=([^&]*)/gi, function(m, key, value) {\n",
       "            vars[key] = value;\n",
       "        });\n",
       "        return vars;\n",
       "    }\n",
       "\n",
       "    function getUrlParam(parameter, defaultvalue) {\n",
       "        var urlparameter = defaultvalue;\n",
       "        if (window.location.href.indexOf(parameter) > -1) {\n",
       "            urlparameter = getUrlVars()[parameter];\n",
       "        }\n",
       "        return urlparameter;\n",
       "    }\n",
       "\n",
       "    </script>\n",
       "</head>\n",
       "<body>\n",
       "<div>\n",
       "<div data-active=\"0\" id=\"sign-in-widget\">\n",
       "<a aria-atomic=\"true\" aria-label=\"Walmart. Save Money. Live Better. Home Page\" class=\"header-logo\" href=\"/\">\n",
       "<span class=\"spark elc-icon elc-icon-spark elc-icon-36\"></span>\n",
       "</a>\n",
       "<h1 class=\"heading heading-d sign-in-widget\">\n",
       "                Robot or human?\n",
       "            </h1>\n",
       "<div class=\"sign-in-widget\">\n",
       "<div class=\"re-captcha\">\n",
       "<p class=\"bot-message\" id=\"message\">Activate and hold the button to confirm that you’re human. Thank You!</p>\n",
       "<div id=\"px-captcha\" style=\"margin:16px;margin-bottom: 32px; margin-top: 32px; align-content:center; align-items: center;\"></div>\n",
       "</div>\n",
       "</div>\n",
       "<script>\n",
       "            window._pxAppId = 'PXu6b0qd2S';\n",
       "            window._pxJsClientSrc = '/px/' + window._pxAppId + '/init.js';\n",
       "            window._pxFirstPartyEnabled = true;\n",
       "            window._pxHostUrl = '/px/' + window._pxAppId + '/xhr';\n",
       "            window._pxreCaptchaTheme = 'light';\n",
       "            window._PXETnJ2Y5H = {\n",
       "                challenge: {\n",
       "                    view: {\n",
       "                         textFont: \"BogleWeb, Helvetica Neue, Helvetica, Arial, sans-serif\"\n",
       "                   }\n",
       "                }\n",
       "            };\n",
       "\n",
       "            var hc = getUrlParam('g', 'b');\n",
       "            var alt = hc\n",
       "            if (alt=='a') {\n",
       "                document.getElementById('message').innerHTML = '<p>Check the box to confirm that you’re human. Thank You!</p>';\n",
       "            }\n",
       "            var captchajs = \"/px/\" + window._pxAppId + \"/captcha/captcha.js?a=c&m=0&g=\" + hc\n",
       "            </script>\n",
       "<script id=\"blockScript\"></script>\n",
       "<script>\n",
       "            document.getElementById('blockScript').src = captchajs;\n",
       "            </script>\n",
       "<div class=\"lite-footer\">\n",
       "<hr aria-hidden=\"true\" class=\"divider\"/>\n",
       "<div class=\"main-container\">\n",
       "<div class=\"left-section\">\n",
       "<a class=\"\" href=\"https://help.walmart.com/app/answers/detail/a_id/8\">\n",
       "<span class=\"u-sentenceCase u-sentenceCase--no-transform\">Terms of Use</span>\n",
       "</a>\n",
       "<a class=\"\" href=\"https://corporate.walmart.com/privacy-security\">\n",
       "<span class=\"u-sentenceCase u-sentenceCase--no-transform\">Privacy Policy</span>\n",
       "</a>\n",
       "<a class=\"\" href=\"/account/api/ccpa-intake?native=false&amp;type=sod\">\n",
       "<span class=\"u-sentenceCase u-sentenceCase--no-transform\">Do Not Sell My Personal Information</span>\n",
       "</a>\n",
       "<a class=\"\" href=\"/account/api/ccpa-intake?native=false&amp;type=access\">\n",
       "<span class=\"u-sentenceCase u-sentenceCase--no-transform\">Request My Personal Information</span>\n",
       "</a>\n",
       "</div>\n",
       "<div class=\"right-section\">\n",
       "<p class=\"copy-base-ny\">©2023 Walmart Stores, Inc.</p>\n",
       "</div>\n",
       "</div>\n",
       "</div>\n",
       "</div>\n",
       "</div></body>\n",
       "</html>"
      ]
     },
     "execution_count": 18,
     "metadata": {},
     "output_type": "execute_result"
    }
   ],
   "source": [
    "soup"
   ]
  },
  {
   "cell_type": "code",
   "execution_count": null,
   "id": "62c3a3f8-4123-47ce-96eb-8681bc407db6",
   "metadata": {},
   "outputs": [],
   "source": []
  },
  {
   "cell_type": "code",
   "execution_count": null,
   "id": "f9f9e55a-f11d-47d5-b982-9afbd75be2c2",
   "metadata": {},
   "outputs": [],
   "source": []
  },
  {
   "cell_type": "code",
   "execution_count": null,
   "id": "57e9cccc-1e24-4b45-80c2-c9b76f169e54",
   "metadata": {},
   "outputs": [],
   "source": []
  },
  {
   "cell_type": "code",
   "execution_count": null,
   "id": "a0cc66d9-a84f-4fa2-af55-81aef9c693fb",
   "metadata": {},
   "outputs": [],
   "source": []
  },
  {
   "cell_type": "code",
   "execution_count": null,
   "id": "8f7d8e73-5e26-443c-bd10-bc1a9c4eff3a",
   "metadata": {},
   "outputs": [],
   "source": []
  },
  {
   "cell_type": "markdown",
   "id": "e2f7d34b-072b-4f57-bfef-70baa3f721aa",
   "metadata": {},
   "source": [
    "#### Function for looping through urls, reading inline json and storing details"
   ]
  },
  {
   "cell_type": "code",
   "execution_count": 13,
   "id": "3395cca1-9323-499c-a70d-56e3472e6aab",
   "metadata": {},
   "outputs": [
    {
     "data": {
      "application/vnd.jupyter.widget-view+json": {
       "model_id": "7b8acca8f8354764b6ddf432834d6e4a",
       "version_major": 2,
       "version_minor": 0
      },
      "text/plain": [
       "  0%|          | 0/4627 [00:00<?, ?it/s]"
      ]
     },
     "metadata": {},
     "output_type": "display_data"
    },
    {
     "name": "stderr",
     "output_type": "stream",
     "text": [
      "ERROR:root:Error scraping data from https://www.walmart.com/store/2070: 'NoneType' object has no attribute 'string'\n",
      "ERROR:root:Error scraping data from https://www.walmart.com/store/2071: 'NoneType' object has no attribute 'string'\n",
      "ERROR:root:Error scraping data from https://www.walmart.com/store/4359: 'NoneType' object has no attribute 'string'\n",
      "ERROR:root:Error scraping data from https://www.walmart.com/store/2188: 'NoneType' object has no attribute 'string'\n",
      "ERROR:root:Error scraping data from https://www.walmart.com/store/2722: 'NoneType' object has no attribute 'string'\n",
      "ERROR:root:Error scraping data from https://www.walmart.com/store/4474: 'NoneType' object has no attribute 'string'\n",
      "ERROR:root:Error scraping data from https://www.walmart.com/store/2710: 'NoneType' object has no attribute 'string'\n",
      "ERROR:root:Error scraping data from https://www.walmart.com/store/2711: 'NoneType' object has no attribute 'string'\n",
      "ERROR:root:Error scraping data from https://www.walmart.com/store/2074: 'NoneType' object has no attribute 'string'\n",
      "ERROR:root:Error scraping data from https://www.walmart.com/store/1158: 'NoneType' object has no attribute 'string'\n",
      "ERROR:root:Error scraping data from https://www.walmart.com/store/4756: 'NoneType' object has no attribute 'string'\n"
     ]
    },
    {
     "ename": "KeyboardInterrupt",
     "evalue": "",
     "output_type": "error",
     "traceback": [
      "\u001b[0;31m---------------------------------------------------------------------------\u001b[0m",
      "\u001b[0;31mKeyboardInterrupt\u001b[0m                         Traceback (most recent call last)",
      "Cell \u001b[0;32mIn[13], line 51\u001b[0m\n\u001b[1;32m     48\u001b[0m store_details \u001b[38;5;241m=\u001b[39m []\n\u001b[1;32m     50\u001b[0m \u001b[38;5;28;01mfor\u001b[39;00m store_url \u001b[38;5;129;01min\u001b[39;00m tqdm(store_urls):\n\u001b[0;32m---> 51\u001b[0m     store_detail \u001b[38;5;241m=\u001b[39m \u001b[43mscrape_store_details\u001b[49m\u001b[43m(\u001b[49m\u001b[43mstore_url\u001b[49m\u001b[43m)\u001b[49m\n\u001b[1;32m     52\u001b[0m     \u001b[38;5;28;01mif\u001b[39;00m store_detail:\n\u001b[1;32m     53\u001b[0m         store_details\u001b[38;5;241m.\u001b[39mappend(store_detail)\n",
      "Cell \u001b[0;32mIn[13], line 6\u001b[0m, in \u001b[0;36mscrape_store_details\u001b[0;34m(store_url)\u001b[0m\n\u001b[1;32m      4\u001b[0m \u001b[38;5;28;01mdef\u001b[39;00m \u001b[38;5;21mscrape_store_details\u001b[39m(store_url):\n\u001b[1;32m      5\u001b[0m     \u001b[38;5;28;01mtry\u001b[39;00m:\n\u001b[0;32m----> 6\u001b[0m         response \u001b[38;5;241m=\u001b[39m \u001b[43mrequests\u001b[49m\u001b[38;5;241;43m.\u001b[39;49m\u001b[43mget\u001b[49m\u001b[43m(\u001b[49m\u001b[43mstore_url\u001b[49m\u001b[43m,\u001b[49m\u001b[43m \u001b[49m\u001b[43mheaders\u001b[49m\u001b[38;5;241;43m=\u001b[39;49m\u001b[43mheaders\u001b[49m\u001b[43m)\u001b[49m\n\u001b[1;32m      7\u001b[0m         response\u001b[38;5;241m.\u001b[39mraise_for_status()  \u001b[38;5;66;03m# Raise exception for 4XX and 5XX status codes\u001b[39;00m\n\u001b[1;32m      8\u001b[0m         soup \u001b[38;5;241m=\u001b[39m BeautifulSoup(response\u001b[38;5;241m.\u001b[39mtext, \u001b[38;5;124m\"\u001b[39m\u001b[38;5;124mhtml.parser\u001b[39m\u001b[38;5;124m\"\u001b[39m)\n",
      "File \u001b[0;32m~/.local/share/virtualenvs/locations-P9hdnGxc/lib/python3.9/site-packages/requests/api.py:73\u001b[0m, in \u001b[0;36mget\u001b[0;34m(url, params, **kwargs)\u001b[0m\n\u001b[1;32m     62\u001b[0m \u001b[38;5;28;01mdef\u001b[39;00m \u001b[38;5;21mget\u001b[39m(url, params\u001b[38;5;241m=\u001b[39m\u001b[38;5;28;01mNone\u001b[39;00m, \u001b[38;5;241m*\u001b[39m\u001b[38;5;241m*\u001b[39mkwargs):\n\u001b[1;32m     63\u001b[0m \u001b[38;5;250m    \u001b[39m\u001b[38;5;124mr\u001b[39m\u001b[38;5;124;03m\"\"\"Sends a GET request.\u001b[39;00m\n\u001b[1;32m     64\u001b[0m \n\u001b[1;32m     65\u001b[0m \u001b[38;5;124;03m    :param url: URL for the new :class:`Request` object.\u001b[39;00m\n\u001b[0;32m   (...)\u001b[0m\n\u001b[1;32m     70\u001b[0m \u001b[38;5;124;03m    :rtype: requests.Response\u001b[39;00m\n\u001b[1;32m     71\u001b[0m \u001b[38;5;124;03m    \"\"\"\u001b[39;00m\n\u001b[0;32m---> 73\u001b[0m     \u001b[38;5;28;01mreturn\u001b[39;00m \u001b[43mrequest\u001b[49m\u001b[43m(\u001b[49m\u001b[38;5;124;43m\"\u001b[39;49m\u001b[38;5;124;43mget\u001b[39;49m\u001b[38;5;124;43m\"\u001b[39;49m\u001b[43m,\u001b[49m\u001b[43m \u001b[49m\u001b[43murl\u001b[49m\u001b[43m,\u001b[49m\u001b[43m \u001b[49m\u001b[43mparams\u001b[49m\u001b[38;5;241;43m=\u001b[39;49m\u001b[43mparams\u001b[49m\u001b[43m,\u001b[49m\u001b[43m \u001b[49m\u001b[38;5;241;43m*\u001b[39;49m\u001b[38;5;241;43m*\u001b[39;49m\u001b[43mkwargs\u001b[49m\u001b[43m)\u001b[49m\n",
      "File \u001b[0;32m~/.local/share/virtualenvs/locations-P9hdnGxc/lib/python3.9/site-packages/requests/api.py:59\u001b[0m, in \u001b[0;36mrequest\u001b[0;34m(method, url, **kwargs)\u001b[0m\n\u001b[1;32m     55\u001b[0m \u001b[38;5;66;03m# By using the 'with' statement we are sure the session is closed, thus we\u001b[39;00m\n\u001b[1;32m     56\u001b[0m \u001b[38;5;66;03m# avoid leaving sockets open which can trigger a ResourceWarning in some\u001b[39;00m\n\u001b[1;32m     57\u001b[0m \u001b[38;5;66;03m# cases, and look like a memory leak in others.\u001b[39;00m\n\u001b[1;32m     58\u001b[0m \u001b[38;5;28;01mwith\u001b[39;00m sessions\u001b[38;5;241m.\u001b[39mSession() \u001b[38;5;28;01mas\u001b[39;00m session:\n\u001b[0;32m---> 59\u001b[0m     \u001b[38;5;28;01mreturn\u001b[39;00m \u001b[43msession\u001b[49m\u001b[38;5;241;43m.\u001b[39;49m\u001b[43mrequest\u001b[49m\u001b[43m(\u001b[49m\u001b[43mmethod\u001b[49m\u001b[38;5;241;43m=\u001b[39;49m\u001b[43mmethod\u001b[49m\u001b[43m,\u001b[49m\u001b[43m \u001b[49m\u001b[43murl\u001b[49m\u001b[38;5;241;43m=\u001b[39;49m\u001b[43murl\u001b[49m\u001b[43m,\u001b[49m\u001b[43m \u001b[49m\u001b[38;5;241;43m*\u001b[39;49m\u001b[38;5;241;43m*\u001b[39;49m\u001b[43mkwargs\u001b[49m\u001b[43m)\u001b[49m\n",
      "File \u001b[0;32m~/.local/share/virtualenvs/locations-P9hdnGxc/lib/python3.9/site-packages/requests/sessions.py:589\u001b[0m, in \u001b[0;36mSession.request\u001b[0;34m(self, method, url, params, data, headers, cookies, files, auth, timeout, allow_redirects, proxies, hooks, stream, verify, cert, json)\u001b[0m\n\u001b[1;32m    584\u001b[0m send_kwargs \u001b[38;5;241m=\u001b[39m {\n\u001b[1;32m    585\u001b[0m     \u001b[38;5;124m\"\u001b[39m\u001b[38;5;124mtimeout\u001b[39m\u001b[38;5;124m\"\u001b[39m: timeout,\n\u001b[1;32m    586\u001b[0m     \u001b[38;5;124m\"\u001b[39m\u001b[38;5;124mallow_redirects\u001b[39m\u001b[38;5;124m\"\u001b[39m: allow_redirects,\n\u001b[1;32m    587\u001b[0m }\n\u001b[1;32m    588\u001b[0m send_kwargs\u001b[38;5;241m.\u001b[39mupdate(settings)\n\u001b[0;32m--> 589\u001b[0m resp \u001b[38;5;241m=\u001b[39m \u001b[38;5;28;43mself\u001b[39;49m\u001b[38;5;241;43m.\u001b[39;49m\u001b[43msend\u001b[49m\u001b[43m(\u001b[49m\u001b[43mprep\u001b[49m\u001b[43m,\u001b[49m\u001b[43m \u001b[49m\u001b[38;5;241;43m*\u001b[39;49m\u001b[38;5;241;43m*\u001b[39;49m\u001b[43msend_kwargs\u001b[49m\u001b[43m)\u001b[49m\n\u001b[1;32m    591\u001b[0m \u001b[38;5;28;01mreturn\u001b[39;00m resp\n",
      "File \u001b[0;32m~/.local/share/virtualenvs/locations-P9hdnGxc/lib/python3.9/site-packages/requests/sessions.py:703\u001b[0m, in \u001b[0;36mSession.send\u001b[0;34m(self, request, **kwargs)\u001b[0m\n\u001b[1;32m    700\u001b[0m start \u001b[38;5;241m=\u001b[39m preferred_clock()\n\u001b[1;32m    702\u001b[0m \u001b[38;5;66;03m# Send the request\u001b[39;00m\n\u001b[0;32m--> 703\u001b[0m r \u001b[38;5;241m=\u001b[39m \u001b[43madapter\u001b[49m\u001b[38;5;241;43m.\u001b[39;49m\u001b[43msend\u001b[49m\u001b[43m(\u001b[49m\u001b[43mrequest\u001b[49m\u001b[43m,\u001b[49m\u001b[43m \u001b[49m\u001b[38;5;241;43m*\u001b[39;49m\u001b[38;5;241;43m*\u001b[39;49m\u001b[43mkwargs\u001b[49m\u001b[43m)\u001b[49m\n\u001b[1;32m    705\u001b[0m \u001b[38;5;66;03m# Total elapsed time of the request (approximately)\u001b[39;00m\n\u001b[1;32m    706\u001b[0m elapsed \u001b[38;5;241m=\u001b[39m preferred_clock() \u001b[38;5;241m-\u001b[39m start\n",
      "File \u001b[0;32m~/.local/share/virtualenvs/locations-P9hdnGxc/lib/python3.9/site-packages/requests/adapters.py:486\u001b[0m, in \u001b[0;36mHTTPAdapter.send\u001b[0;34m(self, request, stream, timeout, verify, cert, proxies)\u001b[0m\n\u001b[1;32m    483\u001b[0m     timeout \u001b[38;5;241m=\u001b[39m TimeoutSauce(connect\u001b[38;5;241m=\u001b[39mtimeout, read\u001b[38;5;241m=\u001b[39mtimeout)\n\u001b[1;32m    485\u001b[0m \u001b[38;5;28;01mtry\u001b[39;00m:\n\u001b[0;32m--> 486\u001b[0m     resp \u001b[38;5;241m=\u001b[39m \u001b[43mconn\u001b[49m\u001b[38;5;241;43m.\u001b[39;49m\u001b[43murlopen\u001b[49m\u001b[43m(\u001b[49m\n\u001b[1;32m    487\u001b[0m \u001b[43m        \u001b[49m\u001b[43mmethod\u001b[49m\u001b[38;5;241;43m=\u001b[39;49m\u001b[43mrequest\u001b[49m\u001b[38;5;241;43m.\u001b[39;49m\u001b[43mmethod\u001b[49m\u001b[43m,\u001b[49m\n\u001b[1;32m    488\u001b[0m \u001b[43m        \u001b[49m\u001b[43murl\u001b[49m\u001b[38;5;241;43m=\u001b[39;49m\u001b[43murl\u001b[49m\u001b[43m,\u001b[49m\n\u001b[1;32m    489\u001b[0m \u001b[43m        \u001b[49m\u001b[43mbody\u001b[49m\u001b[38;5;241;43m=\u001b[39;49m\u001b[43mrequest\u001b[49m\u001b[38;5;241;43m.\u001b[39;49m\u001b[43mbody\u001b[49m\u001b[43m,\u001b[49m\n\u001b[1;32m    490\u001b[0m \u001b[43m        \u001b[49m\u001b[43mheaders\u001b[49m\u001b[38;5;241;43m=\u001b[39;49m\u001b[43mrequest\u001b[49m\u001b[38;5;241;43m.\u001b[39;49m\u001b[43mheaders\u001b[49m\u001b[43m,\u001b[49m\n\u001b[1;32m    491\u001b[0m \u001b[43m        \u001b[49m\u001b[43mredirect\u001b[49m\u001b[38;5;241;43m=\u001b[39;49m\u001b[38;5;28;43;01mFalse\u001b[39;49;00m\u001b[43m,\u001b[49m\n\u001b[1;32m    492\u001b[0m \u001b[43m        \u001b[49m\u001b[43massert_same_host\u001b[49m\u001b[38;5;241;43m=\u001b[39;49m\u001b[38;5;28;43;01mFalse\u001b[39;49;00m\u001b[43m,\u001b[49m\n\u001b[1;32m    493\u001b[0m \u001b[43m        \u001b[49m\u001b[43mpreload_content\u001b[49m\u001b[38;5;241;43m=\u001b[39;49m\u001b[38;5;28;43;01mFalse\u001b[39;49;00m\u001b[43m,\u001b[49m\n\u001b[1;32m    494\u001b[0m \u001b[43m        \u001b[49m\u001b[43mdecode_content\u001b[49m\u001b[38;5;241;43m=\u001b[39;49m\u001b[38;5;28;43;01mFalse\u001b[39;49;00m\u001b[43m,\u001b[49m\n\u001b[1;32m    495\u001b[0m \u001b[43m        \u001b[49m\u001b[43mretries\u001b[49m\u001b[38;5;241;43m=\u001b[39;49m\u001b[38;5;28;43mself\u001b[39;49m\u001b[38;5;241;43m.\u001b[39;49m\u001b[43mmax_retries\u001b[49m\u001b[43m,\u001b[49m\n\u001b[1;32m    496\u001b[0m \u001b[43m        \u001b[49m\u001b[43mtimeout\u001b[49m\u001b[38;5;241;43m=\u001b[39;49m\u001b[43mtimeout\u001b[49m\u001b[43m,\u001b[49m\n\u001b[1;32m    497\u001b[0m \u001b[43m        \u001b[49m\u001b[43mchunked\u001b[49m\u001b[38;5;241;43m=\u001b[39;49m\u001b[43mchunked\u001b[49m\u001b[43m,\u001b[49m\n\u001b[1;32m    498\u001b[0m \u001b[43m    \u001b[49m\u001b[43m)\u001b[49m\n\u001b[1;32m    500\u001b[0m \u001b[38;5;28;01mexcept\u001b[39;00m (ProtocolError, \u001b[38;5;167;01mOSError\u001b[39;00m) \u001b[38;5;28;01mas\u001b[39;00m err:\n\u001b[1;32m    501\u001b[0m     \u001b[38;5;28;01mraise\u001b[39;00m \u001b[38;5;167;01mConnectionError\u001b[39;00m(err, request\u001b[38;5;241m=\u001b[39mrequest)\n",
      "File \u001b[0;32m~/.local/share/virtualenvs/locations-P9hdnGxc/lib/python3.9/site-packages/urllib3/connectionpool.py:793\u001b[0m, in \u001b[0;36mHTTPConnectionPool.urlopen\u001b[0;34m(self, method, url, body, headers, retries, redirect, assert_same_host, timeout, pool_timeout, release_conn, chunked, body_pos, preload_content, decode_content, **response_kw)\u001b[0m\n\u001b[1;32m    790\u001b[0m response_conn \u001b[38;5;241m=\u001b[39m conn \u001b[38;5;28;01mif\u001b[39;00m \u001b[38;5;129;01mnot\u001b[39;00m release_conn \u001b[38;5;28;01melse\u001b[39;00m \u001b[38;5;28;01mNone\u001b[39;00m\n\u001b[1;32m    792\u001b[0m \u001b[38;5;66;03m# Make the request on the HTTPConnection object\u001b[39;00m\n\u001b[0;32m--> 793\u001b[0m response \u001b[38;5;241m=\u001b[39m \u001b[38;5;28;43mself\u001b[39;49m\u001b[38;5;241;43m.\u001b[39;49m\u001b[43m_make_request\u001b[49m\u001b[43m(\u001b[49m\n\u001b[1;32m    794\u001b[0m \u001b[43m    \u001b[49m\u001b[43mconn\u001b[49m\u001b[43m,\u001b[49m\n\u001b[1;32m    795\u001b[0m \u001b[43m    \u001b[49m\u001b[43mmethod\u001b[49m\u001b[43m,\u001b[49m\n\u001b[1;32m    796\u001b[0m \u001b[43m    \u001b[49m\u001b[43murl\u001b[49m\u001b[43m,\u001b[49m\n\u001b[1;32m    797\u001b[0m \u001b[43m    \u001b[49m\u001b[43mtimeout\u001b[49m\u001b[38;5;241;43m=\u001b[39;49m\u001b[43mtimeout_obj\u001b[49m\u001b[43m,\u001b[49m\n\u001b[1;32m    798\u001b[0m \u001b[43m    \u001b[49m\u001b[43mbody\u001b[49m\u001b[38;5;241;43m=\u001b[39;49m\u001b[43mbody\u001b[49m\u001b[43m,\u001b[49m\n\u001b[1;32m    799\u001b[0m \u001b[43m    \u001b[49m\u001b[43mheaders\u001b[49m\u001b[38;5;241;43m=\u001b[39;49m\u001b[43mheaders\u001b[49m\u001b[43m,\u001b[49m\n\u001b[1;32m    800\u001b[0m \u001b[43m    \u001b[49m\u001b[43mchunked\u001b[49m\u001b[38;5;241;43m=\u001b[39;49m\u001b[43mchunked\u001b[49m\u001b[43m,\u001b[49m\n\u001b[1;32m    801\u001b[0m \u001b[43m    \u001b[49m\u001b[43mretries\u001b[49m\u001b[38;5;241;43m=\u001b[39;49m\u001b[43mretries\u001b[49m\u001b[43m,\u001b[49m\n\u001b[1;32m    802\u001b[0m \u001b[43m    \u001b[49m\u001b[43mresponse_conn\u001b[49m\u001b[38;5;241;43m=\u001b[39;49m\u001b[43mresponse_conn\u001b[49m\u001b[43m,\u001b[49m\n\u001b[1;32m    803\u001b[0m \u001b[43m    \u001b[49m\u001b[43mpreload_content\u001b[49m\u001b[38;5;241;43m=\u001b[39;49m\u001b[43mpreload_content\u001b[49m\u001b[43m,\u001b[49m\n\u001b[1;32m    804\u001b[0m \u001b[43m    \u001b[49m\u001b[43mdecode_content\u001b[49m\u001b[38;5;241;43m=\u001b[39;49m\u001b[43mdecode_content\u001b[49m\u001b[43m,\u001b[49m\n\u001b[1;32m    805\u001b[0m \u001b[43m    \u001b[49m\u001b[38;5;241;43m*\u001b[39;49m\u001b[38;5;241;43m*\u001b[39;49m\u001b[43mresponse_kw\u001b[49m\u001b[43m,\u001b[49m\n\u001b[1;32m    806\u001b[0m \u001b[43m\u001b[49m\u001b[43m)\u001b[49m\n\u001b[1;32m    808\u001b[0m \u001b[38;5;66;03m# Everything went great!\u001b[39;00m\n\u001b[1;32m    809\u001b[0m clean_exit \u001b[38;5;241m=\u001b[39m \u001b[38;5;28;01mTrue\u001b[39;00m\n",
      "File \u001b[0;32m~/.local/share/virtualenvs/locations-P9hdnGxc/lib/python3.9/site-packages/urllib3/connectionpool.py:537\u001b[0m, in \u001b[0;36mHTTPConnectionPool._make_request\u001b[0;34m(self, conn, method, url, body, headers, retries, timeout, chunked, response_conn, preload_content, decode_content, enforce_content_length)\u001b[0m\n\u001b[1;32m    535\u001b[0m \u001b[38;5;66;03m# Receive the response from the server\u001b[39;00m\n\u001b[1;32m    536\u001b[0m \u001b[38;5;28;01mtry\u001b[39;00m:\n\u001b[0;32m--> 537\u001b[0m     response \u001b[38;5;241m=\u001b[39m \u001b[43mconn\u001b[49m\u001b[38;5;241;43m.\u001b[39;49m\u001b[43mgetresponse\u001b[49m\u001b[43m(\u001b[49m\u001b[43m)\u001b[49m\n\u001b[1;32m    538\u001b[0m \u001b[38;5;28;01mexcept\u001b[39;00m (BaseSSLError, \u001b[38;5;167;01mOSError\u001b[39;00m) \u001b[38;5;28;01mas\u001b[39;00m e:\n\u001b[1;32m    539\u001b[0m     \u001b[38;5;28mself\u001b[39m\u001b[38;5;241m.\u001b[39m_raise_timeout(err\u001b[38;5;241m=\u001b[39me, url\u001b[38;5;241m=\u001b[39murl, timeout_value\u001b[38;5;241m=\u001b[39mread_timeout)\n",
      "File \u001b[0;32m~/.local/share/virtualenvs/locations-P9hdnGxc/lib/python3.9/site-packages/urllib3/connection.py:466\u001b[0m, in \u001b[0;36mHTTPConnection.getresponse\u001b[0;34m(self)\u001b[0m\n\u001b[1;32m    463\u001b[0m \u001b[38;5;28;01mfrom\u001b[39;00m \u001b[38;5;21;01m.\u001b[39;00m\u001b[38;5;21;01mresponse\u001b[39;00m \u001b[38;5;28;01mimport\u001b[39;00m HTTPResponse\n\u001b[1;32m    465\u001b[0m \u001b[38;5;66;03m# Get the response from http.client.HTTPConnection\u001b[39;00m\n\u001b[0;32m--> 466\u001b[0m httplib_response \u001b[38;5;241m=\u001b[39m \u001b[38;5;28;43msuper\u001b[39;49m\u001b[43m(\u001b[49m\u001b[43m)\u001b[49m\u001b[38;5;241;43m.\u001b[39;49m\u001b[43mgetresponse\u001b[49m\u001b[43m(\u001b[49m\u001b[43m)\u001b[49m\n\u001b[1;32m    468\u001b[0m \u001b[38;5;28;01mtry\u001b[39;00m:\n\u001b[1;32m    469\u001b[0m     assert_header_parsing(httplib_response\u001b[38;5;241m.\u001b[39mmsg)\n",
      "File \u001b[0;32m~/.pyenv/versions/3.9.15/lib/python3.9/http/client.py:1377\u001b[0m, in \u001b[0;36mHTTPConnection.getresponse\u001b[0;34m(self)\u001b[0m\n\u001b[1;32m   1375\u001b[0m \u001b[38;5;28;01mtry\u001b[39;00m:\n\u001b[1;32m   1376\u001b[0m     \u001b[38;5;28;01mtry\u001b[39;00m:\n\u001b[0;32m-> 1377\u001b[0m         \u001b[43mresponse\u001b[49m\u001b[38;5;241;43m.\u001b[39;49m\u001b[43mbegin\u001b[49m\u001b[43m(\u001b[49m\u001b[43m)\u001b[49m\n\u001b[1;32m   1378\u001b[0m     \u001b[38;5;28;01mexcept\u001b[39;00m \u001b[38;5;167;01mConnectionError\u001b[39;00m:\n\u001b[1;32m   1379\u001b[0m         \u001b[38;5;28mself\u001b[39m\u001b[38;5;241m.\u001b[39mclose()\n",
      "File \u001b[0;32m~/.pyenv/versions/3.9.15/lib/python3.9/http/client.py:320\u001b[0m, in \u001b[0;36mHTTPResponse.begin\u001b[0;34m(self)\u001b[0m\n\u001b[1;32m    318\u001b[0m \u001b[38;5;66;03m# read until we get a non-100 response\u001b[39;00m\n\u001b[1;32m    319\u001b[0m \u001b[38;5;28;01mwhile\u001b[39;00m \u001b[38;5;28;01mTrue\u001b[39;00m:\n\u001b[0;32m--> 320\u001b[0m     version, status, reason \u001b[38;5;241m=\u001b[39m \u001b[38;5;28;43mself\u001b[39;49m\u001b[38;5;241;43m.\u001b[39;49m\u001b[43m_read_status\u001b[49m\u001b[43m(\u001b[49m\u001b[43m)\u001b[49m\n\u001b[1;32m    321\u001b[0m     \u001b[38;5;28;01mif\u001b[39;00m status \u001b[38;5;241m!=\u001b[39m CONTINUE:\n\u001b[1;32m    322\u001b[0m         \u001b[38;5;28;01mbreak\u001b[39;00m\n",
      "File \u001b[0;32m~/.pyenv/versions/3.9.15/lib/python3.9/http/client.py:281\u001b[0m, in \u001b[0;36mHTTPResponse._read_status\u001b[0;34m(self)\u001b[0m\n\u001b[1;32m    280\u001b[0m \u001b[38;5;28;01mdef\u001b[39;00m \u001b[38;5;21m_read_status\u001b[39m(\u001b[38;5;28mself\u001b[39m):\n\u001b[0;32m--> 281\u001b[0m     line \u001b[38;5;241m=\u001b[39m \u001b[38;5;28mstr\u001b[39m(\u001b[38;5;28;43mself\u001b[39;49m\u001b[38;5;241;43m.\u001b[39;49m\u001b[43mfp\u001b[49m\u001b[38;5;241;43m.\u001b[39;49m\u001b[43mreadline\u001b[49m\u001b[43m(\u001b[49m\u001b[43m_MAXLINE\u001b[49m\u001b[43m \u001b[49m\u001b[38;5;241;43m+\u001b[39;49m\u001b[43m \u001b[49m\u001b[38;5;241;43m1\u001b[39;49m\u001b[43m)\u001b[49m, \u001b[38;5;124m\"\u001b[39m\u001b[38;5;124miso-8859-1\u001b[39m\u001b[38;5;124m\"\u001b[39m)\n\u001b[1;32m    282\u001b[0m     \u001b[38;5;28;01mif\u001b[39;00m \u001b[38;5;28mlen\u001b[39m(line) \u001b[38;5;241m>\u001b[39m _MAXLINE:\n\u001b[1;32m    283\u001b[0m         \u001b[38;5;28;01mraise\u001b[39;00m LineTooLong(\u001b[38;5;124m\"\u001b[39m\u001b[38;5;124mstatus line\u001b[39m\u001b[38;5;124m\"\u001b[39m)\n",
      "File \u001b[0;32m~/.pyenv/versions/3.9.15/lib/python3.9/socket.py:704\u001b[0m, in \u001b[0;36mSocketIO.readinto\u001b[0;34m(self, b)\u001b[0m\n\u001b[1;32m    702\u001b[0m \u001b[38;5;28;01mwhile\u001b[39;00m \u001b[38;5;28;01mTrue\u001b[39;00m:\n\u001b[1;32m    703\u001b[0m     \u001b[38;5;28;01mtry\u001b[39;00m:\n\u001b[0;32m--> 704\u001b[0m         \u001b[38;5;28;01mreturn\u001b[39;00m \u001b[38;5;28;43mself\u001b[39;49m\u001b[38;5;241;43m.\u001b[39;49m\u001b[43m_sock\u001b[49m\u001b[38;5;241;43m.\u001b[39;49m\u001b[43mrecv_into\u001b[49m\u001b[43m(\u001b[49m\u001b[43mb\u001b[49m\u001b[43m)\u001b[49m\n\u001b[1;32m    705\u001b[0m     \u001b[38;5;28;01mexcept\u001b[39;00m timeout:\n\u001b[1;32m    706\u001b[0m         \u001b[38;5;28mself\u001b[39m\u001b[38;5;241m.\u001b[39m_timeout_occurred \u001b[38;5;241m=\u001b[39m \u001b[38;5;28;01mTrue\u001b[39;00m\n",
      "File \u001b[0;32m~/.pyenv/versions/3.9.15/lib/python3.9/ssl.py:1242\u001b[0m, in \u001b[0;36mSSLSocket.recv_into\u001b[0;34m(self, buffer, nbytes, flags)\u001b[0m\n\u001b[1;32m   1238\u001b[0m     \u001b[38;5;28;01mif\u001b[39;00m flags \u001b[38;5;241m!=\u001b[39m \u001b[38;5;241m0\u001b[39m:\n\u001b[1;32m   1239\u001b[0m         \u001b[38;5;28;01mraise\u001b[39;00m \u001b[38;5;167;01mValueError\u001b[39;00m(\n\u001b[1;32m   1240\u001b[0m           \u001b[38;5;124m\"\u001b[39m\u001b[38;5;124mnon-zero flags not allowed in calls to recv_into() on \u001b[39m\u001b[38;5;132;01m%s\u001b[39;00m\u001b[38;5;124m\"\u001b[39m \u001b[38;5;241m%\u001b[39m\n\u001b[1;32m   1241\u001b[0m           \u001b[38;5;28mself\u001b[39m\u001b[38;5;241m.\u001b[39m\u001b[38;5;18m__class__\u001b[39m)\n\u001b[0;32m-> 1242\u001b[0m     \u001b[38;5;28;01mreturn\u001b[39;00m \u001b[38;5;28;43mself\u001b[39;49m\u001b[38;5;241;43m.\u001b[39;49m\u001b[43mread\u001b[49m\u001b[43m(\u001b[49m\u001b[43mnbytes\u001b[49m\u001b[43m,\u001b[49m\u001b[43m \u001b[49m\u001b[43mbuffer\u001b[49m\u001b[43m)\u001b[49m\n\u001b[1;32m   1243\u001b[0m \u001b[38;5;28;01melse\u001b[39;00m:\n\u001b[1;32m   1244\u001b[0m     \u001b[38;5;28;01mreturn\u001b[39;00m \u001b[38;5;28msuper\u001b[39m()\u001b[38;5;241m.\u001b[39mrecv_into(buffer, nbytes, flags)\n",
      "File \u001b[0;32m~/.pyenv/versions/3.9.15/lib/python3.9/ssl.py:1100\u001b[0m, in \u001b[0;36mSSLSocket.read\u001b[0;34m(self, len, buffer)\u001b[0m\n\u001b[1;32m   1098\u001b[0m \u001b[38;5;28;01mtry\u001b[39;00m:\n\u001b[1;32m   1099\u001b[0m     \u001b[38;5;28;01mif\u001b[39;00m buffer \u001b[38;5;129;01mis\u001b[39;00m \u001b[38;5;129;01mnot\u001b[39;00m \u001b[38;5;28;01mNone\u001b[39;00m:\n\u001b[0;32m-> 1100\u001b[0m         \u001b[38;5;28;01mreturn\u001b[39;00m \u001b[38;5;28;43mself\u001b[39;49m\u001b[38;5;241;43m.\u001b[39;49m\u001b[43m_sslobj\u001b[49m\u001b[38;5;241;43m.\u001b[39;49m\u001b[43mread\u001b[49m\u001b[43m(\u001b[49m\u001b[38;5;28;43mlen\u001b[39;49m\u001b[43m,\u001b[49m\u001b[43m \u001b[49m\u001b[43mbuffer\u001b[49m\u001b[43m)\u001b[49m\n\u001b[1;32m   1101\u001b[0m     \u001b[38;5;28;01melse\u001b[39;00m:\n\u001b[1;32m   1102\u001b[0m         \u001b[38;5;28;01mreturn\u001b[39;00m \u001b[38;5;28mself\u001b[39m\u001b[38;5;241m.\u001b[39m_sslobj\u001b[38;5;241m.\u001b[39mread(\u001b[38;5;28mlen\u001b[39m)\n",
      "\u001b[0;31mKeyboardInterrupt\u001b[0m: "
     ]
    }
   ],
   "source": [
    "logging.basicConfig(level=logging.INFO)\n",
    "\n",
    "\n",
    "def scrape_store_details(store_url):\n",
    "    try:\n",
    "        response = requests.get(store_url, headers=headers)\n",
    "        response.raise_for_status()  # Raise exception for 4XX and 5XX status codes\n",
    "        soup = BeautifulSoup(response.text, \"html.parser\")\n",
    "        script_content = soup.find(\"script\", id=\"__NEXT_DATA__\").string\n",
    "        if script_content:\n",
    "            store_detail = json.loads(script_content)[\"props\"][\"pageProps\"][\n",
    "                \"initialData\"\n",
    "            ][\"initialDataNodeDetail\"][\"data\"][\"nodeDetail\"]\n",
    "            id = store_detail[\"id\"]\n",
    "            displayName = store_detail[\"displayName\"]\n",
    "            type = store_detail[\"type\"]\n",
    "            phoneNumber = store_detail[\"phoneNumber\"]\n",
    "            name = store_detail[\"name\"]\n",
    "            open24Hours = store_detail[\"open24Hours\"]\n",
    "            street = store_detail[\"address\"][\"addressLineOne\"]\n",
    "            state = store_detail[\"address\"][\"state\"]\n",
    "            city = store_detail[\"address\"][\"city\"]\n",
    "            zip_code = store_detail[\"address\"][\"postalCode\"]\n",
    "            geo_point = store_detail[\"geoPoint\"]\n",
    "\n",
    "            store_details_dict = {\n",
    "                \"id\": id,\n",
    "                \"displayName\": displayName,\n",
    "                \"type\": type,\n",
    "                \"phoneNumber\": phoneNumber,\n",
    "                \"name\": name,\n",
    "                \"open24Hours\": open24Hours,\n",
    "                \"street\": street,\n",
    "                \"city\": city,\n",
    "                \"state\": state,\n",
    "                \"zip\": zip_code,\n",
    "                \"geoPoint\": geo_point,\n",
    "            }\n",
    "            return store_details_dict\n",
    "        else:\n",
    "            logging.error(f\"No script content found for URL: {store_url}\")\n",
    "            return None\n",
    "    except Exception as e:\n",
    "        logging.error(f\"Error scraping data from {store_url}: {e}\")\n",
    "        return None\n",
    "\n",
    "\n",
    "store_details = []\n",
    "\n",
    "for store_url in tqdm(store_urls):\n",
    "    store_detail = scrape_store_details(store_url)\n",
    "    if store_detail:\n",
    "        store_details.append(store_detail)\n",
    "        sleep(randint(4,8))"
   ]
  },
  {
   "cell_type": "markdown",
   "id": "88d17647-b988-4b17-bc70-aae234269ed6",
   "metadata": {},
   "source": [
    "#### Put the store details into a dataframe"
   ]
  },
  {
   "cell_type": "code",
   "execution_count": null,
   "id": "9b3809d1-ff8d-462f-b532-3539e6c8aecb",
   "metadata": {},
   "outputs": [],
   "source": [
    "src = pd.DataFrame(store_details)"
   ]
  },
  {
   "cell_type": "code",
   "execution_count": null,
   "id": "97018fcb-2b94-4b02-8949-3f39963464af",
   "metadata": {},
   "outputs": [],
   "source": [
    "src[[\"latitude\", \"longitude\"]] = pd.json_normalize(src[\"geoPoint\"])"
   ]
  },
  {
   "cell_type": "code",
   "execution_count": null,
   "id": "b2912468-da03-4df9-b0c0-98ef5e0b8e01",
   "metadata": {},
   "outputs": [],
   "source": [
    "df = src.copy()"
   ]
  },
  {
   "cell_type": "code",
   "execution_count": null,
   "id": "e3020b94-9034-46ea-90a9-5fed9c35f845",
   "metadata": {},
   "outputs": [],
   "source": [
    "len(df)"
   ]
  },
  {
   "cell_type": "markdown",
   "id": "1b0134b9-0b53-41ae-a498-891b729ac265",
   "metadata": {},
   "source": [
    "#### Create a mapping of state abbreviations to full state names using the us library"
   ]
  },
  {
   "cell_type": "code",
   "execution_count": null,
   "id": "18485bc1-ac20-4715-b117-2ffc36a4de10",
   "metadata": {},
   "outputs": [],
   "source": [
    "state_mapping = {state.abbr: state.name for state in us.states.STATES}"
   ]
  },
  {
   "cell_type": "markdown",
   "id": "02a07567-2cda-40d0-a1db-9f51fdb03a67",
   "metadata": {},
   "source": [
    "#### New column of full state names based on abbreviations"
   ]
  },
  {
   "cell_type": "code",
   "execution_count": null,
   "id": "9441686d-45ba-42cf-bf3e-10116ccb8bef",
   "metadata": {},
   "outputs": [],
   "source": [
    "df[\"state_name\"] = df[\"state\"].map(state_mapping)"
   ]
  },
  {
   "cell_type": "markdown",
   "id": "e836582d-ef21-4876-bfc3-f8298a077b3c",
   "metadata": {},
   "source": [
    "---"
   ]
  },
  {
   "cell_type": "markdown",
   "id": "e9398ab6-73bc-421d-ab31-2e0b625fe541",
   "metadata": {},
   "source": [
    "## Geography"
   ]
  },
  {
   "cell_type": "markdown",
   "id": "2aa8f487-ab80-4d32-84df-651304cd9523",
   "metadata": {},
   "source": [
    "#### Make it a geodataframe"
   ]
  },
  {
   "cell_type": "code",
   "execution_count": null,
   "id": "920e5fe7-a6fd-4a10-97f0-c1dd0b7bef72",
   "metadata": {},
   "outputs": [],
   "source": [
    "df_geo = df.copy()"
   ]
  },
  {
   "cell_type": "code",
   "execution_count": null,
   "id": "4072e19f-2567-427d-82d5-2c8a925278da",
   "metadata": {},
   "outputs": [],
   "source": [
    "gdf = gpd.GeoDataFrame(\n",
    "    df_geo, geometry=gpd.points_from_xy(df_geo.longitude, df_geo.latitude)\n",
    ")"
   ]
  },
  {
   "cell_type": "markdown",
   "id": "67db45d5-afdf-4347-a2a0-da8aa3728779",
   "metadata": {},
   "source": [
    "---"
   ]
  },
  {
   "cell_type": "markdown",
   "id": "b3c311f9-dd29-4524-8932-67858cd3cec0",
   "metadata": {},
   "source": [
    "## Maps"
   ]
  },
  {
   "cell_type": "markdown",
   "id": "93b0579e-620d-4a08-afd8-ad489be0557e",
   "metadata": {},
   "source": [
    "#### US states background"
   ]
  },
  {
   "cell_type": "code",
   "execution_count": null,
   "id": "95c369d7-8a64-4f49-a05f-79c444cf4e28",
   "metadata": {},
   "outputs": [],
   "source": [
    "background = (\n",
    "    alt.Chart(alt.topo_feature(data.us_10m.url, feature=\"states\"))\n",
    "    .mark_geoshape(fill=\"#e9e9e9\", stroke=\"white\")\n",
    "    .properties(width=800, height=500, title=f\"{place_formal} locations\")\n",
    "    .project(\"albersUsa\")\n",
    ")"
   ]
  },
  {
   "cell_type": "markdown",
   "id": "a914fc11-a8c6-49d1-96d2-8b5f83b01cc7",
   "metadata": {},
   "source": [
    "#### Location points map"
   ]
  },
  {
   "cell_type": "code",
   "execution_count": null,
   "id": "b624cc2f-c724-4849-9a4b-761258a3f8ad",
   "metadata": {},
   "outputs": [],
   "source": [
    "points = (\n",
    "    alt.Chart(gdf)\n",
    "    .mark_circle(size=5, color=color)\n",
    "    .encode(\n",
    "        longitude=\"longitude:Q\",\n",
    "        latitude=\"latitude:Q\",\n",
    "    )\n",
    ")\n",
    "\n",
    "point_map = background + points\n",
    "point_map.configure_view(stroke=None)"
   ]
  },
  {
   "cell_type": "markdown",
   "id": "0a1fbe27-c0ed-4536-822f-ff6d64d9a78a",
   "metadata": {},
   "source": [
    "#### Location proportional symbols map"
   ]
  },
  {
   "cell_type": "code",
   "execution_count": null,
   "id": "6cdad978-98db-4088-9286-662c92824fd5",
   "metadata": {},
   "outputs": [],
   "source": [
    "symbols = (\n",
    "    alt.Chart(gdf)\n",
    "    .transform_aggregate(\n",
    "        latitude=\"mean(latitude)\",\n",
    "        longitude=\"mean(longitude)\",\n",
    "        count=\"count()\",\n",
    "        groupby=[\"state\"],\n",
    "    )\n",
    "    .mark_circle()\n",
    "    .encode(\n",
    "        longitude=\"longitude:Q\",\n",
    "        latitude=\"latitude:Q\",\n",
    "        size=alt.Size(\"count:Q\", title=\"Count by state\"),\n",
    "        color=alt.value(color),\n",
    "        tooltip=[\"state:N\", \"count:Q\"],\n",
    "    )\n",
    "    .properties(\n",
    "        title=f\"Number of {place_formal} in US, by average lon/lat of locations\"\n",
    "    )\n",
    ")\n",
    "\n",
    "symbol_map = background + symbols\n",
    "symbol_map.configure_view(stroke=None)"
   ]
  },
  {
   "cell_type": "markdown",
   "id": "15b9c879-2480-49f4-99e7-6adc1a4c10aa",
   "metadata": {},
   "source": [
    "---"
   ]
  },
  {
   "cell_type": "markdown",
   "id": "41af18db-4aeb-4259-a7c1-b52471eb8693",
   "metadata": {},
   "source": [
    "## Exports"
   ]
  },
  {
   "cell_type": "markdown",
   "id": "e3831fb4-1062-4cab-9730-933ff07e01f0",
   "metadata": {},
   "source": [
    "#### JSON"
   ]
  },
  {
   "cell_type": "code",
   "execution_count": null,
   "id": "e1e78a42-ba8a-49aa-a699-58e33fa204d0",
   "metadata": {},
   "outputs": [],
   "source": [
    "df.to_json(\n",
    "    f\"data/processed/{place.lower().replace(' ', '_')}_locations.json\",\n",
    "    indent=4,\n",
    "    orient=\"records\",\n",
    ")"
   ]
  },
  {
   "cell_type": "markdown",
   "id": "d737f808-9d71-4f25-8cd1-3fcedc45ab63",
   "metadata": {},
   "source": [
    "#### CSV"
   ]
  },
  {
   "cell_type": "code",
   "execution_count": null,
   "id": "0504831b-4df4-4ff2-bd26-f08ef7ca9198",
   "metadata": {},
   "outputs": [],
   "source": [
    "df.to_csv(\n",
    "    f\"data/processed/{place.lower().replace(' ', '_')}_locations.csv\", index=False\n",
    ")"
   ]
  },
  {
   "cell_type": "markdown",
   "id": "eb8769bc-1de1-40d0-9b7b-4892893606ee",
   "metadata": {},
   "source": [
    "#### GeoJSON"
   ]
  },
  {
   "cell_type": "code",
   "execution_count": null,
   "id": "3aaff910-d7a8-4b73-acdf-6b49e09bbe2f",
   "metadata": {},
   "outputs": [],
   "source": [
    "gdf.to_file(\n",
    "    f\"data/processed/{place.lower().replace(' ', '_')}_locations.geojson\",\n",
    "    driver=\"GeoJSON\",\n",
    ")"
   ]
  }
 ],
 "metadata": {
  "kernelspec": {
   "display_name": "Python 3 (ipykernel)",
   "language": "python",
   "name": "python3"
  },
  "language_info": {
   "codemirror_mode": {
    "name": "ipython",
    "version": 3
   },
   "file_extension": ".py",
   "mimetype": "text/x-python",
   "name": "python",
   "nbconvert_exporter": "python",
   "pygments_lexer": "ipython3",
   "version": "3.9.15"
  }
 },
 "nbformat": 4,
 "nbformat_minor": 5
}
