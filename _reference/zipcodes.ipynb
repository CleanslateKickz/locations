{
 "cells": [
  {
   "cell_type": "markdown",
   "id": "0fdd4e16-e062-4146-9c40-05a340ecc972",
   "metadata": {},
   "source": [
    "# ZIP Codes"
   ]
  },
  {
   "cell_type": "markdown",
   "id": "2cd6a4cf-3892-4cc9-97de-84f87dc86d7d",
   "metadata": {},
   "source": [
    "#### Load Python tools and Jupyter config"
   ]
  },
  {
   "cell_type": "code",
   "execution_count": 1,
   "id": "d51c4622-7e4d-44e5-99d4-a8c01e8a611f",
   "metadata": {},
   "outputs": [],
   "source": [
    "import us\n",
    "import json\n",
    "import requests\n",
    "import numpy as np\n",
    "import pandas as pd\n",
    "import jupyter_black\n",
    "import altair as alt\n",
    "import geopandas as gpd\n",
    "from bs4 import BeautifulSoup\n",
    "from vega_datasets import data\n",
    "import matplotlib.pyplot as plt\n",
    "from sklearn.cluster import DBSCAN\n",
    "from shapely.geometry import Point, MultiPoint\n",
    "from geopandas.tools import sjoin\n",
    "from tqdm.notebook import tqdm, trange"
   ]
  },
  {
   "cell_type": "code",
   "execution_count": 2,
   "id": "3ef9eefb-2887-4a07-995d-eb12d1dd251d",
   "metadata": {},
   "outputs": [
    {
     "data": {
      "text/html": [
       "\n",
       "                <script type=\"application/javascript\" id=\"jupyter_black\">\n",
       "                (function() {\n",
       "                    if (window.IPython === undefined) {\n",
       "                        return\n",
       "                    }\n",
       "                    var msg = \"WARNING: it looks like you might have loaded \" +\n",
       "                        \"jupyter_black in a non-lab notebook with \" +\n",
       "                        \"`is_lab=True`. Please double check, and if \" +\n",
       "                        \"loading with `%load_ext` please review the README!\"\n",
       "                    console.log(msg)\n",
       "                    alert(msg)\n",
       "                })()\n",
       "                </script>\n",
       "                "
      ],
      "text/plain": [
       "<IPython.core.display.HTML object>"
      ]
     },
     "metadata": {},
     "output_type": "display_data"
    }
   ],
   "source": [
    "jupyter_black.load()\n",
    "pd.options.display.max_columns = 100\n",
    "pd.options.display.max_rows = 1000\n",
    "# pd.options.display.max_colwidth = None"
   ]
  },
  {
   "cell_type": "markdown",
   "id": "18df54c6-5362-4f8a-a63f-05bd5ffa63d9",
   "metadata": {},
   "source": [
    "---"
   ]
  },
  {
   "cell_type": "markdown",
   "id": "3bbfd20b-7936-4f21-a091-697fca808ab1",
   "metadata": {},
   "source": [
    "## Scrape"
   ]
  },
  {
   "cell_type": "markdown",
   "id": "70c799af-d3be-4577-96fa-ba056f433607",
   "metadata": {},
   "source": [
    "#### Headers for request"
   ]
  },
  {
   "cell_type": "code",
   "execution_count": 3,
   "id": "d8cada9a-c1b9-4712-974a-f07f9a322104",
   "metadata": {},
   "outputs": [],
   "source": [
    "gdf = gpd.read_file(\"data/zips_centroids.geojson\")[\n",
    "    [\n",
    "        \"ID\",\n",
    "        \"NAME\",\n",
    "        \"STATE_NAME\",\n",
    "        \"ST_ABBREV\",\n",
    "        \"TOTPOP_CY\",\n",
    "        \"geometry\",\n",
    "    ]\n",
    "].rename(\n",
    "    columns={\n",
    "        \"ID\": \"zipcode\",\n",
    "        \"NAME\": \"name\",\n",
    "        \"STATE_NAME\": \"state_name\",\n",
    "        \"ST_ABBREV\": \"state\",\n",
    "        \"TOTPOP_CY\": \"pop\",\n",
    "    }\n",
    ")"
   ]
  },
  {
   "cell_type": "code",
   "execution_count": 4,
   "id": "814a9b3d-c924-4f56-a087-045a54a80064",
   "metadata": {},
   "outputs": [],
   "source": [
    "# Step 1: Ensure your GeoDataFrame is in a suitable CRS for distance calculations\n",
    "# Reproject to a projection that accurately measures distances, such as Albers Equal Area for the US\n",
    "gdf = gdf.to_crs(epsg=5070)  # EPSG:5070 is Albers Equal Area for the contiguous US\n",
    "gdf = gdf[pd.notnull(gdf[\"geometry\"])]"
   ]
  },
  {
   "cell_type": "code",
   "execution_count": 5,
   "id": "1a3afe97-aabf-4ff1-a82c-74d532e40237",
   "metadata": {},
   "outputs": [
    {
     "name": "stderr",
     "output_type": "stream",
     "text": [
      "/var/folders/k0/l0l0k9f50w7cg_phqmhkhybm0000gx/T/ipykernel_33738/1015614764.py:35: DeprecationWarning: DataFrameGroupBy.apply operated on the grouping columns. This behavior is deprecated, and in a future version of pandas the grouping columns will be excluded from the operation. Either pass `include_groups=False` to exclude the groupings or explicitly select the grouping columns after groupby to silence this warning.\n",
      "  gdf_contiguous.groupby(\"cluster\")\n"
     ]
    }
   ],
   "source": [
    "import geopandas as gpd\n",
    "import numpy as np\n",
    "from sklearn.cluster import DBSCAN\n",
    "\n",
    "# Assuming 'gdf' is your original GeoDataFrame and it includes a 'state' column\n",
    "\n",
    "# Exclude Hawaii ('HI') and Alaska ('AK') from the analysis\n",
    "gdf_contiguous = gdf[~gdf[\"state\"].isin([\"HI\", \"AK\"])]\n",
    "\n",
    "# Ensure your GeoDataFrame is in a suitable CRS for accurate distance calculations (e.g., EPSG:5070 for the US)\n",
    "gdf_contiguous = gdf_contiguous.to_crs(epsg=5070)\n",
    "\n",
    "# Prepare coordinates for DBSCAN\n",
    "coords = np.array(list(zip(gdf_contiguous.geometry.x, gdf_contiguous.geometry.y)))\n",
    "\n",
    "# Run DBSCAN to cluster ZIP code centroids based on a 50-mile radius\n",
    "db = DBSCAN(eps=80467, min_samples=1, metric=\"euclidean\").fit(coords)\n",
    "\n",
    "# Assign cluster labels to the GeoDataFrame\n",
    "gdf_contiguous[\"cluster\"] = db.labels_\n",
    "\n",
    "\n",
    "# Define a function to select a representative point for each cluster\n",
    "def get_representative_point(group):\n",
    "    if len(group) > 1:\n",
    "        # If there are multiple points, choose the point closest to the cluster's centroid for better representation\n",
    "        cluster_centroid = group.unary_union.centroid\n",
    "        closest_point = group.distance(cluster_centroid).idxmin()\n",
    "        return group.loc[[closest_point]]\n",
    "    return group.iloc[[0]]\n",
    "\n",
    "\n",
    "# Select representative ZIP codes for each cluster\n",
    "representative_zip_codes = (\n",
    "    gdf_contiguous.groupby(\"cluster\")\n",
    "    .apply(get_representative_point)\n",
    "    .reset_index(drop=True)\n",
    ").to_crs(4326)"
   ]
  },
  {
   "cell_type": "code",
   "execution_count": 6,
   "id": "0947e395-5364-43dc-8c99-8fdec8e54cf7",
   "metadata": {},
   "outputs": [],
   "source": [
    "representative_zip_codes[\"longitude\"] = representative_zip_codes.geometry.x\n",
    "representative_zip_codes[\"latitude\"] = representative_zip_codes.geometry.y"
   ]
  },
  {
   "cell_type": "code",
   "execution_count": 7,
   "id": "008f0ad1-1765-4b2f-9999-3dd6b0a6d3ad",
   "metadata": {},
   "outputs": [
    {
     "data": {
      "text/plain": [
       "90"
      ]
     },
     "execution_count": 7,
     "metadata": {},
     "output_type": "execute_result"
    }
   ],
   "source": [
    "len(representative_zip_codes)"
   ]
  },
  {
   "cell_type": "markdown",
   "id": "eb8769bc-1de1-40d0-9b7b-4892893606ee",
   "metadata": {},
   "source": [
    "#### GeoJSON"
   ]
  },
  {
   "cell_type": "code",
   "execution_count": 8,
   "id": "3aaff910-d7a8-4b73-acdf-6b49e09bbe2f",
   "metadata": {},
   "outputs": [],
   "source": [
    "representative_zip_codes.to_file(\n",
    "    f\"../_reference/representative_zip_codes_50_miles.geojson\",\n",
    "    driver=\"GeoJSON\",\n",
    ")"
   ]
  },
  {
   "cell_type": "code",
   "execution_count": 9,
   "id": "f90fee04-73cc-44c6-8afa-8e60394ec665",
   "metadata": {},
   "outputs": [],
   "source": [
    "representative_zip_codes.drop([\"geometry\"], axis=1).to_json(\n",
    "    f\"../_reference/representative_zip_codes_50_miles.json\", orient=\"records\", indent=4\n",
    ")"
   ]
  }
 ],
 "metadata": {
  "kernelspec": {
   "display_name": "Python 3 (ipykernel)",
   "language": "python",
   "name": "python3"
  },
  "language_info": {
   "codemirror_mode": {
    "name": "ipython",
    "version": 3
   },
   "file_extension": ".py",
   "mimetype": "text/x-python",
   "name": "python",
   "nbconvert_exporter": "python",
   "pygments_lexer": "ipython3",
   "version": "3.9.15"
  }
 },
 "nbformat": 4,
 "nbformat_minor": 5
}
