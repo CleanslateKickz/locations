{
 "cells": [
  {
   "cell_type": "markdown",
   "id": "0fdd4e16-e062-4146-9c40-05a340ecc972",
   "metadata": {},
   "source": [
    "# Locations metadata"
   ]
  },
  {
   "cell_type": "markdown",
   "id": "2cd6a4cf-3892-4cc9-97de-84f87dc86d7d",
   "metadata": {},
   "source": [
    "#### Load Python tools and Jupyter config"
   ]
  },
  {
   "cell_type": "code",
   "execution_count": 1,
   "id": "c3b1c77c-b670-495b-aca3-e14b06448d51",
   "metadata": {},
   "outputs": [],
   "source": [
    "import pandas as pd\n",
    "import jupyter_black\n",
    "import geopandas as gpd"
   ]
  },
  {
   "cell_type": "code",
   "execution_count": null,
   "id": "18447041-a431-48c8-bc5a-92fb9511c2e1",
   "metadata": {},
   "outputs": [],
   "source": [
    "jupyter_black.load()\n",
    "pd.options.display.max_columns = 100\n",
    "pd.options.display.max_rows = 1000\n",
    "pd.options.display.max_colwidth = None"
   ]
  },
  {
   "cell_type": "markdown",
   "id": "e084a114-a9f6-44c1-a6d9-a070b357eeb5",
   "metadata": {},
   "source": [
    "---"
   ]
  },
  {
   "cell_type": "markdown",
   "id": "3bbfd20b-7936-4f21-a091-697fca808ab1",
   "metadata": {},
   "source": [
    "## Read data"
   ]
  },
  {
   "cell_type": "markdown",
   "id": "70c799af-d3be-4577-96fa-ba056f433607",
   "metadata": {},
   "source": [
    "#### All the locations"
   ]
  },
  {
   "cell_type": "code",
   "execution_count": 3,
   "id": "97018fcb-2b94-4b02-8949-3f39963464af",
   "metadata": {},
   "outputs": [],
   "source": [
    "df = pd.read_csv(\n",
    "\"https://docs.google.com/spreadsheets/d/e/2PACX-1vRLPFPMzpzBFUsHhNuI-vqakoQ1qWtR-4iSOLrjXrAa5dU792ETZx0fHg1WYo14_Gj_dfessNdxXtSZ/pub?gid=0&single=true&output=csv\"\n",
    ").reset_index(drop=True)"
   ]
  },
  {
   "cell_type": "code",
   "execution_count": 5,
   "id": "b2912468-da03-4df9-b0c0-98ef5e0b8e01",
   "metadata": {},
   "outputs": [],
   "source": [
    "df[\"locations_count\"] = df[\"locations_count\"].str.replace(\",\", \"\").astype(int)"
   ]
  },
  {
   "cell_type": "markdown",
   "id": "710419cb-8e87-45c3-a04f-6ad173c5bf6f",
   "metadata": {},
   "source": [
    "#### How many rows of locations?"
   ]
  },
  {
   "cell_type": "code",
   "execution_count": null,
   "id": "8535f78d-c9e4-4db8-945c-82add58f14ca",
   "metadata": {},
   "outputs": [
    {
     "data": {
      "text/plain": [
       "116081"
      ]
     },
     "execution_count": 12,
     "metadata": {},
     "output_type": "execute_result"
    }
   ],
   "source": [
    "df[\"locations_count\"].sum()"
   ]
  },
  {
   "cell_type": "markdown",
   "id": "bb3aca13-81e0-4c79-b790-ec17e1123200",
   "metadata": {},
   "source": [
    "#### How many companies?"
   ]
  },
  {
   "cell_type": "code",
   "execution_count": null,
   "id": "9ffb5f98-c4d6-4e2b-bb7f-c6448eac81f1",
   "metadata": {},
   "outputs": [
    {
     "data": {
      "text/plain": [
       "54"
      ]
     },
     "execution_count": 11,
     "metadata": {},
     "output_type": "execute_result"
    }
   ],
   "source": [
    "len(df[\"locations_count\"].unique())"
   ]
  },
  {
   "cell_type": "code",
   "execution_count": 14,
   "id": "3db4c821-44c2-4b0b-b2d8-4882ba853ed7",
   "metadata": {},
   "outputs": [
    {
     "data": {
      "text/plain": [
       "['99 Ranch Market',\n",
       " 'Abercrombie & Fitch',\n",
       " 'Aldi',\n",
       " 'Apple Stores',\n",
       " \"Arby's\",\n",
       " 'Au Bon Pain',\n",
       " 'Bank of America',\n",
       " \"Carl's Jr.\",\n",
       " 'Chick-Fil-A',\n",
       " \"Chili's\",\n",
       " 'Chipotle',\n",
       " 'Costco',\n",
       " 'California Pizza Kitchen',\n",
       " 'Cracker Barrel',\n",
       " 'CVS',\n",
       " 'Del Taco',\n",
       " 'DSW',\n",
       " 'Dunkin Donuts',\n",
       " 'El Pollo Loco',\n",
       " 'Giant',\n",
       " \"Hardee's\",\n",
       " 'Hmart',\n",
       " 'Hollister',\n",
       " 'Home Depot',\n",
       " 'In-N-Out Burger',\n",
       " 'Jared',\n",
       " 'JCPenney',\n",
       " 'Kentucky Fried Chicken',\n",
       " 'Krispy Kreme',\n",
       " 'Kroger',\n",
       " 'Kung Fu Tea',\n",
       " \"Macy's\",\n",
       " 'Menchies',\n",
       " 'Nike Stores',\n",
       " 'PetSmart',\n",
       " 'Pei Wei',\n",
       " 'Pinkberry',\n",
       " 'Pizza Hut',\n",
       " 'Publix',\n",
       " 'Safeway',\n",
       " 'Sephora',\n",
       " 'Sonic',\n",
       " 'Shipley Do-Nuts',\n",
       " 'Starbucks',\n",
       " 'Taco Bell',\n",
       " 'TCBY',\n",
       " \"Torchy's Tacos\",\n",
       " \"Trader Joe's\",\n",
       " 'Ulta',\n",
       " 'Vons',\n",
       " \"Wahoo's\",\n",
       " 'Walgreens',\n",
       " \"Wendy's\",\n",
       " 'Whataburger',\n",
       " 'Wienerschnitzel']"
      ]
     },
     "execution_count": 14,
     "metadata": {},
     "output_type": "execute_result"
    }
   ],
   "source": [
    "df[\"company\"].to_list()"
   ]
  },
  {
   "cell_type": "code",
   "execution_count": null,
   "id": "b39a4cc6-ee64-4d05-bebd-057fd5672765",
   "metadata": {},
   "outputs": [],
   "source": []
  },
  {
   "cell_type": "code",
   "execution_count": null,
   "id": "aaa76ee0-47f8-4b61-8a89-25b4cea139f6",
   "metadata": {},
   "outputs": [],
   "source": []
  }
 ],
 "metadata": {
  "kernelspec": {
   "display_name": "Python 3 (ipykernel)",
   "language": "python",
   "name": "python3"
  },
  "language_info": {
   "codemirror_mode": {
    "name": "ipython",
    "version": 3
   },
   "file_extension": ".py",
   "mimetype": "text/x-python",
   "name": "python",
   "nbconvert_exporter": "python",
   "pygments_lexer": "ipython3",
   "version": "3.9.15"
  }
 },
 "nbformat": 4,
 "nbformat_minor": 5
}
