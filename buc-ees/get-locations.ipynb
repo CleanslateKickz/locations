{
 "cells": [
  {
   "cell_type": "markdown",
   "id": "0fdd4e16-e062-4146-9c40-05a340ecc972",
   "metadata": {},
   "source": [
    "# Get Buc-ees locations"
   ]
  },
  {
   "cell_type": "markdown",
   "id": "2cd6a4cf-3892-4cc9-97de-84f87dc86d7d",
   "metadata": {},
   "source": [
    "#### Load Python tools, Jupyter config, variables"
   ]
  },
  {
   "cell_type": "code",
   "execution_count": 1,
   "id": "16e5b7ee-2b59-4f8d-8798-1d82bb389f79",
   "metadata": {},
   "outputs": [],
   "source": [
    "import os\n",
    "import us\n",
    "import json\n",
    "import requests\n",
    "import pandas as pd\n",
    "import jupyter_black\n",
    "import altair as alt\n",
    "import geopandas as gpd\n",
    "from bs4 import BeautifulSoup\n",
    "from vega_datasets import data\n",
    "from tqdm.notebook import tqdm, trange"
   ]
  },
  {
   "cell_type": "code",
   "execution_count": 2,
   "id": "f77b62b4-4279-4eda-8fa7-5bbe6e98515e",
   "metadata": {},
   "outputs": [
    {
     "data": {
      "text/html": [
       "\n",
       "                <script type=\"application/javascript\" id=\"jupyter_black\">\n",
       "                (function() {\n",
       "                    if (window.IPython === undefined) {\n",
       "                        return\n",
       "                    }\n",
       "                    var msg = \"WARNING: it looks like you might have loaded \" +\n",
       "                        \"jupyter_black in a non-lab notebook with \" +\n",
       "                        \"`is_lab=True`. Please double check, and if \" +\n",
       "                        \"loading with `%load_ext` please review the README!\"\n",
       "                    console.log(msg)\n",
       "                    alert(msg)\n",
       "                })()\n",
       "                </script>\n",
       "                "
      ],
      "text/plain": [
       "<IPython.core.display.HTML object>"
      ]
     },
     "metadata": {},
     "output_type": "display_data"
    }
   ],
   "source": [
    "jupyter_black.load()\n",
    "pd.options.display.max_columns = 100\n",
    "pd.options.display.max_rows = 1000\n",
    "pd.options.display.max_colwidth = None"
   ]
  },
  {
   "cell_type": "code",
   "execution_count": 3,
   "id": "79d251b9-af3c-463c-a5db-f8722bf8fa40",
   "metadata": {},
   "outputs": [],
   "source": [
    "api_key = os.environ.get(\"GOOGLE_GEOCODER\")"
   ]
  },
  {
   "cell_type": "code",
   "execution_count": 4,
   "id": "65bb0a4e-7d37-4a91-af4b-a5b710c3f52d",
   "metadata": {},
   "outputs": [],
   "source": [
    "place = \"buc-ees\"\n",
    "place_formal = \"Buc-ees\"\n",
    "color = \"#D31145\""
   ]
  },
  {
   "cell_type": "markdown",
   "id": "8ceaac3b-76d8-4dfa-a0d0-a5989a44459e",
   "metadata": {},
   "source": [
    "---"
   ]
  },
  {
   "cell_type": "markdown",
   "id": "3bbfd20b-7936-4f21-a091-697fca808ab1",
   "metadata": {},
   "source": [
    "## Scrape"
   ]
  },
  {
   "cell_type": "markdown",
   "id": "70c799af-d3be-4577-96fa-ba056f433607",
   "metadata": {},
   "source": [
    "#### Headers for the request"
   ]
  },
  {
   "cell_type": "code",
   "execution_count": 5,
   "id": "bd4d1c20-0ab5-4456-81b7-661e440e8c20",
   "metadata": {},
   "outputs": [],
   "source": [
    "headers = {\n",
    "    \"user-agent\": \"Mozilla/5.0 (Macintosh; Intel Mac OS X 10_15_7) AppleWebKit/537.36 (KHTML, like Gecko) Chrome/120.0.0.0 Safari/537.36\",\n",
    "}"
   ]
  },
  {
   "cell_type": "code",
   "execution_count": 6,
   "id": "3165dc31-a0e2-44f3-a68f-4c263ab61a35",
   "metadata": {},
   "outputs": [],
   "source": [
    "response = requests.get(\"https://buc-ees.com/locations/\", headers=headers)\n",
    "soup = BeautifulSoup(response.text, \"html.parser\")"
   ]
  },
  {
   "cell_type": "markdown",
   "id": "b4be5f84-488d-473f-b7a2-6f780bd9b91a",
   "metadata": {},
   "source": [
    "#### Get store number and store in list"
   ]
  },
  {
   "cell_type": "code",
   "execution_count": 7,
   "id": "fba39bb5-7e2c-4b6b-ba32-327f64db0f74",
   "metadata": {},
   "outputs": [
    {
     "data": {
      "application/vnd.jupyter.widget-view+json": {
       "model_id": "0d0a774ef1af4c44a1456b4b0741f5a5",
       "version_major": 2,
       "version_minor": 0
      },
      "text/plain": [
       "  0%|          | 0/50 [00:00<?, ?it/s]"
      ]
     },
     "metadata": {},
     "output_type": "display_data"
    }
   ],
   "source": [
    "store_details = []\n",
    "for details in tqdm(soup.find_all(\"h4\")):\n",
    "    store_details.append(details.text.strip())"
   ]
  },
  {
   "cell_type": "markdown",
   "id": "35dabfa0-3829-413d-8ac5-e7ecc76f584b",
   "metadata": {},
   "source": [
    "#### Get 'directions' URLs and store in a list"
   ]
  },
  {
   "cell_type": "code",
   "execution_count": 8,
   "id": "a73dfd9d-16aa-42a6-96d3-54259cb60623",
   "metadata": {},
   "outputs": [
    {
     "data": {
      "application/vnd.jupyter.widget-view+json": {
       "model_id": "9d5b007206704495b2383b089d97ef4f",
       "version_major": 2,
       "version_minor": 0
      },
      "text/plain": [
       "  0%|          | 0/50 [00:00<?, ?it/s]"
      ]
     },
     "metadata": {},
     "output_type": "display_data"
    }
   ],
   "source": [
    "directions_list = []\n",
    "for address in tqdm(soup.find_all(\"div\", class_=\"bucees-location-directions\")):\n",
    "    directions_list.append(address.find(\"a\")[\"href\"])"
   ]
  },
  {
   "cell_type": "markdown",
   "id": "37444eee-6391-423a-a3c8-14d3270ad96f",
   "metadata": {},
   "source": [
    "---"
   ]
  },
  {
   "cell_type": "markdown",
   "id": "0a2efc41-3751-4880-a30b-61c9d58c3fb0",
   "metadata": {},
   "source": [
    "## Store/clean"
   ]
  },
  {
   "cell_type": "markdown",
   "id": "7c82d615-3819-4500-9d01-fc72daff7dc9",
   "metadata": {},
   "source": [
    "#### Let's get these two lists into a dataframe"
   ]
  },
  {
   "cell_type": "code",
   "execution_count": 9,
   "id": "f61e4a84-f7be-43ad-9854-89bf7ae95546",
   "metadata": {},
   "outputs": [],
   "source": [
    "src = pd.DataFrame()\n",
    "src[\"store_details\"] = pd.Series(store_details)\n",
    "src[\"url\"] = pd.Series(directions_list)"
   ]
  },
  {
   "cell_type": "markdown",
   "id": "f2c6970a-e2c4-461c-a76d-2d79b46e296f",
   "metadata": {},
   "source": [
    "#### Split out the store numbers"
   ]
  },
  {
   "cell_type": "code",
   "execution_count": 10,
   "id": "8f61281f-f0d1-49a2-b331-c9e07ce8d99c",
   "metadata": {},
   "outputs": [],
   "source": [
    "src[[\"store_number\", \"city_state\"]] = src[\"store_details\"].str.split(\" – \", expand=True)"
   ]
  },
  {
   "cell_type": "markdown",
   "id": "f7d9e02d-c757-4b94-8bdc-610a8ce7e8b4",
   "metadata": {},
   "source": [
    "#### Split the Google Maps urls to parse the address"
   ]
  },
  {
   "cell_type": "code",
   "execution_count": 11,
   "id": "539c030b-c55e-4d7e-802e-59ab62a43c71",
   "metadata": {},
   "outputs": [],
   "source": [
    "src[\"address_full\"] = src[\"url\"].str.split(\"/\", expand=True)[5]"
   ]
  },
  {
   "cell_type": "code",
   "execution_count": 12,
   "id": "6745b963-d5d7-4382-8621-77664ca31f68",
   "metadata": {},
   "outputs": [],
   "source": [
    "src[[\"street\", \"city\", \"state_name\", \"zip\"]] = src[\"address_full\"].str.split(\n",
    "    \"+\", expand=True\n",
    ")"
   ]
  },
  {
   "cell_type": "markdown",
   "id": "aa78a1af-199f-4517-8030-4820c6559139",
   "metadata": {},
   "source": [
    "#### Just the columns we need"
   ]
  },
  {
   "cell_type": "code",
   "execution_count": 13,
   "id": "76d9fc9e-4374-491e-83d1-2b03dcaaef14",
   "metadata": {},
   "outputs": [],
   "source": [
    "df = src[[\"store_number\", \"street\", \"city\", \"state_name\", \"zip\", \"url\"]].copy()"
   ]
  },
  {
   "cell_type": "markdown",
   "id": "8e4f48be-df5a-4172-83e2-6ed887bdd7dd",
   "metadata": {},
   "source": [
    "---"
   ]
  },
  {
   "cell_type": "markdown",
   "id": "49c15703-ba86-4dae-b100-23e34bcd6594",
   "metadata": {},
   "source": [
    "## Geocode"
   ]
  },
  {
   "cell_type": "markdown",
   "id": "69a0b7e0-7d09-4ea0-a3be-587fa35aeaad",
   "metadata": {},
   "source": [
    "#### Create a list of URLs with addresses for geocoding"
   ]
  },
  {
   "cell_type": "code",
   "execution_count": 14,
   "id": "9204e544-dd3c-4cca-97ff-44994e76a5a3",
   "metadata": {},
   "outputs": [],
   "source": [
    "url_list = df[\"url\"].to_list()"
   ]
  },
  {
   "cell_type": "markdown",
   "id": "ecf2ff81-d4d9-464e-81c8-ed553e540abf",
   "metadata": {},
   "source": [
    "#### Iterate through the URLs and get coordinates using the [Google Geocoding API](https://developers.google.com/maps/documentation/geocoding/overview). \n",
    "> You need a key in your local environment. *See `api_key` above.*"
   ]
  },
  {
   "cell_type": "code",
   "execution_count": 15,
   "id": "6ba6bc0a-e681-478d-a8ce-877b5c771192",
   "metadata": {},
   "outputs": [
    {
     "data": {
      "application/vnd.jupyter.widget-view+json": {
       "model_id": "1dd3b406d6894f0b87510f2fbf93220d",
       "version_major": 2,
       "version_minor": 0
      },
      "text/plain": [
       "  0%|          | 0/50 [00:00<?, ?it/s]"
      ]
     },
     "metadata": {},
     "output_type": "display_data"
    }
   ],
   "source": [
    "latitudes = []\n",
    "longitudes = []\n",
    "\n",
    "if not api_key:\n",
    "    raise ValueError(\"Google Geocoder API key not found in environment variables.\")\n",
    "\n",
    "for url in tqdm(url_list):\n",
    "    address = url.split(\"/maps/search/\")[1]\n",
    "    base_url = \"https://maps.googleapis.com/maps/api/geocode/json\"\n",
    "    params = {\"address\": address.replace(\" \", \"+\"), \"key\": api_key}\n",
    "\n",
    "    response = requests.get(base_url, params=params).json()\n",
    "\n",
    "    if response[\"status\"] == \"OK\":\n",
    "        latitude = response[\"results\"][0][\"geometry\"][\"location\"][\"lat\"]\n",
    "        longitude = response[\"results\"][0][\"geometry\"][\"location\"][\"lng\"]\n",
    "        latitudes.append(latitude)\n",
    "        longitudes.append(longitude)\n",
    "    else:\n",
    "        print(f\"Failed to process URL: {url}\")\n",
    "        print(f\"Status: {response['status']}\")\n",
    "        if \"error_message\" in response:\n",
    "            print(f\"Error message: {response['error_message']}\")\n",
    "        else:\n",
    "            print(\"No error message provided.\")\n",
    "\n",
    "        latitudes.append(None)\n",
    "        longitudes.append(None)"
   ]
  },
  {
   "cell_type": "markdown",
   "id": "32424fec-0d1b-4607-b6de-763e6e219f1f",
   "metadata": {},
   "source": [
    "#### Update the DataFrame with the latitude and longitude lists"
   ]
  },
  {
   "cell_type": "code",
   "execution_count": 16,
   "id": "9b6e8cef-fca4-40ba-87f3-9b632bbb855d",
   "metadata": {},
   "outputs": [],
   "source": [
    "df[\"latitude\"] = latitudes\n",
    "df[\"longitude\"] = longitudes"
   ]
  },
  {
   "cell_type": "markdown",
   "id": "98a03a37-5c0d-4621-b15f-eaf88494d4e5",
   "metadata": {},
   "source": [
    "#### We no longer need the URL column"
   ]
  },
  {
   "cell_type": "code",
   "execution_count": 17,
   "id": "f6b6fdcf-bcbd-45c8-861c-c2dd728c6a87",
   "metadata": {},
   "outputs": [],
   "source": [
    "df = df.drop(\"url\", axis=1)"
   ]
  },
  {
   "cell_type": "markdown",
   "id": "34073475-82cd-499a-a14e-def7d211199d",
   "metadata": {},
   "source": [
    "#### The result"
   ]
  },
  {
   "cell_type": "code",
   "execution_count": 18,
   "id": "88a2f53f-092d-4447-a471-e2d953796dd1",
   "metadata": {},
   "outputs": [
    {
     "data": {
      "text/html": [
       "<div>\n",
       "<style scoped>\n",
       "    .dataframe tbody tr th:only-of-type {\n",
       "        vertical-align: middle;\n",
       "    }\n",
       "\n",
       "    .dataframe tbody tr th {\n",
       "        vertical-align: top;\n",
       "    }\n",
       "\n",
       "    .dataframe thead th {\n",
       "        text-align: right;\n",
       "    }\n",
       "</style>\n",
       "<table border=\"1\" class=\"dataframe\">\n",
       "  <thead>\n",
       "    <tr style=\"text-align: right;\">\n",
       "      <th></th>\n",
       "      <th>store_number</th>\n",
       "      <th>street</th>\n",
       "      <th>city</th>\n",
       "      <th>state_name</th>\n",
       "      <th>zip</th>\n",
       "      <th>latitude</th>\n",
       "      <th>longitude</th>\n",
       "    </tr>\n",
       "  </thead>\n",
       "  <tbody>\n",
       "    <tr>\n",
       "      <th>0</th>\n",
       "      <td>#57</td>\n",
       "      <td>2328 Lindsay Lane South</td>\n",
       "      <td>Athens</td>\n",
       "      <td>Alabama</td>\n",
       "      <td>35613</td>\n",
       "      <td>34.728536</td>\n",
       "      <td>-86.932527</td>\n",
       "    </tr>\n",
       "    <tr>\n",
       "      <th>1</th>\n",
       "      <td>#58</td>\n",
       "      <td>2500 Buc-ee’s Blvd</td>\n",
       "      <td>Auburn</td>\n",
       "      <td>Alabama</td>\n",
       "      <td>36832</td>\n",
       "      <td>32.552099</td>\n",
       "      <td>-85.526638</td>\n",
       "    </tr>\n",
       "    <tr>\n",
       "      <th>2</th>\n",
       "      <td>#43</td>\n",
       "      <td>6900 Buc-ee’s Blvd.</td>\n",
       "      <td>Leeds</td>\n",
       "      <td>Alabama</td>\n",
       "      <td>35094</td>\n",
       "      <td>33.544442</td>\n",
       "      <td>-86.586590</td>\n",
       "    </tr>\n",
       "    <tr>\n",
       "      <th>3</th>\n",
       "      <td>#42</td>\n",
       "      <td>20403 County Rd. 68</td>\n",
       "      <td>Robertsdale</td>\n",
       "      <td>Alabama</td>\n",
       "      <td>36567</td>\n",
       "      <td>30.633299</td>\n",
       "      <td>-87.674553</td>\n",
       "    </tr>\n",
       "    <tr>\n",
       "      <th>4</th>\n",
       "      <td>#60</td>\n",
       "      <td>5201 Nugget Road</td>\n",
       "      <td>Berthoud</td>\n",
       "      <td>CO</td>\n",
       "      <td>80513</td>\n",
       "      <td>40.333635</td>\n",
       "      <td>-104.983357</td>\n",
       "    </tr>\n",
       "  </tbody>\n",
       "</table>\n",
       "</div>"
      ],
      "text/plain": [
       "  store_number                   street         city state_name    zip  \\\n",
       "0          #57  2328 Lindsay Lane South       Athens    Alabama  35613   \n",
       "1          #58       2500 Buc-ee’s Blvd       Auburn    Alabama  36832   \n",
       "2          #43      6900 Buc-ee’s Blvd.        Leeds    Alabama  35094   \n",
       "3          #42      20403 County Rd. 68  Robertsdale    Alabama  36567   \n",
       "4          #60         5201 Nugget Road     Berthoud         CO  80513   \n",
       "\n",
       "    latitude   longitude  \n",
       "0  34.728536  -86.932527  \n",
       "1  32.552099  -85.526638  \n",
       "2  33.544442  -86.586590  \n",
       "3  30.633299  -87.674553  \n",
       "4  40.333635 -104.983357  "
      ]
     },
     "execution_count": 18,
     "metadata": {},
     "output_type": "execute_result"
    }
   ],
   "source": [
    "df.head()"
   ]
  },
  {
   "cell_type": "markdown",
   "id": "9448d2df-a34d-46ea-9b79-0e710b9b47c3",
   "metadata": {},
   "source": [
    "#### How many locations?"
   ]
  },
  {
   "cell_type": "code",
   "execution_count": 19,
   "id": "0f6ec7ac-2a3a-43b6-bb0b-3474912ab21f",
   "metadata": {},
   "outputs": [
    {
     "data": {
      "text/plain": [
       "50"
      ]
     },
     "execution_count": 19,
     "metadata": {},
     "output_type": "execute_result"
    }
   ],
   "source": [
    "len(df)"
   ]
  },
  {
   "cell_type": "markdown",
   "id": "ef406bd4-65b5-4f26-8404-051b13a83585",
   "metadata": {},
   "source": [
    "#### Make sure our brand name gets in the dataframe"
   ]
  },
  {
   "cell_type": "code",
   "execution_count": 20,
   "id": "d447d483-318e-45a8-962d-221b8ec1982f",
   "metadata": {},
   "outputs": [],
   "source": [
    "df[\"brand\"] = place_formal"
   ]
  },
  {
   "cell_type": "markdown",
   "id": "e836582d-ef21-4876-bfc3-f8298a077b3c",
   "metadata": {},
   "source": [
    "---"
   ]
  },
  {
   "cell_type": "markdown",
   "id": "e9398ab6-73bc-421d-ab31-2e0b625fe541",
   "metadata": {},
   "source": [
    "## Geography"
   ]
  },
  {
   "cell_type": "markdown",
   "id": "2aa8f487-ab80-4d32-84df-651304cd9523",
   "metadata": {},
   "source": [
    "#### Make it a geodataframe"
   ]
  },
  {
   "cell_type": "code",
   "execution_count": 21,
   "id": "920e5fe7-a6fd-4a10-97f0-c1dd0b7bef72",
   "metadata": {},
   "outputs": [],
   "source": [
    "df_geo = df.copy()"
   ]
  },
  {
   "cell_type": "code",
   "execution_count": 22,
   "id": "4072e19f-2567-427d-82d5-2c8a925278da",
   "metadata": {},
   "outputs": [],
   "source": [
    "gdf = gpd.GeoDataFrame(\n",
    "    df_geo, geometry=gpd.points_from_xy(df_geo.longitude, df_geo.latitude)\n",
    ")"
   ]
  },
  {
   "cell_type": "markdown",
   "id": "67db45d5-afdf-4347-a2a0-da8aa3728779",
   "metadata": {},
   "source": [
    "---"
   ]
  },
  {
   "cell_type": "markdown",
   "id": "b3c311f9-dd29-4524-8932-67858cd3cec0",
   "metadata": {},
   "source": [
    "## Maps"
   ]
  },
  {
   "cell_type": "markdown",
   "id": "93b0579e-620d-4a08-afd8-ad489be0557e",
   "metadata": {},
   "source": [
    "#### US states background"
   ]
  },
  {
   "cell_type": "code",
   "execution_count": 23,
   "id": "95c369d7-8a64-4f49-a05f-79c444cf4e28",
   "metadata": {},
   "outputs": [],
   "source": [
    "background = (\n",
    "    alt.Chart(alt.topo_feature(data.us_10m.url, feature=\"states\"))\n",
    "    .mark_geoshape(fill=\"#e9e9e9\", stroke=\"white\")\n",
    "    .properties(width=800, height=500, title=f\"{place_formal} locations\")\n",
    "    .project(\"albersUsa\")\n",
    ")"
   ]
  },
  {
   "cell_type": "markdown",
   "id": "a914fc11-a8c6-49d1-96d2-8b5f83b01cc7",
   "metadata": {},
   "source": [
    "#### Location points map"
   ]
  },
  {
   "cell_type": "code",
   "execution_count": 24,
   "id": "b624cc2f-c724-4849-9a4b-761258a3f8ad",
   "metadata": {},
   "outputs": [
    {
     "data": {
      "text/html": [
       "\n",
       "<style>\n",
       "  #altair-viz-49533ca757ed4de5b4ee0db4b149b5de.vega-embed {\n",
       "    width: 100%;\n",
       "    display: flex;\n",
       "  }\n",
       "\n",
       "  #altair-viz-49533ca757ed4de5b4ee0db4b149b5de.vega-embed details,\n",
       "  #altair-viz-49533ca757ed4de5b4ee0db4b149b5de.vega-embed details summary {\n",
       "    position: relative;\n",
       "  }\n",
       "</style>\n",
       "<div id=\"altair-viz-49533ca757ed4de5b4ee0db4b149b5de\"></div>\n",
       "<script type=\"text/javascript\">\n",
       "  var VEGA_DEBUG = (typeof VEGA_DEBUG == \"undefined\") ? {} : VEGA_DEBUG;\n",
       "  (function(spec, embedOpt){\n",
       "    let outputDiv = document.currentScript.previousElementSibling;\n",
       "    if (outputDiv.id !== \"altair-viz-49533ca757ed4de5b4ee0db4b149b5de\") {\n",
       "      outputDiv = document.getElementById(\"altair-viz-49533ca757ed4de5b4ee0db4b149b5de\");\n",
       "    }\n",
       "    const paths = {\n",
       "      \"vega\": \"https://cdn.jsdelivr.net/npm/vega@5?noext\",\n",
       "      \"vega-lib\": \"https://cdn.jsdelivr.net/npm/vega-lib?noext\",\n",
       "      \"vega-lite\": \"https://cdn.jsdelivr.net/npm/vega-lite@5.16.3?noext\",\n",
       "      \"vega-embed\": \"https://cdn.jsdelivr.net/npm/vega-embed@6?noext\",\n",
       "    };\n",
       "\n",
       "    function maybeLoadScript(lib, version) {\n",
       "      var key = `${lib.replace(\"-\", \"\")}_version`;\n",
       "      return (VEGA_DEBUG[key] == version) ?\n",
       "        Promise.resolve(paths[lib]) :\n",
       "        new Promise(function(resolve, reject) {\n",
       "          var s = document.createElement('script');\n",
       "          document.getElementsByTagName(\"head\")[0].appendChild(s);\n",
       "          s.async = true;\n",
       "          s.onload = () => {\n",
       "            VEGA_DEBUG[key] = version;\n",
       "            return resolve(paths[lib]);\n",
       "          };\n",
       "          s.onerror = () => reject(`Error loading script: ${paths[lib]}`);\n",
       "          s.src = paths[lib];\n",
       "        });\n",
       "    }\n",
       "\n",
       "    function showError(err) {\n",
       "      outputDiv.innerHTML = `<div class=\"error\" style=\"color:red;\">${err}</div>`;\n",
       "      throw err;\n",
       "    }\n",
       "\n",
       "    function displayChart(vegaEmbed) {\n",
       "      vegaEmbed(outputDiv, spec, embedOpt)\n",
       "        .catch(err => showError(`Javascript Error: ${err.message}<br>This usually means there's a typo in your chart specification. See the javascript console for the full traceback.`));\n",
       "    }\n",
       "\n",
       "    if(typeof define === \"function\" && define.amd) {\n",
       "      requirejs.config({paths});\n",
       "      require([\"vega-embed\"], displayChart, err => showError(`Error loading script: ${err.message}`));\n",
       "    } else {\n",
       "      maybeLoadScript(\"vega\", \"5\")\n",
       "        .then(() => maybeLoadScript(\"vega-lite\", \"5.16.3\"))\n",
       "        .then(() => maybeLoadScript(\"vega-embed\", \"6\"))\n",
       "        .catch(showError)\n",
       "        .then(() => displayChart(vegaEmbed));\n",
       "    }\n",
       "  })({\"config\": {\"view\": {\"continuousWidth\": 300, \"continuousHeight\": 300, \"stroke\": null}}, \"layer\": [{\"data\": {\"url\": \"https://cdn.jsdelivr.net/npm/vega-datasets@v1.29.0/data/us-10m.json\", \"format\": {\"feature\": \"states\", \"type\": \"topojson\"}}, \"mark\": {\"type\": \"geoshape\", \"fill\": \"#e9e9e9\", \"stroke\": \"white\"}, \"projection\": {\"type\": \"albersUsa\"}, \"title\": \"Buc-ees locations\"}, {\"data\": {\"name\": \"data-25081b74e221aa322703638c1ee3a312\"}, \"mark\": {\"type\": \"circle\", \"color\": \"#D31145\", \"size\": 20}, \"encoding\": {\"latitude\": {\"field\": \"latitude\", \"type\": \"quantitative\"}, \"longitude\": {\"field\": \"longitude\", \"type\": \"quantitative\"}}}], \"height\": 500, \"width\": 800, \"$schema\": \"https://vega.github.io/schema/vega-lite/v5.16.3.json\", \"datasets\": {\"data-25081b74e221aa322703638c1ee3a312\": [{\"store_number\": \"#57\", \"street\": \"2328 Lindsay Lane South\", \"city\": \"Athens\", \"state_name\": \"Alabama\", \"zip\": \"35613\", \"latitude\": 34.7285362, \"longitude\": -86.93252690000001, \"brand\": \"Buc-ees\", \"type\": \"Feature\", \"geometry\": {\"type\": \"Point\", \"coordinates\": [-86.93252690000001, 34.7285362]}}, {\"store_number\": \"#58\", \"street\": \"2500 Buc-ee\\u2019s Blvd\", \"city\": \"Auburn\", \"state_name\": \"Alabama\", \"zip\": \"36832\", \"latitude\": 32.5520992, \"longitude\": -85.526638, \"brand\": \"Buc-ees\", \"type\": \"Feature\", \"geometry\": {\"type\": \"Point\", \"coordinates\": [-85.526638, 32.5520992]}}, {\"store_number\": \"#43\", \"street\": \"6900 Buc-ee\\u2019s Blvd.\", \"city\": \"Leeds\", \"state_name\": \"Alabama\", \"zip\": \"35094\", \"latitude\": 33.5444423, \"longitude\": -86.5865903, \"brand\": \"Buc-ees\", \"type\": \"Feature\", \"geometry\": {\"type\": \"Point\", \"coordinates\": [-86.5865903, 33.5444423]}}, {\"store_number\": \"#42\", \"street\": \"20403 County Rd. 68\", \"city\": \"Robertsdale\", \"state_name\": \"Alabama\", \"zip\": \"36567\", \"latitude\": 30.6332992, \"longitude\": -87.6745534, \"brand\": \"Buc-ees\", \"type\": \"Feature\", \"geometry\": {\"type\": \"Point\", \"coordinates\": [-87.6745534, 30.6332992]}}, {\"store_number\": \"#60\", \"street\": \"5201 Nugget Road\", \"city\": \"Berthoud\", \"state_name\": \"CO\", \"zip\": \"80513\", \"latitude\": 40.3336354, \"longitude\": -104.9833572, \"brand\": \"Buc-ees\", \"type\": \"Feature\", \"geometry\": {\"type\": \"Point\", \"coordinates\": [-104.9833572, 40.3336354]}}, {\"store_number\": \"#47\", \"street\": \"2330 Gateway North Drive\", \"city\": \"Daytona Beach\", \"state_name\": \"Florida\", \"zip\": \"32117\", \"latitude\": 29.223603, \"longitude\": -81.10090699999999, \"brand\": \"Buc-ees\", \"type\": \"Feature\", \"geometry\": {\"type\": \"Point\", \"coordinates\": [-81.10090699999999, 29.223603]}}, {\"store_number\": \"#46\", \"street\": \"200 World Commerce Pkwy\", \"city\": \"Saint Augustine\", \"state_name\": \"Florida\", \"zip\": \"32092\", \"latitude\": 29.983727, \"longitude\": -81.46404799999999, \"brand\": \"Buc-ees\", \"type\": \"Feature\", \"geometry\": {\"type\": \"Point\", \"coordinates\": [-81.46404799999999, 29.983727]}}, {\"store_number\": \"#52\", \"street\": \"601 Union Grove Rd. SE\", \"city\": \"Adairsville\", \"state_name\": \"Georgia\", \"zip\": \"30103\", \"latitude\": 34.4402225, \"longitude\": -84.91669619999999, \"brand\": \"Buc-ees\", \"type\": \"Feature\", \"geometry\": {\"type\": \"Point\", \"coordinates\": [-84.91669619999999, 34.4402225]}}, {\"store_number\": \"#51\", \"street\": \"7001 Russell Parkway\", \"city\": \"Fort Valley\", \"state_name\": \"Georgia\", \"zip\": \"31030\", \"latitude\": 32.5842634, \"longitude\": -83.7404681, \"brand\": \"Buc-ees\", \"type\": \"Feature\", \"geometry\": {\"type\": \"Point\", \"coordinates\": [-83.7404681, 32.5842634]}}, {\"store_number\": \"#55\", \"street\": \"1013 Buc-ee's Boulevard\", \"city\": \"Richmond\", \"state_name\": \"Kentucky\", \"zip\": \"40475\", \"latitude\": 37.673739, \"longitude\": -84.3079659, \"brand\": \"Buc-ees\", \"type\": \"Feature\", \"geometry\": {\"type\": \"Point\", \"coordinates\": [-84.3079659, 37.673739]}}, {\"store_number\": \"#56\", \"street\": \"4001 Smiths Grove-Scottsville Road\", \"city\": \"Smiths Grove\", \"state_name\": \"KY\", \"zip\": \"42171\", \"latitude\": 37.0402874, \"longitude\": -86.2106451, \"brand\": \"Buc-ees\", \"type\": \"Feature\", \"geometry\": {\"type\": \"Point\", \"coordinates\": [-86.2106451, 37.0402874]}}, {\"store_number\": \"#62\", \"street\": \"3284 N Beaver Rd\", \"city\": \"Springfield\", \"state_name\": \"Missouri\", \"zip\": \"65803\", \"latitude\": 37.2545564, \"longitude\": -93.18266779999999, \"brand\": \"Buc-ees\", \"type\": \"Feature\", \"geometry\": {\"type\": \"Point\", \"coordinates\": [-93.18266779999999, 37.2545564]}}, {\"store_number\": \"#53\", \"street\": \"3390 North Williston Road\", \"city\": \"Florence\", \"state_name\": \"South Carolina\", \"zip\": \"29506\", \"latitude\": 34.2716942, \"longitude\": -79.7023605, \"brand\": \"Buc-ees\", \"type\": \"Feature\", \"geometry\": {\"type\": \"Point\", \"coordinates\": [-79.7023605, 34.2716942]}}, {\"store_number\": \"#50\", \"street\": \"2045 Genesis Road\", \"city\": \"Crossville\", \"state_name\": \"Tennessee\", \"zip\": \"38555\", \"latitude\": 35.9803141, \"longitude\": -85.0153246, \"brand\": \"Buc-ees\", \"type\": \"Feature\", \"geometry\": {\"type\": \"Point\", \"coordinates\": [-85.0153246, 35.9803141]}}, {\"store_number\": \"#45\", \"street\": \"170 Buc-ee\\u2019s Blvd\", \"city\": \"Kodak\", \"state_name\": \"Tennessee\", \"zip\": \"37764\", \"latitude\": 35.9812258, \"longitude\": -83.6045773, \"brand\": \"Buc-ees\", \"type\": \"Feature\", \"geometry\": {\"type\": \"Point\", \"coordinates\": [-83.6045773, 35.9812258]}}, {\"store_number\": \"#14\", \"street\": \"780 Hwy-35 N Byp\", \"city\": \"Alvin\", \"state_name\": \"Texas\", \"zip\": \"77511\", \"latitude\": 29.4301564, \"longitude\": -95.22634939999999, \"brand\": \"Buc-ees\", \"type\": \"Feature\", \"geometry\": {\"type\": \"Point\", \"coordinates\": [-95.22634939999999, 29.4301564]}}, {\"store_number\": \"#13\", \"street\": \"2299 E Mulberry St\", \"city\": \"Angleton\", \"state_name\": \"Texas\", \"zip\": \"77515\", \"latitude\": 29.1848262, \"longitude\": -95.4088609, \"brand\": \"Buc-ees\", \"type\": \"Feature\", \"geometry\": {\"type\": \"Point\", \"coordinates\": [-95.4088609, 29.1848262]}}, {\"store_number\": \"#21\", \"street\": \"931 Loop 274\", \"city\": \"Angleton\", \"state_name\": \"Texas\", \"zip\": \"77515\", \"latitude\": 29.17302, \"longitude\": -95.433649, \"brand\": \"Buc-ees\", \"type\": \"Feature\", \"geometry\": {\"type\": \"Point\", \"coordinates\": [-95.433649, 29.17302]}}, {\"store_number\": \"#25\", \"street\": \"2304 W Mulberry St\", \"city\": \"Angleton\", \"state_name\": \"Texas\", \"zip\": \"77515\", \"latitude\": 29.1640271, \"longitude\": -95.45500009999999, \"brand\": \"Buc-ees\", \"type\": \"Feature\", \"geometry\": {\"type\": \"Point\", \"coordinates\": [-95.45500009999999, 29.1640271]}}, {\"store_number\": \"#28\", \"street\": \"1700 Highway 71 East\", \"city\": \"Bastrop\", \"state_name\": \"Texas\", \"zip\": \"78602\", \"latitude\": 30.1070467, \"longitude\": -97.30582419999999, \"brand\": \"Buc-ees\", \"type\": \"Feature\", \"geometry\": {\"type\": \"Point\", \"coordinates\": [-97.30582419999999, 30.1070467]}}, {\"store_number\": \"#34\", \"street\": \"4080 East Freeway\", \"city\": \"Baytown\", \"state_name\": \"Texas\", \"zip\": \"77521\", \"latitude\": 29.8003521, \"longitude\": -94.9995046, \"brand\": \"Buc-ees\", \"type\": \"Feature\", \"geometry\": {\"type\": \"Point\", \"coordinates\": [-94.9995046, 29.8003521]}}, {\"store_number\": \"#3\", \"street\": \"801 N Brooks\", \"city\": \"Brazoria\", \"state_name\": \"Texas\", \"zip\": \"77422\", \"latitude\": 29.0555573, \"longitude\": -95.5718998, \"brand\": \"Buc-ees\", \"type\": \"Feature\", \"geometry\": {\"type\": \"Point\", \"coordinates\": [-95.5718998, 29.0555573]}}, {\"store_number\": \"#32\", \"street\": \"27106 US-290\", \"city\": \"Cypress\", \"state_name\": \"Texas\", \"zip\": \"77433\", \"latitude\": 29.9807931, \"longitude\": -95.7182582, \"brand\": \"Buc-ees\", \"type\": \"Feature\", \"geometry\": {\"type\": \"Point\", \"coordinates\": [-95.7182582, 29.9807931]}}, {\"store_number\": \"#39\", \"street\": \"2800 S Interstate 35 E\", \"city\": \"Denton\", \"state_name\": \"Texas\", \"zip\": \"76210\", \"latitude\": 33.1791596, \"longitude\": -97.1016215, \"brand\": \"Buc-ees\", \"type\": \"Feature\", \"geometry\": {\"type\": \"Point\", \"coordinates\": [-97.1016215, 33.1791596]}}, {\"store_number\": \"#24\", \"street\": \"505 E Main St\", \"city\": \"Eagle Lake\", \"state_name\": \"Texas\", \"zip\": \"77434\", \"latitude\": 29.5858758, \"longitude\": -96.3317464, \"brand\": \"Buc-ees\", \"type\": \"Feature\", \"geometry\": {\"type\": \"Point\", \"coordinates\": [-96.3317464, 29.5858758]}}, {\"store_number\": \"#48\", \"street\": \"1402 South IH- 45\", \"city\": \"Ennis\", \"state_name\": \"Texas\", \"zip\": \"75119\", \"latitude\": 32.3042725, \"longitude\": -96.5837781, \"brand\": \"Buc-ees\", \"type\": \"Feature\", \"geometry\": {\"type\": \"Point\", \"coordinates\": [-96.5837781, 32.3042725]}}, {\"store_number\": \"#37\", \"street\": \"15901 N Freeway\", \"city\": \"Fort Worth\", \"state_name\": \"Texas\", \"zip\": \"76177\", \"latitude\": 33.0243747, \"longitude\": -97.2780281, \"brand\": \"Buc-ees\", \"type\": \"Feature\", \"geometry\": {\"type\": \"Point\", \"coordinates\": [-97.2780281, 33.0243747]}}, {\"store_number\": \"#7\", \"street\": \"4231 E. Hwy 332\", \"city\": \"Freeport\", \"state_name\": \"Texas\", \"zip\": \"77541\", \"latitude\": 28.9812118, \"longitude\": -95.336757, \"brand\": \"Buc-ees\", \"type\": \"Feature\", \"geometry\": {\"type\": \"Point\", \"coordinates\": [-95.336757, 28.9812118]}}, {\"store_number\": \"#8\", \"street\": \"1002 N Brazosport Blvd.\", \"city\": \"Freeport\", \"state_name\": \"Texas\", \"zip\": \"77541\", \"latitude\": 28.969489, \"longitude\": -95.36993059999999, \"brand\": \"Buc-ees\", \"type\": \"Feature\", \"geometry\": {\"type\": \"Point\", \"coordinates\": [-95.36993059999999, 28.969489]}}, {\"store_number\": \"#16\", \"street\": \"2375 E Austin St\", \"city\": \"Giddings\", \"state_name\": \"Texas\", \"zip\": \"78942\", \"latitude\": 30.1796859, \"longitude\": -96.91386070000001, \"brand\": \"Buc-ees\", \"type\": \"Feature\", \"geometry\": {\"type\": \"Point\", \"coordinates\": [-96.91386070000001, 30.1796859]}}, {\"store_number\": \"#59\", \"street\": \"165 State Highway 77\", \"city\": \"Hillsboro\", \"state_name\": \"Texas\", \"zip\": \"76645\", \"latitude\": 31.9909247, \"longitude\": -97.1042027, \"brand\": \"Buc-ees\", \"type\": \"Feature\", \"geometry\": {\"type\": \"Point\", \"coordinates\": [-97.1042027, 31.9909247]}}, {\"store_number\": \"#40\", \"street\": \"27700 Katy Fwy\", \"city\": \"Katy\", \"state_name\": \"Texas\", \"zip\": \"77494\", \"latitude\": 29.7790711, \"longitude\": -95.8457177, \"brand\": \"Buc-ees\", \"type\": \"Feature\", \"geometry\": {\"type\": \"Point\", \"coordinates\": [-95.8457177, 29.7790711]}}, {\"store_number\": \"#1\", \"street\": \"899 Oyster Creek Drive\", \"city\": \"Lake Jackson\", \"state_name\": \"Texas\", \"zip\": \"77566\", \"latitude\": 29.04065139999999, \"longitude\": -95.41317459999999, \"brand\": \"Buc-ees\", \"type\": \"Feature\", \"geometry\": {\"type\": \"Point\", \"coordinates\": [-95.41317459999999, 29.04065139999999]}}, {\"store_number\": \"#2\", \"street\": \"101 N Hwy 2004\", \"city\": \"Lake Jackson\", \"state_name\": \"Texas\", \"zip\": \"77566\", \"latitude\": 29.0338575, \"longitude\": -95.4343859, \"brand\": \"Buc-ees\", \"type\": \"Feature\", \"geometry\": {\"type\": \"Point\", \"coordinates\": [-95.4343859, 29.0338575]}}, {\"store_number\": \"#29\", \"street\": \"598 Hwy 332\", \"city\": \"Lake Jackson\", \"state_name\": \"Texas\", \"zip\": \"77566\", \"latitude\": 29.02106909999999, \"longitude\": -95.4366088, \"brand\": \"Buc-ees\", \"type\": \"Feature\", \"geometry\": {\"type\": \"Point\", \"coordinates\": [-95.4366088, 29.02106909999999]}}, {\"store_number\": \"#23\", \"street\": \"1702 League City Pkwy\", \"city\": \"League City\", \"state_name\": \"Texas\", \"zip\": \"77573\", \"latitude\": 29.4988789, \"longitude\": -95.0563313, \"brand\": \"Buc-ees\", \"type\": \"Feature\", \"geometry\": {\"type\": \"Point\", \"coordinates\": [-95.0563313, 29.4988789]}}, {\"store_number\": \"#17\", \"street\": \"10070 West IH 10\", \"city\": \"Luling\", \"state_name\": \"Texas\", \"zip\": \"78658\", \"latitude\": 29.6511847, \"longitude\": -97.5923467, \"brand\": \"Buc-ees\", \"type\": \"Feature\", \"geometry\": {\"type\": \"Point\", \"coordinates\": [-97.5923467, 29.6511847]}}, {\"store_number\": \"#26\", \"street\": \"205 IH-45 South\", \"city\": \"Madisonville\", \"state_name\": \"Texas\", \"zip\": \"77864\", \"latitude\": 30.9655301, \"longitude\": -95.8805656, \"brand\": \"Buc-ees\", \"type\": \"Feature\", \"geometry\": {\"type\": \"Point\", \"coordinates\": [-95.8805656, 30.9655301]}}, {\"store_number\": \"#44\", \"street\": \"1550 Central Texas Expressway\", \"city\": \"Melissa\", \"state_name\": \"Texas\", \"zip\": \"75454\", \"latitude\": 33.2774174, \"longitude\": -96.5463156, \"brand\": \"Buc-ees\", \"type\": \"Feature\", \"geometry\": {\"type\": \"Point\", \"coordinates\": [-96.5463156, 33.2774174]}}, {\"store_number\": \"#22\", \"street\": \"2760 IH 35 North\", \"city\": \"New Braunfels\", \"state_name\": \"Texas\", \"zip\": \"78130\", \"latitude\": 29.7270239, \"longitude\": -98.0790445, \"brand\": \"Buc-ees\", \"type\": \"Feature\", \"geometry\": {\"type\": \"Point\", \"coordinates\": [-98.0790445, 29.7270239]}}, {\"store_number\": \"#19\", \"street\": \"2541 S Main St\", \"city\": \"Pearland\", \"state_name\": \"Texas\", \"zip\": \"77584\", \"latitude\": 29.5603154, \"longitude\": -95.2851882, \"brand\": \"Buc-ees\", \"type\": \"Feature\", \"geometry\": {\"type\": \"Point\", \"coordinates\": [-95.2851882, 29.5603154]}}, {\"store_number\": \"#20\", \"street\": \"11151 Shadow Creek Pky\", \"city\": \"Pearland\", \"state_name\": \"Texas\", \"zip\": \"77584\", \"latitude\": 29.58049149999999, \"longitude\": -95.391932, \"brand\": \"Buc-ees\", \"type\": \"Feature\", \"geometry\": {\"type\": \"Point\", \"coordinates\": [-95.391932, 29.58049149999999]}}, {\"store_number\": \"#12\", \"street\": \"2318 W Main\", \"city\": \"Port Lavaca\", \"state_name\": \"Texas\", \"zip\": \"77979\", \"latitude\": 28.6100275, \"longitude\": -96.64891689999999, \"brand\": \"Buc-ees\", \"type\": \"Feature\", \"geometry\": {\"type\": \"Point\", \"coordinates\": [-96.64891689999999, 28.6100275]}}, {\"store_number\": \"#31\", \"street\": \"1243 Crabb River Rd\", \"city\": \"Richmond\", \"state_name\": \"Texas\", \"zip\": \"77469\", \"latitude\": 29.5519451, \"longitude\": -95.6972148, \"brand\": \"Buc-ees\", \"type\": \"Feature\", \"geometry\": {\"type\": \"Point\", \"coordinates\": [-95.6972148, 29.5519451]}}, {\"store_number\": \"#38\", \"street\": \"5005 E Interstate 30\", \"city\": \"Royse City\", \"state_name\": \"Texas\", \"zip\": \"75189\", \"latitude\": 32.9792639, \"longitude\": -96.2949132, \"brand\": \"Buc-ees\", \"type\": \"Feature\", \"geometry\": {\"type\": \"Point\", \"coordinates\": [-96.2949132, 32.9792639]}}, {\"store_number\": \"#35\", \"street\": \"4155 N General Bruce Dr.\", \"city\": \"Temple\", \"state_name\": \"Texas\", \"zip\": \"76501\", \"latitude\": 31.1361662, \"longitude\": -97.3292307, \"brand\": \"Buc-ees\", \"type\": \"Feature\", \"geometry\": {\"type\": \"Point\", \"coordinates\": [-97.3292307, 31.1361662]}}, {\"store_number\": \"#36\", \"street\": \"506 W. IH 20\", \"city\": \"Terrell\", \"state_name\": \"Texas\", \"zip\": \"75160\", \"latitude\": 32.7359626, \"longitude\": -96.2752569, \"brand\": \"Buc-ees\", \"type\": \"Feature\", \"geometry\": {\"type\": \"Point\", \"coordinates\": [-96.2752569, 32.7359626]}}, {\"store_number\": \"#33\", \"street\": \"6201 Gulf Fwy (IH 45)\", \"city\": \"Texas City\", \"state_name\": \"Texas\", \"zip\": \"77591\", \"latitude\": 29.42896459999999, \"longitude\": -95.0627966, \"brand\": \"Buc-ees\", \"type\": \"Feature\", \"geometry\": {\"type\": \"Point\", \"coordinates\": [-95.0627966, 29.42896459999999]}}, {\"store_number\": \"#18\", \"street\": \"40900 US Hwy 290 Bypass\", \"city\": \"Waller\", \"state_name\": \"Texas\", \"zip\": \"77484\", \"latitude\": 30.0566085, \"longitude\": -95.9268986, \"brand\": \"Buc-ees\", \"type\": \"Feature\", \"geometry\": {\"type\": \"Point\", \"coordinates\": [-95.9268986, 30.0566085]}}, {\"store_number\": \"#30\", \"street\": \"10484 US 59 Road\", \"city\": \"Wharton\", \"state_name\": \"Texas\", \"zip\": \"77488\", \"latitude\": 29.32542149999999, \"longitude\": -96.12317759999999, \"brand\": \"Buc-ees\", \"type\": \"Feature\", \"geometry\": {\"type\": \"Point\", \"coordinates\": [-96.12317759999999, 29.32542149999999]}}]}}, {\"mode\": \"vega-lite\"});\n",
       "</script>"
      ],
      "text/plain": [
       "alt.LayerChart(...)"
      ]
     },
     "execution_count": 24,
     "metadata": {},
     "output_type": "execute_result"
    }
   ],
   "source": [
    "points = (\n",
    "    alt.Chart(gdf)\n",
    "    .mark_circle(size=20, color=color)\n",
    "    .encode(\n",
    "        longitude=\"longitude:Q\",\n",
    "        latitude=\"latitude:Q\",\n",
    "    )\n",
    ")\n",
    "\n",
    "point_map = background + points\n",
    "point_map.configure_view(stroke=None)"
   ]
  },
  {
   "cell_type": "markdown",
   "id": "0a1fbe27-c0ed-4536-822f-ff6d64d9a78a",
   "metadata": {},
   "source": [
    "#### Location proportional symbols map"
   ]
  },
  {
   "cell_type": "code",
   "execution_count": 25,
   "id": "6cdad978-98db-4088-9286-662c92824fd5",
   "metadata": {},
   "outputs": [
    {
     "data": {
      "text/html": [
       "\n",
       "<style>\n",
       "  #altair-viz-ecef2fdbc4714980b67bc4416b487176.vega-embed {\n",
       "    width: 100%;\n",
       "    display: flex;\n",
       "  }\n",
       "\n",
       "  #altair-viz-ecef2fdbc4714980b67bc4416b487176.vega-embed details,\n",
       "  #altair-viz-ecef2fdbc4714980b67bc4416b487176.vega-embed details summary {\n",
       "    position: relative;\n",
       "  }\n",
       "</style>\n",
       "<div id=\"altair-viz-ecef2fdbc4714980b67bc4416b487176\"></div>\n",
       "<script type=\"text/javascript\">\n",
       "  var VEGA_DEBUG = (typeof VEGA_DEBUG == \"undefined\") ? {} : VEGA_DEBUG;\n",
       "  (function(spec, embedOpt){\n",
       "    let outputDiv = document.currentScript.previousElementSibling;\n",
       "    if (outputDiv.id !== \"altair-viz-ecef2fdbc4714980b67bc4416b487176\") {\n",
       "      outputDiv = document.getElementById(\"altair-viz-ecef2fdbc4714980b67bc4416b487176\");\n",
       "    }\n",
       "    const paths = {\n",
       "      \"vega\": \"https://cdn.jsdelivr.net/npm/vega@5?noext\",\n",
       "      \"vega-lib\": \"https://cdn.jsdelivr.net/npm/vega-lib?noext\",\n",
       "      \"vega-lite\": \"https://cdn.jsdelivr.net/npm/vega-lite@5.16.3?noext\",\n",
       "      \"vega-embed\": \"https://cdn.jsdelivr.net/npm/vega-embed@6?noext\",\n",
       "    };\n",
       "\n",
       "    function maybeLoadScript(lib, version) {\n",
       "      var key = `${lib.replace(\"-\", \"\")}_version`;\n",
       "      return (VEGA_DEBUG[key] == version) ?\n",
       "        Promise.resolve(paths[lib]) :\n",
       "        new Promise(function(resolve, reject) {\n",
       "          var s = document.createElement('script');\n",
       "          document.getElementsByTagName(\"head\")[0].appendChild(s);\n",
       "          s.async = true;\n",
       "          s.onload = () => {\n",
       "            VEGA_DEBUG[key] = version;\n",
       "            return resolve(paths[lib]);\n",
       "          };\n",
       "          s.onerror = () => reject(`Error loading script: ${paths[lib]}`);\n",
       "          s.src = paths[lib];\n",
       "        });\n",
       "    }\n",
       "\n",
       "    function showError(err) {\n",
       "      outputDiv.innerHTML = `<div class=\"error\" style=\"color:red;\">${err}</div>`;\n",
       "      throw err;\n",
       "    }\n",
       "\n",
       "    function displayChart(vegaEmbed) {\n",
       "      vegaEmbed(outputDiv, spec, embedOpt)\n",
       "        .catch(err => showError(`Javascript Error: ${err.message}<br>This usually means there's a typo in your chart specification. See the javascript console for the full traceback.`));\n",
       "    }\n",
       "\n",
       "    if(typeof define === \"function\" && define.amd) {\n",
       "      requirejs.config({paths});\n",
       "      require([\"vega-embed\"], displayChart, err => showError(`Error loading script: ${err.message}`));\n",
       "    } else {\n",
       "      maybeLoadScript(\"vega\", \"5\")\n",
       "        .then(() => maybeLoadScript(\"vega-lite\", \"5.16.3\"))\n",
       "        .then(() => maybeLoadScript(\"vega-embed\", \"6\"))\n",
       "        .catch(showError)\n",
       "        .then(() => displayChart(vegaEmbed));\n",
       "    }\n",
       "  })({\"config\": {\"view\": {\"continuousWidth\": 300, \"continuousHeight\": 300, \"stroke\": null}}, \"layer\": [{\"data\": {\"url\": \"https://cdn.jsdelivr.net/npm/vega-datasets@v1.29.0/data/us-10m.json\", \"format\": {\"feature\": \"states\", \"type\": \"topojson\"}}, \"mark\": {\"type\": \"geoshape\", \"fill\": \"#e9e9e9\", \"stroke\": \"white\"}, \"projection\": {\"type\": \"albersUsa\"}, \"title\": \"Buc-ees locations\"}, {\"data\": {\"name\": \"data-25081b74e221aa322703638c1ee3a312\"}, \"mark\": {\"type\": \"circle\"}, \"encoding\": {\"color\": {\"value\": \"#D31145\"}, \"latitude\": {\"field\": \"latitude\", \"type\": \"quantitative\"}, \"longitude\": {\"field\": \"longitude\", \"type\": \"quantitative\"}, \"size\": {\"field\": \"count\", \"title\": \"Count by state\", \"type\": \"quantitative\"}, \"tooltip\": [{\"field\": \"state_name\", \"type\": \"nominal\"}, {\"field\": \"count\", \"type\": \"quantitative\"}]}, \"title\": \"Number of Buc-ees in US, by average lon/lat of locations\", \"transform\": [{\"aggregate\": [{\"op\": \"mean\", \"field\": \"latitude\", \"as\": \"latitude\"}, {\"op\": \"mean\", \"field\": \"longitude\", \"as\": \"longitude\"}, {\"op\": \"count\", \"as\": \"count\"}], \"groupby\": [\"state_name\"]}]}], \"height\": 500, \"width\": 800, \"$schema\": \"https://vega.github.io/schema/vega-lite/v5.16.3.json\", \"datasets\": {\"data-25081b74e221aa322703638c1ee3a312\": [{\"store_number\": \"#57\", \"street\": \"2328 Lindsay Lane South\", \"city\": \"Athens\", \"state_name\": \"Alabama\", \"zip\": \"35613\", \"latitude\": 34.7285362, \"longitude\": -86.93252690000001, \"brand\": \"Buc-ees\", \"type\": \"Feature\", \"geometry\": {\"type\": \"Point\", \"coordinates\": [-86.93252690000001, 34.7285362]}}, {\"store_number\": \"#58\", \"street\": \"2500 Buc-ee\\u2019s Blvd\", \"city\": \"Auburn\", \"state_name\": \"Alabama\", \"zip\": \"36832\", \"latitude\": 32.5520992, \"longitude\": -85.526638, \"brand\": \"Buc-ees\", \"type\": \"Feature\", \"geometry\": {\"type\": \"Point\", \"coordinates\": [-85.526638, 32.5520992]}}, {\"store_number\": \"#43\", \"street\": \"6900 Buc-ee\\u2019s Blvd.\", \"city\": \"Leeds\", \"state_name\": \"Alabama\", \"zip\": \"35094\", \"latitude\": 33.5444423, \"longitude\": -86.5865903, \"brand\": \"Buc-ees\", \"type\": \"Feature\", \"geometry\": {\"type\": \"Point\", \"coordinates\": [-86.5865903, 33.5444423]}}, {\"store_number\": \"#42\", \"street\": \"20403 County Rd. 68\", \"city\": \"Robertsdale\", \"state_name\": \"Alabama\", \"zip\": \"36567\", \"latitude\": 30.6332992, \"longitude\": -87.6745534, \"brand\": \"Buc-ees\", \"type\": \"Feature\", \"geometry\": {\"type\": \"Point\", \"coordinates\": [-87.6745534, 30.6332992]}}, {\"store_number\": \"#60\", \"street\": \"5201 Nugget Road\", \"city\": \"Berthoud\", \"state_name\": \"CO\", \"zip\": \"80513\", \"latitude\": 40.3336354, \"longitude\": -104.9833572, \"brand\": \"Buc-ees\", \"type\": \"Feature\", \"geometry\": {\"type\": \"Point\", \"coordinates\": [-104.9833572, 40.3336354]}}, {\"store_number\": \"#47\", \"street\": \"2330 Gateway North Drive\", \"city\": \"Daytona Beach\", \"state_name\": \"Florida\", \"zip\": \"32117\", \"latitude\": 29.223603, \"longitude\": -81.10090699999999, \"brand\": \"Buc-ees\", \"type\": \"Feature\", \"geometry\": {\"type\": \"Point\", \"coordinates\": [-81.10090699999999, 29.223603]}}, {\"store_number\": \"#46\", \"street\": \"200 World Commerce Pkwy\", \"city\": \"Saint Augustine\", \"state_name\": \"Florida\", \"zip\": \"32092\", \"latitude\": 29.983727, \"longitude\": -81.46404799999999, \"brand\": \"Buc-ees\", \"type\": \"Feature\", \"geometry\": {\"type\": \"Point\", \"coordinates\": [-81.46404799999999, 29.983727]}}, {\"store_number\": \"#52\", \"street\": \"601 Union Grove Rd. SE\", \"city\": \"Adairsville\", \"state_name\": \"Georgia\", \"zip\": \"30103\", \"latitude\": 34.4402225, \"longitude\": -84.91669619999999, \"brand\": \"Buc-ees\", \"type\": \"Feature\", \"geometry\": {\"type\": \"Point\", \"coordinates\": [-84.91669619999999, 34.4402225]}}, {\"store_number\": \"#51\", \"street\": \"7001 Russell Parkway\", \"city\": \"Fort Valley\", \"state_name\": \"Georgia\", \"zip\": \"31030\", \"latitude\": 32.5842634, \"longitude\": -83.7404681, \"brand\": \"Buc-ees\", \"type\": \"Feature\", \"geometry\": {\"type\": \"Point\", \"coordinates\": [-83.7404681, 32.5842634]}}, {\"store_number\": \"#55\", \"street\": \"1013 Buc-ee's Boulevard\", \"city\": \"Richmond\", \"state_name\": \"Kentucky\", \"zip\": \"40475\", \"latitude\": 37.673739, \"longitude\": -84.3079659, \"brand\": \"Buc-ees\", \"type\": \"Feature\", \"geometry\": {\"type\": \"Point\", \"coordinates\": [-84.3079659, 37.673739]}}, {\"store_number\": \"#56\", \"street\": \"4001 Smiths Grove-Scottsville Road\", \"city\": \"Smiths Grove\", \"state_name\": \"KY\", \"zip\": \"42171\", \"latitude\": 37.0402874, \"longitude\": -86.2106451, \"brand\": \"Buc-ees\", \"type\": \"Feature\", \"geometry\": {\"type\": \"Point\", \"coordinates\": [-86.2106451, 37.0402874]}}, {\"store_number\": \"#62\", \"street\": \"3284 N Beaver Rd\", \"city\": \"Springfield\", \"state_name\": \"Missouri\", \"zip\": \"65803\", \"latitude\": 37.2545564, \"longitude\": -93.18266779999999, \"brand\": \"Buc-ees\", \"type\": \"Feature\", \"geometry\": {\"type\": \"Point\", \"coordinates\": [-93.18266779999999, 37.2545564]}}, {\"store_number\": \"#53\", \"street\": \"3390 North Williston Road\", \"city\": \"Florence\", \"state_name\": \"South Carolina\", \"zip\": \"29506\", \"latitude\": 34.2716942, \"longitude\": -79.7023605, \"brand\": \"Buc-ees\", \"type\": \"Feature\", \"geometry\": {\"type\": \"Point\", \"coordinates\": [-79.7023605, 34.2716942]}}, {\"store_number\": \"#50\", \"street\": \"2045 Genesis Road\", \"city\": \"Crossville\", \"state_name\": \"Tennessee\", \"zip\": \"38555\", \"latitude\": 35.9803141, \"longitude\": -85.0153246, \"brand\": \"Buc-ees\", \"type\": \"Feature\", \"geometry\": {\"type\": \"Point\", \"coordinates\": [-85.0153246, 35.9803141]}}, {\"store_number\": \"#45\", \"street\": \"170 Buc-ee\\u2019s Blvd\", \"city\": \"Kodak\", \"state_name\": \"Tennessee\", \"zip\": \"37764\", \"latitude\": 35.9812258, \"longitude\": -83.6045773, \"brand\": \"Buc-ees\", \"type\": \"Feature\", \"geometry\": {\"type\": \"Point\", \"coordinates\": [-83.6045773, 35.9812258]}}, {\"store_number\": \"#14\", \"street\": \"780 Hwy-35 N Byp\", \"city\": \"Alvin\", \"state_name\": \"Texas\", \"zip\": \"77511\", \"latitude\": 29.4301564, \"longitude\": -95.22634939999999, \"brand\": \"Buc-ees\", \"type\": \"Feature\", \"geometry\": {\"type\": \"Point\", \"coordinates\": [-95.22634939999999, 29.4301564]}}, {\"store_number\": \"#13\", \"street\": \"2299 E Mulberry St\", \"city\": \"Angleton\", \"state_name\": \"Texas\", \"zip\": \"77515\", \"latitude\": 29.1848262, \"longitude\": -95.4088609, \"brand\": \"Buc-ees\", \"type\": \"Feature\", \"geometry\": {\"type\": \"Point\", \"coordinates\": [-95.4088609, 29.1848262]}}, {\"store_number\": \"#21\", \"street\": \"931 Loop 274\", \"city\": \"Angleton\", \"state_name\": \"Texas\", \"zip\": \"77515\", \"latitude\": 29.17302, \"longitude\": -95.433649, \"brand\": \"Buc-ees\", \"type\": \"Feature\", \"geometry\": {\"type\": \"Point\", \"coordinates\": [-95.433649, 29.17302]}}, {\"store_number\": \"#25\", \"street\": \"2304 W Mulberry St\", \"city\": \"Angleton\", \"state_name\": \"Texas\", \"zip\": \"77515\", \"latitude\": 29.1640271, \"longitude\": -95.45500009999999, \"brand\": \"Buc-ees\", \"type\": \"Feature\", \"geometry\": {\"type\": \"Point\", \"coordinates\": [-95.45500009999999, 29.1640271]}}, {\"store_number\": \"#28\", \"street\": \"1700 Highway 71 East\", \"city\": \"Bastrop\", \"state_name\": \"Texas\", \"zip\": \"78602\", \"latitude\": 30.1070467, \"longitude\": -97.30582419999999, \"brand\": \"Buc-ees\", \"type\": \"Feature\", \"geometry\": {\"type\": \"Point\", \"coordinates\": [-97.30582419999999, 30.1070467]}}, {\"store_number\": \"#34\", \"street\": \"4080 East Freeway\", \"city\": \"Baytown\", \"state_name\": \"Texas\", \"zip\": \"77521\", \"latitude\": 29.8003521, \"longitude\": -94.9995046, \"brand\": \"Buc-ees\", \"type\": \"Feature\", \"geometry\": {\"type\": \"Point\", \"coordinates\": [-94.9995046, 29.8003521]}}, {\"store_number\": \"#3\", \"street\": \"801 N Brooks\", \"city\": \"Brazoria\", \"state_name\": \"Texas\", \"zip\": \"77422\", \"latitude\": 29.0555573, \"longitude\": -95.5718998, \"brand\": \"Buc-ees\", \"type\": \"Feature\", \"geometry\": {\"type\": \"Point\", \"coordinates\": [-95.5718998, 29.0555573]}}, {\"store_number\": \"#32\", \"street\": \"27106 US-290\", \"city\": \"Cypress\", \"state_name\": \"Texas\", \"zip\": \"77433\", \"latitude\": 29.9807931, \"longitude\": -95.7182582, \"brand\": \"Buc-ees\", \"type\": \"Feature\", \"geometry\": {\"type\": \"Point\", \"coordinates\": [-95.7182582, 29.9807931]}}, {\"store_number\": \"#39\", \"street\": \"2800 S Interstate 35 E\", \"city\": \"Denton\", \"state_name\": \"Texas\", \"zip\": \"76210\", \"latitude\": 33.1791596, \"longitude\": -97.1016215, \"brand\": \"Buc-ees\", \"type\": \"Feature\", \"geometry\": {\"type\": \"Point\", \"coordinates\": [-97.1016215, 33.1791596]}}, {\"store_number\": \"#24\", \"street\": \"505 E Main St\", \"city\": \"Eagle Lake\", \"state_name\": \"Texas\", \"zip\": \"77434\", \"latitude\": 29.5858758, \"longitude\": -96.3317464, \"brand\": \"Buc-ees\", \"type\": \"Feature\", \"geometry\": {\"type\": \"Point\", \"coordinates\": [-96.3317464, 29.5858758]}}, {\"store_number\": \"#48\", \"street\": \"1402 South IH- 45\", \"city\": \"Ennis\", \"state_name\": \"Texas\", \"zip\": \"75119\", \"latitude\": 32.3042725, \"longitude\": -96.5837781, \"brand\": \"Buc-ees\", \"type\": \"Feature\", \"geometry\": {\"type\": \"Point\", \"coordinates\": [-96.5837781, 32.3042725]}}, {\"store_number\": \"#37\", \"street\": \"15901 N Freeway\", \"city\": \"Fort Worth\", \"state_name\": \"Texas\", \"zip\": \"76177\", \"latitude\": 33.0243747, \"longitude\": -97.2780281, \"brand\": \"Buc-ees\", \"type\": \"Feature\", \"geometry\": {\"type\": \"Point\", \"coordinates\": [-97.2780281, 33.0243747]}}, {\"store_number\": \"#7\", \"street\": \"4231 E. Hwy 332\", \"city\": \"Freeport\", \"state_name\": \"Texas\", \"zip\": \"77541\", \"latitude\": 28.9812118, \"longitude\": -95.336757, \"brand\": \"Buc-ees\", \"type\": \"Feature\", \"geometry\": {\"type\": \"Point\", \"coordinates\": [-95.336757, 28.9812118]}}, {\"store_number\": \"#8\", \"street\": \"1002 N Brazosport Blvd.\", \"city\": \"Freeport\", \"state_name\": \"Texas\", \"zip\": \"77541\", \"latitude\": 28.969489, \"longitude\": -95.36993059999999, \"brand\": \"Buc-ees\", \"type\": \"Feature\", \"geometry\": {\"type\": \"Point\", \"coordinates\": [-95.36993059999999, 28.969489]}}, {\"store_number\": \"#16\", \"street\": \"2375 E Austin St\", \"city\": \"Giddings\", \"state_name\": \"Texas\", \"zip\": \"78942\", \"latitude\": 30.1796859, \"longitude\": -96.91386070000001, \"brand\": \"Buc-ees\", \"type\": \"Feature\", \"geometry\": {\"type\": \"Point\", \"coordinates\": [-96.91386070000001, 30.1796859]}}, {\"store_number\": \"#59\", \"street\": \"165 State Highway 77\", \"city\": \"Hillsboro\", \"state_name\": \"Texas\", \"zip\": \"76645\", \"latitude\": 31.9909247, \"longitude\": -97.1042027, \"brand\": \"Buc-ees\", \"type\": \"Feature\", \"geometry\": {\"type\": \"Point\", \"coordinates\": [-97.1042027, 31.9909247]}}, {\"store_number\": \"#40\", \"street\": \"27700 Katy Fwy\", \"city\": \"Katy\", \"state_name\": \"Texas\", \"zip\": \"77494\", \"latitude\": 29.7790711, \"longitude\": -95.8457177, \"brand\": \"Buc-ees\", \"type\": \"Feature\", \"geometry\": {\"type\": \"Point\", \"coordinates\": [-95.8457177, 29.7790711]}}, {\"store_number\": \"#1\", \"street\": \"899 Oyster Creek Drive\", \"city\": \"Lake Jackson\", \"state_name\": \"Texas\", \"zip\": \"77566\", \"latitude\": 29.04065139999999, \"longitude\": -95.41317459999999, \"brand\": \"Buc-ees\", \"type\": \"Feature\", \"geometry\": {\"type\": \"Point\", \"coordinates\": [-95.41317459999999, 29.04065139999999]}}, {\"store_number\": \"#2\", \"street\": \"101 N Hwy 2004\", \"city\": \"Lake Jackson\", \"state_name\": \"Texas\", \"zip\": \"77566\", \"latitude\": 29.0338575, \"longitude\": -95.4343859, \"brand\": \"Buc-ees\", \"type\": \"Feature\", \"geometry\": {\"type\": \"Point\", \"coordinates\": [-95.4343859, 29.0338575]}}, {\"store_number\": \"#29\", \"street\": \"598 Hwy 332\", \"city\": \"Lake Jackson\", \"state_name\": \"Texas\", \"zip\": \"77566\", \"latitude\": 29.02106909999999, \"longitude\": -95.4366088, \"brand\": \"Buc-ees\", \"type\": \"Feature\", \"geometry\": {\"type\": \"Point\", \"coordinates\": [-95.4366088, 29.02106909999999]}}, {\"store_number\": \"#23\", \"street\": \"1702 League City Pkwy\", \"city\": \"League City\", \"state_name\": \"Texas\", \"zip\": \"77573\", \"latitude\": 29.4988789, \"longitude\": -95.0563313, \"brand\": \"Buc-ees\", \"type\": \"Feature\", \"geometry\": {\"type\": \"Point\", \"coordinates\": [-95.0563313, 29.4988789]}}, {\"store_number\": \"#17\", \"street\": \"10070 West IH 10\", \"city\": \"Luling\", \"state_name\": \"Texas\", \"zip\": \"78658\", \"latitude\": 29.6511847, \"longitude\": -97.5923467, \"brand\": \"Buc-ees\", \"type\": \"Feature\", \"geometry\": {\"type\": \"Point\", \"coordinates\": [-97.5923467, 29.6511847]}}, {\"store_number\": \"#26\", \"street\": \"205 IH-45 South\", \"city\": \"Madisonville\", \"state_name\": \"Texas\", \"zip\": \"77864\", \"latitude\": 30.9655301, \"longitude\": -95.8805656, \"brand\": \"Buc-ees\", \"type\": \"Feature\", \"geometry\": {\"type\": \"Point\", \"coordinates\": [-95.8805656, 30.9655301]}}, {\"store_number\": \"#44\", \"street\": \"1550 Central Texas Expressway\", \"city\": \"Melissa\", \"state_name\": \"Texas\", \"zip\": \"75454\", \"latitude\": 33.2774174, \"longitude\": -96.5463156, \"brand\": \"Buc-ees\", \"type\": \"Feature\", \"geometry\": {\"type\": \"Point\", \"coordinates\": [-96.5463156, 33.2774174]}}, {\"store_number\": \"#22\", \"street\": \"2760 IH 35 North\", \"city\": \"New Braunfels\", \"state_name\": \"Texas\", \"zip\": \"78130\", \"latitude\": 29.7270239, \"longitude\": -98.0790445, \"brand\": \"Buc-ees\", \"type\": \"Feature\", \"geometry\": {\"type\": \"Point\", \"coordinates\": [-98.0790445, 29.7270239]}}, {\"store_number\": \"#19\", \"street\": \"2541 S Main St\", \"city\": \"Pearland\", \"state_name\": \"Texas\", \"zip\": \"77584\", \"latitude\": 29.5603154, \"longitude\": -95.2851882, \"brand\": \"Buc-ees\", \"type\": \"Feature\", \"geometry\": {\"type\": \"Point\", \"coordinates\": [-95.2851882, 29.5603154]}}, {\"store_number\": \"#20\", \"street\": \"11151 Shadow Creek Pky\", \"city\": \"Pearland\", \"state_name\": \"Texas\", \"zip\": \"77584\", \"latitude\": 29.58049149999999, \"longitude\": -95.391932, \"brand\": \"Buc-ees\", \"type\": \"Feature\", \"geometry\": {\"type\": \"Point\", \"coordinates\": [-95.391932, 29.58049149999999]}}, {\"store_number\": \"#12\", \"street\": \"2318 W Main\", \"city\": \"Port Lavaca\", \"state_name\": \"Texas\", \"zip\": \"77979\", \"latitude\": 28.6100275, \"longitude\": -96.64891689999999, \"brand\": \"Buc-ees\", \"type\": \"Feature\", \"geometry\": {\"type\": \"Point\", \"coordinates\": [-96.64891689999999, 28.6100275]}}, {\"store_number\": \"#31\", \"street\": \"1243 Crabb River Rd\", \"city\": \"Richmond\", \"state_name\": \"Texas\", \"zip\": \"77469\", \"latitude\": 29.5519451, \"longitude\": -95.6972148, \"brand\": \"Buc-ees\", \"type\": \"Feature\", \"geometry\": {\"type\": \"Point\", \"coordinates\": [-95.6972148, 29.5519451]}}, {\"store_number\": \"#38\", \"street\": \"5005 E Interstate 30\", \"city\": \"Royse City\", \"state_name\": \"Texas\", \"zip\": \"75189\", \"latitude\": 32.9792639, \"longitude\": -96.2949132, \"brand\": \"Buc-ees\", \"type\": \"Feature\", \"geometry\": {\"type\": \"Point\", \"coordinates\": [-96.2949132, 32.9792639]}}, {\"store_number\": \"#35\", \"street\": \"4155 N General Bruce Dr.\", \"city\": \"Temple\", \"state_name\": \"Texas\", \"zip\": \"76501\", \"latitude\": 31.1361662, \"longitude\": -97.3292307, \"brand\": \"Buc-ees\", \"type\": \"Feature\", \"geometry\": {\"type\": \"Point\", \"coordinates\": [-97.3292307, 31.1361662]}}, {\"store_number\": \"#36\", \"street\": \"506 W. IH 20\", \"city\": \"Terrell\", \"state_name\": \"Texas\", \"zip\": \"75160\", \"latitude\": 32.7359626, \"longitude\": -96.2752569, \"brand\": \"Buc-ees\", \"type\": \"Feature\", \"geometry\": {\"type\": \"Point\", \"coordinates\": [-96.2752569, 32.7359626]}}, {\"store_number\": \"#33\", \"street\": \"6201 Gulf Fwy (IH 45)\", \"city\": \"Texas City\", \"state_name\": \"Texas\", \"zip\": \"77591\", \"latitude\": 29.42896459999999, \"longitude\": -95.0627966, \"brand\": \"Buc-ees\", \"type\": \"Feature\", \"geometry\": {\"type\": \"Point\", \"coordinates\": [-95.0627966, 29.42896459999999]}}, {\"store_number\": \"#18\", \"street\": \"40900 US Hwy 290 Bypass\", \"city\": \"Waller\", \"state_name\": \"Texas\", \"zip\": \"77484\", \"latitude\": 30.0566085, \"longitude\": -95.9268986, \"brand\": \"Buc-ees\", \"type\": \"Feature\", \"geometry\": {\"type\": \"Point\", \"coordinates\": [-95.9268986, 30.0566085]}}, {\"store_number\": \"#30\", \"street\": \"10484 US 59 Road\", \"city\": \"Wharton\", \"state_name\": \"Texas\", \"zip\": \"77488\", \"latitude\": 29.32542149999999, \"longitude\": -96.12317759999999, \"brand\": \"Buc-ees\", \"type\": \"Feature\", \"geometry\": {\"type\": \"Point\", \"coordinates\": [-96.12317759999999, 29.32542149999999]}}]}}, {\"mode\": \"vega-lite\"});\n",
       "</script>"
      ],
      "text/plain": [
       "alt.LayerChart(...)"
      ]
     },
     "execution_count": 25,
     "metadata": {},
     "output_type": "execute_result"
    }
   ],
   "source": [
    "symbols = (\n",
    "    alt.Chart(gdf)\n",
    "    .transform_aggregate(\n",
    "        latitude=\"mean(latitude)\",\n",
    "        longitude=\"mean(longitude)\",\n",
    "        count=\"count()\",\n",
    "        groupby=[\"state_name\"],\n",
    "    )\n",
    "    .mark_circle()\n",
    "    .encode(\n",
    "        longitude=\"longitude:Q\",\n",
    "        latitude=\"latitude:Q\",\n",
    "        size=alt.Size(\"count:Q\", title=\"Count by state\"),\n",
    "        color=alt.value(color),\n",
    "        tooltip=[\"state_name:N\", \"count:Q\"],\n",
    "    )\n",
    "    .properties(\n",
    "        title=f\"Number of {place_formal} in US, by average lon/lat of locations\"\n",
    "    )\n",
    ")\n",
    "\n",
    "symbol_map = background + symbols\n",
    "symbol_map.configure_view(stroke=None)"
   ]
  },
  {
   "cell_type": "markdown",
   "id": "15b9c879-2480-49f4-99e7-6adc1a4c10aa",
   "metadata": {},
   "source": [
    "---"
   ]
  },
  {
   "cell_type": "markdown",
   "id": "41af18db-4aeb-4259-a7c1-b52471eb8693",
   "metadata": {},
   "source": [
    "## Exports"
   ]
  },
  {
   "cell_type": "markdown",
   "id": "e3831fb4-1062-4cab-9730-933ff07e01f0",
   "metadata": {},
   "source": [
    "#### JSON"
   ]
  },
  {
   "cell_type": "code",
   "execution_count": 26,
   "id": "e1e78a42-ba8a-49aa-a699-58e33fa204d0",
   "metadata": {},
   "outputs": [],
   "source": [
    "df.to_json(\n",
    "    f\"data/processed/{place.lower().replace(' ', '_')}_locations.json\",\n",
    "    indent=4,\n",
    "    orient=\"records\",\n",
    ")"
   ]
  },
  {
   "cell_type": "markdown",
   "id": "d737f808-9d71-4f25-8cd1-3fcedc45ab63",
   "metadata": {},
   "source": [
    "#### CSV"
   ]
  },
  {
   "cell_type": "code",
   "execution_count": 27,
   "id": "0504831b-4df4-4ff2-bd26-f08ef7ca9198",
   "metadata": {},
   "outputs": [],
   "source": [
    "df.to_csv(\n",
    "    f\"data/processed/{place.lower().replace(' ', '_')}_locations.csv\", index=False\n",
    ")"
   ]
  },
  {
   "cell_type": "markdown",
   "id": "eb8769bc-1de1-40d0-9b7b-4892893606ee",
   "metadata": {},
   "source": [
    "#### GeoJSON"
   ]
  },
  {
   "cell_type": "code",
   "execution_count": 28,
   "id": "3aaff910-d7a8-4b73-acdf-6b49e09bbe2f",
   "metadata": {},
   "outputs": [
    {
     "name": "stderr",
     "output_type": "stream",
     "text": [
      "/Users/mstiles/.local/share/virtualenvs/locations-P9hdnGxc/lib/python3.9/site-packages/pyogrio/raw.py:505: UserWarning: 'crs' was not provided.  The output dataset will not have projection information defined and may not be usable in other systems.\n",
      "  warnings.warn(\n"
     ]
    }
   ],
   "source": [
    "gdf.to_file(\n",
    "    f\"data/processed/{place.lower().replace(' ', '_')}_locations.geojson\",\n",
    "    driver=\"GeoJSON\",\n",
    ")"
   ]
  }
 ],
 "metadata": {
  "kernelspec": {
   "display_name": "Python 3 (ipykernel)",
   "language": "python",
   "name": "python3"
  },
  "language_info": {
   "codemirror_mode": {
    "name": "ipython",
    "version": 3
   },
   "file_extension": ".py",
   "mimetype": "text/x-python",
   "name": "python",
   "nbconvert_exporter": "python",
   "pygments_lexer": "ipython3",
   "version": "3.9.15"
  }
 },
 "nbformat": 4,
 "nbformat_minor": 5
}
