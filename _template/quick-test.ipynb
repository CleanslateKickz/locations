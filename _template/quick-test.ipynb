{
 "cells": [
  {
   "cell_type": "markdown",
   "id": "0fdd4e16-e062-4146-9c40-05a340ecc972",
   "metadata": {},
   "source": [
    "# Get Ford dealer locations"
   ]
  },
  {
   "cell_type": "markdown",
   "id": "2cd6a4cf-3892-4cc9-97de-84f87dc86d7d",
   "metadata": {},
   "source": [
    "#### Load Python tools and Jupyter config"
   ]
  },
  {
   "cell_type": "code",
   "execution_count": 1,
   "id": "c3b1c77c-b670-495b-aca3-e14b06448d51",
   "metadata": {},
   "outputs": [],
   "source": [
    "import us\n",
    "import json\n",
    "import requests\n",
    "import pandas as pd\n",
    "import jupyter_black\n",
    "import altair as alt\n",
    "import geopandas as gpd\n",
    "from bs4 import BeautifulSoup\n",
    "from vega_datasets import data\n",
    "from tqdm.notebook import tqdm, trange"
   ]
  },
  {
   "cell_type": "code",
   "execution_count": 2,
   "id": "3ef9eefb-2887-4a07-995d-eb12d1dd251d",
   "metadata": {},
   "outputs": [
    {
     "data": {
      "text/html": [
       "\n",
       "                <script type=\"application/javascript\" id=\"jupyter_black\">\n",
       "                (function() {\n",
       "                    if (window.IPython === undefined) {\n",
       "                        return\n",
       "                    }\n",
       "                    var msg = \"WARNING: it looks like you might have loaded \" +\n",
       "                        \"jupyter_black in a non-lab notebook with \" +\n",
       "                        \"`is_lab=True`. Please double check, and if \" +\n",
       "                        \"loading with `%load_ext` please review the README!\"\n",
       "                    console.log(msg)\n",
       "                    alert(msg)\n",
       "                })()\n",
       "                </script>\n",
       "                "
      ],
      "text/plain": [
       "<IPython.core.display.HTML object>"
      ]
     },
     "metadata": {},
     "output_type": "display_data"
    },
    {
     "data": {
      "text/plain": [
       "DataTransformerRegistry.enable('default')"
      ]
     },
     "execution_count": 2,
     "metadata": {},
     "output_type": "execute_result"
    }
   ],
   "source": [
    "jupyter_black.load()\n",
    "pd.options.display.max_columns = 100\n",
    "pd.options.display.max_rows = 1000\n",
    "pd.options.display.max_colwidth = None\n",
    "alt.data_transformers.disable_max_rows()"
   ]
  },
  {
   "cell_type": "code",
   "execution_count": 3,
   "id": "ac5ec9e2-d2b4-48ea-ad76-2d0b3049c7a0",
   "metadata": {},
   "outputs": [],
   "source": [
    "place = \"ford\"\n",
    "place_formal = \"Ford\"\n",
    "color = \"#0068d0\"\n",
    "latitude = \"39.106667\"\n",
    "longitude = \"-94.676392\""
   ]
  },
  {
   "cell_type": "markdown",
   "id": "47292330-f313-4aee-bb9c-590ea8a10a42",
   "metadata": {},
   "source": [
    "## Scrape"
   ]
  },
  {
   "cell_type": "markdown",
   "id": "4bbf307f-5a9c-418d-8297-dbec0a089afb",
   "metadata": {},
   "source": [
    "#### Headers for the request"
   ]
  },
  {
   "cell_type": "code",
   "execution_count": 73,
   "id": "50ea20c9-c865-4d6c-9100-a05992071c99",
   "metadata": {},
   "outputs": [],
   "source": [
    "headers = {\n",
    "    \"authority\": \"www.ford.com\",\n",
    "    \"accept\": \"application/json, text/javascript, */*; q=0.01\",\n",
    "    \"accept-language\": \"en-US,en;q=0.9,es;q=0.8\",\n",
    "    \"application-id\": \"07152898-698b-456e-be56-d3d83011d0a6\",\n",
    "    \"referer\": \"https://www.ford.com/dealerships/\",\n",
    "    \"sec-ch-ua\": '\"Chromium\";v=\"122\", \"Not(A:Brand\";v=\"24\", \"Google Chrome\";v=\"122\"',\n",
    "    \"sec-ch-ua-mobile\": \"?0\",\n",
    "    \"sec-ch-ua-platform\": '\"macOS\"',\n",
    "    \"sec-fetch-dest\": \"empty\",\n",
    "    \"sec-fetch-mode\": \"cors\",\n",
    "    \"sec-fetch-site\": \"same-origin\",\n",
    "    \"user-agent\": \"Mozilla/5.0 (Macintosh; Intel Mac OS X 10_15_7) AppleWebKit/537.36 (KHTML, like Gecko) Chrome/122.0.0.0 Safari/537.36\",\n",
    "    \"x-dtpc\": \"8$163699064_118h35vQAHCMNCTDHWFLMGAMWDHNBWEUFUNHMPA-0e0\",\n",
    "    \"x-dtreferer\": \"https://www.ford.com/dealerships/\",\n",
    "    \"x-requested-with\": \"XMLHttpRequest\",\n",
    "}\n",
    "\n",
    "params = {\n",
    "    \"make\": \"Ford\",\n",
    "    \"radius\": \"500\",\n",
    "    \"minDealers\": \"10\",\n",
    "    \"maxDealers\": \"100\",\n",
    "    \"postalCode\": \"64030\",\n",
    "}\n",
    "\n",
    "response = requests.get(\n",
    "    \"https://www.ford.com/cxservices/dealer/Dealers.json\",\n",
    "    params=params,\n",
    "    cookies=cookies,\n",
    "    headers=headers,\n",
    ")"
   ]
  },
  {
   "cell_type": "code",
   "execution_count": 74,
   "id": "d3453b06-c579-48fe-b154-485b0f5cef3d",
   "metadata": {},
   "outputs": [],
   "source": [
    "src = pd.DataFrame(response.json()[\"Response\"][\"Dealer\"])[\n",
    "    [\n",
    "        \"Name\",\n",
    "        \"Address\",\n",
    "        \"Latitude\",\n",
    "        \"dlrcalltrk_lad\",\n",
    "        \"Longitude\",\n",
    "        \"URL\",\n",
    "        \"Phone\",\n",
    "    ]\n",
    "]\n",
    "src.columns = src.columns.str.lower()"
   ]
  },
  {
   "cell_type": "code",
   "execution_count": 75,
   "id": "2df2eb7e-8748-4de0-971d-1ef82f0247d2",
   "metadata": {},
   "outputs": [],
   "source": [
    "src[[\"Street2\", \"Street1\", \"State\", \"PostalCode\", \"Country\", \"City\", \"Street3\"]] = (\n",
    "    pd.json_normalize(src[\"address\"])\n",
    ")"
   ]
  },
  {
   "cell_type": "code",
   "execution_count": 76,
   "id": "a8206c42-aeef-4fc9-a588-862667265c12",
   "metadata": {},
   "outputs": [],
   "source": [
    "df = (\n",
    "    src.drop([\"address\", \"Street2\", \"Country\", \"Street3\"], axis=1)\n",
    "    .rename(\n",
    "        columns={\n",
    "            \"dlrcalltrk_lad\": \"phone\",\n",
    "            \"State\": \"state\",\n",
    "            \"Street1\": \"street\",\n",
    "            \"PostalCode\": \"zip\",\n",
    "            \"City\": \"city\",\n",
    "        }\n",
    "    )\n",
    "    .copy()\n",
    ")"
   ]
  },
  {
   "cell_type": "code",
   "execution_count": 77,
   "id": "b9b46f1e-72a0-40d4-867f-b336b0ec1b73",
   "metadata": {},
   "outputs": [
    {
     "data": {
      "text/html": [
       "<div>\n",
       "<style scoped>\n",
       "    .dataframe tbody tr th:only-of-type {\n",
       "        vertical-align: middle;\n",
       "    }\n",
       "\n",
       "    .dataframe tbody tr th {\n",
       "        vertical-align: top;\n",
       "    }\n",
       "\n",
       "    .dataframe thead th {\n",
       "        text-align: right;\n",
       "    }\n",
       "</style>\n",
       "<table border=\"1\" class=\"dataframe\">\n",
       "  <thead>\n",
       "    <tr style=\"text-align: right;\">\n",
       "      <th></th>\n",
       "      <th>name</th>\n",
       "      <th>latitude</th>\n",
       "      <th>phone</th>\n",
       "      <th>longitude</th>\n",
       "      <th>url</th>\n",
       "      <th>phone</th>\n",
       "      <th>street</th>\n",
       "      <th>state</th>\n",
       "      <th>zip</th>\n",
       "      <th>city</th>\n",
       "    </tr>\n",
       "  </thead>\n",
       "  <tbody>\n",
       "    <tr>\n",
       "      <th>0</th>\n",
       "      <td>Rob Sight Ford</td>\n",
       "      <td>38.87598</td>\n",
       "      <td>(816) 477-7558</td>\n",
       "      <td>-94.602955</td>\n",
       "      <td>https://www.robsightfordkc.com</td>\n",
       "      <td>(816) 941-1200</td>\n",
       "      <td>13901 Washington Street</td>\n",
       "      <td>MO</td>\n",
       "      <td>64145</td>\n",
       "      <td>Kansas City</td>\n",
       "    </tr>\n",
       "    <tr>\n",
       "      <th>1</th>\n",
       "      <td>Bob Sight Ford Inc</td>\n",
       "      <td>38.92455</td>\n",
       "      <td>(816) 477-5711</td>\n",
       "      <td>-94.402551</td>\n",
       "      <td>https://www.bobsightford.com</td>\n",
       "      <td>(816) 524-6550</td>\n",
       "      <td>610 NW Blue Parkway</td>\n",
       "      <td>MO</td>\n",
       "      <td>64063</td>\n",
       "      <td>Lees Summit</td>\n",
       "    </tr>\n",
       "    <tr>\n",
       "      <th>2</th>\n",
       "      <td>Greenway Ford</td>\n",
       "      <td>38.991501</td>\n",
       "      <td>(816) 607-9029</td>\n",
       "      <td>-94.46931</td>\n",
       "      <td>https://www.greenwayfordraytown.net</td>\n",
       "      <td>(816) 353-1495</td>\n",
       "      <td>9505 E 350 Hwy</td>\n",
       "      <td>MO</td>\n",
       "      <td>64133</td>\n",
       "      <td>Raytown</td>\n",
       "    </tr>\n",
       "    <tr>\n",
       "      <th>3</th>\n",
       "      <td>Bob Allen Ford, Inc.</td>\n",
       "      <td>38.961028</td>\n",
       "      <td>(816) 477-7574</td>\n",
       "      <td>-94.667414</td>\n",
       "      <td>https://www.boballenonline.com</td>\n",
       "      <td>(913) 381-3000</td>\n",
       "      <td>9239 Metcalf Ave</td>\n",
       "      <td>KS</td>\n",
       "      <td>66212</td>\n",
       "      <td>Overland Park</td>\n",
       "    </tr>\n",
       "    <tr>\n",
       "      <th>4</th>\n",
       "      <td>Shawnee Mission Ford</td>\n",
       "      <td>39.014401</td>\n",
       "      <td>(816) 477-5041</td>\n",
       "      <td>-94.71972</td>\n",
       "      <td>https://www.shawneemissionford.com</td>\n",
       "      <td>(913) 631-0000</td>\n",
       "      <td>11501 W. Shawnee Mission Pkwy</td>\n",
       "      <td>KS</td>\n",
       "      <td>66203</td>\n",
       "      <td>Shawnee</td>\n",
       "    </tr>\n",
       "  </tbody>\n",
       "</table>\n",
       "</div>"
      ],
      "text/plain": [
       "                   name   latitude           phone   longitude  \\\n",
       "0        Rob Sight Ford   38.87598  (816) 477-7558  -94.602955   \n",
       "1    Bob Sight Ford Inc   38.92455  (816) 477-5711  -94.402551   \n",
       "2         Greenway Ford  38.991501  (816) 607-9029   -94.46931   \n",
       "3  Bob Allen Ford, Inc.  38.961028  (816) 477-7574  -94.667414   \n",
       "4  Shawnee Mission Ford  39.014401  (816) 477-5041   -94.71972   \n",
       "\n",
       "                                   url           phone  \\\n",
       "0       https://www.robsightfordkc.com  (816) 941-1200   \n",
       "1         https://www.bobsightford.com  (816) 524-6550   \n",
       "2  https://www.greenwayfordraytown.net  (816) 353-1495   \n",
       "3       https://www.boballenonline.com  (913) 381-3000   \n",
       "4   https://www.shawneemissionford.com  (913) 631-0000   \n",
       "\n",
       "                          street state    zip           city  \n",
       "0        13901 Washington Street    MO  64145    Kansas City  \n",
       "1            610 NW Blue Parkway    MO  64063    Lees Summit  \n",
       "2                 9505 E 350 Hwy    MO  64133        Raytown  \n",
       "3               9239 Metcalf Ave    KS  66212  Overland Park  \n",
       "4  11501 W. Shawnee Mission Pkwy    KS  66203        Shawnee  "
      ]
     },
     "execution_count": 77,
     "metadata": {},
     "output_type": "execute_result"
    }
   ],
   "source": [
    "df.head()"
   ]
  },
  {
   "cell_type": "code",
   "execution_count": 78,
   "id": "7ec05904-f7bb-4051-ae5f-ee6aa7220732",
   "metadata": {},
   "outputs": [
    {
     "data": {
      "text/plain": [
       "100"
      ]
     },
     "execution_count": 78,
     "metadata": {},
     "output_type": "execute_result"
    }
   ],
   "source": [
    "len(df)"
   ]
  }
 ],
 "metadata": {
  "kernelspec": {
   "display_name": "Python 3 (ipykernel)",
   "language": "python",
   "name": "python3"
  },
  "language_info": {
   "codemirror_mode": {
    "name": "ipython",
    "version": 3
   },
   "file_extension": ".py",
   "mimetype": "text/x-python",
   "name": "python",
   "nbconvert_exporter": "python",
   "pygments_lexer": "ipython3",
   "version": "3.9.15"
  }
 },
 "nbformat": 4,
 "nbformat_minor": 5
}
