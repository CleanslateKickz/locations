{
 "cells": [
  {
   "cell_type": "markdown",
   "id": "0fdd4e16-e062-4146-9c40-05a340ecc972",
   "metadata": {},
   "source": [
    "# Get Ford dealer locations"
   ]
  },
  {
   "cell_type": "markdown",
   "id": "2cd6a4cf-3892-4cc9-97de-84f87dc86d7d",
   "metadata": {},
   "source": [
    "#### Load Python tools and Jupyter config"
   ]
  },
  {
   "cell_type": "code",
   "execution_count": 1,
   "id": "c3b1c77c-b670-495b-aca3-e14b06448d51",
   "metadata": {},
   "outputs": [],
   "source": [
    "import us\n",
    "import json\n",
    "import requests\n",
    "import pandas as pd\n",
    "import jupyter_black\n",
    "import altair as alt\n",
    "import geopandas as gpd\n",
    "from bs4 import BeautifulSoup\n",
    "from vega_datasets import data\n",
    "from tqdm.notebook import tqdm, trange"
   ]
  },
  {
   "cell_type": "code",
   "execution_count": 45,
   "id": "67f355b0-89f6-4cad-91c2-ca01fe84f2d7",
   "metadata": {},
   "outputs": [],
   "source": [
    "headers = {\n",
    "    'authority': 'liveapi.yext.com',\n",
    "    'accept': 'application/json, text/plain, */*',\n",
    "    'accept-language': 'en-US,en;q=0.9,es;q=0.8',\n",
    "    'origin': 'https://www.autozone.com',\n",
    "    'referer': 'https://www.autozone.com/',\n",
    "    'sec-ch-ua': '\"Chromium\";v=\"122\", \"Not(A:Brand\";v=\"24\", \"Google Chrome\";v=\"122\"',\n",
    "    'sec-ch-ua-mobile': '?0',\n",
    "    'sec-ch-ua-platform': '\"macOS\"',\n",
    "    'sec-fetch-dest': 'empty',\n",
    "    'sec-fetch-mode': 'cors',\n",
    "    'sec-fetch-site': 'cross-site',\n",
    "    'user-agent': 'Mozilla/5.0 (Macintosh; Intel Mac OS X 10_15_7) AppleWebKit/537.36 (KHTML, like Gecko) Chrome/122.0.0.0 Safari/537.36',\n",
    "    'x-requested-by': 'MF',\n",
    "}\n",
    "\n",
    "params = {\n",
    "    'location': '90066',\n",
    "    'api_key': 'a427dc0cb3e4f080da0ebe74621b8020',\n",
    "    'v': '20180731',\n",
    "    'radius': '500',\n",
    "    'filters': '[{\"countryCode\":{\"includes\":[\"US\",\"PR\",\"VI\"]}}]',\n",
    "    'offset':10\n",
    "}\n",
    "\n",
    "response = requests.get('https://liveapi.yext.com/v2/accounts/me/locations/geosearch', params=params, headers=headers)"
   ]
  },
  {
   "cell_type": "code",
   "execution_count": 46,
   "id": "074e8f4b-671a-4689-a309-1a47e1790476",
   "metadata": {},
   "outputs": [
    {
     "data": {
      "text/plain": [
       "898"
      ]
     },
     "execution_count": 46,
     "metadata": {},
     "output_type": "execute_result"
    }
   ],
   "source": [
    "count = response.json()['response']['count']\n",
    "count"
   ]
  },
  {
   "cell_type": "code",
   "execution_count": 47,
   "id": "508efcc9-a7aa-46b5-bcff-102a9659b378",
   "metadata": {},
   "outputs": [],
   "source": [
    "src = pd.DataFrame(response.json()['response']['locations'])"
   ]
  },
  {
   "cell_type": "code",
   "execution_count": 48,
   "id": "3e4e696e-bb85-4def-bc58-0d597bf8c706",
   "metadata": {},
   "outputs": [
    {
     "data": {
      "text/plain": [
       "10"
      ]
     },
     "execution_count": 48,
     "metadata": {},
     "output_type": "execute_result"
    }
   ],
   "source": [
    "len(src)"
   ]
  },
  {
   "cell_type": "code",
   "execution_count": 49,
   "id": "87acd95f-3669-441d-bb04-fbe1198a3619",
   "metadata": {},
   "outputs": [
    {
     "data": {
      "text/plain": [
       "0         3102 Century Blvd\n",
       "1       1905 Western Ave #2\n",
       "2           1401 W Florence\n",
       "3       2876 W Imperial Hwy\n",
       "4      13765 Hawthorne Blvd\n",
       "5        1306-13 Highland A\n",
       "6        2907 S Vermont Ave\n",
       "7     1250 S Vermont Ave #1\n",
       "8    1325 W Washington Blvd\n",
       "9    5852 Santa Monica Blvd\n",
       "Name: address, dtype: object"
      ]
     },
     "execution_count": 49,
     "metadata": {},
     "output_type": "execute_result"
    }
   ],
   "source": [
    "src['address']"
   ]
  },
  {
   "cell_type": "code",
   "execution_count": null,
   "id": "5c2fa872-f335-4bea-93e0-c835a28d5821",
   "metadata": {},
   "outputs": [],
   "source": []
  }
 ],
 "metadata": {
  "kernelspec": {
   "display_name": "Python 3 (ipykernel)",
   "language": "python",
   "name": "python3"
  },
  "language_info": {
   "codemirror_mode": {
    "name": "ipython",
    "version": 3
   },
   "file_extension": ".py",
   "mimetype": "text/x-python",
   "name": "python",
   "nbconvert_exporter": "python",
   "pygments_lexer": "ipython3",
   "version": "3.9.15"
  }
 },
 "nbformat": 4,
 "nbformat_minor": 5
}
