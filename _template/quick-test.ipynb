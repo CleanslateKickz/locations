{
 "cells": [
  {
   "cell_type": "markdown",
   "id": "0fdd4e16-e062-4146-9c40-05a340ecc972",
   "metadata": {},
   "source": [
    "# Get XyXy locations"
   ]
  },
  {
   "cell_type": "markdown",
   "id": "2cd6a4cf-3892-4cc9-97de-84f87dc86d7d",
   "metadata": {},
   "source": [
    "#### Load Python tools and Jupyter config"
   ]
  },
  {
   "cell_type": "code",
   "execution_count": 1,
   "id": "c3b1c77c-b670-495b-aca3-e14b06448d51",
   "metadata": {},
   "outputs": [],
   "source": [
    "import us \n",
    "import json\n",
    "import black\n",
    "import requests\n",
    "import pandas as pd\n",
    "import jupyter_black\n",
    "import altair as alt\n",
    "import geopandas as gpd\n",
    "from bs4 import BeautifulSoup\n",
    "from vega_datasets import data\n",
    "from tqdm.notebook import tqdm, trange"
   ]
  },
  {
   "cell_type": "code",
   "execution_count": 2,
   "id": "3ef9eefb-2887-4a07-995d-eb12d1dd251d",
   "metadata": {},
   "outputs": [
    {
     "data": {
      "text/html": [
       "\n",
       "                <script type=\"application/javascript\" id=\"jupyter_black\">\n",
       "                (function() {\n",
       "                    if (window.IPython === undefined) {\n",
       "                        return\n",
       "                    }\n",
       "                    var msg = \"WARNING: it looks like you might have loaded \" +\n",
       "                        \"jupyter_black in a non-lab notebook with \" +\n",
       "                        \"`is_lab=True`. Please double check, and if \" +\n",
       "                        \"loading with `%load_ext` please review the README!\"\n",
       "                    console.log(msg)\n",
       "                    alert(msg)\n",
       "                })()\n",
       "                </script>\n",
       "                "
      ],
      "text/plain": [
       "<IPython.core.display.HTML object>"
      ]
     },
     "metadata": {},
     "output_type": "display_data"
    }
   ],
   "source": [
    "jupyter_black.load()\n",
    "pd.options.display.max_columns = 100\n",
    "pd.options.display.max_rows = 1000\n",
    "pd.options.display.max_colwidth = None\n",
    "alt.data_transformers.disable_max_rows()"
   ]
  },
  {
   "cell_type": "code",
   "execution_count": 3,
   "id": "ac5ec9e2-d2b4-48ea-ad76-2d0b3049c7a0",
   "metadata": {},
   "outputs": [],
   "source": [
    "place = \"XYXYXYXY\"\n",
    "place_formal = \"XYXYXYXY\"\n",
    "color = \"#______\"\n",
    "latitude = \"39.106667\"\n",
    "longitude = \"-94.676392\""
   ]
  },
  {
   "cell_type": "markdown",
   "id": "47292330-f313-4aee-bb9c-590ea8a10a42",
   "metadata": {},
   "source": [
    "## Scrape"
   ]
  },
  {
   "cell_type": "markdown",
   "id": "4bbf307f-5a9c-418d-8297-dbec0a089afb",
   "metadata": {},
   "source": [
    "#### Headers for the request"
   ]
  },
  {
   "cell_type": "code",
   "execution_count": 4,
   "id": "50ea20c9-c865-4d6c-9100-a05992071c99",
   "metadata": {},
   "outputs": [],
   "source": [
    "headers = {\n",
    "    \"sec-ch-ua\": '\"Chromium\";v=\"122\", \"Not(A:Brand\";v=\"24\", \"Google Chrome\";v=\"122\"',\n",
    "    \"x-forter-token\": \"5ad4acbee61a4c2cb93c7b44f4bc1ca6_1709437039163__UDF43-m4_13ck_tt\",\n",
    "    \"User-Agent\": \"Mozilla/5.0 (Macintosh; Intel Mac OS X 10_15_7) AppleWebKit/537.36 (KHTML, like Gecko) Chrome/122.0.0.0 Safari/537.36\",\n",
    "}"
   ]
  },
  {
   "cell_type": "markdown",
   "id": "48f17ef9-6bad-4d65-99f0-e6968d9c6727",
   "metadata": {},
   "source": [
    "#### Import the county's largest ZIP Codes and ensure they have five digits"
   ]
  },
  {
   "cell_type": "code",
   "execution_count": 5,
   "id": "bcf3864b-3455-4296-8f60-b24fc44524d1",
   "metadata": {},
   "outputs": [],
   "source": [
    "zips = (\n",
    "    pd.read_json(\"../_reference/data/zip_code_demographics_esri.json\")\n",
    "    .query(\"population > 5000\")\n",
    "    .sort_values(\"population\", ascending=False)\n",
    "    .reset_index(drop=True)\n",
    ")\n",
    "zips[\"zipcode\"] = zips[\"zipcode\"].astype(str).str.zfill(5)"
   ]
  },
  {
   "cell_type": "markdown",
   "id": "875abc19-16e0-4ac9-8811-e2d4629ecde7",
   "metadata": {},
   "source": [
    "#### Get a list of ZIP Codes"
   ]
  },
  {
   "cell_type": "code",
   "execution_count": 6,
   "id": "1b7b7c21-1def-452a-918a-326e6ac4c071",
   "metadata": {},
   "outputs": [],
   "source": [
    "top = zips.head(500)\n",
    "bottom = zips.tail(100)\n",
    "zipcodes_df = pd.concat([top, bottom])"
   ]
  },
  {
   "cell_type": "code",
   "execution_count": 7,
   "id": "345dfdea-db4c-49cf-bf77-46dfba0511b3",
   "metadata": {},
   "outputs": [
    {
     "data": {
      "text/html": [
       "<div>\n",
       "<style scoped>\n",
       "    .dataframe tbody tr th:only-of-type {\n",
       "        vertical-align: middle;\n",
       "    }\n",
       "\n",
       "    .dataframe tbody tr th {\n",
       "        vertical-align: top;\n",
       "    }\n",
       "\n",
       "    .dataframe thead th {\n",
       "        text-align: right;\n",
       "    }\n",
       "</style>\n",
       "<table border=\"1\" class=\"dataframe\">\n",
       "  <thead>\n",
       "    <tr style=\"text-align: right;\">\n",
       "      <th></th>\n",
       "      <th>zipcode</th>\n",
       "      <th>name</th>\n",
       "      <th>state_name</th>\n",
       "      <th>state</th>\n",
       "      <th>population</th>\n",
       "      <th>population_sqmi</th>\n",
       "      <th>households</th>\n",
       "      <th>avg_hh_size</th>\n",
       "      <th>med_hh_income</th>\n",
       "      <th>avg_hh_income</th>\n",
       "      <th>per_cap_income</th>\n",
       "      <th>diversity_index</th>\n",
       "      <th>area_meters</th>\n",
       "      <th>latitude</th>\n",
       "      <th>longitude</th>\n",
       "    </tr>\n",
       "  </thead>\n",
       "  <tbody>\n",
       "    <tr>\n",
       "      <th>0</th>\n",
       "      <td>77494</td>\n",
       "      <td>Katy</td>\n",
       "      <td>Texas</td>\n",
       "      <td>TX</td>\n",
       "      <td>163194.0</td>\n",
       "      <td>4061.9</td>\n",
       "      <td>49704.0</td>\n",
       "      <td>3.28</td>\n",
       "      <td>134912.0</td>\n",
       "      <td>172134.0</td>\n",
       "      <td>52497.0</td>\n",
       "      <td>74.9</td>\n",
       "      <td>138683779.5</td>\n",
       "      <td>29.744751</td>\n",
       "      <td>-95.826242</td>\n",
       "    </tr>\n",
       "    <tr>\n",
       "      <th>1</th>\n",
       "      <td>77449</td>\n",
       "      <td>Katy</td>\n",
       "      <td>Texas</td>\n",
       "      <td>TX</td>\n",
       "      <td>134540.0</td>\n",
       "      <td>4989.9</td>\n",
       "      <td>38237.0</td>\n",
       "      <td>3.52</td>\n",
       "      <td>78096.0</td>\n",
       "      <td>95889.0</td>\n",
       "      <td>27292.0</td>\n",
       "      <td>84.7</td>\n",
       "      <td>92847306.5</td>\n",
       "      <td>29.836113</td>\n",
       "      <td>-95.737685</td>\n",
       "    </tr>\n",
       "    <tr>\n",
       "      <th>2</th>\n",
       "      <td>75070</td>\n",
       "      <td>Mckinney</td>\n",
       "      <td>Texas</td>\n",
       "      <td>TX</td>\n",
       "      <td>123055.0</td>\n",
       "      <td>4960.6</td>\n",
       "      <td>42898.0</td>\n",
       "      <td>2.87</td>\n",
       "      <td>108330.0</td>\n",
       "      <td>135167.0</td>\n",
       "      <td>47167.0</td>\n",
       "      <td>61.7</td>\n",
       "      <td>91997310.5</td>\n",
       "      <td>33.172003</td>\n",
       "      <td>-96.697770</td>\n",
       "    </tr>\n",
       "    <tr>\n",
       "      <th>3</th>\n",
       "      <td>11368</td>\n",
       "      <td>Corona</td>\n",
       "      <td>New York</td>\n",
       "      <td>NY</td>\n",
       "      <td>121409.0</td>\n",
       "      <td>58176.7</td>\n",
       "      <td>30724.0</td>\n",
       "      <td>3.92</td>\n",
       "      <td>53498.0</td>\n",
       "      <td>73033.0</td>\n",
       "      <td>18735.0</td>\n",
       "      <td>92.8</td>\n",
       "      <td>9379884.5</td>\n",
       "      <td>40.749593</td>\n",
       "      <td>-73.855624</td>\n",
       "    </tr>\n",
       "    <tr>\n",
       "      <th>4</th>\n",
       "      <td>77084</td>\n",
       "      <td>Houston</td>\n",
       "      <td>Texas</td>\n",
       "      <td>TX</td>\n",
       "      <td>121112.0</td>\n",
       "      <td>3000.4</td>\n",
       "      <td>39290.0</td>\n",
       "      <td>3.08</td>\n",
       "      <td>76385.0</td>\n",
       "      <td>101532.0</td>\n",
       "      <td>32945.0</td>\n",
       "      <td>85.1</td>\n",
       "      <td>139323192.0</td>\n",
       "      <td>29.826236</td>\n",
       "      <td>-95.648321</td>\n",
       "    </tr>\n",
       "  </tbody>\n",
       "</table>\n",
       "</div>"
      ],
      "text/plain": [
       "  zipcode      name state_name state  population  population_sqmi  households  \\\n",
       "0   77494      Katy      Texas    TX    163194.0           4061.9     49704.0   \n",
       "1   77449      Katy      Texas    TX    134540.0           4989.9     38237.0   \n",
       "2   75070  Mckinney      Texas    TX    123055.0           4960.6     42898.0   \n",
       "3   11368    Corona   New York    NY    121409.0          58176.7     30724.0   \n",
       "4   77084   Houston      Texas    TX    121112.0           3000.4     39290.0   \n",
       "\n",
       "   avg_hh_size  med_hh_income  avg_hh_income  per_cap_income  diversity_index  \\\n",
       "0         3.28       134912.0       172134.0         52497.0             74.9   \n",
       "1         3.52        78096.0        95889.0         27292.0             84.7   \n",
       "2         2.87       108330.0       135167.0         47167.0             61.7   \n",
       "3         3.92        53498.0        73033.0         18735.0             92.8   \n",
       "4         3.08        76385.0       101532.0         32945.0             85.1   \n",
       "\n",
       "   area_meters   latitude  longitude  \n",
       "0  138683779.5  29.744751 -95.826242  \n",
       "1   92847306.5  29.836113 -95.737685  \n",
       "2   91997310.5  33.172003 -96.697770  \n",
       "3    9379884.5  40.749593 -73.855624  \n",
       "4  139323192.0  29.826236 -95.648321  "
      ]
     },
     "execution_count": 7,
     "metadata": {},
     "output_type": "execute_result"
    }
   ],
   "source": [
    "zipcodes_df.head()"
   ]
  },
  {
   "cell_type": "markdown",
   "id": "70c799af-d3be-4577-96fa-ba056f433607",
   "metadata": {},
   "source": [
    "#### All the locations"
   ]
  },
  {
   "cell_type": "code",
   "execution_count": null,
   "id": "7276481b-8db7-4a59-9264-7597e72470a6",
   "metadata": {},
   "outputs": [
    {
     "data": {
      "application/vnd.jupyter.widget-view+json": {
       "model_id": "a9a41cb733854dd1a82baba94fed3515",
       "version_major": 2,
       "version_minor": 0
      },
      "text/plain": [
       "  0%|          | 0/600 [00:00<?, ?it/s]"
      ]
     },
     "metadata": {},
     "output_type": "display_data"
    }
   ],
   "source": [
    "response_list = []\n",
    "\n",
    "for k, v in tqdm(zipcodes_df.iterrows(), total=zipcodes_df.shape[0]):\n",
    "    latitude = v[\"latitude\"]\n",
    "    longitude = v[\"longitude\"]\n",
    "\n",
    "    params = {\n",
    "        \"operationName\": \"GetRestaurantsV2\",\n",
    "        \"variables\": f'{{\"input\":{{\"filter\":\"NEARBY\",\"coordinates\":{{\"userLat\":{latitude},\"userLng\":{longitude},\"searchRadius\":528000}},\"first\":1000,\"status\":\"OPEN\"}}}}',\n",
    "        \"extensions\": '{\"persistedQuery\":{\"version\":1,\"sha256Hash\":\"05c231a96351360e01af3a4159a83ff551d5d37e9743b1b78cb2885682e7cc60\"}}',\n",
    "    }\n",
    "\n",
    "    response = requests.get(\n",
    "        \"https://use1-prod-plk-gateway.rbictg.com/graphql\",\n",
    "        params=params,\n",
    "        headers=headers,\n",
    "    ).json()[\"data\"][\"restaurants\"][\"nodes\"]\n",
    "\n",
    "    src = pd.DataFrame(response)\n",
    "\n",
    "    response_list.append(src)"
   ]
  },
  {
   "cell_type": "code",
   "execution_count": null,
   "id": "b01fa1d7-b12f-48e0-b8ae-4af4ad9bab55",
   "metadata": {},
   "outputs": [],
   "source": [
    "src_df = pd.concat(response_list).reset_index(drop=True)"
   ]
  },
  {
   "cell_type": "code",
   "execution_count": null,
   "id": "b2912468-da03-4df9-b0c0-98ef5e0b8e01",
   "metadata": {},
   "outputs": [],
   "source": [
    "src_df[\n",
    "    [\n",
    "        \"address1\",\n",
    "        \"address2\",\n",
    "        \"city\",\n",
    "        \"country\",\n",
    "        \"postalCode\",\n",
    "        \"stateProvince\",\n",
    "        \"stateProvinceShort\",\n",
    "        \"__typename\",\n",
    "    ]\n",
    "] = pd.json_normalize(src[\"physicalAddress\"])"
   ]
  },
  {
   "cell_type": "code",
   "execution_count": null,
   "id": "e3020b94-9034-46ea-90a9-5fed9c35f845",
   "metadata": {},
   "outputs": [],
   "source": [
    "df = src_df[\n",
    "    [\n",
    "        \"number\",\n",
    "        \"email\",\n",
    "        \"address1\",\n",
    "        \"city\",\n",
    "        \"postalCode\",\n",
    "        \"stateProvince\",\n",
    "        \"phoneNumber\",\n",
    "        \"latitude\",\n",
    "        \"longitude\",\n",
    "    ]\n",
    "].rename(columns={'address1':'street', 'postalCode':'zip', 'phoneNumber':'phone', 'stateProvince':'state'}).copy()"
   ]
  },
  {
   "cell_type": "markdown",
   "id": "1b0134b9-0b53-41ae-a498-891b729ac265",
   "metadata": {},
   "source": [
    "#### Create a mapping of state abbreviations to full state names using the us library"
   ]
  },
  {
   "cell_type": "code",
   "execution_count": null,
   "id": "18485bc1-ac20-4715-b117-2ffc36a4de10",
   "metadata": {},
   "outputs": [],
   "source": [
    "state_mapping = {state.abbr: state.name for state in us.states.STATES}"
   ]
  },
  {
   "cell_type": "markdown",
   "id": "02a07567-2cda-40d0-a1db-9f51fdb03a67",
   "metadata": {},
   "source": [
    "#### New column of full state names based on abbreviations"
   ]
  },
  {
   "cell_type": "code",
   "execution_count": null,
   "id": "5d7c356a-a44b-4b86-aaf9-4db2a05cb3e9",
   "metadata": {},
   "outputs": [],
   "source": [
    "df[\"state_name\"] = df[\"state\"].map(state_mapping)"
   ]
  },
  {
   "cell_type": "markdown",
   "id": "ef406bd4-65b5-4f26-8404-051b13a83585",
   "metadata": {},
   "source": [
    "#### Make sure our brand name gets in the dataframe"
   ]
  },
  {
   "cell_type": "code",
   "execution_count": null,
   "id": "d447d483-318e-45a8-962d-221b8ec1982f",
   "metadata": {},
   "outputs": [],
   "source": [
    "df['brand'] = place_formal"
   ]
  },
  {
   "cell_type": "markdown",
   "id": "e836582d-ef21-4876-bfc3-f8298a077b3c",
   "metadata": {},
   "source": [
    "---"
   ]
  },
  {
   "cell_type": "markdown",
   "id": "e9398ab6-73bc-421d-ab31-2e0b625fe541",
   "metadata": {},
   "source": [
    "## Geography"
   ]
  },
  {
   "cell_type": "markdown",
   "id": "2aa8f487-ab80-4d32-84df-651304cd9523",
   "metadata": {},
   "source": [
    "#### Make it a geodataframe"
   ]
  },
  {
   "cell_type": "code",
   "execution_count": null,
   "id": "920e5fe7-a6fd-4a10-97f0-c1dd0b7bef72",
   "metadata": {},
   "outputs": [],
   "source": [
    "df_geo = df.copy()"
   ]
  },
  {
   "cell_type": "code",
   "execution_count": null,
   "id": "4072e19f-2567-427d-82d5-2c8a925278da",
   "metadata": {},
   "outputs": [],
   "source": [
    "gdf = gpd.GeoDataFrame(\n",
    "    df_geo, geometry=gpd.points_from_xy(df_geo.longitude, df_geo.latitude)\n",
    ")"
   ]
  },
  {
   "cell_type": "markdown",
   "id": "67db45d5-afdf-4347-a2a0-da8aa3728779",
   "metadata": {},
   "source": [
    "---"
   ]
  },
  {
   "cell_type": "markdown",
   "id": "b3c311f9-dd29-4524-8932-67858cd3cec0",
   "metadata": {},
   "source": [
    "## Maps"
   ]
  },
  {
   "cell_type": "markdown",
   "id": "93b0579e-620d-4a08-afd8-ad489be0557e",
   "metadata": {},
   "source": [
    "#### US states background"
   ]
  },
  {
   "cell_type": "code",
   "execution_count": null,
   "id": "95c369d7-8a64-4f49-a05f-79c444cf4e28",
   "metadata": {},
   "outputs": [],
   "source": [
    "background = (\n",
    "    alt.Chart(alt.topo_feature(data.us_10m.url, feature=\"states\"))\n",
    "    .mark_geoshape(fill=\"#e9e9e9\", stroke=\"white\")\n",
    "    .properties(width=800, height=500, title=f\"{place_formal} locations\")\n",
    "    .project(\"albersUsa\")\n",
    ")"
   ]
  },
  {
   "cell_type": "markdown",
   "id": "a914fc11-a8c6-49d1-96d2-8b5f83b01cc7",
   "metadata": {},
   "source": [
    "#### Location points map"
   ]
  },
  {
   "cell_type": "code",
   "execution_count": null,
   "id": "b624cc2f-c724-4849-9a4b-761258a3f8ad",
   "metadata": {},
   "outputs": [],
   "source": [
    "points = (\n",
    "    alt.Chart(gdf)\n",
    "    .mark_circle(size=5, color=color)\n",
    "    .encode(\n",
    "        longitude=\"longitude:Q\",\n",
    "        latitude=\"latitude:Q\",\n",
    "    )\n",
    ")\n",
    "\n",
    "point_map = background + points\n",
    "point_map.configure_view(stroke=None)"
   ]
  },
  {
   "cell_type": "markdown",
   "id": "0a1fbe27-c0ed-4536-822f-ff6d64d9a78a",
   "metadata": {},
   "source": [
    "#### Location proportional symbols map"
   ]
  },
  {
   "cell_type": "code",
   "execution_count": null,
   "id": "6cdad978-98db-4088-9286-662c92824fd5",
   "metadata": {},
   "outputs": [],
   "source": [
    "symbols = (\n",
    "    alt.Chart(gdf)\n",
    "    .transform_aggregate(\n",
    "        latitude=\"mean(latitude)\",\n",
    "        longitude=\"mean(longitude)\",\n",
    "        count=\"count()\",\n",
    "        groupby=[\"state\"],\n",
    "    )\n",
    "    .mark_circle()\n",
    "    .encode(\n",
    "        longitude=\"longitude:Q\",\n",
    "        latitude=\"latitude:Q\",\n",
    "        size=alt.Size(\"count:Q\", title=\"Count by state\"),\n",
    "        color=alt.value(color),\n",
    "        tooltip=[\"state:N\", \"count:Q\"],\n",
    "    )\n",
    "    .properties(\n",
    "        title=f\"Number of {place_formal} in US, by average lon/lat of locations\"\n",
    "    )\n",
    ")\n",
    "\n",
    "symbol_map = background + symbols\n",
    "symbol_map.configure_view(stroke=None)"
   ]
  },
  {
   "cell_type": "markdown",
   "id": "15b9c879-2480-49f4-99e7-6adc1a4c10aa",
   "metadata": {},
   "source": [
    "---"
   ]
  },
  {
   "cell_type": "markdown",
   "id": "41af18db-4aeb-4259-a7c1-b52471eb8693",
   "metadata": {},
   "source": [
    "## Exports"
   ]
  },
  {
   "cell_type": "markdown",
   "id": "e3831fb4-1062-4cab-9730-933ff07e01f0",
   "metadata": {},
   "source": [
    "#### JSON"
   ]
  },
  {
   "cell_type": "code",
   "execution_count": null,
   "id": "e1e78a42-ba8a-49aa-a699-58e33fa204d0",
   "metadata": {},
   "outputs": [],
   "source": [
    "df.to_json(\n",
    "    f\"data/processed/{place.lower().replace(' ', '_')}_locations.json\",\n",
    "    indent=4,\n",
    "    orient=\"records\",\n",
    ")"
   ]
  },
  {
   "cell_type": "markdown",
   "id": "d737f808-9d71-4f25-8cd1-3fcedc45ab63",
   "metadata": {},
   "source": [
    "#### CSV"
   ]
  },
  {
   "cell_type": "code",
   "execution_count": null,
   "id": "0504831b-4df4-4ff2-bd26-f08ef7ca9198",
   "metadata": {},
   "outputs": [],
   "source": [
    "df.to_csv(\n",
    "    f\"data/processed/{place.lower().replace(' ', '_')}_locations.csv\", index=False\n",
    ")"
   ]
  },
  {
   "cell_type": "markdown",
   "id": "eb8769bc-1de1-40d0-9b7b-4892893606ee",
   "metadata": {},
   "source": [
    "#### GeoJSON"
   ]
  },
  {
   "cell_type": "code",
   "execution_count": null,
   "id": "3aaff910-d7a8-4b73-acdf-6b49e09bbe2f",
   "metadata": {},
   "outputs": [],
   "source": [
    "gdf.to_file(\n",
    "    f\"data/processed/{place.lower().replace(' ', '_')}_locations.geojson\",\n",
    "    driver=\"GeoJSON\",\n",
    ")"
   ]
  }
 ],
 "metadata": {
  "kernelspec": {
   "display_name": "Python 3 (ipykernel)",
   "language": "python",
   "name": "python3"
  },
  "language_info": {
   "codemirror_mode": {
    "name": "ipython",
    "version": 3
   },
   "file_extension": ".py",
   "mimetype": "text/x-python",
   "name": "python",
   "nbconvert_exporter": "python",
   "pygments_lexer": "ipython3",
   "version": "3.9.15"
  }
 },
 "nbformat": 4,
 "nbformat_minor": 5
}
